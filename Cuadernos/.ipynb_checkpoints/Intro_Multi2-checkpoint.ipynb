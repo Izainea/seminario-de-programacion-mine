{
 "cells": [
  {
   "cell_type": "markdown",
   "metadata": {
    "application/vnd.databricks.v1+cell": {
     "cellMetadata": {},
     "inputWidgets": {},
     "nuid": "3019ae53-4bd6-4729-a5d8-e3c375b3bd45",
     "showTitle": false,
     "title": ""
    },
    "toc": true
   },
   "source": [
    "<h1>Table of Contents<span class=\"tocSkip\"></span></h1>\n",
    "<div class=\"toc\"><ul class=\"toc-item\"><li><span><a href=\"#Importación-de-paquetes\" data-toc-modified-id=\"Importación-de-paquetes-1\"><span class=\"toc-item-num\">1&nbsp;&nbsp;</span>Importación de paquetes</a></span></li><li><span><a href=\"#Leemos-los-datos\" data-toc-modified-id=\"Leemos-los-datos-2\"><span class=\"toc-item-num\">2&nbsp;&nbsp;</span>Leemos los datos</a></span></li><li><span><a href=\"#Recomendaciones-para-la-exploración-de-datos\" data-toc-modified-id=\"Recomendaciones-para-la-exploración-de-datos-3\"><span class=\"toc-item-num\">3&nbsp;&nbsp;</span>Recomendaciones para la exploración de datos</a></span><ul class=\"toc-item\"><li><span><a href=\"#Cómo-está-la-información\" data-toc-modified-id=\"Cómo-está-la-información-3.1\"><span class=\"toc-item-num\">3.1&nbsp;&nbsp;</span>Cómo está la información</a></span></li><li><span><a href=\"#Valores-de-variables-cualitativas\" data-toc-modified-id=\"Valores-de-variables-cualitativas-3.2\"><span class=\"toc-item-num\">3.2&nbsp;&nbsp;</span>Valores de variables cualitativas</a></span></li><li><span><a href=\"#Estadísticos-fundamentales\" data-toc-modified-id=\"Estadísticos-fundamentales-3.3\"><span class=\"toc-item-num\">3.3&nbsp;&nbsp;</span>Estadísticos fundamentales</a></span></li><li><span><a href=\"#Empecemos-con-la-visualización\" data-toc-modified-id=\"Empecemos-con-la-visualización-3.4\"><span class=\"toc-item-num\">3.4&nbsp;&nbsp;</span>Empecemos con la visualización</a></span></li></ul></li><li><span><a href=\"#Comparar-Variables\" data-toc-modified-id=\"Comparar-Variables-4\"><span class=\"toc-item-num\">4&nbsp;&nbsp;</span>Comparar Variables</a></span></li><li><span><a href=\"#También-podemos-hacer-mapas\" data-toc-modified-id=\"También-podemos-hacer-mapas-5\"><span class=\"toc-item-num\">5&nbsp;&nbsp;</span>También podemos hacer mapas</a></span></li></ul></div>"
   ]
  },
  {
   "cell_type": "markdown",
   "metadata": {
    "application/vnd.databricks.v1+cell": {
     "cellMetadata": {},
     "inputWidgets": {},
     "nuid": "7d9dd48d-719b-4f85-8b31-4d05e85c38e1",
     "showTitle": false,
     "title": ""
    }
   },
   "source": [
    "# Comenzando una exploración de datos - Parte 1\n",
    "\n",
    "Una fase fundamental en la ciencia de datos es la exploración, en este proceso se reconocen variables relacionadas, algunas hipótesis empiezan a ser planteadas y se buscan algunas bases auxiliares.\n",
    "\n",
    "En el ejercicio del día de hoy vamos a iniciar el procesamiento de la base del SECOP II con la intención de brindarles algunas herramientas que puedan llegar a ser de utilidad en procesos posteriores."
   ]
  },
  {
   "cell_type": "markdown",
   "metadata": {
    "application/vnd.databricks.v1+cell": {
     "cellMetadata": {},
     "inputWidgets": {},
     "nuid": "e0a0b97c-653f-4748-a1ed-1b7542d120e8",
     "showTitle": false,
     "title": ""
    }
   },
   "source": [
    "## Importación de paquetes\n",
    "\n",
    "Siempre desde el inicio creamos una celda de importación paquetes. Si bien, más adelante es posible que importemos algo más, dejarlo aquí  permite una buena fluidez de trabajo y además nos facilita la creación de un archivo `.py`."
   ]
  },
  {
   "cell_type": "code",
   "execution_count": 0,
   "metadata": {
    "application/vnd.databricks.v1+cell": {
     "cellMetadata": {},
     "inputWidgets": {},
     "nuid": "08071156-be9d-4744-b632-b4c1db5278e9",
     "showTitle": false,
     "title": ""
    }
   },
   "outputs": [],
   "source": [
    "import numpy                 as np\n",
    "import pandas                as pd\n",
    "import matplotlib.pyplot     as plt\n",
    "import seaborn               as sns\n",
    "import sklearn.metrics       as Metrics\n",
    "from scipy import stats\n",
    "\n",
    "import plotly.express as px\n",
    "import plotly.graph_objects as go\n",
    "from ipywidgets import interact\n",
    "import ipywidgets as widgets\n",
    "\n",
    "%matplotlib inline\n",
    "sns.set()"
   ]
  },
  {
   "cell_type": "markdown",
   "metadata": {
    "application/vnd.databricks.v1+cell": {
     "cellMetadata": {},
     "inputWidgets": {},
     "nuid": "61c16cfc-f1f7-45a0-97b3-2361f461319b",
     "showTitle": false,
     "title": ""
    }
   },
   "source": [
    "## Leemos los datos\n",
    "Para este caso descargamos la base y la leemos de manera local, la base debe estar en el mismo directorio del cuaderno para llamarlo directamente."
   ]
  },
  {
   "cell_type": "code",
   "execution_count": 0,
   "metadata": {
    "application/vnd.databricks.v1+cell": {
     "cellMetadata": {},
     "inputWidgets": {},
     "nuid": "943ff44a-c23e-4c00-be81-3b84c0e8b816",
     "showTitle": false,
     "title": ""
    }
   },
   "outputs": [],
   "source": [
    "pd.options.display.float_format = '{:}'.format\n",
    "df = pd.read_csv('https://raw.githubusercontent.com/madcentral/metodosestadisticos/master/cuadernos/SECOP_muestra.csv')"
   ]
  },
  {
   "cell_type": "markdown",
   "metadata": {
    "application/vnd.databricks.v1+cell": {
     "cellMetadata": {},
     "inputWidgets": {},
     "nuid": "8efb54da-b450-4e01-8f66-c9e5325af9da",
     "showTitle": false,
     "title": ""
    }
   },
   "source": [
    "Utilizaremos una muestra para tener una clase fluida, sin embargo, con un poquito más de procesamiento Python puede procesar esta base de algo más de 700.000 registros."
   ]
  },
  {
   "cell_type": "code",
   "execution_count": 0,
   "metadata": {
    "application/vnd.databricks.v1+cell": {
     "cellMetadata": {},
     "inputWidgets": {},
     "nuid": "160b22f9-2303-4c4f-bbd7-b6c526b21ac1",
     "showTitle": false,
     "title": ""
    }
   },
   "outputs": [],
   "source": [
    "df.describe()"
   ]
  },
  {
   "cell_type": "code",
   "execution_count": 0,
   "metadata": {
    "application/vnd.databricks.v1+cell": {
     "cellMetadata": {},
     "inputWidgets": {},
     "nuid": "29d8109d-5f70-4d4d-835d-078bec377954",
     "showTitle": false,
     "title": ""
    }
   },
   "outputs": [],
   "source": [
    "df=df.reset_index(drop=True)\n",
    "df=df[df.columns[1:]]"
   ]
  },
  {
   "cell_type": "code",
   "execution_count": 0,
   "metadata": {
    "application/vnd.databricks.v1+cell": {
     "cellMetadata": {},
     "inputWidgets": {},
     "nuid": "7f629684-468b-438b-b992-07496fa9abe9",
     "showTitle": false,
     "title": ""
    }
   },
   "outputs": [],
   "source": [
    "df"
   ]
  },
  {
   "cell_type": "code",
   "execution_count": 0,
   "metadata": {
    "application/vnd.databricks.v1+cell": {
     "cellMetadata": {},
     "inputWidgets": {},
     "nuid": "2fc9b060-bd5f-4277-a891-01407bb530bc",
     "showTitle": false,
     "title": ""
    }
   },
   "outputs": [],
   "source": [
    "import plotly.graph_objects as go\n",
    "fig = go.Figure(data=go.Bar(y=[2, 3, 1]))\n",
    "fig.show()"
   ]
  },
  {
   "cell_type": "markdown",
   "metadata": {
    "application/vnd.databricks.v1+cell": {
     "cellMetadata": {},
     "inputWidgets": {},
     "nuid": "b4c09cec-5143-497f-8d2f-5c0fe29bc00d",
     "showTitle": false,
     "title": ""
    }
   },
   "source": [
    "## Recomendaciones para la exploración de datos\n",
    "\n",
    "1. En este caso es muy importante reconocer que usted no está creando un reporte, pues hasta ahora está conociendo y validando la información que tiene en su base. No tenga miedo de hacer gráficas que posteriormente desechará, pues usted no tiene claridad de donde está la información determinante para sus hpótesis o problemas.\n",
    "\n",
    "2. Las herramientas visuales son fundamentales, explore las diferentes galerias propuestas por los paquetes para tener una referencia en código de lo que se le ocurre hacer.\n",
    "\n",
    "    Ver:\n",
    "    - [Matplotlib](https://matplotlib.org/gallery/index.html)\n",
    "    - [Seaborn](https://seaborn.pydata.org/examples/index.html)\n",
    "    - [D3- Python Graph Gallery](https://python-graph-gallery.com/)\n",
    "    - [From Data To Viz](https://www.data-to-viz.com/)\n",
    "    - [Plotly Express](https://plotly.com/python/plotly-express/)\n",
    "    \n",
    "    \n",
    "3. En este ejemplo en particular necesitaremnos una base adicional para crear los mapas, identificar la información faltante y buscarla también hace parte de este proceso."
   ]
  },
  {
   "cell_type": "markdown",
   "metadata": {
    "application/vnd.databricks.v1+cell": {
     "cellMetadata": {},
     "inputWidgets": {},
     "nuid": "dac58a64-d3e3-4a65-9826-e00767e41925",
     "showTitle": false,
     "title": ""
    }
   },
   "source": [
    "### Cómo está la información\n",
    "\n",
    "Un primer paso en la exploración consiste en identificar la información a tratar. En este caso calculamos tamaños, buscamos información de las variables y visualizamos la disponibilidad de los datos."
   ]
  },
  {
   "cell_type": "code",
   "execution_count": 0,
   "metadata": {
    "application/vnd.databricks.v1+cell": {
     "cellMetadata": {},
     "inputWidgets": {},
     "nuid": "817a6369-b9a8-418c-ae56-ecc7e0eeec75",
     "showTitle": false,
     "title": ""
    }
   },
   "outputs": [],
   "source": [
    "df.shape"
   ]
  },
  {
   "cell_type": "code",
   "execution_count": 0,
   "metadata": {
    "application/vnd.databricks.v1+cell": {
     "cellMetadata": {},
     "inputWidgets": {},
     "nuid": "bb048a91-1189-4561-b57b-c93abb9737e3",
     "showTitle": false,
     "title": ""
    }
   },
   "outputs": [],
   "source": [
    "df['Orden'].value_counts()"
   ]
  },
  {
   "cell_type": "code",
   "execution_count": 0,
   "metadata": {
    "application/vnd.databricks.v1+cell": {
     "cellMetadata": {},
     "inputWidgets": {},
     "nuid": "bd5a9bb9-6622-43d1-8912-83599e4ffd2e",
     "showTitle": false,
     "title": ""
    }
   },
   "outputs": [],
   "source": [
    "df.Orden"
   ]
  },
  {
   "cell_type": "code",
   "execution_count": 0,
   "metadata": {
    "application/vnd.databricks.v1+cell": {
     "cellMetadata": {},
     "inputWidgets": {},
     "nuid": "3a54de36-c9fa-4b8c-8661-c0d8d4d928f0",
     "showTitle": false,
     "title": ""
    }
   },
   "outputs": [],
   "source": [
    "df.dtypes"
   ]
  },
  {
   "cell_type": "code",
   "execution_count": 0,
   "metadata": {
    "application/vnd.databricks.v1+cell": {
     "cellMetadata": {},
     "inputWidgets": {},
     "nuid": "e992f290-d01e-432d-af2a-1b76b7679571",
     "showTitle": false,
     "title": ""
    }
   },
   "outputs": [],
   "source": [
    "df.info(null_counts=None,)"
   ]
  },
  {
   "cell_type": "markdown",
   "metadata": {
    "application/vnd.databricks.v1+cell": {
     "cellMetadata": {},
     "inputWidgets": {},
     "nuid": "441e6719-9a96-456d-bb1e-31ef93398c92",
     "showTitle": false,
     "title": ""
    }
   },
   "source": [
    "Aunque el comando anterior permite contar la cantidad de NAN en cada columna, el siguiente gráfico nos permite visualizar la distribución de dichos datos pérdidos."
   ]
  },
  {
   "cell_type": "code",
   "execution_count": 0,
   "metadata": {
    "application/vnd.databricks.v1+cell": {
     "cellMetadata": {},
     "inputWidgets": {},
     "nuid": "9bcb3e09-be56-43a1-b6c8-18d9ae34eae6",
     "showTitle": false,
     "title": ""
    }
   },
   "outputs": [],
   "source": [
    "df.isnull()"
   ]
  },
  {
   "cell_type": "code",
   "execution_count": 0,
   "metadata": {
    "application/vnd.databricks.v1+cell": {
     "cellMetadata": {},
     "inputWidgets": {},
     "nuid": "0e91ed5a-9a42-41db-9936-66ae0214e846",
     "showTitle": false,
     "title": ""
    }
   },
   "outputs": [],
   "source": [
    "#Análisis de datos pérdidos\n",
    "fig, axs = plt.subplots(figsize=(20,16))\n",
    "sns.heatmap(df.isnull(), ax = axs)\n",
    "axs.set_xticklabels(df.columns, rotation=90);"
   ]
  },
  {
   "cell_type": "markdown",
   "metadata": {
    "application/vnd.databricks.v1+cell": {
     "cellMetadata": {},
     "inputWidgets": {},
     "nuid": "c702fe4d-95de-4e98-9a54-e77478e890d1",
     "showTitle": false,
     "title": ""
    }
   },
   "source": [
    "### Valores de variables cualitativas\n",
    "\n",
    "Usemos otro gráfico para determinar las categorías de las variables cualitativas:\n",
    "\n"
   ]
  },
  {
   "cell_type": "code",
   "execution_count": 0,
   "metadata": {
    "application/vnd.databricks.v1+cell": {
     "cellMetadata": {},
     "inputWidgets": {},
     "nuid": "a837cf0b-ecca-4101-9fc4-00552cd7af3c",
     "showTitle": false,
     "title": ""
    }
   },
   "outputs": [],
   "source": [
    "cualicolumns=df.select_dtypes(exclude=['int64','float64']).columns\n",
    "print(cualicolumns)\n",
    "Fechas=[i for i in cualicolumns if i.count('Fecha')>0]\n",
    "cualicolumns=[i for i in cualicolumns if i.count('Fecha')<=0]"
   ]
  },
  {
   "cell_type": "code",
   "execution_count": 0,
   "metadata": {
    "application/vnd.databricks.v1+cell": {
     "cellMetadata": {},
     "inputWidgets": {},
     "nuid": "0c642e9e-b3cf-4c85-8095-09fad9224d42",
     "showTitle": false,
     "title": ""
    }
   },
   "outputs": [],
   "source": [
    "Fechas"
   ]
  },
  {
   "cell_type": "code",
   "execution_count": 0,
   "metadata": {
    "application/vnd.databricks.v1+cell": {
     "cellMetadata": {},
     "inputWidgets": {},
     "nuid": "500a3123-3dc2-4149-b42d-85ba8c922b0b",
     "showTitle": false,
     "title": ""
    }
   },
   "outputs": [],
   "source": [
    "len(cualicolumns)"
   ]
  },
  {
   "cell_type": "code",
   "execution_count": 0,
   "metadata": {
    "application/vnd.databricks.v1+cell": {
     "cellMetadata": {},
     "inputWidgets": {},
     "nuid": "0e58020a-0e09-4487-9f6e-a4e2b47f8a7a",
     "showTitle": false,
     "title": ""
    }
   },
   "outputs": [],
   "source": [
    "df['EsPostConflicto'].value_counts()"
   ]
  },
  {
   "cell_type": "code",
   "execution_count": 0,
   "metadata": {
    "application/vnd.databricks.v1+cell": {
     "cellMetadata": {},
     "inputWidgets": {},
     "nuid": "0fcaba2c-07dd-4ebe-bef9-afeaae37bd76",
     "showTitle": false,
     "title": ""
    }
   },
   "outputs": [],
   "source": [
    "df[cualicolumns]"
   ]
  },
  {
   "cell_type": "code",
   "execution_count": 0,
   "metadata": {
    "application/vnd.databricks.v1+cell": {
     "cellMetadata": {},
     "inputWidgets": {},
     "nuid": "738709ac-d4de-42bd-976b-a6b4fc21efaa",
     "showTitle": false,
     "title": ""
    }
   },
   "outputs": [],
   "source": [
    "def distrib(i):\n",
    "    Freq=df[i].value_counts()\n",
    "    if len(df[i].unique())<10:\n",
    "        fig = go.Figure(data=[go.Pie(labels=Freq.index, values=Freq.values,hole=.3,title=i)])\n",
    "        fig.show()\n",
    "    else:\n",
    "        fig = go.Figure(data=[go.Table(\n",
    "            columnwidth = [500,100,100],\n",
    "            header=dict(values=['Categoría','Cantidad','Porcentaje'],\n",
    "                        fill_color='paleturquoise',\n",
    "                        align='left'),\n",
    "            cells=dict(values=[Freq.index, Freq.values,[\"{:.2%}\".format(i) for i in Freq.values/len(df)]],\n",
    "                       fill_color='lavender',\n",
    "                       align='left'))\n",
    "                             ])\n",
    "        fig.show()\n",
    "    return\n",
    "\n",
    "interact(distrib,i=widgets.Dropdown(options=cualicolumns,value='Rama',description='Variable: '))"
   ]
  },
  {
   "cell_type": "markdown",
   "metadata": {
    "application/vnd.databricks.v1+cell": {
     "cellMetadata": {},
     "inputWidgets": {},
     "nuid": "9a56c45e-ec56-45a6-85d8-4d8f13bd9a6d",
     "showTitle": false,
     "title": ""
    }
   },
   "source": [
    "La exploración sobre la anterior herramienta interactiva nos da más luces por cada variable que podría llegar a ser interesante. A continuación areglaremos las fechas de esta base:"
   ]
  },
  {
   "cell_type": "markdown",
   "metadata": {
    "application/vnd.databricks.v1+cell": {
     "cellMetadata": {},
     "inputWidgets": {},
     "nuid": "a5131e48-e689-4b07-8cbb-99b7e7d8a05f",
     "showTitle": false,
     "title": ""
    }
   },
   "source": [
    "Usaremos la información de la variable `Fecha de Inicio del Contrato` veamos que hay solo 8922 valores permitidos."
   ]
  },
  {
   "cell_type": "code",
   "execution_count": 0,
   "metadata": {
    "application/vnd.databricks.v1+cell": {
     "cellMetadata": {},
     "inputWidgets": {},
     "nuid": "6b827458-caa0-437e-813c-09e1638f10e9",
     "showTitle": false,
     "title": ""
    }
   },
   "outputs": [],
   "source": [
    "df[Fechas]"
   ]
  },
  {
   "cell_type": "code",
   "execution_count": 0,
   "metadata": {
    "application/vnd.databricks.v1+cell": {
     "cellMetadata": {},
     "inputWidgets": {},
     "nuid": "d77f0cda-082f-4a9b-9ad8-a1ba4e915c49",
     "showTitle": false,
     "title": ""
    }
   },
   "outputs": [],
   "source": [
    "for i in Fechas:\n",
    "    df[i]=pd.to_datetime(df[i])\n",
    "df[Fechas].dtypes"
   ]
  },
  {
   "cell_type": "code",
   "execution_count": 0,
   "metadata": {
    "application/vnd.databricks.v1+cell": {
     "cellMetadata": {},
     "inputWidgets": {},
     "nuid": "fac714b7-3a28-4815-9fa3-0cb826ee55ab",
     "showTitle": false,
     "title": ""
    }
   },
   "outputs": [],
   "source": [
    "df[df['Fecha de Inicio del Contrato']>'2019-01-01']"
   ]
  },
  {
   "cell_type": "markdown",
   "metadata": {
    "application/vnd.databricks.v1+cell": {
     "cellMetadata": {},
     "inputWidgets": {},
     "nuid": "4f3154c8-7a6a-4fc3-aa4f-b6a5bca71a3d",
     "showTitle": false,
     "title": ""
    }
   },
   "source": [
    "Ahora una herramienta interactiva que nos permita filtrar la base por fechas, usamos el `datepicker` de ipywidgets:"
   ]
  },
  {
   "cell_type": "code",
   "execution_count": 0,
   "metadata": {
    "application/vnd.databricks.v1+cell": {
     "cellMetadata": {},
     "inputWidgets": {},
     "nuid": "ee78a730-13a8-4b4b-a6c6-44cb21144acd",
     "showTitle": false,
     "title": ""
    }
   },
   "outputs": [],
   "source": [
    "widgets.DatePicker(\n",
    "    description='Pick a Date',\n",
    "    disabled=False\n",
    ")\n"
   ]
  },
  {
   "cell_type": "code",
   "execution_count": 0,
   "metadata": {
    "application/vnd.databricks.v1+cell": {
     "cellMetadata": {},
     "inputWidgets": {},
     "nuid": "ed60dcb0-8125-4a47-97f6-847a3199503c",
     "showTitle": false,
     "title": ""
    }
   },
   "outputs": [],
   "source": [
    "s1=widgets.DatePicker(\n",
    "    description='Inicio: ',\n",
    "    disabled=False\n",
    ")\n",
    "\n",
    "e1=widgets.DatePicker(\n",
    "    description='Final: ',\n",
    "    disabled=False\n",
    ")\n",
    "\n",
    "def FiltroBase(start,end):\n",
    "    try:\n",
    "        start=str(start)\n",
    "        end=str(end)    \n",
    "        DF1=df[df['Fecha de Inicio del Contrato']>start]\n",
    "        DF2=DF1[DF1['Fecha de Inicio del Contrato']<end]\n",
    "        return DF2\n",
    "    except:\n",
    "        print(\"Ingrese Fechas\")\n",
    "    \n",
    "\n",
    "interact(FiltroBase,start=s1,end=e1)"
   ]
  },
  {
   "cell_type": "markdown",
   "metadata": {
    "application/vnd.databricks.v1+cell": {
     "cellMetadata": {},
     "inputWidgets": {},
     "nuid": "0f10e3c3-4698-4e23-ae6b-38a7ca1deeb7",
     "showTitle": false,
     "title": ""
    }
   },
   "source": [
    "Haremos un análisis por mes, tratando de identificar cuales fueron los meses más activos en la asignación de contratos por Departamento:"
   ]
  },
  {
   "cell_type": "code",
   "execution_count": 0,
   "metadata": {
    "application/vnd.databricks.v1+cell": {
     "cellMetadata": {},
     "inputWidgets": {},
     "nuid": "83855fa7-713f-415f-9203-6d73d9153c17",
     "showTitle": false,
     "title": ""
    }
   },
   "outputs": [],
   "source": [
    "df['Fecha de Inicio del Contrato']"
   ]
  },
  {
   "cell_type": "code",
   "execution_count": 0,
   "metadata": {
    "application/vnd.databricks.v1+cell": {
     "cellMetadata": {},
     "inputWidgets": {},
     "nuid": "4cca1aea-cd34-44cf-854c-7593dce44baa",
     "showTitle": false,
     "title": ""
    }
   },
   "outputs": [],
   "source": [
    "df['Mes_Año']=df['Fecha de Inicio del Contrato'].dt.to_period('M')\n",
    "df"
   ]
  },
  {
   "cell_type": "markdown",
   "metadata": {
    "application/vnd.databricks.v1+cell": {
     "cellMetadata": {},
     "inputWidgets": {},
     "nuid": "83ba8a15-c49a-42c1-8d50-0a7c0c7df3ac",
     "showTitle": false,
     "title": ""
    }
   },
   "source": [
    "Aunque cambiamos el formato de fecha, vale la pena crear una tabla pivote para saber que tenemos por departamento:"
   ]
  },
  {
   "cell_type": "code",
   "execution_count": 0,
   "metadata": {
    "application/vnd.databricks.v1+cell": {
     "cellMetadata": {},
     "inputWidgets": {},
     "nuid": "d3e140da-c67b-4676-a492-9943ad161063",
     "showTitle": false,
     "title": ""
    },
    "scrolled": true
   },
   "outputs": [],
   "source": [
    "DFfechas=df.pivot_table(index='Mes_Año',columns='Rama', values='Ciudad',aggfunc='count')"
   ]
  },
  {
   "cell_type": "code",
   "execution_count": 0,
   "metadata": {
    "application/vnd.databricks.v1+cell": {
     "cellMetadata": {},
     "inputWidgets": {},
     "nuid": "a6d4f6cf-49b9-44ec-ac84-0b35988f9996",
     "showTitle": false,
     "title": ""
    }
   },
   "outputs": [],
   "source": [
    "DFfechas"
   ]
  },
  {
   "cell_type": "code",
   "execution_count": 0,
   "metadata": {
    "application/vnd.databricks.v1+cell": {
     "cellMetadata": {},
     "inputWidgets": {},
     "nuid": "4f496b44-9d94-4d7c-ba95-02b06da0208a",
     "showTitle": false,
     "title": ""
    }
   },
   "outputs": [],
   "source": [
    "DFfechas.reset_index(inplace=True)"
   ]
  },
  {
   "cell_type": "code",
   "execution_count": 0,
   "metadata": {
    "application/vnd.databricks.v1+cell": {
     "cellMetadata": {},
     "inputWidgets": {},
     "nuid": "07ba6150-a002-4a3f-bb51-fee238b9d3fc",
     "showTitle": false,
     "title": ""
    }
   },
   "outputs": [],
   "source": [
    "DFfechas\n",
    "DFfechas=DFfechas.fillna(0)"
   ]
  },
  {
   "cell_type": "markdown",
   "metadata": {
    "application/vnd.databricks.v1+cell": {
     "cellMetadata": {},
     "inputWidgets": {},
     "nuid": "efdb6df6-efee-4f27-bee2-8a466f2ccd8f",
     "showTitle": false,
     "title": ""
    }
   },
   "source": [
    "Creamos una variable alterna que contenga las Fechas como cadenas de caracteres, para poder gráficar más fácil."
   ]
  },
  {
   "cell_type": "code",
   "execution_count": 0,
   "metadata": {
    "application/vnd.databricks.v1+cell": {
     "cellMetadata": {},
     "inputWidgets": {},
     "nuid": "1ff3045f-649e-483d-bfb3-4a079c33e401",
     "showTitle": false,
     "title": ""
    }
   },
   "outputs": [],
   "source": [
    "DFfechas['Fecha']=[str(i) for i in DFfechas['Mes_Año']]"
   ]
  },
  {
   "cell_type": "code",
   "execution_count": 0,
   "metadata": {
    "application/vnd.databricks.v1+cell": {
     "cellMetadata": {},
     "inputWidgets": {},
     "nuid": "77877bed-bc22-4054-9d56-d398934a8f59",
     "showTitle": false,
     "title": ""
    }
   },
   "outputs": [],
   "source": [
    "DFfechas.columns[1:-1]"
   ]
  },
  {
   "cell_type": "code",
   "execution_count": 0,
   "metadata": {
    "application/vnd.databricks.v1+cell": {
     "cellMetadata": {},
     "inputWidgets": {},
     "nuid": "26bbf081-cf37-40d3-a58f-d623dfb55c1a",
     "showTitle": false,
     "title": ""
    }
   },
   "outputs": [],
   "source": [
    "DFfechas"
   ]
  },
  {
   "cell_type": "code",
   "execution_count": 0,
   "metadata": {
    "application/vnd.databricks.v1+cell": {
     "cellMetadata": {},
     "inputWidgets": {},
     "nuid": "f9ac0dee-3ae4-43e0-b13a-d9e857c8ddc9",
     "showTitle": false,
     "title": ""
    }
   },
   "outputs": [],
   "source": [
    "fig = px.line(DFfechas, x='Fecha', y=DFfechas.columns[1:-1],\n",
    "              hover_data={\"Fecha\": \"|%B, %Y\"},\n",
    "              title='Inicios de Contratos')\n",
    "\n",
    "fig.show()"
   ]
  },
  {
   "cell_type": "code",
   "execution_count": 0,
   "metadata": {
    "application/vnd.databricks.v1+cell": {
     "cellMetadata": {},
     "inputWidgets": {},
     "nuid": "55a4ca93-7801-4d29-97ef-4b3ffd75c763",
     "showTitle": false,
     "title": ""
    }
   },
   "outputs": [],
   "source": [
    "df['Fecha de Inicio del Contrato']=df['Fecha de Inicio del Contrato'].dt.strftime('%d/%m/%Y')"
   ]
  },
  {
   "cell_type": "code",
   "execution_count": 0,
   "metadata": {
    "application/vnd.databricks.v1+cell": {
     "cellMetadata": {},
     "inputWidgets": {},
     "nuid": "7716d3ca-3d25-47a0-a9fb-07d65fa3e766",
     "showTitle": false,
     "title": ""
    }
   },
   "outputs": [],
   "source": [
    "df[Fechas].dtypes"
   ]
  },
  {
   "cell_type": "markdown",
   "metadata": {
    "application/vnd.databricks.v1+cell": {
     "cellMetadata": {},
     "inputWidgets": {},
     "nuid": "59f46bc8-e19f-4335-b0e7-73d91f65c34a",
     "showTitle": false,
     "title": ""
    }
   },
   "source": [
    "### Estadísticos fundamentales\n",
    "\n",
    "Ahora calcularemos algunos estadísticos sencillos, nos encontraremos con problemas en este caso particular por la información que contiene esta base."
   ]
  },
  {
   "cell_type": "code",
   "execution_count": 0,
   "metadata": {
    "application/vnd.databricks.v1+cell": {
     "cellMetadata": {},
     "inputWidgets": {},
     "nuid": "8102ce58-daaa-4265-afc6-cf1d50fbc854",
     "showTitle": false,
     "title": ""
    }
   },
   "outputs": [],
   "source": [
    "estadisticos=df.describe()\n",
    "estadisticos"
   ]
  },
  {
   "cell_type": "markdown",
   "metadata": {
    "application/vnd.databricks.v1+cell": {
     "cellMetadata": {},
     "inputWidgets": {},
     "nuid": "2294989d-fa1e-4cc9-9583-e13075de59a0",
     "showTitle": false,
     "title": ""
    }
   },
   "source": [
    "Observe los cuantiles de la columna `Valor del Contrato`, es claro que hay una cantidad tremenda de datos atípicos, utilicemos otras médidas estadísticas para reconocer otras características de esta información:"
   ]
  },
  {
   "cell_type": "code",
   "execution_count": 0,
   "metadata": {
    "application/vnd.databricks.v1+cell": {
     "cellMetadata": {},
     "inputWidgets": {},
     "nuid": "a8ba5780-88f9-4dd0-b179-806f0397514e",
     "showTitle": false,
     "title": ""
    }
   },
   "outputs": [],
   "source": [
    "mediarecortada=[]\n",
    "quantil90=[]\n",
    "for i in estadisticos.columns:\n",
    "    mediarecortada.append(stats.trim_mean(df[i],0.1))\n",
    "\n",
    "estadisticos.loc['med_rec']=mediarecortada\n",
    "estadisticos.loc['quantil95']=df.quantile(0.95)\n",
    "estadisticos"
   ]
  },
  {
   "cell_type": "markdown",
   "metadata": {
    "application/vnd.databricks.v1+cell": {
     "cellMetadata": {},
     "inputWidgets": {},
     "nuid": "a05d3668-8dde-4989-a626-e737cdf67368",
     "showTitle": false,
     "title": ""
    }
   },
   "source": [
    "Debemos hacer un filtro según la variable `Valor del Contrato`que me permita extraer esos datos que estan afectado las medidas estadísticas que estoy estudiando."
   ]
  },
  {
   "cell_type": "code",
   "execution_count": 0,
   "metadata": {
    "application/vnd.databricks.v1+cell": {
     "cellMetadata": {},
     "inputWidgets": {},
     "nuid": "8b7deaca-5822-46b6-9c50-2cae476097bd",
     "showTitle": false,
     "title": ""
    }
   },
   "outputs": [],
   "source": [
    "ncontracts=df[df['Valor del Contrato']<215000000]"
   ]
  },
  {
   "cell_type": "markdown",
   "metadata": {
    "application/vnd.databricks.v1+cell": {
     "cellMetadata": {},
     "inputWidgets": {},
     "nuid": "3e5aeaca-b09a-48e3-8b65-4dd1bc619d8f",
     "showTitle": false,
     "title": ""
    }
   },
   "source": [
    "### Empecemos con la visualización\n",
    "\n",
    "Ahora vamos a hacer algunas visualizaciones sobre la base, empecemos con la distribución por Sector de la Variable `Valor del Contrato`:"
   ]
  },
  {
   "cell_type": "code",
   "execution_count": 0,
   "metadata": {
    "application/vnd.databricks.v1+cell": {
     "cellMetadata": {},
     "inputWidgets": {},
     "nuid": "cab1624c-1dc9-4f23-a55f-ab867285805b",
     "showTitle": false,
     "title": ""
    }
   },
   "outputs": [],
   "source": [
    "fig, axs = plt.subplots(figsize=(20,16))\n",
    "axs=sns.boxplot(data=ncontracts,y='Valor del Contrato',x=\"Sector\")\n",
    "axs.set_xticklabels(axs.get_xticklabels(), rotation=90);"
   ]
  },
  {
   "cell_type": "markdown",
   "metadata": {
    "application/vnd.databricks.v1+cell": {
     "cellMetadata": {},
     "inputWidgets": {},
     "nuid": "2127247c-f925-499f-ab0e-0ec097f35ba0",
     "showTitle": false,
     "title": ""
    }
   },
   "source": [
    "Tenga cuidado porque este gráfico expresa la distribución por Sector de los Valores de Contratos, pero no nos habla del total por sector, veamos:"
   ]
  },
  {
   "cell_type": "code",
   "execution_count": 0,
   "metadata": {
    "application/vnd.databricks.v1+cell": {
     "cellMetadata": {},
     "inputWidgets": {},
     "nuid": "ee2b76bf-7204-4c85-bab2-08794ce49c48",
     "showTitle": false,
     "title": ""
    }
   },
   "outputs": [],
   "source": [
    "ncontracts.groupby(by='Sector').sum()"
   ]
  },
  {
   "cell_type": "code",
   "execution_count": 0,
   "metadata": {
    "application/vnd.databricks.v1+cell": {
     "cellMetadata": {},
     "inputWidgets": {},
     "nuid": "965e00e0-2276-4a2b-86cc-8ef27231e4d0",
     "showTitle": false,
     "title": ""
    }
   },
   "outputs": [],
   "source": [
    "ncontracts.groupby(by='Sector').sum()['Valor del Contrato']"
   ]
  },
  {
   "cell_type": "code",
   "execution_count": 0,
   "metadata": {
    "application/vnd.databricks.v1+cell": {
     "cellMetadata": {},
     "inputWidgets": {},
     "nuid": "492f1751-bcb3-4710-a40a-79949b35313f",
     "showTitle": false,
     "title": ""
    }
   },
   "outputs": [],
   "source": [
    "fig, axs = plt.subplots(figsize=(20,16))\n",
    "axs=sns.barplot(y=df.groupby(by='Sector').size().values,x=df.groupby(by='Sector').size().index)\n",
    "axs.set_xticklabels(axs.get_xticklabels(), rotation=90);"
   ]
  },
  {
   "cell_type": "code",
   "execution_count": 0,
   "metadata": {
    "application/vnd.databricks.v1+cell": {
     "cellMetadata": {},
     "inputWidgets": {},
     "nuid": "7ad78ffe-759e-4b47-964f-c91acb42ccd4",
     "showTitle": false,
     "title": ""
    }
   },
   "outputs": [],
   "source": [
    "ncontracts.groupby(by='Sector').sum()['Valor del Contrato']"
   ]
  },
  {
   "cell_type": "code",
   "execution_count": 0,
   "metadata": {
    "application/vnd.databricks.v1+cell": {
     "cellMetadata": {},
     "inputWidgets": {},
     "nuid": "132533d0-ea0b-439b-85cd-0aba643527d9",
     "showTitle": false,
     "title": ""
    }
   },
   "outputs": [],
   "source": [
    "fig, axs = plt.subplots(figsize=(20,16))\n",
    "axs=sns.barplot(y=ncontracts.groupby(by='Sector').sum()['Valor del Contrato'].values,x=ncontracts.groupby(by='Sector').sum()['Valor del Contrato'].index)\n",
    "axs.set_xticklabels(axs.get_xticklabels(), rotation=90);"
   ]
  },
  {
   "cell_type": "markdown",
   "metadata": {
    "application/vnd.databricks.v1+cell": {
     "cellMetadata": {},
     "inputWidgets": {},
     "nuid": "ce9ee587-8039-4832-9a4b-8c085aa2307e",
     "showTitle": false,
     "title": ""
    }
   },
   "source": [
    "También lo podemos hacer por Departamento:"
   ]
  },
  {
   "cell_type": "code",
   "execution_count": 0,
   "metadata": {
    "application/vnd.databricks.v1+cell": {
     "cellMetadata": {},
     "inputWidgets": {},
     "nuid": "535d09c1-dfae-4ae9-99f5-2888a553e406",
     "showTitle": false,
     "title": ""
    }
   },
   "outputs": [],
   "source": [
    "def sectorvsdepto(i):\n",
    "    fbase=ncontracts[ncontracts['Departamento']==i]\n",
    "    fig, axs = plt.subplots(figsize=(10,5))\n",
    "    axs=sns.barplot(y=fbase.groupby(by='Sector').sum()['Valor del Contrato'].values,x=fbase.groupby(by='Sector').sum()['Valor del Contrato'].index)\n",
    "    axs.set_xticklabels(axs.get_xticklabels(), rotation=90);\n",
    "    plt.show()\n",
    "    return \n",
    "interact(sectorvsdepto,i=ncontracts['Departamento'].unique())"
   ]
  },
  {
   "cell_type": "code",
   "execution_count": 0,
   "metadata": {
    "application/vnd.databricks.v1+cell": {
     "cellMetadata": {},
     "inputWidgets": {},
     "nuid": "4134d7af-8553-4d21-ab59-7425784e0ff4",
     "showTitle": false,
     "title": ""
    }
   },
   "outputs": [],
   "source": [
    "fig, axs = plt.subplots(figsize=(20,16))\n",
    "axs=sns.boxplot(data=ncontracts,y='Valor del Contrato',x=\"Departamento\")\n",
    "axs.set_xticklabels(axs.get_xticklabels(), rotation=90);"
   ]
  },
  {
   "cell_type": "code",
   "execution_count": 0,
   "metadata": {
    "application/vnd.databricks.v1+cell": {
     "cellMetadata": {},
     "inputWidgets": {},
     "nuid": "a7003734-c1da-4768-a7d8-05cbbc0391b7",
     "showTitle": false,
     "title": ""
    }
   },
   "outputs": [],
   "source": [
    "fig, axs = plt.subplots(figsize=(20,16))\n",
    "axs=sns.barplot(y=df.groupby(by='Departamento').size().values,x=df.groupby(by='Departamento').size().index)\n",
    "axs.set_xticklabels(axs.get_xticklabels(), rotation=90);"
   ]
  },
  {
   "cell_type": "markdown",
   "metadata": {
    "application/vnd.databricks.v1+cell": {
     "cellMetadata": {},
     "inputWidgets": {},
     "nuid": "adc1ac74-f884-4c1d-b713-9e1610a4cef4",
     "showTitle": false,
     "title": ""
    }
   },
   "source": [
    "## Comparar Variables\n",
    "\n",
    "También podemos contrastar variables, hay varias formas de lograrlo, en este caso una cuantitativa con una cualitativa:"
   ]
  },
  {
   "cell_type": "code",
   "execution_count": 0,
   "metadata": {
    "application/vnd.databricks.v1+cell": {
     "cellMetadata": {},
     "inputWidgets": {},
     "nuid": "7dc05aac-da86-4393-bb7a-5d2e745e9988",
     "showTitle": false,
     "title": ""
    }
   },
   "outputs": [],
   "source": [
    "g = sns.displot(\n",
    "    data=ncontracts, y=\"Valor del Contrato\", hue=\"Rama\", col=\"Departamento\",col_wrap=4)\n",
    "g.set_titles(\"{col_name}\")\n",
    "g.set(ylim=(-1e7,1e8))"
   ]
  },
  {
   "cell_type": "markdown",
   "metadata": {
    "application/vnd.databricks.v1+cell": {
     "cellMetadata": {},
     "inputWidgets": {},
     "nuid": "4bb11787-bdb4-4092-b01d-a6363aa05f59",
     "showTitle": false,
     "title": ""
    }
   },
   "source": [
    "Escojamos algunas columnas adecuadas:"
   ]
  },
  {
   "cell_type": "code",
   "execution_count": 0,
   "metadata": {
    "application/vnd.databricks.v1+cell": {
     "cellMetadata": {},
     "inputWidgets": {},
     "nuid": "ae21e1e1-4af7-4dd1-be05-bc79c4a606fc",
     "showTitle": false,
     "title": ""
    }
   },
   "outputs": [],
   "source": [
    "cuanticolumns=df.select_dtypes(exclude=['object']).columns\n",
    "cuanticolumns"
   ]
  },
  {
   "cell_type": "code",
   "execution_count": 0,
   "metadata": {
    "application/vnd.databricks.v1+cell": {
     "cellMetadata": {},
     "inputWidgets": {},
     "nuid": "892b369b-0ad8-4733-881e-e899d3b0905f",
     "showTitle": false,
     "title": ""
    }
   },
   "outputs": [],
   "source": [
    "cuanticolumns=cuanticolumns.drop('Nit Entidad')\n",
    "cuanticolumns"
   ]
  },
  {
   "cell_type": "code",
   "execution_count": 0,
   "metadata": {
    "application/vnd.databricks.v1+cell": {
     "cellMetadata": {},
     "inputWidgets": {},
     "nuid": "1ff8a269-ff99-4c7c-9de5-8f3437ce5ba0",
     "showTitle": false,
     "title": ""
    }
   },
   "outputs": [],
   "source": [
    "somecolumns=list(cuanticolumns[[0,4,5,-2,-1]])\n",
    "somecolumns.append('Rama')"
   ]
  },
  {
   "cell_type": "code",
   "execution_count": 0,
   "metadata": {
    "application/vnd.databricks.v1+cell": {
     "cellMetadata": {},
     "inputWidgets": {},
     "nuid": "c9884f6c-9e23-4bc0-b646-becaa62dcc91",
     "showTitle": false,
     "title": ""
    }
   },
   "outputs": [],
   "source": [
    "dfcuanti=ncontracts[somecolumns]"
   ]
  },
  {
   "cell_type": "code",
   "execution_count": 0,
   "metadata": {
    "application/vnd.databricks.v1+cell": {
     "cellMetadata": {},
     "inputWidgets": {},
     "nuid": "88fbacec-1f53-4e35-bf1c-7ce5e7a8b990",
     "showTitle": false,
     "title": ""
    }
   },
   "outputs": [],
   "source": [
    "g = sns.pairplot(dfcuanti, hue=\"Rama\", palette=\"Set2\", diag_kind=\"kde\", height=2.5)"
   ]
  },
  {
   "cell_type": "markdown",
   "metadata": {
    "application/vnd.databricks.v1+cell": {
     "cellMetadata": {},
     "inputWidgets": {},
     "nuid": "6a3910cd-5dc3-468d-b2bc-0d7b5490ba22",
     "showTitle": false,
     "title": ""
    }
   },
   "source": [
    "## También podemos hacer mapas\n",
    "\n",
    "Pero en este caso necesitamos Dataframe externos:"
   ]
  },
  {
   "cell_type": "code",
   "execution_count": 0,
   "metadata": {
    "application/vnd.databricks.v1+cell": {
     "cellMetadata": {},
     "inputWidgets": {},
     "nuid": "4a499b01-3174-4b8f-acde-1a0bd4776971",
     "showTitle": false,
     "title": ""
    }
   },
   "outputs": [],
   "source": [
    "dfdeptos=ncontracts.groupby(by='Departamento').mean()\n",
    "dfdeptos"
   ]
  },
  {
   "cell_type": "code",
   "execution_count": 0,
   "metadata": {
    "application/vnd.databricks.v1+cell": {
     "cellMetadata": {},
     "inputWidgets": {},
     "nuid": "f2d7104e-c971-4961-be4f-982816f41ff1",
     "showTitle": false,
     "title": ""
    }
   },
   "outputs": [],
   "source": [
    "url='https://gist.githubusercontent.com/john-guerra/43c7656821069d00dcbc/raw/3aadedf47badbdac823b00dbe259f6bc6d9e1899/colombia.geo.json'\n",
    "Colombia_map=geopandas.read_file(url)"
   ]
  },
  {
   "cell_type": "code",
   "execution_count": 0,
   "metadata": {
    "application/vnd.databricks.v1+cell": {
     "cellMetadata": {},
     "inputWidgets": {},
     "nuid": "b9010393-8f53-4978-a62e-f4c301e186ea",
     "showTitle": false,
     "title": ""
    }
   },
   "outputs": [],
   "source": [
    "Colombia_map"
   ]
  },
  {
   "cell_type": "code",
   "execution_count": 0,
   "metadata": {
    "application/vnd.databricks.v1+cell": {
     "cellMetadata": {},
     "inputWidgets": {},
     "nuid": "e65667e8-eb29-4a7c-a274-0d4ad304782e",
     "showTitle": false,
     "title": ""
    }
   },
   "outputs": [],
   "source": [
    "Colombia_map.plot()"
   ]
  },
  {
   "cell_type": "code",
   "execution_count": 0,
   "metadata": {
    "application/vnd.databricks.v1+cell": {
     "cellMetadata": {},
     "inputWidgets": {},
     "nuid": "41982353-a677-4d7d-8ac7-b26dd213ef8b",
     "showTitle": false,
     "title": ""
    }
   },
   "outputs": [],
   "source": [
    "import re\n",
    "from unicodedata import normalize"
   ]
  },
  {
   "cell_type": "code",
   "execution_count": 0,
   "metadata": {
    "application/vnd.databricks.v1+cell": {
     "cellMetadata": {},
     "inputWidgets": {},
     "nuid": "473b8a2d-0224-479a-a939-80d9e7287bbb",
     "showTitle": false,
     "title": ""
    }
   },
   "outputs": [],
   "source": [
    "dfdeptos.index=[normalize(\"NFKD\", i).encode(\"ascii\",\"ignore\").decode(\"ascii\").upper().replace('DISTRITO CAPITAL DE BOGOTA','SANTAFE DE BOGOTA D.C').replace('SAN ANDRES, PROVIDENCIA Y SANTA CATALINA','ARCHIPIELAGO DE SAN ANDRES PROVIDENCIA Y SANTA CATALINA').replace('NARINO','NARIÑO') for i in dfdeptos.index]\n",
    "dfdeptos"
   ]
  },
  {
   "cell_type": "code",
   "execution_count": 0,
   "metadata": {
    "application/vnd.databricks.v1+cell": {
     "cellMetadata": {},
     "inputWidgets": {},
     "nuid": "3813607b-1e1d-4b07-96a5-6b9de408f5ab",
     "showTitle": false,
     "title": ""
    }
   },
   "outputs": [],
   "source": [
    "vmc=[]\n",
    "for i in Colombia_map['NOMBRE_DPT']:\n",
    "    vmc.append(dfdeptos['Valor del Contrato'][i])\n",
    "print(vmc)\n",
    "Colombia_map['Valor promedio']=vmc\n",
    "Colombia_map"
   ]
  },
  {
   "cell_type": "code",
   "execution_count": 0,
   "metadata": {
    "application/vnd.databricks.v1+cell": {
     "cellMetadata": {},
     "inputWidgets": {},
     "nuid": "d2ea80b2-99d5-4da6-b335-5c170fd995cb",
     "showTitle": false,
     "title": ""
    }
   },
   "outputs": [],
   "source": [
    "fig, ax = plt.subplots(1, 1,figsize=(20,16))\n",
    "Colombia_map = Colombia_map.to_crs(epsg=3857)\n",
    "Colombia_map.plot(column='Valor promedio', ax=ax, legend=True,alpha=0.5)\n",
    "ctx.add_basemap(ax,zoom=5)\n",
    "ctx.add_basemap(ax)\n",
    "ax.set_axis_off()"
   ]
  }
 ],
 "metadata": {
  "application/vnd.databricks.v1+notebook": {
   "dashboards": [],
   "language": "python",
   "notebookMetadata": {},
   "notebookName": "Intro_Multi2-checkpoint",
   "widgets": {}
  },
  "kernelspec": {
   "display_name": "Python 3",
   "language": "python",
   "name": "python3"
  },
  "language_info": {
   "codemirror_mode": {
    "name": "ipython",
    "version": 3
   },
   "file_extension": ".py",
   "mimetype": "text/x-python",
   "name": "python",
   "nbconvert_exporter": "python",
   "pygments_lexer": "ipython3",
   "version": "3.8.5"
  },
  "toc": {
   "base_numbering": 1,
   "nav_menu": {},
   "number_sections": true,
   "sideBar": true,
   "skip_h1_title": true,
   "title_cell": "Table of Contents",
   "title_sidebar": "Contents",
   "toc_cell": true,
   "toc_position": {},
   "toc_section_display": true,
   "toc_window_display": false
  }
 },
 "nbformat": 4,
 "nbformat_minor": 0
}
