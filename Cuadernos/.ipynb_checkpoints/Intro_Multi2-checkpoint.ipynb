{
 "cells": [
  {
   "cell_type": "markdown",
   "metadata": {
    "toc": true
   },
   "source": [
    "<h1>Table of Contents<span class=\"tocSkip\"></span></h1>\n",
    "<div class=\"toc\"><ul class=\"toc-item\"><li><span><a href=\"#Importación-de-paquetes\" data-toc-modified-id=\"Importación-de-paquetes-1\"><span class=\"toc-item-num\">1&nbsp;&nbsp;</span>Importación de paquetes</a></span></li><li><span><a href=\"#Leemos-los-datos\" data-toc-modified-id=\"Leemos-los-datos-2\"><span class=\"toc-item-num\">2&nbsp;&nbsp;</span>Leemos los datos</a></span></li><li><span><a href=\"#Recomendaciones-para-la-exploración-de-datos\" data-toc-modified-id=\"Recomendaciones-para-la-exploración-de-datos-3\"><span class=\"toc-item-num\">3&nbsp;&nbsp;</span>Recomendaciones para la exploración de datos</a></span><ul class=\"toc-item\"><li><span><a href=\"#Cómo-está-la-información\" data-toc-modified-id=\"Cómo-está-la-información-3.1\"><span class=\"toc-item-num\">3.1&nbsp;&nbsp;</span>Cómo está la información</a></span></li><li><span><a href=\"#Valores-de-variables-cualitativas\" data-toc-modified-id=\"Valores-de-variables-cualitativas-3.2\"><span class=\"toc-item-num\">3.2&nbsp;&nbsp;</span>Valores de variables cualitativas</a></span></li><li><span><a href=\"#Estadísticos-fundamentales\" data-toc-modified-id=\"Estadísticos-fundamentales-3.3\"><span class=\"toc-item-num\">3.3&nbsp;&nbsp;</span>Estadísticos fundamentales</a></span></li><li><span><a href=\"#Empecemos-con-la-visualización\" data-toc-modified-id=\"Empecemos-con-la-visualización-3.4\"><span class=\"toc-item-num\">3.4&nbsp;&nbsp;</span>Empecemos con la visualización</a></span></li></ul></li><li><span><a href=\"#Comparar-Variables\" data-toc-modified-id=\"Comparar-Variables-4\"><span class=\"toc-item-num\">4&nbsp;&nbsp;</span>Comparar Variables</a></span></li><li><span><a href=\"#También-podemos-hacer-mapas\" data-toc-modified-id=\"También-podemos-hacer-mapas-5\"><span class=\"toc-item-num\">5&nbsp;&nbsp;</span>También podemos hacer mapas</a></span></li></ul></div>"
   ]
  },
  {
   "cell_type": "markdown",
   "metadata": {},
   "source": [
    "# Comenzando una exploración de datos - Parte 1\n",
    "\n",
    "Una fase fundamental en la ciencia de datos es la exploración, en este proceso se reconocen variables relacionadas, algunas hipótesis empiezan a ser planteadas y se buscan algunas bases auxiliares.\n",
    "\n",
    "En el ejercicio del día de hoy vamos a iniciar el procesamiento de la base del SECOP II con la intención de brindarles algunas herramientas que puedan llegar a ser de utilidad en procesos posteriores."
   ]
  },
  {
   "cell_type": "markdown",
   "metadata": {},
   "source": [
    "## Importación de paquetes\n",
    "\n",
    "Siempre desde el inicio creamos una celda de importación paquetes. Si bien, más adelante es posible que importemos algo más, dejarlo aquí  permite una buena fluidez de trabajo y además nos facilita la creación de un archivo `.py`."
   ]
  },
  {
   "cell_type": "code",
   "execution_count": null,
   "metadata": {},
   "outputs": [],
   "source": [
    "import numpy                 as np\n",
    "import pandas                as pd\n",
    "import matplotlib.pyplot     as plt\n",
    "import seaborn               as sns\n",
    "import sklearn.metrics       as Metrics\n",
    "from scipy import stats\n",
    "\n",
    "import plotly.express as px\n",
    "import plotly.graph_objects as go\n",
    "from ipywidgets import interact\n",
    "import ipywidgets as widgets\n",
    "\n",
    "%matplotlib inline\n",
    "sns.set()"
   ]
  },
  {
   "cell_type": "markdown",
   "metadata": {},
   "source": [
    "## Leemos los datos\n",
    "Para este caso descargamos la base y la leemos de manera local, la base debe estar en el mismo directorio del cuaderno para llamarlo directamente."
   ]
  },
  {
   "cell_type": "code",
   "execution_count": null,
   "metadata": {},
   "outputs": [],
   "source": [
    "pd.options.display.float_format = '{:}'.format\n",
    "df = pd.read_csv('https://raw.githubusercontent.com/madcentral/metodosestadisticos/master/cuadernos/SECOP_muestra.csv')"
   ]
  },
  {
   "cell_type": "markdown",
   "metadata": {},
   "source": [
    "Utilizaremos una muestra para tener una clase fluida, sin embargo, con un poquito más de procesamiento Python puede procesar esta base de algo más de 700.000 registros."
   ]
  },
  {
   "cell_type": "code",
   "execution_count": null,
   "metadata": {},
   "outputs": [],
   "source": [
    "df.describe()"
   ]
  },
  {
   "cell_type": "code",
   "execution_count": null,
   "metadata": {},
   "outputs": [],
   "source": [
    "df=df.reset_index(drop=True)\n",
    "df=df[df.columns[1:]]"
   ]
  },
  {
   "cell_type": "code",
   "execution_count": null,
   "metadata": {},
   "outputs": [],
   "source": [
    "df"
   ]
  },
  {
   "cell_type": "code",
   "execution_count": null,
   "metadata": {},
   "outputs": [],
   "source": [
    "import plotly.graph_objects as go\n",
    "fig = go.Figure(data=go.Bar(y=[2, 3, 1]))\n",
    "fig.show()"
   ]
  },
  {
   "cell_type": "markdown",
   "metadata": {},
   "source": [
    "## Recomendaciones para la exploración de datos\n",
    "\n",
    "1. En este caso es muy importante reconocer que usted no está creando un reporte, pues hasta ahora está conociendo y validando la información que tiene en su base. No tenga miedo de hacer gráficas que posteriormente desechará, pues usted no tiene claridad de donde está la información determinante para sus hpótesis o problemas.\n",
    "\n",
    "2. Las herramientas visuales son fundamentales, explore las diferentes galerias propuestas por los paquetes para tener una referencia en código de lo que se le ocurre hacer.\n",
    "\n",
    "    Ver:\n",
    "    - [Matplotlib](https://matplotlib.org/gallery/index.html)\n",
    "    - [Seaborn](https://seaborn.pydata.org/examples/index.html)\n",
    "    - [D3- Python Graph Gallery](https://python-graph-gallery.com/)\n",
    "    - [From Data To Viz](https://www.data-to-viz.com/)\n",
    "    - [Plotly Express](https://plotly.com/python/plotly-express/)\n",
    "    \n",
    "    \n",
    "3. En este ejemplo en particular necesitaremnos una base adicional para crear los mapas, identificar la información faltante y buscarla también hace parte de este proceso."
   ]
  },
  {
   "cell_type": "markdown",
   "metadata": {},
   "source": [
    "### Cómo está la información\n",
    "\n",
    "Un primer paso en la exploración consiste en identificar la información a tratar. En este caso calculamos tamaños, buscamos información de las variables y visualizamos la disponibilidad de los datos."
   ]
  },
  {
   "cell_type": "code",
   "execution_count": null,
   "metadata": {},
   "outputs": [],
   "source": [
    "df.shape"
   ]
  },
  {
   "cell_type": "code",
   "execution_count": null,
   "metadata": {},
   "outputs": [],
   "source": [
    "df['Orden'].value_counts()"
   ]
  },
  {
   "cell_type": "code",
   "execution_count": null,
   "metadata": {},
   "outputs": [],
   "source": [
    "df.Orden"
   ]
  },
  {
   "cell_type": "code",
   "execution_count": null,
   "metadata": {},
   "outputs": [],
   "source": [
    "df.dtypes"
   ]
  },
  {
   "cell_type": "code",
   "execution_count": null,
   "metadata": {},
   "outputs": [],
   "source": [
    "df.info(null_counts=None,)"
   ]
  },
  {
   "cell_type": "markdown",
   "metadata": {},
   "source": [
    "Aunque el comando anterior permite contar la cantidad de NAN en cada columna, el siguiente gráfico nos permite visualizar la distribución de dichos datos pérdidos."
   ]
  },
  {
   "cell_type": "code",
   "execution_count": null,
   "metadata": {},
   "outputs": [],
   "source": [
    "df.isnull()"
   ]
  },
  {
   "cell_type": "code",
   "execution_count": null,
   "metadata": {},
   "outputs": [],
   "source": [
    "#Análisis de datos pérdidos\n",
    "fig, axs = plt.subplots(figsize=(20,16))\n",
    "sns.heatmap(df.isnull(), ax = axs)\n",
    "axs.set_xticklabels(df.columns, rotation=90);"
   ]
  },
  {
   "cell_type": "markdown",
   "metadata": {},
   "source": [
    "### Valores de variables cualitativas\n",
    "\n",
    "Usemos otro gráfico para determinar las categorías de las variables cualitativas:\n",
    "\n"
   ]
  },
  {
   "cell_type": "code",
   "execution_count": null,
   "metadata": {},
   "outputs": [],
   "source": [
    "cualicolumns=df.select_dtypes(exclude=['int64','float64']).columns\n",
    "print(cualicolumns)\n",
    "Fechas=[i for i in cualicolumns if i.count('Fecha')>0]\n",
    "cualicolumns=[i for i in cualicolumns if i.count('Fecha')<=0]"
   ]
  },
  {
   "cell_type": "code",
   "execution_count": null,
   "metadata": {},
   "outputs": [],
   "source": [
    "Fechas"
   ]
  },
  {
   "cell_type": "code",
   "execution_count": null,
   "metadata": {},
   "outputs": [],
   "source": [
    "len(cualicolumns)"
   ]
  },
  {
   "cell_type": "code",
   "execution_count": null,
   "metadata": {},
   "outputs": [],
   "source": [
    "df['EsPostConflicto'].value_counts()"
   ]
  },
  {
   "cell_type": "code",
   "execution_count": null,
   "metadata": {},
   "outputs": [],
   "source": [
    "df[cualicolumns]"
   ]
  },
  {
   "cell_type": "code",
   "execution_count": null,
   "metadata": {},
   "outputs": [],
   "source": [
    "def distrib(i):\n",
    "    Freq=df[i].value_counts()\n",
    "    if len(df[i].unique())<10:\n",
    "        fig = go.Figure(data=[go.Pie(labels=Freq.index, values=Freq.values,hole=.3,title=i)])\n",
    "        fig.show()\n",
    "    else:\n",
    "        fig = go.Figure(data=[go.Table(\n",
    "            columnwidth = [500,100,100],\n",
    "            header=dict(values=['Categoría','Cantidad','Porcentaje'],\n",
    "                        fill_color='paleturquoise',\n",
    "                        align='left'),\n",
    "            cells=dict(values=[Freq.index, Freq.values,[\"{:.2%}\".format(i) for i in Freq.values/len(df)]],\n",
    "                       fill_color='lavender',\n",
    "                       align='left'))\n",
    "                             ])\n",
    "        fig.show()\n",
    "    return\n",
    "\n",
    "interact(distrib,i=widgets.Dropdown(options=cualicolumns,value='Rama',description='Variable: '))"
   ]
  },
  {
   "cell_type": "markdown",
   "metadata": {},
   "source": [
    "La exploración sobre la anterior herramienta interactiva nos da más luces por cada variable que podría llegar a ser interesante. A continuación areglaremos las fechas de esta base:"
   ]
  },
  {
   "cell_type": "markdown",
   "metadata": {},
   "source": [
    "Usaremos la información de la variable `Fecha de Inicio del Contrato` veamos que hay solo 8922 valores permitidos."
   ]
  },
  {
   "cell_type": "code",
   "execution_count": null,
   "metadata": {},
   "outputs": [],
   "source": [
    "df[Fechas]"
   ]
  },
  {
   "cell_type": "code",
   "execution_count": null,
   "metadata": {},
   "outputs": [],
   "source": [
    "for i in Fechas:\n",
    "    df[i]=pd.to_datetime(df[i])\n",
    "df[Fechas].dtypes"
   ]
  },
  {
   "cell_type": "code",
   "execution_count": null,
   "metadata": {},
   "outputs": [],
   "source": [
    "df[df['Fecha de Inicio del Contrato']>'2019-01-01']"
   ]
  },
  {
   "cell_type": "markdown",
   "metadata": {},
   "source": [
    "Ahora una herramienta interactiva que nos permita filtrar la base por fechas, usamos el `datepicker` de ipywidgets:"
   ]
  },
  {
   "cell_type": "code",
   "execution_count": null,
   "metadata": {},
   "outputs": [],
   "source": [
    "widgets.DatePicker(\n",
    "    description='Pick a Date',\n",
    "    disabled=False\n",
    ")\n"
   ]
  },
  {
   "cell_type": "code",
   "execution_count": null,
   "metadata": {},
   "outputs": [],
   "source": [
    "s1=widgets.DatePicker(\n",
    "    description='Inicio: ',\n",
    "    disabled=False\n",
    ")\n",
    "\n",
    "e1=widgets.DatePicker(\n",
    "    description='Final: ',\n",
    "    disabled=False\n",
    ")\n",
    "\n",
    "def FiltroBase(start,end):\n",
    "    try:\n",
    "        start=str(start)\n",
    "        end=str(end)    \n",
    "        DF1=df[df['Fecha de Inicio del Contrato']>start]\n",
    "        DF2=DF1[DF1['Fecha de Inicio del Contrato']<end]\n",
    "        return DF2\n",
    "    except:\n",
    "        print(\"Ingrese Fechas\")\n",
    "    \n",
    "\n",
    "interact(FiltroBase,start=s1,end=e1)"
   ]
  },
  {
   "cell_type": "markdown",
   "metadata": {},
   "source": [
    "Haremos un análisis por mes, tratando de identificar cuales fueron los meses más activos en la asignación de contratos por Departamento:"
   ]
  },
  {
   "cell_type": "code",
   "execution_count": null,
   "metadata": {},
   "outputs": [],
   "source": [
    "df['Fecha de Inicio del Contrato']"
   ]
  },
  {
   "cell_type": "code",
   "execution_count": null,
   "metadata": {},
   "outputs": [],
   "source": [
    "df['Mes_Año']=df['Fecha de Inicio del Contrato'].dt.to_period('M')\n",
    "df"
   ]
  },
  {
   "cell_type": "markdown",
   "metadata": {},
   "source": [
    "Aunque cambiamos el formato de fecha, vale la pena crear una tabla pivote para saber que tenemos por departamento:"
   ]
  },
  {
   "cell_type": "code",
   "execution_count": null,
   "metadata": {
    "scrolled": true
   },
   "outputs": [],
   "source": [
    "DFfechas=df.pivot_table(index='Mes_Año',columns='Rama', values='Ciudad',aggfunc='count')"
   ]
  },
  {
   "cell_type": "code",
   "execution_count": null,
   "metadata": {},
   "outputs": [],
   "source": [
    "DFfechas"
   ]
  },
  {
   "cell_type": "code",
   "execution_count": null,
   "metadata": {},
   "outputs": [],
   "source": [
    "DFfechas.reset_index(inplace=True)"
   ]
  },
  {
   "cell_type": "code",
   "execution_count": null,
   "metadata": {},
   "outputs": [],
   "source": [
    "DFfechas\n",
    "DFfechas=DFfechas.fillna(0)"
   ]
  },
  {
   "cell_type": "markdown",
   "metadata": {},
   "source": [
    "Creamos una variable alterna que contenga las Fechas como cadenas de caracteres, para poder gráficar más fácil."
   ]
  },
  {
   "cell_type": "code",
   "execution_count": null,
   "metadata": {},
   "outputs": [],
   "source": [
    "DFfechas['Fecha']=[str(i) for i in DFfechas['Mes_Año']]"
   ]
  },
  {
   "cell_type": "code",
   "execution_count": null,
   "metadata": {},
   "outputs": [],
   "source": [
    "DFfechas.columns[1:-1]"
   ]
  },
  {
   "cell_type": "code",
   "execution_count": null,
   "metadata": {},
   "outputs": [],
   "source": [
    "DFfechas"
   ]
  },
  {
   "cell_type": "code",
   "execution_count": null,
   "metadata": {},
   "outputs": [],
   "source": [
    "fig = px.line(DFfechas, x='Fecha', y=DFfechas.columns[1:-1],\n",
    "              hover_data={\"Fecha\": \"|%B, %Y\"},\n",
    "              title='Inicios de Contratos')\n",
    "\n",
    "fig.show()"
   ]
  },
  {
   "cell_type": "code",
   "execution_count": null,
   "metadata": {},
   "outputs": [],
   "source": [
    "df['Fecha de Inicio del Contrato']=df['Fecha de Inicio del Contrato'].dt.strftime('%d/%m/%Y')"
   ]
  },
  {
   "cell_type": "code",
   "execution_count": null,
   "metadata": {},
   "outputs": [],
   "source": [
    "df[Fechas].dtypes"
   ]
  },
  {
   "cell_type": "markdown",
   "metadata": {},
   "source": [
    "### Estadísticos fundamentales\n",
    "\n",
    "Ahora calcularemos algunos estadísticos sencillos, nos encontraremos con problemas en este caso particular por la información que contiene esta base."
   ]
  },
  {
   "cell_type": "code",
   "execution_count": null,
   "metadata": {},
   "outputs": [],
   "source": [
    "estadisticos=df.describe()\n",
    "estadisticos"
   ]
  },
  {
   "cell_type": "markdown",
   "metadata": {},
   "source": [
    "Observe los cuantiles de la columna `Valor del Contrato`, es claro que hay una cantidad tremenda de datos atípicos, utilicemos otras médidas estadísticas para reconocer otras características de esta información:"
   ]
  },
  {
   "cell_type": "code",
   "execution_count": null,
   "metadata": {},
   "outputs": [],
   "source": [
    "mediarecortada=[]\n",
    "quantil90=[]\n",
    "for i in estadisticos.columns:\n",
    "    mediarecortada.append(stats.trim_mean(df[i],0.1))\n",
    "\n",
    "estadisticos.loc['med_rec']=mediarecortada\n",
    "estadisticos.loc['quantil95']=df.quantile(0.95)\n",
    "estadisticos"
   ]
  },
  {
   "cell_type": "markdown",
   "metadata": {},
   "source": [
    "Debemos hacer un filtro según la variable `Valor del Contrato`que me permita extraer esos datos que estan afectado las medidas estadísticas que estoy estudiando."
   ]
  },
  {
   "cell_type": "code",
   "execution_count": null,
   "metadata": {},
   "outputs": [],
   "source": [
    "ncontracts=df[df['Valor del Contrato']<215000000]"
   ]
  },
  {
   "cell_type": "markdown",
   "metadata": {},
   "source": [
    "### Empecemos con la visualización\n",
    "\n",
    "Ahora vamos a hacer algunas visualizaciones sobre la base, empecemos con la distribución por Sector de la Variable `Valor del Contrato`:"
   ]
  },
  {
   "cell_type": "code",
   "execution_count": null,
   "metadata": {},
   "outputs": [],
   "source": [
    "fig, axs = plt.subplots(figsize=(20,16))\n",
    "axs=sns.boxplot(data=ncontracts,y='Valor del Contrato',x=\"Sector\")\n",
    "axs.set_xticklabels(axs.get_xticklabels(), rotation=90);"
   ]
  },
  {
   "cell_type": "markdown",
   "metadata": {},
   "source": [
    "Tenga cuidado porque este gráfico expresa la distribución por Sector de los Valores de Contratos, pero no nos habla del total por sector, veamos:"
   ]
  },
  {
   "cell_type": "code",
   "execution_count": null,
   "metadata": {},
   "outputs": [],
   "source": [
    "ncontracts.groupby(by='Sector').sum()"
   ]
  },
  {
   "cell_type": "code",
   "execution_count": null,
   "metadata": {},
   "outputs": [],
   "source": [
    "ncontracts.groupby(by='Sector').sum()['Valor del Contrato']"
   ]
  },
  {
   "cell_type": "code",
   "execution_count": null,
   "metadata": {},
   "outputs": [],
   "source": [
    "fig, axs = plt.subplots(figsize=(20,16))\n",
    "axs=sns.barplot(y=df.groupby(by='Sector').size().values,x=df.groupby(by='Sector').size().index)\n",
    "axs.set_xticklabels(axs.get_xticklabels(), rotation=90);"
   ]
  },
  {
   "cell_type": "code",
   "execution_count": null,
   "metadata": {},
   "outputs": [],
   "source": [
    "ncontracts.groupby(by='Sector').sum()['Valor del Contrato']"
   ]
  },
  {
   "cell_type": "code",
   "execution_count": null,
   "metadata": {},
   "outputs": [],
   "source": [
    "fig, axs = plt.subplots(figsize=(20,16))\n",
    "axs=sns.barplot(y=ncontracts.groupby(by='Sector').sum()['Valor del Contrato'].values,x=ncontracts.groupby(by='Sector').sum()['Valor del Contrato'].index)\n",
    "axs.set_xticklabels(axs.get_xticklabels(), rotation=90);"
   ]
  },
  {
   "cell_type": "markdown",
   "metadata": {},
   "source": [
    "También lo podemos hacer por Departamento:"
   ]
  },
  {
   "cell_type": "code",
   "execution_count": null,
   "metadata": {},
   "outputs": [],
   "source": [
    "def sectorvsdepto(i):\n",
    "    fbase=ncontracts[ncontracts['Departamento']==i]\n",
    "    fig, axs = plt.subplots(figsize=(10,5))\n",
    "    axs=sns.barplot(y=fbase.groupby(by='Sector').sum()['Valor del Contrato'].values,x=fbase.groupby(by='Sector').sum()['Valor del Contrato'].index)\n",
    "    axs.set_xticklabels(axs.get_xticklabels(), rotation=90);\n",
    "    plt.show()\n",
    "    return \n",
    "interact(sectorvsdepto,i=ncontracts['Departamento'].unique())"
   ]
  },
  {
   "cell_type": "code",
   "execution_count": null,
   "metadata": {},
   "outputs": [],
   "source": [
    "fig, axs = plt.subplots(figsize=(20,16))\n",
    "axs=sns.boxplot(data=ncontracts,y='Valor del Contrato',x=\"Departamento\")\n",
    "axs.set_xticklabels(axs.get_xticklabels(), rotation=90);"
   ]
  },
  {
   "cell_type": "code",
   "execution_count": null,
   "metadata": {},
   "outputs": [],
   "source": [
    "fig, axs = plt.subplots(figsize=(20,16))\n",
    "axs=sns.barplot(y=df.groupby(by='Departamento').size().values,x=df.groupby(by='Departamento').size().index)\n",
    "axs.set_xticklabels(axs.get_xticklabels(), rotation=90);"
   ]
  },
  {
   "cell_type": "markdown",
   "metadata": {},
   "source": [
    "## Comparar Variables\n",
    "\n",
    "También podemos contrastar variables, hay varias formas de lograrlo, en este caso una cuantitativa con una cualitativa:"
   ]
  },
  {
   "cell_type": "code",
   "execution_count": null,
   "metadata": {},
   "outputs": [],
   "source": [
    "g = sns.displot(\n",
    "    data=ncontracts, y=\"Valor del Contrato\", hue=\"Rama\", col=\"Departamento\",col_wrap=4)\n",
    "g.set_titles(\"{col_name}\")\n",
    "g.set(ylim=(-1e7,1e8))"
   ]
  },
  {
   "cell_type": "markdown",
   "metadata": {},
   "source": [
    "Escojamos algunas columnas adecuadas:"
   ]
  },
  {
   "cell_type": "code",
   "execution_count": null,
   "metadata": {},
   "outputs": [],
   "source": [
    "cuanticolumns=df.select_dtypes(exclude=['object']).columns\n",
    "cuanticolumns"
   ]
  },
  {
   "cell_type": "code",
   "execution_count": null,
   "metadata": {},
   "outputs": [],
   "source": [
    "cuanticolumns=cuanticolumns.drop('Nit Entidad')\n",
    "cuanticolumns"
   ]
  },
  {
   "cell_type": "code",
   "execution_count": null,
   "metadata": {},
   "outputs": [],
   "source": [
    "somecolumns=list(cuanticolumns[[0,4,5,-2,-1]])\n",
    "somecolumns.append('Rama')"
   ]
  },
  {
   "cell_type": "code",
   "execution_count": null,
   "metadata": {},
   "outputs": [],
   "source": [
    "dfcuanti=ncontracts[somecolumns]"
   ]
  },
  {
   "cell_type": "code",
   "execution_count": null,
   "metadata": {},
   "outputs": [],
   "source": [
    "g = sns.pairplot(dfcuanti, hue=\"Rama\", palette=\"Set2\", diag_kind=\"kde\", height=2.5)"
   ]
  },
  {
   "cell_type": "markdown",
   "metadata": {},
   "source": [
    "## También podemos hacer mapas\n",
    "\n",
    "Pero en este caso necesitamos Dataframe externos:"
   ]
  },
  {
   "cell_type": "code",
   "execution_count": null,
   "metadata": {},
   "outputs": [],
   "source": [
    "dfdeptos=ncontracts.groupby(by='Departamento').mean()\n",
    "dfdeptos"
   ]
  },
  {
   "cell_type": "code",
   "execution_count": null,
   "metadata": {},
   "outputs": [],
   "source": [
    "url='https://gist.githubusercontent.com/john-guerra/43c7656821069d00dcbc/raw/3aadedf47badbdac823b00dbe259f6bc6d9e1899/colombia.geo.json'\n",
    "Colombia_map=geopandas.read_file(url)"
   ]
  },
  {
   "cell_type": "code",
   "execution_count": null,
   "metadata": {},
   "outputs": [],
   "source": [
    "Colombia_map"
   ]
  },
  {
   "cell_type": "code",
   "execution_count": null,
   "metadata": {},
   "outputs": [],
   "source": [
    "Colombia_map.plot()"
   ]
  },
  {
   "cell_type": "code",
   "execution_count": null,
   "metadata": {},
   "outputs": [],
   "source": [
    "import re\n",
    "from unicodedata import normalize"
   ]
  },
  {
   "cell_type": "code",
   "execution_count": null,
   "metadata": {},
   "outputs": [],
   "source": [
    "dfdeptos.index=[normalize(\"NFKD\", i).encode(\"ascii\",\"ignore\").decode(\"ascii\").upper().replace('DISTRITO CAPITAL DE BOGOTA','SANTAFE DE BOGOTA D.C').replace('SAN ANDRES, PROVIDENCIA Y SANTA CATALINA','ARCHIPIELAGO DE SAN ANDRES PROVIDENCIA Y SANTA CATALINA').replace('NARINO','NARIÑO') for i in dfdeptos.index]\n",
    "dfdeptos"
   ]
  },
  {
   "cell_type": "code",
   "execution_count": null,
   "metadata": {},
   "outputs": [],
   "source": [
    "vmc=[]\n",
    "for i in Colombia_map['NOMBRE_DPT']:\n",
    "    vmc.append(dfdeptos['Valor del Contrato'][i])\n",
    "print(vmc)\n",
    "Colombia_map['Valor promedio']=vmc\n",
    "Colombia_map"
   ]
  },
  {
   "cell_type": "code",
   "execution_count": null,
   "metadata": {},
   "outputs": [],
   "source": [
    "fig, ax = plt.subplots(1, 1,figsize=(20,16))\n",
    "Colombia_map = Colombia_map.to_crs(epsg=3857)\n",
    "Colombia_map.plot(column='Valor promedio', ax=ax, legend=True,alpha=0.5)\n",
    "ctx.add_basemap(ax,zoom=5)\n",
    "ctx.add_basemap(ax)\n",
    "ax.set_axis_off()"
   ]
  }
 ],
 "metadata": {
  "kernelspec": {
   "display_name": "Python 3",
   "language": "python",
   "name": "python3"
  },
  "language_info": {
   "codemirror_mode": {
    "name": "ipython",
    "version": 3
   },
   "file_extension": ".py",
   "mimetype": "text/x-python",
   "name": "python",
   "nbconvert_exporter": "python",
   "pygments_lexer": "ipython3",
   "version": "3.8.5"
  },
  "toc": {
   "base_numbering": 1,
   "nav_menu": {},
   "number_sections": true,
   "sideBar": true,
   "skip_h1_title": true,
   "title_cell": "Table of Contents",
   "title_sidebar": "Contents",
   "toc_cell": true,
   "toc_position": {},
   "toc_section_display": true,
   "toc_window_display": false
  }
 },
 "nbformat": 4,
 "nbformat_minor": 4
}
