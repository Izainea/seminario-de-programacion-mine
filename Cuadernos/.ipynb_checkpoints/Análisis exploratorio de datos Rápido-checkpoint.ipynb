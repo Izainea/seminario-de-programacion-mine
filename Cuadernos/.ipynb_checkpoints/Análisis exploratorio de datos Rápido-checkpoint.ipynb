{
 "cells": [
  {
   "cell_type": "markdown",
   "metadata": {
    "application/vnd.databricks.v1+cell": {
     "cellMetadata": {},
     "inputWidgets": {},
     "nuid": "fc5baeed-05de-4d26-bb05-e4d6d6e8e91d",
     "showTitle": false,
     "title": ""
    }
   },
   "source": [
    "# Análisis exploratorio de datos Rápido\n",
    "\n",
    "Veremos a continuación dos paquetes que permiten hacer un análisis exploratorio de datos bastante rápido usando diferentes recursos interactivos. Se trata de pandas-profiling y dataprep, ambos han sido altamente elogiados por su capacidad para perfilar conjuntos de datos. En particular, veremos en dataprep que hay una posibilidad de hacer un análisis iterativo y centrado en tareas, facilitando una exploración adecuada de los datos.\n",
    "\n"
   ]
  },
  {
   "cell_type": "markdown",
   "metadata": {
    "application/vnd.databricks.v1+cell": {
     "cellMetadata": {},
     "inputWidgets": {},
     "nuid": "de3f3a30-ac54-49ff-a9e4-c23088dd4363",
     "showTitle": false,
     "title": ""
    }
   },
   "source": [
    "## Pandas-Profilling\n",
    "\n",
    "<a href=\"https://pandas-profiling.github.io/pandas-profiling/docs/master/rtd/\"><img src=\"https://pandas-profiling.github.io/pandas-profiling/docs/assets/logo_header.png\" style=\"width:150px\"></a>\n",
    "\n",
    "`Pandas-profilling` es un módulo de Python que nos permite hacer rápidamente un análisis de datos exploratorio usando unas pocas líneas de código. También genera informes interactivos en formato web ahorra el trabajo de visualizar y comprender la distribución de cada variable."
   ]
  },
  {
   "cell_type": "markdown",
   "metadata": {
    "application/vnd.databricks.v1+cell": {
     "cellMetadata": {},
     "inputWidgets": {},
     "nuid": "96141e31-44ca-4fde-9e5f-24d6434867aa",
     "showTitle": false,
     "title": ""
    }
   },
   "source": [
    "Haremos una breve introducción a este paquete utilizando los datos proporcionados por la alcaldía de Bogotá acerca de cornavirus COVID-19. Iniciamos cargando la base de datos:"
   ]
  },
  {
   "cell_type": "code",
   "execution_count": 0,
   "metadata": {
    "application/vnd.databricks.v1+cell": {
     "cellMetadata": {},
     "inputWidgets": {},
     "nuid": "c468c501-38ec-473e-a307-bd2639895c02",
     "showTitle": false,
     "title": ""
    }
   },
   "outputs": [],
   "source": [
    "import pandas as pd\n",
    "url = 'https://datosabiertos.bogota.gov.co/dataset/44eacdb7-a535-45ed-be03-16dbbea6f6da/resource/b64ba3c4-9e41-41b8-b3fd-2da21d627558/download/osb_enftransm-covid-19_05022021.csv'  \n",
    "df=pd.read_csv(url,encoding='latin-1',sep=\";\",error_bad_lines=False)"
   ]
  },
  {
   "cell_type": "code",
   "execution_count": 0,
   "metadata": {
    "application/vnd.databricks.v1+cell": {
     "cellMetadata": {},
     "inputWidgets": {},
     "nuid": "30e6b853-2cce-41fd-b07c-c53c18277ba2",
     "showTitle": false,
     "title": ""
    }
   },
   "outputs": [],
   "source": [
    "df"
   ]
  },
  {
   "cell_type": "markdown",
   "metadata": {
    "application/vnd.databricks.v1+cell": {
     "cellMetadata": {},
     "inputWidgets": {},
     "nuid": "ec762453-3ead-49af-957a-ebf0a25956e7",
     "showTitle": false,
     "title": ""
    }
   },
   "source": [
    "Tenga un poco de paciencia mientras se carga la base, el sistema la está decargando. Se puede notar que los últimos registros no corresponden a la base de datos, más bien proporcionan información de las variables, separemos esa información:"
   ]
  },
  {
   "cell_type": "code",
   "execution_count": 0,
   "metadata": {
    "application/vnd.databricks.v1+cell": {
     "cellMetadata": {},
     "inputWidgets": {},
     "nuid": "04a0bbc7-638f-45df-bc22-507f65f52b70",
     "showTitle": false,
     "title": ""
    }
   },
   "outputs": [],
   "source": [
    "otrainfo=df.iloc[-4:]\n",
    "df=df.iloc[:-4]"
   ]
  },
  {
   "cell_type": "code",
   "execution_count": 0,
   "metadata": {
    "application/vnd.databricks.v1+cell": {
     "cellMetadata": {},
     "inputWidgets": {},
     "nuid": "d09e29f1-e6d8-4259-b46f-491f362efc00",
     "showTitle": false,
     "title": ""
    }
   },
   "outputs": [],
   "source": [
    "otrainfo=otrainfo['CASO']"
   ]
  },
  {
   "cell_type": "code",
   "execution_count": 0,
   "metadata": {
    "application/vnd.databricks.v1+cell": {
     "cellMetadata": {},
     "inputWidgets": {},
     "nuid": "d6d010f1-68ee-4f21-9f69-d4dd01e41401",
     "showTitle": false,
     "title": ""
    }
   },
   "outputs": [],
   "source": [
    "for i in otrainfo.values:\n",
    "    print(i)"
   ]
  },
  {
   "cell_type": "code",
   "execution_count": 0,
   "metadata": {
    "application/vnd.databricks.v1+cell": {
     "cellMetadata": {},
     "inputWidgets": {},
     "nuid": "cedf07cd-e30a-4d4e-be3e-36df919149ce",
     "showTitle": false,
     "title": ""
    }
   },
   "outputs": [],
   "source": [
    "df.columns"
   ]
  },
  {
   "cell_type": "markdown",
   "metadata": {
    "application/vnd.databricks.v1+cell": {
     "cellMetadata": {},
     "inputWidgets": {},
     "nuid": "d9533c2a-aafb-4643-9c40-ae8a75000af3",
     "showTitle": false,
     "title": ""
    }
   },
   "source": [
    "Antes de continuar arreglemos las fechas:"
   ]
  },
  {
   "cell_type": "code",
   "execution_count": 0,
   "metadata": {
    "application/vnd.databricks.v1+cell": {
     "cellMetadata": {},
     "inputWidgets": {},
     "nuid": "2688376a-3a93-4f47-a606-064acb0e04c6",
     "showTitle": false,
     "title": ""
    }
   },
   "outputs": [],
   "source": [
    "df.dtypes"
   ]
  },
  {
   "cell_type": "code",
   "execution_count": 0,
   "metadata": {
    "application/vnd.databricks.v1+cell": {
     "cellMetadata": {},
     "inputWidgets": {},
     "nuid": "848fe13e-b2a1-4a2d-8c33-3267d07ece29",
     "showTitle": false,
     "title": ""
    }
   },
   "outputs": [],
   "source": [
    "df[\"FECHA_DIAGNOSTICO\"] = pd.to_datetime(df[\"FECHA_DIAGNOSTICO\"])\n",
    "df[\"FECHA_DE_INICIO_DE_SINTOMAS\"] = pd.to_datetime(df[\"FECHA_DE_INICIO_DE_SINTOMAS\"])\n",
    "df.dtypes"
   ]
  },
  {
   "cell_type": "markdown",
   "metadata": {
    "application/vnd.databricks.v1+cell": {
     "cellMetadata": {},
     "inputWidgets": {},
     "nuid": "3252da36-516b-4d93-bb6c-88567ab7b62d",
     "showTitle": false,
     "title": ""
    }
   },
   "source": [
    "Ahora crearemos el reporte de pandas profilling:"
   ]
  },
  {
   "cell_type": "code",
   "execution_count": 0,
   "metadata": {
    "application/vnd.databricks.v1+cell": {
     "cellMetadata": {},
     "inputWidgets": {},
     "nuid": "1769d453-a02b-445d-b001-b0887348e0b4",
     "showTitle": false,
     "title": ""
    }
   },
   "outputs": [],
   "source": [
    "#pip install pandas-profiling"
   ]
  },
  {
   "cell_type": "code",
   "execution_count": 0,
   "metadata": {
    "application/vnd.databricks.v1+cell": {
     "cellMetadata": {},
     "inputWidgets": {},
     "nuid": "f1a7f34a-65d6-437f-8623-ac34d868ff96",
     "showTitle": false,
     "title": ""
    }
   },
   "outputs": [],
   "source": [
    "from pandas_profiling import ProfileReport\n",
    "prof = ProfileReport(df)\n",
    "prof.to_file(output_file='output.html')"
   ]
  },
  {
   "cell_type": "markdown",
   "metadata": {
    "application/vnd.databricks.v1+cell": {
     "cellMetadata": {},
     "inputWidgets": {},
     "nuid": "598ef947-1845-4de8-ab31-f7e37a81a996",
     "showTitle": false,
     "title": ""
    }
   },
   "source": [
    "En la carpeta donde está alojado el cuaderno encontrará un archivo HTML que contiene su reporte. Si lo quiere ver como salida simplemente llámelo:"
   ]
  },
  {
   "cell_type": "code",
   "execution_count": 0,
   "metadata": {
    "application/vnd.databricks.v1+cell": {
     "cellMetadata": {},
     "inputWidgets": {},
     "nuid": "ecdbc068-5815-429f-ab99-aa812f933f0a",
     "showTitle": false,
     "title": ""
    }
   },
   "outputs": [],
   "source": [
    "prof"
   ]
  },
  {
   "cell_type": "markdown",
   "metadata": {
    "application/vnd.databricks.v1+cell": {
     "cellMetadata": {},
     "inputWidgets": {},
     "nuid": "2c69eda5-fc5f-4192-ad1a-565b204354f3",
     "showTitle": false,
     "title": ""
    }
   },
   "source": [
    "Si quiere una exploración más profunda utilice el argumento explorative:"
   ]
  },
  {
   "cell_type": "code",
   "execution_count": 0,
   "metadata": {
    "application/vnd.databricks.v1+cell": {
     "cellMetadata": {},
     "inputWidgets": {},
     "nuid": "7692afff-83c9-47a7-a091-65424b8fcd4f",
     "showTitle": false,
     "title": ""
    }
   },
   "outputs": [],
   "source": [
    "prof2=ProfileReport(df,explorative=True)\n",
    "prof2"
   ]
  },
  {
   "cell_type": "markdown",
   "metadata": {
    "application/vnd.databricks.v1+cell": {
     "cellMetadata": {},
     "inputWidgets": {},
     "nuid": "3fb565b9-cfc1-4f06-bd97-b77452e1ebb7",
     "showTitle": false,
     "title": ""
    }
   },
   "source": [
    "Puede usar los widgets de jupyter:"
   ]
  },
  {
   "cell_type": "code",
   "execution_count": 0,
   "metadata": {
    "application/vnd.databricks.v1+cell": {
     "cellMetadata": {},
     "inputWidgets": {},
     "nuid": "76c4c440-810d-4312-8c4a-8aed0943ca30",
     "showTitle": false,
     "title": ""
    }
   },
   "outputs": [],
   "source": [
    "prof2.to_widgets()"
   ]
  },
  {
   "cell_type": "markdown",
   "metadata": {
    "application/vnd.databricks.v1+cell": {
     "cellMetadata": {},
     "inputWidgets": {},
     "nuid": "3c7bfcda-f2cf-436b-be06-a33cbb6b56a8",
     "showTitle": false,
     "title": ""
    }
   },
   "source": [
    "## DataPrep\n",
    "\n",
    "`dataprep` es un paquete para hacer exploración de datos desarrollado por el grupo de [Investigación de la Ciencia de Datos de *Simon Fraser University*](https://data.cs.sfu.ca/index.html);  la idea es acelerar el proceso de exploración y preparación de datos para *Dta Science*. Un aspecto particular de este paquete es la velocidad en generar reportes en comparación con `pandas-priofilling`.\n",
    "\n",
    "<a href=\"https://sfu-db.github.io/dataprep/index.html\"><img src=\"https://raw.githubusercontent.com/sfu-db/dataprep/develop/assets/logo_cropped.jpg\" style=\"width:150px;align:center\"></a>"
   ]
  },
  {
   "cell_type": "markdown",
   "metadata": {
    "application/vnd.databricks.v1+cell": {
     "cellMetadata": {},
     "inputWidgets": {},
     "nuid": "1547c88f-00a9-422e-8f94-5f0467894938",
     "showTitle": false,
     "title": ""
    }
   },
   "source": [
    "Usaremos nuevamente a base de datos acerca del COVID-19 en Bogotá."
   ]
  },
  {
   "cell_type": "markdown",
   "metadata": {
    "application/vnd.databricks.v1+cell": {
     "cellMetadata": {},
     "inputWidgets": {},
     "nuid": "9eb60012-bb0b-49ec-893b-98ba6df38d0f",
     "showTitle": false,
     "title": ""
    }
   },
   "source": [
    "### Función plot() análisis de distribuciones\n",
    "\n",
    "La función `plot` explora las distribuciones de las variables, además calcula algunos estadísticos. Podrá apreciar una variedad de gráficos enfocados a una mejor comprensión de los datos. Antes arreglaremos las variables:"
   ]
  },
  {
   "cell_type": "code",
   "execution_count": 0,
   "metadata": {
    "application/vnd.databricks.v1+cell": {
     "cellMetadata": {},
     "inputWidgets": {},
     "nuid": "c31026c5-d882-4962-b6f8-bb6383b6710f",
     "showTitle": false,
     "title": ""
    }
   },
   "outputs": [],
   "source": [
    "#pip install dataprep"
   ]
  },
  {
   "cell_type": "code",
   "execution_count": 0,
   "metadata": {
    "application/vnd.databricks.v1+cell": {
     "cellMetadata": {},
     "inputWidgets": {},
     "nuid": "17974477-d161-4dea-b541-b01b5ae4289d",
     "showTitle": false,
     "title": ""
    }
   },
   "outputs": [],
   "source": [
    "from dataprep.eda import plot\n",
    "plot(df)"
   ]
  },
  {
   "cell_type": "markdown",
   "metadata": {
    "application/vnd.databricks.v1+cell": {
     "cellMetadata": {},
     "inputWidgets": {},
     "nuid": "92cf2026-b859-4aac-8452-479f8393e0f8",
     "showTitle": false,
     "title": ""
    }
   },
   "source": [
    "Con la función plot también puedo hacer una exploración en cada variable:"
   ]
  },
  {
   "cell_type": "code",
   "execution_count": 0,
   "metadata": {
    "application/vnd.databricks.v1+cell": {
     "cellMetadata": {},
     "inputWidgets": {},
     "nuid": "10c2674b-f6ff-40b6-a152-e6de2536ee50",
     "showTitle": false,
     "title": ""
    }
   },
   "outputs": [],
   "source": [
    "plot(df,\"EDAD\")"
   ]
  },
  {
   "cell_type": "markdown",
   "metadata": {
    "application/vnd.databricks.v1+cell": {
     "cellMetadata": {},
     "inputWidgets": {},
     "nuid": "2d4b6fc7-0f83-4667-831a-8e9be24bac81",
     "showTitle": false,
     "title": ""
    }
   },
   "source": [
    "Funciona diferente en una variable categórica:"
   ]
  },
  {
   "cell_type": "code",
   "execution_count": 0,
   "metadata": {
    "application/vnd.databricks.v1+cell": {
     "cellMetadata": {},
     "inputWidgets": {},
     "nuid": "99528e6d-1c0e-477c-8a0e-eb600a2b3500",
     "showTitle": false,
     "title": ""
    }
   },
   "outputs": [],
   "source": [
    "plot(df,'LOCALIDAD_ASIS')"
   ]
  },
  {
   "cell_type": "markdown",
   "metadata": {
    "application/vnd.databricks.v1+cell": {
     "cellMetadata": {},
     "inputWidgets": {},
     "nuid": "44fcd271-0945-4fe8-8ce7-06f4c75495d3",
     "showTitle": false,
     "title": ""
    }
   },
   "source": [
    "También es útil para comparar variables:"
   ]
  },
  {
   "cell_type": "code",
   "execution_count": 0,
   "metadata": {
    "application/vnd.databricks.v1+cell": {
     "cellMetadata": {},
     "inputWidgets": {},
     "nuid": "35b86e04-0c4b-48b5-9695-b61f63702819",
     "showTitle": false,
     "title": ""
    }
   },
   "outputs": [],
   "source": [
    "plot(df,'EDAD','LOCALIDAD_ASIS')"
   ]
  },
  {
   "cell_type": "code",
   "execution_count": 0,
   "metadata": {
    "application/vnd.databricks.v1+cell": {
     "cellMetadata": {},
     "inputWidgets": {},
     "nuid": "d10d2df4-745f-441e-a1e9-71178bd03a68",
     "showTitle": false,
     "title": ""
    }
   },
   "outputs": [],
   "source": [
    "plot(df,'FUENTE_O_TIPO_DE_CONTAGIO','LOCALIDAD_ASIS')"
   ]
  },
  {
   "cell_type": "code",
   "execution_count": 0,
   "metadata": {
    "application/vnd.databricks.v1+cell": {
     "cellMetadata": {},
     "inputWidgets": {},
     "nuid": "4299e6ce-d8c9-4516-929d-0293cc4287ad",
     "showTitle": false,
     "title": ""
    }
   },
   "outputs": [],
   "source": [
    "plot(df,'ESTADO','FECHA_DIAGNOSTICO')"
   ]
  },
  {
   "cell_type": "markdown",
   "metadata": {
    "application/vnd.databricks.v1+cell": {
     "cellMetadata": {},
     "inputWidgets": {},
     "nuid": "28158b93-7e45-44c7-893d-466fe9193214",
     "showTitle": false,
     "title": ""
    }
   },
   "source": [
    "Falta comparar dos variables numéricas, usaremos la base [adult_dataset](http://archive.ics.uci.edu/ml/datasets/Adult)"
   ]
  },
  {
   "cell_type": "code",
   "execution_count": 0,
   "metadata": {
    "application/vnd.databricks.v1+cell": {
     "cellMetadata": {},
     "inputWidgets": {},
     "nuid": "21b639b5-5261-468f-8fd2-712f9f0bf9b2",
     "showTitle": false,
     "title": ""
    }
   },
   "outputs": [],
   "source": [
    "adult_dataset = pd.read_csv(\"https://www.openml.org/data/get_csv/1595261/phpMawTba\", na_values = [' ?'])"
   ]
  },
  {
   "cell_type": "code",
   "execution_count": 0,
   "metadata": {
    "application/vnd.databricks.v1+cell": {
     "cellMetadata": {},
     "inputWidgets": {},
     "nuid": "e358aaf7-0618-411a-b6e1-6d7a5870fdd6",
     "showTitle": false,
     "title": ""
    }
   },
   "outputs": [],
   "source": [
    "plot(adult_dataset, \"age\", \"hours-per-week\")"
   ]
  },
  {
   "cell_type": "markdown",
   "metadata": {
    "application/vnd.databricks.v1+cell": {
     "cellMetadata": {},
     "inputWidgets": {},
     "nuid": "4824f1b0-464c-4bd7-b3b5-e943dff32003",
     "showTitle": false,
     "title": ""
    }
   },
   "source": [
    "### plot correlation\n",
    "\n",
    "La función `plot_correlation()` explora la correlación entre variables de múltiples formas, usa diferentes métricas de correlación. "
   ]
  },
  {
   "cell_type": "code",
   "execution_count": 0,
   "metadata": {
    "application/vnd.databricks.v1+cell": {
     "cellMetadata": {},
     "inputWidgets": {},
     "nuid": "e90e7046-5b80-4b89-b9e7-2f77b30a2b72",
     "showTitle": false,
     "title": ""
    }
   },
   "outputs": [],
   "source": [
    "wine = pd.read_csv(\"https://www.openml.org/data/get_csv/4965268/wine-quality-red.arff\")\n",
    "from dataprep.eda import plot_correlation\n",
    "plot_correlation(wine)"
   ]
  },
  {
   "cell_type": "markdown",
   "metadata": {
    "application/vnd.databricks.v1+cell": {
     "cellMetadata": {},
     "inputWidgets": {},
     "nuid": "766e57ed-ae92-4195-93be-745e95b547e8",
     "showTitle": false,
     "title": ""
    }
   },
   "source": [
    "Si ponemos una sola variable la compara todas la demás:"
   ]
  },
  {
   "cell_type": "code",
   "execution_count": 0,
   "metadata": {
    "application/vnd.databricks.v1+cell": {
     "cellMetadata": {},
     "inputWidgets": {},
     "nuid": "2d96f49e-0431-4b40-abb6-b5efe3d8ffa8",
     "showTitle": false,
     "title": ""
    }
   },
   "outputs": [],
   "source": [
    "plot_correlation(wine, \"alcohol\")"
   ]
  },
  {
   "cell_type": "markdown",
   "metadata": {
    "application/vnd.databricks.v1+cell": {
     "cellMetadata": {},
     "inputWidgets": {},
     "nuid": "8c419e8b-1482-4ebe-a0a3-300df8defe84",
     "showTitle": false,
     "title": ""
    }
   },
   "source": [
    "Si ponemos dos numéricas hace el diagrama de dispersión:"
   ]
  },
  {
   "cell_type": "code",
   "execution_count": 0,
   "metadata": {
    "application/vnd.databricks.v1+cell": {
     "cellMetadata": {},
     "inputWidgets": {},
     "nuid": "bca97d48-ed1e-4c84-875e-fdbc3db6513e",
     "showTitle": false,
     "title": ""
    }
   },
   "outputs": [],
   "source": [
    "plot_correlation(wine, \"alcohol\",\"density\")"
   ]
  },
  {
   "cell_type": "markdown",
   "metadata": {
    "application/vnd.databricks.v1+cell": {
     "cellMetadata": {},
     "inputWidgets": {},
     "nuid": "1512d911-e9d7-42dd-b670-f89f2b125380",
     "showTitle": false,
     "title": ""
    }
   },
   "source": [
    "### create_report\n",
    "\n",
    "Finalmente un reporte completo:"
   ]
  },
  {
   "cell_type": "code",
   "execution_count": 0,
   "metadata": {
    "application/vnd.databricks.v1+cell": {
     "cellMetadata": {},
     "inputWidgets": {},
     "nuid": "8e101177-3ffe-4e01-a378-4d7cb80fc77a",
     "showTitle": false,
     "title": ""
    }
   },
   "outputs": [],
   "source": [
    "from dataprep.eda import create_report\n",
    "reportdf = create_report(df, title='COVID BOGOTÁ')\n",
    "reportadult = create_report(adult_dataset, title='Adult dataset')\n",
    "reportwine = create_report(wine, title='Vino')\n"
   ]
  },
  {
   "cell_type": "code",
   "execution_count": 0,
   "metadata": {
    "application/vnd.databricks.v1+cell": {
     "cellMetadata": {},
     "inputWidgets": {},
     "nuid": "38652156-379d-42fe-90cf-cdb765b56120",
     "showTitle": false,
     "title": ""
    }
   },
   "outputs": [],
   "source": [
    "reportdf"
   ]
  },
  {
   "cell_type": "code",
   "execution_count": 0,
   "metadata": {
    "application/vnd.databricks.v1+cell": {
     "cellMetadata": {},
     "inputWidgets": {},
     "nuid": "4ebc7495-39a7-4c10-ab73-759057e3eac2",
     "showTitle": false,
     "title": ""
    }
   },
   "outputs": [],
   "source": [
    "reportadult"
   ]
  },
  {
   "cell_type": "code",
   "execution_count": 0,
   "metadata": {
    "application/vnd.databricks.v1+cell": {
     "cellMetadata": {},
     "inputWidgets": {},
     "nuid": "98900dd7-3d21-40ca-bb51-b4fbac7ed037",
     "showTitle": false,
     "title": ""
    }
   },
   "outputs": [],
   "source": [
    "reportwine"
   ]
  },
  {
   "cell_type": "code",
   "execution_count": 0,
   "metadata": {
    "application/vnd.databricks.v1+cell": {
     "cellMetadata": {},
     "inputWidgets": {},
     "nuid": "5a83e2fa-cd09-4b4e-95fe-fd3c2a9bd607",
     "showTitle": false,
     "title": ""
    }
   },
   "outputs": [],
   "source": []
  }
 ],
 "metadata": {
  "application/vnd.databricks.v1+notebook": {
   "dashboards": [],
   "language": "python",
   "notebookMetadata": {},
   "notebookName": "Análisis exploratorio de datos Rápido-checkpoint",
   "widgets": {}
  },
  "kernelspec": {
   "display_name": "Python 3",
   "language": "python",
   "name": "python3"
  },
  "language_info": {
   "codemirror_mode": {
    "name": "ipython",
    "version": 3
   },
   "file_extension": ".py",
   "mimetype": "text/x-python",
   "name": "python",
   "nbconvert_exporter": "python",
   "pygments_lexer": "ipython3",
   "version": "3.8.5"
  }
 },
 "nbformat": 4,
 "nbformat_minor": 0
}
