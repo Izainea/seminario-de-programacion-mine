{
 "cells": [
  {
   "cell_type": "markdown",
   "metadata": {
    "application/vnd.databricks.v1+cell": {
     "cellMetadata": {},
     "inputWidgets": {},
     "nuid": "0d982e30-1ab6-4ff7-aebf-32340e64c59e",
     "showTitle": false,
     "title": ""
    },
    "toc": true
   },
   "source": [
    "<h1>Matplotlib - Gráficos en Python<span class=\"tocSkip\"></span></h1>\n",
    "<div class=\"toc\"><ul class=\"toc-item\"><li><span><a href=\"#Introducción-Matplotlib\" data-toc-modified-id=\"Introducción-Matplotlib-1\"><span class=\"toc-item-num\">1&nbsp;&nbsp;</span>Introducción Matplotlib</a></span><ul class=\"toc-item\"><li><span><a href=\"#¿Cómo-funciona?\" data-toc-modified-id=\"¿Cómo-funciona?-1.1\"><span class=\"toc-item-num\">1.1&nbsp;&nbsp;</span>¿Cómo funciona?</a></span></li><li><span><a href=\"#Partes-de-una-figura\" data-toc-modified-id=\"Partes-de-una-figura-1.2\"><span class=\"toc-item-num\">1.2&nbsp;&nbsp;</span>Partes de una figura</a></span></li><li><span><a href=\"#Diferentes-tipos-de-gráficos\" data-toc-modified-id=\"Diferentes-tipos-de-gráficos-1.3\"><span class=\"toc-item-num\">1.3&nbsp;&nbsp;</span>Diferentes tipos de gráficos</a></span><ul class=\"toc-item\"><li><span><a href=\"#El-commando-plt.plot()\" data-toc-modified-id=\"El-commando-plt.plot()-1.3.1\"><span class=\"toc-item-num\">1.3.1&nbsp;&nbsp;</span>El commando <code>plt.plot()</code></a></span></li><li><span><a href=\"#Gráficos-de-dispersión\" data-toc-modified-id=\"Gráficos-de-dispersión-1.3.2\"><span class=\"toc-item-num\">1.3.2&nbsp;&nbsp;</span>Gráficos de dispersión</a></span></li><li><span><a href=\"#Gráficos-para-variables-categóricas\" data-toc-modified-id=\"Gráficos-para-variables-categóricas-1.3.3\"><span class=\"toc-item-num\">1.3.3&nbsp;&nbsp;</span>Gráficos para variables categóricas</a></span></li><li><span><a href=\"#Graficador-de-funciones\" data-toc-modified-id=\"Graficador-de-funciones-1.3.4\"><span class=\"toc-item-num\">1.3.4&nbsp;&nbsp;</span>Graficador de funciones</a></span></li><li><span><a href=\"#Texto-en-las-gráficas\" data-toc-modified-id=\"Texto-en-las-gráficas-1.3.5\"><span class=\"toc-item-num\">1.3.5&nbsp;&nbsp;</span>Texto en las gráficas</a></span></li></ul></li><li><span><a href=\"#Backends\" data-toc-modified-id=\"Backends-1.4\"><span class=\"toc-item-num\">1.4&nbsp;&nbsp;</span>Backends</a></span></li></ul></li><li><span><a href=\"#Herramientas-interactivas-ipywidgets\" data-toc-modified-id=\"Herramientas-interactivas-ipywidgets-2\"><span class=\"toc-item-num\">2&nbsp;&nbsp;</span>Herramientas interactivas <code>ipywidgets</code></a></span><ul class=\"toc-item\"><li><span><a href=\"#Una-primera-aplicación\" data-toc-modified-id=\"Una-primera-aplicación-2.1\"><span class=\"toc-item-num\">2.1&nbsp;&nbsp;</span>Una primera aplicación</a></span></li></ul></li></ul></div>"
   ]
  },
  {
   "cell_type": "markdown",
   "metadata": {
    "application/vnd.databricks.v1+cell": {
     "cellMetadata": {},
     "inputWidgets": {},
     "nuid": "72520ce6-6dbc-4d02-a267-562f250d52e1",
     "showTitle": false,
     "title": ""
    }
   },
   "source": [
    "# Introducción Matplotlib\n",
    "\n",
    "El paquete para construir gráficos por excelencia en Python es [Matplotlib](https://matplotlib.org/3.2.2/index.html), una de las librerías más usadas para crear todo tipo de visualizaciones  . Para nosotros es muy importante manejar esta herramienta ya que en múltiples ocasiones la dificultad de muchas explicaciones se resuelven fácilmente con un buen gráfico. En este cuaderno veremos algunos componentes básicos de la graficación con Matplotlib, las partes del gráfico, la definición de `figure()`, unas configuraciones simples y algunas personalizaciones elementales. "
   ]
  },
  {
   "cell_type": "markdown",
   "metadata": {
    "application/vnd.databricks.v1+cell": {
     "cellMetadata": {},
     "inputWidgets": {},
     "nuid": "906799bb-e5d6-4340-a75e-5dece3a2c66a",
     "showTitle": false,
     "title": ""
    }
   },
   "source": [
    "## ¿Cómo funciona?\n",
    "\n",
    "Matplotlib grafica sus datos sobre una instancia llamada `Figure`, cada una de estas contendrá uno o más `Axes` (un área en la que los puntos tienen coordenadas). Usualmente se utiliza la interfaz [pyplot](https://matplotlib.org/3.2.2/api/pyplot_summary.html) basada en algunos estilos y comandos de MATLAB. \n",
    "\n",
    "Veamos un sencillo ejemplo:"
   ]
  },
  {
   "cell_type": "code",
   "execution_count": 0,
   "metadata": {
    "application/vnd.databricks.v1+cell": {
     "cellMetadata": {},
     "inputWidgets": {},
     "nuid": "2ef3b2a3-d34a-459d-bf5d-ff4fedcedc5e",
     "showTitle": false,
     "title": ""
    }
   },
   "outputs": [],
   "source": [
    "import matplotlib.pyplot as plt\n",
    "import numpy as np\n",
    "%matplotlib inline\n",
    "fig, ax = plt.subplots()  # Creamos una figura con un sistema de ejes.\n",
    "ax.plot([1, 2, 3, 4], [1, 4, 2, 3])  # Pintamos algunos datos."
   ]
  },
  {
   "cell_type": "markdown",
   "metadata": {
    "application/vnd.databricks.v1+cell": {
     "cellMetadata": {},
     "inputWidgets": {},
     "nuid": "e6a9265d-c3bc-44b7-9263-ed6d34efcb0a",
     "showTitle": false,
     "title": ""
    }
   },
   "source": [
    "Sin necesidad de fijar los ejes de una figura podemos hacer el mismo gráfico:"
   ]
  },
  {
   "cell_type": "code",
   "execution_count": 0,
   "metadata": {
    "application/vnd.databricks.v1+cell": {
     "cellMetadata": {},
     "inputWidgets": {},
     "nuid": "d26f7e2e-2c31-41c2-9d85-f99b8cc2af17",
     "showTitle": false,
     "title": ""
    }
   },
   "outputs": [],
   "source": [
    "plt.plot([1, 2, 3, 4], [1, 4, 2, 3]) "
   ]
  },
  {
   "cell_type": "markdown",
   "metadata": {
    "application/vnd.databricks.v1+cell": {
     "cellMetadata": {},
     "inputWidgets": {},
     "nuid": "5ef332cf-0139-483f-a371-575585f23e4c",
     "showTitle": false,
     "title": ""
    }
   },
   "source": [
    "## Partes de una figura\n",
    "\n",
    "Veamos los componentes de una figura de Matplotlib:\n",
    "\n",
    "![figure](https://matplotlib.org/3.2.2/_images/anatomy.png)\n",
    "\n",
    "*Tomado de [https://matplotlib.org/3.2.2/tutorials/introductory/usage.html#sphx-glr-tutorials-introductory-usage-py](https://matplotlib.org/3.2.2/tutorials/introductory/usage.html#sphx-glr-tutorials-introductory-usage-py)*"
   ]
  },
  {
   "cell_type": "markdown",
   "metadata": {
    "application/vnd.databricks.v1+cell": {
     "cellMetadata": {},
     "inputWidgets": {},
     "nuid": "3da9ceba-9268-4dda-89bb-b0bbdd13c0cf",
     "showTitle": false,
     "title": ""
    }
   },
   "source": [
    "Sin necesidad de definir nuevas figuras veamos un ejemplo con algunos elementos descritos en la figura:"
   ]
  },
  {
   "cell_type": "code",
   "execution_count": 0,
   "metadata": {
    "application/vnd.databricks.v1+cell": {
     "cellMetadata": {},
     "inputWidgets": {},
     "nuid": "4aa648a0-b6ed-4665-9259-10e67656c74a",
     "showTitle": false,
     "title": ""
    }
   },
   "outputs": [],
   "source": [
    "np.linspace(0, 10, 101)"
   ]
  },
  {
   "cell_type": "code",
   "execution_count": 0,
   "metadata": {
    "application/vnd.databricks.v1+cell": {
     "cellMetadata": {},
     "inputWidgets": {},
     "nuid": "c4737fb6-c704-4113-b15c-5f1507b6d46b",
     "showTitle": false,
     "title": ""
    }
   },
   "outputs": [],
   "source": [
    "np.sin(x)"
   ]
  },
  {
   "cell_type": "code",
   "execution_count": 0,
   "metadata": {
    "application/vnd.databricks.v1+cell": {
     "cellMetadata": {},
     "inputWidgets": {},
     "nuid": "2ea0fb1e-18f6-4f8c-80b9-210426c519df",
     "showTitle": false,
     "title": ""
    }
   },
   "outputs": [],
   "source": [
    "x = np.linspace(0, 10, 101)\n",
    "\n",
    "plt.plot(x, np.tan(x), label='sin(x)')\n",
    "plt.legend()\n",
    "plt.title(\"Una figura simple\")\n",
    "plt.show()"
   ]
  },
  {
   "cell_type": "code",
   "execution_count": 0,
   "metadata": {
    "application/vnd.databricks.v1+cell": {
     "cellMetadata": {},
     "inputWidgets": {},
     "nuid": "b7b30779-ff2f-4256-b25b-3ba20b18f07c",
     "showTitle": false,
     "title": ""
    }
   },
   "outputs": [],
   "source": [
    "from ipywidgets import interact\n",
    "def graficadoradefincionestrigonometricas(t):\n",
    "    x=np.linspace(-4*np.pi,4*np.pi,500)\n",
    "    y=eval(t)\n",
    "    plt.plot(x,y,label=t)\n",
    "    plt.legend()\n",
    "    return\n",
    "\n",
    "from numpy import *\n",
    "\n",
    "lista=[\"sin(x)\",\"cos(x)\",\"tan(x)\"]\n",
    "\n",
    "interact(graficadoradefincionestrigonometricas,t=lista)"
   ]
  },
  {
   "cell_type": "markdown",
   "metadata": {
    "application/vnd.databricks.v1+cell": {
     "cellMetadata": {},
     "inputWidgets": {},
     "nuid": "d6eb9da0-d753-40c1-9e6d-d9dd95a5c7b4",
     "showTitle": false,
     "title": ""
    }
   },
   "source": [
    "No obstante, recordemos que podemos usar instancias para expresar tanto a la figura como los ejes sobre la figura:"
   ]
  },
  {
   "cell_type": "code",
   "execution_count": 0,
   "metadata": {
    "application/vnd.databricks.v1+cell": {
     "cellMetadata": {},
     "inputWidgets": {},
     "nuid": "3ec8f6e3-86b4-4ffc-95f4-b9a4a504c8ca",
     "showTitle": false,
     "title": ""
    }
   },
   "outputs": [],
   "source": [
    "fig = plt.figure()\n",
    "ax = fig.add_subplot(111)\n",
    "ax.plot([1, 2, 3, 4], [10, 20, 25, 30], color='lightblue', linewidth=3)\n",
    "ax.scatter([0.3, 3.8, 1.2, 2.5], [11, 25, 9, 26], color='darkgreen')\n",
    "ax.set_xlim(-2, 6)\n",
    "plt.show()"
   ]
  },
  {
   "cell_type": "markdown",
   "metadata": {
    "application/vnd.databricks.v1+cell": {
     "cellMetadata": {},
     "inputWidgets": {},
     "nuid": "14e9e700-ce8f-471c-b3c6-47571aa16758",
     "showTitle": false,
     "title": ""
    }
   },
   "source": [
    "En este ejemplo utilizamos `plt.figure()` para definir la figura y `fig.add_subplot(111)` para crear la *'zona de dibujo'*. Definamos sobre una misma figura varias zonas de dibujo:"
   ]
  },
  {
   "cell_type": "code",
   "execution_count": 0,
   "metadata": {
    "application/vnd.databricks.v1+cell": {
     "cellMetadata": {},
     "inputWidgets": {},
     "nuid": "4af06136-adfc-4fb3-9b5c-4b1951c9327c",
     "showTitle": false,
     "title": ""
    }
   },
   "outputs": [],
   "source": [
    "x=np.linspace(0,10,100)\n",
    "fig = plt.figure()\n",
    "\n",
    "ax = fig.add_subplot(221)\n",
    "\n",
    "ax.plot([1, 2, 3, 4], [10, 20, 25, 30], color='lightblue', linewidth=3,label=\"línea\")\n",
    "ax.scatter([0.3, 3.8, 1.2, 2.5], [11, 25, 9, 26], color='darkgreen', marker='^',label=\"marker\")\n",
    "ax.legend()\n",
    "plt.title(\"Primera 'zona de dibujo'\")\n",
    "\n",
    "ax2 = fig.add_subplot(222)\n",
    "\n",
    "ax2.plot(x, x, label='línea')\n",
    "ax2.legend()\n",
    "plt.title(\"Segunda 'zona de dibujo'\")\n",
    "\n",
    "ax3 = fig.add_subplot(223)\n",
    "ax3.plot([1, 2, 3, 4], [10, 20, 25, 30], color='lightblue', linewidth=3,label=\"línea\")\n",
    "ax3.scatter([0.3, 3.8, 1.2, 2.5], [11, 25, 9, 26], color='darkgreen', marker='^',label=\"marker\")\n",
    "ax3.legend()\n",
    "plt.title(\"Tercera 'zona de dibujo'\")\n",
    "\n",
    "ax4 = fig.add_subplot(224)\n",
    "ax4.plot(x, x, label='línea')\n",
    "ax4.legend()\n",
    "plt.title(\"Cuarta 'zona de dibujo'\")\n",
    "plt.show()"
   ]
  },
  {
   "cell_type": "markdown",
   "metadata": {
    "application/vnd.databricks.v1+cell": {
     "cellMetadata": {},
     "inputWidgets": {},
     "nuid": "8069ae68-2d22-49cc-b456-1583f85189e8",
     "showTitle": false,
     "title": ""
    }
   },
   "source": [
    "Las zonas de dibujo (`Axes`) siempre deben vincularse a una Figura. Podemos fijar un título para cada zona usando `set_title()`. Por cada `Axes` tenemos 2 o tres ejes (`Axis`), entre sus funcioes útiles tenemos:\n",
    "\n",
    "**Para controlar el límite de los ejes:**\n",
    "* `axes.Axes.set_xlim()`\n",
    "* `axes.Axes.set_ylim()`\n",
    "\n",
    "**Para fijar una etiqueta en el eje**\n",
    "\n",
    "* `set_xlabel()`\n",
    "* `set_ylabel()`\n",
    "\n",
    "\n",
    "Veamos un ejemplo:"
   ]
  },
  {
   "cell_type": "code",
   "execution_count": 0,
   "metadata": {
    "application/vnd.databricks.v1+cell": {
     "cellMetadata": {},
     "inputWidgets": {},
     "nuid": "9be5bf1a-f01c-4f1c-9fda-2ec9be1cfa47",
     "showTitle": false,
     "title": ""
    }
   },
   "outputs": [],
   "source": [
    "fig = plt.figure()\n",
    "ax = fig.add_subplot(121)\n",
    "ax.plot([1, 2, 3, 4], [10, 20, 25, 30], color='lightblue', linewidth=3,label=\"línea\")\n",
    "ax.scatter([0.3, 3.8, 1.2, 2.5], [11, 25, 9, 26], color='darkgreen', marker='^',label=\"marker\")\n",
    "ax.set_xlim(0, 4.5)\n",
    "ax.set_ylim(0, 31)\n",
    "ax.set_ylabel(\"Eje y\")\n",
    "ax.set_xlabel(\"Eje x\")\n",
    "ax.legend()\n",
    "ax.set_title(\"Primera 'zona de dibujo'\")\n",
    "ax2 = fig.add_subplot(122)\n",
    "ax2.plot(x, x, label='línea')\n",
    "ax2.legend()\n",
    "ax2.set_title(\"Segunda 'zona de dibujo'\")\n",
    "plt.show()"
   ]
  },
  {
   "cell_type": "markdown",
   "metadata": {
    "application/vnd.databricks.v1+cell": {
     "cellMetadata": {},
     "inputWidgets": {},
     "nuid": "9c00b5a8-fb75-40b5-83d0-f05c50a6aaa9",
     "showTitle": false,
     "title": ""
    }
   },
   "source": [
    "## Diferentes tipos de gráficos\n",
    "\n",
    "Veamos ahora una galería de gráficos utilizados en diferentes contextos. Según los ejemplos anteriores tenemos la posibilidad de graficar puntos sobre el plano utilizando `plt.plot()`"
   ]
  },
  {
   "cell_type": "markdown",
   "metadata": {
    "application/vnd.databricks.v1+cell": {
     "cellMetadata": {},
     "inputWidgets": {},
     "nuid": "dad00a2b-f03d-4b67-9691-f50baadfaad8",
     "showTitle": false,
     "title": ""
    }
   },
   "source": [
    "### El commando `plt.plot()`"
   ]
  },
  {
   "cell_type": "code",
   "execution_count": 0,
   "metadata": {
    "application/vnd.databricks.v1+cell": {
     "cellMetadata": {},
     "inputWidgets": {},
     "nuid": "9f4bf54c-6b30-4a16-bb8f-e85f03f065d1",
     "showTitle": false,
     "title": ""
    }
   },
   "outputs": [],
   "source": [
    "plt.plot([1,2,4,3,1,2,8,7])\n",
    "plt.ylabel('Una lista de valores')\n",
    "plt.show()"
   ]
  },
  {
   "cell_type": "code",
   "execution_count": 0,
   "metadata": {
    "application/vnd.databricks.v1+cell": {
     "cellMetadata": {},
     "inputWidgets": {},
     "nuid": "97eaf680-ff5e-4814-93a4-7ad98adf5aae",
     "showTitle": false,
     "title": ""
    }
   },
   "outputs": [],
   "source": [
    "np.array([[1, 2, 3,4], [1, 4, 9, 16],[3,4,2,16]])"
   ]
  },
  {
   "cell_type": "code",
   "execution_count": 0,
   "metadata": {
    "application/vnd.databricks.v1+cell": {
     "cellMetadata": {},
     "inputWidgets": {},
     "nuid": "764a8c57-28a8-4a17-a0e0-d16e8b655383",
     "showTitle": false,
     "title": ""
    }
   },
   "outputs": [],
   "source": [
    "plt.plot([1,4,3],[[1, 2, 3,4], [1, 4, 9, 16],[3,4,2,16]]) \n",
    "plt.ylabel('Un arreglo en x, un arreglo en y')\n",
    "plt.grid()\n",
    "plt.show()"
   ]
  },
  {
   "cell_type": "code",
   "execution_count": 0,
   "metadata": {
    "application/vnd.databricks.v1+cell": {
     "cellMetadata": {},
     "inputWidgets": {},
     "nuid": "0676de0b-1daf-4b0d-bd9c-520f582b9fd0",
     "showTitle": false,
     "title": ""
    }
   },
   "outputs": [],
   "source": [
    "import numpy as np\n",
    "\n",
    "x=np.arange(-10,10,0.1)\n",
    "y=np.sin(x)\n",
    "plt.plot(x,y) \n",
    "plt.ylabel('Un gráfico de sen(x)')\n",
    "plt.show()"
   ]
  },
  {
   "cell_type": "markdown",
   "metadata": {
    "application/vnd.databricks.v1+cell": {
     "cellMetadata": {},
     "inputWidgets": {},
     "nuid": "81dee651-0839-49b7-a0aa-9d1ad6562e03",
     "showTitle": false,
     "title": ""
    }
   },
   "source": [
    "No obstante podemos graficar sin unir los puntos:"
   ]
  },
  {
   "cell_type": "code",
   "execution_count": 0,
   "metadata": {
    "application/vnd.databricks.v1+cell": {
     "cellMetadata": {},
     "inputWidgets": {},
     "nuid": "898ee219-7fe3-4a3a-bd23-a6fb6f077d21",
     "showTitle": false,
     "title": ""
    }
   },
   "outputs": [],
   "source": [
    "plt.plot([1, 2, 3, 4], [1, 4, 9, 16], '^y')\n",
    "plt.axis([0, 6, 0, 20])\n",
    "plt.show()"
   ]
  },
  {
   "cell_type": "code",
   "execution_count": 0,
   "metadata": {
    "application/vnd.databricks.v1+cell": {
     "cellMetadata": {},
     "inputWidgets": {},
     "nuid": "3652a12a-a27e-42a3-b995-456be0b5e768",
     "showTitle": false,
     "title": ""
    }
   },
   "outputs": [],
   "source": [
    "x=np.arange(-10,10,0.1)\n",
    "y=np.sin(x)\n",
    "plt.plot(x,y,'g*') \n",
    "plt.ylabel('Un gráfico de sen(x)')\n",
    "plt.show()"
   ]
  },
  {
   "cell_type": "markdown",
   "metadata": {
    "application/vnd.databricks.v1+cell": {
     "cellMetadata": {},
     "inputWidgets": {},
     "nuid": "6b2fe7b8-7466-4971-9893-4a925ff1d251",
     "showTitle": false,
     "title": ""
    }
   },
   "source": [
    "**Varias funciones en un mismo gráfico:**"
   ]
  },
  {
   "cell_type": "code",
   "execution_count": 0,
   "metadata": {
    "application/vnd.databricks.v1+cell": {
     "cellMetadata": {},
     "inputWidgets": {},
     "nuid": "c7355693-4656-4ccb-a7ea-3f968ddb158d",
     "showTitle": false,
     "title": ""
    }
   },
   "outputs": [],
   "source": [
    "plt.plot(x,np.sin(x)+np.cos(x) , 'r--', x, np.sin(x), 'bs', x, np.cos(x), 'g^')\n",
    "plt.show()"
   ]
  },
  {
   "cell_type": "code",
   "execution_count": 0,
   "metadata": {
    "application/vnd.databricks.v1+cell": {
     "cellMetadata": {},
     "inputWidgets": {},
     "nuid": "13bf919a-c94b-4964-bdef-05ea4ddadbd0",
     "showTitle": false,
     "title": ""
    }
   },
   "outputs": [],
   "source": [
    "x = np.linspace(0, 2, 100)\n",
    "fig, ax = plt.subplots()  # Creamos una instancia de figura y una zona de dibujo.\n",
    "ax.plot(x, x, label='Función lineal')  \n",
    "ax.plot(x, x**2, label='Función cuadrática')  \n",
    "ax.plot(x, x**3, label='Función cúbica') \n",
    "ax.set_xlabel('eje x')  \n",
    "ax.set_ylabel('eje y')  \n",
    "ax.set_title(\"Tres funciones\")  \n",
    "ax.legend()  "
   ]
  },
  {
   "cell_type": "markdown",
   "metadata": {
    "application/vnd.databricks.v1+cell": {
     "cellMetadata": {},
     "inputWidgets": {},
     "nuid": "664cb7de-f441-40e3-bbd8-df91f24a00a0",
     "showTitle": false,
     "title": ""
    }
   },
   "source": [
    "Usamos estilos y colores para lineas, para mayor información usar: "
   ]
  },
  {
   "cell_type": "code",
   "execution_count": 0,
   "metadata": {
    "application/vnd.databricks.v1+cell": {
     "cellMetadata": {},
     "inputWidgets": {},
     "nuid": "3b17fad5-967a-43f4-883f-bee3d2d95121",
     "showTitle": false,
     "title": ""
    }
   },
   "outputs": [],
   "source": [
    "line,=plt.plot([1,2,3])\n",
    "plt.setp(line)"
   ]
  },
  {
   "cell_type": "markdown",
   "metadata": {
    "application/vnd.databricks.v1+cell": {
     "cellMetadata": {},
     "inputWidgets": {},
     "nuid": "de563222-c79f-4bae-b64e-a918d290632a",
     "showTitle": false,
     "title": ""
    }
   },
   "source": [
    "### Gráficos de dispersión \n",
    "Iniciemos definiendo una base de datos aleatoria:"
   ]
  },
  {
   "cell_type": "code",
   "execution_count": 0,
   "metadata": {
    "application/vnd.databricks.v1+cell": {
     "cellMetadata": {},
     "inputWidgets": {},
     "nuid": "2ef0135a-ad38-465f-9d8e-77ced8d019dd",
     "showTitle": false,
     "title": ""
    }
   },
   "outputs": [],
   "source": [
    "data={}\n",
    "data = {'Eje x': np.arange(50),\n",
    "        'Tamaño': np.random.randn(50),\n",
    "        'Color': np.random.randint(0, 50, 50)}\n",
    "data['Eje y'] = data['Eje x'] + 10 * np.random.randn(50)\n",
    "data['Tamaño'] = np.abs(data['Tamaño']) * 100"
   ]
  },
  {
   "cell_type": "code",
   "execution_count": 0,
   "metadata": {
    "application/vnd.databricks.v1+cell": {
     "cellMetadata": {},
     "inputWidgets": {},
     "nuid": "9b7570bf-0730-4850-94cf-bc57861c9127",
     "showTitle": false,
     "title": ""
    }
   },
   "outputs": [],
   "source": [
    "data"
   ]
  },
  {
   "cell_type": "code",
   "execution_count": 0,
   "metadata": {
    "application/vnd.databricks.v1+cell": {
     "cellMetadata": {},
     "inputWidgets": {},
     "nuid": "251e7de5-3a63-4c44-8cdc-dc08c4404cd4",
     "showTitle": false,
     "title": ""
    }
   },
   "outputs": [],
   "source": [
    "data['Eje x']"
   ]
  },
  {
   "cell_type": "code",
   "execution_count": 0,
   "metadata": {
    "application/vnd.databricks.v1+cell": {
     "cellMetadata": {},
     "inputWidgets": {},
     "nuid": "82dbdc1f-4881-483a-972e-75ff671b27af",
     "showTitle": false,
     "title": ""
    }
   },
   "outputs": [],
   "source": [
    "data['Eje y']"
   ]
  },
  {
   "cell_type": "code",
   "execution_count": 0,
   "metadata": {
    "application/vnd.databricks.v1+cell": {
     "cellMetadata": {},
     "inputWidgets": {},
     "nuid": "a40ea388-4a11-426f-b80a-776b7a8c38bd",
     "showTitle": false,
     "title": ""
    }
   },
   "outputs": [],
   "source": [
    "plt.scatter('Eje x', 'Eje y',data=data)\n",
    "plt.xlabel('Valores guardados en a')\n",
    "plt.ylabel('Valores guardados en b')\n",
    "plt.show()"
   ]
  },
  {
   "cell_type": "markdown",
   "metadata": {
    "application/vnd.databricks.v1+cell": {
     "cellMetadata": {},
     "inputWidgets": {},
     "nuid": "4cdfd39f-89fe-49d7-9766-eb2f912ac846",
     "showTitle": false,
     "title": ""
    }
   },
   "source": [
    "Introduzcamos variación de tamaños"
   ]
  },
  {
   "cell_type": "code",
   "execution_count": 0,
   "metadata": {
    "application/vnd.databricks.v1+cell": {
     "cellMetadata": {},
     "inputWidgets": {},
     "nuid": "4edd0eaf-bb28-423b-aba5-8d9f2de003d3",
     "showTitle": false,
     "title": ""
    }
   },
   "outputs": [],
   "source": [
    "plt.scatter('Eje x', 'Eje y',s='Tamaño',data=data)\n",
    "plt.xlabel('Valores guardados en a')\n",
    "plt.ylabel('Valores guardados en b')\n",
    "plt.show()"
   ]
  },
  {
   "cell_type": "markdown",
   "metadata": {
    "application/vnd.databricks.v1+cell": {
     "cellMetadata": {},
     "inputWidgets": {},
     "nuid": "589e1727-58f5-45ee-929c-e2c66b6c433d",
     "showTitle": false,
     "title": ""
    }
   },
   "source": [
    "Finalmente usemos colores:"
   ]
  },
  {
   "cell_type": "code",
   "execution_count": 0,
   "metadata": {
    "application/vnd.databricks.v1+cell": {
     "cellMetadata": {},
     "inputWidgets": {},
     "nuid": "a6f64412-e90a-4d8f-a3a2-df20a85c861a",
     "showTitle": false,
     "title": ""
    }
   },
   "outputs": [],
   "source": [
    "plt.scatter('Eje x', 'Eje y',s='Tamaño',c='Color',cmap='inferno',data=data)\n",
    "plt.xlabel('Valores guardados en a')\n",
    "plt.ylabel('Valores guardados en b')\n",
    "plt.show()"
   ]
  },
  {
   "cell_type": "markdown",
   "metadata": {
    "application/vnd.databricks.v1+cell": {
     "cellMetadata": {},
     "inputWidgets": {},
     "nuid": "5fe5a17d-96a0-4940-b3ee-47b88b94fe0d",
     "showTitle": false,
     "title": ""
    }
   },
   "source": [
    "### Gráficos para variables categóricas\n",
    "\n",
    "Con Matplotlib también podemos hacer gráficos de variables categóricas. Un ejemplo simple:"
   ]
  },
  {
   "cell_type": "code",
   "execution_count": 0,
   "metadata": {
    "application/vnd.databricks.v1+cell": {
     "cellMetadata": {},
     "inputWidgets": {},
     "nuid": "8d36a9d9-1ea3-418e-9d60-40f6d3b25414",
     "showTitle": false,
     "title": ""
    }
   },
   "outputs": [],
   "source": [
    "x=[\"María\", \"Pedro\", \"Juan\"]\n",
    "y=[10,12,8]\n",
    "plt.bar(x,y)"
   ]
  },
  {
   "cell_type": "code",
   "execution_count": 0,
   "metadata": {
    "application/vnd.databricks.v1+cell": {
     "cellMetadata": {},
     "inputWidgets": {},
     "nuid": "1d849452-5617-46cc-b4ab-f89d791c478f",
     "showTitle": false,
     "title": ""
    }
   },
   "outputs": [],
   "source": [
    "x=[\"María\", \"Pedro\", \"Juan\"]\n",
    "y=[10,12,8]\n",
    "plt.barh(x,y,color='y')"
   ]
  },
  {
   "cell_type": "code",
   "execution_count": 0,
   "metadata": {
    "application/vnd.databricks.v1+cell": {
     "cellMetadata": {},
     "inputWidgets": {},
     "nuid": "3e24e416-1101-4c2c-8bff-3e85d72b1597",
     "showTitle": false,
     "title": ""
    }
   },
   "outputs": [],
   "source": [
    "x=[\"María\", \"Pedro\", \"Juan\"]\n",
    "y=[10,12,8]\n",
    "plt.plot(x,y)"
   ]
  },
  {
   "cell_type": "code",
   "execution_count": 0,
   "metadata": {
    "application/vnd.databricks.v1+cell": {
     "cellMetadata": {},
     "inputWidgets": {},
     "nuid": "58001f1e-4381-48ac-9c02-489f4c3aa821",
     "showTitle": false,
     "title": ""
    }
   },
   "outputs": [],
   "source": [
    "x=[\"María\", \"Pedro\", \"Juan\"]\n",
    "y=[10,12,8]\n",
    "plt.scatter(y,x)"
   ]
  },
  {
   "cell_type": "markdown",
   "metadata": {
    "application/vnd.databricks.v1+cell": {
     "cellMetadata": {},
     "inputWidgets": {},
     "nuid": "46f908b9-7c7a-4b06-a1ba-ab01b1c36df7",
     "showTitle": false,
     "title": ""
    }
   },
   "source": [
    "Un gráfico de barras apilado"
   ]
  },
  {
   "cell_type": "code",
   "execution_count": 0,
   "metadata": {
    "application/vnd.databricks.v1+cell": {
     "cellMetadata": {},
     "inputWidgets": {},
     "nuid": "101b2036-3fe0-4e5b-b590-e0733e604957",
     "showTitle": false,
     "title": ""
    }
   },
   "outputs": [],
   "source": [
    "labels = ['G1', 'G2', 'G3', 'G4', 'G5']\n",
    "hombres = [24, 26, 30, 35, 17]\n",
    "mujeres = np.array([22, 31, 44, 18, 30])\n",
    "width = 0.35       \n",
    "fig, ax = plt.subplots()\n",
    "\n",
    "\n",
    "ax.bar(labels, mujeres, width, bottom=hombres,label='Mujeres')\n",
    "ax.bar(labels, hombres, width, label='Hombres')\n",
    "ax.set_ylabel('Puntuaciones')\n",
    "ax.set_title('Puntuaciones por grupo y género')\n",
    "ax.legend()\n"
   ]
  },
  {
   "cell_type": "markdown",
   "metadata": {
    "application/vnd.databricks.v1+cell": {
     "cellMetadata": {},
     "inputWidgets": {},
     "nuid": "595a7933-9ddb-422f-b42e-52b91697142e",
     "showTitle": false,
     "title": ""
    }
   },
   "source": [
    "Ahora agrupados:"
   ]
  },
  {
   "cell_type": "code",
   "execution_count": 0,
   "metadata": {
    "application/vnd.databricks.v1+cell": {
     "cellMetadata": {},
     "inputWidgets": {},
     "nuid": "f5699e34-8fd4-42da-ae7f-2930676bde26",
     "showTitle": false,
     "title": ""
    }
   },
   "outputs": [],
   "source": [
    "x = np.arange(len(labels)) \n",
    "fig, ax = plt.subplots()\n",
    "rects1 = ax.bar(x - width/2, hombres, width, label='Hombres')\n",
    "rects2 = ax.bar(x , mujeres+10, width,bottom=5*[10], label='Mujeres')\n",
    "ax.set_xticks(x)\n",
    "ax.set_xticklabels(labels)\n",
    "\n",
    "ax.set_ylabel('Puntuaciones')\n",
    "ax.set_title('Puntuaciones por grupo y género')\n",
    "ax.legend()\n"
   ]
  },
  {
   "cell_type": "markdown",
   "metadata": {
    "application/vnd.databricks.v1+cell": {
     "cellMetadata": {},
     "inputWidgets": {},
     "nuid": "75a0191b-935e-4c21-9562-35503e9ec5c6",
     "showTitle": false,
     "title": ""
    }
   },
   "source": [
    "**Histogramas**"
   ]
  },
  {
   "cell_type": "code",
   "execution_count": 0,
   "metadata": {
    "application/vnd.databricks.v1+cell": {
     "cellMetadata": {},
     "inputWidgets": {},
     "nuid": "1fa4e2f6-260d-40c0-891c-d8e1118cd291",
     "showTitle": false,
     "title": ""
    }
   },
   "outputs": [],
   "source": [
    "mu, sigma = 100, 15\n",
    "x = mu + sigma * np.random.randn(10000)\n",
    "\n",
    "n, bins, patches = plt.hist(x, 89, density=True, facecolor='y', alpha=0.5)\n",
    "\n",
    "plt.xlabel('Puntaje')\n",
    "plt.ylabel('Probabilidad')\n",
    "plt.title('Histograma')\n",
    "plt.axis([40, 160, 0, 0.03])\n",
    "plt.grid(True)\n",
    "plt.show()\n"
   ]
  },
  {
   "cell_type": "code",
   "execution_count": 0,
   "metadata": {
    "application/vnd.databricks.v1+cell": {
     "cellMetadata": {},
     "inputWidgets": {},
     "nuid": "515cb75d-8fc4-44ba-8d47-557369e72abe",
     "showTitle": false,
     "title": ""
    }
   },
   "outputs": [],
   "source": [
    "n"
   ]
  },
  {
   "cell_type": "code",
   "execution_count": 0,
   "metadata": {
    "application/vnd.databricks.v1+cell": {
     "cellMetadata": {},
     "inputWidgets": {},
     "nuid": "bf76b6f4-ba07-4000-badd-2e4d52bd9277",
     "showTitle": false,
     "title": ""
    }
   },
   "outputs": [],
   "source": [
    "bins"
   ]
  },
  {
   "cell_type": "code",
   "execution_count": 0,
   "metadata": {
    "application/vnd.databricks.v1+cell": {
     "cellMetadata": {},
     "inputWidgets": {},
     "nuid": "bc485eb2-6acb-417a-963a-cda84e7b94dc",
     "showTitle": false,
     "title": ""
    }
   },
   "outputs": [],
   "source": [
    "patches"
   ]
  },
  {
   "cell_type": "code",
   "execution_count": 0,
   "metadata": {
    "application/vnd.databricks.v1+cell": {
     "cellMetadata": {},
     "inputWidgets": {},
     "nuid": "e098d9c1-99f4-4ef0-8539-00a97ce073a8",
     "showTitle": false,
     "title": ""
    }
   },
   "outputs": [],
   "source": [
    "mu, sigma = 100, 15\n",
    "x = mu + sigma * np.random.randn(10000)\n",
    "def histograma(n,a):\n",
    "    plt.hist(x, n, density=True, facecolor='y', alpha=a)\n",
    "    plt.xlabel('Puntaje')\n",
    "    plt.ylabel('Probabilidad')\n",
    "    plt.title('Histograma')\n",
    "    plt.axis([40, 160, 0, 0.03])\n",
    "    plt.grid(True)\n",
    "    plt.show()\n",
    "    return"
   ]
  },
  {
   "cell_type": "code",
   "execution_count": 0,
   "metadata": {
    "application/vnd.databricks.v1+cell": {
     "cellMetadata": {},
     "inputWidgets": {},
     "nuid": "786bbbf4-d00f-41f3-be66-343d609fd7ad",
     "showTitle": false,
     "title": ""
    }
   },
   "outputs": [],
   "source": [
    "import ipywidgets as widgets\n",
    "from ipywidgets import interact\n",
    "interact(histograma,n=widgets.IntSlider(value=30,min=1,max=50,description=\"Intervalos\"),\n",
    "         a=widgets.FloatSlider(value=0.5,min=0,max=1,description=\"Transparencia\"))"
   ]
  },
  {
   "cell_type": "code",
   "execution_count": 0,
   "metadata": {
    "application/vnd.databricks.v1+cell": {
     "cellMetadata": {},
     "inputWidgets": {},
     "nuid": "bbc2c2a2-e7bb-44c5-890c-dd8b8f0aa8a9",
     "showTitle": false,
     "title": ""
    }
   },
   "outputs": [],
   "source": [
    "from math import sqrt\n",
    "x=25\n",
    "eval(\"sqrt(x)\")"
   ]
  },
  {
   "cell_type": "markdown",
   "metadata": {
    "application/vnd.databricks.v1+cell": {
     "cellMetadata": {},
     "inputWidgets": {},
     "nuid": "27640a2d-5070-4fc0-9c9d-ff4e2bdec94d",
     "showTitle": false,
     "title": ""
    }
   },
   "source": [
    "### Graficador de funciones"
   ]
  },
  {
   "cell_type": "code",
   "execution_count": 0,
   "metadata": {
    "application/vnd.databricks.v1+cell": {
     "cellMetadata": {},
     "inputWidgets": {},
     "nuid": "b9e16059-3efc-4916-a60e-f8a5abc70875",
     "showTitle": false,
     "title": ""
    }
   },
   "outputs": [],
   "source": [
    "def graffun(nf,xmin,xmax,ymin,ymax):\n",
    "    try:\n",
    "        x = np.linspace(xmin, xmax, 100)\n",
    "        y=eval(nf)\n",
    "        plt.plot(x,y)\n",
    "        plt.axis([xmin,xmax,ymin,ymax])\n",
    "        plt.grid(True)\n",
    "    except:\n",
    "        print('Error!!')\n",
    "\n",
    "\n",
    "interact(graffun,nf='(x-3)**2',xmin=0,xmax=2*np.pi,ymin=-1,ymax=1)  "
   ]
  },
  {
   "cell_type": "markdown",
   "metadata": {
    "application/vnd.databricks.v1+cell": {
     "cellMetadata": {},
     "inputWidgets": {},
     "nuid": "97677d2b-7a84-46b6-a862-67663fc29fe5",
     "showTitle": false,
     "title": ""
    }
   },
   "source": [
    "### Texto en las gráficas\n",
    "\n",
    "Ahora usaremos el comando `plt.text()` y `plt.annotate()` para adicionar texto en el gráfico:"
   ]
  },
  {
   "cell_type": "code",
   "execution_count": 0,
   "metadata": {
    "application/vnd.databricks.v1+cell": {
     "cellMetadata": {},
     "inputWidgets": {},
     "nuid": "8a9b5312-a837-4ba4-a438-66dc99f79e62",
     "showTitle": false,
     "title": ""
    }
   },
   "outputs": [],
   "source": [
    "ax = plt.subplot(111)\n",
    "\n",
    "t = np.arange(0.0, 5.0, 0.01)\n",
    "s = np.cos(2*np.pi*t)\n",
    "line, = plt.plot(t, s, lw=2)\n",
    "\n",
    "plt.text(0.7,1.12,'Un máximo\\nlocal ')\n",
    "\n",
    "plt.ylim(-2, 2)\n",
    "plt.show()"
   ]
  },
  {
   "cell_type": "code",
   "execution_count": 0,
   "metadata": {
    "application/vnd.databricks.v1+cell": {
     "cellMetadata": {},
     "inputWidgets": {},
     "nuid": "d26709a2-c4cd-4ac8-b9ba-e3a8cf5dbf15",
     "showTitle": false,
     "title": ""
    }
   },
   "outputs": [],
   "source": [
    "ax = plt.subplot(111)\n",
    "\n",
    "t = np.arange(0.0, 5.0, 0.01)\n",
    "s = np.cos(2*np.pi*t)\n",
    "line, = plt.plot(t, s, lw=2)\n",
    "\n",
    "plt.text(0.7,1.12,r'$\\left(2\\cdot\\pi\\cdot\\frac{\\pi}{2},1\\right)$')\n",
    "plt.title(r\"Función $\\cos(2\\pi x)$ y un máximo local\")\n",
    "plt.ylim(-2, 2)\n",
    "plt.show()"
   ]
  },
  {
   "cell_type": "markdown",
   "metadata": {
    "application/vnd.databricks.v1+cell": {
     "cellMetadata": {},
     "inputWidgets": {},
     "nuid": "dde9235f-ff86-43cd-b1f5-83c218628914",
     "showTitle": false,
     "title": ""
    }
   },
   "source": [
    "Ahora con una anotación:"
   ]
  },
  {
   "cell_type": "code",
   "execution_count": 0,
   "metadata": {
    "application/vnd.databricks.v1+cell": {
     "cellMetadata": {},
     "inputWidgets": {},
     "nuid": "222a005a-c25b-4893-9dcb-582b08ca5d16",
     "showTitle": false,
     "title": ""
    }
   },
   "outputs": [],
   "source": [
    "ax = plt.subplot(111)\n",
    "\n",
    "t = np.arange(0.0, 5.0, 0.01)\n",
    "s = np.cos(2*np.pi*t)\n",
    "line, = plt.plot(t, s, lw=2)\n",
    "\n",
    "plt.annotate('Máximo local', xy=(1, 1), xytext=(3, 1.5),\n",
    "             arrowprops=dict(edgecolor='green',facecolor='blue', shrink=0),\n",
    "             )\n",
    "\n",
    "plt.ylim(-2, 2)\n",
    "plt.show()\n"
   ]
  },
  {
   "cell_type": "code",
   "execution_count": 0,
   "metadata": {
    "application/vnd.databricks.v1+cell": {
     "cellMetadata": {},
     "inputWidgets": {},
     "nuid": "1a103159-30b4-4e2d-a0b9-44320db4d096",
     "showTitle": false,
     "title": ""
    }
   },
   "outputs": [],
   "source": [
    "ax = plt.subplot(111)\n",
    "\n",
    "t1 = np.arange(-5.0,0.001, 0.01)\n",
    "t2 = np.arange(0.01,5.0, 0.01)\n",
    "s1 = 1/t1\n",
    "s2 = 1/t2\n",
    "plt.plot(t1, s1,t2,s2)\n",
    "\n",
    "plt.ylim(-2, 2)\n",
    "plt.show()"
   ]
  },
  {
   "cell_type": "code",
   "execution_count": 0,
   "metadata": {
    "application/vnd.databricks.v1+cell": {
     "cellMetadata": {},
     "inputWidgets": {},
     "nuid": "6b0a89a6-3e2d-4be3-acec-1158069b9672",
     "showTitle": false,
     "title": ""
    }
   },
   "outputs": [],
   "source": [
    "?plt.annotate"
   ]
  },
  {
   "cell_type": "code",
   "execution_count": 0,
   "metadata": {
    "application/vnd.databricks.v1+cell": {
     "cellMetadata": {},
     "inputWidgets": {},
     "nuid": "b0bad3de-a7ab-4f39-bd0b-46df9c4536e1",
     "showTitle": false,
     "title": ""
    }
   },
   "outputs": [],
   "source": [
    "ax = plt.subplot(111)\n",
    "\n",
    "t = np.arange(0.0, 5.0, 0.01)\n",
    "s = np.cos(2*np.pi*t)\n",
    "line, = plt.plot(t, s, lw=2)\n",
    "\n",
    "plt.annotate('Máximo local', xy=(1, 1), xytext=(3, 1.5),\n",
    "             arrowprops=dict(edgecolor='green',facecolor='red', shrink=0.05),)\n",
    "\n",
    "plt.ylim(-2, 2)\n",
    "plt.show()\n"
   ]
  },
  {
   "cell_type": "code",
   "execution_count": 0,
   "metadata": {
    "application/vnd.databricks.v1+cell": {
     "cellMetadata": {},
     "inputWidgets": {},
     "nuid": "d5c97fd5-a39e-4424-bee1-345442399472",
     "showTitle": false,
     "title": ""
    }
   },
   "outputs": [],
   "source": [
    "def estiloflecha(l):\n",
    "    ax = plt.subplot(111)\n",
    "\n",
    "    t = np.arange(0.0, 5.0, 0.01)\n",
    "    s = np.cos(2*np.pi*t)\n",
    "    line, = plt.plot(t, s, lw=2)\n",
    "\n",
    "    plt.annotate('Máximo local', xy=(1, 1), xytext=(3, 1.5),\n",
    "                 arrowprops=dict(edgecolor='green',facecolor='red', arrowstyle=l),)\n",
    "\n",
    "    plt.ylim(-2, 2)\n",
    "    plt.show()\n",
    "    return\n",
    "\n"
   ]
  },
  {
   "cell_type": "code",
   "execution_count": 0,
   "metadata": {
    "application/vnd.databricks.v1+cell": {
     "cellMetadata": {},
     "inputWidgets": {},
     "nuid": "937d732a-7682-488b-9ede-7cd61e1e922f",
     "showTitle": false,
     "title": ""
    }
   },
   "outputs": [],
   "source": [
    "interact(estiloflecha,l=['-','->','-[','|-|','-|>','fancy','simple','wedge'])"
   ]
  },
  {
   "cell_type": "markdown",
   "metadata": {
    "application/vnd.databricks.v1+cell": {
     "cellMetadata": {},
     "inputWidgets": {},
     "nuid": "bae9cb07-e99a-49a8-850e-920c70fe1d29",
     "showTitle": false,
     "title": ""
    }
   },
   "source": [
    "## Backends\n",
    "\n",
    "Al usar Jupyter nosotros estamos pidiendo que el gráfico se pueda visualizar en el entorno web en el cual se está mostrando las salidas de Python. Sin embargo, es posible visalizar estos mismos gráficos en otras interfáces gráficas más potentes ycon más herramientas. \n",
    "\n",
    "Matplotlib permite utilizar las diferentes interfáces haciendo modificación en su backend, entendiendo al backend como el motor gráfico que genera las diferentes imagenes que imaginamos.\n",
    "\n",
    "Para modificar el backend usado en Jupyter usamos un comándo mágico `%matplotlib`. Veamos algunos ejemplos:"
   ]
  },
  {
   "cell_type": "code",
   "execution_count": 0,
   "metadata": {
    "application/vnd.databricks.v1+cell": {
     "cellMetadata": {},
     "inputWidgets": {},
     "nuid": "ccc87362-526e-461a-a1ad-d9495ec2b9e2",
     "showTitle": false,
     "title": ""
    }
   },
   "outputs": [],
   "source": [
    "import matplotlib"
   ]
  },
  {
   "cell_type": "code",
   "execution_count": 0,
   "metadata": {
    "application/vnd.databricks.v1+cell": {
     "cellMetadata": {},
     "inputWidgets": {},
     "nuid": "41f74023-e063-4636-b8a3-4089f60a9fc3",
     "showTitle": false,
     "title": ""
    }
   },
   "outputs": [],
   "source": [
    "import matplotlib\n",
    "import matplotlib.pyplot as plt\n",
    "import numpy as np"
   ]
  },
  {
   "cell_type": "code",
   "execution_count": 0,
   "metadata": {
    "application/vnd.databricks.v1+cell": {
     "cellMetadata": {},
     "inputWidgets": {},
     "nuid": "d9679010-bd36-4728-b6d8-f62d79cabe4c",
     "showTitle": false,
     "title": ""
    }
   },
   "outputs": [],
   "source": [
    "%matplotlib notebook\n",
    "ax = plt.subplot(111)\n",
    "t = np.arange(0.0, 5.0, 0.01)\n",
    "s = np.cos(2*np.pi*t)\n",
    "line, = plt.plot(t, s, lw=2)\n",
    "plt.text(0.7,1.12,'Un máximo\\nlocal ')\n",
    "plt.ylim(-2, 2)\n",
    "plt.show()"
   ]
  },
  {
   "cell_type": "code",
   "execution_count": 0,
   "metadata": {
    "application/vnd.databricks.v1+cell": {
     "cellMetadata": {},
     "inputWidgets": {},
     "nuid": "9a445591-3c23-418b-86e1-e5308baae67c",
     "showTitle": false,
     "title": ""
    }
   },
   "outputs": [],
   "source": [
    "!pip install mpld3"
   ]
  },
  {
   "cell_type": "code",
   "execution_count": 0,
   "metadata": {
    "application/vnd.databricks.v1+cell": {
     "cellMetadata": {},
     "inputWidgets": {},
     "nuid": "331149f5-6140-4e1d-91b0-cd60fa4837e3",
     "showTitle": false,
     "title": ""
    }
   },
   "outputs": [],
   "source": [
    "import matplotlib\n",
    "import matplotlib.pyplot as plt\n",
    "import numpy as np\n",
    "import mpld3\n",
    "mpld3.enable_notebook()\n",
    "ax = plt.subplot(111)\n",
    "t = np.arange(0.0, 5.0, 0.01)\n",
    "s = np.cos(2*np.pi*t)\n",
    "line, = plt.plot(t, s, lw=2)\n",
    "plt.text(0.7,1.12,'Un máximo\\nlocal ')\n",
    "plt.ylim(-2, 2)\n",
    "plt.show()"
   ]
  },
  {
   "cell_type": "markdown",
   "metadata": {
    "application/vnd.databricks.v1+cell": {
     "cellMetadata": {},
     "inputWidgets": {},
     "nuid": "e539c6c9-2be4-48bc-976f-2c1f5d7882d0",
     "showTitle": false,
     "title": ""
    }
   },
   "source": [
    "# Herramientas interactivas `ipywidgets`\n",
    "\n",
    "Otro paquete que será transversal en este curso y nos permitira crear interfaces interesantes para nuestros estudiantes es [ipywidgets`](https://ipywidgets.readthedocs.io/en/stable/). Para instalar desde el cuaderno escriba:"
   ]
  },
  {
   "cell_type": "code",
   "execution_count": 0,
   "metadata": {
    "application/vnd.databricks.v1+cell": {
     "cellMetadata": {},
     "inputWidgets": {},
     "nuid": "7045f07b-e850-4291-abba-f2defffc200d",
     "showTitle": false,
     "title": ""
    }
   },
   "outputs": [],
   "source": [
    "!pip install ipywidgets"
   ]
  },
  {
   "cell_type": "code",
   "execution_count": 0,
   "metadata": {
    "application/vnd.databricks.v1+cell": {
     "cellMetadata": {},
     "inputWidgets": {},
     "nuid": "64380b8d-99f2-433e-8333-9211a5a09da7",
     "showTitle": false,
     "title": ""
    }
   },
   "outputs": [],
   "source": [
    " pip install seaborn"
   ]
  },
  {
   "cell_type": "code",
   "execution_count": 0,
   "metadata": {
    "application/vnd.databricks.v1+cell": {
     "cellMetadata": {},
     "inputWidgets": {},
     "nuid": "d88a21ab-f237-4c2f-8d9b-b8d8f243f79a",
     "showTitle": false,
     "title": ""
    }
   },
   "outputs": [],
   "source": [
    "!jupyter nbextension enable --py widgetsnbextension"
   ]
  },
  {
   "cell_type": "markdown",
   "metadata": {
    "application/vnd.databricks.v1+cell": {
     "cellMetadata": {},
     "inputWidgets": {},
     "nuid": "5f784249-fa22-4761-9f1e-346d41e659e4",
     "showTitle": false,
     "title": ""
    }
   },
   "source": [
    "Importemos el paquete"
   ]
  },
  {
   "cell_type": "code",
   "execution_count": 0,
   "metadata": {
    "application/vnd.databricks.v1+cell": {
     "cellMetadata": {},
     "inputWidgets": {},
     "nuid": "84dc40d5-69b4-4e98-883e-32e1c516b007",
     "showTitle": false,
     "title": ""
    }
   },
   "outputs": [],
   "source": [
    "from ipywidgets import interact\n",
    "import ipywidgets as widgets"
   ]
  },
  {
   "cell_type": "markdown",
   "metadata": {
    "application/vnd.databricks.v1+cell": {
     "cellMetadata": {},
     "inputWidgets": {},
     "nuid": "e5f9b7fb-03f7-4369-abcc-a413890a9938",
     "showTitle": false,
     "title": ""
    }
   },
   "source": [
    "La herramienta más básica de este paquete es la función `interact`. En el siguiente ejemplo veamos su utilidad:"
   ]
  },
  {
   "cell_type": "code",
   "execution_count": 0,
   "metadata": {
    "application/vnd.databricks.v1+cell": {
     "cellMetadata": {},
     "inputWidgets": {},
     "nuid": "e581d329-9176-4438-b98e-ed4d068a42d0",
     "showTitle": false,
     "title": ""
    }
   },
   "outputs": [],
   "source": [
    "def f(x):\n",
    "    print(\"El valor que escogió es\", x)\n",
    "    return x"
   ]
  },
  {
   "cell_type": "code",
   "execution_count": 0,
   "metadata": {
    "application/vnd.databricks.v1+cell": {
     "cellMetadata": {},
     "inputWidgets": {},
     "nuid": "485f466e-df1d-4b29-9cea-ffd26859589b",
     "showTitle": false,
     "title": ""
    }
   },
   "outputs": [],
   "source": [
    "f(4)"
   ]
  },
  {
   "cell_type": "code",
   "execution_count": 0,
   "metadata": {
    "application/vnd.databricks.v1+cell": {
     "cellMetadata": {},
     "inputWidgets": {},
     "nuid": "94b5b443-2ac1-4961-bf0f-b31fe5c83c0b",
     "showTitle": false,
     "title": ""
    }
   },
   "outputs": [],
   "source": [
    "def f(x):\n",
    "    y=x+5\n",
    "    print(x,\"+\",5,\"=\",y)\n",
    "    return y"
   ]
  },
  {
   "cell_type": "code",
   "execution_count": 0,
   "metadata": {
    "application/vnd.databricks.v1+cell": {
     "cellMetadata": {},
     "inputWidgets": {},
     "nuid": "a3554dec-9b31-407d-bec0-daddfe25b69e",
     "showTitle": false,
     "title": ""
    }
   },
   "outputs": [],
   "source": [
    "f(8)"
   ]
  },
  {
   "cell_type": "code",
   "execution_count": 0,
   "metadata": {
    "application/vnd.databricks.v1+cell": {
     "cellMetadata": {},
     "inputWidgets": {},
     "nuid": "9bd56fbd-3a05-4b69-9753-017e6cc1d9e9",
     "showTitle": false,
     "title": ""
    }
   },
   "outputs": [],
   "source": [
    "def nombrelargoocorto(t):\n",
    "    if len(t)>=7:\n",
    "        print(t+\" es un nombre muy largo\")\n",
    "        z=\"largo\"\n",
    "    else:\n",
    "        print(t+\" es un nombre corto\")\n",
    "        z=\"corto\"\n",
    "    return z"
   ]
  },
  {
   "cell_type": "code",
   "execution_count": 0,
   "metadata": {
    "application/vnd.databricks.v1+cell": {
     "cellMetadata": {},
     "inputWidgets": {},
     "nuid": "25d6b60b-445a-447b-bc5d-c616d18efc6b",
     "showTitle": false,
     "title": ""
    }
   },
   "outputs": [],
   "source": [
    "nombrelargoocorto(\"Benjamin\")"
   ]
  },
  {
   "cell_type": "code",
   "execution_count": 0,
   "metadata": {
    "application/vnd.databricks.v1+cell": {
     "cellMetadata": {},
     "inputWidgets": {},
     "nuid": "e6182a74-98ce-4e9d-ada0-3184b67bc2a6",
     "showTitle": false,
     "title": ""
    }
   },
   "outputs": [],
   "source": [
    "def f(x):\n",
    "    y=x+5\n",
    "    print(x,\"+\",5,\"=\",y)\n",
    "    return y"
   ]
  },
  {
   "cell_type": "code",
   "execution_count": 0,
   "metadata": {
    "application/vnd.databricks.v1+cell": {
     "cellMetadata": {},
     "inputWidgets": {},
     "nuid": "460ec0d4-0ee2-4a64-9837-08f6f5915c24",
     "showTitle": false,
     "title": ""
    }
   },
   "outputs": [],
   "source": [
    "interact(f, x=1.2)"
   ]
  },
  {
   "cell_type": "code",
   "execution_count": 0,
   "metadata": {
    "application/vnd.databricks.v1+cell": {
     "cellMetadata": {},
     "inputWidgets": {},
     "nuid": "60aefb95-f074-46ec-9a01-bb5549beb91f",
     "showTitle": false,
     "title": ""
    }
   },
   "outputs": [],
   "source": [
    "interact(nombrelargoocorto, t=\"Isaac\")"
   ]
  },
  {
   "cell_type": "code",
   "execution_count": 0,
   "metadata": {
    "application/vnd.databricks.v1+cell": {
     "cellMetadata": {},
     "inputWidgets": {},
     "nuid": "adbcc5d6-8f94-4fcc-a866-df1d035c28f9",
     "showTitle": false,
     "title": ""
    }
   },
   "outputs": [],
   "source": [
    "def f(x):\n",
    "    print(\"El valor que escogió es\", x)\n",
    "    return x"
   ]
  },
  {
   "cell_type": "code",
   "execution_count": 0,
   "metadata": {
    "application/vnd.databricks.v1+cell": {
     "cellMetadata": {},
     "inputWidgets": {},
     "nuid": "cd8ec93c-0999-42e4-b67e-f7150c7a7de0",
     "showTitle": false,
     "title": ""
    }
   },
   "outputs": [],
   "source": [
    "interact(f, x=True)"
   ]
  },
  {
   "cell_type": "code",
   "execution_count": 0,
   "metadata": {
    "application/vnd.databricks.v1+cell": {
     "cellMetadata": {},
     "inputWidgets": {},
     "nuid": "3d23b15d-c681-44ab-85f6-d8d38ad4ca01",
     "showTitle": false,
     "title": ""
    }
   },
   "outputs": [],
   "source": [
    "interact(f, x={0:'Elemento 1',1:'Elemento 2'})"
   ]
  },
  {
   "cell_type": "code",
   "execution_count": 0,
   "metadata": {
    "application/vnd.databricks.v1+cell": {
     "cellMetadata": {},
     "inputWidgets": {},
     "nuid": "93384215-036b-4930-b3ed-b8ce3d15e716",
     "showTitle": false,
     "title": ""
    }
   },
   "outputs": [],
   "source": [
    "interact(f, x='Soy interactivo')"
   ]
  },
  {
   "cell_type": "markdown",
   "metadata": {
    "application/vnd.databricks.v1+cell": {
     "cellMetadata": {},
     "inputWidgets": {},
     "nuid": "6e0a80af-2c64-4bce-9cae-05d2b55a293e",
     "showTitle": false,
     "title": ""
    }
   },
   "source": [
    "Los elementos que permiten la interacción con el usuario son los widgets, una lista completa de ellos se encuentra [aquí.](https://ipywidgets.readthedocs.io/en/stable/examples/Widget%20List.html)"
   ]
  },
  {
   "cell_type": "markdown",
   "metadata": {
    "application/vnd.databricks.v1+cell": {
     "cellMetadata": {},
     "inputWidgets": {},
     "nuid": "94e682d0-7c68-4353-9f18-3fa67075b6fe",
     "showTitle": false,
     "title": ""
    }
   },
   "source": [
    "A continuación hacemos un cambio sobre el widget:"
   ]
  },
  {
   "cell_type": "code",
   "execution_count": 0,
   "metadata": {
    "application/vnd.databricks.v1+cell": {
     "cellMetadata": {},
     "inputWidgets": {},
     "nuid": "ff24e5c9-279e-4679-be6d-015472700ed5",
     "showTitle": false,
     "title": ""
    }
   },
   "outputs": [],
   "source": [
    "interact(f, x=widgets.IntText(\n",
    "    value=7,\n",
    "    description='Escriba un número: ',\n",
    "    disabled=False\n",
    "));"
   ]
  },
  {
   "cell_type": "markdown",
   "metadata": {
    "application/vnd.databricks.v1+cell": {
     "cellMetadata": {},
     "inputWidgets": {},
     "nuid": "093cfc42-0688-4c25-92fb-3c5b435aaa15",
     "showTitle": false,
     "title": ""
    }
   },
   "source": [
    "## Una primera aplicación\n",
    "\n",
    "Ya que conocemos algo de Numpy y ipywidgets vamos a crear un ejemplo muy sencillo para calcular algunos estadísticos elementales de una lista de valores:"
   ]
  },
  {
   "cell_type": "code",
   "execution_count": 0,
   "metadata": {
    "application/vnd.databricks.v1+cell": {
     "cellMetadata": {},
     "inputWidgets": {},
     "nuid": "2663e769-b0a6-4614-93ae-6200284c15ac",
     "showTitle": false,
     "title": ""
    }
   },
   "outputs": [],
   "source": [
    "def estadisticos(x):\n",
    "    L=x.split()\n",
    "    L=[float(i) for i in L]        \n",
    "    x=np.array(list(L))\n",
    "    print(\"La media es\", np.mean(x))\n",
    "    print(\"La mediana es\", np.median(x))\n",
    "    print(\"La varianza poblacional es\", np.var(x))\n",
    "    print(\"La varianza muestral es\", np.var(x,ddof=1))\n",
    "    print(\"La desviación estándar poblacional es\", np.std(x))\n",
    "    print(\"La desviación estándar muestral es\", np.std(x,ddof=1))\n",
    "    return"
   ]
  },
  {
   "cell_type": "code",
   "execution_count": 0,
   "metadata": {
    "application/vnd.databricks.v1+cell": {
     "cellMetadata": {},
     "inputWidgets": {},
     "nuid": "5434ef41-b25c-457a-9efb-829a0ca3ed3c",
     "showTitle": false,
     "title": ""
    }
   },
   "outputs": [],
   "source": [
    "estadisticos(\"1 2 3\")"
   ]
  },
  {
   "cell_type": "markdown",
   "metadata": {
    "application/vnd.databricks.v1+cell": {
     "cellMetadata": {},
     "inputWidgets": {},
     "nuid": "673115c2-b26b-4483-8d53-3145de58f7cd",
     "showTitle": false,
     "title": ""
    },
    "solution2": "shown",
    "solution2_first": true
   },
   "source": [
    "Evalue los estadísticos del conjunto de datos [1,1,2,3] y compruebelo con la herramienta:"
   ]
  },
  {
   "cell_type": "code",
   "execution_count": 0,
   "metadata": {
    "application/vnd.databricks.v1+cell": {
     "cellMetadata": {},
     "inputWidgets": {},
     "nuid": "86cc0767-c648-4fa2-bde2-ba717e977d09",
     "showTitle": false,
     "title": ""
    }
   },
   "outputs": [],
   "source": [
    "estadisticos(\"1 2 3 4 5 7 8 3 1 3 4 1 3 4 8 0 9\")"
   ]
  },
  {
   "cell_type": "code",
   "execution_count": 0,
   "metadata": {
    "application/vnd.databricks.v1+cell": {
     "cellMetadata": {},
     "inputWidgets": {},
     "nuid": "811b2b56-1c09-4328-b10b-88c90d7ecfc4",
     "showTitle": false,
     "title": ""
    },
    "scrolled": true,
    "solution2": "shown"
   },
   "outputs": [],
   "source": [
    "interact(estadisticos,x=\"1 2 3\")"
   ]
  },
  {
   "cell_type": "code",
   "execution_count": 0,
   "metadata": {
    "application/vnd.databricks.v1+cell": {
     "cellMetadata": {},
     "inputWidgets": {},
     "nuid": "f3e82ce4-3714-470c-b2f9-fb03c017a4c4",
     "showTitle": false,
     "title": ""
    },
    "solution2": "shown"
   },
   "outputs": [],
   "source": [
    "def estadisticos(x):\n",
    "    try:\n",
    "        L=x.split()\n",
    "        L=[float(i) for i in L]        \n",
    "        x=np.array(list(L))\n",
    "        print(\"La media es\", np.mean(x))\n",
    "        print(\"La mediana es\", np.median(x))\n",
    "        print(\"La varianza poblacional es\", np.var(x))\n",
    "        print(\"La varianza muestral es\", np.var(x,ddof=1))\n",
    "        print(\"La desviación estándar poblacional es\", np.std(x))\n",
    "        print(\"La desviación estándar muestral es\", np.std(x,ddof=1))\n",
    "    except:\n",
    "        print(\"Cuidado con lo que escribe, solo se admiten valores numéricos\")\n",
    "    return"
   ]
  },
  {
   "cell_type": "code",
   "execution_count": 0,
   "metadata": {
    "application/vnd.databricks.v1+cell": {
     "cellMetadata": {},
     "inputWidgets": {},
     "nuid": "48a9b710-19fd-4d11-8469-e11bf30655e2",
     "showTitle": false,
     "title": ""
    },
    "scrolled": true
   },
   "outputs": [],
   "source": [
    "interact(estadisticos,x=\"1 2 3\")"
   ]
  },
  {
   "cell_type": "code",
   "execution_count": 0,
   "metadata": {
    "application/vnd.databricks.v1+cell": {
     "cellMetadata": {},
     "inputWidgets": {},
     "nuid": "c40c6a45-5fb4-43bc-a92c-5b1d8d50239b",
     "showTitle": false,
     "title": ""
    }
   },
   "outputs": [],
   "source": [
    "def txttomtx(x):\n",
    "    L=x.split()\n",
    "    L=[float(i) for i in L]\n",
    "    e=np.sqrt(len(L))\n",
    "    d=int(e)\n",
    "    k=0\n",
    "    M=np.zeros((d,d))\n",
    "    for i in range(d):\n",
    "        for j in range(d):\n",
    "            M[i,j]=L[k]\n",
    "            k=k+1\n",
    "    return M"
   ]
  },
  {
   "cell_type": "code",
   "execution_count": 0,
   "metadata": {
    "application/vnd.databricks.v1+cell": {
     "cellMetadata": {},
     "inputWidgets": {},
     "nuid": "a55d0170-ba28-415b-8545-feadb531c6f1",
     "showTitle": false,
     "title": ""
    }
   },
   "outputs": [],
   "source": [
    "txttomtx(\"1 2 3 4\")"
   ]
  },
  {
   "cell_type": "code",
   "execution_count": 0,
   "metadata": {
    "application/vnd.databricks.v1+cell": {
     "cellMetadata": {},
     "inputWidgets": {},
     "nuid": "d7abeb2b-11a7-4ec5-aca7-1a62acd53480",
     "showTitle": false,
     "title": ""
    }
   },
   "outputs": [],
   "source": [
    "M=txttomtx(\"1 2 3 4\")"
   ]
  },
  {
   "cell_type": "code",
   "execution_count": 0,
   "metadata": {
    "application/vnd.databricks.v1+cell": {
     "cellMetadata": {},
     "inputWidgets": {},
     "nuid": "accb6294-fee2-4da3-9438-3bdc669f9040",
     "showTitle": false,
     "title": ""
    }
   },
   "outputs": [],
   "source": [
    "M"
   ]
  },
  {
   "cell_type": "code",
   "execution_count": 0,
   "metadata": {
    "application/vnd.databricks.v1+cell": {
     "cellMetadata": {},
     "inputWidgets": {},
     "nuid": "819ecce3-daf2-4190-a818-ed0b6c3797b5",
     "showTitle": false,
     "title": ""
    }
   },
   "outputs": [],
   "source": [
    "np.linalg.det(M)"
   ]
  },
  {
   "cell_type": "code",
   "execution_count": 0,
   "metadata": {
    "application/vnd.databricks.v1+cell": {
     "cellMetadata": {},
     "inputWidgets": {},
     "nuid": "b5b5a7b6-6583-4df1-81e5-ec3e4473c40a",
     "showTitle": false,
     "title": ""
    }
   },
   "outputs": [],
   "source": [
    "def matrizopun(x,y):\n",
    "    try:\n",
    "        M=txttomtx(x)\n",
    "        M2=txttomtx(y)\n",
    "        SM=M+M2\n",
    "        print(\"La suma es:\",SM)\n",
    "    except:\n",
    "        print(\"Cuidado con lo que escribe, solo se admiten valores numéricos\")\n",
    "    return"
   ]
  },
  {
   "cell_type": "code",
   "execution_count": 0,
   "metadata": {
    "application/vnd.databricks.v1+cell": {
     "cellMetadata": {},
     "inputWidgets": {},
     "nuid": "1546598f-c9ce-483f-87c0-18dd185182fc",
     "showTitle": false,
     "title": ""
    }
   },
   "outputs": [],
   "source": [
    "interact(matrizopun,x=\"1 2 3 4\",y=\"1 2 3 4\")"
   ]
  },
  {
   "cell_type": "code",
   "execution_count": 0,
   "metadata": {
    "application/vnd.databricks.v1+cell": {
     "cellMetadata": {},
     "inputWidgets": {},
     "nuid": "76883873-7068-4dca-882e-2fa746f43a4a",
     "showTitle": false,
     "title": ""
    }
   },
   "outputs": [],
   "source": [
    "import ipywidgets as widgets\n",
    "from ipywidgets import interact, Layout\n"
   ]
  },
  {
   "cell_type": "code",
   "execution_count": 0,
   "metadata": {
    "application/vnd.databricks.v1+cell": {
     "cellMetadata": {},
     "inputWidgets": {},
     "nuid": "92a92b74-1a6f-4dc8-bfee-a193968d24e7",
     "showTitle": false,
     "title": ""
    }
   },
   "outputs": [],
   "source": [
    "widgets.Textarea(\n",
    "    value='Hello World',\n",
    "    placeholder='Type something',\n",
    "    description='Una descripción muy laaaarga:')"
   ]
  },
  {
   "cell_type": "code",
   "execution_count": 0,
   "metadata": {
    "application/vnd.databricks.v1+cell": {
     "cellMetadata": {},
     "inputWidgets": {},
     "nuid": "6b5af0f8-cf74-4851-8075-b5d61548df51",
     "showTitle": false,
     "title": ""
    }
   },
   "outputs": [],
   "source": [
    "style = {'description_width': 'initial'}\n",
    "l = Layout( height='80px', width='auto')\n",
    "widgets.Textarea(\n",
    "    value='Hello World',\n",
    "    placeholder='Type something',\n",
    "    description='Una descripción muy laaaarga:',\n",
    "    style=style,\n",
    "    layout=l)"
   ]
  },
  {
   "cell_type": "code",
   "execution_count": 0,
   "metadata": {
    "application/vnd.databricks.v1+cell": {
     "cellMetadata": {},
     "inputWidgets": {},
     "nuid": "861b9361-5f97-4ee6-af38-61cf518d5768",
     "showTitle": false,
     "title": ""
    },
    "scrolled": true
   },
   "outputs": [],
   "source": [
    "style = {'description_width': 'initial'}\n",
    "l = Layout( height='80px', width='auto')\n",
    "def convertidodematrices(A):\n",
    "    B=A.split(\"\\n\")\n",
    "    Matriz=[]\n",
    "    for i in B:\n",
    "        Matriz.append([int(j) for j in i.split()])\n",
    "    print(Matriz)\n",
    "    \n",
    "    \n",
    "A=widgets.Textarea(\n",
    "    value='1 2 3',\n",
    "    placeholder='Type something',\n",
    "    description='Una descripción muy laaaarga:',\n",
    "    style=style,\n",
    "    layout=l)\n",
    "\n",
    "interact(convertidodematrices,A=A)"
   ]
  }
 ],
 "metadata": {
  "application/vnd.databricks.v1+notebook": {
   "dashboards": [],
   "language": "python",
   "notebookMetadata": {},
   "notebookName": "Matplotlib-checkpoint",
   "widgets": {}
  },
  "kernelspec": {
   "display_name": "Python 3",
   "language": "python",
   "name": "python3"
  },
  "language_info": {
   "codemirror_mode": {
    "name": "ipython",
    "version": 3
   },
   "file_extension": ".py",
   "mimetype": "text/x-python",
   "name": "python",
   "nbconvert_exporter": "python",
   "pygments_lexer": "ipython3",
   "version": "3.8.5"
  },
  "toc": {
   "base_numbering": 1,
   "nav_menu": {},
   "number_sections": true,
   "sideBar": false,
   "skip_h1_title": false,
   "title_cell": "Matplotlib - Gráficos en Python",
   "title_sidebar": "Cuaderno Matplotlib",
   "toc_cell": true,
   "toc_position": {
    "height": "calc(100% - 180px)",
    "left": "10px",
    "top": "150px",
    "width": "165px"
   },
   "toc_section_display": false,
   "toc_window_display": false
  }
 },
 "nbformat": 4,
 "nbformat_minor": 0
}
