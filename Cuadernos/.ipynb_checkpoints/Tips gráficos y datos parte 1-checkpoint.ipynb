{
 "cells": [
  {
   "cell_type": "markdown",
   "id": "united-conspiracy",
   "metadata": {},
   "source": [
    "# Herramientas de visualización - Algunos consejos útiles\n",
    "\n",
    "En este cuaderno hacemos una exploración por los diversos tipos de gráficos que tenemos a nuestra disposición. Evaluaremos diferentes situaciones y daremos algunos consejos de el tipo de gráfico que mejor se ajuste a los datos analizados. No vamos a establecer unas reglas, en muchas de estas situaciones se apremia la creatividad de la persona que conoce la información, sin embargo, estos tips suelen destrabar ese espiritu creativo."
   ]
  },
  {
   "cell_type": "code",
   "execution_count": null,
   "id": "listed-needle",
   "metadata": {},
   "outputs": [],
   "source": [
    "import numpy as np\n",
    "import pandas as pd\n",
    "import dataprep.eda as dp\n",
    "import matplotlib.pyplot as plt\n",
    "import seaborn as sns\n",
    "import scipy.stats as ss\n",
    "import plotly.express as px\n",
    "import plotly.graph_objects as go\n",
    "from ipywidgets import interact, Layout\n",
    "import ipywidgets as widgets"
   ]
  },
  {
   "cell_type": "markdown",
   "id": "hungry-audio",
   "metadata": {},
   "source": [
    "## (Caso 1) AIRBNB en Bogotá\n",
    "\n",
    "Exploraremos una base de datos referente a la actividad de alojamientos ARBNB en Bogotá en el año 2018. No será una evaluación exhaustiva de la base dado que nuestro interés es establecer consejos útiles para situaciones determinadas, sin embargo, cuando terminems aquí lo invitamos a continuar en esta tarea para extraer la mayor cantidad de información. Usaremos solo tres variables de la base original que puede ser consultada en [datosabiertosbogota](https://datosabiertos.bogota.gov.co/dataset/barrios_airbnb-bogota-2015-2019-mensual)"
   ]
  },
  {
   "cell_type": "markdown",
   "id": "described-prize",
   "metadata": {},
   "source": [
    "### Diccionario de la base\n",
    "\n",
    "Ingreso_Hab_Dia (S)\tSuma por Sector Catastral (Barrio), de los ingresos diarios por habitación (en dólares estadounidenses)  \n",
    "\n",
    "ADR_USD(P)\tTarifa diaria promedio (ADR) de noches reservadas en USD. ADR = Ingresos totales / Noches reservadas\n",
    "\n",
    "Public_Noct_USD(P)\tPromedio de la tarifa nocturna predeterminada para una lista de alquileres de vacaciones en dólares estadounidenses\n",
    "\n",
    "Fotos(P)\tNúmero promedio de fotos publicadas por Sector Catastral (Barrio)\n",
    "\n",
    "Mascotas(M)\t(Moda estadística) del permiso o no de ingreso de animales de compañía\n",
    "\n"
   ]
  },
  {
   "cell_type": "raw",
   "id": "faced-pearl",
   "metadata": {},
   "source": [
    "Cargamos la base de datos:"
   ]
  },
  {
   "cell_type": "code",
   "execution_count": null,
   "id": "timely-intent",
   "metadata": {},
   "outputs": [],
   "source": [
    "DF=pd.read_csv('https://raw.githubusercontent.com/madcentral/visualizacion/master/files/airbnb2018.csv')"
   ]
  },
  {
   "cell_type": "markdown",
   "id": "qualified-nitrogen",
   "metadata": {},
   "source": [
    "Usaremos `dataprep` para una primera vista, no vamos a terminar el proceso de exploración con esta línea, no obstante, vale la pena revisar diferentes aspectos de las variablesque analizaremos."
   ]
  },
  {
   "cell_type": "code",
   "execution_count": null,
   "id": "confirmed-external",
   "metadata": {},
   "outputs": [],
   "source": [
    "dp.plot(DF)"
   ]
  },
  {
   "cell_type": "markdown",
   "id": "dimensional-grass",
   "metadata": {},
   "source": [
    "Empezaremos analizando la variable `ADR_USD` que mide la tarifa diaria promedio (ADR) de noches reservadas en USD. \n",
    "\n",
    "$$ ADR = \\cfrac{\\text{Ingresos totales}}{\\text{Noches reservadas}} $$\n",
    "\n",
    "## Histograma\n",
    "\n",
    "La forma más común de representar una única variable numérica es con un histograma. Nos permite comprender su distribución, desde un punto de vista discreto.\n",
    "\n",
    "Cambiar el tamaño de los contenedores (bins), puede generar diferentes observaciones. No muestre la distribución de más de 5 variables. En su lugar, utilice un diagrama de violín o cresta (ridgeline). Evite llenar con paletas de colores."
   ]
  },
  {
   "cell_type": "code",
   "execution_count": null,
   "id": "surprising-devon",
   "metadata": {},
   "outputs": [],
   "source": [
    "fig = px.histogram(DF, x='ADR_USD (P)')\n",
    "fig.show()"
   ]
  },
  {
   "cell_type": "markdown",
   "id": "abroad-imagination",
   "metadata": {},
   "source": [
    "Juguemos con la cantidad de contenedores:"
   ]
  },
  {
   "cell_type": "code",
   "execution_count": null,
   "id": "olive-interference",
   "metadata": {},
   "outputs": [],
   "source": [
    "def histograma_ADR(n):\n",
    "    fig = px.histogram(DF, x='ADR_USD (P)', nbins=n)\n",
    "    fig.show()\n",
    "    return\n",
    "bins=widgets.IntSlider(value=20,\n",
    "                      min=1,\n",
    "                      max=200)\n",
    "\n",
    "interact(histograma_ADR,n=bins)"
   ]
  },
  {
   "cell_type": "markdown",
   "id": "artificial-appointment",
   "metadata": {},
   "source": [
    "### Escoger el tamaño de los contenedores\n",
    "\n",
    "El tamaño de los contenedores es un parámetro importante, y el uso del tamaño de contenedor incorrecto puede inducir a error al ocultar características importantes de los datos o al crear características aparentes a partir de la variabilidad aleatoria. De forma predeterminada, los diferentes paquetes gráficos eligen un tamaño de ubicación predeterminado en función de la varianza de los datos y el número de observaciones. Pero no debe depender demasiado de estos enfoques automáticos, ya que dependen de suposiciones particulares sobre la estructura de sus datos. Siempre es aconsejable verificar que sus impresiones de la distribución sean consistentes en diferentes tamaños de contenedores."
   ]
  },
  {
   "cell_type": "markdown",
   "id": "typical-shape",
   "metadata": {},
   "source": [
    "## Gráfico de densidad\n",
    "\n",
    "Un histograma tiene como objetivo aproximar la función de densidad de probabilidad subyacente que generó los datos agrupando y contando observaciones. La estimación de la densidad de kernel (KDE) presenta una solución diferente al mismo problema. En lugar de utilizar bins discretos, un gráfico de KDE suaviza las observaciones con un kernel gaussiano, lo que produce una estimación de densidad continua. "
   ]
  },
  {
   "cell_type": "code",
   "execution_count": null,
   "id": "professional-lafayette",
   "metadata": {},
   "outputs": [],
   "source": [
    "sns.kdeplot(DF['ADR_USD (P)'],shade=True)"
   ]
  },
  {
   "cell_type": "markdown",
   "id": "amateur-dakota",
   "metadata": {},
   "source": [
    "combinando con el histograma"
   ]
  },
  {
   "cell_type": "code",
   "execution_count": null,
   "id": "liberal-tuition",
   "metadata": {},
   "outputs": [],
   "source": [
    "sns.histplot(DF['ADR_USD (P)'],kde=True,color=\"olive\")"
   ]
  },
  {
   "cell_type": "markdown",
   "id": "digital-coral",
   "metadata": {},
   "source": [
    "### Elegir el ancho de banda de suavizado\n",
    "Al igual que con el tamaño del contenedor en el histograma, la capacidad de KDE para representar con precisión los datos depende de la elección del ancho de banda de suavizado. Una estimación demasiado suavizada puede borrar características significativas, pero una estimación poco suavizada puede ocultar la forma real dentro del ruido aleatorio. La forma más sencilla de comprobar la solidez de la estimación es ajustar el ancho de banda predeterminado:"
   ]
  },
  {
   "cell_type": "code",
   "execution_count": null,
   "id": "comparative-liberty",
   "metadata": {},
   "outputs": [],
   "source": [
    "def kde_ADR(bw):\n",
    "    sns.kdeplot(DF['ADR_USD (P)'],shade=True,bw_method=bw)\n",
    "    return\n",
    "bw=widgets.FloatSlider(value=0.5,\n",
    "                      min=0.001,\n",
    "                       step=0.001,\n",
    "                      max=1)\n",
    "\n",
    "interact(kde_ADR,bw=bw)\n"
   ]
  },
  {
   "cell_type": "code",
   "execution_count": null,
   "id": "legendary-april",
   "metadata": {},
   "outputs": [],
   "source": [
    "#Ancho de banda corto\n",
    "sns.kdeplot(DF['ADR_USD (P)'],shade=True, bw_adjust=.2)"
   ]
  },
  {
   "cell_type": "markdown",
   "id": "spread-alexandria",
   "metadata": {},
   "source": [
    "## Como se relaciona el Promedio de la tarifa nocturna en la tarifa diaria promedio (ADR) de noches reservadas\n",
    "\n",
    "Vamos ahora a relacionar dos variables, el promedio de la tarifa nocturna con la tarifa diaria promedio (ADR). Claramente el diagrama de dispersión (scatterplot) es el predilecto para este ejercicio, sin embargo, corremos el riesgo de hacer *overplotting* (sobreimpresión) un error que se genera cuado varios puntos caen en una misma locación. Veremos diferentes alternativas para superar este problema. \n"
   ]
  },
  {
   "cell_type": "markdown",
   "id": "loved-brunswick",
   "metadata": {},
   "source": [
    "### Diagrama de dispersión\n",
    "\n",
    "Representa la distribución conjunta de dos variables mediante una nube de puntos, donde cada punto representa una observación en el conjunto de datos. Esta descripción permite al ojo inferir una cantidad sustancial de información sobre si existe alguna relación significativa entre las variables.\n"
   ]
  },
  {
   "cell_type": "code",
   "execution_count": null,
   "id": "antique-elimination",
   "metadata": {},
   "outputs": [],
   "source": [
    "sns.relplot(x=\"ADR_USD (P)\", y=\"Public_Noct_USD (P)\", data=DF)"
   ]
  },
  {
   "cell_type": "markdown",
   "id": "fiscal-qatar",
   "metadata": {},
   "source": [
    "Si bien los puntos se representan en dos dimensiones, se puede agregar otra dimensión al gráfico coloreando los puntos según una tercera variable. Utilizaremos la variable Mascotas."
   ]
  },
  {
   "cell_type": "code",
   "execution_count": null,
   "id": "former-subscriber",
   "metadata": {},
   "outputs": [],
   "source": [
    "fig = px.scatter(DF, x=\"ADR_USD (P)\", y=\"Public_Noct_USD (P)\", color=\"Mascotas (M)\",hover_data=['Fotos (P)'])\n",
    "fig.update_layout(\n",
    "    autosize=False,\n",
    "    width=600,\n",
    "    height=600,\n",
    "    margin=dict(\n",
    "        l=50,\n",
    "        r=50,\n",
    "        b=100,\n",
    "        t=100,\n",
    "        pad=4\n",
    "    ),\n",
    "    paper_bgcolor=\"White\",\n",
    ")\n",
    "fig.show()"
   ]
  },
  {
   "cell_type": "markdown",
   "id": "roman-speaker",
   "metadata": {},
   "source": [
    "### Luchando contra la sobreimpresión\n",
    "\n",
    "### Histograma 2D\n",
    "\n",
    "También conocido como mapa de calor de densidad, es la generalización bidimensional de un histograma que se asemeja a un mapa de calor, pero se calcula agrupando un conjunto de puntos especificados por sus coordenadas x e y en bins y aplicando una función de agregación como count o sum (si se proporciona z) para calcular el color del mosaico que representa el contenedor. Este tipo de visualización (y el contorno del histograma 2D relacionado, o el contorno de densidad) se utiliza a menudo para gestionar la sobreimpresión o situaciones en las que mostrar grandes conjuntos de datos como diagramas de dispersión daría lugar a puntos superpuestos entre sí y ocultando patrones. \n"
   ]
  },
  {
   "cell_type": "code",
   "execution_count": null,
   "id": "pressed-access",
   "metadata": {},
   "outputs": [],
   "source": [
    "## Con seaborn\n",
    "sns.jointplot(data=DF, x=\"ADR_USD (P)\", y=\"Public_Noct_USD (P)\", kind=\"hist\")\n"
   ]
  },
  {
   "cell_type": "code",
   "execution_count": null,
   "id": "neural-allen",
   "metadata": {},
   "outputs": [],
   "source": [
    "# con plotly.express\n",
    "fig = px.density_heatmap(DF, x=\"ADR_USD (P)\", y=\"Public_Noct_USD (P)\",)\n",
    "fig.update_layout(\n",
    "    autosize=False,\n",
    "    width=600,\n",
    "    height=600,\n",
    "    margin=dict(\n",
    "        l=50,\n",
    "        r=50,\n",
    "        b=100,\n",
    "        t=100,\n",
    "        pad=4\n",
    "    ),\n",
    "    paper_bgcolor=\"White\",\n",
    ")\n",
    "fig.show()"
   ]
  },
  {
   "cell_type": "markdown",
   "id": "painted-interest",
   "metadata": {},
   "source": [
    "Podemos agregar distribuciones marginales: "
   ]
  },
  {
   "cell_type": "code",
   "execution_count": null,
   "id": "buried-evolution",
   "metadata": {},
   "outputs": [],
   "source": [
    "# con plotly.express\n",
    "fig = px.density_heatmap(DF, x=\"ADR_USD (P)\", y=\"Public_Noct_USD (P)\",marginal_x=\"histogram\", marginal_y=\"box\")\n",
    "fig.update_layout(\n",
    "    autosize=False,\n",
    "    width=600,\n",
    "    height=600,\n",
    "    margin=dict(\n",
    "        l=50,\n",
    "        r=50,\n",
    "        b=100,\n",
    "        t=100,\n",
    "        pad=4\n",
    "    ),\n",
    "    paper_bgcolor=\"White\",\n",
    ")\n",
    "fig.show()"
   ]
  },
  {
   "cell_type": "markdown",
   "id": "vietnamese-teaching",
   "metadata": {},
   "source": [
    "Así como incluimos un histograma 2D también podemos utilizar un gráfico de densidad. Usaremos únicamente seaborn en esta parte, sin embargo en plotly.express muchos de estos gráficos se pueden hacer:"
   ]
  },
  {
   "cell_type": "code",
   "execution_count": null,
   "id": "considered-wesley",
   "metadata": {},
   "outputs": [],
   "source": [
    "sns.jointplot(data=DF, x=\"ADR_USD (P)\", y=\"Public_Noct_USD (P)\",  hue=\"Mascotas (M)\",kind='kde')\n"
   ]
  },
  {
   "cell_type": "markdown",
   "id": "mental-technical",
   "metadata": {},
   "source": [
    "Podemos incluir también una línea de tendencia:"
   ]
  },
  {
   "cell_type": "code",
   "execution_count": null,
   "id": "greenhouse-charter",
   "metadata": {},
   "outputs": [],
   "source": [
    "sns.jointplot(data=DF, x=\"ADR_USD (P)\", y=\"Public_Noct_USD (P)\",kind='reg')\n"
   ]
  },
  {
   "cell_type": "markdown",
   "id": "sound-microwave",
   "metadata": {},
   "source": [
    "Y podemos evaluar la densidad con histogramas hexagonales:"
   ]
  },
  {
   "cell_type": "code",
   "execution_count": null,
   "id": "hazardous-armenia",
   "metadata": {},
   "outputs": [],
   "source": [
    "sns.jointplot(data=DF, x=\"ADR_USD (P)\", y=\"Public_Noct_USD (P)\",kind='hex')\n"
   ]
  },
  {
   "cell_type": "markdown",
   "id": "collected-reverse",
   "metadata": {},
   "source": [
    "## (Caso 2) Evolución del precio del BitCoin"
   ]
  },
  {
   "cell_type": "markdown",
   "id": "expected-pastor",
   "metadata": {},
   "source": [
    "Este caso presenta sugerencias para analizar un conjunto de datos compuesto por dos variables numéricas ordenadas. Considera la evolución del precio de bitcoin entre abril de 2013 y abril de 2018.\n",
    "\n",
    "*Es tomado de [From data to viz](https://www.data-to-viz.com/)*"
   ]
  },
  {
   "cell_type": "code",
   "execution_count": null,
   "id": "french-constant",
   "metadata": {},
   "outputs": [],
   "source": [
    "DFBitcoin=pd.read_table('https://raw.githubusercontent.com/holtzy/data_to_viz/master/Example_dataset/3_TwoNumOrdered.csv',sep=\" \")"
   ]
  },
  {
   "cell_type": "markdown",
   "id": "second-porcelain",
   "metadata": {},
   "source": [
    "### Gráficos de línea\n",
    "\n",
    "La representación visual debe adaptarse a las características específicas del conjunto de datos y a la pregunta que está tratando de responder con la trama. Con los conjuntos de datos, cuya variable está en función del tiempo u otra variable continua similar requiere una gráfica lineal. "
   ]
  },
  {
   "cell_type": "code",
   "execution_count": null,
   "id": "under-technical",
   "metadata": {},
   "outputs": [],
   "source": [
    "DFBitcoin['date']=pd.to_datetime(DFBitcoin['date'])"
   ]
  },
  {
   "cell_type": "markdown",
   "id": "yellow-string",
   "metadata": {},
   "source": [
    "Recuerde tener el formato adecuado de los datos"
   ]
  },
  {
   "cell_type": "code",
   "execution_count": null,
   "id": "colored-discussion",
   "metadata": {},
   "outputs": [],
   "source": [
    "g=sns.relplot(x=\"date\", y=\"value\", kind=\"line\", data=DFBitcoin)\n",
    "g.fig.autofmt_xdate()"
   ]
  },
  {
   "cell_type": "markdown",
   "id": "announced-surgeon",
   "metadata": {},
   "source": [
    "### Agregación y representación de la incertidumbre\n",
    "Los conjuntos de datos más complejos tendrán múltiples medidas para el mismo valor de la variable x. Para nuestra base de dtos calcularemos el mes correspondiente a cada fecha. En ese caso, tendremos los diferentes precios del Bitcoin medidos en diferentes meses:"
   ]
  },
  {
   "cell_type": "code",
   "execution_count": null,
   "id": "disciplinary-kennedy",
   "metadata": {},
   "outputs": [],
   "source": [
    "DFBitcoin['Mes']=DFBitcoin['date'].dt.month"
   ]
  },
  {
   "cell_type": "code",
   "execution_count": null,
   "id": "coastal-american",
   "metadata": {},
   "outputs": [],
   "source": [
    "DFBitcoin"
   ]
  },
  {
   "cell_type": "markdown",
   "id": "serial-bernard",
   "metadata": {},
   "source": [
    "Los intervalos de confianza se calculan por defecto, con un 95% de confianza:"
   ]
  },
  {
   "cell_type": "code",
   "execution_count": null,
   "id": "scenic-burton",
   "metadata": {},
   "outputs": [],
   "source": [
    "sns.relplot(x=\"Mes\", y=\"value\", kind=\"line\", data=DFBitcoin);"
   ]
  },
  {
   "cell_type": "markdown",
   "id": "multiple-diana",
   "metadata": {},
   "source": [
    "Como se calculan  mediante bootstrapping, que puede requerir mucho tiempo para conjuntos de datos más grandes. Es posible inhabilitarlos:"
   ]
  },
  {
   "cell_type": "code",
   "execution_count": null,
   "id": "important-cinema",
   "metadata": {},
   "outputs": [],
   "source": [
    "sns.relplot(x=\"Mes\", y=\"value\", ci=None, kind=\"line\",data=DFBitcoin);"
   ]
  },
  {
   "cell_type": "markdown",
   "id": "affiliated-coating",
   "metadata": {},
   "source": [
    "o modificarlo"
   ]
  },
  {
   "cell_type": "code",
   "execution_count": null,
   "id": "hundred-kruger",
   "metadata": {},
   "outputs": [],
   "source": [
    "sns.relplot(x=\"Mes\", y=\"value\", ci=99, kind=\"line\",data=DFBitcoin);"
   ]
  },
  {
   "cell_type": "markdown",
   "id": "embedded-apple",
   "metadata": {},
   "source": [
    "Si quisiera también puede usar la desviación estándar:"
   ]
  },
  {
   "cell_type": "code",
   "execution_count": null,
   "id": "closing-impossible",
   "metadata": {},
   "outputs": [],
   "source": [
    "sns.relplot(x=\"Mes\", y=\"value\", ci='sd', kind=\"line\",data=DFBitcoin);"
   ]
  },
  {
   "cell_type": "markdown",
   "id": "pending-conjunction",
   "metadata": {},
   "source": [
    "## Gráfico de áreas\n",
    "Un gráfico de áreas es realmente similar a un gráfico de líneas, excepto que el área entre el eje x y la línea se rellena con color o sombreado. Representa la evolución de una variable numérica. Hace que la tendencia sea más obvia que usar un gráfico de líneas."
   ]
  },
  {
   "cell_type": "code",
   "execution_count": null,
   "id": "initial-biodiversity",
   "metadata": {},
   "outputs": [],
   "source": [
    "fig = px.area(DFBitcoin, x=\"date\", y=\"value\")\n",
    "fig.show()"
   ]
  },
  {
   "cell_type": "markdown",
   "id": "failing-drama",
   "metadata": {},
   "source": [
    "### En caso de evaluar pocos datos\n",
    "\n",
    "Veamos ahora algunas sugerencias para series que no toman el valor nulo:"
   ]
  },
  {
   "cell_type": "code",
   "execution_count": null,
   "id": "uniform-correction",
   "metadata": {},
   "outputs": [],
   "source": [
    "DFBitcoin_corta=DFBitcoin[DFBitcoin['date']>'04-2018']"
   ]
  },
  {
   "cell_type": "code",
   "execution_count": null,
   "id": "polished-retailer",
   "metadata": {},
   "outputs": [],
   "source": [
    "fig = px.area(DFBitcoin_corta, x=\"date\", y=\"value\")\n",
    "fig.show()"
   ]
  },
  {
   "cell_type": "markdown",
   "id": "excellent-austria",
   "metadata": {},
   "source": [
    "El gráfico anterior puede resultar un poco frustrante. De hecho, es difícil estudiar la evolución del bitcoin en este gráfico ya que el precio oscila entre los 7.500 y los 9.500 dólares en este período, cuando el eje Y oscila entre 0 y 10.000. En este caso, es una buena práctica cortar el eje Y para ampliar la variación. "
   ]
  },
  {
   "cell_type": "code",
   "execution_count": null,
   "id": "identical-memory",
   "metadata": {},
   "outputs": [],
   "source": [
    "fig = px.area(DFBitcoin_corta, x=\"date\", y=\"value\",range_y=(6500,9500))\n",
    "fig.show()"
   ]
  },
  {
   "cell_type": "markdown",
   "id": "closing-education",
   "metadata": {},
   "source": [
    "A veces, uno puede estar interesado en comparar el valor con un umbral específico. En este caso, puede llenar el área en función de este umbral, con 2 colores diferentes dependiendo de si el valor está por encima o por debajo del umbral:"
   ]
  },
  {
   "cell_type": "code",
   "execution_count": null,
   "id": "rocky-incidence",
   "metadata": {},
   "outputs": [],
   "source": [
    "DFBitcoin_corta['Nivel']=8000"
   ]
  },
  {
   "cell_type": "code",
   "execution_count": null,
   "id": "massive-finance",
   "metadata": {},
   "outputs": [],
   "source": [
    "fig = go.Figure()\n",
    "fig.add_trace(go.Scatter(x=DFBitcoin_corta['date'], y=DFBitcoin_corta['value'],\n",
    "    fill=None,\n",
    "    mode='lines',\n",
    "    line_color='indigo',name='Precio'\n",
    "    ))\n",
    "fig.add_trace(go.Scatter(x=DFBitcoin_corta['date'], y=DFBitcoin_corta['Nivel'],\n",
    "    fill='tonexty', \n",
    "    mode='lines', line_color='blue',name='Constante'))\n",
    "\n",
    "fig.show()\n"
   ]
  },
  {
   "cell_type": "markdown",
   "id": "sporting-disney",
   "metadata": {},
   "source": [
    "## (Caso 3) Quien vende más armas\n",
    "\n",
    "Es tomado de [From data to viz](https://www.data-to-viz.com/)\n",
    "\n",
    "Veremos algunas sugerencias para graficar datos compuestos por variables numéricas y categóricas. El conjunto de datos utilizado como ejemplo proporciona la cantidad de armas exportadas por los 50 principales exportadores más grandes en 2017. Este conjunto de datos se ha descargado en el sitio web del Instituto Internacional de Investigación para la Paz de Estocolmo y hay más información disponible [aquí.](http://www.sipri.org/databases/armstransfers/sources-and-methods/)"
   ]
  },
  {
   "cell_type": "code",
   "execution_count": null,
   "id": "written-rolling",
   "metadata": {},
   "outputs": [],
   "source": [
    "DFArmas=pd.read_csv('https://raw.githubusercontent.com/holtzy/data_to_viz/master/Example_dataset/7_OneCatOneNum.csv')"
   ]
  },
  {
   "cell_type": "code",
   "execution_count": null,
   "id": "everyday-module",
   "metadata": {},
   "outputs": [],
   "source": [
    "DFArmas = DFArmas.sort_values(by='Value')"
   ]
  },
  {
   "cell_type": "code",
   "execution_count": null,
   "id": "multiple-hundred",
   "metadata": {},
   "outputs": [],
   "source": [
    "DFArmas=DFArmas[~DFArmas.isnull().Value]"
   ]
  },
  {
   "cell_type": "markdown",
   "id": "presidential-georgia",
   "metadata": {},
   "source": [
    "## Paletas\n",
    "\n",
    "La forma más común de representar este tipo de información es probablemente usando gráficos de barras, las paleticas pueden ser una buena alternativa, por su sencilles y ligereza. Básicamente es lo mismo, pero la barra se reemplaza por una línea y un punto al final. Permite que la figura esté menos apeñuscada.\n",
    "\n",
    "Las usamos horizontales."
   ]
  },
  {
   "cell_type": "code",
   "execution_count": null,
   "id": "included-yemen",
   "metadata": {},
   "outputs": [],
   "source": [
    "\n",
    "my_range=range(1,len(DFArmas.index)+1)\n",
    "fig,ax=plt.subplots(figsize=(12,10))\n",
    "# The vertcval plot is made using the hline function\n",
    "# I load the seaborn library only to benefit the nice looking feature\n",
    "ax.hlines(y=my_range, xmin=0, xmax=DFArmas['Value'],  alpha=0.4)\n",
    "ax.scatter(DFArmas['Value'], my_range, alpha=1)\n",
    " \n",
    "# Add title and exis names\n",
    "plt.yticks(my_range, DFArmas['Country'])\n",
    "plt.title(\"Los que más venden armas\", loc='left')\n",
    "plt.xlabel('Total')\n",
    "plt.ylabel('País')\n",
    "plt.grid()\n",
    "plt.show()"
   ]
  },
  {
   "cell_type": "markdown",
   "id": "conventional-latter",
   "metadata": {},
   "source": [
    "## Diagrama de barras\n",
    "\n"
   ]
  },
  {
   "cell_type": "markdown",
   "id": "caring-agriculture",
   "metadata": {},
   "source": [
    "Un diagrama de barras (o gráfico de barras) es uno de los tipos de gráficos más comunes. Muestra la relación entre una variable numérica y una categórica. Cada entidad de la variable categórica se representa como una barra. El tamaño de la barra representa su valor numérico."
   ]
  },
  {
   "cell_type": "code",
   "execution_count": null,
   "id": "comic-lincoln",
   "metadata": {},
   "outputs": [],
   "source": [
    "DFArmas = DFArmas.sort_values('Value',ascending=False)\n",
    "fig,ax=plt.subplots(figsize=(12,10))\n",
    "sns.barplot(data=DFArmas, x=\"Value\",y='Country')\n",
    "ax.set_xlabel(\"Qualitative\")"
   ]
  },
  {
   "cell_type": "markdown",
   "id": "irish-designer",
   "metadata": {},
   "source": [
    "### Diagrama de barras circular\n",
    "\n",
    "La gráfica de barras circular es una alternativa a las gráficas de barras, donde cada barra se coloca alrededor de un círculo en lugar de a lo largo de una línea. El beneficio es que su figura se vuelve más llamativa y utiliza el espacio de manera más eficiente. Sin embargo, las diferencias entre grupos se vuelven más difíciles de leer. "
   ]
  },
  {
   "cell_type": "code",
   "execution_count": null,
   "id": "baking-simpson",
   "metadata": {},
   "outputs": [],
   "source": [
    "from matplotlib import cm\n",
    "\n",
    "DFArmas_corta=DFArmas.head(4)\n",
    "labels = DFArmas_corta.Country\n",
    "data = DFArmas_corta.Value\n",
    "#number of data points\n",
    "n = len(data)\n",
    "#find max value for full ring\n",
    "k = 10 ** int(np.log10(max(data)))\n",
    "m = k * (1 + max(data) // k)\n",
    "\n",
    "#radius of donut chart\n",
    "r = 1.5\n",
    "#calculate width of each ring\n",
    "w = r / n \n",
    "\n",
    "\n",
    "colors = [cm.terrain(i / n) for i in range(n)]\n",
    "\n",
    "#create figure, axis\n",
    "fig, ax = plt.subplots()\n",
    "ax.axis(\"equal\")\n",
    "\n",
    "#create rings of donut chart\n",
    "for i in range(n):\n",
    "    #hide labels in segments with textprops: alpha = 0 - transparent, alpha = 1 - visible\n",
    "    innerring, _ = ax.pie([m - data[i], data[i]], radius = r - i * w, startangle = 90, labels = [\"\", labels[i]], labeldistance = 1 - 1 / (1.5 * (n - i)), textprops = {\"alpha\": 0}\n",
    "                          , colors = [\"white\", colors[i]])\n",
    "    plt.setp(innerring, width = w, edgecolor = \"white\")\n",
    "\n",
    "plt.legend()\n",
    "plt.show()"
   ]
  },
  {
   "cell_type": "markdown",
   "id": "awful-hopkins",
   "metadata": {},
   "source": [
    "## Mapa de árbol\n",
    "\n",
    "Un mapa de árbol representa cada entidad como un rectángulo, con un área que es proporcional a la variable numérica del conjunto de datos.\n",
    "Es una buena forma de mostrar una descripción general de la organización de los datos y probablemente sea más llamativa que la gráfica de barras anterior. Sin embargo, es menos preciso en el sentido de que es más difícil hacer comparaciones precisas entre grupos."
   ]
  },
  {
   "cell_type": "code",
   "execution_count": null,
   "id": "academic-endorsement",
   "metadata": {},
   "outputs": [],
   "source": [
    "fig = px.treemap(DFArmas, \n",
    "                 path= ['Country', 'Value'], \n",
    "                 values='Value',\n",
    "                )\n",
    "fig.show()"
   ]
  },
  {
   "cell_type": "markdown",
   "id": "accompanied-cemetery",
   "metadata": {},
   "source": [
    "## Intermesso -  Algunos gráficos interesantes\n",
    "\n",
    "### Diagrama de Gantt\n",
    "\n",
    "Un diagrama de Gantt es un tipo de diagrama de barras que ilustra el cronograma de un proyecto. El gráfico enumera las tareas a realizar en el eje vertical y los intervalos de tiempo en el eje horizontal. El ancho de las barras horizontales en el gráfico muestra la duración de cada actividad.\n",
    "\n"
   ]
  },
  {
   "cell_type": "code",
   "execution_count": null,
   "id": "determined-purse",
   "metadata": {},
   "outputs": [],
   "source": [
    "df = pd.DataFrame([\n",
    "    dict(Tarea=\"Pensar la tesis\", Start='2020-01-01', Finish='2020-02-28',Dolor='Medio'),\n",
    "    dict(Tarea=\"Llorar por la tesis\", Start='2020-01-05', Finish='2020-04-15',Dolor='Mucho'),\n",
    "    dict(Tarea=\"Olvidar por la tesis\", Start='2020-04-16', Finish='2020-05-20',Dolor='Poco'),\n",
    "    dict(Tarea=\"Hacer la tesis\", Start='2020-05-20', Finish='2020-05-30',Dolor='No registra')\n",
    "])\n",
    "\n",
    "fig = px.timeline(df, x_start=\"Start\", x_end=\"Finish\", y=\"Tarea\",color=\"Dolor\")\n",
    "fig.update_yaxes(autorange=\"reversed\") # otherwise tasks are listed from the bottom up\n",
    "fig.show()"
   ]
  },
  {
   "cell_type": "markdown",
   "id": "roman-argument",
   "metadata": {},
   "source": [
    "### Embudos\n",
    "\n",
    "Los gráficos de embudo se utilizan a menudo para representar datos en diferentes etapas de un proceso empresarial. Es un mecanismo importante en Business Intelligence para identificar posibles áreas problemáticas de un proceso. Por ejemplo, se utiliza para observar los ingresos o las pérdidas en un proceso de ventas para cada etapa y muestra valores que disminuyen progresivamente. Cada etapa se ilustra como un porcentaje del total de todos los valores."
   ]
  },
  {
   "cell_type": "code",
   "execution_count": null,
   "id": "registered-greene",
   "metadata": {},
   "outputs": [],
   "source": [
    "data = dict(\n",
    "    number=[39, 27.4, 20.6, 11, 2],\n",
    "    stage=[\"Website visit\", \"Downloads\", \"Potential customers\", \"Requested price\", \"invoice sent\"])\n",
    "fig = px.funnel(data, x='number', y='stage')\n",
    "fig.show()"
   ]
  },
  {
   "cell_type": "code",
   "execution_count": null,
   "id": "green-catalyst",
   "metadata": {},
   "outputs": [],
   "source": [
    "stages = [\"Website visit\", \"Downloads\", \"Potential customers\", \"Requested price\", \"invoice sent\"]\n",
    "df_mtl = pd.DataFrame(dict(number=[39, 27.4, 20.6, 11, 3], stage=stages))\n",
    "df_mtl['office'] = 'Montreal'\n",
    "df_toronto = pd.DataFrame(dict(number=[52, 36, 18, 14, 5], stage=stages))\n",
    "df_toronto['office'] = 'Toronto'\n",
    "df = pd.concat([df_mtl, df_toronto], axis=0)\n",
    "df"
   ]
  },
  {
   "cell_type": "code",
   "execution_count": null,
   "id": "incomplete-hormone",
   "metadata": {},
   "outputs": [],
   "source": [
    "fig = px.funnel(df, x='number', y='stage', color='office')\n",
    "fig.show()"
   ]
  },
  {
   "cell_type": "markdown",
   "id": "reverse-essay",
   "metadata": {},
   "source": [
    "### Rayos de sol (Sunburst)\n",
    "\n",
    "Los gráficos de rayos de sol visualizan datos jerárquicos que se extienden radialmente hacia afuera desde la raíz hasta las hojas. La jerarquía del sector sunburst está determinada por las entradas en las etiquetas (nombres en px.sunburst) y en los padres. La raíz comienza desde el centro y se agregan a los anillos externos.\n",
    "\n",
    "Argumentos principales:\n",
    "\n",
    "**labels (nombres en px.sunburst ya que las etiquetas están reservadas para anular los nombres de las columnas)**: establece las etiquetas de los sectores de rayos solares.\n",
    "\n",
    "**parents:** establece los sectores padre de los sectores de rayos solares. Se utiliza una cadena vacía '' para el nodo raíz en la jerarquía. En este ejemplo, la raíz es \"Eva\".\n",
    "\n",
    "**values:** establece los valores asociados con los sectores de rayos solares, determinando su ancho (Consulte la sección de valores de rama a continuación para conocer los diferentes modos para establecer el ancho).\n",
    "\n"
   ]
  },
  {
   "cell_type": "code",
   "execution_count": null,
   "id": "resident-sixth",
   "metadata": {},
   "outputs": [],
   "source": [
    "data = dict(\n",
    "    character=[\"Eve\", \"Cain\", \"Seth\", \"Enos\", \"Noam\", \"Abel\", \"Awan\", \"Enoch\", \"Azura\"],\n",
    "    parent=[\"\", \"Eve\", \"Eve\", \"Seth\", \"Seth\", \"Eve\", \"Eve\", \"Awan\", \"Eve\" ],\n",
    "    value=[10, 14, 12, 10, 2, 6, 6, 4, 4])\n",
    "pd.DataFrame(data=data)"
   ]
  },
  {
   "cell_type": "code",
   "execution_count": null,
   "id": "banner-moment",
   "metadata": {},
   "outputs": [],
   "source": [
    "fig =px.sunburst(\n",
    "    data,\n",
    "    names='character',\n",
    "    parents='parent',\n",
    "    values='value',\n",
    ")\n",
    "fig.show()"
   ]
  },
  {
   "cell_type": "markdown",
   "id": "rubber-royal",
   "metadata": {},
   "source": [
    "Sunburst usado en DataFrame Rectángular, observe como se define el orden de los anillos:\n",
    "\n"
   ]
  },
  {
   "cell_type": "code",
   "execution_count": null,
   "id": "generic-appearance",
   "metadata": {},
   "outputs": [],
   "source": [
    "df = px.data.tips()\n",
    "df"
   ]
  },
  {
   "cell_type": "code",
   "execution_count": null,
   "id": "italian-temperature",
   "metadata": {},
   "outputs": [],
   "source": [
    "fig = px.sunburst(df, path=['day', 'time', 'sex'], values='total_bill')\n",
    "fig.show()"
   ]
  },
  {
   "cell_type": "code",
   "execution_count": null,
   "id": "dominican-promise",
   "metadata": {},
   "outputs": [],
   "source": [
    "fig = px.sunburst(df, path=['sex', 'time', 'day'], values='total_bill')\n",
    "fig.show()"
   ]
  },
  {
   "cell_type": "markdown",
   "id": "yellow-shooting",
   "metadata": {},
   "source": [
    "También se pueden incluir variables numéricas para modificar los pesos `weights`:"
   ]
  },
  {
   "cell_type": "code",
   "execution_count": null,
   "id": "civic-dayton",
   "metadata": {},
   "outputs": [],
   "source": [
    "df = px.data.gapminder().query(\"year == 2007\")\n",
    "fig = px.sunburst(df, path=['continent', 'country'], values='pop',\n",
    "                  color='lifeExp', hover_data=['iso_alpha'],\n",
    "                  color_continuous_scale='RdBu',\n",
    "                  color_continuous_midpoint=np.average(df['lifeExp'], weights=df['pop']))\n",
    "fig.show()"
   ]
  },
  {
   "cell_type": "markdown",
   "id": "english-packing",
   "metadata": {},
   "source": [
    "### Gráfico de Burbujas\n",
    "\n",
    "Aprovechamos esta base de datos para hablar de tres variables numéricas o más. La base anterior es la famosa base GAPMINDER que se hizo famosa a través de Hans Rosling Ted Talk. Proporciona la esperanza de vida media, el pib per cápita y el tamaño de la población de más de 100 países."
   ]
  },
  {
   "cell_type": "code",
   "execution_count": null,
   "id": "instant-porter",
   "metadata": {},
   "outputs": [],
   "source": [
    "df"
   ]
  },
  {
   "cell_type": "code",
   "execution_count": null,
   "id": "surface-dakota",
   "metadata": {},
   "outputs": [],
   "source": [
    "px.scatter(df,x='gdpPercap',y='lifeExp',size='pop',size_max=70,color='continent',hover_name='country')"
   ]
  },
  {
   "cell_type": "markdown",
   "id": "structured-sunglasses",
   "metadata": {},
   "source": [
    "El problema con el diagrama de burbujas es que la relación entre la variable de los ejes X e Y es mucho más obvia que la relación con la tercera variable. Por eso se debe priorizar las variables y estar seguro de lo que se quiere mostrar. Antes de hacer ese tipo de gráfico, creo que es una buena práctica probar otras combinaciones:"
   ]
  },
  {
   "cell_type": "code",
   "execution_count": null,
   "id": "connected-syracuse",
   "metadata": {},
   "outputs": [],
   "source": [
    "px.scatter(df,x='gdpPercap',size='lifeExp',y='pop',color='continent',hover_name='country')"
   ]
  },
  {
   "cell_type": "code",
   "execution_count": null,
   "id": "spectacular-petite",
   "metadata": {},
   "outputs": [],
   "source": [
    "px.scatter(df,x='lifeExp',size='gdpPercap',y='pop',color='continent',hover_name='country')"
   ]
  },
  {
   "cell_type": "markdown",
   "id": "mobile-olympus",
   "metadata": {},
   "source": [
    "En este caso, no existe una relación obvia entre la población y otras métricas, por lo que tiene sentido utilizar la población para el tamaño de la burbuja.\n",
    "\n",
    "Si solo desea resaltar la relación entre el GBP per cápita y la esperanza de vida, probablemente ya haya hecho la mayor parte del trabajo. Sin embargo, es una buena práctica resaltar algunos puntos interesantes en este gráfico para dar más información sobre la trama:"
   ]
  },
  {
   "cell_type": "markdown",
   "id": "inclusive-connectivity",
   "metadata": {},
   "source": [
    "## (Caso 4)  Nombres de Bebe\n",
    "\n",
    "Este caso tiene como objetivo describir algunas visualizaciones de datos que se pueden aplicar a un conjunto de datos que contiene una variable numérica ordenada, una variable categórica y otra variable numérica. Como ejemplo, consideraremos la evolución de las frecuencias de nombres de bebés en los EE. UU. Entre 1880 y 2015."
   ]
  },
  {
   "cell_type": "code",
   "execution_count": null,
   "id": "collect-stephen",
   "metadata": {},
   "outputs": [],
   "source": [
    "DfBebes=pd.read_csv('https://raw.githubusercontent.com/holtzy/data_to_viz/master/Example_dataset/5_OneCatSevNumOrdered.csv')"
   ]
  },
  {
   "cell_type": "code",
   "execution_count": null,
   "id": "welcome-limitation",
   "metadata": {},
   "outputs": [],
   "source": [
    "DfBebes"
   ]
  },
  {
   "cell_type": "markdown",
   "id": "tamil-interest",
   "metadata": {},
   "source": [
    "La primera visualización obvia para representar este conjunto de datos es producir un gráfico de líneas. Cada nombre de bebé está representado por una línea. El eje X indica el año y el eje Y muestra el número de bebés."
   ]
  },
  {
   "cell_type": "code",
   "execution_count": null,
   "id": "positive-bubble",
   "metadata": {},
   "outputs": [],
   "source": [
    "fig = px.line(DfBebes, x=\"year\", y=\"n\", color='name')\n",
    "fig.show()"
   ]
  },
  {
   "cell_type": "markdown",
   "id": "uniform-egypt",
   "metadata": {},
   "source": [
    "Los gráficos de líneas tienden a estar demasiado desordenados tan pronto como se muestran más de unos pocos grupos. Este es un error común en la visualización de datos, tan común que se le ha denominado gráfico de espaguetis. Por lo tanto, esta solución generalmente se aplica si desea resaltar un grupo específico de todo el conjunto de datos. Por ejemplo, resaltemos la evolución de Amanda en comparación con los otros nombres, basta con en el mismo gráfico hacer click sobre Amanda en el cuadro de la derecha: "
   ]
  },
  {
   "cell_type": "code",
   "execution_count": null,
   "id": "attempted-syria",
   "metadata": {},
   "outputs": [],
   "source": [
    "fig = px.line(DfBebes, x=\"year\", y=\"n\", color='name')\n",
    "fig.show()"
   ]
  }
 ],
 "metadata": {
  "kernelspec": {
   "display_name": "Python 3",
   "language": "python",
   "name": "python3"
  },
  "language_info": {
   "codemirror_mode": {
    "name": "ipython",
    "version": 3
   },
   "file_extension": ".py",
   "mimetype": "text/x-python",
   "name": "python",
   "nbconvert_exporter": "python",
   "pygments_lexer": "ipython3",
   "version": "3.8.5"
  }
 },
 "nbformat": 4,
 "nbformat_minor": 5
}
