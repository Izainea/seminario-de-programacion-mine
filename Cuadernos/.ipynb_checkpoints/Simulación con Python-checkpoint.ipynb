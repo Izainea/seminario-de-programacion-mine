{
 "cells": [
  {
   "cell_type": "markdown",
   "metadata": {
    "toc": true
   },
   "source": [
    "<h1>Table of Contents<span class=\"tocSkip\"></span></h1>\n",
    "<div class=\"toc\"><ul class=\"toc-item\"><li><span><a href=\"#Ejercicio-1---Análisis-del-riesgo-Proyecto-PortaCom\" data-toc-modified-id=\"Ejercicio-1---Análisis-del-riesgo-Proyecto-PortaCom-1\"><span class=\"toc-item-num\">1&nbsp;&nbsp;</span>Ejercicio 1 - Análisis del riesgo Proyecto PortaCom</a></span></li></ul></div>"
   ]
  },
  {
   "cell_type": "code",
   "execution_count": 1,
   "metadata": {},
   "outputs": [],
   "source": [
    "import numpy as np\n",
    "import pandas as pd \n",
    "import matplotlib.pyplot as plt\n",
    "import seaborn as sns"
   ]
  },
  {
   "cell_type": "markdown",
   "metadata": {},
   "source": [
    "## Ejercicio 1 - Análisis del riesgo Proyecto PortaCom"
   ]
  },
  {
   "cell_type": "markdown",
   "metadata": {},
   "source": [
    "1. Este ejercicio requiere que simulemos tres valores:\n",
    "\n",
    "*  **Costo de mano de obra directo:**  PortaCom cree que el costo de la mano de obra directa oscilará desde 43 US hasta 47 US por unidad y está descrita por la distribución de probabilidad discreta mostrada en la siguiente tabla:\n",
    "|Costo|Prob|\n",
    "|:---:|:---:|\n",
    "|43 US\\$ |0.1|\n",
    "|44 US\\$ |0.2|\n",
    "|45 US\\$ |0.4|\n",
    "|46 US\\$ |0.2|\n",
    "|47 US\\$ |0.1|\n",
    "\n",
    "* **Costo de las piezas**: Este costo depende de la economía general, la demanda de las piezas y la política de fi jación de precios de los proveedores de piezas de PortaCom. Esta empresa cree que el costo de las piezas oscilará desde  80 US  hasta 100 US por unidad y está descrito por una distribución de probabilidad uniforme.\n",
    "\n",
    "* **Demanda durante el primer año:** PortaCom cree que la demanda durante el primer año está descrita por la distribución de probabilidad normal. El valor medio o esperado de la demanda durante el primer año es de 15.000 unidades. La desviación estándar, de 4500 unidades."
   ]
  },
  {
   "cell_type": "markdown",
   "metadata": {},
   "source": [
    "2. Con estos valores, la idea es calcular la utilidad del primer año, dicho cálculo se resume en el siguiente diagrama de flujo:\n",
    "\n",
    "![im1](https://raw.githubusercontent.com/MCG-Externado/MateBasicas-MCG1/master/imagenes/imSim.png)"
   ]
  },
  {
   "cell_type": "markdown",
   "metadata": {},
   "source": [
    "Fijemos los valores fijos:"
   ]
  },
  {
   "cell_type": "code",
   "execution_count": 2,
   "metadata": {},
   "outputs": [],
   "source": [
    "precio_unitario=249\n",
    "costo_admin=400000\n",
    "costo_pub=600000"
   ]
  },
  {
   "cell_type": "markdown",
   "metadata": {},
   "source": [
    "Ahora, usando una simulación, calculemos el costo de mano de obra directa, para este ejercicio utilizamos la herramienta `np.random.uniform` para generar valores entre 0 y 1 de manera uniforme y  un programa que a partir de la distribución descrita determine los valores entre 43 y 47.\n",
    "\n"
   ]
  },
  {
   "cell_type": "code",
   "execution_count": 3,
   "metadata": {},
   "outputs": [
    {
     "name": "stdout",
     "output_type": "stream",
     "text": [
      "En esta ejecución el costo de mano de obra es  45\n"
     ]
    }
   ],
   "source": [
    "uniform_value=np.random.uniform(0,1)\n",
    "\n",
    "\n",
    "if uniform_value<0.1:\n",
    "    cmo=43\n",
    "elif uniform_value<0.3:\n",
    "    cmo=44\n",
    "elif uniform_value <0.7:\n",
    "    cmo=45\n",
    "elif uniform_value<0.9:\n",
    "    cmo=46\n",
    "else:\n",
    "    cmo=47\n",
    "    \n",
    "print('En esta ejecución el costo de mano de obra es ',cmo)"
   ]
  },
  {
   "cell_type": "markdown",
   "metadata": {},
   "source": [
    "Así mismo calculamos el costo de piezas, usamos `np.random.randint(low,high)`, una función que escoge aleatoriamente números enteros entre `low` y `high`usando una distribuciṕn uniforme :"
   ]
  },
  {
   "cell_type": "code",
   "execution_count": 4,
   "metadata": {},
   "outputs": [],
   "source": [
    "cp=np.random.randint(80,100)"
   ]
  },
  {
   "cell_type": "markdown",
   "metadata": {},
   "source": [
    "Finalmente determnamos la demanda, usamos de manera similar la función `np.random.normal(mean,std)` con media `mean` y desviación estándar `std`, también `round` para tomar el número entero más cercano."
   ]
  },
  {
   "cell_type": "code",
   "execution_count": 5,
   "metadata": {},
   "outputs": [],
   "source": [
    "dm=round(np.random.normal(15000,4500))"
   ]
  },
  {
   "cell_type": "markdown",
   "metadata": {},
   "source": [
    "Los valores simulados son:"
   ]
  },
  {
   "cell_type": "code",
   "execution_count": 6,
   "metadata": {},
   "outputs": [
    {
     "name": "stdout",
     "output_type": "stream",
     "text": [
      "Costo de mano de obra  45\n",
      "Costo de piezas  98\n",
      "Demanda  15815\n"
     ]
    }
   ],
   "source": [
    "print('Costo de mano de obra ',cmo)\n",
    "print('Costo de piezas ',cp)\n",
    "print('Demanda ',dm)"
   ]
  },
  {
   "cell_type": "markdown",
   "metadata": {},
   "source": [
    "Vamos a poner todos esos valores en una misma celda y calculamos la utilidad:"
   ]
  },
  {
   "cell_type": "code",
   "execution_count": 7,
   "metadata": {},
   "outputs": [
    {
     "name": "stdout",
     "output_type": "stream",
     "text": [
      "En este ejercicio con costos unitario de mano de obra 46 $, con costo de piezas  84 $ y demanda  11581 \n",
      "La utilidad es de 378139 $\n"
     ]
    }
   ],
   "source": [
    "precio_unitario=249\n",
    "costo_admin=400000\n",
    "costo_pub=600000\n",
    "uniform_value=np.random.uniform(0,1)\n",
    "\n",
    "\n",
    "if uniform_value<0.1:\n",
    "    cmo=43\n",
    "elif uniform_value<0.3:\n",
    "    cmo=44\n",
    "elif uniform_value <0.7:\n",
    "    res=45\n",
    "elif uniform_value<0.9:\n",
    "    cmo=46\n",
    "else:\n",
    "    cmo=47\n",
    "cp=np.random.randint(80,100)\n",
    "dm=round(np.random.normal(15000,4500))\n",
    "\n",
    "#Usamos la fórmula de utilidad\n",
    "\n",
    "U=(precio_unitario-cmo-cp)*dm -costo_admin-costo_pub\n",
    "\n",
    "print('En este ejercicio con costos unitario de mano de obra',cmo,'$, con costo de piezas ',cp ,'$ y demanda ',dm,'\\nLa utilidad es de',U,'$') "
   ]
  },
  {
   "cell_type": "markdown",
   "metadata": {},
   "source": [
    "Si ejecuta nuevamente la celda anterior obtendrá una nueva utilidad.\n",
    "\n",
    "Guademos 100 simulaciones con un `for`: "
   ]
  },
  {
   "cell_type": "code",
   "execution_count": 8,
   "metadata": {},
   "outputs": [
    {
     "data": {
      "text/html": [
       "<div>\n",
       "<style scoped>\n",
       "    .dataframe tbody tr th:only-of-type {\n",
       "        vertical-align: middle;\n",
       "    }\n",
       "\n",
       "    .dataframe tbody tr th {\n",
       "        vertical-align: top;\n",
       "    }\n",
       "\n",
       "    .dataframe thead th {\n",
       "        text-align: right;\n",
       "    }\n",
       "</style>\n",
       "<table border=\"1\" class=\"dataframe\">\n",
       "  <thead>\n",
       "    <tr style=\"text-align: right;\">\n",
       "      <th></th>\n",
       "      <th>Costo Mano de Obra</th>\n",
       "      <th>Costo Piezas</th>\n",
       "      <th>Demanda</th>\n",
       "      <th>Utilidades</th>\n",
       "    </tr>\n",
       "  </thead>\n",
       "  <tbody>\n",
       "    <tr>\n",
       "      <th>0</th>\n",
       "      <td>47</td>\n",
       "      <td>82</td>\n",
       "      <td>17566</td>\n",
       "      <td>1107920</td>\n",
       "    </tr>\n",
       "    <tr>\n",
       "      <th>1</th>\n",
       "      <td>44</td>\n",
       "      <td>91</td>\n",
       "      <td>17950</td>\n",
       "      <td>1046300</td>\n",
       "    </tr>\n",
       "    <tr>\n",
       "      <th>2</th>\n",
       "      <td>43</td>\n",
       "      <td>83</td>\n",
       "      <td>9681</td>\n",
       "      <td>190763</td>\n",
       "    </tr>\n",
       "    <tr>\n",
       "      <th>3</th>\n",
       "      <td>45</td>\n",
       "      <td>96</td>\n",
       "      <td>20821</td>\n",
       "      <td>1248668</td>\n",
       "    </tr>\n",
       "    <tr>\n",
       "      <th>4</th>\n",
       "      <td>46</td>\n",
       "      <td>85</td>\n",
       "      <td>18468</td>\n",
       "      <td>1179224</td>\n",
       "    </tr>\n",
       "    <tr>\n",
       "      <th>...</th>\n",
       "      <td>...</td>\n",
       "      <td>...</td>\n",
       "      <td>...</td>\n",
       "      <td>...</td>\n",
       "    </tr>\n",
       "    <tr>\n",
       "      <th>95</th>\n",
       "      <td>44</td>\n",
       "      <td>82</td>\n",
       "      <td>18978</td>\n",
       "      <td>1334294</td>\n",
       "    </tr>\n",
       "    <tr>\n",
       "      <th>96</th>\n",
       "      <td>45</td>\n",
       "      <td>92</td>\n",
       "      <td>16039</td>\n",
       "      <td>796368</td>\n",
       "    </tr>\n",
       "    <tr>\n",
       "      <th>97</th>\n",
       "      <td>46</td>\n",
       "      <td>93</td>\n",
       "      <td>17068</td>\n",
       "      <td>877480</td>\n",
       "    </tr>\n",
       "    <tr>\n",
       "      <th>98</th>\n",
       "      <td>45</td>\n",
       "      <td>91</td>\n",
       "      <td>19541</td>\n",
       "      <td>1208133</td>\n",
       "    </tr>\n",
       "    <tr>\n",
       "      <th>99</th>\n",
       "      <td>45</td>\n",
       "      <td>95</td>\n",
       "      <td>12941</td>\n",
       "      <td>410569</td>\n",
       "    </tr>\n",
       "  </tbody>\n",
       "</table>\n",
       "<p>100 rows × 4 columns</p>\n",
       "</div>"
      ],
      "text/plain": [
       "    Costo Mano de Obra  Costo Piezas  Demanda  Utilidades\n",
       "0                   47            82    17566     1107920\n",
       "1                   44            91    17950     1046300\n",
       "2                   43            83     9681      190763\n",
       "3                   45            96    20821     1248668\n",
       "4                   46            85    18468     1179224\n",
       "..                 ...           ...      ...         ...\n",
       "95                  44            82    18978     1334294\n",
       "96                  45            92    16039      796368\n",
       "97                  46            93    17068      877480\n",
       "98                  45            91    19541     1208133\n",
       "99                  45            95    12941      410569\n",
       "\n",
       "[100 rows x 4 columns]"
      ]
     },
     "execution_count": 8,
     "metadata": {},
     "output_type": "execute_result"
    }
   ],
   "source": [
    "#Lista de valores simulados\n",
    "cmo_list=[] #Lista de cmo\n",
    "cp_list=[] #Lista de cp\n",
    "dm_list=[] #Lista de dm\n",
    "U_list=[] #Lista de utilidades\n",
    "for i in range(100):\n",
    "    precio_unitario=249\n",
    "    costo_admin=400000\n",
    "    costo_pub=600000\n",
    "    \n",
    "    \n",
    "    uniform_value=np.random.uniform(0,1)\n",
    "    \n",
    "    #CMO\n",
    "    if uniform_value<0.1:\n",
    "        cmo=43\n",
    "    elif uniform_value<0.3:\n",
    "        cmo=44\n",
    "    elif uniform_value <0.7:\n",
    "        cmo=45\n",
    "    elif uniform_value<0.9:\n",
    "        cmo=46\n",
    "    else:\n",
    "        cmo=47\n",
    "    cmo_list.append(cmo) #Guardamos el cmo\n",
    "    #CP\n",
    "    cp=np.random.randint(80,100)\n",
    "    cp_list.append(cp) #Guardamos el cp\n",
    "    \n",
    "    #dm\n",
    "    dm=round(np.random.normal(15000,4500))\n",
    "    dm_list.append(dm)\n",
    "    \n",
    "    #Usamos la fórmula de utilidad\n",
    "    U=(precio_unitario-cmo-cp)*dm -costo_admin-costo_pub\n",
    "    U_list.append(U)\n",
    "    \n",
    "#Finalmente guardamos todo en una base:\n",
    "\n",
    "TODO=pd.DataFrame({'Costo Mano de Obra':cmo_list,'Costo Piezas':cp_list,'Demanda':dm_list,'Utilidades':U_list})\n",
    "TODO"
   ]
  },
  {
   "cell_type": "markdown",
   "metadata": {},
   "source": [
    "Algunos gráficos:"
   ]
  },
  {
   "cell_type": "code",
   "execution_count": 9,
   "metadata": {},
   "outputs": [
    {
     "data": {
      "image/png": "[encoded data removed]",
      "text/plain": [
       "<Figure size 432x288 with 1 Axes>"
      ]
     },
     "metadata": {
      "needs_background": "light"
     },
     "output_type": "display_data"
    }
   ],
   "source": [
    "#CMO\n",
    "\n",
    "TODO['Costo Mano de Obra'].plot.hist()\n",
    "plt.xticks(rotation='90')\n",
    "plt.ticklabel_format(style='plain', axis='x',useOffset=False)\n",
    "plt.show()"
   ]
  },
  {
   "cell_type": "code",
   "execution_count": 10,
   "metadata": {},
   "outputs": [
    {
     "data": {
      "image/png": "[encoded data removed]",
      "text/plain": [
       "<Figure size 432x288 with 1 Axes>"
      ]
     },
     "metadata": {
      "needs_background": "light"
     },
     "output_type": "display_data"
    }
   ],
   "source": [
    "#CP\n",
    "\n",
    "TODO['Costo Piezas'].plot.hist()\n",
    "plt.xticks(rotation='90')\n",
    "plt.ticklabel_format(style='plain', axis='x',useOffset=False)\n",
    "plt.show()"
   ]
  },
  {
   "cell_type": "code",
   "execution_count": 11,
   "metadata": {},
   "outputs": [
    {
     "data": {
      "image/png": "[encoded data removed]",
      "text/plain": [
       "<Figure size 432x288 with 1 Axes>"
      ]
     },
     "metadata": {
      "needs_background": "light"
     },
     "output_type": "display_data"
    }
   ],
   "source": [
    "#Demanda\n",
    "\n",
    "TODO['Demanda'].plot.hist()\n",
    "plt.xticks(rotation='90')\n",
    "plt.ticklabel_format(style='plain', axis='x',useOffset=False)\n",
    "plt.show()"
   ]
  },
  {
   "cell_type": "code",
   "execution_count": 12,
   "metadata": {},
   "outputs": [
    {
     "data": {
      "image/png": "[encoded data removed]",
      "text/plain": [
       "<Figure size 432x288 with 1 Axes>"
      ]
     },
     "metadata": {
      "needs_background": "light"
     },
     "output_type": "display_data"
    }
   ],
   "source": [
    "#Utilidades\n",
    "TODO['Utilidades'].plot.hist()\n",
    "plt.xticks(rotation='90')\n",
    "plt.ticklabel_format(style='plain', axis='x',useOffset=False)\n",
    "plt.show()"
   ]
  },
  {
   "cell_type": "code",
   "execution_count": 13,
   "metadata": {},
   "outputs": [
    {
     "data": {
      "image/png": "[encoded data removed]",
      "text/plain": [
       "<Figure size 432x288 with 1 Axes>"
      ]
     },
     "metadata": {
      "needs_background": "light"
     },
     "output_type": "display_data"
    }
   ],
   "source": [
    "#Utilidades más bonito\n",
    "\n",
    "sns.histplot(data=TODO['Utilidades'])\n",
    "plt.xticks(rotation='90')\n",
    "plt.ticklabel_format(style='plain', axis='x',useOffset=False)"
   ]
  }
 ],
 "metadata": {
  "kernelspec": {
   "display_name": "Python 3",
   "language": "python",
   "name": "python3"
  },
  "language_info": {
   "codemirror_mode": {
    "name": "ipython",
    "version": 3
   },
   "file_extension": ".py",
   "mimetype": "text/x-python",
   "name": "python",
   "nbconvert_exporter": "python",
   "pygments_lexer": "ipython3",
   "version": "3.8.5"
  },
  "toc": {
   "base_numbering": 1,
   "nav_menu": {},
   "number_sections": true,
   "sideBar": true,
   "skip_h1_title": true,
   "title_cell": "Table of Contents",
   "title_sidebar": "Contents",
   "toc_cell": true,
   "toc_position": {},
   "toc_section_display": true,
   "toc_window_display": false
  }
 },
 "nbformat": 4,
 "nbformat_minor": 4
}
