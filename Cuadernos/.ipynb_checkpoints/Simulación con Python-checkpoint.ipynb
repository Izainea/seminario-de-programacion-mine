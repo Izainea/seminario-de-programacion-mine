{
 "cells": [
  {
   "cell_type": "markdown",
   "metadata": {
    "application/vnd.databricks.v1+cell": {
     "cellMetadata": {},
     "inputWidgets": {},
     "nuid": "79fc9cbe-886f-4f80-b6e0-7635a1d31dff",
     "showTitle": false,
     "title": ""
    },
    "toc": true
   },
   "source": [
    "<h1>Table of Contents<span class=\"tocSkip\"></span></h1>\n",
    "<div class=\"toc\"><ul class=\"toc-item\"><li><span><a href=\"#Ejercicio-1---Análisis-del-riesgo-Proyecto-PortaCom\" data-toc-modified-id=\"Ejercicio-1---Análisis-del-riesgo-Proyecto-PortaCom-1\"><span class=\"toc-item-num\">1&nbsp;&nbsp;</span>Ejercicio 1 - Análisis del riesgo Proyecto PortaCom</a></span></li></ul></div>"
   ]
  },
  {
   "cell_type": "code",
   "execution_count": 0,
   "metadata": {
    "application/vnd.databricks.v1+cell": {
     "cellMetadata": {},
     "inputWidgets": {},
     "nuid": "7ca24907-78c5-4382-a271-26e05ddd3c0e",
     "showTitle": false,
     "title": ""
    }
   },
   "outputs": [],
   "source": [
    "import numpy as np\n",
    "import pandas as pd \n",
    "import matplotlib.pyplot as plt\n",
    "import seaborn as sns"
   ]
  },
  {
   "cell_type": "markdown",
   "metadata": {
    "application/vnd.databricks.v1+cell": {
     "cellMetadata": {},
     "inputWidgets": {},
     "nuid": "f1a29444-4f03-4505-b6b3-7dde6eca9856",
     "showTitle": false,
     "title": ""
    }
   },
   "source": [
    "## Ejercicio 1 - Análisis del riesgo Proyecto PortaCom"
   ]
  },
  {
   "cell_type": "markdown",
   "metadata": {
    "application/vnd.databricks.v1+cell": {
     "cellMetadata": {},
     "inputWidgets": {},
     "nuid": "4a35c301-fb23-4016-b04a-fc31bfe5e065",
     "showTitle": false,
     "title": ""
    }
   },
   "source": [
    "1. Este ejercicio requiere que simulemos tres valores:\n",
    "\n",
    "*  **Costo de mano de obra directo:**  PortaCom cree que el costo de la mano de obra directa oscilará desde 43 US hasta 47 US por unidad y está descrita por la distribución de probabilidad discreta mostrada en la siguiente tabla:\n",
    "|Costo|Prob|\n",
    "|:---:|:---:|\n",
    "|43 US\\$ |0.1|\n",
    "|44 US\\$ |0.2|\n",
    "|45 US\\$ |0.4|\n",
    "|46 US\\$ |0.2|\n",
    "|47 US\\$ |0.1|\n",
    "\n",
    "* **Costo de las piezas**: Este costo depende de la economía general, la demanda de las piezas y la política de fi jación de precios de los proveedores de piezas de PortaCom. Esta empresa cree que el costo de las piezas oscilará desde  80 US  hasta 100 US por unidad y está descrito por una distribución de probabilidad uniforme.\n",
    "\n",
    "* **Demanda durante el primer año:** PortaCom cree que la demanda durante el primer año está descrita por la distribución de probabilidad normal. El valor medio o esperado de la demanda durante el primer año es de 15.000 unidades. La desviación estándar, de 4500 unidades."
   ]
  },
  {
   "cell_type": "markdown",
   "metadata": {
    "application/vnd.databricks.v1+cell": {
     "cellMetadata": {},
     "inputWidgets": {},
     "nuid": "324cea27-8ca2-4f6e-8768-23f34d989a9f",
     "showTitle": false,
     "title": ""
    }
   },
   "source": [
    "2. Con estos valores, la idea es calcular la utilidad del primer año, dicho cálculo se resume en el siguiente diagrama de flujo:\n",
    "\n",
    "![im1](https://raw.githubusercontent.com/MCG-Externado/MateBasicas-MCG1/master/imagenes/imSim.png)"
   ]
  },
  {
   "cell_type": "markdown",
   "metadata": {
    "application/vnd.databricks.v1+cell": {
     "cellMetadata": {},
     "inputWidgets": {},
     "nuid": "2e890cd7-f58f-4728-b847-563b7df0306b",
     "showTitle": false,
     "title": ""
    }
   },
   "source": [
    "Fijemos los valores fijos:"
   ]
  },
  {
   "cell_type": "code",
   "execution_count": 0,
   "metadata": {
    "application/vnd.databricks.v1+cell": {
     "cellMetadata": {},
     "inputWidgets": {},
     "nuid": "c3000751-8830-463c-9441-fe76f031c4fa",
     "showTitle": false,
     "title": ""
    }
   },
   "outputs": [],
   "source": [
    "precio_unitario=249\n",
    "costo_admin=400000\n",
    "costo_pub=600000"
   ]
  },
  {
   "cell_type": "markdown",
   "metadata": {
    "application/vnd.databricks.v1+cell": {
     "cellMetadata": {},
     "inputWidgets": {},
     "nuid": "d508e942-0b39-42f0-ba60-c8c88af864b4",
     "showTitle": false,
     "title": ""
    }
   },
   "source": [
    "Ahora, usando una simulación, calculemos el costo de mano de obra directa, para este ejercicio utilizamos la herramienta `np.random.uniform` para generar valores entre 0 y 1 de manera uniforme y  un programa que a partir de la distribución descrita determine los valores entre 43 y 47.\n",
    "\n"
   ]
  },
  {
   "cell_type": "code",
   "execution_count": 0,
   "metadata": {
    "application/vnd.databricks.v1+cell": {
     "cellMetadata": {},
     "inputWidgets": {},
     "nuid": "b89ad6ae-52a8-4744-a009-8b0018ae65db",
     "showTitle": false,
     "title": ""
    }
   },
   "outputs": [],
   "source": [
    "uniform_value=np.random.uniform(0,1)\n",
    "\n",
    "\n",
    "if uniform_value<0.1:\n",
    "    cmo=43\n",
    "elif uniform_value<0.3:\n",
    "    cmo=44\n",
    "elif uniform_value <0.7:\n",
    "    cmo=45\n",
    "elif uniform_value<0.9:\n",
    "    cmo=46\n",
    "else:\n",
    "    cmo=47\n",
    "    \n",
    "print('En esta ejecución el costo de mano de obra es ',cmo)"
   ]
  },
  {
   "cell_type": "markdown",
   "metadata": {
    "application/vnd.databricks.v1+cell": {
     "cellMetadata": {},
     "inputWidgets": {},
     "nuid": "d1deaf87-88cb-4c16-b769-01d279e63a71",
     "showTitle": false,
     "title": ""
    }
   },
   "source": [
    "Así mismo calculamos el costo de piezas, usamos `np.random.randint(low,high)`, una función que escoge aleatoriamente números enteros entre `low` y `high`usando una distribuciṕn uniforme :"
   ]
  },
  {
   "cell_type": "code",
   "execution_count": 0,
   "metadata": {
    "application/vnd.databricks.v1+cell": {
     "cellMetadata": {},
     "inputWidgets": {},
     "nuid": "dd29c54a-c8b3-448c-a243-8af8f16db909",
     "showTitle": false,
     "title": ""
    }
   },
   "outputs": [],
   "source": [
    "cp=np.random.randint(80,100)"
   ]
  },
  {
   "cell_type": "markdown",
   "metadata": {
    "application/vnd.databricks.v1+cell": {
     "cellMetadata": {},
     "inputWidgets": {},
     "nuid": "33062eb3-3236-4610-bc7a-7112684ecc40",
     "showTitle": false,
     "title": ""
    }
   },
   "source": [
    "Finalmente determnamos la demanda, usamos de manera similar la función `np.random.normal(mean,std)` con media `mean` y desviación estándar `std`, también `round` para tomar el número entero más cercano."
   ]
  },
  {
   "cell_type": "code",
   "execution_count": 0,
   "metadata": {
    "application/vnd.databricks.v1+cell": {
     "cellMetadata": {},
     "inputWidgets": {},
     "nuid": "249bd9fe-02c1-4139-a5cc-71d682afc9a6",
     "showTitle": false,
     "title": ""
    }
   },
   "outputs": [],
   "source": [
    "dm=round(np.random.normal(15000,4500))"
   ]
  },
  {
   "cell_type": "markdown",
   "metadata": {
    "application/vnd.databricks.v1+cell": {
     "cellMetadata": {},
     "inputWidgets": {},
     "nuid": "b9b9048a-fd61-4c86-8b0d-fdd094eb139f",
     "showTitle": false,
     "title": ""
    }
   },
   "source": [
    "Los valores simulados son:"
   ]
  },
  {
   "cell_type": "code",
   "execution_count": 0,
   "metadata": {
    "application/vnd.databricks.v1+cell": {
     "cellMetadata": {},
     "inputWidgets": {},
     "nuid": "644944d3-458d-47de-94c4-86d8f3dead07",
     "showTitle": false,
     "title": ""
    }
   },
   "outputs": [],
   "source": [
    "print('Costo de mano de obra ',cmo)\n",
    "print('Costo de piezas ',cp)\n",
    "print('Demanda ',dm)"
   ]
  },
  {
   "cell_type": "markdown",
   "metadata": {
    "application/vnd.databricks.v1+cell": {
     "cellMetadata": {},
     "inputWidgets": {},
     "nuid": "22d1e78b-5232-4beb-be33-14e041e12547",
     "showTitle": false,
     "title": ""
    }
   },
   "source": [
    "Vamos a poner todos esos valores en una misma celda y calculamos la utilidad:"
   ]
  },
  {
   "cell_type": "code",
   "execution_count": 0,
   "metadata": {
    "application/vnd.databricks.v1+cell": {
     "cellMetadata": {},
     "inputWidgets": {},
     "nuid": "32b3cd25-1ff9-4ebd-9c15-ab40f96a7468",
     "showTitle": false,
     "title": ""
    }
   },
   "outputs": [],
   "source": [
    "precio_unitario=249\n",
    "costo_admin=400000\n",
    "costo_pub=600000\n",
    "uniform_value=np.random.uniform(0,1)\n",
    "\n",
    "\n",
    "if uniform_value<0.1:\n",
    "    cmo=43\n",
    "elif uniform_value<0.3:\n",
    "    cmo=44\n",
    "elif uniform_value <0.7:\n",
    "    res=45\n",
    "elif uniform_value<0.9:\n",
    "    cmo=46\n",
    "else:\n",
    "    cmo=47\n",
    "cp=np.random.randint(80,100)\n",
    "dm=round(np.random.normal(15000,4500))\n",
    "\n",
    "#Usamos la fórmula de utilidad\n",
    "\n",
    "U=(precio_unitario-cmo-cp)*dm -costo_admin-costo_pub\n",
    "\n",
    "print('En este ejercicio con costos unitario de mano de obra',cmo,'$, con costo de piezas ',cp ,'$ y demanda ',dm,'\\nLa utilidad es de',U,'$') "
   ]
  },
  {
   "cell_type": "markdown",
   "metadata": {
    "application/vnd.databricks.v1+cell": {
     "cellMetadata": {},
     "inputWidgets": {},
     "nuid": "c0fd927f-141d-4986-9685-3ae5dc84c51b",
     "showTitle": false,
     "title": ""
    }
   },
   "source": [
    "Si ejecuta nuevamente la celda anterior obtendrá una nueva utilidad.\n",
    "\n",
    "Guademos 100 simulaciones con un `for`: "
   ]
  },
  {
   "cell_type": "code",
   "execution_count": 0,
   "metadata": {
    "application/vnd.databricks.v1+cell": {
     "cellMetadata": {},
     "inputWidgets": {},
     "nuid": "b508291d-4fe2-472b-8f51-47b07738fa7c",
     "showTitle": false,
     "title": ""
    }
   },
   "outputs": [],
   "source": [
    "#Lista de valores simulados\n",
    "cmo_list=[] #Lista de cmo\n",
    "cp_list=[] #Lista de cp\n",
    "dm_list=[] #Lista de dm\n",
    "U_list=[] #Lista de utilidades\n",
    "for i in range(100):\n",
    "    precio_unitario=249\n",
    "    costo_admin=400000\n",
    "    costo_pub=600000\n",
    "    \n",
    "    \n",
    "    uniform_value=np.random.uniform(0,1)\n",
    "    \n",
    "    #CMO\n",
    "    if uniform_value<0.1:\n",
    "        cmo=43\n",
    "    elif uniform_value<0.3:\n",
    "        cmo=44\n",
    "    elif uniform_value <0.7:\n",
    "        cmo=45\n",
    "    elif uniform_value<0.9:\n",
    "        cmo=46\n",
    "    else:\n",
    "        cmo=47\n",
    "    cmo_list.append(cmo) #Guardamos el cmo\n",
    "    #CP\n",
    "    cp=np.random.randint(80,100)\n",
    "    cp_list.append(cp) #Guardamos el cp\n",
    "    \n",
    "    #dm\n",
    "    dm=round(np.random.normal(15000,4500))\n",
    "    dm_list.append(dm)\n",
    "    \n",
    "    #Usamos la fórmula de utilidad\n",
    "    U=(precio_unitario-cmo-cp)*dm -costo_admin-costo_pub\n",
    "    U_list.append(U)\n",
    "    \n",
    "#Finalmente guardamos todo en una base:\n",
    "\n",
    "TODO=pd.DataFrame({'Costo Mano de Obra':cmo_list,'Costo Piezas':cp_list,'Demanda':dm_list,'Utilidades':U_list})\n",
    "TODO"
   ]
  },
  {
   "cell_type": "markdown",
   "metadata": {
    "application/vnd.databricks.v1+cell": {
     "cellMetadata": {},
     "inputWidgets": {},
     "nuid": "e8c66178-3f67-4869-b23a-ef78c156ac8b",
     "showTitle": false,
     "title": ""
    }
   },
   "source": [
    "Algunos gráficos:"
   ]
  },
  {
   "cell_type": "code",
   "execution_count": 0,
   "metadata": {
    "application/vnd.databricks.v1+cell": {
     "cellMetadata": {},
     "inputWidgets": {},
     "nuid": "af25082f-8071-4113-af9a-db1a8c2dc298",
     "showTitle": false,
     "title": ""
    }
   },
   "outputs": [],
   "source": [
    "#CMO\n",
    "\n",
    "TODO['Costo Mano de Obra'].plot.hist()\n",
    "plt.xticks(rotation='90')\n",
    "plt.ticklabel_format(style='plain', axis='x',useOffset=False)\n",
    "plt.show()"
   ]
  },
  {
   "cell_type": "code",
   "execution_count": 0,
   "metadata": {
    "application/vnd.databricks.v1+cell": {
     "cellMetadata": {},
     "inputWidgets": {},
     "nuid": "482c193d-ef54-48fc-9be2-87330ff04d31",
     "showTitle": false,
     "title": ""
    }
   },
   "outputs": [],
   "source": [
    "#CP\n",
    "\n",
    "TODO['Costo Piezas'].plot.hist()\n",
    "plt.xticks(rotation='90')\n",
    "plt.ticklabel_format(style='plain', axis='x',useOffset=False)\n",
    "plt.show()"
   ]
  },
  {
   "cell_type": "code",
   "execution_count": 0,
   "metadata": {
    "application/vnd.databricks.v1+cell": {
     "cellMetadata": {},
     "inputWidgets": {},
     "nuid": "f1d97d20-d016-475e-b514-2f2d7c3ce853",
     "showTitle": false,
     "title": ""
    }
   },
   "outputs": [],
   "source": [
    "#Demanda\n",
    "\n",
    "TODO['Demanda'].plot.hist()\n",
    "plt.xticks(rotation='90')\n",
    "plt.ticklabel_format(style='plain', axis='x',useOffset=False)\n",
    "plt.show()"
   ]
  },
  {
   "cell_type": "code",
   "execution_count": 0,
   "metadata": {
    "application/vnd.databricks.v1+cell": {
     "cellMetadata": {},
     "inputWidgets": {},
     "nuid": "d558d5a6-e158-4211-9918-6f9ad3a47118",
     "showTitle": false,
     "title": ""
    }
   },
   "outputs": [],
   "source": [
    "#Utilidades\n",
    "TODO['Utilidades'].plot.hist()\n",
    "plt.xticks(rotation='90')\n",
    "plt.ticklabel_format(style='plain', axis='x',useOffset=False)\n",
    "plt.show()"
   ]
  },
  {
   "cell_type": "code",
   "execution_count": 0,
   "metadata": {
    "application/vnd.databricks.v1+cell": {
     "cellMetadata": {},
     "inputWidgets": {},
     "nuid": "26b374e5-fe45-497b-a0cf-85abc078960e",
     "showTitle": false,
     "title": ""
    }
   },
   "outputs": [],
   "source": [
    "#Utilidades más bonito\n",
    "\n",
    "sns.histplot(data=TODO['Utilidades'])\n",
    "plt.xticks(rotation='90')\n",
    "plt.ticklabel_format(style='plain', axis='x',useOffset=False)"
   ]
  }
 ],
 "metadata": {
  "application/vnd.databricks.v1+notebook": {
   "dashboards": [],
   "language": "python",
   "notebookMetadata": {},
   "notebookName": "Simulación con Python-checkpoint",
   "widgets": {}
  },
  "kernelspec": {
   "display_name": "Python 3",
   "language": "python",
   "name": "python3"
  },
  "language_info": {
   "codemirror_mode": {
    "name": "ipython",
    "version": 3
   },
   "file_extension": ".py",
   "mimetype": "text/x-python",
   "name": "python",
   "nbconvert_exporter": "python",
   "pygments_lexer": "ipython3",
   "version": "3.8.5"
  },
  "toc": {
   "base_numbering": 1,
   "nav_menu": {},
   "number_sections": true,
   "sideBar": true,
   "skip_h1_title": true,
   "title_cell": "Table of Contents",
   "title_sidebar": "Contents",
   "toc_cell": true,
   "toc_position": {},
   "toc_section_display": true,
   "toc_window_display": false
  }
 },
 "nbformat": 4,
 "nbformat_minor": 0
}
