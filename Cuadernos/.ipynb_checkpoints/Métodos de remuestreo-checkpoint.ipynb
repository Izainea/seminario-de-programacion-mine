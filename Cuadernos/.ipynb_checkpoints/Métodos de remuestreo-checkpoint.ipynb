{
 "cells": [
  {
   "cell_type": "markdown",
   "id": "2c35756e-6f54-4a8d-8e69-40e7f41d4e2b",
   "metadata": {},
   "source": [
    "<div style=\"padding: 0px;\">\n",
    "   <img style='width:110%' src=\"images/banner.jpg\" alt=\"MINE-Seminario de programación\" style=\"width:100%;\">\n",
    "  <h1 style=\"\n",
    "  position: absolute;\n",
    "  top: 2%;\n",
    "  left: 70%;             \n",
    "  color: white;\">Métodos de remuestreo</h1>\n",
    " \n",
    "</div>"
   ]
  },
  {
   "cell_type": "markdown",
   "id": "b3621da5-4f9d-44a3-a835-3282e697a1cd",
   "metadata": {},
   "source": [
    "En esta sección estudiaremos los métodos de remuestreo, una clase de técnicas de análisis de datos estadísticos, que están estrechamente relacionadas con el concepto de simulación estadística. El uso de esta herramienta resulta bastante útil en validación de modelos, estimación de incertidumbre y pruebas de significacia."
   ]
  },
  {
   "cell_type": "markdown",
   "id": "65a0c0d4-cb1d-422f-993f-550c94f72e76",
   "metadata": {},
   "source": [
    "## Remuestreo\n",
    "\n",
    "Un conjunto de técnicas que consisten en estimar medidas, hacer pruebas o validar modelos en múltiples conjuntos de datos elegidos del original a partir de diversas escogencias aleatorias. Al obtener varias estimadores o cantidades de interes se estudia la distribución de los resultados y evitamos por ejemplo utilizar argumentos de la mano del teorema del límite central. \n",
    "\n",
    "En principio un proceso de remuestreo es como el siguiente:\n",
    "<img style='display: block;\n",
    "  margin-left: auto;\n",
    "  margin-right: auto;\n",
    "  width: 30%;' src ='images/ciclo.jpg'>"
   ]
  },
  {
   "cell_type": "markdown",
   "id": "1ad12ede-034e-40b2-b57a-6cb53a591c50",
   "metadata": {},
   "source": [
    "Un proceso como el anterior es bastante simple a nivel teórico, por eso es muy utilizado siempre y cuando se garantice la posibilidad de computo. Entre los métodos de remuestreo más conocidos tenemos a:\n",
    "- **Bootstrapping** (Muestreo con remplazo)\n",
    "- **Jackknife** (Algunos datos por fuera)\n",
    "- **Pruebas de permutación** \n",
    "- **Validación cruzada**\n",
    "- **Submuestreo**\n",
    "\n"
   ]
  },
  {
   "cell_type": "markdown",
   "id": "2316fdf6-3337-4bbb-a52c-1623799eb66b",
   "metadata": {},
   "source": [
    "## Bootstrapping\n",
    "\n",
    "En este ejercicio, revisaremos la diferencia entre el muestreo con y sin reemplazo. Calcularemos la probabilidad de un evento usando simulación, pero variaremos nuestro método de muestreo para ver cómo impacta la probabilidad. Considere un tazón que contiene los siguientes dulces de colores tres azules, dos verdes y cinco amarillos. Sacamos tres caramelos al azar, con reposición y sin reposición. Se desea saber la probabilidad de sacar un caramelo amarillo en el tercer sorteo, un caramelo azul en el primero y en el segundo uno verde."
   ]
  },
  {
   "cell_type": "code",
   "execution_count": 17,
   "id": "a7f7f8de-7855-421a-b965-7199875cfadb",
   "metadata": {},
   "outputs": [
    {
     "data": {
      "text/markdown": [
       "**Probabilidad con remplazo** = 0.03014, **sin remplazo** = 0.04159"
      ],
      "text/plain": [
       "<IPython.core.display.Markdown object>"
      ]
     },
     "metadata": {},
     "output_type": "display_data"
    }
   ],
   "source": [
    "import numpy as np\n",
    "import matplotlib.pyplot as plt\n",
    "from scipy.stats import norm\n",
    "from IPython.display import display,Markdown, HTML\n",
    "# Configuremos el tazón\n",
    "success_rep, success_no_rep, sims = 0, 0, 100000\n",
    "bowl = 3*['b']+2*['g']+5*['y']\n",
    "\n",
    "for i in range(sims):\n",
    "    # Muestreo con remplazo y sin remplazo\n",
    "    sample_rep = np.random.choice(bowl, replace=True, size=3)\n",
    "    sample_no_rep = np.random.choice(bowl, replace=False, size=3)\n",
    "    if (sample_rep[0] == 'b') & (sample_rep[1] == 'g') & (sample_rep[2] == 'y'): \n",
    "        success_rep += 1\n",
    "    if (sample_no_rep[0] == 'b') & (sample_no_rep[1] == 'g') \\\n",
    "            & (sample_no_rep[2] == 'y'): \n",
    "        success_no_rep += 1\n",
    "\n",
    "# Calculate probabilities\n",
    "display(Markdown(\"**Probabilidad con remplazo** = {}, **sin remplazo** = {}\"\\\n",
    "      .format(success_rep/sims, success_no_rep/sims)))"
   ]
  },
  {
   "cell_type": "markdown",
   "id": "74204fe9-8ca9-4223-8e2d-77ff86d0666d",
   "metadata": {},
   "source": [
    "Ahora, centrémonos en el método más común: Bootstrapping. El nombre bootstrapping básicamente se refiere al hecho de que usamos el conjunto de datos existente para simular múltiples conjuntos de datos diferentes.\n",
    "\n",
    "Suponga que ha recibido una pedido de huevos de pascua con diferentes gramajes:\n",
    "\n",
    "|**Pesos**|**# huevos**|\n",
    "|:--:|:--:|\n",
    "|20|40|\n",
    "|50|15|\n",
    "|70|35|\n",
    "|80|10|\n",
    "|90|15|\n",
    "\n",
    "A partir de esta muestra, podemos calcular fácilmente lo siguiente:"
   ]
  },
  {
   "cell_type": "code",
   "execution_count": 23,
   "id": "78f48590-a985-42a1-a239-332d0fb2a11d",
   "metadata": {},
   "outputs": [
    {
     "data": {
      "text/html": [
       "<table style=\"width:350px\">\n",
       "  <tr>\n",
       "    <th>Medición</th>\n",
       "    <th>Valor</th>\n",
       "  </tr>\n",
       "  <tr>\n",
       "    <td>Promedio</td>\n",
       "    <td> 53.47826086956522</td>\n",
       "  </tr>\n",
       "  <tr>\n",
       "    <td>Desviación estándar\n",
       "    <td> 26.639084664418068</td>\n",
       "  </tr>\n",
       "  <tr>\n",
       "    <td>Error en la desviación</td>\n",
       "    <td> 2.4841074536690653</td>\n",
       "  </tr>\n",
       "</table>\n",
       "                  "
      ],
      "text/plain": [
       "<IPython.core.display.HTML object>"
      ]
     },
     "metadata": {},
     "output_type": "display_data"
    }
   ],
   "source": [
    "eggs = np.array([20]*40+[50]*15+[70]*35+[80]*10+[90]*15)\n",
    "egg_mean = eggs.mean()\n",
    "eggs_std = eggs.std()\n",
    "eggs_std_err = eggs_std / np.sqrt(len(eggs))\n",
    "display(HTML('''<table style=\"width:350px\">\n",
    "  <tr>\n",
    "    <th>Medición</th>\n",
    "    <th>Valor</th>\n",
    "  </tr>\n",
    "  <tr>\n",
    "    <td>Promedio</td>\n",
    "    <td> '''+str(egg_mean)+'''</td>\n",
    "  </tr>\n",
    "  <tr>\n",
    "    <td>Desviación estándar\n",
    "    <td> '''+str(eggs_std)+'''</td>\n",
    "  </tr>\n",
    "  <tr>\n",
    "    <td>Error en la desviación</td>\n",
    "    <td> '''+str(eggs_std_err)+'''</td>\n",
    "  </tr>\n",
    "</table>\n",
    "                  '''\n",
    "                    ))"
   ]
  },
  {
   "cell_type": "code",
   "execution_count": 26,
   "id": "ec7f47d3-b90f-4e3f-a300-6a39d96ef291",
   "metadata": {},
   "outputs": [
    {
     "data": {
      "text/plain": [
       "Text(0.5, 1.0, 'Distribución ¿Poblacional? de los pesos en los huevos de pascua')"
      ]
     },
     "execution_count": 26,
     "metadata": {},
     "output_type": "execute_result"
    },
    {
     "data": {
      "image/png": "[encoded data removed]",
      "text/plain": [
       "<Figure size 864x576 with 2 Axes>"
      ]
     },
     "metadata": {
      "needs_background": "light"
     },
     "output_type": "display_data"
    }
   ],
   "source": [
    "X = np.linspace(egg_mean - 2*eggs_std, egg_mean + 2*eggs_std, 100)\n",
    "fig, axes = plt.subplots(2, 1, figsize=(12,8))\n",
    "axes[0].hist(eggs,density=True,stacked=True)\n",
    "axes[0].set_title('Distribución de los pesos en los huevos de pascua')\n",
    "axes[1].hist(eggs,density=True,stacked=True)\n",
    "axes[1].plot(X, norm.pdf(X, egg_mean, eggs_std_err))\n",
    "axes[1].set_title('Distribución ¿Poblacional? de los pesos en los huevos de pascua')\n"
   ]
  },
  {
   "cell_type": "markdown",
   "id": "2e8de95c-0a30-49db-adf0-6e0526e857eb",
   "metadata": {},
   "source": [
    "Pasamos de una distribución muestral a una distribución poblacional.\n",
    "\n",
    "Sin embargo, existen supuestos ocultos en este cálculo.\n",
    "Asumimos que:\n",
    "- la distribución de pesos es normal,\n",
    "- el intervalo de confianza fue simétrico,\n",
    "\n",
    "Ambos pueden no ser supuestos razonables.\n",
    "\n",
    "¿Qué debemos hacer en este caso?\n",
    "\n",
    "Un enfoque consiste en tomar una muestra de arranque mediante muestreo con reemplazo de la muestra original.\n",
    "\n",
    "En nuestro caso, esto significa que\n",
    "- cada uno de los huevos tiene la misma probabilidad de ser recogido.\n",
    "Y como es con recambio,\n",
    "- cada huevo tiene la misma probabilidad de ser recogido posteriormente también.\n",
    "\n",
    "**Al arrancar, es bueno saber que:**\n",
    "- **Ejecute al menos 5-10k iteraciones** con el número de observaciones al menos igual al número de observaciones en la muestra original\n",
    "- **Espere una respuesta aproximada.** Bootstrapping es una simulación aleatoria.\n",
    "- **Considere la posibilidad de corregir el sesgo.** Algunas estadísticas bootstrap, especialmente las relacionadas con la dispersión de los datos, como la desviación estándar, tienden a estar sesgadas de manera inherente.\n"
   ]
  },
  {
   "cell_type": "code",
   "execution_count": 30,
   "id": "61313be7-9a8c-40b5-be9c-7e9fee4b80e3",
   "metadata": {},
   "outputs": [
    {
     "data": {
      "image/png": "[encoded data removed]",
      "text/plain": [
       "<Figure size 432x288 with 1 Axes>"
      ]
     },
     "metadata": {
      "needs_background": "light"
     },
     "output_type": "display_data"
    }
   ],
   "source": [
    "egg_mean2=[]\n",
    "eggs_std2=[]\n",
    "eggs_std_err2=[]\n",
    "sim=10000\n",
    "for i in range(sim):\n",
    "    eggs2=np.random.choice(eggs, replace=True, size=100)\n",
    "    egg_mean2.append(eggs2.mean())\n",
    "    eggs_std2.append(eggs2.std())\n",
    "    eggs_std_err2.append(eggs_std2 / np.sqrt(len(eggs2)))\n",
    "\n",
    "plt.hist(egg_mean2)\n",
    "plt.hist(eggs_std2)\n",
    "plt.show()"
   ]
  },
  {
   "cell_type": "markdown",
   "id": "114570b9-78b1-4ea2-bb1e-deb6e99dfd61",
   "metadata": {},
   "source": [
    "## Problema aplicado\n",
    "\n",
    "Trabajaremos con un ejemplo en el que aprendemos a ejecutar un bootstrap simple. La idea principal detrás del bootstrapping es muestrear con reemplazo.\n",
    "\n",
    "Suponga que es dueño de una fábrica que produce llaves. Desea poder caracterizar la longitud promedio de las llaves y asegurarse de que cumplan con algunas especificaciones. Su fábrica produce miles de llaves todos los días, pero no es factible medir la longitud de cada llave. Sin embargo, tiene acceso a una muestra representativa de 100 llaves. Usemos bootstrapping para obtener el intervalo de confianza (IC) del 95% para las longitudes promedio.\n",
    "\n",
    "Instrucciones:\n",
    "- Cargue wrench_lengths de data/wrench_lengths.pk.\n",
    "- Extraiga una muestra aleatoria con reemplazo de wrench_lengths y guárdela en temp_sample. Establecer tamaño = len (wrench_lengths).\n",
    "- Calcule la longitud media de cada muestra, asígnela a sample_mean y luego agréguela a mean_lengths.\n",
    "- Calcule la media de bootstrap y el intervalo de confianza del 95% de bootstrap usando np.percentile().\n",
    "\n"
   ]
  },
  {
   "cell_type": "code",
   "execution_count": 38,
   "id": "1c94873b-08bf-48a0-9630-03192d95f492",
   "metadata": {},
   "outputs": [],
   "source": [
    "import numpy as np\n",
    "import pickle\n",
    "wrench_lengths = pickle.load(open('../data/wrench_lengths.pk','rb'))\n"
   ]
  },
  {
   "cell_type": "code",
   "execution_count": 40,
   "id": "02f54ef1-2727-4207-91e8-9a68c3acf89c",
   "metadata": {},
   "outputs": [
    {
     "data": {
      "text/html": [
       "<div style='color:green'> <h3>Media con bootstrap</h3> Length = 10.0157870211968, 95% CI = [ 9.80315925 10.23801445]</div>"
      ],
      "text/plain": [
       "<IPython.core.display.HTML object>"
      ]
     },
     "metadata": {},
     "output_type": "display_data"
    }
   ],
   "source": [
    "# Muestras\n",
    "mean_lengths, sims = [], 1000\n",
    "for i in range(sims):\n",
    "    temp_sample = np.random.choice(wrench_lengths, replace=True, size=len(wrench_lengths))\n",
    "    sample_mean = temp_sample.mean()\n",
    "    mean_lengths.append(sample_mean)\n",
    "    \n",
    "# Calculate bootstrapped mean and 95% confidence interval.\n",
    "display(HTML(\"<div style='color:green'> <h3>Media con bootstrap</h3> Length = {}, 95% CI = {}</div>\".format(np.mean(mean_lengths), np.percentile(mean_lengths, [2.5, 97.5]))))"
   ]
  },
  {
   "cell_type": "markdown",
   "id": "5a6e6faa-cb7f-408b-bd7a-6762e88fa0c2",
   "metadata": {},
   "source": [
    "### Estimadores no estándar\n",
    "\n",
    "En el último ejercicio, ejecutamos un bootstrap simple que ahora modificaremos para estimadores más complicados.\n",
    "\n",
    "Suponga que está estudiando la salud de los estudiantes. Se le da la altura y el peso de 1000 estudiantes y está interesado en la altura media, así como en la correlación entre la altura y el peso y el IC del 95% asociado para estas cantidades. Usemos bootstrapping.\n",
    "\n",
    "Examine el pandas DataFrame df con las alturas y pesos de 1000 estudiantes. Con esto, calcule el IC del 95% tanto para la altura media como para la correlación entre la altura y el peso.\n",
    "\n",
    "### Instrucciones:\n",
    "\n",
    "- Cargue `DataFrame` desde` data/student_data.csv '.\n",
    "- Utilice el método `.sample ()` en `df` para generar una muestra de los datos con reemplazo y asígnela a` tmp_df`.\n",
    "- Para cada conjunto de datos generado en `tmp_df`, calcule las alturas medianas y la correlación entre alturas y pesos usando` .median () `y` .corr () `.\n",
    "- Agregue las alturas medianas a `height_medians` y la correlación a` hw_corr`.\n",
    "- Finalmente, calcule los intervalos de confianza del 95% para cada una de las cantidades anteriores usando `np.percentile ()`."
   ]
  },
  {
   "cell_type": "code",
   "execution_count": 51,
   "id": "8feb63c4-07fb-45e9-9df7-f212194bf7fa",
   "metadata": {},
   "outputs": [
    {
     "name": "stdout",
     "output_type": "stream",
     "text": [
      "Mediana de altura IC = [5.5628 5.8646] \n",
      "Correlación de altura y peso IC = [0.933  0.9465]\n"
     ]
    }
   ],
   "source": [
    "import pandas as pd\n",
    "df = pd.read_csv('../data/student_data.csv')\n",
    "#Muestras\n",
    "sims, data_size, height_medians, hw_corr = 1000, df.shape[0], [], []\n",
    "for i in range(sims):\n",
    "    tmp_df = df.sample(n=data_size, replace=True)\n",
    "    height_medians.append(tmp_df['heights'].median())\n",
    "    hw_corr.append(tmp_df.corr()['heights']['weights'])\n",
    "\n",
    "# Calculate confidence intervals\n",
    "print(\"Mediana de altura IC = {} \\nCorrelación de altura y peso IC = {}\".format(np.percentile(height_medians, [2.5, 97.5]).round(4) ,\n",
    "                                                                         np.percentile(hw_corr, [2.5, 97.5]).round(4)))"
   ]
  },
  {
   "cell_type": "code",
   "execution_count": 42,
   "id": "c6358dec-0e75-4366-885e-8a8da13f2bb7",
   "metadata": {},
   "outputs": [
    {
     "data": {
      "image/png": "[encoded data removed]",
      "text/plain": [
       "<Figure size 432x288 with 1 Axes>"
      ]
     },
     "metadata": {
      "needs_background": "light"
     },
     "output_type": "display_data"
    }
   ],
   "source": [
    "plt.hist(height_medians)\n",
    "plt.title('Distribución de medianas')\n",
    "plt.show()"
   ]
  },
  {
   "cell_type": "code",
   "execution_count": 44,
   "id": "3991b290-c5b9-48b2-a99d-74b169a70764",
   "metadata": {},
   "outputs": [
    {
     "data": {
      "image/png": "[encoded data removed]",
      "text/plain": [
       "<Figure size 432x288 with 1 Axes>"
      ]
     },
     "metadata": {
      "needs_background": "light"
     },
     "output_type": "display_data"
    }
   ],
   "source": [
    "plt.hist(hw_corr)\n",
    "plt.title('Distribución de correlaciones')\n",
    "plt.show()"
   ]
  },
  {
   "cell_type": "markdown",
   "id": "76840b22-b4e4-427c-a7e2-7f239b765b54",
   "metadata": {},
   "source": [
    "## Regresión con Bootstrapping\n",
    "\n",
    "Ahora veamos cómo funciona el bootstrapping con regresión. Bootstrapping ayuda a estimar la incertidumbre de los estimadores no estándar. Considere la estadística $R^2$ asociada con una regresión. Cuando ejecuta una regresión de mínimos cuadrados simple, obtiene un valor de $R^2 $. Pero veamos cómo podemos obtener un IC del 95% para $R^2$.\n",
    "\n",
    "Examine el DataFrame `df` con una variable dependiente` y` y dos variables independientes `X1` y` X2` usando `df.head ()`. Ya ajustamos esta regresión con statsmodels (sm) usando:\n",
    "\n",
    "`reg_fit = sm.OLS (df ['y'], df.iloc [:, 1:]). fit ()`\n",
    "\n",
    "Examine el resultado usando `reg_fit.summary ()` para encontrar que $R^2=0.3504 $. Utilice bootstrapping para calcular el IC del 95%."
   ]
  },
  {
   "cell_type": "code",
   "execution_count": 50,
   "id": "99ce9da3-d839-4c18-99ab-d369d23b2c77",
   "metadata": {},
   "outputs": [
    {
     "name": "stdout",
     "output_type": "stream",
     "text": [
      "R2 95% IC = [0.276 0.366]\n"
     ]
    }
   ],
   "source": [
    "import statsmodels.api as sm\n",
    "##[statmodels](https://www.statsmodels.org/stable/index.html)\n",
    "df = pd.read_csv('../data/reg_dataset.csv')\n",
    "rsquared_boot, coefs_boot, sims = [], [], 1000\n",
    "reg_fit = sm.OLS(df['y'], df.iloc[:,1:]).fit()\n",
    "\n",
    "# Tenemos 1000 iteraciobes\n",
    "for i in range(sims):\n",
    "    # Muestreo con remplazo\n",
    "    bootstrap = df.sample(n=df.shape[0], replace=True)\n",
    "    # Ajuste de regresión\n",
    "    rsquared_boot.append(sm.OLS(bootstrap['y'],bootstrap.iloc[:,1:]).fit().rsquared)\n",
    "\n",
    "# Intervalo de confianza al 95%\n",
    "print(\"R2 95% IC = {}\".format(np.percentile(rsquared_boot, [2.5, 97.5]).round(3)))"
   ]
  },
  {
   "cell_type": "markdown",
   "id": "6a9fe492-06aa-4f27-9176-84ffda925cf6",
   "metadata": {},
   "source": [
    "## Estimación básica de Jackknife: media\n",
    "\n",
    "El remuestreo Jackknife es un procedimiento más antiguo, que no se usa con tanta frecuencia en comparación con el bootstrapping. Sin embargo, sigue siendo útil saber cómo ejecutar un procedimiento básico de estimación Jackknife. En este primer ejercicio, calcularemos la estimación Jackknife para la media. Volvamos a la fábrica de llaves.\n",
    "\n",
    "Posee una fábrica de llaves y desea medir la longitud promedio de las llaves para asegurarse de que cumplan con algunas especificaciones. Su fábrica produce miles de llaves todos los días, pero no es factible medir la longitud de cada llave. Sin embargo, tiene acceso a una muestra representativa de 100 llaves. Usemos la estimación de navaja para obtener las longitudes promedio.\n",
    "\n",
    "Examine la variable `wrench_lengths`."
   ]
  },
  {
   "cell_type": "code",
   "execution_count": 53,
   "id": "ef84f2de-24a6-4535-ad3b-52d016809e55",
   "metadata": {},
   "outputs": [
    {
     "name": "stdout",
     "output_type": "stream",
     "text": [
      "Estimación Jackknife de la media = 10.027\n"
     ]
    }
   ],
   "source": [
    "wrench_lengths = pickle.load(open('../data/wrench_lengths.pk','rb'))\n",
    "# Deje una observación fuera de wrench_lengths para obtener la muestra de la navaja y almacenar la longitud media\n",
    "mean_lengths, n = [], len(wrench_lengths)\n",
    "index = np.arange(n)\n",
    "for i in range(n):\n",
    "    jk_sample = wrench_lengths[index != i]\n",
    "    mean_lengths.append(jk_sample.mean())\n",
    "\n",
    "# La estimación Jackknife es la media de las longitudes medias de cada muestra.\n",
    "mean_lengths = np.array(mean_lengths)\n",
    "print(\"Estimación Jackknife de la media = {:.3f}\".format(mean_lengths.mean()))"
   ]
  },
  {
   "cell_type": "code",
   "execution_count": 67,
   "id": "5bc91d9c-509a-49c3-8e04-2a9cf0608d7f",
   "metadata": {},
   "outputs": [
    {
     "data": {
      "image/png": "[encoded data removed]",
      "text/plain": [
       "<Figure size 432x288 with 1 Axes>"
      ]
     },
     "metadata": {
      "needs_background": "light"
     },
     "output_type": "display_data"
    }
   ],
   "source": [
    "plt.hist(mean_lengths)\n",
    "plt.show()"
   ]
  },
  {
   "cell_type": "code",
   "execution_count": 68,
   "id": "943137ca-3f46-470d-ab37-80be48fa7880",
   "metadata": {},
   "outputs": [
    {
     "data": {
      "image/png": "[encoded data removed]",
      "text/plain": [
       "<Figure size 432x288 with 1 Axes>"
      ]
     },
     "metadata": {
      "needs_background": "light"
     },
     "output_type": "display_data"
    }
   ],
   "source": [
    "plt.hist(wrench_lengths)\n",
    "plt.show()"
   ]
  },
  {
   "cell_type": "markdown",
   "id": "3423177d-712f-4690-9b13-a91c29271676",
   "metadata": {},
   "source": [
    "## Intervalo de confianza Jackknife para la mediana\n",
    "\n",
    "En este ejercicio, calcularemos el IC del 95% en navaja para un estimador no estándar. Aquí, veremos la mediana. Tenga en cuenta que la varianza de un estimador de navaja es n-1 veces la varianza de las estimaciones de la muestra de navaja individual, donde n es el número de observaciones en la muestra original.\n",
    "\n",
    "Volviendo a la fábrica de llaves, ahora está interesado en estimar la longitud media de las llaves junto con un IC del 95% para asegurarse de que las llaves estén dentro de la tolerancia.\n",
    "\n",
    "Repasemos el código del ejercicio anterior, pero esta vez en el contexto de las longitudes medias. Al final de este ejercicio, tendrá una idea mucho mejor de cómo utilizar el remuestreo jackknife para calcular intervalos de confianza para estimadores no estándar."
   ]
  },
  {
   "cell_type": "code",
   "execution_count": 55,
   "id": "9068bec8-9d39-4029-a72f-9dadac6fafc2",
   "metadata": {},
   "outputs": [
    {
     "name": "stdout",
     "output_type": "stream",
     "text": [
      "Jackknife 95% IC min = 9.139, max = 10.755\n"
     ]
    }
   ],
   "source": [
    "# Deje una observación para obtener la muestra de navaja y almacenar la longitud media\n",
    "median_lengths = []\n",
    "for i in range(n):\n",
    "    jk_sample = wrench_lengths[index != i]\n",
    "    median_lengths.append(np.median(jk_sample))\n",
    "\n",
    "median_lengths = np.array(median_lengths)\n",
    "\n",
    "# Calcule la estimación de jackknife y su varianza\n",
    "jk_median_length = np.mean(median_lengths)\n",
    "jk_var = (n-1)*np.var(median_lengths)\n",
    "\n",
    "# Suponiendo normalidad, calcule los intervalos de confianza del 95% superior e inferior.\n",
    "print(\"Jackknife 95% IC min = {:.3f}, max = {:.3f}\".format(jk_median_length - 1.96 * np.sqrt(jk_var),\n",
    "                                                       jk_median_length + 1.96 * np.sqrt(jk_var)))"
   ]
  },
  {
   "cell_type": "code",
   "execution_count": 62,
   "id": "c32c5710-7e1a-4982-b286-9aa44b6b6a1f",
   "metadata": {},
   "outputs": [
    {
     "data": {
      "image/png": "[encoded data removed]",
      "text/plain": [
       "<Figure size 432x288 with 1 Axes>"
      ]
     },
     "metadata": {
      "needs_background": "light"
     },
     "output_type": "display_data"
    }
   ],
   "source": [
    "plt.hist(median_lengths)\n",
    "plt.show()"
   ]
  },
  {
   "cell_type": "code",
   "execution_count": 63,
   "id": "4afa1443-d09b-4d6c-a62c-d29370383952",
   "metadata": {},
   "outputs": [
    {
     "data": {
      "image/png": "[encoded data removed]",
      "text/plain": [
       "<Figure size 432x288 with 1 Axes>"
      ]
     },
     "metadata": {
      "needs_background": "light"
     },
     "output_type": "display_data"
    }
   ],
   "source": [
    "plt.hist(wrench_lengths)\n",
    "plt.show()"
   ]
  }
 ],
 "metadata": {
  "kernelspec": {
   "display_name": "Python 3",
   "language": "python",
   "name": "python3"
  },
  "language_info": {
   "codemirror_mode": {
    "name": "ipython",
    "version": 3
   },
   "file_extension": ".py",
   "mimetype": "text/x-python",
   "name": "python",
   "nbconvert_exporter": "python",
   "pygments_lexer": "ipython3",
   "version": "3.8.5"
  }
 },
 "nbformat": 4,
 "nbformat_minor": 5
}
