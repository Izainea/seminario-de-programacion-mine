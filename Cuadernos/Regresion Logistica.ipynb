{
 "cells": [
  {
   "cell_type": "markdown",
   "metadata": {
    "application/vnd.databricks.v1+cell": {
     "cellMetadata": {},
     "inputWidgets": {},
     "nuid": "e80aa8a6-c736-43d9-95b0-d0a6d89aac4f",
     "showTitle": false,
     "title": ""
    }
   },
   "source": [
    "<div style=\"padding: -5px;\n",
    "  text-align: center;\n",
    "  color: white;\n",
    "  font-size: 20px;\">\n",
    "   <img src=\"images/banner.jpg\" alt=\"MINE-Seminario de programación\" style=\"width:100%;\">\n",
    "  <h1 style=\"\n",
    "  position: absolute;\n",
    "  top: 5%;\n",
    "  left: 50%;\">Regresión Logística</h1>\n",
    "</div>"
   ]
  },
  {
   "cell_type": "markdown",
   "metadata": {
    "application/vnd.databricks.v1+cell": {
     "cellMetadata": {},
     "inputWidgets": {},
     "nuid": "cc142468-9c15-4abb-a8b3-7e512eb601f2",
     "showTitle": false,
     "title": ""
    },
    "toc": true
   },
   "source": [
    "<h1>Table of Contents<span class=\"tocSkip\"></span></h1>\n",
    "<div class=\"toc\"><ul class=\"toc-item\"><li><span><a href=\"#Matriz-de-Confusión\" data-toc-modified-id=\"Matriz-de-Confusión-1\"><span class=\"toc-item-num\">1&nbsp;&nbsp;</span>Matriz de Confusión</a></span></li><li><span><a href=\"#Validación-cruzada\" data-toc-modified-id=\"Validación-cruzada-2\"><span class=\"toc-item-num\">2&nbsp;&nbsp;</span>Validación cruzada</a></span></li><li><span><a href=\"#Regresión-Logística\" data-toc-modified-id=\"Regresión-Logística-3\"><span class=\"toc-item-num\">3&nbsp;&nbsp;</span>Regresión Logística</a></span></li><li><span><a href=\"#Implementación-en-Python\" data-toc-modified-id=\"Implementación-en-Python-4\"><span class=\"toc-item-num\">4&nbsp;&nbsp;</span>Implementación en Python</a></span></li><li><span><a href=\"#Guardar-el-modelo\" data-toc-modified-id=\"Guardar-el-modelo-5\"><span class=\"toc-item-num\">5&nbsp;&nbsp;</span>Guardar el modelo</a></span></li><li><span><a href=\"#Conclusiones\" data-toc-modified-id=\"Conclusiones-6\"><span class=\"toc-item-num\">6&nbsp;&nbsp;</span>Conclusiones</a></span></li></ul></div>"
   ]
  },
  {
   "cell_type": "markdown",
   "metadata": {
    "application/vnd.databricks.v1+cell": {
     "cellMetadata": {},
     "inputWidgets": {},
     "nuid": "e0370bd4-3cba-45c6-8d51-5016fbb3bdfe",
     "showTitle": false,
     "title": ""
    }
   },
   "source": [
    "# Métodos de clasificación supervisada\n",
    "\n",
    "\n",
    "La clasificación supervisada es una de las tares que más frecuentemente son llevadas a cabo por los denominados Sistemas Inteligentes. Por lo tanto, un gran número de paradigmas desarrollados bien por la Estadística (Regresión Logística, Análisis Discriminante) o bien por la Inteligencia Artificial (Redes Neuronales, Inducción de Reglas, Árboles de Decisión, Redes Bayesianas) son capaces de realizar las tareas propias de la clasificación.\n",
    "\n",
    "La idea fundamental de este proceso es establecer un modelo que se entrena a partir de la clasificaciones conocidas, es decir, sobre la base estima una división en el siguiente sentido:\n",
    "\n",
    "||**Datos de Entrada**|**Variable Objetivo**|\n",
    "|:--:|:-----:|:--:|\n",
    "||||\n",
    "||$\\ \\begin{bmatrix}X_{1}& X_{2}&X_{3}&\\cdots&X_{p}\\end{bmatrix}$|$Y$|\n",
    "|**Entrenamiento**|$\\begin{bmatrix}x_{11}& x_{12}&x_{13}&\\cdots&x_{1p}\\\\\n",
    "x_{21}& x_{22}&x_{23}&\\cdots&x_{2p}\\\\\n",
    "\\vdots& \\vdots&\\vdots&\\ddots&\\vdots\\\\\n",
    "x_{k1}& x_{k2}&x_{k3}&\\cdots&x_{kp}\\\\\\end{bmatrix}$|$\\begin{bmatrix}Y_{1}\\\\ Y_{2}\\\\\\vdots\\\\Y_{k}\\end{bmatrix}$|\n",
    "||$\\ \\begin{bmatrix}X_{1}& X_{2}&X_{3}&\\cdots&X_{p}\\end{bmatrix}$|$Y$|\n",
    "||||\n",
    "|**Testeo**|$\\begin{bmatrix}x_{(k+1)1}& x_{(k+1)2}&x_{(k+1)3}&\\cdots&x_{(k+1)p}\\\\\n",
    "x_{(k+2)1}& x_{(k+2)2}&x_{(k+2)3}&\\cdots&x_{(k+2)p}\\\\\n",
    "\\vdots& \\vdots&\\vdots&\\ddots&\\vdots\\\\\n",
    "x_{n1}& x_{n2}&x_{n3}&\\cdots&x_{np}\\\\\\end{bmatrix}$|$\\begin{bmatrix}Y_{(k+1)}\\\\ Y_{(k+2)}\\\\\\vdots\\\\Y_{n}\\end{bmatrix}$\n",
    "\n",
    "Con la primera base de $k$ registros se estiman los parámetros del modelo  y con lo demás se prueba que tan eficiente es para clasificar. Iniciamos estudiando los estadísticos que permiten validar el modelo.\n",
    "\n",
    "\n",
    "\n",
    "\n"
   ]
  },
  {
   "cell_type": "markdown",
   "metadata": {
    "application/vnd.databricks.v1+cell": {
     "cellMetadata": {},
     "inputWidgets": {},
     "nuid": "f8198546-db59-4e61-9b95-74683781207a",
     "showTitle": false,
     "title": ""
    }
   },
   "source": [
    "\n",
    "\n",
    "##  Matriz de Confusión\n",
    "\n",
    "Supongamos por un momento que ya entrenamos un modelo, lo que debemos hacer a continuación es verificar su eficiencia con la base de testeo, suponiendo que la variable objetivo es  booleana tenemos cuatro casos posibles:\n",
    "\n",
    "* Verdaderos Positivos **VP**.\n",
    "* Verdaderos Negativos **VN**.\n",
    "* Falsos Positivos **FP**, (Predicho Verdadero - Real Falso) Error Tipo 1.\n",
    "* Falsos Negativos **FN**, (Predicho Falso - Real Verdadero) Error tipo 2.\n",
    "\n",
    "El conteo de estos valores conforman la matriz de confusión:\n",
    "\n",
    "<table align=\"center\">\n",
    "\n",
    "<tbody><tr>\n",
    "<th colspan=\"2\">&#160;\n",
    "</th>\n",
    "<th colspan=\"2\" align=\"center\">Valor en la realidad\n",
    "</th></tr>\n",
    "<tr>\n",
    "<th colspan=\"2\">&#160;</th>\n",
    "<th><i>p</i></th>\n",
    "<th><i>n</i></th>\n",
    "<th style=\"padding-left:1em;\">total\n",
    "</th></tr>\n",
    "<tr>\n",
    "<th rowspan=\"2\" valign=\"middle\">Predicción<br />outcome\n",
    "</th>\n",
    "<th valign=\"middle\" style=\"padding-right:1em;\"><i>p'</i>\n",
    "</th>\n",
    "<td style=\"border:thin solid; padding:1em;\">Verdaderos<br />Positivos</td>\n",
    "<td style=\"border:thin solid; padding:1em;\">Falsos<br />Positivos\n",
    "</td>\n",
    "<td style=\"padding-left:1em;\">P'\n",
    "</td></tr>\n",
    "<tr>\n",
    "<th valign=\"middle\" style=\"padding-right:1em;\"><i>n'</i>\n",
    "</th>\n",
    "<td style=\"border:thin solid; padding:1em;\">Falsos<br />Negativos</td>\n",
    "<td style=\"border:thin solid; padding:1em;\">Verdaderos<br />Negativos\n",
    "</td>\n",
    "<td style=\"padding-left:1em;\">N'\n",
    "</td></tr>\n",
    "<tr>\n",
    "<th colspan=\"2\" align=\"right\" style=\"padding-right:1em;\">total\n",
    "</th>\n",
    "<td align=\"center\">P</td>\n",
    "<td align=\"center\">N\n",
    "</td></tr></tbody></table>\n",
    "\n",
    "\n",
    "de esta tabla obtenemos las siguientes medidas:\n",
    "\n",
    "\n",
    "* **Exactitud (accuracy):** $$\\cfrac{VP+VN}{Total}$$\n",
    "\n",
    "* **Sensibilidad (Recall):** $$\\cfrac{VP}{Positivos}=\\cfrac{VP}{VP+FN}$$\n",
    "\n",
    "* **Especificidad:** $$\\cfrac{VN}{Negativos}=\\cfrac{VN}{FP+VN}$$\n",
    "\n",
    "* **Precisión:** $$\\cfrac{VP}{VP+FP}$$\n",
    "\n",
    "* **F1-Score:** $$2*\\cfrac{Prec\\cdot Recall}{Prec+Recall}$$\n",
    "\n",
    "* **AUC(ROC):** Área bajo la curva que compara (1-especificidad) y la sensibilidad. \n",
    "\n",
    "\n"
   ]
  },
  {
   "cell_type": "markdown",
   "metadata": {
    "application/vnd.databricks.v1+cell": {
     "cellMetadata": {},
     "inputWidgets": {},
     "nuid": "fbf7c18c-b9b5-4a5c-8d24-736cac7e500c",
     "showTitle": false,
     "title": ""
    }
   },
   "source": [
    "## Validación cruzada\n",
    "\n",
    "La validación cruzada o cross-validation es una técnica utilizada para evaluar los resultados de un análisis estadístico cuando el conjunto de datos se ha segmentado en una muestra de entrenamiento y otra de prueba, la validación cruzada comprueba si los resultados del análisis son independientes de la partición. Aunque la validación cruzada es una técnica diseñada para modelos de regresión y predicción, su uso se ha extendido a muchos otros ejercicios de machine learning.\n",
    "\n",
    "![ValCruza](https://bookdown.org/content/2274/Esquema.jpg)\n",
    "Figura 1: Validación cruzada(De Joan.domenech91 - Trabajo propio, CC BY-SA 3.0, https://commons.wikimedia.org/w/index.php?curid=17617674) \n",
    "\n",
    "El método de validación cruzada más utilizado se conoce como la validación cruzada de K iteraciones o K-fold cross-validation. Aquí, el total de los datos se dividen en $k$ subconjuntos, utilizamos cada subconjunto distinto para validar el modelo entrenado con los otros k-1 subconjuntos. El error medio obtenido de los k análisis realizados nos proporciona el error cometido por el método. En la práctica, la elección del número de iteraciones depende de la medida del conjunto de datos. Lo más común es utilizar la validación cruzada de 10 iteraciones (10-fold cross-validation).\n",
    "\n",
    "![ValCruza2](https://bookdown.org/content/2274/K-fold_cross_validation.jpg)\n",
    "\n"
   ]
  },
  {
   "cell_type": "markdown",
   "metadata": {
    "application/vnd.databricks.v1+cell": {
     "cellMetadata": {},
     "inputWidgets": {},
     "nuid": "92c14e3a-6b23-4f32-abfa-32620792d063",
     "showTitle": false,
     "title": ""
    }
   },
   "source": [
    "## Regresión Logística\n",
    "\n",
    "El primer modelo de clasificación que vamos a desplegar es la regresión logística, este es un método estadístico que trata de modelar la probabilidad de una variable cualitativa binaria (dos posibles valores) en función de una o más variables independientes. La principal aplicación de la regresión logística es la creación de modelos de clasificación binaria.\n",
    "\n",
    "El modelo de regresión lineal (Legendre, Gauss, Galton y Pearson) considera que, dado un conjunto de observaciones $\\{y_i, x_{i1},...,x_{np}\\}^{n}_{i=1}$, la media $\\mu$ de la variable respuesta $y$ se relaciona de forma lineal con la o las variables regresoras $x_1$ ... $x_p$ acorde a la ecuación:\n",
    "$$\\mu_y = \\beta_0 + \\beta_1 x_{1} + \\beta_2 x_{2} + ... + \\beta_p x_{p}$$\n",
    "\n",
    "El resultado de esta ecuación se conoce como la línea de regresión poblacional, y recoge la relación entre los predictores y la <strong>media</strong> de la variable respuesta.\n",
    "\n",
    "Otra definición que se encuentra con frecuencia en los libros de estadística es:\n",
    "\n",
    "$$y_i= \\beta_0 + \\beta_1 x_{i1} + \\beta_2 x_{i2} + ... + \\beta_p x_{ip} +\\epsilon_i$$\n",
    "\n",
    "En este caso, se está haciendo referencia al valor de $y$ para una observación $i$ concreta. El valor de una observación puntual nunca va a ser exactamente igual al promedio, de ahí que se añada el término de error $\\epsilon$.\n",
    "\n",
    "En ambos casos, la interpretación de los elementos del modelo es la misma:\n",
    "\n",
    "<ul>\n",
    "<li><p>$\\beta_{0}$: es la ordenada en el origen, se corresponde con el valor promedio de la variable respuesta $y$ cuando todos los predictores son cero.</p>\n",
    "</li>\n",
    "<li><p>$\\beta_{p}$: es el efecto promedio que tiene sobre la variable respuesta el incremento en una unidad de la variable predictora $x_{p}$, manteniéndose constantes el resto de variables. Se conocen como coeficientes parciales de regresión.</p>\n",
    "</li>\n",
    "<li><p>$e$: es el residuo o error, la diferencia entre el valor observado y el estimado por el modelo. Recoge el efecto de todas aquellas variables que influyen en $y$ pero que no se incluyen en el modelo como predictores.</p>\n",
    "</li>\n",
    "</ul>\n",
    "\n",
    "En la gran mayoría de casos, los valores $\\beta_0$ y $\\beta_p$ poblacionales se desconocen, por lo que, a partir de una muestra, se obtienen sus estimaciones $\\hat{\\beta}_0$ y $\\hat{\\beta}_p$. Ajustar el modelo consiste en estimar, a partir de los datos disponibles, los valores de los coeficientes de regresión que maximizan la verosimilitud (<em>likelihood</em>), es decir, los que dan lugar al modelo que con mayor probabilidad puede haber generado los datos observados.\n",
    "\n",
    "El método empleado con más frecuencia es el ajuste por mínimos cuadrados ordinarios (<em>OLS</em>), que identifica como mejor modelo la recta (o plano si es regresión múltiple) que minimiza la suma de las desviaciones verticales entre cada dato de entrenamiento y la recta, elevadas al cuadrado.\n",
    "\n",
    "El término \"lineal\" en los modelos de regresión hace referencia al hecho de que los parámetros se incorporan en la ecuación de forma lineal, no a que necesariamente la relación entre cada predictor y la variable respuesta tenga que seguir un patrón de recta.\n",
    "\n",
    "\n",
    "<strong>¿Qué ocurre cuando la variable respuesta es binaria, solo dos posibles valores?</strong>\n",
    "<br>\n",
    "\n",
    "\n",
    "<p>Si una variable cualitativa con dos niveles (binaría) se codifica como 0 y 1, matemáticamente es posible ajustar un modelo de regresión lineal por mínimos cuadrados. Sin embargo, esta aproximación tiene dos problemas:</p>\n",
    "<ul>\n",
    "<li><p>Al generar una recta (hiperplano si hay múltiples variables), se pueden obtener valores predichos distintos de 0 y 1, lo que entra en contradicción con la definición de la variable respuesta binaria.</p>\n",
    "</li>\n",
    "<li><p>Si se quiere interpretar las predicciones del modelo como probabilidades de pertenencia a cada clase, no se cumpliría la condición de que toda probabilidad ha de estar dentro del intervalo [0,1], ya que podrían obtenerse valores fuera de este.</p>\n",
    "</li>\n",
    "</ul>\n",
    "<p>Para evitar estos problemas, la regresión logística (David Cox 1958) transforma el valor devuelto por la regresión lineal con una función cuyo resultado siempre está comprendido entre 0 y 1. Existen varias funciones que cumplen esta descripción, una de las más utilizadas es la función logística (también conocida como función sigmoide):</p>\n",
    "$$\\text{sigmoide} = \\sigma(y) = \\dfrac{1}{1 + e^{-y}} $$<p>Para valores de $y$ positivos muy grandes, $e^{−y}$ es aproximadamente 0, por lo que el valor de la función sigmoide es 1. Para valores de $y$ negativos muy grandes, $e^{−y}$ tiende a infinito, por lo que el valor de la función sigmoide es 0.</p>\n",
    "<p>Sustituyendo la $y$ de la ecuación anterior por la función de un modelo lineal $ y = \\beta_0 + \\beta_1 x_{1} + ... + \\beta_p x_{p}$ se obtiene que:</p>\n",
    "$$P(y=1|X=x)= \\frac{e^{\\beta_0 + \\beta_1 x_{1} + ... + \\beta_p x_{p}}}{1+e^{\\beta_0 + \\beta_1 x_{1} + ... + \\beta_p x_{p}}} \\tag{anexo 1}$$<p>donde $P(y=1|X=x)$ puede interpretarse como la probabilidad de que la variable respuesta $y$ adquiera el valor 1 (clase de referencia), dado los predictores $x_1, ..., x_p$.</p>\n",
    "<p>El modelo resultante tiene los coeficientes de regresión en los exponentes, por lo que no es un modelo lineal y no puede ajustarse con la estrategia descrita al inicio del documento. ¿Cómo evitar este inconveniente?</p>\n",
    "<p>La expresión obtenida tiene la característica de ser siempre positiva, ya que la función exponencial solo toma valores positivos y, el cociente de valores positivos, es siempre positivo. Esto hace posible aplicarle el logaritmo:</p>\n",
    "$$ln(\\frac{p(y=1|X=x)}{p(y=0|X=x)}) = \\beta_0 + \\beta_1 x_{1} + ... + \\beta_p x_{p}  \\tag{anexo 2}$$<p>Al realizar la transformación, en el lado derecho se obtiene la ecuación de un modelo lineal. El término de la izquierda resulta ser el logaritmo de un cociente de probabilidades, lo que se conoce como razón de probabilidad (<em>log of odds</em>).</p>\n",
    "<p>Como resultado de este proceso se consigue convertir un problema de clasificación no lineal, en un problema de regresión lineal que sí puede ajustarse mediante los métodos convencionales.</p>\n",
    "<p>Una vez obtenidos los coeficientes del modelo ($\\beta_0, \\beta_1, \\cdots, \\beta_p$) se puede obtener la probabilidad de que una nueva observación pertenezca a la clase $y=1$ con la ecuación:</p>\n",
    "$$p(y=1|X=x) = \\frac{e^{(\\beta_0 + \\beta_1 x_1 + \\cdots + \\beta_p x_p)}}{1+e^{(\\beta_0 + \\beta_1 x_1 + \\cdots + \\beta_p x_p)}}$$<p>Modelar el <em>log of odds</em> es la estrategia matemática que permite encontrar los valores de los coeficientes (ajustar el modelo).</p>\n",
    "\n",
    "\n",
    "<div class=\"output_jpeg output_subarea output_execute_result\">\n",
    "<img src=\"data:image/jpeg;base64,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\n",
    "\"\n",
    "width=700\n",
    ">\n",
    "\n",
    "\n",
    "<center><font size='2.5'> <i>Modelo de regresión lineal vs  regresión logística para una variable binaria. La línea gris representa la recta de regresión (el modelo).</i></font></center>\n",
    "\n",
    "<p><strong>Anexo 1</strong>\n",
    "<br></p>\n",
    "<p>Combinación de la función sigmoide y la ecuación de un modelo lineal para obtener un modelo que relacione los predictores con la probabilidad de que $y=1$.</p>\n",
    "$$P(y=1|X=x)=$$$$= \\frac{1}{1+e^{-(\\beta_0 + \\beta_1 x_{1} + ... + \\beta_p x_{p})}} =$$$$= \\frac{1}{\\frac{e^{\\beta_0 + \\beta_1 x_{1} + ... + \\beta_p x_{p}}}{e^{\\beta_0 + \\beta_1 x_{1} + ... + \\beta_p x_{p}}} + \\frac{1}{e^{\\beta_0 + \\beta_1 x_{1} + ... + \\beta_p x_{p}}}}=$$$$= \\frac{1}{\\frac{1 + e^{\\beta_0 + \\beta_1 x_{1} + ... + \\beta_p x_{p}}}{e^{\\beta_0 + \\beta_1 x_{1} + ... + \\beta_p x_{p}}}}=$$$$= \\frac{e^{\\beta_0 + \\beta_1 x_{1} + ... + \\beta_p x_{p}}}{1+e^{\\beta_0 + \\beta_1 x_{1} + ... + \\beta_p x_{p}}}$$<p><strong>Anexo 2</strong>\n",
    "<br></p>\n",
    "<p>Transformación logarítmica para linealizar el modelo.</p>\n",
    "<p>La probabilidad de que $y=1$ dado los predictores $X=x_1, ..., x_p$ es:</p>\n",
    "$$P(y=1|X=x) = \\frac{e^{\\beta_0 + \\beta_1 x_{1} + ... + \\beta_p x_{p}}}{1+e^{\\beta_0 + \\beta_1 x_{1} + ... + \\beta_p x_{p}}} = \\frac{e^{\\sum \\beta_i x_{i}}}{1+e^{\\sum \\beta_i x_{i}}}$$<p>Al ser un caso de clasificación binaria, la probabilidad de $y=0$ es la probabilidad complementaria:</p>\n",
    "$$P(y=0|X=x) = 1- P(y=0|X=x) = 1 - \\frac{e^{\\sum \\beta_i x_{i}}}{1+e^{\\sum \\beta_i x_{i}}} = \\frac{1}{1+e^{\\sum \\beta_i x_{i}}}$$<p>Si se divide una probabilidad entre otra:</p>\n",
    "$$\\frac{P(y=1|X=x)}{P(y=0|X=x)} = \\frac{\\frac{e^{\\sum \\beta_i x_{i}}}{1+e^{\\sum \\beta_i x_{i}}}}{\\frac{1}{1+e^{\\sum \\beta_i x_{i}}}} = e^{\\sum \\beta_i x_{i}}$$\n",
    "    \n",
    "    <br>\n",
    "    \n",
    "    \n",
    "    $$ln(\\frac{P(y=1|X=x)}{P(y=0|X=x)}) = ln(e^{\\sum \\beta_i x_{i}}) = \\sum \\beta_i x_{i}$$\n",
    "    \n",
    "    <br>\n",
    "    \n",
    "    $$ln(\\frac{P(y=1|X=x)}{P(y=0|X=x)}) = \\sum \\beta_i x_{i}$$\n",
    "    \n",
    "    <br>\n",
    "    \n",
    "    $$ln(\\frac{P(y=1|X=x)}{P(y=0|X=x)}) = \\beta_0 + \\beta_1 x_{1} + ... + \\beta_p x_{p}$$\n"
   ]
  },
  {
   "cell_type": "markdown",
   "metadata": {
    "application/vnd.databricks.v1+cell": {
     "cellMetadata": {},
     "inputWidgets": {},
     "nuid": "0b59f9be-9c13-47c8-bfed-6674f79b25bf",
     "showTitle": false,
     "title": ""
    }
   },
   "source": [
    "## Implementación en Python"
   ]
  },
  {
   "cell_type": "code",
   "execution_count": 0,
   "metadata": {
    "application/vnd.databricks.v1+cell": {
     "cellMetadata": {},
     "inputWidgets": {},
     "nuid": "ace58bc1-fa7b-4a63-b86a-a09f2258558f",
     "showTitle": false,
     "title": ""
    }
   },
   "outputs": [],
   "source": [
    "url='https://raw.githubusercontent.com/Izainea/seminario-de-programacion/master/data/usuarios_win_mac_lin.csv'"
   ]
  },
  {
   "cell_type": "code",
   "execution_count": 0,
   "metadata": {
    "application/vnd.databricks.v1+cell": {
     "cellMetadata": {},
     "inputWidgets": {},
     "nuid": "ea6c9be9-3ba0-4e60-9dbb-61fd099f483b",
     "showTitle": false,
     "title": ""
    }
   },
   "outputs": [],
   "source": [
    "import pandas as pd "
   ]
  },
  {
   "cell_type": "markdown",
   "metadata": {
    "application/vnd.databricks.v1+cell": {
     "cellMetadata": {},
     "inputWidgets": {},
     "nuid": "17c828f0-1216-4a08-bf47-9929dbb81d0d",
     "showTitle": false,
     "title": ""
    }
   },
   "source": [
    "Esta es una base de datos que contiene información acerca de usuarios de sistemas operativos. Las clases estan dadas por:\n",
    "\n",
    "0- Windows\n",
    "1- Mac\n",
    "2- Linux"
   ]
  },
  {
   "cell_type": "code",
   "execution_count": 0,
   "metadata": {
    "application/vnd.databricks.v1+cell": {
     "cellMetadata": {},
     "inputWidgets": {},
     "nuid": "9ee055d9-4d44-4375-8c86-435120e55685",
     "showTitle": false,
     "title": ""
    }
   },
   "outputs": [],
   "source": [
    "SOdataframe=pd.read_csv(url)\n",
    "SOdataframe"
   ]
  },
  {
   "cell_type": "code",
   "execution_count": 0,
   "metadata": {
    "application/vnd.databricks.v1+cell": {
     "cellMetadata": {},
     "inputWidgets": {},
     "nuid": "58d16413-5f96-4ebf-8469-f3d24cd514a9",
     "showTitle": false,
     "title": ""
    }
   },
   "outputs": [],
   "source": [
    "SOdataframe.dtypes"
   ]
  },
  {
   "cell_type": "code",
   "execution_count": 0,
   "metadata": {
    "application/vnd.databricks.v1+cell": {
     "cellMetadata": {},
     "inputWidgets": {},
     "nuid": "bb3efc75-5897-46da-b40d-3e9bbb6e6108",
     "showTitle": false,
     "title": ""
    }
   },
   "outputs": [],
   "source": [
    "#import pandas_profiling as ppd"
   ]
  },
  {
   "cell_type": "code",
   "execution_count": 0,
   "metadata": {
    "application/vnd.databricks.v1+cell": {
     "cellMetadata": {},
     "inputWidgets": {},
     "nuid": "eb36a179-c332-476f-a143-5b8c35b436a0",
     "showTitle": false,
     "title": ""
    },
    "scrolled": true
   },
   "outputs": [],
   "source": [
    "#reportSO=ppd.ProfileReport(SOdataframe,\"Resumen SO\",explorative=True)\n",
    "#reportSO.to_file('report.html')"
   ]
  },
  {
   "cell_type": "markdown",
   "metadata": {
    "application/vnd.databricks.v1+cell": {
     "cellMetadata": {},
     "inputWidgets": {},
     "nuid": "6e86d45c-110b-4ebc-b62d-7eb6f1f7c5d7",
     "showTitle": false,
     "title": ""
    }
   },
   "source": [
    "Estadísticos de validación del modelo:"
   ]
  },
  {
   "cell_type": "code",
   "execution_count": 0,
   "metadata": {
    "application/vnd.databricks.v1+cell": {
     "cellMetadata": {},
     "inputWidgets": {},
     "nuid": "e6dc3855-00f5-454f-ba9a-5b5c18e82c56",
     "showTitle": false,
     "title": ""
    }
   },
   "outputs": [],
   "source": [
    "from sklearn.metrics import classification_report\n",
    "from sklearn.metrics import confusion_matrix\n",
    "from sklearn.metrics import accuracy_score\n",
    "from sklearn.metrics import roc_auc_score\n",
    "from sklearn.metrics import roc_curve\n",
    "from sklearn.metrics import RocCurveDisplay\n",
    "from sklearn.metrics import auc"
   ]
  },
  {
   "cell_type": "markdown",
   "metadata": {
    "application/vnd.databricks.v1+cell": {
     "cellMetadata": {},
     "inputWidgets": {},
     "nuid": "ae149fd5-629c-4f96-a899-8e7d7b7f9b4d",
     "showTitle": false,
     "title": ""
    }
   },
   "source": [
    "Paquetes de soporte y visualización:"
   ]
  },
  {
   "cell_type": "code",
   "execution_count": 0,
   "metadata": {
    "application/vnd.databricks.v1+cell": {
     "cellMetadata": {},
     "inputWidgets": {},
     "nuid": "831d2f6f-4d22-477a-8234-d2aef5e2464a",
     "showTitle": false,
     "title": ""
    }
   },
   "outputs": [],
   "source": [
    "import matplotlib.pyplot as plt\n",
    "import numpy as np\n",
    "import seaborn as sns \n",
    "%matplotlib inline"
   ]
  },
  {
   "cell_type": "markdown",
   "metadata": {
    "application/vnd.databricks.v1+cell": {
     "cellMetadata": {},
     "inputWidgets": {},
     "nuid": "ba93d895-5e9f-47d0-97bc-b4f204b9f54c",
     "showTitle": false,
     "title": ""
    }
   },
   "source": [
    "Modulos para generar el modelo:"
   ]
  },
  {
   "cell_type": "code",
   "execution_count": 0,
   "metadata": {
    "application/vnd.databricks.v1+cell": {
     "cellMetadata": {},
     "inputWidgets": {},
     "nuid": "f7b34e9e-b9b1-4a3b-9ff2-eb6577ff4181",
     "showTitle": false,
     "title": ""
    }
   },
   "outputs": [],
   "source": [
    "from sklearn import linear_model\n",
    "from sklearn import model_selection"
   ]
  },
  {
   "cell_type": "code",
   "execution_count": 0,
   "metadata": {
    "application/vnd.databricks.v1+cell": {
     "cellMetadata": {},
     "inputWidgets": {},
     "nuid": "5989e3b5-972b-4a30-ae16-bfb9e6a2137c",
     "showTitle": false,
     "title": ""
    }
   },
   "outputs": [],
   "source": [
    "SOdataframe.describe()"
   ]
  },
  {
   "cell_type": "code",
   "execution_count": 0,
   "metadata": {
    "application/vnd.databricks.v1+cell": {
     "cellMetadata": {},
     "inputWidgets": {},
     "nuid": "67d98e67-4c22-429a-bc2d-c3854af83505",
     "showTitle": false,
     "title": ""
    }
   },
   "outputs": [],
   "source": [
    "SOdataframe.groupby('clase').size()"
   ]
  },
  {
   "cell_type": "code",
   "execution_count": 0,
   "metadata": {
    "application/vnd.databricks.v1+cell": {
     "cellMetadata": {},
     "inputWidgets": {},
     "nuid": "36cda1bb-0805-4d6c-a863-82d6d0975a38",
     "showTitle": false,
     "title": ""
    }
   },
   "outputs": [],
   "source": [
    "sns.pairplot(SOdataframe.dropna(),hue='clase',vars=['duracion','paginas','acciones','valor'])"
   ]
  },
  {
   "cell_type": "code",
   "execution_count": 0,
   "metadata": {
    "application/vnd.databricks.v1+cell": {
     "cellMetadata": {},
     "inputWidgets": {},
     "nuid": "a7f645bc-134e-4c1e-8983-0e7a05a3c447",
     "showTitle": false,
     "title": ""
    }
   },
   "outputs": [],
   "source": [
    "from sklearn.decomposition import PCA\n",
    "from sklearn.preprocessing import StandardScaler"
   ]
  },
  {
   "cell_type": "code",
   "execution_count": 0,
   "metadata": {
    "application/vnd.databricks.v1+cell": {
     "cellMetadata": {},
     "inputWidgets": {},
     "nuid": "fa34c969-7722-4bfc-b1ef-ae0031f9563a",
     "showTitle": false,
     "title": ""
    }
   },
   "outputs": [],
   "source": [
    "escala=StandardScaler(with_mean=True, with_std=True) \n",
    "\n",
    "pca=PCA(n_components=3)\n",
    "\n",
    "X=SOdataframe[['duracion','paginas','acciones','valor']]\n",
    "\n",
    "\n",
    "X=escala.fit_transform(X)\n",
    "\n",
    "pca.fit_transform(X);\n",
    "\n",
    "pca.explained_variance_ratio_"
   ]
  },
  {
   "cell_type": "code",
   "execution_count": 0,
   "metadata": {
    "application/vnd.databricks.v1+cell": {
     "cellMetadata": {},
     "inputWidgets": {},
     "nuid": "d55f1fa7-c5c7-4b2f-8897-2ad61c91145d",
     "showTitle": false,
     "title": ""
    }
   },
   "outputs": [],
   "source": [
    "otrabase=SOdataframe\n",
    "otrabase['Comp1']=pca.fit_transform(X).T[0]\n",
    "otrabase['Comp2']=pca.fit_transform(X).T[1]\n",
    "otrabase['Comp3']=pca.fit_transform(X).T[2]\n",
    "otrabase"
   ]
  },
  {
   "cell_type": "code",
   "execution_count": 0,
   "metadata": {
    "application/vnd.databricks.v1+cell": {
     "cellMetadata": {},
     "inputWidgets": {},
     "nuid": "1e1ae8cf-e8b0-47ef-82bb-72afa909f81a",
     "showTitle": false,
     "title": ""
    }
   },
   "outputs": [],
   "source": [
    "sns.scatterplot(data=otrabase,x='Comp1',y='Comp2',hue='clase',size='Comp3')"
   ]
  },
  {
   "cell_type": "markdown",
   "metadata": {
    "application/vnd.databricks.v1+cell": {
     "cellMetadata": {},
     "inputWidgets": {},
     "nuid": "93521066-12bc-4b33-8516-0aee958046c2",
     "showTitle": false,
     "title": ""
    }
   },
   "source": [
    "* Parto la base por columnas que hacen referencia a las variables de entrada (X) y a la variable de salida (y)"
   ]
  },
  {
   "cell_type": "code",
   "execution_count": 0,
   "metadata": {
    "application/vnd.databricks.v1+cell": {
     "cellMetadata": {},
     "inputWidgets": {},
     "nuid": "fa970cce-4188-4e9d-bbcf-f1d774f32663",
     "showTitle": false,
     "title": ""
    }
   },
   "outputs": [],
   "source": [
    "X=SOdataframe[['duracion','paginas','acciones','valor']]\n",
    "y=SOdataframe['clase']"
   ]
  },
  {
   "cell_type": "code",
   "execution_count": 0,
   "metadata": {
    "application/vnd.databricks.v1+cell": {
     "cellMetadata": {},
     "inputWidgets": {},
     "nuid": "636b1727-802f-4f3a-9248-557aff3c62bc",
     "showTitle": false,
     "title": ""
    }
   },
   "outputs": [],
   "source": [
    "X"
   ]
  },
  {
   "cell_type": "code",
   "execution_count": 0,
   "metadata": {
    "application/vnd.databricks.v1+cell": {
     "cellMetadata": {},
     "inputWidgets": {},
     "nuid": "424a68a2-3f39-4c94-97f8-e365d1b7f462",
     "showTitle": false,
     "title": ""
    }
   },
   "outputs": [],
   "source": [
    "y"
   ]
  },
  {
   "cell_type": "markdown",
   "metadata": {
    "application/vnd.databricks.v1+cell": {
     "cellMetadata": {},
     "inputWidgets": {},
     "nuid": "d32f0ed6-7e73-47a8-8bd5-4a8cd0ee6de2",
     "showTitle": false,
     "title": ""
    }
   },
   "source": [
    "+ Particiono la base en una de entrenamiento y otra de testeo"
   ]
  },
  {
   "cell_type": "code",
   "execution_count": 0,
   "metadata": {
    "application/vnd.databricks.v1+cell": {
     "cellMetadata": {},
     "inputWidgets": {},
     "nuid": "3b67b811-99dd-42d0-93f6-9b6d315f93cb",
     "showTitle": false,
     "title": ""
    }
   },
   "outputs": [],
   "source": [
    "X_entreno,X_testeo,Y_entreno,Y_testeo= model_selection.train_test_split(X,y,test_size=0.3,random_state=29)"
   ]
  },
  {
   "cell_type": "code",
   "execution_count": 0,
   "metadata": {
    "application/vnd.databricks.v1+cell": {
     "cellMetadata": {},
     "inputWidgets": {},
     "nuid": "496e9dc1-67ed-4d38-86f7-e4f32e20e015",
     "showTitle": false,
     "title": ""
    }
   },
   "outputs": [],
   "source": [
    "X_entreno.shape"
   ]
  },
  {
   "cell_type": "code",
   "execution_count": 0,
   "metadata": {
    "application/vnd.databricks.v1+cell": {
     "cellMetadata": {},
     "inputWidgets": {},
     "nuid": "c28d6089-ee16-4bf4-803c-c017c62d697f",
     "showTitle": false,
     "title": ""
    }
   },
   "outputs": [],
   "source": [
    "X_testeo.shape"
   ]
  },
  {
   "cell_type": "markdown",
   "metadata": {
    "application/vnd.databricks.v1+cell": {
     "cellMetadata": {},
     "inputWidgets": {},
     "nuid": "0240a0f9-c504-492b-af3f-c6fd5da12bf6",
     "showTitle": false,
     "title": ""
    }
   },
   "source": [
    "* Defino el modelo y ajusto hiperparámetros"
   ]
  },
  {
   "cell_type": "code",
   "execution_count": 0,
   "metadata": {
    "application/vnd.databricks.v1+cell": {
     "cellMetadata": {},
     "inputWidgets": {},
     "nuid": "b86c8cad-7370-4d7b-9f33-a108e9e12294",
     "showTitle": false,
     "title": ""
    }
   },
   "outputs": [],
   "source": [
    "miprimeralogistica=linear_model.LogisticRegression(max_iter=100,solver='liblinear',random_state=29)"
   ]
  },
  {
   "cell_type": "markdown",
   "metadata": {
    "application/vnd.databricks.v1+cell": {
     "cellMetadata": {},
     "inputWidgets": {},
     "nuid": "5519f0e1-b405-4469-b7ca-7004984102bf",
     "showTitle": false,
     "title": ""
    }
   },
   "source": [
    "* Entrenamos el modelo"
   ]
  },
  {
   "cell_type": "code",
   "execution_count": 0,
   "metadata": {
    "application/vnd.databricks.v1+cell": {
     "cellMetadata": {},
     "inputWidgets": {},
     "nuid": "d33d9cdf-87aa-49c6-b724-150c894d89c3",
     "showTitle": false,
     "title": ""
    }
   },
   "outputs": [],
   "source": [
    "miprimeralogistica.fit(X_entreno,Y_entreno)"
   ]
  },
  {
   "cell_type": "code",
   "execution_count": 0,
   "metadata": {
    "application/vnd.databricks.v1+cell": {
     "cellMetadata": {},
     "inputWidgets": {},
     "nuid": "e0843f64-0c30-424b-b313-abafa8337f27",
     "showTitle": false,
     "title": ""
    }
   },
   "outputs": [],
   "source": [
    "I=miprimeralogistica.intercept_\n",
    "I"
   ]
  },
  {
   "cell_type": "code",
   "execution_count": 0,
   "metadata": {
    "application/vnd.databricks.v1+cell": {
     "cellMetadata": {},
     "inputWidgets": {},
     "nuid": "82353c9d-28c5-415a-b5cd-dacc087b8f6c",
     "showTitle": false,
     "title": ""
    }
   },
   "outputs": [],
   "source": [
    "A=miprimeralogistica.coef_\n",
    "A"
   ]
  },
  {
   "cell_type": "code",
   "execution_count": 0,
   "metadata": {
    "application/vnd.databricks.v1+cell": {
     "cellMetadata": {},
     "inputWidgets": {},
     "nuid": "901ce184-da8e-4561-a267-8e484caae81b",
     "showTitle": false,
     "title": ""
    }
   },
   "outputs": [],
   "source": [
    "def logisti(x1,x2,x3,x4):\n",
    "    y=A[0]@[[x1],[x2],[x3],[x4]]+I[0]\n",
    "    prob=np.exp(y)/(1+np.exp(y))\n",
    "    return prob\n",
    "\n",
    "logisti(2,5,2,5)"
   ]
  },
  {
   "cell_type": "code",
   "execution_count": 0,
   "metadata": {
    "application/vnd.databricks.v1+cell": {
     "cellMetadata": {},
     "inputWidgets": {},
     "nuid": "0ea2db13-f788-488f-884d-a505a21279f8",
     "showTitle": false,
     "title": ""
    }
   },
   "outputs": [],
   "source": [
    "miprimeralogistica.predict_proba([[2,5,2,5]])[0,0]"
   ]
  },
  {
   "cell_type": "code",
   "execution_count": 0,
   "metadata": {
    "application/vnd.databricks.v1+cell": {
     "cellMetadata": {},
     "inputWidgets": {},
     "nuid": "3eb5b2b3-c117-4b35-97b5-dd21c042c729",
     "showTitle": false,
     "title": ""
    }
   },
   "outputs": [],
   "source": [
    "pd.DataFrame(data=[Y_entreno.values,miprimeralogistica.predict(X_entreno)],columns=Y_entreno.index,index=['Real','Predicho'])"
   ]
  },
  {
   "cell_type": "markdown",
   "metadata": {
    "application/vnd.databricks.v1+cell": {
     "cellMetadata": {},
     "inputWidgets": {},
     "nuid": "25c75d05-bbce-48ad-8eb8-fac3dcf6188c",
     "showTitle": false,
     "title": ""
    }
   },
   "source": [
    "* Como predice el modelo\n",
    "\n",
    "Aplica logística para cada clase de la variable objetivo y clasifica según la clase que tiene mayor probabilidad."
   ]
  },
  {
   "cell_type": "code",
   "execution_count": 0,
   "metadata": {
    "application/vnd.databricks.v1+cell": {
     "cellMetadata": {},
     "inputWidgets": {},
     "nuid": "b815d27a-59a2-46e1-9812-42f053242b71",
     "showTitle": false,
     "title": ""
    }
   },
   "outputs": [],
   "source": [
    "X_predicciones=dict()\n",
    "X_predicciones['predicción']=miprimeralogistica.predict(X_entreno)"
   ]
  },
  {
   "cell_type": "code",
   "execution_count": 0,
   "metadata": {
    "application/vnd.databricks.v1+cell": {
     "cellMetadata": {},
     "inputWidgets": {},
     "nuid": "fa9ce597-db71-4c41-9acd-d9d78aa0e709",
     "showTitle": false,
     "title": ""
    }
   },
   "outputs": [],
   "source": [
    "miprimeralogistica.predict_proba(X_entreno)"
   ]
  },
  {
   "cell_type": "code",
   "execution_count": 0,
   "metadata": {
    "application/vnd.databricks.v1+cell": {
     "cellMetadata": {},
     "inputWidgets": {},
     "nuid": "a44db2f5-f9ad-4e54-962d-62dcb1858f22",
     "showTitle": false,
     "title": ""
    }
   },
   "outputs": [],
   "source": [
    "X_predicciones['Real']=Y_entreno"
   ]
  },
  {
   "cell_type": "markdown",
   "metadata": {
    "application/vnd.databricks.v1+cell": {
     "cellMetadata": {},
     "inputWidgets": {},
     "nuid": "bf4654b7-24e7-4451-a7d6-30af3af853df",
     "showTitle": false,
     "title": ""
    }
   },
   "source": [
    " Empezamos con las validaciones"
   ]
  },
  {
   "cell_type": "code",
   "execution_count": 0,
   "metadata": {
    "application/vnd.databricks.v1+cell": {
     "cellMetadata": {},
     "inputWidgets": {},
     "nuid": "6d09d3d1-5688-4784-9d98-e2a835ed07ba",
     "showTitle": false,
     "title": ""
    }
   },
   "outputs": [],
   "source": [
    "miprimeralogistica.score(X_entreno,Y_entreno)"
   ]
  },
  {
   "cell_type": "code",
   "execution_count": 0,
   "metadata": {
    "application/vnd.databricks.v1+cell": {
     "cellMetadata": {},
     "inputWidgets": {},
     "nuid": "a346ebaa-fc98-422f-836e-c73007b4bcd5",
     "showTitle": false,
     "title": ""
    }
   },
   "outputs": [],
   "source": [
    "miprimeralogistica.score(X_testeo,Y_testeo)"
   ]
  },
  {
   "cell_type": "code",
   "execution_count": 0,
   "metadata": {
    "application/vnd.databricks.v1+cell": {
     "cellMetadata": {},
     "inputWidgets": {},
     "nuid": "99dac757-a116-4e0a-ad68-e36581fc8edd",
     "showTitle": false,
     "title": ""
    }
   },
   "outputs": [],
   "source": [
    "print(classification_report(Y_testeo,miprimeralogistica.predict(X_testeo)))"
   ]
  },
  {
   "cell_type": "code",
   "execution_count": 0,
   "metadata": {
    "application/vnd.databricks.v1+cell": {
     "cellMetadata": {},
     "inputWidgets": {},
     "nuid": "394bf757-6348-4f12-b7c8-7b951dbb4dae",
     "showTitle": false,
     "title": ""
    }
   },
   "outputs": [],
   "source": [
    "print(np.array([1,1,1,0,1,0,1,1,1]))\n",
    "print(np.array([1,1,1,1,1,1,1,1,1]))"
   ]
  },
  {
   "cell_type": "code",
   "execution_count": 0,
   "metadata": {
    "application/vnd.databricks.v1+cell": {
     "cellMetadata": {},
     "inputWidgets": {},
     "nuid": "3bb938bb-8943-442d-9c25-0fa6752157a8",
     "showTitle": false,
     "title": ""
    }
   },
   "outputs": [],
   "source": [
    "print(classification_report(np.array([1,1,1,0,1,0,1,1,1]),np.array([1,1,1,1,1,1,1,1,1])))"
   ]
  },
  {
   "cell_type": "code",
   "execution_count": 0,
   "metadata": {
    "application/vnd.databricks.v1+cell": {
     "cellMetadata": {},
     "inputWidgets": {},
     "nuid": "5768e42e-3ef2-4295-8cc3-0601c014a81a",
     "showTitle": false,
     "title": ""
    }
   },
   "outputs": [],
   "source": [
    "CM=confusion_matrix(Y_testeo,miprimeralogistica.predict(X_testeo))\n",
    "CM"
   ]
  },
  {
   "cell_type": "code",
   "execution_count": 0,
   "metadata": {
    "application/vnd.databricks.v1+cell": {
     "cellMetadata": {},
     "inputWidgets": {},
     "nuid": "3cd69f8a-2344-464c-ae09-1cfd9e40f59f",
     "showTitle": false,
     "title": ""
    },
    "tags": []
   },
   "outputs": [],
   "source": [
    "labels=['Win','Mac','Lin']\n",
    "sns.heatmap(CM,annot=True,cmap='Blues')\n",
    "plt.xlabel('Predicho')\n",
    "plt.ylabel('Real')\n",
    "plt.xticks([0.5,1.5,2.5],labels,va='center')\n",
    "plt.yticks([0.5,1.5,2.5],labels,va='center')\n",
    "plt.show()"
   ]
  },
  {
   "cell_type": "code",
   "execution_count": 0,
   "metadata": {
    "application/vnd.databricks.v1+cell": {
     "cellMetadata": {},
     "inputWidgets": {},
     "nuid": "cd13a7ff-da2e-4c18-8d95-80900752d5b1",
     "showTitle": false,
     "title": ""
    }
   },
   "outputs": [],
   "source": [
    "CM=confusion_matrix(Y_entreno,miprimeralogistica.predict(X_entreno))\n",
    "\n",
    "labels=['Win','Mac','Lin']\n",
    "sns.heatmap(CM,annot=True,cmap='Blues')\n",
    "plt.xlabel('Predicho')\n",
    "plt.ylabel('Real')\n",
    "plt.xticks([0.5,1.5,2.5],labels,va='center')\n",
    "plt.yticks([0.5,1.5,2.5],labels,va='center')\n",
    "plt.show()"
   ]
  },
  {
   "cell_type": "code",
   "execution_count": 0,
   "metadata": {
    "application/vnd.databricks.v1+cell": {
     "cellMetadata": {},
     "inputWidgets": {},
     "nuid": "51e2af25-ec88-411d-85ef-fe62a34cb260",
     "showTitle": false,
     "title": ""
    }
   },
   "outputs": [],
   "source": [
    "np.set_printoptions(formatter={'float':'{:.2f}'.format}) ## Para que al ver arreglos no aparezcan más de dos decimales"
   ]
  },
  {
   "cell_type": "code",
   "execution_count": 0,
   "metadata": {
    "application/vnd.databricks.v1+cell": {
     "cellMetadata": {},
     "inputWidgets": {},
     "nuid": "fa3f6be1-e140-41f0-a0e5-065720bad536",
     "showTitle": false,
     "title": ""
    }
   },
   "outputs": [],
   "source": [
    "pd.set_option('display.precision',2)"
   ]
  },
  {
   "cell_type": "code",
   "execution_count": 0,
   "metadata": {
    "application/vnd.databricks.v1+cell": {
     "cellMetadata": {},
     "inputWidgets": {},
     "nuid": "ef240fde-c127-404a-9c6b-251201385708",
     "showTitle": false,
     "title": ""
    }
   },
   "outputs": [],
   "source": [
    "Y_pred_prob=miprimeralogistica.predict_proba(X_testeo)\n",
    "\n",
    "Prob=pd.DataFrame(Y_pred_prob,columns=['0','1','2'])\n",
    "Prob['Result']=miprimeralogistica.predict(X_testeo)\n",
    "Prob"
   ]
  },
  {
   "cell_type": "code",
   "execution_count": 0,
   "metadata": {
    "application/vnd.databricks.v1+cell": {
     "cellMetadata": {},
     "inputWidgets": {},
     "nuid": "53dce64e-21f6-4f11-9c6e-a0666cfef0b7",
     "showTitle": false,
     "title": ""
    }
   },
   "outputs": [],
   "source": [
    "Y_testeo_dummy=pd.get_dummies(Y_testeo)\n",
    "Y_testeo_dummy"
   ]
  },
  {
   "cell_type": "code",
   "execution_count": 0,
   "metadata": {
    "application/vnd.databricks.v1+cell": {
     "cellMetadata": {},
     "inputWidgets": {},
     "nuid": "bd73be44-4659-452a-ac44-3cd2ca4f4e1b",
     "showTitle": false,
     "title": ""
    }
   },
   "outputs": [],
   "source": [
    "fpr, tpr, umbrales=roc_curve(Y_testeo_dummy[0],Y_pred_prob[:,0])"
   ]
  },
  {
   "cell_type": "code",
   "execution_count": 0,
   "metadata": {
    "application/vnd.databricks.v1+cell": {
     "cellMetadata": {},
     "inputWidgets": {},
     "nuid": "69b4cdc6-b13b-4dbf-81c0-b9b17b4e9194",
     "showTitle": false,
     "title": ""
    }
   },
   "outputs": [],
   "source": [
    "AUC=auc(fpr,tpr)\n",
    "print(AUC)\n",
    "plt.plot(fpr,tpr)\n",
    "plt.title('Curva Roc para WIN')\n",
    "plt.show()"
   ]
  },
  {
   "cell_type": "code",
   "execution_count": 0,
   "metadata": {
    "application/vnd.databricks.v1+cell": {
     "cellMetadata": {},
     "inputWidgets": {},
     "nuid": "3c20c8cc-b91c-424b-9395-2f27cd7fbb72",
     "showTitle": false,
     "title": ""
    }
   },
   "outputs": [],
   "source": [
    "display=RocCurveDisplay(fpr=fpr,tpr=tpr,roc_auc=AUC)"
   ]
  },
  {
   "cell_type": "code",
   "execution_count": 0,
   "metadata": {
    "application/vnd.databricks.v1+cell": {
     "cellMetadata": {},
     "inputWidgets": {},
     "nuid": "7649b1cc-a404-464a-a5d2-86965308a739",
     "showTitle": false,
     "title": ""
    }
   },
   "outputs": [],
   "source": [
    "display.plot()"
   ]
  },
  {
   "cell_type": "code",
   "execution_count": 0,
   "metadata": {
    "application/vnd.databricks.v1+cell": {
     "cellMetadata": {},
     "inputWidgets": {},
     "nuid": "c3b58d03-18d1-4d94-85ae-08d137c7c5cb",
     "showTitle": false,
     "title": ""
    }
   },
   "outputs": [],
   "source": [
    "osd=['WIN','MAC','LIN']\n",
    "for i in range(3):\n",
    "    fpr, tpr, umbrales=roc_curve(Y_testeo_dummy[i],Y_pred_prob[:,i])\n",
    "    AUC=auc(fpr,tpr)\n",
    "    display=RocCurveDisplay(fpr=fpr,tpr=tpr,roc_auc=AUC)\n",
    "    display.plot()\n",
    "    plt.title('Curva Roc para '+osd[i])\n",
    "plt.show()\n"
   ]
  },
  {
   "cell_type": "code",
   "execution_count": 0,
   "metadata": {
    "application/vnd.databricks.v1+cell": {
     "cellMetadata": {},
     "inputWidgets": {},
     "nuid": "8e9d07df-9b4e-4332-b0ce-65c780cdeab9",
     "showTitle": false,
     "title": ""
    }
   },
   "outputs": [],
   "source": [
    "Y_prob=miprimeralogistica.predict_proba(X)\n",
    "Y_dummy=pd.get_dummies(y)\n",
    "for i in range(3):\n",
    "    fpr, tpr, umbrales=roc_curve(Y_dummy[i],Y_prob[:,i])\n",
    "    AUC=auc(fpr,tpr)\n",
    "    display=RocCurveDisplay(fpr=fpr,tpr=tpr,roc_auc=AUC)\n",
    "    display.plot()\n",
    "    plt.title('Curva Roc para '+osd[i])\n",
    "plt.show()"
   ]
  },
  {
   "cell_type": "code",
   "execution_count": 0,
   "metadata": {
    "application/vnd.databricks.v1+cell": {
     "cellMetadata": {},
     "inputWidgets": {},
     "nuid": "dbb97d1a-b3c8-4c01-ab1b-127ad0bf1e75",
     "showTitle": false,
     "title": ""
    }
   },
   "outputs": [],
   "source": [
    "miprimeralogistica.intercept_"
   ]
  },
  {
   "cell_type": "code",
   "execution_count": 0,
   "metadata": {
    "application/vnd.databricks.v1+cell": {
     "cellMetadata": {},
     "inputWidgets": {},
     "nuid": "bbaee659-b6b8-4c97-aaa6-edb0de7b5285",
     "showTitle": false,
     "title": ""
    }
   },
   "outputs": [],
   "source": [
    "miprimeralogistica.coef_"
   ]
  },
  {
   "cell_type": "markdown",
   "metadata": {
    "application/vnd.databricks.v1+cell": {
     "cellMetadata": {},
     "inputWidgets": {},
     "nuid": "0df194e4-e020-40a5-ac8e-24b1811ac0b5",
     "showTitle": false,
     "title": ""
    }
   },
   "source": [
    "## Guardar el modelo\n",
    "\n",
    "A continuación vamos a guardar los parametros del modelo para utilizarlos después. Utilizamos el paquete pickle."
   ]
  },
  {
   "cell_type": "code",
   "execution_count": 0,
   "metadata": {
    "application/vnd.databricks.v1+cell": {
     "cellMetadata": {},
     "inputWidgets": {},
     "nuid": "6098eac3-2e68-420b-9ff4-bf98a865d5ca",
     "showTitle": false,
     "title": ""
    }
   },
   "outputs": [],
   "source": [
    "import pickle\n",
    "\n",
    "pkl_filename = \"logistica.pkl\"\n",
    "with open(pkl_filename, 'wb') as file:\n",
    "    pickle.dump(miprimeralogistica, file)\n",
    "    \n"
   ]
  },
  {
   "cell_type": "code",
   "execution_count": 0,
   "metadata": {
    "application/vnd.databricks.v1+cell": {
     "cellMetadata": {},
     "inputWidgets": {},
     "nuid": "de1bdc58-7eb0-4da9-9d85-011d00ca54fd",
     "showTitle": false,
     "title": ""
    }
   },
   "outputs": [],
   "source": [
    "import pickle\n",
    "with open('logistica.pkl', 'rb') as file:\n",
    "    pickle_model = pickle.load(file)\n",
    "    \n",
    "score = pickle_model.score(X_entreno, Y_entreno)\n",
    "print(\"Test score: {0:.2f} %\".format(100 * score))\n",
    "Ypredict = pickle_model.predict(X)"
   ]
  },
  {
   "cell_type": "code",
   "execution_count": 0,
   "metadata": {
    "application/vnd.databricks.v1+cell": {
     "cellMetadata": {},
     "inputWidgets": {},
     "nuid": "3c0902f1-9e5b-4f9e-bfc2-828e63417e9a",
     "showTitle": false,
     "title": ""
    }
   },
   "outputs": [],
   "source": [
    "import numpy as np\n",
    "Xsim=dict()\n",
    "Xsim['duracion']=[i if i>0 else 0 for i in np.random.normal(loc=111,scale=202,size=100)]\n",
    "Xsim['paginas']=[i if i>0 else 0 for i in np.random.normal(loc=2,scale=1,size=100)]\n",
    "Xsim['acciones']=[i if i>0 else 0 for i in np.random.normal(loc=9,scale=4,size=100)]\n",
    "Xsim['valor']=[i if i>0 else 0 for i in np.random.normal(loc=32,scale=20,size=100)]\n",
    "DFsim=pd.DataFrame(data=Xsim)"
   ]
  },
  {
   "cell_type": "code",
   "execution_count": 0,
   "metadata": {
    "application/vnd.databricks.v1+cell": {
     "cellMetadata": {},
     "inputWidgets": {},
     "nuid": "c863e136-52f7-4556-84d7-caaf2e056402",
     "showTitle": false,
     "title": ""
    }
   },
   "outputs": [],
   "source": [
    "DFsim"
   ]
  },
  {
   "cell_type": "code",
   "execution_count": 0,
   "metadata": {
    "application/vnd.databricks.v1+cell": {
     "cellMetadata": {},
     "inputWidgets": {},
     "nuid": "8d8af94f-04d1-4c27-bf55-e2f47515e830",
     "showTitle": false,
     "title": ""
    }
   },
   "outputs": [],
   "source": [
    "pickle_model.predict(DFsim)"
   ]
  },
  {
   "cell_type": "markdown",
   "metadata": {
    "application/vnd.databricks.v1+cell": {
     "cellMetadata": {},
     "inputWidgets": {},
     "nuid": "2bcb165e-4df2-4f1a-926f-12320ab9b9e6",
     "showTitle": false,
     "title": ""
    }
   },
   "source": [
    "## Conclusiones\n",
    "\n",
    "En este apartado trabajamos en varias cosas:\n",
    "\n",
    "1. Definimos la metodología del desarrollo y depliegue de modelos de clasificación supervisada. No solo nos apropiamos de la diferente terminología detras de los modelos de clasificación sino que exploramos varias formas de validarlo. \n",
    "\n",
    "2. Estudiamos algunos conceptos teóricos de la regresión logística y explicamos cuales son las entradas y salidas que se traza el módulo Logistic-Regression  en python.\n",
    "\n",
    "3. La generalización de la regresión logística para múltiples categorías resulto útil para determinar el valor de clasificación en la predicción que estamos montando.\n",
    "\n",
    "4. Hizo falta hablar sobre la significancia del modelo:\n",
    "\n",
    "* Likelihood Ratio\n",
    "* Pseudo R2\n",
    "* Significancia de los predictores y prueba chi cuadrado.\n",
    "\n",
    "\n"
   ]
  }
 ],
 "metadata": {
  "application/vnd.databricks.v1+notebook": {
   "dashboards": [],
   "language": "python",
   "notebookMetadata": {},
   "notebookName": "Regresion Logistica",
   "widgets": {}
  },
  "kernelspec": {
   "display_name": "Python 3",
   "language": "python",
   "name": "python3"
  },
  "language_info": {
   "codemirror_mode": {
    "name": "ipython",
    "version": 3
   },
   "file_extension": ".py",
   "mimetype": "text/x-python",
   "name": "python",
   "nbconvert_exporter": "python",
   "pygments_lexer": "ipython3",
   "version": "3.9.5"
  },
  "toc": {
   "base_numbering": 1,
   "nav_menu": {},
   "number_sections": true,
   "sideBar": true,
   "skip_h1_title": true,
   "title_cell": "Table of Contents",
   "title_sidebar": "Contents",
   "toc_cell": true,
   "toc_position": {},
   "toc_section_display": true,
   "toc_window_display": false
  }
 },
 "nbformat": 4,
 "nbformat_minor": 0
}
