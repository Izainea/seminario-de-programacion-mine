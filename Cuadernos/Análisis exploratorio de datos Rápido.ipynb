{
 "cells": [
  {
   "cell_type": "markdown",
   "metadata": {},
   "source": [
    "# Análisis exploratorio de datos Rápido\n",
    "\n",
    "Veremos a continuación dos paquetes que permiten hacer un análisis exploratorio de datos bastante rápido usando diferentes recursos interactivos. Se trata de pandas-profiling y dataprep, ambos han sido altamente elogiados por su capacidad para perfilar conjuntos de datos. En particular, veremos en dataprep que hay una posibilidad de hacer un análisis iterativo y centrado en tareas, facilitando una exploración adecuada de los datos.\n",
    "\n"
   ]
  },
  {
   "cell_type": "markdown",
   "metadata": {},
   "source": [
    "## Pandas-Profilling\n",
    "\n",
    "<a href=\"https://pandas-profiling.github.io/pandas-profiling/docs/master/rtd/\"><img src=\"https://pandas-profiling.github.io/pandas-profiling/docs/assets/logo_header.png\" style=\"width:150px\"></a>\n",
    "\n",
    "`Pandas-profilling` es un módulo de Python que nos permite hacer rápidamente un análisis de datos exploratorio usando unas pocas líneas de código. También genera informes interactivos en formato web ahorra el trabajo de visualizar y comprender la distribución de cada variable."
   ]
  },
  {
   "cell_type": "markdown",
   "metadata": {},
   "source": [
    "Haremos una breve introducción a este paquete utilizando los datos proporcionados por la alcaldía de Bogotá acerca de cornavirus COVID-19. Iniciamos cargando la base de datos:"
   ]
  },
  {
   "cell_type": "code",
   "execution_count": null,
   "metadata": {},
   "outputs": [],
   "source": [
    "import pandas as pd\n",
    "url = 'https://datosabiertos.bogota.gov.co/dataset/44eacdb7-a535-45ed-be03-16dbbea6f6da/resource/b64ba3c4-9e41-41b8-b3fd-2da21d627558/download/osb_enftransm-covid-19_05022021.csv'  \n",
    "df=pd.read_csv(url,encoding='latin-1',sep=\";\",error_bad_lines=False)"
   ]
  },
  {
   "cell_type": "code",
   "execution_count": null,
   "metadata": {},
   "outputs": [],
   "source": [
    "df"
   ]
  },
  {
   "cell_type": "markdown",
   "metadata": {},
   "source": [
    "Tenga un poco de paciencia mientras se carga la base, el sistema la está decargando. Se puede notar que los últimos registros no corresponden a la base de datos, más bien proporcionan información de las variables, separemos esa información:"
   ]
  },
  {
   "cell_type": "code",
   "execution_count": null,
   "metadata": {},
   "outputs": [],
   "source": [
    "otrainfo=df.iloc[-4:]\n",
    "df=df.iloc[:-4]"
   ]
  },
  {
   "cell_type": "code",
   "execution_count": null,
   "metadata": {},
   "outputs": [],
   "source": [
    "otrainfo=otrainfo['CASO']"
   ]
  },
  {
   "cell_type": "code",
   "execution_count": null,
   "metadata": {},
   "outputs": [],
   "source": [
    "for i in otrainfo.values:\n",
    "    print(i)"
   ]
  },
  {
   "cell_type": "code",
   "execution_count": null,
   "metadata": {},
   "outputs": [],
   "source": [
    "df.columns"
   ]
  },
  {
   "cell_type": "markdown",
   "metadata": {},
   "source": [
    "Antes de continuar arreglemos las fechas:"
   ]
  },
  {
   "cell_type": "code",
   "execution_count": null,
   "metadata": {},
   "outputs": [],
   "source": [
    "df.dtypes"
   ]
  },
  {
   "cell_type": "code",
   "execution_count": null,
   "metadata": {},
   "outputs": [],
   "source": [
    "df[\"FECHA_DIAGNOSTICO\"] = pd.to_datetime(df[\"FECHA_DIAGNOSTICO\"])\n",
    "df[\"FECHA_DE_INICIO_DE_SINTOMAS\"] = pd.to_datetime(df[\"FECHA_DE_INICIO_DE_SINTOMAS\"])\n",
    "df.dtypes"
   ]
  },
  {
   "cell_type": "markdown",
   "metadata": {},
   "source": [
    "Ahora crearemos el reporte de pandas profilling:"
   ]
  },
  {
   "cell_type": "code",
   "execution_count": null,
   "metadata": {},
   "outputs": [],
   "source": [
    "#pip install pandas-profiling"
   ]
  },
  {
   "cell_type": "code",
   "execution_count": null,
   "metadata": {},
   "outputs": [],
   "source": [
    "from pandas_profiling import ProfileReport\n",
    "prof = ProfileReport(df)\n",
    "prof.to_file(output_file='output.html')"
   ]
  },
  {
   "cell_type": "markdown",
   "metadata": {},
   "source": [
    "En la carpeta donde está alojado el cuaderno encontrará un archivo HTML que contiene su reporte. Si lo quiere ver como salida simplemente llámelo:"
   ]
  },
  {
   "cell_type": "code",
   "execution_count": null,
   "metadata": {},
   "outputs": [],
   "source": [
    "prof"
   ]
  },
  {
   "cell_type": "markdown",
   "metadata": {},
   "source": [
    "Si quiere una exploración más profunda utilice el argumento explorative:"
   ]
  },
  {
   "cell_type": "code",
   "execution_count": null,
   "metadata": {},
   "outputs": [],
   "source": [
    "prof2=ProfileReport(df,explorative=True)\n",
    "prof2"
   ]
  },
  {
   "cell_type": "markdown",
   "metadata": {},
   "source": [
    "Puede usar los widgets de jupyter:"
   ]
  },
  {
   "cell_type": "code",
   "execution_count": null,
   "metadata": {},
   "outputs": [],
   "source": [
    "prof2.to_widgets()"
   ]
  },
  {
   "cell_type": "markdown",
   "metadata": {},
   "source": [
    "## DataPrep\n",
    "\n",
    "`dataprep` es un paquete para hacer exploración de datos desarrollado por el grupo de [Investigación de la Ciencia de Datos de *Simon Fraser University*](https://data.cs.sfu.ca/index.html);  la idea es acelerar el proceso de exploración y preparación de datos para *Dta Science*. Un aspecto particular de este paquete es la velocidad en generar reportes en comparación con `pandas-priofilling`.\n",
    "\n",
    "<a href=\"https://sfu-db.github.io/dataprep/index.html\"><img src=\"https://raw.githubusercontent.com/sfu-db/dataprep/develop/assets/logo_cropped.jpg\" style=\"width:150px;align:center\"></a>"
   ]
  },
  {
   "cell_type": "markdown",
   "metadata": {},
   "source": [
    "Usaremos nuevamente a base de datos acerca del COVID-19 en Bogotá."
   ]
  },
  {
   "cell_type": "markdown",
   "metadata": {},
   "source": [
    "### Función plot() análisis de distribuciones\n",
    "\n",
    "La función `plot` explora las distribuciones de las variables, además calcula algunos estadísticos. Podrá apreciar una variedad de gráficos enfocados a una mejor comprensión de los datos. Antes arreglaremos las variables:"
   ]
  },
  {
   "cell_type": "code",
   "execution_count": null,
   "metadata": {},
   "outputs": [],
   "source": [
    "#pip install dataprep"
   ]
  },
  {
   "cell_type": "code",
   "execution_count": null,
   "metadata": {},
   "outputs": [],
   "source": [
    "from dataprep.eda import plot\n",
    "plot(df)"
   ]
  },
  {
   "cell_type": "markdown",
   "metadata": {},
   "source": [
    "Con la función plot también puedo hacer una exploración en cada variable:"
   ]
  },
  {
   "cell_type": "code",
   "execution_count": null,
   "metadata": {},
   "outputs": [],
   "source": [
    "plot(df,\"EDAD\")"
   ]
  },
  {
   "cell_type": "markdown",
   "metadata": {},
   "source": [
    "Funciona diferente en una variable categórica:"
   ]
  },
  {
   "cell_type": "code",
   "execution_count": null,
   "metadata": {},
   "outputs": [],
   "source": [
    "plot(df,'LOCALIDAD_ASIS')"
   ]
  },
  {
   "cell_type": "markdown",
   "metadata": {},
   "source": [
    "También es útil para comparar variables:"
   ]
  },
  {
   "cell_type": "code",
   "execution_count": null,
   "metadata": {},
   "outputs": [],
   "source": [
    "plot(df,'EDAD','LOCALIDAD_ASIS')"
   ]
  },
  {
   "cell_type": "code",
   "execution_count": null,
   "metadata": {},
   "outputs": [],
   "source": [
    "plot(df,'FUENTE_O_TIPO_DE_CONTAGIO','LOCALIDAD_ASIS')"
   ]
  },
  {
   "cell_type": "code",
   "execution_count": null,
   "metadata": {},
   "outputs": [],
   "source": [
    "plot(df,'ESTADO','FECHA_DIAGNOSTICO')"
   ]
  },
  {
   "cell_type": "markdown",
   "metadata": {},
   "source": [
    "Falta comparar dos variables numéricas, usaremos la base [adult_dataset](http://archive.ics.uci.edu/ml/datasets/Adult)"
   ]
  },
  {
   "cell_type": "code",
   "execution_count": null,
   "metadata": {},
   "outputs": [],
   "source": [
    "adult_dataset = pd.read_csv(\"https://www.openml.org/data/get_csv/1595261/phpMawTba\", na_values = [' ?'])"
   ]
  },
  {
   "cell_type": "code",
   "execution_count": null,
   "metadata": {},
   "outputs": [],
   "source": [
    "plot(adult_dataset, \"age\", \"hours-per-week\")"
   ]
  },
  {
   "cell_type": "markdown",
   "metadata": {},
   "source": [
    "### plot correlation\n",
    "\n",
    "La función `plot_correlation()` explora la correlación entre variables de múltiples formas, usa diferentes métricas de correlación. "
   ]
  },
  {
   "cell_type": "code",
   "execution_count": null,
   "metadata": {},
   "outputs": [],
   "source": [
    "wine = pd.read_csv(\"https://www.openml.org/data/get_csv/4965268/wine-quality-red.arff\")\n",
    "from dataprep.eda import plot_correlation\n",
    "plot_correlation(wine)"
   ]
  },
  {
   "cell_type": "markdown",
   "metadata": {},
   "source": [
    "Si ponemos una sola variable la compara todas la demás:"
   ]
  },
  {
   "cell_type": "code",
   "execution_count": null,
   "metadata": {},
   "outputs": [],
   "source": [
    "plot_correlation(wine, \"alcohol\")"
   ]
  },
  {
   "cell_type": "markdown",
   "metadata": {},
   "source": [
    "Si ponemos dos numéricas hace el diagrama de dispersión:"
   ]
  },
  {
   "cell_type": "code",
   "execution_count": null,
   "metadata": {},
   "outputs": [],
   "source": [
    "plot_correlation(wine, \"alcohol\",\"density\")"
   ]
  },
  {
   "cell_type": "markdown",
   "metadata": {},
   "source": [
    "### create_report\n",
    "\n",
    "Finalmente un reporte completo:"
   ]
  },
  {
   "cell_type": "code",
   "execution_count": null,
   "metadata": {},
   "outputs": [],
   "source": [
    "from dataprep.eda import create_report\n",
    "reportdf = create_report(df, title='COVID BOGOTÁ')\n",
    "reportadult = create_report(adult_dataset, title='Adult dataset')\n",
    "reportwine = create_report(wine, title='Vino')\n"
   ]
  },
  {
   "cell_type": "code",
   "execution_count": null,
   "metadata": {},
   "outputs": [],
   "source": [
    "reportdf"
   ]
  },
  {
   "cell_type": "code",
   "execution_count": null,
   "metadata": {},
   "outputs": [],
   "source": [
    "reportadult"
   ]
  },
  {
   "cell_type": "code",
   "execution_count": null,
   "metadata": {},
   "outputs": [],
   "source": [
    "reportwine"
   ]
  },
  {
   "cell_type": "code",
   "execution_count": null,
   "metadata": {},
   "outputs": [],
   "source": []
  }
 ],
 "metadata": {
  "kernelspec": {
   "display_name": "Python 3",
   "language": "python",
   "name": "python3"
  },
  "language_info": {
   "codemirror_mode": {
    "name": "ipython",
    "version": 3
   },
   "file_extension": ".py",
   "mimetype": "text/x-python",
   "name": "python",
   "nbconvert_exporter": "python",
   "pygments_lexer": "ipython3",
   "version": "3.8.5"
  }
 },
 "nbformat": 4,
 "nbformat_minor": 4
}
