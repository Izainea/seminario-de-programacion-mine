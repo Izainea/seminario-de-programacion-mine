{
 "cells": [
  {
   "cell_type": "markdown",
   "metadata": {
    "application/vnd.databricks.v1+cell": {
     "cellMetadata": {},
     "inputWidgets": {},
     "nuid": "0af7eec4-aa18-4db7-829f-648d81d20c47",
     "showTitle": false,
     "title": ""
    }
   },
   "source": [
    "# Análisis exploratorio de datos Rápido\n",
    "\n",
    "Veremos a continuación dos paquetes que permiten hacer un análisis exploratorio de datos bastante rápido usando diferentes recursos interactivos. Se trata de pandas-profiling y dataprep, ambos han sido altamente elogiados por su capacidad para perfilar conjuntos de datos. En particular, veremos en dataprep que hay una posibilidad de hacer un análisis iterativo y centrado en tareas, facilitando una exploración adecuada de los datos.\n",
    "\n"
   ]
  },
  {
   "cell_type": "markdown",
   "metadata": {
    "application/vnd.databricks.v1+cell": {
     "cellMetadata": {},
     "inputWidgets": {},
     "nuid": "996a25b7-d98a-48ae-9012-a42476dd2a87",
     "showTitle": false,
     "title": ""
    }
   },
   "source": [
    "## Pandas-Profilling\n",
    "\n",
    "<a href=\"https://pandas-profiling.github.io/pandas-profiling/docs/master/rtd/\"><img src=\"https://pandas-profiling.github.io/pandas-profiling/docs/assets/logo_header.png\" style=\"width:150px\"></a>\n",
    "\n",
    "`Pandas-profilling` es un módulo de Python que nos permite hacer rápidamente un análisis de datos exploratorio usando unas pocas líneas de código. También genera informes interactivos en formato web ahorra el trabajo de visualizar y comprender la distribución de cada variable."
   ]
  },
  {
   "cell_type": "markdown",
   "metadata": {
    "application/vnd.databricks.v1+cell": {
     "cellMetadata": {},
     "inputWidgets": {},
     "nuid": "b650daa9-546a-44c6-bba0-3047f796df3e",
     "showTitle": false,
     "title": ""
    }
   },
   "source": [
    "Haremos una breve introducción a este paquete utilizando los datos proporcionados por la alcaldía de Bogotá acerca de cornavirus COVID-19. Iniciamos cargando la base de datos:"
   ]
  },
  {
   "cell_type": "code",
   "execution_count": 0,
   "metadata": {
    "application/vnd.databricks.v1+cell": {
     "cellMetadata": {},
     "inputWidgets": {},
     "nuid": "3333e308-9a4b-4e66-a1df-f2d4ec464fc3",
     "showTitle": false,
     "title": ""
    }
   },
   "outputs": [],
   "source": [
    "import pandas as pd\n",
    "url = 'https://datosabiertos.bogota.gov.co/dataset/44eacdb7-a535-45ed-be03-16dbbea6f6da/resource/b64ba3c4-9e41-41b8-b3fd-2da21d627558/download/osb_enftransm-covid-19_05022021.csv'  \n",
    "df=pd.read_csv(url,encoding='latin-1',sep=\";\",error_bad_lines=False)"
   ]
  },
  {
   "cell_type": "code",
   "execution_count": 0,
   "metadata": {
    "application/vnd.databricks.v1+cell": {
     "cellMetadata": {},
     "inputWidgets": {},
     "nuid": "5a7e0dfb-d5e3-4d7e-b037-311f6a73774f",
     "showTitle": false,
     "title": ""
    }
   },
   "outputs": [],
   "source": [
    "df"
   ]
  },
  {
   "cell_type": "markdown",
   "metadata": {
    "application/vnd.databricks.v1+cell": {
     "cellMetadata": {},
     "inputWidgets": {},
     "nuid": "2f49cdb4-50dd-4a0e-a884-1f0a4a235973",
     "showTitle": false,
     "title": ""
    }
   },
   "source": [
    "Tenga un poco de paciencia mientras se carga la base, el sistema la está decargando. Se puede notar que los últimos registros no corresponden a la base de datos, más bien proporcionan información de las variables, separemos esa información:"
   ]
  },
  {
   "cell_type": "code",
   "execution_count": 0,
   "metadata": {
    "application/vnd.databricks.v1+cell": {
     "cellMetadata": {},
     "inputWidgets": {},
     "nuid": "41f366dd-20d6-4a3d-a7fe-a9c678725722",
     "showTitle": false,
     "title": ""
    }
   },
   "outputs": [],
   "source": [
    "otrainfo=df.iloc[-4:]\n",
    "df=df.iloc[:-4]"
   ]
  },
  {
   "cell_type": "code",
   "execution_count": 0,
   "metadata": {
    "application/vnd.databricks.v1+cell": {
     "cellMetadata": {},
     "inputWidgets": {},
     "nuid": "99e32fc6-0018-4b1c-94ee-aae510cc1aa9",
     "showTitle": false,
     "title": ""
    }
   },
   "outputs": [],
   "source": [
    "otrainfo=otrainfo['CASO']"
   ]
  },
  {
   "cell_type": "code",
   "execution_count": 0,
   "metadata": {
    "application/vnd.databricks.v1+cell": {
     "cellMetadata": {},
     "inputWidgets": {},
     "nuid": "e7a87c3f-bb3e-45e8-884c-3f0d13e3f199",
     "showTitle": false,
     "title": ""
    }
   },
   "outputs": [],
   "source": [
    "for i in otrainfo.values:\n",
    "    print(i)"
   ]
  },
  {
   "cell_type": "code",
   "execution_count": 0,
   "metadata": {
    "application/vnd.databricks.v1+cell": {
     "cellMetadata": {},
     "inputWidgets": {},
     "nuid": "99acb6ea-f032-4a76-9de5-1bf53cdaf8ae",
     "showTitle": false,
     "title": ""
    }
   },
   "outputs": [],
   "source": [
    "df.columns"
   ]
  },
  {
   "cell_type": "markdown",
   "metadata": {
    "application/vnd.databricks.v1+cell": {
     "cellMetadata": {},
     "inputWidgets": {},
     "nuid": "6c0937ac-3952-4112-93f2-5e62ef0d9abc",
     "showTitle": false,
     "title": ""
    }
   },
   "source": [
    "Antes de continuar arreglemos las fechas:"
   ]
  },
  {
   "cell_type": "code",
   "execution_count": 0,
   "metadata": {
    "application/vnd.databricks.v1+cell": {
     "cellMetadata": {},
     "inputWidgets": {},
     "nuid": "b9c5cab3-f7d5-45f8-8c78-4abdf27cbc45",
     "showTitle": false,
     "title": ""
    }
   },
   "outputs": [],
   "source": [
    "df.dtypes"
   ]
  },
  {
   "cell_type": "code",
   "execution_count": 0,
   "metadata": {
    "application/vnd.databricks.v1+cell": {
     "cellMetadata": {},
     "inputWidgets": {},
     "nuid": "d9de115a-9203-40cc-867f-3730065b08ad",
     "showTitle": false,
     "title": ""
    }
   },
   "outputs": [],
   "source": [
    "df[\"FECHA_DIAGNOSTICO\"] = pd.to_datetime(df[\"FECHA_DIAGNOSTICO\"])\n",
    "df[\"FECHA_DE_INICIO_DE_SINTOMAS\"] = pd.to_datetime(df[\"FECHA_DE_INICIO_DE_SINTOMAS\"])\n",
    "df.dtypes"
   ]
  },
  {
   "cell_type": "markdown",
   "metadata": {
    "application/vnd.databricks.v1+cell": {
     "cellMetadata": {},
     "inputWidgets": {},
     "nuid": "fe511be7-6f65-4077-a63f-72980808c6ba",
     "showTitle": false,
     "title": ""
    }
   },
   "source": [
    "Ahora crearemos el reporte de pandas profilling:"
   ]
  },
  {
   "cell_type": "code",
   "execution_count": 0,
   "metadata": {
    "application/vnd.databricks.v1+cell": {
     "cellMetadata": {},
     "inputWidgets": {},
     "nuid": "c395ca99-ba4a-463f-b9aa-0f41b8051ba7",
     "showTitle": false,
     "title": ""
    }
   },
   "outputs": [],
   "source": [
    "#pip install pandas-profiling"
   ]
  },
  {
   "cell_type": "code",
   "execution_count": 0,
   "metadata": {
    "application/vnd.databricks.v1+cell": {
     "cellMetadata": {},
     "inputWidgets": {},
     "nuid": "2cf9f938-0edd-4cae-b235-758bb1034ac1",
     "showTitle": false,
     "title": ""
    }
   },
   "outputs": [],
   "source": [
    "from pandas_profiling import ProfileReport\n",
    "prof = ProfileReport(df)\n",
    "prof.to_file(output_file='output.html')"
   ]
  },
  {
   "cell_type": "markdown",
   "metadata": {
    "application/vnd.databricks.v1+cell": {
     "cellMetadata": {},
     "inputWidgets": {},
     "nuid": "68714459-c2b8-4cff-ad7b-5c9fdd50ccac",
     "showTitle": false,
     "title": ""
    }
   },
   "source": [
    "En la carpeta donde está alojado el cuaderno encontrará un archivo HTML que contiene su reporte. Si lo quiere ver como salida simplemente llámelo:"
   ]
  },
  {
   "cell_type": "code",
   "execution_count": 0,
   "metadata": {
    "application/vnd.databricks.v1+cell": {
     "cellMetadata": {},
     "inputWidgets": {},
     "nuid": "c82bb794-eb0d-4e03-a4f3-83696c286f54",
     "showTitle": false,
     "title": ""
    }
   },
   "outputs": [],
   "source": [
    "prof"
   ]
  },
  {
   "cell_type": "markdown",
   "metadata": {
    "application/vnd.databricks.v1+cell": {
     "cellMetadata": {},
     "inputWidgets": {},
     "nuid": "6523886b-f7f8-4734-a740-09b4f54416f9",
     "showTitle": false,
     "title": ""
    }
   },
   "source": [
    "Si quiere una exploración más profunda utilice el argumento explorative:"
   ]
  },
  {
   "cell_type": "code",
   "execution_count": 0,
   "metadata": {
    "application/vnd.databricks.v1+cell": {
     "cellMetadata": {},
     "inputWidgets": {},
     "nuid": "e5ed627d-c896-4048-ae49-60c9fcd872db",
     "showTitle": false,
     "title": ""
    }
   },
   "outputs": [],
   "source": [
    "prof2=ProfileReport(df,explorative=True)\n",
    "prof2"
   ]
  },
  {
   "cell_type": "markdown",
   "metadata": {
    "application/vnd.databricks.v1+cell": {
     "cellMetadata": {},
     "inputWidgets": {},
     "nuid": "e471a487-b0da-4440-9455-bc5f8fbdbc5d",
     "showTitle": false,
     "title": ""
    }
   },
   "source": [
    "Puede usar los widgets de jupyter:"
   ]
  },
  {
   "cell_type": "code",
   "execution_count": 0,
   "metadata": {
    "application/vnd.databricks.v1+cell": {
     "cellMetadata": {},
     "inputWidgets": {},
     "nuid": "ea19a4c4-06e9-44bf-b73f-21f7f2087094",
     "showTitle": false,
     "title": ""
    }
   },
   "outputs": [],
   "source": [
    "prof2.to_widgets()"
   ]
  },
  {
   "cell_type": "markdown",
   "metadata": {
    "application/vnd.databricks.v1+cell": {
     "cellMetadata": {},
     "inputWidgets": {},
     "nuid": "1573bfa9-905e-4c6c-85d2-bc7dc55c7b96",
     "showTitle": false,
     "title": ""
    }
   },
   "source": [
    "## DataPrep\n",
    "\n",
    "`dataprep` es un paquete para hacer exploración de datos desarrollado por el grupo de [Investigación de la Ciencia de Datos de *Simon Fraser University*](https://data.cs.sfu.ca/index.html);  la idea es acelerar el proceso de exploración y preparación de datos para *Dta Science*. Un aspecto particular de este paquete es la velocidad en generar reportes en comparación con `pandas-priofilling`.\n",
    "\n",
    "<a href=\"https://sfu-db.github.io/dataprep/index.html\"><img src=\"https://raw.githubusercontent.com/sfu-db/dataprep/develop/assets/logo_cropped.jpg\" style=\"width:150px;align:center\"></a>"
   ]
  },
  {
   "cell_type": "markdown",
   "metadata": {
    "application/vnd.databricks.v1+cell": {
     "cellMetadata": {},
     "inputWidgets": {},
     "nuid": "5835aedd-22c9-4b50-97d5-ddef3bd8a18c",
     "showTitle": false,
     "title": ""
    }
   },
   "source": [
    "Usaremos nuevamente a base de datos acerca del COVID-19 en Bogotá."
   ]
  },
  {
   "cell_type": "markdown",
   "metadata": {
    "application/vnd.databricks.v1+cell": {
     "cellMetadata": {},
     "inputWidgets": {},
     "nuid": "dced62d3-5d66-4656-a81d-72a8f987a891",
     "showTitle": false,
     "title": ""
    }
   },
   "source": [
    "### Función plot() análisis de distribuciones\n",
    "\n",
    "La función `plot` explora las distribuciones de las variables, además calcula algunos estadísticos. Podrá apreciar una variedad de gráficos enfocados a una mejor comprensión de los datos. Antes arreglaremos las variables:"
   ]
  },
  {
   "cell_type": "code",
   "execution_count": 0,
   "metadata": {
    "application/vnd.databricks.v1+cell": {
     "cellMetadata": {},
     "inputWidgets": {},
     "nuid": "34705eac-1063-4272-851c-7fe980d6acb5",
     "showTitle": false,
     "title": ""
    }
   },
   "outputs": [],
   "source": [
    "#pip install dataprep"
   ]
  },
  {
   "cell_type": "code",
   "execution_count": 0,
   "metadata": {
    "application/vnd.databricks.v1+cell": {
     "cellMetadata": {},
     "inputWidgets": {},
     "nuid": "4adaeaf9-9f72-4586-bb6e-258101c2616c",
     "showTitle": false,
     "title": ""
    }
   },
   "outputs": [],
   "source": [
    "from dataprep.eda import plot\n",
    "plot(df)"
   ]
  },
  {
   "cell_type": "markdown",
   "metadata": {
    "application/vnd.databricks.v1+cell": {
     "cellMetadata": {},
     "inputWidgets": {},
     "nuid": "2585c158-fe23-4e2d-b4c4-b190c7641238",
     "showTitle": false,
     "title": ""
    }
   },
   "source": [
    "Con la función plot también puedo hacer una exploración en cada variable:"
   ]
  },
  {
   "cell_type": "code",
   "execution_count": 0,
   "metadata": {
    "application/vnd.databricks.v1+cell": {
     "cellMetadata": {},
     "inputWidgets": {},
     "nuid": "b5e8e634-ffbd-4670-a24a-e9fb919cd005",
     "showTitle": false,
     "title": ""
    }
   },
   "outputs": [],
   "source": [
    "plot(df,\"EDAD\")"
   ]
  },
  {
   "cell_type": "markdown",
   "metadata": {
    "application/vnd.databricks.v1+cell": {
     "cellMetadata": {},
     "inputWidgets": {},
     "nuid": "fee0d05e-433c-431a-b3f7-7a50fa76dbca",
     "showTitle": false,
     "title": ""
    }
   },
   "source": [
    "Funciona diferente en una variable categórica:"
   ]
  },
  {
   "cell_type": "code",
   "execution_count": 0,
   "metadata": {
    "application/vnd.databricks.v1+cell": {
     "cellMetadata": {},
     "inputWidgets": {},
     "nuid": "3e8dd711-5e44-4dce-be96-986a39b93d21",
     "showTitle": false,
     "title": ""
    }
   },
   "outputs": [],
   "source": [
    "plot(df,'LOCALIDAD_ASIS')"
   ]
  },
  {
   "cell_type": "markdown",
   "metadata": {
    "application/vnd.databricks.v1+cell": {
     "cellMetadata": {},
     "inputWidgets": {},
     "nuid": "ae490634-f820-4aed-9c26-af8e12c1db7c",
     "showTitle": false,
     "title": ""
    }
   },
   "source": [
    "También es útil para comparar variables:"
   ]
  },
  {
   "cell_type": "code",
   "execution_count": 0,
   "metadata": {
    "application/vnd.databricks.v1+cell": {
     "cellMetadata": {},
     "inputWidgets": {},
     "nuid": "9e161558-b15e-4bf9-a559-6c9104ec1271",
     "showTitle": false,
     "title": ""
    }
   },
   "outputs": [],
   "source": [
    "plot(df,'EDAD','LOCALIDAD_ASIS')"
   ]
  },
  {
   "cell_type": "code",
   "execution_count": 0,
   "metadata": {
    "application/vnd.databricks.v1+cell": {
     "cellMetadata": {},
     "inputWidgets": {},
     "nuid": "f30bf8b4-523f-4159-b557-38ea22c485bf",
     "showTitle": false,
     "title": ""
    }
   },
   "outputs": [],
   "source": [
    "plot(df,'FUENTE_O_TIPO_DE_CONTAGIO','LOCALIDAD_ASIS')"
   ]
  },
  {
   "cell_type": "code",
   "execution_count": 0,
   "metadata": {
    "application/vnd.databricks.v1+cell": {
     "cellMetadata": {},
     "inputWidgets": {},
     "nuid": "fc9999e6-33c8-4896-b6c4-0bb7af4614c5",
     "showTitle": false,
     "title": ""
    }
   },
   "outputs": [],
   "source": [
    "plot(df,'ESTADO','FECHA_DIAGNOSTICO')"
   ]
  },
  {
   "cell_type": "markdown",
   "metadata": {
    "application/vnd.databricks.v1+cell": {
     "cellMetadata": {},
     "inputWidgets": {},
     "nuid": "9337bdee-d151-4222-94c2-8dcde29a0c06",
     "showTitle": false,
     "title": ""
    }
   },
   "source": [
    "Falta comparar dos variables numéricas, usaremos la base [adult_dataset](http://archive.ics.uci.edu/ml/datasets/Adult)"
   ]
  },
  {
   "cell_type": "code",
   "execution_count": 0,
   "metadata": {
    "application/vnd.databricks.v1+cell": {
     "cellMetadata": {},
     "inputWidgets": {},
     "nuid": "053d7e05-e06a-4d17-95e8-cc93a594e6e8",
     "showTitle": false,
     "title": ""
    }
   },
   "outputs": [],
   "source": [
    "adult_dataset = pd.read_csv(\"https://www.openml.org/data/get_csv/1595261/phpMawTba\", na_values = [' ?'])"
   ]
  },
  {
   "cell_type": "code",
   "execution_count": 0,
   "metadata": {
    "application/vnd.databricks.v1+cell": {
     "cellMetadata": {},
     "inputWidgets": {},
     "nuid": "1c1c5e48-4689-4bd9-9452-0061bef76354",
     "showTitle": false,
     "title": ""
    }
   },
   "outputs": [],
   "source": [
    "plot(adult_dataset, \"age\", \"hours-per-week\")"
   ]
  },
  {
   "cell_type": "markdown",
   "metadata": {
    "application/vnd.databricks.v1+cell": {
     "cellMetadata": {},
     "inputWidgets": {},
     "nuid": "f109819d-5bbc-47f4-ad50-8ef3069e6aba",
     "showTitle": false,
     "title": ""
    }
   },
   "source": [
    "### plot correlation\n",
    "\n",
    "La función `plot_correlation()` explora la correlación entre variables de múltiples formas, usa diferentes métricas de correlación. "
   ]
  },
  {
   "cell_type": "code",
   "execution_count": 0,
   "metadata": {
    "application/vnd.databricks.v1+cell": {
     "cellMetadata": {},
     "inputWidgets": {},
     "nuid": "8ea9bf76-dbcb-4f75-a663-c20e250da14f",
     "showTitle": false,
     "title": ""
    }
   },
   "outputs": [],
   "source": [
    "wine = pd.read_csv(\"https://www.openml.org/data/get_csv/4965268/wine-quality-red.arff\")\n",
    "from dataprep.eda import plot_correlation\n",
    "plot_correlation(wine)"
   ]
  },
  {
   "cell_type": "markdown",
   "metadata": {
    "application/vnd.databricks.v1+cell": {
     "cellMetadata": {},
     "inputWidgets": {},
     "nuid": "2dbef6c3-c592-417c-b847-52b1c1ea74f7",
     "showTitle": false,
     "title": ""
    }
   },
   "source": [
    "Si ponemos una sola variable la compara todas la demás:"
   ]
  },
  {
   "cell_type": "code",
   "execution_count": 0,
   "metadata": {
    "application/vnd.databricks.v1+cell": {
     "cellMetadata": {},
     "inputWidgets": {},
     "nuid": "6580c192-b0ec-43fe-8c94-ba12a1741251",
     "showTitle": false,
     "title": ""
    }
   },
   "outputs": [],
   "source": [
    "plot_correlation(wine, \"alcohol\")"
   ]
  },
  {
   "cell_type": "markdown",
   "metadata": {
    "application/vnd.databricks.v1+cell": {
     "cellMetadata": {},
     "inputWidgets": {},
     "nuid": "6043a294-e06c-4336-9472-72a99e21d0f8",
     "showTitle": false,
     "title": ""
    }
   },
   "source": [
    "Si ponemos dos numéricas hace el diagrama de dispersión:"
   ]
  },
  {
   "cell_type": "code",
   "execution_count": 0,
   "metadata": {
    "application/vnd.databricks.v1+cell": {
     "cellMetadata": {},
     "inputWidgets": {},
     "nuid": "0acfe06a-5d09-42a1-b885-8a54b5373c83",
     "showTitle": false,
     "title": ""
    }
   },
   "outputs": [],
   "source": [
    "plot_correlation(wine, \"alcohol\",\"density\")"
   ]
  },
  {
   "cell_type": "markdown",
   "metadata": {
    "application/vnd.databricks.v1+cell": {
     "cellMetadata": {},
     "inputWidgets": {},
     "nuid": "30b29950-cde6-460a-a3e4-7922d7199926",
     "showTitle": false,
     "title": ""
    }
   },
   "source": [
    "### create_report\n",
    "\n",
    "Finalmente un reporte completo:"
   ]
  },
  {
   "cell_type": "code",
   "execution_count": 0,
   "metadata": {
    "application/vnd.databricks.v1+cell": {
     "cellMetadata": {},
     "inputWidgets": {},
     "nuid": "e708b4e9-e8bc-49af-ab09-d07334cd8383",
     "showTitle": false,
     "title": ""
    }
   },
   "outputs": [],
   "source": [
    "from dataprep.eda import create_report\n",
    "reportdf = create_report(df, title='COVID BOGOTÁ')\n",
    "reportadult = create_report(adult_dataset, title='Adult dataset')\n",
    "reportwine = create_report(wine, title='Vino')\n"
   ]
  },
  {
   "cell_type": "code",
   "execution_count": 0,
   "metadata": {
    "application/vnd.databricks.v1+cell": {
     "cellMetadata": {},
     "inputWidgets": {},
     "nuid": "c041631b-9f6f-4d54-9c71-65f905fcd821",
     "showTitle": false,
     "title": ""
    }
   },
   "outputs": [],
   "source": [
    "reportdf"
   ]
  },
  {
   "cell_type": "code",
   "execution_count": 0,
   "metadata": {
    "application/vnd.databricks.v1+cell": {
     "cellMetadata": {},
     "inputWidgets": {},
     "nuid": "af23ea6e-964b-4fbb-92f9-15654a75e0e0",
     "showTitle": false,
     "title": ""
    }
   },
   "outputs": [],
   "source": [
    "reportadult"
   ]
  },
  {
   "cell_type": "code",
   "execution_count": 0,
   "metadata": {
    "application/vnd.databricks.v1+cell": {
     "cellMetadata": {},
     "inputWidgets": {},
     "nuid": "70274346-37a2-40db-9066-d7824ff89d16",
     "showTitle": false,
     "title": ""
    }
   },
   "outputs": [],
   "source": [
    "reportwine"
   ]
  },
  {
   "cell_type": "code",
   "execution_count": 0,
   "metadata": {
    "application/vnd.databricks.v1+cell": {
     "cellMetadata": {},
     "inputWidgets": {},
     "nuid": "d4f2f90d-6908-4ebd-95a6-ac2ce3487c69",
     "showTitle": false,
     "title": ""
    }
   },
   "outputs": [],
   "source": []
  }
 ],
 "metadata": {
  "application/vnd.databricks.v1+notebook": {
   "dashboards": [],
   "language": "python",
   "notebookMetadata": {},
   "notebookName": "Análisis exploratorio de datos Rápido",
   "widgets": {}
  },
  "kernelspec": {
   "display_name": "Python 3",
   "language": "python",
   "name": "python3"
  },
  "language_info": {
   "codemirror_mode": {
    "name": "ipython",
    "version": 3
   },
   "file_extension": ".py",
   "mimetype": "text/x-python",
   "name": "python",
   "nbconvert_exporter": "python",
   "pygments_lexer": "ipython3",
   "version": "3.8.5"
  }
 },
 "nbformat": 4,
 "nbformat_minor": 0
}
