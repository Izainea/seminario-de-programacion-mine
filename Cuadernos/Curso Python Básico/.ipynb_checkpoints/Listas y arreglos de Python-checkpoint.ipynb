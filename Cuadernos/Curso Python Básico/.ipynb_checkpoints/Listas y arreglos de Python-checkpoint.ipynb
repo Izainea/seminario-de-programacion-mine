{
 "cells": [
  {
   "cell_type": "markdown",
   "metadata": {
    "application/vnd.databricks.v1+cell": {
     "cellMetadata": {},
     "inputWidgets": {},
     "nuid": "00c00102-95bb-445d-b44d-05a70da9a522",
     "showTitle": false,
     "title": ""
    }
   },
   "source": [
    "# Listas en Python\n",
    "\n",
    "Una lista es una estructura de datos en Python conformada como una secuencia de elementos ordenada y modificable. Cada elemento o valor que está dentro de una lista se llama elemento. Así como las cadenas se definen como caracteres entre comillas, las listas se definen teniendo sus elementos entre corchetes `[ ... ]` y separandolos con comas  `,`.\n",
    "\n",
    "\n",
    "\n"
   ]
  },
  {
   "cell_type": "markdown",
   "metadata": {
    "application/vnd.databricks.v1+cell": {
     "cellMetadata": {},
     "inputWidgets": {},
     "nuid": "5ea997a8-7b6b-41d4-9acd-d5b3051dc38e",
     "showTitle": false,
     "title": ""
    }
   },
   "source": [
    "**Ejemplo 1** *(días de la semana)* Una lista que contengan los días de la semana."
   ]
  },
  {
   "cell_type": "code",
   "execution_count": 0,
   "metadata": {
    "application/vnd.databricks.v1+cell": {
     "cellMetadata": {},
     "inputWidgets": {},
     "nuid": "f7eca297-4b08-4959-8437-bcc3fa21d8b1",
     "showTitle": false,
     "title": ""
    }
   },
   "outputs": [],
   "source": [
    "Dias=[\"Lunes\",\"Martes\",\"Miércoles\",\"Jueves\",\"Viernes\",\"Sábado\",\"Domingo\"]"
   ]
  },
  {
   "cell_type": "markdown",
   "metadata": {
    "application/vnd.databricks.v1+cell": {
     "cellMetadata": {},
     "inputWidgets": {},
     "nuid": "4f8969e8-7d09-4953-ad60-8190d250b26f",
     "showTitle": false,
     "title": ""
    }
   },
   "source": [
    "**Ejemplo 2** *(frutas y verduras)* Haga una lista de frutas y verduras:"
   ]
  },
  {
   "cell_type": "code",
   "execution_count": 0,
   "metadata": {
    "application/vnd.databricks.v1+cell": {
     "cellMetadata": {},
     "inputWidgets": {},
     "nuid": "ad82c31c-b538-47cb-b4c9-1ab87364496b",
     "showTitle": false,
     "title": ""
    }
   },
   "outputs": [],
   "source": [
    "FV=[\"Fresas\",\"Papaya\",\"Limón\",\"Brocoli\",\"Acelgas\",\"Espinacas\"]"
   ]
  },
  {
   "cell_type": "code",
   "execution_count": 0,
   "metadata": {
    "application/vnd.databricks.v1+cell": {
     "cellMetadata": {},
     "inputWidgets": {},
     "nuid": "94c7423e-4974-4ddb-a7c1-dc200edfc78a",
     "showTitle": false,
     "title": ""
    }
   },
   "outputs": [],
   "source": [
    "FV"
   ]
  },
  {
   "cell_type": "code",
   "execution_count": 0,
   "metadata": {
    "application/vnd.databricks.v1+cell": {
     "cellMetadata": {},
     "inputWidgets": {},
     "nuid": "218d519c-e53d-44b6-920c-b2f44fecca20",
     "showTitle": false,
     "title": ""
    }
   },
   "outputs": [],
   "source": [
    "print(Dias)"
   ]
  },
  {
   "cell_type": "markdown",
   "metadata": {
    "application/vnd.databricks.v1+cell": {
     "cellMetadata": {},
     "inputWidgets": {},
     "nuid": "535e29c9-9883-4804-b5e6-f6d7c8dbf9aa",
     "showTitle": false,
     "title": ""
    }
   },
   "source": [
    "## Explorar listas\n",
    "\n",
    "Usamos paréntesis cuadrados para indicar el índice del elemento de la lista que queremos llamar, el conteo siempre inicia en 0. Por ejemplo, el primer, el tercer y el cuarto elemento de la lista `FV` se designan:"
   ]
  },
  {
   "cell_type": "code",
   "execution_count": 0,
   "metadata": {
    "application/vnd.databricks.v1+cell": {
     "cellMetadata": {},
     "inputWidgets": {},
     "nuid": "0c54e10d-c16b-4459-8f44-c6652a90f944",
     "showTitle": false,
     "title": ""
    }
   },
   "outputs": [],
   "source": [
    "print(\"Primer elemento: \",FV[0])\n",
    "print(\"Tercer elemento: \",FV[2])\n",
    "print(\"Cuarto elemento: \",FV[3])"
   ]
  },
  {
   "cell_type": "code",
   "execution_count": 0,
   "metadata": {
    "application/vnd.databricks.v1+cell": {
     "cellMetadata": {},
     "inputWidgets": {},
     "nuid": "b1d04b11-e2aa-4821-9722-180e23a261c6",
     "showTitle": false,
     "title": ""
    }
   },
   "outputs": [],
   "source": [
    "FV[5]"
   ]
  },
  {
   "cell_type": "markdown",
   "metadata": {
    "application/vnd.databricks.v1+cell": {
     "cellMetadata": {},
     "inputWidgets": {},
     "nuid": "f09088a0-96bf-4428-876b-5487e3b183d1",
     "showTitle": false,
     "title": ""
    }
   },
   "source": [
    "**Índices Negativos**\n",
    "\n",
    "Los índices negativos permiten explorar la lista desde el último elemento, así `Lista[-1]` es el último elemento de la lista, `Lista[-2]` es el penúltimo y así sucesivamente."
   ]
  },
  {
   "cell_type": "code",
   "execution_count": 0,
   "metadata": {
    "application/vnd.databricks.v1+cell": {
     "cellMetadata": {},
     "inputWidgets": {},
     "nuid": "8c102e46-2625-4a1a-b56c-d6c616c086dd",
     "showTitle": false,
     "title": ""
    }
   },
   "outputs": [],
   "source": [
    "Dias[-1]"
   ]
  },
  {
   "cell_type": "code",
   "execution_count": 0,
   "metadata": {
    "application/vnd.databricks.v1+cell": {
     "cellMetadata": {},
     "inputWidgets": {},
     "nuid": "a454df5a-170a-4b3a-a4e4-fb24fdb80c15",
     "showTitle": false,
     "title": ""
    }
   },
   "outputs": [],
   "source": [
    "Dias[-2]"
   ]
  },
  {
   "cell_type": "code",
   "execution_count": 0,
   "metadata": {
    "application/vnd.databricks.v1+cell": {
     "cellMetadata": {},
     "inputWidgets": {},
     "nuid": "dd1120e0-966c-440b-b833-f7cadf610cc4",
     "showTitle": false,
     "title": ""
    }
   },
   "outputs": [],
   "source": [
    "Dias[-3]"
   ]
  },
  {
   "cell_type": "markdown",
   "metadata": {
    "application/vnd.databricks.v1+cell": {
     "cellMetadata": {},
     "inputWidgets": {},
     "nuid": "793d782a-b392-4815-bbc0-edbf83dfe65e",
     "showTitle": false,
     "title": ""
    }
   },
   "source": [
    "**Rango de índices** \n",
    "\n",
    "También podemos extraer de la lista una sublista con un rango específico de indices, escribimos `Lista[i:j]`donde i representa el índice inicial del rango y j el índice final más 1. Por ejemplo, si quiero extraer de la lista `Dias` los tres días de la semana después del martes, inicio con el índice de martes (1) y termino con el índice de viernes (4):"
   ]
  },
  {
   "cell_type": "code",
   "execution_count": 0,
   "metadata": {
    "application/vnd.databricks.v1+cell": {
     "cellMetadata": {},
     "inputWidgets": {},
     "nuid": "3080bc84-bde8-4de4-8c36-529dd230cb45",
     "showTitle": false,
     "title": ""
    }
   },
   "outputs": [],
   "source": [
    "Dias"
   ]
  },
  {
   "cell_type": "code",
   "execution_count": 0,
   "metadata": {
    "application/vnd.databricks.v1+cell": {
     "cellMetadata": {},
     "inputWidgets": {},
     "nuid": "f647c78a-2caa-493d-90af-9ff1580024c6",
     "showTitle": false,
     "title": ""
    }
   },
   "outputs": [],
   "source": [
    "Dias[1:4]"
   ]
  },
  {
   "cell_type": "markdown",
   "metadata": {
    "application/vnd.databricks.v1+cell": {
     "cellMetadata": {},
     "inputWidgets": {},
     "nuid": "43883674-dd89-45e8-8a4e-8055eb347226",
     "showTitle": false,
     "title": ""
    }
   },
   "source": [
    "Si quiero extraer una lista que inicia con un índice i y termina en el final escribo `Lista[i:]`, por ejemplo: "
   ]
  },
  {
   "cell_type": "code",
   "execution_count": 0,
   "metadata": {
    "application/vnd.databricks.v1+cell": {
     "cellMetadata": {},
     "inputWidgets": {},
     "nuid": "8221c263-4243-443c-a159-dec9083250c4",
     "showTitle": false,
     "title": ""
    }
   },
   "outputs": [],
   "source": [
    "Dias[3:]"
   ]
  },
  {
   "cell_type": "code",
   "execution_count": 0,
   "metadata": {
    "application/vnd.databricks.v1+cell": {
     "cellMetadata": {},
     "inputWidgets": {},
     "nuid": "3bfdf2cc-ce5e-4fbb-81c6-90afeb175a95",
     "showTitle": false,
     "title": ""
    }
   },
   "outputs": [],
   "source": [
    "Dias[-3:]"
   ]
  },
  {
   "cell_type": "markdown",
   "metadata": {
    "application/vnd.databricks.v1+cell": {
     "cellMetadata": {},
     "inputWidgets": {},
     "nuid": "dee625b0-0ee7-4124-a8d9-c01534541f0b",
     "showTitle": false,
     "title": ""
    }
   },
   "source": [
    "Si por el contrario busco extraer una lista que inicia desde el principio de la lista y termina con el elemento j escribimos `Lista[:j]`"
   ]
  },
  {
   "cell_type": "code",
   "execution_count": 0,
   "metadata": {
    "application/vnd.databricks.v1+cell": {
     "cellMetadata": {},
     "inputWidgets": {},
     "nuid": "62cd6b35-4f0b-4f44-b393-97f3676e889c",
     "showTitle": false,
     "title": ""
    }
   },
   "outputs": [],
   "source": [
    "Dias[:4]"
   ]
  },
  {
   "cell_type": "markdown",
   "metadata": {
    "application/vnd.databricks.v1+cell": {
     "cellMetadata": {},
     "inputWidgets": {},
     "nuid": "8c4eb7d6-248f-47b2-8d3e-9fc0bbf47bf6",
     "showTitle": false,
     "title": ""
    }
   },
   "source": [
    "## Cambio de valores\n",
    "\n",
    "Podemos cambiar los elementos de una lista haciendo una reasignación, de la lista frutas y verduras `FV` cambiaremos el Brocoli por la Calabaza:"
   ]
  },
  {
   "cell_type": "code",
   "execution_count": 0,
   "metadata": {
    "application/vnd.databricks.v1+cell": {
     "cellMetadata": {},
     "inputWidgets": {},
     "nuid": "4a302d2c-711e-495b-90d2-e87c018f4b91",
     "showTitle": false,
     "title": ""
    }
   },
   "outputs": [],
   "source": [
    "FV"
   ]
  },
  {
   "cell_type": "code",
   "execution_count": 0,
   "metadata": {
    "application/vnd.databricks.v1+cell": {
     "cellMetadata": {},
     "inputWidgets": {},
     "nuid": "af35ebfd-6bd6-499d-99a1-404176b08ad4",
     "showTitle": false,
     "title": ""
    }
   },
   "outputs": [],
   "source": [
    "FV #Veamos la lista para identificar donde está el Brocoli"
   ]
  },
  {
   "cell_type": "code",
   "execution_count": 0,
   "metadata": {
    "application/vnd.databricks.v1+cell": {
     "cellMetadata": {},
     "inputWidgets": {},
     "nuid": "dcb9d9c6-a164-439c-962c-fd1c6142fbf1",
     "showTitle": false,
     "title": ""
    }
   },
   "outputs": [],
   "source": [
    "FV[3]='Calabaza'"
   ]
  },
  {
   "cell_type": "code",
   "execution_count": 0,
   "metadata": {
    "application/vnd.databricks.v1+cell": {
     "cellMetadata": {},
     "inputWidgets": {},
     "nuid": "97dcb28b-67af-4747-b9cb-6c83e4316585",
     "showTitle": false,
     "title": ""
    }
   },
   "outputs": [],
   "source": [
    "FV"
   ]
  },
  {
   "cell_type": "markdown",
   "metadata": {
    "application/vnd.databricks.v1+cell": {
     "cellMetadata": {},
     "inputWidgets": {},
     "nuid": "ec58fa19-b5ac-4b59-9d67-23084d890ea2",
     "showTitle": false,
     "title": ""
    }
   },
   "source": [
    "## Operaciones elementales de las listas\n",
    "\n",
    "Entre listas y para cada una de ellas tenemos diversas operaciones. \n",
    "\n",
    "**Suma (Concatenación)**\n",
    "\n",
    "Dada la lista $L=[L_1,L_2,L_3,\\cdots,L_n]$ y la lista $M=[M_1,M_2,\\cdots, M_k]$ tenemos que:\n",
    "\n",
    "$$L+M=[L_1,L_2,L_3,\\cdots,L_n,M_1,M_2,\\cdots, M_k]$$\n",
    "\n",
    "Por ejemplo:"
   ]
  },
  {
   "cell_type": "code",
   "execution_count": 0,
   "metadata": {
    "application/vnd.databricks.v1+cell": {
     "cellMetadata": {},
     "inputWidgets": {},
     "nuid": "95f1d928-75ad-4095-a2a8-eff87771a9c0",
     "showTitle": false,
     "title": ""
    }
   },
   "outputs": [],
   "source": [
    "Listas_Concatenadas=Dias+FV"
   ]
  },
  {
   "cell_type": "code",
   "execution_count": 0,
   "metadata": {
    "application/vnd.databricks.v1+cell": {
     "cellMetadata": {},
     "inputWidgets": {},
     "nuid": "29c4aac8-3372-4071-88ff-b2f00f991df5",
     "showTitle": false,
     "title": ""
    }
   },
   "outputs": [],
   "source": [
    "Listas_Concatenadas[8]"
   ]
  },
  {
   "cell_type": "markdown",
   "metadata": {
    "application/vnd.databricks.v1+cell": {
     "cellMetadata": {},
     "inputWidgets": {},
     "nuid": "4e8726fa-2b1e-4d5f-9ff7-fc470d0020bd",
     "showTitle": false,
     "title": ""
    }
   },
   "source": [
    "**Extender una lista**\n",
    "\n",
    "Podemos extender una lista con otra usando el comando `L1.extend(L2)`, en este caso el valor de L1 se actualizará con L1+L2.\n",
    "\n",
    "Ejemplo:\n"
   ]
  },
  {
   "cell_type": "code",
   "execution_count": 0,
   "metadata": {
    "application/vnd.databricks.v1+cell": {
     "cellMetadata": {},
     "inputWidgets": {},
     "nuid": "6ffb3878-b168-4eac-89ab-37e6add4fd89",
     "showTitle": false,
     "title": ""
    }
   },
   "outputs": [],
   "source": [
    "L1=[2,4,6,8]\n",
    "L2=[1,2,3]\n",
    "print(\"L1= \",L1)\n",
    "print(\"L2= \",L2)\n"
   ]
  },
  {
   "cell_type": "code",
   "execution_count": 0,
   "metadata": {
    "application/vnd.databricks.v1+cell": {
     "cellMetadata": {},
     "inputWidgets": {},
     "nuid": "f0b14ade-8d60-4b64-a2b8-f9e549c4ded0",
     "showTitle": false,
     "title": ""
    }
   },
   "outputs": [],
   "source": [
    "L1.extend(L2)\n",
    "print(\"L1.extend(L2)= \",L1)\n",
    "L2.extend(L2)\n",
    "print(\"L2.extend(L2)= \",L2)"
   ]
  },
  {
   "cell_type": "code",
   "execution_count": 0,
   "metadata": {
    "application/vnd.databricks.v1+cell": {
     "cellMetadata": {},
     "inputWidgets": {},
     "nuid": "c2b815b3-ac98-47b7-a16d-2c0940738d6d",
     "showTitle": false,
     "title": ""
    }
   },
   "outputs": [],
   "source": [
    "L1"
   ]
  },
  {
   "cell_type": "code",
   "execution_count": 0,
   "metadata": {
    "application/vnd.databricks.v1+cell": {
     "cellMetadata": {},
     "inputWidgets": {},
     "nuid": "386794f4-82b4-4843-9d72-c3ba355521c0",
     "showTitle": false,
     "title": ""
    }
   },
   "outputs": [],
   "source": [
    "L2"
   ]
  },
  {
   "cell_type": "markdown",
   "metadata": {
    "application/vnd.databricks.v1+cell": {
     "cellMetadata": {},
     "inputWidgets": {},
     "nuid": "d13f96f5-809c-4293-8322-f4f095c9d7db",
     "showTitle": false,
     "title": ""
    }
   },
   "source": [
    "```python\n",
    "Lista1.extend(Lista2)\n",
    " \n",
    "##Es decir => Lista1=Lista1+Lista2\n",
    "```"
   ]
  },
  {
   "cell_type": "code",
   "execution_count": 0,
   "metadata": {
    "application/vnd.databricks.v1+cell": {
     "cellMetadata": {},
     "inputWidgets": {},
     "nuid": "2947368a-2964-4c59-996a-610553dd05ff",
     "showTitle": false,
     "title": ""
    }
   },
   "outputs": [],
   "source": [
    "FV.extend([\"Papaya\",\"Pera\",\"Mora\",\"Rabano\",\"Limón\"])"
   ]
  },
  {
   "cell_type": "code",
   "execution_count": 0,
   "metadata": {
    "application/vnd.databricks.v1+cell": {
     "cellMetadata": {},
     "inputWidgets": {},
     "nuid": "1d45fd5a-2809-49b5-99a6-cc1e6ba0733b",
     "showTitle": false,
     "title": ""
    }
   },
   "outputs": [],
   "source": [
    "FV"
   ]
  },
  {
   "cell_type": "markdown",
   "metadata": {
    "application/vnd.databricks.v1+cell": {
     "cellMetadata": {},
     "inputWidgets": {},
     "nuid": "1b91df8a-94e4-4024-aa61-b64f85a2567d",
     "showTitle": false,
     "title": ""
    }
   },
   "source": [
    "**Incluir elementos al final de la lista**\n",
    "\n",
    "El comando `L.append(v)` incluirá al valor `v` al final de la lista `L`."
   ]
  },
  {
   "cell_type": "code",
   "execution_count": 0,
   "metadata": {
    "application/vnd.databricks.v1+cell": {
     "cellMetadata": {},
     "inputWidgets": {},
     "nuid": "4855dc22-9930-4e3a-aad0-5929d87a872f",
     "showTitle": false,
     "title": ""
    }
   },
   "outputs": [],
   "source": [
    "Dias.append(\"Lunes\")"
   ]
  },
  {
   "cell_type": "code",
   "execution_count": 0,
   "metadata": {
    "application/vnd.databricks.v1+cell": {
     "cellMetadata": {},
     "inputWidgets": {},
     "nuid": "525ab0e5-5cf9-429b-8e66-2ed36429dd11",
     "showTitle": false,
     "title": ""
    }
   },
   "outputs": [],
   "source": [
    "Dias"
   ]
  },
  {
   "cell_type": "code",
   "execution_count": 0,
   "metadata": {
    "application/vnd.databricks.v1+cell": {
     "cellMetadata": {},
     "inputWidgets": {},
     "nuid": "c3d3cfbe-ebd3-453c-9a06-9ce489c44adc",
     "showTitle": false,
     "title": ""
    }
   },
   "outputs": [],
   "source": [
    "FV.append(\"Papaya\")\n",
    "FV.append(\"Pera\")\n",
    "FV.append(\"Mango\")\n",
    "FV.append(\"Papa\")\n",
    "FV.append(\"Limón\")"
   ]
  },
  {
   "cell_type": "code",
   "execution_count": 0,
   "metadata": {
    "application/vnd.databricks.v1+cell": {
     "cellMetadata": {},
     "inputWidgets": {},
     "nuid": "7277332a-f833-44c9-aa1a-9af6a197f28c",
     "showTitle": false,
     "title": ""
    }
   },
   "outputs": [],
   "source": [
    "FV"
   ]
  },
  {
   "cell_type": "markdown",
   "metadata": {
    "application/vnd.databricks.v1+cell": {
     "cellMetadata": {},
     "inputWidgets": {},
     "nuid": "5e6b83e4-388e-47e2-a6df-72f5c435e336",
     "showTitle": false,
     "title": ""
    }
   },
   "source": [
    "**Contar elementos de una lista**\n",
    "\n",
    "El comando `L.count(v)` contará la cantidad de `v` que hay en la lista:"
   ]
  },
  {
   "cell_type": "code",
   "execution_count": 0,
   "metadata": {
    "application/vnd.databricks.v1+cell": {
     "cellMetadata": {},
     "inputWidgets": {},
     "nuid": "5076b3c3-db5d-4ce4-98fb-d780002ff03e",
     "showTitle": false,
     "title": ""
    }
   },
   "outputs": [],
   "source": [
    "Dias.count(\"Lunes\")"
   ]
  },
  {
   "cell_type": "code",
   "execution_count": 0,
   "metadata": {
    "application/vnd.databricks.v1+cell": {
     "cellMetadata": {},
     "inputWidgets": {},
     "nuid": "1e9ba0c1-7f7f-4e85-a6c5-06efcc13aae7",
     "showTitle": false,
     "title": ""
    }
   },
   "outputs": [],
   "source": [
    "Dias.count(\"Papaya\")"
   ]
  },
  {
   "cell_type": "code",
   "execution_count": 0,
   "metadata": {
    "application/vnd.databricks.v1+cell": {
     "cellMetadata": {},
     "inputWidgets": {},
     "nuid": "a76728e3-db43-4fe8-b896-76af300baf43",
     "showTitle": false,
     "title": ""
    }
   },
   "outputs": [],
   "source": [
    "FV.count(\"Papaya\")"
   ]
  },
  {
   "cell_type": "markdown",
   "metadata": {
    "application/vnd.databricks.v1+cell": {
     "cellMetadata": {},
     "inputWidgets": {},
     "nuid": "a223aee6-7a6c-4bac-aedb-1f2f21f241f1",
     "showTitle": false,
     "title": ""
    }
   },
   "source": [
    "**Insertar elementos en una lista**\n",
    "\n",
    "El comando `L.insert(n,v)` incluirá un elemento nuevo en la lista:"
   ]
  },
  {
   "cell_type": "code",
   "execution_count": 0,
   "metadata": {
    "application/vnd.databricks.v1+cell": {
     "cellMetadata": {},
     "inputWidgets": {},
     "nuid": "b300c06e-ffb8-4b23-944b-bdf0dff4dfa4",
     "showTitle": false,
     "title": ""
    }
   },
   "outputs": [],
   "source": [
    "Dias"
   ]
  },
  {
   "cell_type": "code",
   "execution_count": 0,
   "metadata": {
    "application/vnd.databricks.v1+cell": {
     "cellMetadata": {},
     "inputWidgets": {},
     "nuid": "20142b58-cd2c-4c70-b658-7359a9bf5142",
     "showTitle": false,
     "title": ""
    }
   },
   "outputs": [],
   "source": [
    "Dias.insert(4,\"Juernes\")"
   ]
  },
  {
   "cell_type": "code",
   "execution_count": 0,
   "metadata": {
    "application/vnd.databricks.v1+cell": {
     "cellMetadata": {},
     "inputWidgets": {},
     "nuid": "e9798e16-05d6-4031-a50d-8835a70591f9",
     "showTitle": false,
     "title": ""
    }
   },
   "outputs": [],
   "source": [
    "Dias"
   ]
  },
  {
   "cell_type": "markdown",
   "metadata": {
    "application/vnd.databricks.v1+cell": {
     "cellMetadata": {},
     "inputWidgets": {},
     "nuid": "dcacdd35-b2fc-46bc-aa2d-b742dac7559a",
     "showTitle": false,
     "title": ""
    }
   },
   "source": [
    "**Medir una lista**\n",
    "\n",
    "Con `len(L)` puedo medir una lista:"
   ]
  },
  {
   "cell_type": "code",
   "execution_count": 0,
   "metadata": {
    "application/vnd.databricks.v1+cell": {
     "cellMetadata": {},
     "inputWidgets": {},
     "nuid": "21ff5e25-1675-440c-8a61-6365cf840472",
     "showTitle": false,
     "title": ""
    }
   },
   "outputs": [],
   "source": [
    "len(Dias)"
   ]
  },
  {
   "cell_type": "code",
   "execution_count": 0,
   "metadata": {
    "application/vnd.databricks.v1+cell": {
     "cellMetadata": {},
     "inputWidgets": {},
     "nuid": "26700200-4a9d-4742-a3c5-02564b480afa",
     "showTitle": false,
     "title": ""
    }
   },
   "outputs": [],
   "source": [
    "len(FV)"
   ]
  },
  {
   "cell_type": "markdown",
   "metadata": {
    "application/vnd.databricks.v1+cell": {
     "cellMetadata": {},
     "inputWidgets": {},
     "nuid": "7b6ccd06-ee6d-428e-b69d-0f368981b733",
     "showTitle": false,
     "title": ""
    }
   },
   "source": [
    "**Remover elementos de una lista**\n",
    "\n",
    "Para eso tenemos dos posibles procesos, usando `L.remove(v)`:"
   ]
  },
  {
   "cell_type": "code",
   "execution_count": 0,
   "metadata": {
    "application/vnd.databricks.v1+cell": {
     "cellMetadata": {},
     "inputWidgets": {},
     "nuid": "d3f6d6ab-ee26-4d32-82ee-1e8db12a35c2",
     "showTitle": false,
     "title": ""
    }
   },
   "outputs": [],
   "source": [
    "Dias"
   ]
  },
  {
   "cell_type": "code",
   "execution_count": 0,
   "metadata": {
    "application/vnd.databricks.v1+cell": {
     "cellMetadata": {},
     "inputWidgets": {},
     "nuid": "9cc21172-1956-4609-be38-952558c29fc8",
     "showTitle": false,
     "title": ""
    }
   },
   "outputs": [],
   "source": [
    "Dias.remove(\"Juernes\")"
   ]
  },
  {
   "cell_type": "code",
   "execution_count": 0,
   "metadata": {
    "application/vnd.databricks.v1+cell": {
     "cellMetadata": {},
     "inputWidgets": {},
     "nuid": "410494f8-3254-4566-80d5-1479ab714d9b",
     "showTitle": false,
     "title": ""
    }
   },
   "outputs": [],
   "source": [
    "Dias"
   ]
  },
  {
   "cell_type": "markdown",
   "metadata": {
    "application/vnd.databricks.v1+cell": {
     "cellMetadata": {},
     "inputWidgets": {},
     "nuid": "659ca6a8-68ec-45f0-91a7-6ae90e39ea8f",
     "showTitle": false,
     "title": ""
    }
   },
   "source": [
    "o usando el comando `L.pop(ind)`"
   ]
  },
  {
   "cell_type": "code",
   "execution_count": 0,
   "metadata": {
    "application/vnd.databricks.v1+cell": {
     "cellMetadata": {},
     "inputWidgets": {},
     "nuid": "dd9b7201-2695-41c7-9f21-247281172640",
     "showTitle": false,
     "title": ""
    }
   },
   "outputs": [],
   "source": [
    "Dias.pop(6)"
   ]
  },
  {
   "cell_type": "code",
   "execution_count": 0,
   "metadata": {
    "application/vnd.databricks.v1+cell": {
     "cellMetadata": {},
     "inputWidgets": {},
     "nuid": "eab9a742-acb1-4487-a270-ea47295f3d33",
     "showTitle": false,
     "title": ""
    }
   },
   "outputs": [],
   "source": [
    "Dias"
   ]
  },
  {
   "cell_type": "markdown",
   "metadata": {
    "application/vnd.databricks.v1+cell": {
     "cellMetadata": {},
     "inputWidgets": {},
     "nuid": "c8224d74-b713-40e2-8f9a-3fc74e73d7fe",
     "showTitle": false,
     "title": ""
    }
   },
   "source": [
    "**Reversar una lista**\n",
    "\n",
    "El comando `L.reverse()` nos permitirá reversar la lista:"
   ]
  },
  {
   "cell_type": "code",
   "execution_count": 0,
   "metadata": {
    "application/vnd.databricks.v1+cell": {
     "cellMetadata": {},
     "inputWidgets": {},
     "nuid": "95ece1d7-73af-418c-9ef3-27eae219565e",
     "showTitle": false,
     "title": ""
    }
   },
   "outputs": [],
   "source": [
    "Dias.reverse()"
   ]
  },
  {
   "cell_type": "code",
   "execution_count": 0,
   "metadata": {
    "application/vnd.databricks.v1+cell": {
     "cellMetadata": {},
     "inputWidgets": {},
     "nuid": "4aca9204-bee0-4ec2-b352-768d1bf413c4",
     "showTitle": false,
     "title": ""
    }
   },
   "outputs": [],
   "source": [
    "Dias"
   ]
  },
  {
   "cell_type": "markdown",
   "metadata": {
    "application/vnd.databricks.v1+cell": {
     "cellMetadata": {},
     "inputWidgets": {},
     "nuid": "0e910765-c29f-4559-88d2-587f80c6e8b1",
     "showTitle": false,
     "title": ""
    }
   },
   "source": [
    "**Limpiar una lista**\n",
    "\n",
    "Usamos el comando `L.clear()` para limpiar la lista:"
   ]
  },
  {
   "cell_type": "code",
   "execution_count": 0,
   "metadata": {
    "application/vnd.databricks.v1+cell": {
     "cellMetadata": {},
     "inputWidgets": {},
     "nuid": "4340ac1d-116d-4cf6-a1aa-1c492345504f",
     "showTitle": false,
     "title": ""
    }
   },
   "outputs": [],
   "source": [
    "Dias.clear()"
   ]
  },
  {
   "cell_type": "code",
   "execution_count": 0,
   "metadata": {
    "application/vnd.databricks.v1+cell": {
     "cellMetadata": {},
     "inputWidgets": {},
     "nuid": "49ebbddf-d674-4345-9f5c-2c81e44b2550",
     "showTitle": false,
     "title": ""
    }
   },
   "outputs": [],
   "source": [
    "Dias"
   ]
  },
  {
   "cell_type": "markdown",
   "metadata": {
    "application/vnd.databricks.v1+cell": {
     "cellMetadata": {},
     "inputWidgets": {},
     "nuid": "6681e611-79e7-41e7-8212-455a5d056d73",
     "showTitle": false,
     "title": ""
    }
   },
   "source": [
    "## Bucles para recorrer listas\n",
    "\n",
    "La estructura de control `for` en Python resulta ser muy útil para recorrer y definir listas, la sintaxis de Python permite acceder a los elementos de la lista a partir del `for` sin necesidad de utilizar índices."
   ]
  },
  {
   "cell_type": "code",
   "execution_count": 0,
   "metadata": {
    "application/vnd.databricks.v1+cell": {
     "cellMetadata": {},
     "inputWidgets": {},
     "nuid": "ea7c2c0a-7b25-4123-9aee-024055160a6f",
     "showTitle": false,
     "title": ""
    }
   },
   "outputs": [],
   "source": [
    "FV"
   ]
  },
  {
   "cell_type": "code",
   "execution_count": 0,
   "metadata": {
    "application/vnd.databricks.v1+cell": {
     "cellMetadata": {},
     "inputWidgets": {},
     "nuid": "b12479b3-f40b-4e54-b46d-ea47c3c64c4c",
     "showTitle": false,
     "title": ""
    }
   },
   "outputs": [],
   "source": [
    "t1=\"Hola\"\n",
    "t1.replace(\"a\",\"o\")"
   ]
  },
  {
   "cell_type": "code",
   "execution_count": 0,
   "metadata": {
    "application/vnd.databricks.v1+cell": {
     "cellMetadata": {},
     "inputWidgets": {},
     "nuid": "c2ff8a4e-0845-4404-a9a8-1260715d807e",
     "showTitle": false,
     "title": ""
    }
   },
   "outputs": [],
   "source": [
    "for frut_o_verd in FV:\n",
    "    frut_o_verd=frut_o_verd.replace(\"a\",\"o\")\n",
    "    print(frut_o_verd, \"es una fruta o verdura.\")"
   ]
  },
  {
   "cell_type": "code",
   "execution_count": 0,
   "metadata": {
    "application/vnd.databricks.v1+cell": {
     "cellMetadata": {},
     "inputWidgets": {},
     "nuid": "0284df41-a415-4696-ac58-56710395bb62",
     "showTitle": false,
     "title": ""
    }
   },
   "outputs": [],
   "source": [
    "len('Fresas')"
   ]
  },
  {
   "cell_type": "code",
   "execution_count": 0,
   "metadata": {
    "application/vnd.databricks.v1+cell": {
     "cellMetadata": {},
     "inputWidgets": {},
     "nuid": "1d338b8a-d1ed-4e26-b29e-4c9697cc2b3a",
     "showTitle": false,
     "title": ""
    }
   },
   "outputs": [],
   "source": [
    "cant_letras=[]\n",
    "for frut_o_verd in FV:\n",
    "    lon=len(frut_o_verd)\n",
    "    cant_letras.append(lon)\n",
    "    \n",
    "    \n",
    "print(cant_letras)\n",
    "print(FV)"
   ]
  },
  {
   "cell_type": "code",
   "execution_count": 0,
   "metadata": {
    "application/vnd.databricks.v1+cell": {
     "cellMetadata": {},
     "inputWidgets": {},
     "nuid": "fcb8f0c7-3d60-4c1f-87b9-68d5145aec78",
     "showTitle": false,
     "title": ""
    }
   },
   "outputs": [],
   "source": [
    "for fv in FV:\n",
    "    print(\"La fruta o verdura,\",fv+\",\",\n",
    "          \"tiene\",len(fv),\"caracteres.\\n\")"
   ]
  },
  {
   "cell_type": "markdown",
   "metadata": {
    "application/vnd.databricks.v1+cell": {
     "cellMetadata": {},
     "inputWidgets": {},
     "nuid": "ea27e3c2-20b6-4265-b66e-54a6df770880",
     "showTitle": false,
     "title": ""
    }
   },
   "source": [
    "Al momento de definir listas usamos parentesis cuadrados, la condición que debe satisfacer el valor de la lista y el ciclo:\n",
    "\n",
    "***\n",
    "`[f(v) for v in L]`\n",
    "***\n"
   ]
  },
  {
   "cell_type": "code",
   "execution_count": 0,
   "metadata": {
    "application/vnd.databricks.v1+cell": {
     "cellMetadata": {},
     "inputWidgets": {},
     "nuid": "8b7238bc-6b37-4e53-844c-efcb3e094910",
     "showTitle": false,
     "title": ""
    }
   },
   "outputs": [],
   "source": [
    "#Suponga que tiene la siguiente lista\n",
    "L1=[1,2,3,4,5,6,7,8,9,10]\n",
    "# A cada elemento súmele 1 y elresultado multipliquelo por 2\n",
    "L2=[(n+1)*2 for n in L1]"
   ]
  },
  {
   "cell_type": "code",
   "execution_count": 0,
   "metadata": {
    "application/vnd.databricks.v1+cell": {
     "cellMetadata": {},
     "inputWidgets": {},
     "nuid": "3f810ba3-17e8-4388-a2b2-1c0e734d71a2",
     "showTitle": false,
     "title": ""
    }
   },
   "outputs": [],
   "source": [
    "L2"
   ]
  },
  {
   "cell_type": "code",
   "execution_count": 0,
   "metadata": {
    "application/vnd.databricks.v1+cell": {
     "cellMetadata": {},
     "inputWidgets": {},
     "nuid": "5cc255b3-4047-405c-8d84-cd07889c69c7",
     "showTitle": false,
     "title": ""
    }
   },
   "outputs": [],
   "source": [
    "SL=[3,4,6,7]\n",
    "FV2=[FV[i] for i in SL]\n",
    "print(FV)\n",
    "FV2"
   ]
  },
  {
   "cell_type": "markdown",
   "metadata": {
    "application/vnd.databricks.v1+cell": {
     "cellMetadata": {},
     "inputWidgets": {},
     "nuid": "97f9896b-6ca0-46a5-9066-88992263aabd",
     "showTitle": false,
     "title": ""
    }
   },
   "source": [
    "## Rangos \n",
    "\n",
    "El tipo `range` es una lista inmodificable de números enteros escritos como una sucesión aritmética.\n",
    "\n",
    "En Python 3 este argumento se reconoce como un tipo de datos y usa uno, dos o tres argumentos numéricos, como si fuera una función."
   ]
  },
  {
   "cell_type": "code",
   "execution_count": 0,
   "metadata": {
    "application/vnd.databricks.v1+cell": {
     "cellMetadata": {},
     "inputWidgets": {},
     "nuid": "68ed98e6-5a0b-42c1-be71-0fc96b3cca61",
     "showTitle": false,
     "title": ""
    }
   },
   "outputs": [],
   "source": [
    "range(10)"
   ]
  },
  {
   "cell_type": "code",
   "execution_count": 0,
   "metadata": {
    "application/vnd.databricks.v1+cell": {
     "cellMetadata": {},
     "inputWidgets": {},
     "nuid": "1c8a6627-ea03-4f1c-b835-e114f9deb44f",
     "showTitle": false,
     "title": ""
    }
   },
   "outputs": [],
   "source": [
    "for i in range(10):\n",
    "    print(i)"
   ]
  },
  {
   "cell_type": "code",
   "execution_count": 0,
   "metadata": {
    "application/vnd.databricks.v1+cell": {
     "cellMetadata": {},
     "inputWidgets": {},
     "nuid": "1d3fe005-2c64-47e0-9e0f-123d035e5c51",
     "showTitle": false,
     "title": ""
    }
   },
   "outputs": [],
   "source": [
    "for i in range(4,10):\n",
    "    print(i)"
   ]
  },
  {
   "cell_type": "code",
   "execution_count": 0,
   "metadata": {
    "application/vnd.databricks.v1+cell": {
     "cellMetadata": {},
     "inputWidgets": {},
     "nuid": "534b879a-ec06-44df-a509-3c055e5bb056",
     "showTitle": false,
     "title": ""
    }
   },
   "outputs": [],
   "source": [
    "for i in range(4,10,2):\n",
    "    print(i)"
   ]
  },
  {
   "cell_type": "code",
   "execution_count": 0,
   "metadata": {
    "application/vnd.databricks.v1+cell": {
     "cellMetadata": {},
     "inputWidgets": {},
     "nuid": "28e5b31f-d3b7-453b-9464-26552a3e66e9",
     "showTitle": false,
     "title": ""
    }
   },
   "outputs": [],
   "source": [
    "for i in range(3,10,2):\n",
    "    print(i)"
   ]
  },
  {
   "cell_type": "code",
   "execution_count": 0,
   "metadata": {
    "application/vnd.databricks.v1+cell": {
     "cellMetadata": {},
     "inputWidgets": {},
     "nuid": "69214d06-3a71-47db-b65b-c33bb8a4cd53",
     "showTitle": false,
     "title": ""
    }
   },
   "outputs": [],
   "source": [
    "FV"
   ]
  },
  {
   "cell_type": "code",
   "execution_count": 0,
   "metadata": {
    "application/vnd.databricks.v1+cell": {
     "cellMetadata": {},
     "inputWidgets": {},
     "nuid": "6837219a-f778-4173-b7be-7f3afb6c8346",
     "showTitle": false,
     "title": ""
    }
   },
   "outputs": [],
   "source": [
    "FV[3:10:2]"
   ]
  },
  {
   "cell_type": "markdown",
   "metadata": {
    "application/vnd.databricks.v1+cell": {
     "cellMetadata": {},
     "inputWidgets": {},
     "nuid": "f526ec22-2c10-445a-8a60-09b1bad4af1f",
     "showTitle": false,
     "title": ""
    }
   },
   "source": [
    "## Enumerar listas\n",
    "\n",
    "Aunque una ventaja indiscutible del `for` de Python es que tenemos la posibilidad de recorrer la lista y no los índices, en ocasiones hace falta el índice del elemento de la lista, tenemos dos posibilidades:"
   ]
  },
  {
   "cell_type": "code",
   "execution_count": 0,
   "metadata": {
    "application/vnd.databricks.v1+cell": {
     "cellMetadata": {},
     "inputWidgets": {},
     "nuid": "8eb24156-715d-47d2-aa75-e596b7ce8b1d",
     "showTitle": false,
     "title": ""
    }
   },
   "outputs": [],
   "source": [
    "Dias=[\"Lunes\",\"Martes\",\"Miércoles\",\"Jueves\",\"Viernes\",\"Sábado\",\"Domingo\"]"
   ]
  },
  {
   "cell_type": "code",
   "execution_count": 0,
   "metadata": {
    "application/vnd.databricks.v1+cell": {
     "cellMetadata": {},
     "inputWidgets": {},
     "nuid": "1de5d7c7-91d0-4a48-8f5c-ed6c7ff27ffa",
     "showTitle": false,
     "title": ""
    }
   },
   "outputs": [],
   "source": [
    "len(Dias)"
   ]
  },
  {
   "cell_type": "code",
   "execution_count": 0,
   "metadata": {
    "application/vnd.databricks.v1+cell": {
     "cellMetadata": {},
     "inputWidgets": {},
     "nuid": "7c0f16dc-c911-4783-b07a-a1983a4620f6",
     "showTitle": false,
     "title": ""
    }
   },
   "outputs": [],
   "source": [
    "range(len(Dias))"
   ]
  },
  {
   "cell_type": "code",
   "execution_count": 0,
   "metadata": {
    "application/vnd.databricks.v1+cell": {
     "cellMetadata": {},
     "inputWidgets": {},
     "nuid": "ecff433e-6a38-4cd4-b8dd-261245fc787f",
     "showTitle": false,
     "title": ""
    }
   },
   "outputs": [],
   "source": [
    "for ind in range(len(Dias)):\n",
    "    print(Dias[ind], \"es el\", ind+1,\"día de la semana\")"
   ]
  },
  {
   "cell_type": "code",
   "execution_count": 0,
   "metadata": {
    "application/vnd.databricks.v1+cell": {
     "cellMetadata": {},
     "inputWidgets": {},
     "nuid": "9ff2d015-fac0-4d9f-8a2d-cd5e0b064951",
     "showTitle": false,
     "title": ""
    }
   },
   "outputs": [],
   "source": [
    "for ind,dia in enumerate(Dias):\n",
    "    print(dia, \"es el\", ind+1,\"día de la semana\")"
   ]
  },
  {
   "cell_type": "code",
   "execution_count": 0,
   "metadata": {
    "application/vnd.databricks.v1+cell": {
     "cellMetadata": {},
     "inputWidgets": {},
     "nuid": "666080ef-9ad0-4d98-a45f-b41fb1fa5803",
     "showTitle": false,
     "title": ""
    }
   },
   "outputs": [],
   "source": [
    "for i in enumerate(Dias):\n",
    "    print(i)"
   ]
  },
  {
   "cell_type": "code",
   "execution_count": 0,
   "metadata": {
    "application/vnd.databricks.v1+cell": {
     "cellMetadata": {},
     "inputWidgets": {},
     "nuid": "5b08ec57-d1c5-45de-96f6-d1278f4efe8d",
     "showTitle": false,
     "title": ""
    }
   },
   "outputs": [],
   "source": [
    "type(enumerate(Dias))"
   ]
  },
  {
   "cell_type": "markdown",
   "metadata": {
    "application/vnd.databricks.v1+cell": {
     "cellMetadata": {},
     "inputWidgets": {},
     "nuid": "52945f46-7187-49b2-97ad-7ca6fb5511b1",
     "showTitle": false,
     "title": ""
    }
   },
   "source": [
    "## Contenencia en una lista\n",
    "\n",
    "Podemos establecer si un calor está o no está en una lista con el comando `in`:"
   ]
  },
  {
   "cell_type": "code",
   "execution_count": 0,
   "metadata": {
    "application/vnd.databricks.v1+cell": {
     "cellMetadata": {},
     "inputWidgets": {},
     "nuid": "76602b1b-fbab-4990-9923-cf32d0c8a81c",
     "showTitle": false,
     "title": ""
    }
   },
   "outputs": [],
   "source": [
    "\"Lunes\" in Dias"
   ]
  },
  {
   "cell_type": "code",
   "execution_count": 0,
   "metadata": {
    "application/vnd.databricks.v1+cell": {
     "cellMetadata": {},
     "inputWidgets": {},
     "nuid": "b800bcd0-47fa-4fea-a75b-d481686de84c",
     "showTitle": false,
     "title": ""
    }
   },
   "outputs": [],
   "source": [
    "\"Lunes\" in FV"
   ]
  },
  {
   "cell_type": "code",
   "execution_count": 0,
   "metadata": {
    "application/vnd.databricks.v1+cell": {
     "cellMetadata": {},
     "inputWidgets": {},
     "nuid": "51886f4e-18ef-4630-9972-0574afe479f2",
     "showTitle": false,
     "title": ""
    }
   },
   "outputs": [],
   "source": [
    "FV"
   ]
  },
  {
   "cell_type": "code",
   "execution_count": 0,
   "metadata": {
    "application/vnd.databricks.v1+cell": {
     "cellMetadata": {},
     "inputWidgets": {},
     "nuid": "d93ca0fa-3e31-4ec1-a61c-ac84bc81a77c",
     "showTitle": false,
     "title": ""
    }
   },
   "outputs": [],
   "source": [
    "V=['Brocoli', 'Acelgas', 'Espinacas','Rabano']"
   ]
  },
  {
   "cell_type": "code",
   "execution_count": 0,
   "metadata": {
    "application/vnd.databricks.v1+cell": {
     "cellMetadata": {},
     "inputWidgets": {},
     "nuid": "60f6b241-c300-4ae6-a9d5-2874a62df362",
     "showTitle": false,
     "title": ""
    }
   },
   "outputs": [],
   "source": [
    "F=[]\n",
    "for fv in FV:\n",
    "    if fv in V:\n",
    "        print(fv,\" es verdura.\")\n",
    "    else:\n",
    "        print(fv,\" es fruta.\")\n",
    "        F.append(fv)\n",
    "        \n",
    "print(F)"
   ]
  },
  {
   "cell_type": "markdown",
   "metadata": {
    "application/vnd.databricks.v1+cell": {
     "cellMetadata": {},
     "inputWidgets": {},
     "nuid": "9d344b9e-105c-4efd-9053-53d1168c08c0",
     "showTitle": false,
     "title": ""
    },
    "solution2": "hidden",
    "solution2_first": true
   },
   "source": [
    "**Ejercicio** Lo hace muy mal, permitamos que nos pregunte y recreamos la lista de Frutas y Verduras:"
   ]
  },
  {
   "cell_type": "code",
   "execution_count": 0,
   "metadata": {
    "application/vnd.databricks.v1+cell": {
     "cellMetadata": {},
     "inputWidgets": {},
     "nuid": "e35768ca-5310-425c-8a67-894368a08361",
     "showTitle": false,
     "title": ""
    },
    "solution2": "hidden"
   },
   "outputs": [],
   "source": [
    "F=[]\n",
    "V=[]\n",
    "SC=FV.copy()\n",
    "\n",
    "for fv in FV:\n",
    "    print(fv)\n",
    "    L=input(\" es fruta (marque F) o Verdura (marque V)\")\n",
    "    if L.upper()==\"F\":        \n",
    "        SC.remove(fv)\n",
    "        F.append(fv)\n",
    "    elif L.upper()==\"V\":\n",
    "        SC.remove(fv)\n",
    "        V.append(fv)\n",
    "    else:\n",
    "        print(\"Esa respuesta no fue correcta\")\n",
    "print(\"Frutas: \",F)\n",
    "print(\"Verduras: \",V)\n",
    "print(\"Sin clasificar: \",SC)"
   ]
  },
  {
   "cell_type": "markdown",
   "metadata": {
    "application/vnd.databricks.v1+cell": {
     "cellMetadata": {},
     "inputWidgets": {},
     "nuid": "3df2a9f3-4dc3-47b5-bd97-48cdf3f474fa",
     "showTitle": false,
     "title": ""
    }
   },
   "source": [
    "Si quisiera clasificar todas las frutas y verduras utilizaría otro bucle: `while`"
   ]
  },
  {
   "cell_type": "code",
   "execution_count": 0,
   "metadata": {
    "application/vnd.databricks.v1+cell": {
     "cellMetadata": {},
     "inputWidgets": {},
     "nuid": "7b1d49b8-d754-4d09-ac51-20f438a04762",
     "showTitle": false,
     "title": ""
    },
    "scrolled": true
   },
   "outputs": [],
   "source": [
    "F=[]\n",
    "V=[]\n",
    "SC=FV.copy()\n",
    "\n",
    "while len(SC)>0:\n",
    "    ol=SC.copy()\n",
    "    for fv in ol:\n",
    "        print(fv)\n",
    "        L=input(\" es fruta (marque F) o Verdura (marque V)\")\n",
    "        if L==\"F\":        \n",
    "            SC.remove(fv)\n",
    "            F.append(fv)\n",
    "        elif L==\"V\":\n",
    "            SC.remove(fv)\n",
    "            V.append(fv)\n",
    "        else:\n",
    "            print(\"Esa respuesta no fue correcta\")\n",
    "    print(\"Frutas: \",F)\n",
    "    print(\"Verduras: \",V)\n",
    "    print(\"Sin clasificar: \",SC)"
   ]
  },
  {
   "cell_type": "code",
   "execution_count": 0,
   "metadata": {
    "application/vnd.databricks.v1+cell": {
     "cellMetadata": {},
     "inputWidgets": {},
     "nuid": "37d972d0-a800-4b77-a1b6-8201ab1ff702",
     "showTitle": false,
     "title": ""
    }
   },
   "outputs": [],
   "source": [
    "F"
   ]
  },
  {
   "cell_type": "code",
   "execution_count": 0,
   "metadata": {
    "application/vnd.databricks.v1+cell": {
     "cellMetadata": {},
     "inputWidgets": {},
     "nuid": "a6cf8416-eb2b-46d0-8e68-301b380d7e51",
     "showTitle": false,
     "title": ""
    }
   },
   "outputs": [],
   "source": [
    "V"
   ]
  },
  {
   "cell_type": "markdown",
   "metadata": {
    "application/vnd.databricks.v1+cell": {
     "cellMetadata": {},
     "inputWidgets": {},
     "nuid": "2e4d547d-167a-488c-9721-8c23b9d5ef62",
     "showTitle": false,
     "title": ""
    }
   },
   "source": [
    "# Tuplas\n",
    "\n",
    "Las tuplas son una estructura de datos similar a las listas pero inmodificables, se encierran con paréntesis redondos.\n"
   ]
  },
  {
   "cell_type": "code",
   "execution_count": 0,
   "metadata": {
    "application/vnd.databricks.v1+cell": {
     "cellMetadata": {},
     "inputWidgets": {},
     "nuid": "c7b7a52a-8509-449c-a7c8-bc7c3d11e09c",
     "showTitle": false,
     "title": ""
    }
   },
   "outputs": [],
   "source": [
    "Tupla1=(\"eje_x\",\"eje_y\",\"eje_z\")"
   ]
  },
  {
   "cell_type": "code",
   "execution_count": 0,
   "metadata": {
    "application/vnd.databricks.v1+cell": {
     "cellMetadata": {},
     "inputWidgets": {},
     "nuid": "5f3a8ef6-a817-493a-aa84-f38f71f51b44",
     "showTitle": false,
     "title": ""
    }
   },
   "outputs": [],
   "source": [
    "Tupla1.count(\"eje_x\")"
   ]
  },
  {
   "cell_type": "code",
   "execution_count": 0,
   "metadata": {
    "application/vnd.databricks.v1+cell": {
     "cellMetadata": {},
     "inputWidgets": {},
     "nuid": "5932acfc-019c-41b2-8e55-f86f6986615c",
     "showTitle": false,
     "title": ""
    }
   },
   "outputs": [],
   "source": [
    "Tupla1.index(\"eje_z\")"
   ]
  },
  {
   "cell_type": "markdown",
   "metadata": {
    "application/vnd.databricks.v1+cell": {
     "cellMetadata": {},
     "inputWidgets": {},
     "nuid": "12addf95-9446-4781-bfdb-4013ff21ba16",
     "showTitle": false,
     "title": ""
    }
   },
   "source": [
    "La indexación es similar a la de las listas:"
   ]
  },
  {
   "cell_type": "code",
   "execution_count": 0,
   "metadata": {
    "application/vnd.databricks.v1+cell": {
     "cellMetadata": {},
     "inputWidgets": {},
     "nuid": "2423a1e0-86e0-441a-bce0-7e1696a77888",
     "showTitle": false,
     "title": ""
    }
   },
   "outputs": [],
   "source": [
    "Tupla1[0]"
   ]
  },
  {
   "cell_type": "code",
   "execution_count": 0,
   "metadata": {
    "application/vnd.databricks.v1+cell": {
     "cellMetadata": {},
     "inputWidgets": {},
     "nuid": "8733fb16-0e2e-4424-93e0-da14ba279609",
     "showTitle": false,
     "title": ""
    }
   },
   "outputs": [],
   "source": [
    "Tupla1[-1]"
   ]
  },
  {
   "cell_type": "code",
   "execution_count": 0,
   "metadata": {
    "application/vnd.databricks.v1+cell": {
     "cellMetadata": {},
     "inputWidgets": {},
     "nuid": "122a7274-cd02-49b4-89fd-d323ab18638b",
     "showTitle": false,
     "title": ""
    }
   },
   "outputs": [],
   "source": [
    "Tupla1[1:]"
   ]
  },
  {
   "cell_type": "markdown",
   "metadata": {
    "application/vnd.databricks.v1+cell": {
     "cellMetadata": {},
     "inputWidgets": {},
     "nuid": "4b0317ce-f5f5-4279-97c2-d2ad5bd3860d",
     "showTitle": false,
     "title": ""
    }
   },
   "source": [
    "La creación de una tupla unitaria requiere una coma final:"
   ]
  },
  {
   "cell_type": "code",
   "execution_count": 0,
   "metadata": {
    "application/vnd.databricks.v1+cell": {
     "cellMetadata": {},
     "inputWidgets": {},
     "nuid": "b571f939-a7cf-496e-993a-025ff0b16453",
     "showTitle": false,
     "title": ""
    }
   },
   "outputs": [],
   "source": [
    "Tupla2=(\"solo\",)"
   ]
  },
  {
   "cell_type": "code",
   "execution_count": 0,
   "metadata": {
    "application/vnd.databricks.v1+cell": {
     "cellMetadata": {},
     "inputWidgets": {},
     "nuid": "96a2d83d-0017-45b9-8576-a398593ee0d7",
     "showTitle": false,
     "title": ""
    }
   },
   "outputs": [],
   "source": [
    "Tupla2"
   ]
  },
  {
   "cell_type": "code",
   "execution_count": 0,
   "metadata": {
    "application/vnd.databricks.v1+cell": {
     "cellMetadata": {},
     "inputWidgets": {},
     "nuid": "22e2b9b3-fb10-4f50-94d0-f99142eccf4b",
     "showTitle": false,
     "title": ""
    }
   },
   "outputs": [],
   "source": [
    "Tuplamala=(\"solo\")\n",
    "Tuplamala"
   ]
  },
  {
   "cell_type": "code",
   "execution_count": 0,
   "metadata": {
    "application/vnd.databricks.v1+cell": {
     "cellMetadata": {},
     "inputWidgets": {},
     "nuid": "0856e449-28a2-40f3-bd3a-655103aa1c1c",
     "showTitle": false,
     "title": ""
    }
   },
   "outputs": [],
   "source": [
    "Tupla1[0]=\"Eje X\""
   ]
  },
  {
   "cell_type": "markdown",
   "metadata": {
    "application/vnd.databricks.v1+cell": {
     "cellMetadata": {},
     "inputWidgets": {},
     "nuid": "f177ebd4-37c4-43d7-95a6-a7e7e75945d9",
     "showTitle": false,
     "title": ""
    }
   },
   "source": [
    "Tupla desde una lista u otra tupla:"
   ]
  },
  {
   "cell_type": "code",
   "execution_count": 0,
   "metadata": {
    "application/vnd.databricks.v1+cell": {
     "cellMetadata": {},
     "inputWidgets": {},
     "nuid": "5b2ed947-ef01-4d9e-86cb-df44be7ec6b6",
     "showTitle": false,
     "title": ""
    }
   },
   "outputs": [],
   "source": []
  },
  {
   "cell_type": "code",
   "execution_count": 0,
   "metadata": {
    "application/vnd.databricks.v1+cell": {
     "cellMetadata": {},
     "inputWidgets": {},
     "nuid": "3f9a537c-1f2d-4ec3-ab0f-0b501b038530",
     "showTitle": false,
     "title": ""
    }
   },
   "outputs": [],
   "source": [
    "tuple((Dias))"
   ]
  },
  {
   "cell_type": "code",
   "execution_count": 0,
   "metadata": {
    "application/vnd.databricks.v1+cell": {
     "cellMetadata": {},
     "inputWidgets": {},
     "nuid": "d4b9099c-9e5d-482d-9471-defb8420abbd",
     "showTitle": false,
     "title": ""
    }
   },
   "outputs": [],
   "source": [
    "tuple((Tupla1.index(i)+1 for i in Tupla1))"
   ]
  },
  {
   "cell_type": "markdown",
   "metadata": {
    "application/vnd.databricks.v1+cell": {
     "cellMetadata": {},
     "inputWidgets": {},
     "nuid": "7fb221ce-1ac5-4906-8e55-6000036efdb0",
     "showTitle": false,
     "title": ""
    }
   },
   "source": [
    "# Conjuntos\n",
    "\n",
    "Los conjuntos son colecciones de elementos sin indíces y sin orden, se definen entre corchetes `{ . . . }`"
   ]
  },
  {
   "cell_type": "code",
   "execution_count": 0,
   "metadata": {
    "application/vnd.databricks.v1+cell": {
     "cellMetadata": {},
     "inputWidgets": {},
     "nuid": "a207fc51-120d-4828-a785-6de840ca98af",
     "showTitle": false,
     "title": ""
    }
   },
   "outputs": [],
   "source": [
    "Set1={\"Nairo\", \"Egan\",\"Rigo\",\"Rigo\"}"
   ]
  },
  {
   "cell_type": "code",
   "execution_count": 0,
   "metadata": {
    "application/vnd.databricks.v1+cell": {
     "cellMetadata": {},
     "inputWidgets": {},
     "nuid": "1b6cdbbe-a986-48aa-b8f1-8e767c6dd0ac",
     "showTitle": false,
     "title": ""
    }
   },
   "outputs": [],
   "source": [
    "Set1"
   ]
  },
  {
   "cell_type": "code",
   "execution_count": 0,
   "metadata": {
    "application/vnd.databricks.v1+cell": {
     "cellMetadata": {},
     "inputWidgets": {},
     "nuid": "d9610781-269e-4a5c-8014-731530ddb19b",
     "showTitle": false,
     "title": ""
    }
   },
   "outputs": [],
   "source": [
    "Set1[2]"
   ]
  },
  {
   "cell_type": "markdown",
   "metadata": {
    "application/vnd.databricks.v1+cell": {
     "cellMetadata": {},
     "inputWidgets": {},
     "nuid": "8c6f87e5-920f-443f-aafa-9b1ec495b66a",
     "showTitle": false,
     "title": ""
    }
   },
   "source": [
    "Podemos convertir listas en conjuntos con el comando `set()`"
   ]
  },
  {
   "cell_type": "code",
   "execution_count": 0,
   "metadata": {
    "application/vnd.databricks.v1+cell": {
     "cellMetadata": {},
     "inputWidgets": {},
     "nuid": "1ae7041d-f676-4ada-acb1-5a9eee48b6ed",
     "showTitle": false,
     "title": ""
    }
   },
   "outputs": [],
   "source": [
    "FV"
   ]
  },
  {
   "cell_type": "code",
   "execution_count": 0,
   "metadata": {
    "application/vnd.databricks.v1+cell": {
     "cellMetadata": {},
     "inputWidgets": {},
     "nuid": "1f353796-f883-4810-befc-1783d2c70182",
     "showTitle": false,
     "title": ""
    }
   },
   "outputs": [],
   "source": [
    "CtoFV=set(FV)"
   ]
  },
  {
   "cell_type": "code",
   "execution_count": 0,
   "metadata": {
    "application/vnd.databricks.v1+cell": {
     "cellMetadata": {},
     "inputWidgets": {},
     "nuid": "6c3a313a-47eb-4893-a157-f01e48ab7254",
     "showTitle": false,
     "title": ""
    }
   },
   "outputs": [],
   "source": [
    "CtoFV"
   ]
  },
  {
   "cell_type": "markdown",
   "metadata": {
    "application/vnd.databricks.v1+cell": {
     "cellMetadata": {},
     "inputWidgets": {},
     "nuid": "33d2716f-82b7-4404-a536-61a49d3a0e77",
     "showTitle": false,
     "title": ""
    }
   },
   "source": [
    "Varias de las operaciones entre listas y operaciones entre conjuntos podemos usar aquí:"
   ]
  },
  {
   "cell_type": "code",
   "execution_count": 0,
   "metadata": {
    "application/vnd.databricks.v1+cell": {
     "cellMetadata": {},
     "inputWidgets": {},
     "nuid": "1c9031a8-1fd6-478c-93c7-ecb6cf137af9",
     "showTitle": false,
     "title": ""
    }
   },
   "outputs": [],
   "source": [
    "CtoFV.add(\"Naranja\") ## Agregar un elemento"
   ]
  },
  {
   "cell_type": "code",
   "execution_count": 0,
   "metadata": {
    "application/vnd.databricks.v1+cell": {
     "cellMetadata": {},
     "inputWidgets": {},
     "nuid": "df358de6-6231-4821-af8e-eed3f0a9dbb3",
     "showTitle": false,
     "title": ""
    }
   },
   "outputs": [],
   "source": [
    "CtoFV"
   ]
  },
  {
   "cell_type": "code",
   "execution_count": 0,
   "metadata": {
    "application/vnd.databricks.v1+cell": {
     "cellMetadata": {},
     "inputWidgets": {},
     "nuid": "e9984099-be70-4784-be29-d319663a7440",
     "showTitle": false,
     "title": ""
    }
   },
   "outputs": [],
   "source": [
    "CtoF,CtoV=set(F),set(V)"
   ]
  },
  {
   "cell_type": "code",
   "execution_count": 0,
   "metadata": {
    "application/vnd.databricks.v1+cell": {
     "cellMetadata": {},
     "inputWidgets": {},
     "nuid": "983a47a3-4c4b-4970-a508-e3a52256011d",
     "showTitle": false,
     "title": ""
    }
   },
   "outputs": [],
   "source": [
    "CtoF"
   ]
  },
  {
   "cell_type": "code",
   "execution_count": 0,
   "metadata": {
    "application/vnd.databricks.v1+cell": {
     "cellMetadata": {},
     "inputWidgets": {},
     "nuid": "384e9b3a-9d32-4289-aeb2-01cd14d9f070",
     "showTitle": false,
     "title": ""
    }
   },
   "outputs": [],
   "source": [
    "CtoV"
   ]
  },
  {
   "cell_type": "code",
   "execution_count": 0,
   "metadata": {
    "application/vnd.databricks.v1+cell": {
     "cellMetadata": {},
     "inputWidgets": {},
     "nuid": "0d85df98-1e74-4184-9deb-3d747e15a1c3",
     "showTitle": false,
     "title": ""
    }
   },
   "outputs": [],
   "source": [
    "Otro_Cto=CtoF.union(CtoV)## Unión de conjuntos"
   ]
  },
  {
   "cell_type": "code",
   "execution_count": 0,
   "metadata": {
    "application/vnd.databricks.v1+cell": {
     "cellMetadata": {},
     "inputWidgets": {},
     "nuid": "2cd8939c-01a0-4d13-a70c-bcafe5d82f1b",
     "showTitle": false,
     "title": ""
    }
   },
   "outputs": [],
   "source": [
    "Otro_Cto"
   ]
  },
  {
   "cell_type": "code",
   "execution_count": 0,
   "metadata": {
    "application/vnd.databricks.v1+cell": {
     "cellMetadata": {},
     "inputWidgets": {},
     "nuid": "58e06293-fa91-49d0-8333-73b6070e68bb",
     "showTitle": false,
     "title": ""
    }
   },
   "outputs": [],
   "source": [
    "Otro_Cto.intersection(CtoFV) ##intersección"
   ]
  },
  {
   "cell_type": "code",
   "execution_count": 0,
   "metadata": {
    "application/vnd.databricks.v1+cell": {
     "cellMetadata": {},
     "inputWidgets": {},
     "nuid": "d7357f60-7dbe-4ab6-a085-71c5a161e9a8",
     "showTitle": false,
     "title": ""
    }
   },
   "outputs": [],
   "source": [
    "CtoFV.difference(Otro_Cto)##Diferencia"
   ]
  },
  {
   "cell_type": "code",
   "execution_count": 0,
   "metadata": {
    "application/vnd.databricks.v1+cell": {
     "cellMetadata": {},
     "inputWidgets": {},
     "nuid": "f49885aa-25ba-4f19-ae5b-e9cb7b687105",
     "showTitle": false,
     "title": ""
    }
   },
   "outputs": [],
   "source": [
    "Set1.discard(\"Egan\")## Eliminar elementod"
   ]
  },
  {
   "cell_type": "code",
   "execution_count": 0,
   "metadata": {
    "application/vnd.databricks.v1+cell": {
     "cellMetadata": {},
     "inputWidgets": {},
     "nuid": "0f6c7c00-96ac-4576-87b5-192a83c96847",
     "showTitle": false,
     "title": ""
    }
   },
   "outputs": [],
   "source": [
    "Set1"
   ]
  },
  {
   "cell_type": "code",
   "execution_count": 0,
   "metadata": {
    "application/vnd.databricks.v1+cell": {
     "cellMetadata": {},
     "inputWidgets": {},
     "nuid": "a63d120d-006e-42d9-9f9b-11416d7658b7",
     "showTitle": false,
     "title": ""
    }
   },
   "outputs": [],
   "source": [
    "type(Set1)"
   ]
  },
  {
   "cell_type": "markdown",
   "metadata": {
    "application/vnd.databricks.v1+cell": {
     "cellMetadata": {},
     "inputWidgets": {},
     "nuid": "4e48d2ae-2da3-498a-a8b2-04174f6feb4e",
     "showTitle": false,
     "title": ""
    },
    "solution2": "hidden",
    "solution2_first": true
   },
   "source": [
    "**Ejercicio** Arreglando el problema de la clasificación de frutas y verduras:"
   ]
  },
  {
   "cell_type": "code",
   "execution_count": 0,
   "metadata": {
    "application/vnd.databricks.v1+cell": {
     "cellMetadata": {},
     "inputWidgets": {},
     "nuid": "f3d7034f-596d-4f43-a010-32c07b830137",
     "showTitle": false,
     "title": ""
    }
   },
   "outputs": [],
   "source": [
    "L1=[1,1,2,2,3,4,5,5,5,5,7]\n",
    "C1=set(L1)\n",
    "C1"
   ]
  },
  {
   "cell_type": "code",
   "execution_count": 0,
   "metadata": {
    "application/vnd.databricks.v1+cell": {
     "cellMetadata": {},
     "inputWidgets": {},
     "nuid": "5203d0b8-de2b-40e8-be6c-225a45d3435c",
     "showTitle": false,
     "title": ""
    }
   },
   "outputs": [],
   "source": [
    "for element in C1:\n",
    "    print(element)"
   ]
  },
  {
   "cell_type": "code",
   "execution_count": 0,
   "metadata": {
    "application/vnd.databricks.v1+cell": {
     "cellMetadata": {},
     "inputWidgets": {},
     "nuid": "f1539e3a-de1a-4595-93d9-b8c4b7bb2e1d",
     "showTitle": false,
     "title": ""
    },
    "solution2": "hidden"
   },
   "outputs": [],
   "source": [
    "F=set()\n",
    "V=set()\n",
    "SC=CtoFV.copy()\n",
    "\n",
    "while len(SC)>0:\n",
    "    ol=SC.copy()\n",
    "    for fv in ol:\n",
    "        print(fv)\n",
    "        L=input(\" es fruta (marque F) o Verdura (marque V)\")\n",
    "        if L.upper()==\"F\":        \n",
    "            SC.remove(fv)\n",
    "            F.add(fv)\n",
    "        elif L.upper()==\"V\":\n",
    "            SC.remove(fv)\n",
    "            V.add(fv)\n",
    "        else:\n",
    "            print(\"Esa respuesta no fue correcta\")\n",
    "    print(\"Frutas: \",F)\n",
    "    print(\"Verduras: \",V)\n",
    "    print(\"Sin clasificar: \",SC)"
   ]
  },
  {
   "cell_type": "markdown",
   "metadata": {
    "application/vnd.databricks.v1+cell": {
     "cellMetadata": {},
     "inputWidgets": {},
     "nuid": "f25a5aff-f9f3-448d-b3e0-d27e92d23e94",
     "showTitle": false,
     "title": ""
    }
   },
   "source": [
    "# Diccionarios\n",
    "Un diccionario es una colección de elementos indexable, sin orden y modificable. Se escriben entre corchetes y los elementos cuentan con un identificador que llamamos clave o \"key\". \n"
   ]
  },
  {
   "cell_type": "code",
   "execution_count": 0,
   "metadata": {
    "application/vnd.databricks.v1+cell": {
     "cellMetadata": {},
     "inputWidgets": {},
     "nuid": "5412a1f0-c0cc-4419-a514-7dedde9ace8d",
     "showTitle": false,
     "title": ""
    }
   },
   "outputs": [],
   "source": [
    "UEC={\"Nombre\": \"Universidad Externado de Colombia\", \"Año de fundación\":\"1886\",\n",
    "              \"Fundador\":\"Nicolás Pinzón Warlosten\" ,\"Sitio web\":\"http://www.uexternado.edu.co\",\n",
    "              \"Facultades\":{ \"Administración de Empresas\",\n",
    "                            \"Administración de Empresas Turísticas y Hoteleras\",\n",
    "                            \"Ciencias de la Educación\",\"Ciencias Sociales y Humanas\",\n",
    "                            \"Comunicación Social - Periodismo\",\"Contaduría Pública\",\"Derecho\",\n",
    "                            \"Economía\",\"Estudios del Patrimonio Cultural\",\"Finanzas, Gobierno y Relaciones Internacionales\"}}"
   ]
  },
  {
   "cell_type": "code",
   "execution_count": 0,
   "metadata": {
    "application/vnd.databricks.v1+cell": {
     "cellMetadata": {},
     "inputWidgets": {},
     "nuid": "7f6db604-4e6a-4c2b-91ae-2bbd0314ce8e",
     "showTitle": false,
     "title": ""
    }
   },
   "outputs": [],
   "source": [
    "UEC[\"Nombre\"]"
   ]
  },
  {
   "cell_type": "code",
   "execution_count": 0,
   "metadata": {
    "application/vnd.databricks.v1+cell": {
     "cellMetadata": {},
     "inputWidgets": {},
     "nuid": "48c1dbf7-6b3a-4022-879f-ef3e914362a3",
     "showTitle": false,
     "title": ""
    }
   },
   "outputs": [],
   "source": [
    "UEC[\"Facultades\"]"
   ]
  },
  {
   "cell_type": "code",
   "execution_count": 0,
   "metadata": {
    "application/vnd.databricks.v1+cell": {
     "cellMetadata": {},
     "inputWidgets": {},
     "nuid": "6bf7325c-57b0-416b-9d9f-5d8f92bc54d6",
     "showTitle": false,
     "title": ""
    }
   },
   "outputs": [],
   "source": [
    "UEC[1]"
   ]
  },
  {
   "cell_type": "code",
   "execution_count": 0,
   "metadata": {
    "application/vnd.databricks.v1+cell": {
     "cellMetadata": {},
     "inputWidgets": {},
     "nuid": "707c4f4f-3814-422e-88d0-c39e07eb9b4e",
     "showTitle": false,
     "title": ""
    }
   },
   "outputs": [],
   "source": [
    "UEC[\"Departamentos\"]=[\"Departamento de Matemáticas\",\"Departamento de Lenguas\"]"
   ]
  },
  {
   "cell_type": "code",
   "execution_count": 0,
   "metadata": {
    "application/vnd.databricks.v1+cell": {
     "cellMetadata": {},
     "inputWidgets": {},
     "nuid": "a0094b69-c93f-4461-8673-60d9938ab8e4",
     "showTitle": false,
     "title": ""
    }
   },
   "outputs": [],
   "source": [
    "UEC"
   ]
  },
  {
   "cell_type": "code",
   "execution_count": 0,
   "metadata": {
    "application/vnd.databricks.v1+cell": {
     "cellMetadata": {},
     "inputWidgets": {},
     "nuid": "c2308834-461f-4a27-b685-8d209919d4eb",
     "showTitle": false,
     "title": ""
    }
   },
   "outputs": [],
   "source": [
    "UEC[\"Departamentos\"][0]"
   ]
  },
  {
   "cell_type": "code",
   "execution_count": 0,
   "metadata": {
    "application/vnd.databricks.v1+cell": {
     "cellMetadata": {},
     "inputWidgets": {},
     "nuid": "2f193c22-135c-41a0-b7b0-7a0c21938f98",
     "showTitle": false,
     "title": ""
    }
   },
   "outputs": [],
   "source": [
    "UEC[\"Facultades\"][0]"
   ]
  },
  {
   "cell_type": "code",
   "execution_count": 0,
   "metadata": {
    "application/vnd.databricks.v1+cell": {
     "cellMetadata": {},
     "inputWidgets": {},
     "nuid": "d1398e0f-57e2-4a0a-a472-7f22833d7f57",
     "showTitle": false,
     "title": ""
    }
   },
   "outputs": [],
   "source": [
    "Datos={'Nombre':'Isaac Zainea',\n",
    "       'Intereses':{'Académicos':{'PLN','ATD'},\n",
    "                   'Hobbies':{'Música','Dormir'}}}"
   ]
  },
  {
   "cell_type": "code",
   "execution_count": 0,
   "metadata": {
    "application/vnd.databricks.v1+cell": {
     "cellMetadata": {},
     "inputWidgets": {},
     "nuid": "61e0c1de-c9dd-4164-be81-3bc36474d117",
     "showTitle": false,
     "title": ""
    }
   },
   "outputs": [],
   "source": [
    "Datos['Intereses']['Hobbies']"
   ]
  }
 ],
 "metadata": {
  "application/vnd.databricks.v1+notebook": {
   "dashboards": [],
   "language": "python",
   "notebookMetadata": {},
   "notebookName": "Listas y arreglos de Python-checkpoint",
   "widgets": {}
  },
  "kernelspec": {
   "display_name": "Python 3",
   "language": "python",
   "name": "python3"
  },
  "language_info": {
   "codemirror_mode": {
    "name": "ipython",
    "version": 3
   },
   "file_extension": ".py",
   "mimetype": "text/x-python",
   "name": "python",
   "nbconvert_exporter": "python",
   "pygments_lexer": "ipython3",
   "version": "3.8.5"
  },
  "toc": {
   "base_numbering": 1,
   "nav_menu": {},
   "number_sections": false,
   "sideBar": true,
   "skip_h1_title": false,
   "title_cell": "Table of Contents",
   "title_sidebar": "Contents",
   "toc_cell": false,
   "toc_position": {
    "height": "calc(100% - 180px)",
    "left": "10px",
    "top": "150px",
    "width": "217.933px"
   },
   "toc_section_display": true,
   "toc_window_display": false
  }
 },
 "nbformat": 4,
 "nbformat_minor": 0
}
