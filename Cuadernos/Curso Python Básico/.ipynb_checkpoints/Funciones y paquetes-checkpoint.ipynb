{
 "cells": [
  {
   "cell_type": "markdown",
   "metadata": {
    "application/vnd.databricks.v1+cell": {
     "cellMetadata": {},
     "inputWidgets": {},
     "nuid": "f3103b6e-a1b1-4cb8-b4d9-aff1fe5a47a2",
     "showTitle": false,
     "title": ""
    }
   },
   "source": [
    "# Funciones y paquetes\n",
    "\n",
    "*Carlos Isaac Zainea Maya*\n",
    "\n",
    "Python cuenta con una cantidad innumerable de aportes de toda la comunidad dispuestos en archivos (modulos) guardados en algunas carpetas (paquetes). Un elemento importante de estos aportes son las funciones y las clases, de hecho, en una cantidad significativa de ejemplos los desarrolladores buscan una función o clases para apoyar sus creaciones.\n",
    "\n",
    "En este cuaderno estudiaremos ese componente fundamental de varios bloques de código, *las funciones* y conversaremos acerca de la instalación, inspección y carga de paquetes."
   ]
  },
  {
   "cell_type": "markdown",
   "metadata": {
    "application/vnd.databricks.v1+cell": {
     "cellMetadata": {},
     "inputWidgets": {},
     "nuid": "109aa8ea-a063-4c1a-9cc3-2026c7def3bd",
     "showTitle": false,
     "title": ""
    }
   },
   "source": [
    "## Funciones\n",
    "\n",
    "Las funciones son bloques de código en la cuál la máquina espera uno o varios argumentos de entrada. De acuerdo con lo que recibe, se ejecutan unos pasos y finalmente se produce un argumento de salida.\n",
    "\n",
    "La estructura para definirlas es la siguiente:\n",
    "\n",
    ">def nombre_de_la_funcion(ENTRADA):\n",
    "\n",
    ">    Pasos a realizar\n",
    "\n",
    ">    return SALIDA\n"
   ]
  },
  {
   "cell_type": "markdown",
   "metadata": {
    "application/vnd.databricks.v1+cell": {
     "cellMetadata": {},
     "inputWidgets": {},
     "nuid": "4b57fcb5-091d-4677-83b3-212d3f919e8d",
     "showTitle": false,
     "title": ""
    }
   },
   "source": [
    "Hay una lista de funciones construidas en Python. En este [link](https://docs.python.org/3/library/functions.html), se encuentra un manual de todas las funciones básicas de Python.\n",
    "\n",
    "Veamos algunas de ellas:\n"
   ]
  },
  {
   "cell_type": "markdown",
   "metadata": {
    "application/vnd.databricks.v1+cell": {
     "cellMetadata": {},
     "inputWidgets": {},
     "nuid": "78469929-0750-422c-a57a-bc3df18c21ee",
     "showTitle": false,
     "title": ""
    }
   },
   "source": [
    "**Ejemplo 1** Funciones predefinidas en Python."
   ]
  },
  {
   "cell_type": "markdown",
   "metadata": {
    "application/vnd.databricks.v1+cell": {
     "cellMetadata": {},
     "inputWidgets": {},
     "nuid": "9bb731c7-9cf4-487b-8595-5909176a7eab",
     "showTitle": false,
     "title": ""
    }
   },
   "source": [
    "`all()` y `any()` "
   ]
  },
  {
   "cell_type": "code",
   "execution_count": 0,
   "metadata": {
    "application/vnd.databricks.v1+cell": {
     "cellMetadata": {},
     "inputWidgets": {},
     "nuid": "50af62d9-5baa-4ce8-9def-59cb11f75c78",
     "showTitle": false,
     "title": ""
    }
   },
   "outputs": [],
   "source": [
    "y=[4<1,5<6,6<7]\n",
    "all(y)"
   ]
  },
  {
   "cell_type": "code",
   "execution_count": 0,
   "metadata": {
    "application/vnd.databricks.v1+cell": {
     "cellMetadata": {},
     "inputWidgets": {},
     "nuid": "6a5a8471-9528-4d08-abc7-926846e5e8e8",
     "showTitle": false,
     "title": ""
    }
   },
   "outputs": [],
   "source": [
    "y=[4>1,5<6,6<7]\n",
    "all(y)"
   ]
  },
  {
   "cell_type": "code",
   "execution_count": 0,
   "metadata": {
    "application/vnd.databricks.v1+cell": {
     "cellMetadata": {},
     "inputWidgets": {},
     "nuid": "5ca16d4e-7cb3-40f7-ad1f-79a4906be556",
     "showTitle": false,
     "title": ""
    }
   },
   "outputs": [],
   "source": [
    "y=[4<1,5<6,6<7]\n",
    "any(y)"
   ]
  },
  {
   "cell_type": "code",
   "execution_count": 0,
   "metadata": {
    "application/vnd.databricks.v1+cell": {
     "cellMetadata": {},
     "inputWidgets": {},
     "nuid": "f2ef8033-b0a6-4fb6-b630-81684fe75ef7",
     "showTitle": false,
     "title": ""
    }
   },
   "outputs": [],
   "source": [
    "y=[4<1,8<6,9<7]\n",
    "any(y)"
   ]
  },
  {
   "cell_type": "code",
   "execution_count": 0,
   "metadata": {
    "application/vnd.databricks.v1+cell": {
     "cellMetadata": {},
     "inputWidgets": {},
     "nuid": "0fe75626-4a73-43a1-b39d-2c4ecd5283bf",
     "showTitle": false,
     "title": ""
    }
   },
   "outputs": [],
   "source": [
    "all((1,1,1))"
   ]
  },
  {
   "cell_type": "code",
   "execution_count": 0,
   "metadata": {
    "application/vnd.databricks.v1+cell": {
     "cellMetadata": {},
     "inputWidgets": {},
     "nuid": "b969e46b-7ce5-4078-9719-d23c8a3d707d",
     "showTitle": false,
     "title": ""
    }
   },
   "outputs": [],
   "source": [
    "mydict = { 1 : \"Orange\"}\n",
    "all(mydict)"
   ]
  },
  {
   "cell_type": "markdown",
   "metadata": {
    "application/vnd.databricks.v1+cell": {
     "cellMetadata": {},
     "inputWidgets": {},
     "nuid": "740607f4-2a83-41c8-9f44-0c600570d80c",
     "showTitle": false,
     "title": ""
    }
   },
   "source": [
    "`dict()`"
   ]
  },
  {
   "cell_type": "code",
   "execution_count": 0,
   "metadata": {
    "application/vnd.databricks.v1+cell": {
     "cellMetadata": {},
     "inputWidgets": {},
     "nuid": "bcf99d95-8e84-4a8a-83c6-39d27a0549a5",
     "showTitle": false,
     "title": ""
    }
   },
   "outputs": [],
   "source": [
    "dict(nombre='Isaac',intereses=['Academicos','Profesionales'])"
   ]
  },
  {
   "cell_type": "code",
   "execution_count": 0,
   "metadata": {
    "application/vnd.databricks.v1+cell": {
     "cellMetadata": {},
     "inputWidgets": {},
     "nuid": "40c8bf14-e6ca-4333-bb77-34f49460d812",
     "showTitle": false,
     "title": ""
    }
   },
   "outputs": [],
   "source": [
    "a = dict(one=1, two=2, three=3)\n",
    "b = {'one': 1, 'two': 2, 'three': 3}\n",
    "c = dict(zip(['one', 'two', 'three'], [1, 2, 3]))\n",
    "d = dict([('two', 2), ('one', 1), ('three', 3)])\n",
    "e = {'three': 3, 'one': 1, 'two': 2}\n",
    "print(a == b == c == d == e)\n",
    "print(e)"
   ]
  },
  {
   "cell_type": "code",
   "execution_count": 0,
   "metadata": {
    "application/vnd.databricks.v1+cell": {
     "cellMetadata": {},
     "inputWidgets": {},
     "nuid": "e32e7102-5cca-4985-aa69-82432b6f7faa",
     "showTitle": false,
     "title": ""
    }
   },
   "outputs": [],
   "source": [
    "list(zip(['one', 'two', 'three'], [1, 2, 3]))"
   ]
  },
  {
   "cell_type": "code",
   "execution_count": 0,
   "metadata": {
    "application/vnd.databricks.v1+cell": {
     "cellMetadata": {},
     "inputWidgets": {},
     "nuid": "33bb288c-0881-4216-81f6-b56c089a3295",
     "showTitle": false,
     "title": ""
    }
   },
   "outputs": [],
   "source": [
    "a = dict(one={1}, two={2,2}, three={3,3,3})\n",
    "a"
   ]
  },
  {
   "cell_type": "markdown",
   "metadata": {
    "application/vnd.databricks.v1+cell": {
     "cellMetadata": {},
     "inputWidgets": {},
     "nuid": "30df3df0-1d7a-40e5-8223-8161693d8602",
     "showTitle": false,
     "title": ""
    }
   },
   "source": [
    "`abs()`"
   ]
  },
  {
   "cell_type": "code",
   "execution_count": 0,
   "metadata": {
    "application/vnd.databricks.v1+cell": {
     "cellMetadata": {},
     "inputWidgets": {},
     "nuid": "fea54983-6cbb-4490-8999-6748f431ee44",
     "showTitle": false,
     "title": ""
    }
   },
   "outputs": [],
   "source": [
    "print(abs(10))\n",
    "abs(10)==abs(-10)"
   ]
  },
  {
   "cell_type": "markdown",
   "metadata": {
    "application/vnd.databricks.v1+cell": {
     "cellMetadata": {},
     "inputWidgets": {},
     "nuid": "f5c61577-67aa-4064-8021-ac17b10ac97a",
     "showTitle": false,
     "title": ""
    }
   },
   "source": [
    "`eval()`"
   ]
  },
  {
   "cell_type": "code",
   "execution_count": 0,
   "metadata": {
    "application/vnd.databricks.v1+cell": {
     "cellMetadata": {},
     "inputWidgets": {},
     "nuid": "162c80cd-5756-451a-a906-349c613b97ee",
     "showTitle": false,
     "title": ""
    }
   },
   "outputs": [],
   "source": [
    "x = 6\n",
    "eval('x**2')"
   ]
  },
  {
   "cell_type": "markdown",
   "metadata": {
    "application/vnd.databricks.v1+cell": {
     "cellMetadata": {},
     "inputWidgets": {},
     "nuid": "65cf1b8d-30d5-4752-a33b-19fe13fc7e59",
     "showTitle": false,
     "title": ""
    }
   },
   "source": [
    "`map()`"
   ]
  },
  {
   "cell_type": "code",
   "execution_count": 0,
   "metadata": {
    "application/vnd.databricks.v1+cell": {
     "cellMetadata": {},
     "inputWidgets": {},
     "nuid": "48d3e674-bc19-4859-81c2-cf5dedbcd0b7",
     "showTitle": false,
     "title": ""
    }
   },
   "outputs": [],
   "source": [
    "x=map(len, {'apple', 'blueberry', 'cherry'}) \n",
    "list(x)"
   ]
  },
  {
   "cell_type": "markdown",
   "metadata": {
    "application/vnd.databricks.v1+cell": {
     "cellMetadata": {},
     "inputWidgets": {},
     "nuid": "f00890fa-af03-4b7a-81f5-d2731d676f01",
     "showTitle": false,
     "title": ""
    }
   },
   "source": [
    "`reversed`"
   ]
  },
  {
   "cell_type": "code",
   "execution_count": 0,
   "metadata": {
    "application/vnd.databricks.v1+cell": {
     "cellMetadata": {},
     "inputWidgets": {},
     "nuid": "214d3cab-1952-40bc-b918-94fac2b5a093",
     "showTitle": false,
     "title": ""
    }
   },
   "outputs": [],
   "source": [
    "x=[1,2,3]\n",
    "y=reversed(x)\n",
    "list(y)"
   ]
  },
  {
   "cell_type": "code",
   "execution_count": 0,
   "metadata": {
    "application/vnd.databricks.v1+cell": {
     "cellMetadata": {},
     "inputWidgets": {},
     "nuid": "eadb0604-cef8-4976-ae4d-363ddce33000",
     "showTitle": false,
     "title": ""
    }
   },
   "outputs": [],
   "source": [
    "x=\"CursoPython\"\n",
    "y=reversed(x)\n",
    "z=list(y)\n",
    "print(z)"
   ]
  },
  {
   "cell_type": "code",
   "execution_count": 0,
   "metadata": {
    "application/vnd.databricks.v1+cell": {
     "cellMetadata": {},
     "inputWidgets": {},
     "nuid": "8a5f1e73-dea7-42e4-b686-ae9eb997a653",
     "showTitle": false,
     "title": ""
    }
   },
   "outputs": [],
   "source": [
    "y=\"\".join(z)\n",
    "x=reversed(y)\n",
    "z=list(x)\n",
    "z=\"\".join(z)\n",
    "print(z)"
   ]
  },
  {
   "cell_type": "code",
   "execution_count": 0,
   "metadata": {
    "application/vnd.databricks.v1+cell": {
     "cellMetadata": {},
     "inputWidgets": {},
     "nuid": "3345beea-af4d-4055-929f-8c8471f4a65f",
     "showTitle": false,
     "title": ""
    }
   },
   "outputs": [],
   "source": [
    "\"Cuaderno Python\".count(\"n\")"
   ]
  },
  {
   "cell_type": "code",
   "execution_count": 0,
   "metadata": {
    "application/vnd.databricks.v1+cell": {
     "cellMetadata": {},
     "inputWidgets": {},
     "nuid": "633824d1-655f-49d9-9633-e03c3c00ca1a",
     "showTitle": false,
     "title": ""
    }
   },
   "outputs": [],
   "source": [
    "\"Cuaderno Python\".index(\"a\")"
   ]
  },
  {
   "cell_type": "code",
   "execution_count": 0,
   "metadata": {
    "application/vnd.databricks.v1+cell": {
     "cellMetadata": {},
     "inputWidgets": {},
     "nuid": "1df4530d-f31b-4332-96e2-070c1cd2de7a",
     "showTitle": false,
     "title": ""
    }
   },
   "outputs": [],
   "source": [
    "Z=\"Cuaderno de Python hecho en jupyter\".split()\n",
    "Z"
   ]
  },
  {
   "cell_type": "code",
   "execution_count": 0,
   "metadata": {
    "application/vnd.databricks.v1+cell": {
     "cellMetadata": {},
     "inputWidgets": {},
     "nuid": "8b1a7a89-45eb-4ceb-99af-da9f72045317",
     "showTitle": false,
     "title": ""
    }
   },
   "outputs": [],
   "source": [
    "\"20%\".join(Z)"
   ]
  },
  {
   "cell_type": "code",
   "execution_count": 0,
   "metadata": {
    "application/vnd.databricks.v1+cell": {
     "cellMetadata": {},
     "inputWidgets": {},
     "nuid": "0fb4575c-c3fc-4692-9e08-63f58dbceac7",
     "showTitle": false,
     "title": ""
    }
   },
   "outputs": [],
   "source": [
    "\"Carta\".replace(\"a\",\"o\")"
   ]
  },
  {
   "cell_type": "code",
   "execution_count": 0,
   "metadata": {
    "application/vnd.databricks.v1+cell": {
     "cellMetadata": {},
     "inputWidgets": {},
     "nuid": "0a5aabf3-9fb7-401f-b390-244581e3291c",
     "showTitle": false,
     "title": ""
    }
   },
   "outputs": [],
   "source": [
    "\"Canción\".replace(\"ó\",\"o\")"
   ]
  },
  {
   "cell_type": "markdown",
   "metadata": {
    "application/vnd.databricks.v1+cell": {
     "cellMetadata": {},
     "inputWidgets": {},
     "nuid": "35c7bb14-0649-4744-bb16-c3e1bf8beb6e",
     "showTitle": false,
     "title": ""
    }
   },
   "source": [
    "`print()` y `format`"
   ]
  },
  {
   "cell_type": "code",
   "execution_count": 0,
   "metadata": {
    "application/vnd.databricks.v1+cell": {
     "cellMetadata": {},
     "inputWidgets": {},
     "nuid": "db3e1a02-6a7d-4ec8-828d-109be5417a6d",
     "showTitle": false,
     "title": ""
    }
   },
   "outputs": [],
   "source": [
    "\"Hola {0}, tu saldo es {1:.3f}\".format(\"Juan\",321.43212)"
   ]
  },
  {
   "cell_type": "code",
   "execution_count": 0,
   "metadata": {
    "application/vnd.databricks.v1+cell": {
     "cellMetadata": {},
     "inputWidgets": {},
     "nuid": "66701b8a-c12e-40d8-98a1-be5b5a410286",
     "showTitle": false,
     "title": ""
    }
   },
   "outputs": [],
   "source": []
  },
  {
   "cell_type": "code",
   "execution_count": 0,
   "metadata": {
    "application/vnd.databricks.v1+cell": {
     "cellMetadata": {},
     "inputWidgets": {},
     "nuid": "a2f753a0-c4a1-4c73-9b36-86d1d451016d",
     "showTitle": false,
     "title": ""
    }
   },
   "outputs": [],
   "source": [
    "N=input(\"Tu nombre\")\n",
    "S=input(\"Tu saldo\")\n",
    "S=float(S)\n",
    "if S>200000:\n",
    "    print(\"Hola {name}, tu saldo es {saldo:.2f}, afortunadamente {name} viviras otra semana y se te dará un premio.\".format(name=N,saldo=S))\n",
    "else:\n",
    "    print(\"Hola {name}, tu saldo es {saldo:.2f}, recuerda {name} que hay que ahorrar.\".format(name=N,saldo=S))"
   ]
  },
  {
   "cell_type": "code",
   "execution_count": 0,
   "metadata": {
    "application/vnd.databricks.v1+cell": {
     "cellMetadata": {},
     "inputWidgets": {},
     "nuid": "d86da9af-c8a2-41c0-91ba-e06b6dee7f41",
     "showTitle": false,
     "title": ""
    }
   },
   "outputs": [],
   "source": [
    "print(\"Hola {0}, tu saldo es {1:9.3f}\".format(\"Pedro\",320000.2))"
   ]
  },
  {
   "cell_type": "code",
   "execution_count": 0,
   "metadata": {
    "application/vnd.databricks.v1+cell": {
     "cellMetadata": {},
     "inputWidgets": {},
     "nuid": "9d1026ed-3c1f-4713-ac14-480349ac838c",
     "showTitle": false,
     "title": ""
    }
   },
   "outputs": [],
   "source": [
    "# integer arguments\n",
    "print(\"El número es:{:d}\".format(123))\n",
    "\n",
    "# float arguments\n",
    "print(\"El número con dos decimales:{:.2f}\".format(123.4567898))\n",
    "\n",
    "# octal, binary and hexadecimal format\n",
    "print(\"bin: {0:b}, oct: {0:o}, hex: {0:x}\".format(12))\n",
    "\n",
    "#exp notation, % notation\n",
    "print(\"Exp Notation: {0:.2e},% Notation: {0:.1%}\".format(0.12))"
   ]
  },
  {
   "cell_type": "code",
   "execution_count": 0,
   "metadata": {
    "application/vnd.databricks.v1+cell": {
     "cellMetadata": {},
     "inputWidgets": {},
     "nuid": "90289a9e-fdc6-4e7e-9d80-e6445dadbc1c",
     "showTitle": false,
     "title": ""
    }
   },
   "outputs": [],
   "source": [
    "\n",
    "txt = \"The universe is {:,} years old.\"\n",
    "\n",
    "print(txt.format(13800000000))\n"
   ]
  },
  {
   "cell_type": "code",
   "execution_count": 0,
   "metadata": {
    "application/vnd.databricks.v1+cell": {
     "cellMetadata": {},
     "inputWidgets": {},
     "nuid": "a0c1f421-f5e8-4f67-ade7-32500bb6aaa6",
     "showTitle": false,
     "title": ""
    }
   },
   "outputs": [],
   "source": [
    "Nombres=[\"Juan\",\"Pedro\",\"Carlos\"]\n",
    "Saldos=[100,200,300]\n",
    "\n",
    "N=input(\"Nombre\")\n",
    "ind=Nombres.index(N)\n",
    "\n",
    "print(\"Hola {name}, tu saldo es {saldo:.2f}.\".format(name=Nombres[ind],saldo=Saldos[ind]))"
   ]
  },
  {
   "cell_type": "markdown",
   "metadata": {
    "application/vnd.databricks.v1+cell": {
     "cellMetadata": {},
     "inputWidgets": {},
     "nuid": "a100f73a-6e13-492e-aa6f-df5fe3a3447e",
     "showTitle": false,
     "title": ""
    }
   },
   "source": [
    "`min(), max(), sum() `"
   ]
  },
  {
   "cell_type": "code",
   "execution_count": 0,
   "metadata": {
    "application/vnd.databricks.v1+cell": {
     "cellMetadata": {},
     "inputWidgets": {},
     "nuid": "76b2e16d-325e-4056-8a23-91bc016f8c5e",
     "showTitle": false,
     "title": ""
    }
   },
   "outputs": [],
   "source": [
    "print(min(range(10)))\n",
    "print(max(range(10)))\n",
    "print(sum(range(10)))"
   ]
  },
  {
   "cell_type": "markdown",
   "metadata": {
    "application/vnd.databricks.v1+cell": {
     "cellMetadata": {},
     "inputWidgets": {},
     "nuid": "6ef79fcd-f67c-44ad-b20c-2fcd5ad4ead9",
     "showTitle": false,
     "title": ""
    }
   },
   "source": [
    "\n",
    "**Ejemplo 2** También podemos  crear funciones, el siguiente código define una función que recibe un texto y en su parte final pone lo que mide:"
   ]
  },
  {
   "cell_type": "code",
   "execution_count": 0,
   "metadata": {
    "application/vnd.databricks.v1+cell": {
     "cellMetadata": {},
     "inputWidgets": {},
     "nuid": "5a472c49-e885-4f98-81ba-34e53dae3a67",
     "showTitle": false,
     "title": ""
    }
   },
   "outputs": [],
   "source": [
    "def cuantomide(texto):\n",
    "    n=len(texto)\n",
    "    print(texto, \"tiene\",n,\"caracteres\")\n",
    "    return n"
   ]
  },
  {
   "cell_type": "code",
   "execution_count": 0,
   "metadata": {
    "application/vnd.databricks.v1+cell": {
     "cellMetadata": {},
     "inputWidgets": {},
     "nuid": "8be3e923-aee0-4d01-9947-980d2c9d543b",
     "showTitle": false,
     "title": ""
    }
   },
   "outputs": [],
   "source": [
    "cuantomide(\"Universidad Externado\")"
   ]
  },
  {
   "cell_type": "markdown",
   "metadata": {
    "application/vnd.databricks.v1+cell": {
     "cellMetadata": {},
     "inputWidgets": {},
     "nuid": "bc589f12-f9aa-45b2-af81-07c499279841",
     "showTitle": false,
     "title": ""
    }
   },
   "source": [
    "Veamos que dice acerca de la frase \"Curso de Python Básico\":\n"
   ]
  },
  {
   "cell_type": "code",
   "execution_count": 0,
   "metadata": {
    "application/vnd.databricks.v1+cell": {
     "cellMetadata": {},
     "inputWidgets": {},
     "nuid": "9b6bf7e2-d582-4e7b-84df-f481ab5f2ca3",
     "showTitle": false,
     "title": ""
    }
   },
   "outputs": [],
   "source": [
    "cuantomide(\"Curso de Python Básico\")"
   ]
  },
  {
   "cell_type": "markdown",
   "metadata": {
    "application/vnd.databricks.v1+cell": {
     "cellMetadata": {},
     "inputWidgets": {},
     "nuid": "913f6638-c585-41e3-955b-904adcf01af8",
     "showTitle": false,
     "title": ""
    }
   },
   "source": [
    "Observe que la salida de la función corresponde a la cantidad de caracteres, la frase hace parte de lo que ejecuta la función (en este caso `print`) sin embargo no aporta al resultado."
   ]
  },
  {
   "cell_type": "markdown",
   "metadata": {
    "application/vnd.databricks.v1+cell": {
     "cellMetadata": {},
     "inputWidgets": {},
     "nuid": "67deada1-efc1-4f18-91b5-1d6b8f6df431",
     "showTitle": false,
     "title": ""
    }
   },
   "source": [
    "Algunas funciones útiles:"
   ]
  },
  {
   "cell_type": "code",
   "execution_count": 0,
   "metadata": {
    "application/vnd.databricks.v1+cell": {
     "cellMetadata": {},
     "inputWidgets": {},
     "nuid": "1b16cd55-d9ca-4bed-b843-69e8912660f5",
     "showTitle": false,
     "title": ""
    }
   },
   "outputs": [],
   "source": [
    "def soyadulto(x):\n",
    "  if x < 18:\n",
    "    return False\n",
    "  else:\n",
    "    return True"
   ]
  },
  {
   "cell_type": "code",
   "execution_count": 0,
   "metadata": {
    "application/vnd.databricks.v1+cell": {
     "cellMetadata": {},
     "inputWidgets": {},
     "nuid": "c982a4dc-6cf8-4ac5-8229-0dfa50a98d78",
     "showTitle": false,
     "title": ""
    }
   },
   "outputs": [],
   "source": [
    "soyadulto(15)"
   ]
  },
  {
   "cell_type": "code",
   "execution_count": 0,
   "metadata": {
    "application/vnd.databricks.v1+cell": {
     "cellMetadata": {},
     "inputWidgets": {},
     "nuid": "f04f7d65-b260-4f3c-88c6-84e885d57187",
     "showTitle": false,
     "title": ""
    }
   },
   "outputs": [],
   "source": [
    "edades = [5, 12, 17, 18, 24, 32]\n",
    "\n",
    "def soyadulto(x):\n",
    "  if x < 18:\n",
    "    return False\n",
    "  else:\n",
    "    return True\n",
    "\n",
    "adultos = filter(soyadulto, edades)\n",
    "\n",
    "for x in adultos:\n",
    "  print(x) "
   ]
  },
  {
   "cell_type": "code",
   "execution_count": 0,
   "metadata": {
    "application/vnd.databricks.v1+cell": {
     "cellMetadata": {},
     "inputWidgets": {},
     "nuid": "365e20e7-ebaf-4166-b794-7d17501b9eba",
     "showTitle": false,
     "title": ""
    }
   },
   "outputs": [],
   "source": [
    "def sumar5ydividirpor10(x):\n",
    "    y=(x+5)/10\n",
    "    return y"
   ]
  },
  {
   "cell_type": "code",
   "execution_count": 0,
   "metadata": {
    "application/vnd.databricks.v1+cell": {
     "cellMetadata": {},
     "inputWidgets": {},
     "nuid": "749b11ae-b877-4762-a1ed-807f72b389e7",
     "showTitle": false,
     "title": ""
    }
   },
   "outputs": [],
   "source": [
    "sumar5ydividirpor10(15)"
   ]
  },
  {
   "cell_type": "markdown",
   "metadata": {
    "application/vnd.databricks.v1+cell": {
     "cellMetadata": {},
     "inputWidgets": {},
     "nuid": "2c023f81-701d-478a-9d9a-79e48acabcd7",
     "showTitle": false,
     "title": ""
    }
   },
   "source": [
    "# Inspección, Instalación y Carga de Módulos y Paquetes\n",
    "\n",
    "\n",
    "\n",
    "Los módulos y paquetes de Python son funciones útiles que ya han sido creadas y están a nuestra disposición en la nube. Dependiendo del ambiente de trabajo usado, tenemos diferente cantidad de **paquetes** instalados. \n",
    "\n",
    "En la primera instalación de Anaconda y jupyter se instalaron varios paquetes, para verlos usamos la siguiente linea de código:"
   ]
  },
  {
   "cell_type": "code",
   "execution_count": 0,
   "metadata": {
    "application/vnd.databricks.v1+cell": {
     "cellMetadata": {},
     "inputWidgets": {},
     "nuid": "086012bb-6e7a-4a2e-842a-ed61df9bd0dd",
     "showTitle": false,
     "title": ""
    }
   },
   "outputs": [],
   "source": [
    "# Recuerda que # es para usar comentarios\n",
    "# Versión Actual de Python siendo usada\n",
    "!python --version\n",
    "# Función print para dar un salto de línea\n",
    "#!conda list"
   ]
  },
  {
   "cell_type": "markdown",
   "metadata": {
    "application/vnd.databricks.v1+cell": {
     "cellMetadata": {},
     "inputWidgets": {},
     "nuid": "f99f8fda-5efe-43c1-bc19-c2d3bb5c99cb",
     "showTitle": false,
     "title": ""
    }
   },
   "source": [
    "¡Aparecen un montón! entre los más importantes están:\n",
    "\n",
    "* Numpy\n",
    "* Scipy\n",
    "* Pandas\n",
    "* Sympy\n",
    "* Matplotlib\n",
    "\n",
    "Dentro de cada uno de estos paquetes se encuentran **modulos**, que juntos forman la librería de módulos disponibles en el ambiente de trabajo. \n",
    "\n",
    "Si alguno de los anteriores paquetes no aparece en la lista se puenden instalar escribiendo en una celda de código:\n",
    "\n",
    "`!pip install <nombre_paquete>`\n",
    "\n",
    "o\n",
    "\n",
    "`!conda install <nombre_paquete>`\n",
    "\n",
    "Uno que siempre falta es sympy, lo instalamos entonces:"
   ]
  },
  {
   "cell_type": "code",
   "execution_count": 0,
   "metadata": {
    "application/vnd.databricks.v1+cell": {
     "cellMetadata": {},
     "inputWidgets": {},
     "nuid": "0a13e996-4c0a-48ad-8ef8-607c39b5d7dd",
     "showTitle": false,
     "title": ""
    }
   },
   "outputs": [],
   "source": [
    "!pip install vyper"
   ]
  },
  {
   "cell_type": "markdown",
   "metadata": {
    "application/vnd.databricks.v1+cell": {
     "cellMetadata": {},
     "inputWidgets": {},
     "nuid": "40053074-9a66-4637-bee3-1d7301295642",
     "showTitle": false,
     "title": ""
    }
   },
   "source": [
    "\n",
    "## Qué es un módulo y como se usa:\n",
    "\n",
    "Un módulo es un archivo que tiene extensión *.py*, es decir, un archivo de texto que contiene código de python que se puede ejecutar. Un módulo puede definir funciones, clases y variables.\n",
    "\n",
    "Cabe resaltar lo siguiente: **Python es un lenguaje de programación orientado a objetos**.\n",
    "\n",
    "Para términos de visualización, imagínese una caja que tiene muchas cajas por dentro y dentro de cada caja existen herramientas de trabajo distintas.\n",
    "\n",
    "**Ejemplo:**\n",
    "\n",
    "Mi maleta. Mi maleta tiene dentro lo siguiente:\n",
    "\n",
    "- Una cartuchera.\n",
    "- Un computador.\n",
    "- Un cuaderno.\n",
    "\n",
    "Los roles serían los siguientes:\n",
    "\n",
    "- Maleta     $\\rightarrow$ Paquete\n",
    "- Cartuchera $\\rightarrow$ Módulo\n",
    "- Cuaderno   $\\rightarrow$ Módulo\n",
    "\n",
    "Entonces, si queremos usar la cartuchera, debemos primero abrir la maleta y tomarla.\n",
    "\n",
    "**O sea, del paquete, vamos a usar un módulo**.\n",
    "\n",
    "Dentro de la cartuchera tengo marcadores, lápices, y borrador.\n",
    "\n",
    "Estos toman el rol de **atributos**, objetos que hacen tareas específicas.\n",
    "\n",
    "Por tanto, si quiero usar un borrador, debería hacer lo siguiente\n",
    "\n",
    "Abrir maleta $\\rightarrow$ Tomar cartuchera $\\rightarrow$ Abrir Cartuchera $\\rightarrow$ Tomar Borrador\n",
    "\n",
    "En Python, estas acciones se pueden **traducir** a lo siguiente:\n",
    "\n",
    "```import Maleta as mt```\n",
    "\n",
    "```mt.Cartuchera.Borrador()```\n",
    "\n"
   ]
  },
  {
   "cell_type": "markdown",
   "metadata": {
    "application/vnd.databricks.v1+cell": {
     "cellMetadata": {},
     "inputWidgets": {},
     "nuid": "e31c1f81-666c-46d5-8251-96c6fc40f713",
     "showTitle": false,
     "title": ""
    }
   },
   "source": [
    "### Paquete random\n",
    "\n",
    "Veamos alguna documentación de alguno de los módulos y sus atributos.\n",
    "\n",
    "Por ejemplo random."
   ]
  },
  {
   "cell_type": "code",
   "execution_count": 0,
   "metadata": {
    "application/vnd.databricks.v1+cell": {
     "cellMetadata": {},
     "inputWidgets": {},
     "nuid": "0a344e70-dde2-4c66-a16b-7f5ed3fb6bc2",
     "showTitle": false,
     "title": ""
    }
   },
   "outputs": [],
   "source": [
    "#help(\"random\") # Muestra toda la documentación\n",
    "\n",
    "import random\n",
    "\n",
    "?random # Muestra una pequeña documentación"
   ]
  },
  {
   "cell_type": "code",
   "execution_count": 0,
   "metadata": {
    "application/vnd.databricks.v1+cell": {
     "cellMetadata": {},
     "inputWidgets": {},
     "nuid": "d5ffce0f-c331-4458-8b1c-d9527ea75540",
     "showTitle": false,
     "title": ""
    }
   },
   "outputs": [],
   "source": [
    "random.randint(3,15)"
   ]
  },
  {
   "cell_type": "code",
   "execution_count": 0,
   "metadata": {
    "application/vnd.databricks.v1+cell": {
     "cellMetadata": {},
     "inputWidgets": {},
     "nuid": "6eb22c0a-93b5-4f5b-af84-de155d089a61",
     "showTitle": false,
     "title": ""
    }
   },
   "outputs": [],
   "source": [
    "random.sample([\"Pedro\",\"Juan\",\"Carlos\"],2)"
   ]
  },
  {
   "cell_type": "code",
   "execution_count": 0,
   "metadata": {
    "application/vnd.databricks.v1+cell": {
     "cellMetadata": {},
     "inputWidgets": {},
     "nuid": "8277f9e8-78ab-4a98-8514-6172c9129ab5",
     "showTitle": false,
     "title": ""
    }
   },
   "outputs": [],
   "source": [
    "dir(random)"
   ]
  },
  {
   "cell_type": "code",
   "execution_count": 0,
   "metadata": {
    "application/vnd.databricks.v1+cell": {
     "cellMetadata": {},
     "inputWidgets": {},
     "nuid": "f690a032-0e74-4c5f-a4a2-7188a384b6d8",
     "showTitle": false,
     "title": ""
    }
   },
   "outputs": [],
   "source": [
    "random.sample(dir(random),5)"
   ]
  },
  {
   "cell_type": "markdown",
   "metadata": {
    "application/vnd.databricks.v1+cell": {
     "cellMetadata": {},
     "inputWidgets": {},
     "nuid": "712e0033-91d8-44e3-bbfb-07ab4702dd0f",
     "showTitle": false,
     "title": ""
    }
   },
   "source": [
    "El comando `dir(random)` nos permite ver los módulos que podemos usar, observe que aparece la función random, tengo que poner primero el nombre del paquete y luego el nombre de la función:"
   ]
  },
  {
   "cell_type": "code",
   "execution_count": 0,
   "metadata": {
    "application/vnd.databricks.v1+cell": {
     "cellMetadata": {},
     "inputWidgets": {},
     "nuid": "f08a464c-b4a5-49c1-b97d-c65af800c2e3",
     "showTitle": false,
     "title": ""
    }
   },
   "outputs": [],
   "source": [
    "x = random.random()\n",
    "print(\"Número aleatorio en [0,1]: \",x)"
   ]
  },
  {
   "cell_type": "markdown",
   "metadata": {
    "application/vnd.databricks.v1+cell": {
     "cellMetadata": {},
     "inputWidgets": {},
     "nuid": "bfff66db-4d0a-4efc-b3f8-a7c14fb465e3",
     "showTitle": false,
     "title": ""
    }
   },
   "source": [
    "Otra función en random es `randint`"
   ]
  },
  {
   "cell_type": "code",
   "execution_count": 0,
   "metadata": {
    "application/vnd.databricks.v1+cell": {
     "cellMetadata": {},
     "inputWidgets": {},
     "nuid": "ea3553e7-78d3-488b-b56c-c3f988ba2dae",
     "showTitle": false,
     "title": ""
    }
   },
   "outputs": [],
   "source": [
    "?random.randint"
   ]
  },
  {
   "cell_type": "code",
   "execution_count": 0,
   "metadata": {
    "application/vnd.databricks.v1+cell": {
     "cellMetadata": {},
     "inputWidgets": {},
     "nuid": "055ec8fd-4f3e-4f94-9e08-132b939b5003",
     "showTitle": false,
     "title": ""
    }
   },
   "outputs": [],
   "source": [
    "y=random.randint(3,6)\n",
    "print(\"Número entero aleatorio entre 3 y 6: \",y)"
   ]
  },
  {
   "cell_type": "markdown",
   "metadata": {
    "application/vnd.databricks.v1+cell": {
     "cellMetadata": {},
     "inputWidgets": {},
     "nuid": "459be32e-69dc-4fe9-b4e4-c56dca7b2245",
     "showTitle": false,
     "title": ""
    }
   },
   "source": [
    "## Alias para módulos\n",
    "\n",
    "Otra propiedad genial de Python es su capacidad para reducir la cantidad de código escrito usando unos secretos milenarios: aliases.\n",
    "\n",
    "Por ejemplo, si me llamo Daniel, mi **alias** puede ser Dani.\n",
    "\n",
    "Entonces, acada vez que me digan Dani, yo miraré en respuesta.\n",
    "\n",
    "Traducir a Python luce así:\n",
    "\n",
    "```import modulo as alias```\n",
    "\n",
    "**Ejemplo:**"
   ]
  },
  {
   "cell_type": "code",
   "execution_count": 0,
   "metadata": {
    "application/vnd.databricks.v1+cell": {
     "cellMetadata": {},
     "inputWidgets": {},
     "nuid": "282f9e7e-04bd-4d91-b6b1-375e86593972",
     "showTitle": false,
     "title": ""
    }
   },
   "outputs": [],
   "source": [
    "import math as m\n",
    "\n",
    "# Una vez nombrado el alias, siempre se debe referir a ese alias y no al nombre principal\n",
    "\n",
    "#dir(math) genera error\n",
    "#dir(m)"
   ]
  },
  {
   "cell_type": "code",
   "execution_count": 0,
   "metadata": {
    "application/vnd.databricks.v1+cell": {
     "cellMetadata": {},
     "inputWidgets": {},
     "nuid": "625a9a0f-d900-45dd-a6d3-2b5b9807118c",
     "showTitle": false,
     "title": ""
    }
   },
   "outputs": [],
   "source": [
    "dir(m)"
   ]
  },
  {
   "cell_type": "markdown",
   "metadata": {
    "application/vnd.databricks.v1+cell": {
     "cellMetadata": {},
     "inputWidgets": {},
     "nuid": "36909ecd-2a34-4f51-bc4c-a5439e12c9c2",
     "showTitle": false,
     "title": ""
    }
   },
   "source": [
    "### Aplicación:\n",
    "\n",
    "Una pequeña aplicación de Matemáticas:\n",
    "\n",
    "**Área de una circunferencia de radio r:**\n",
    "\n",
    "$A = \\pi r²$"
   ]
  },
  {
   "cell_type": "code",
   "execution_count": 0,
   "metadata": {
    "application/vnd.databricks.v1+cell": {
     "cellMetadata": {},
     "inputWidgets": {},
     "nuid": "a0a22e75-0a4b-45fe-b282-da249f4c0e51",
     "showTitle": false,
     "title": ""
    }
   },
   "outputs": [],
   "source": [
    "m.pi"
   ]
  },
  {
   "cell_type": "code",
   "execution_count": 0,
   "metadata": {
    "application/vnd.databricks.v1+cell": {
     "cellMetadata": {},
     "inputWidgets": {},
     "nuid": "58d74e27-3877-43fd-8682-c07cd593b83a",
     "showTitle": false,
     "title": ""
    }
   },
   "outputs": [],
   "source": [
    "# Aplicación: Área de un círculo de radio 10 cm \n",
    "\n",
    "r = 10;          # Declarar el radio\n",
    "z = m.pi*(r**2)  # Escribir la fórmula matemática\n",
    "print(\"El Área del círculo es: \",z,\"cm²\")"
   ]
  },
  {
   "cell_type": "markdown",
   "metadata": {
    "application/vnd.databricks.v1+cell": {
     "cellMetadata": {},
     "inputWidgets": {},
     "nuid": "514e4440-6fdd-4062-9d09-a509f168fae8",
     "showTitle": false,
     "title": ""
    }
   },
   "source": [
    "Como pueden observar, los módulos son el **alma de Python**.\n",
    "\n"
   ]
  },
  {
   "cell_type": "code",
   "execution_count": 0,
   "metadata": {
    "application/vnd.databricks.v1+cell": {
     "cellMetadata": {},
     "inputWidgets": {},
     "nuid": "6d463121-eea5-490e-98e6-438497ce7f4a",
     "showTitle": false,
     "title": ""
    }
   },
   "outputs": [],
   "source": [
    "from math import pi\n",
    "r=2\n",
    "A = pi*r**2\n",
    "\n",
    "print(A)"
   ]
  },
  {
   "cell_type": "code",
   "execution_count": 0,
   "metadata": {
    "application/vnd.databricks.v1+cell": {
     "cellMetadata": {},
     "inputWidgets": {},
     "nuid": "3a26f3d6-3a24-4f1b-987d-dac14ee4829b",
     "showTitle": false,
     "title": ""
    }
   },
   "outputs": [],
   "source": [
    "m.pi"
   ]
  },
  {
   "cell_type": "code",
   "execution_count": 0,
   "metadata": {
    "application/vnd.databricks.v1+cell": {
     "cellMetadata": {},
     "inputWidgets": {},
     "nuid": "210547b9-f558-4c64-b521-042350694491",
     "showTitle": false,
     "title": ""
    }
   },
   "outputs": [],
   "source": [
    "pi"
   ]
  },
  {
   "cell_type": "code",
   "execution_count": 0,
   "metadata": {
    "application/vnd.databricks.v1+cell": {
     "cellMetadata": {},
     "inputWidgets": {},
     "nuid": "cb304b0a-54f0-44cb-9325-f6d0164ede8b",
     "showTitle": false,
     "title": ""
    }
   },
   "outputs": [],
   "source": [
    "import math\n",
    "dir(math)"
   ]
  },
  {
   "cell_type": "code",
   "execution_count": 0,
   "metadata": {
    "application/vnd.databricks.v1+cell": {
     "cellMetadata": {},
     "inputWidgets": {},
     "nuid": "37fa3b15-9be9-44ee-9460-8f18ef5253f6",
     "showTitle": false,
     "title": ""
    }
   },
   "outputs": [],
   "source": [
    "??math.pi"
   ]
  },
  {
   "cell_type": "code",
   "execution_count": 0,
   "metadata": {
    "application/vnd.databricks.v1+cell": {
     "cellMetadata": {},
     "inputWidgets": {},
     "nuid": "dca07c2c-1c3c-458a-b153-ccc942b647ae",
     "showTitle": false,
     "title": ""
    }
   },
   "outputs": [],
   "source": [
    "??m.lgamma"
   ]
  },
  {
   "cell_type": "markdown",
   "metadata": {
    "application/vnd.databricks.v1+cell": {
     "cellMetadata": {},
     "inputWidgets": {},
     "nuid": "2dc228bb-7103-49ed-bf17-921cc9178579",
     "showTitle": false,
     "title": ""
    }
   },
   "source": [
    "## Paquete numpy\n",
    "\n",
    "NumPy es un paquete de Python para hacer cálculos numéricos, su nombre proviene de la abreviación de “Numerical Python”, es la librería principal para la computación científica y contiene las funciones matemáticas más famosas, tambien algunas constantes de interes: \n"
   ]
  },
  {
   "cell_type": "code",
   "execution_count": 0,
   "metadata": {
    "application/vnd.databricks.v1+cell": {
     "cellMetadata": {},
     "inputWidgets": {},
     "nuid": "a9e4b62d-25d1-46d7-b14d-9baa13dccaa6",
     "showTitle": false,
     "title": ""
    }
   },
   "outputs": [],
   "source": [
    "import numpy as np #np es el alias más conocido de numpy"
   ]
  },
  {
   "cell_type": "markdown",
   "metadata": {
    "application/vnd.databricks.v1+cell": {
     "cellMetadata": {},
     "inputWidgets": {},
     "nuid": "c5b7d6a2-a5ea-4196-b489-3f4812620a98",
     "showTitle": false,
     "title": ""
    }
   },
   "source": [
    "Para usar cualquier función de numpy tenemos que escribir\n",
    "\n",
    "`np.<función>`\n",
    "\n",
    "A continuación calculamos:\n",
    "\n",
    "* $\\pi=3.14159\\cdots$\n",
    "\n",
    "* $|-10|=10$\n",
    "\n",
    "* $e^1$\n"
   ]
  },
  {
   "cell_type": "code",
   "execution_count": 0,
   "metadata": {
    "application/vnd.databricks.v1+cell": {
     "cellMetadata": {},
     "inputWidgets": {},
     "nuid": "5324b0e4-66be-40c3-8803-7a6c7b8357f4",
     "showTitle": false,
     "title": ""
    }
   },
   "outputs": [],
   "source": [
    "np.pi"
   ]
  },
  {
   "cell_type": "code",
   "execution_count": 0,
   "metadata": {
    "application/vnd.databricks.v1+cell": {
     "cellMetadata": {},
     "inputWidgets": {},
     "nuid": "1f54b69a-f8b2-4d26-931e-cc08d943ad86",
     "showTitle": false,
     "title": ""
    }
   },
   "outputs": [],
   "source": [
    "np.abs(-10)"
   ]
  },
  {
   "cell_type": "code",
   "execution_count": 0,
   "metadata": {
    "application/vnd.databricks.v1+cell": {
     "cellMetadata": {},
     "inputWidgets": {},
     "nuid": "e9d42385-77af-4a36-bfac-08c7fee7e43e",
     "showTitle": false,
     "title": ""
    }
   },
   "outputs": [],
   "source": [
    "np.exp(1)"
   ]
  },
  {
   "cell_type": "code",
   "execution_count": 0,
   "metadata": {
    "application/vnd.databricks.v1+cell": {
     "cellMetadata": {},
     "inputWidgets": {},
     "nuid": "ccfe0d4c-8960-4df2-bc12-48d49bbe696d",
     "showTitle": false,
     "title": ""
    }
   },
   "outputs": [],
   "source": [
    "dir(np)"
   ]
  },
  {
   "cell_type": "code",
   "execution_count": 0,
   "metadata": {
    "application/vnd.databricks.v1+cell": {
     "cellMetadata": {},
     "inputWidgets": {},
     "nuid": "e9355268-df48-4372-b053-35a693295fe4",
     "showTitle": false,
     "title": ""
    }
   },
   "outputs": [],
   "source": [
    "np.mean([1,2,3])"
   ]
  },
  {
   "cell_type": "code",
   "execution_count": 0,
   "metadata": {
    "application/vnd.databricks.v1+cell": {
     "cellMetadata": {},
     "inputWidgets": {},
     "nuid": "9e82b04e-4380-4906-9497-38b6984ee92f",
     "showTitle": false,
     "title": ""
    }
   },
   "outputs": [],
   "source": [
    "dir(np.linalg)"
   ]
  },
  {
   "cell_type": "code",
   "execution_count": 0,
   "metadata": {
    "application/vnd.databricks.v1+cell": {
     "cellMetadata": {},
     "inputWidgets": {},
     "nuid": "4a9321d8-5fd5-4f05-88e7-8b4b92ee3c52",
     "showTitle": false,
     "title": ""
    }
   },
   "outputs": [],
   "source": [
    "np.linalg.svd(np.array([[2,4],[1,2]]))"
   ]
  },
  {
   "cell_type": "code",
   "execution_count": 0,
   "metadata": {
    "application/vnd.databricks.v1+cell": {
     "cellMetadata": {},
     "inputWidgets": {},
     "nuid": "0f016b57-5483-4181-a7f3-c8b2622e5115",
     "showTitle": false,
     "title": ""
    }
   },
   "outputs": [],
   "source": [
    "np.sin(32)"
   ]
  },
  {
   "cell_type": "code",
   "execution_count": 0,
   "metadata": {
    "application/vnd.databricks.v1+cell": {
     "cellMetadata": {},
     "inputWidgets": {},
     "nuid": "6fd77894-0dbb-4c00-a881-f02474b39baf",
     "showTitle": false,
     "title": ""
    }
   },
   "outputs": [],
   "source": [
    "V1=np.array([1,2])"
   ]
  },
  {
   "cell_type": "code",
   "execution_count": 0,
   "metadata": {
    "application/vnd.databricks.v1+cell": {
     "cellMetadata": {},
     "inputWidgets": {},
     "nuid": "71e41587-4b66-43d8-8430-16d69378e6d1",
     "showTitle": false,
     "title": ""
    }
   },
   "outputs": [],
   "source": [
    "V2=np.array([2,3])"
   ]
  },
  {
   "cell_type": "code",
   "execution_count": 0,
   "metadata": {
    "application/vnd.databricks.v1+cell": {
     "cellMetadata": {},
     "inputWidgets": {},
     "nuid": "ba779883-03cc-49c6-89d0-905307ab519d",
     "showTitle": false,
     "title": ""
    }
   },
   "outputs": [],
   "source": [
    "V1+V2"
   ]
  },
  {
   "cell_type": "code",
   "execution_count": 0,
   "metadata": {
    "application/vnd.databricks.v1+cell": {
     "cellMetadata": {},
     "inputWidgets": {},
     "nuid": "39774da9-2eed-4f66-a6ec-bb8c31eaab58",
     "showTitle": false,
     "title": ""
    }
   },
   "outputs": [],
   "source": [
    "M=np.array([[1,2],[2,3]])"
   ]
  },
  {
   "cell_type": "code",
   "execution_count": 0,
   "metadata": {
    "application/vnd.databricks.v1+cell": {
     "cellMetadata": {},
     "inputWidgets": {},
     "nuid": "b9c0bcb8-17b2-4d73-b682-a2f96614d426",
     "showTitle": false,
     "title": ""
    }
   },
   "outputs": [],
   "source": [
    "np.linalg.eig(M)"
   ]
  },
  {
   "cell_type": "code",
   "execution_count": 0,
   "metadata": {
    "application/vnd.databricks.v1+cell": {
     "cellMetadata": {},
     "inputWidgets": {},
     "nuid": "d3e2d15d-7f1f-4ea2-adcc-781c0c71b7fb",
     "showTitle": false,
     "title": ""
    }
   },
   "outputs": [],
   "source": [
    "?np.linalg.eig"
   ]
  },
  {
   "cell_type": "markdown",
   "metadata": {
    "application/vnd.databricks.v1+cell": {
     "cellMetadata": {},
     "inputWidgets": {},
     "nuid": "dc63e4b1-4491-41a5-b983-665c55c18212",
     "showTitle": false,
     "title": ""
    }
   },
   "source": [
    "A lo largo del curso usaremos varias funciones alojadas en paquetes. Cada vez que sea necesario encontraran una pequeña ayuda para usar dicha función."
   ]
  }
 ],
 "metadata": {
  "application/vnd.databricks.v1+notebook": {
   "dashboards": [],
   "language": "python",
   "notebookMetadata": {},
   "notebookName": "Funciones y paquetes-checkpoint",
   "widgets": {}
  },
  "kernelspec": {
   "display_name": "Python 3",
   "language": "python",
   "name": "python3"
  },
  "language_info": {
   "codemirror_mode": {
    "name": "ipython",
    "version": 3
   },
   "file_extension": ".py",
   "mimetype": "text/x-python",
   "name": "python",
   "nbconvert_exporter": "python",
   "pygments_lexer": "ipython3",
   "version": "3.8.5"
  },
  "toc": {
   "base_numbering": 1,
   "nav_menu": {},
   "number_sections": false,
   "sideBar": true,
   "skip_h1_title": false,
   "title_cell": "Table of Contents",
   "title_sidebar": "Contents",
   "toc_cell": false,
   "toc_position": {},
   "toc_section_display": true,
   "toc_window_display": false
  }
 },
 "nbformat": 4,
 "nbformat_minor": 0
}
