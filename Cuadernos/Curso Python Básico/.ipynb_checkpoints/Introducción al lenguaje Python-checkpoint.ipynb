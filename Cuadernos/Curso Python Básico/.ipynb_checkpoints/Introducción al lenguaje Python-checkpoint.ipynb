{
 "cells": [
  {
   "cell_type": "markdown",
   "metadata": {
    "application/vnd.databricks.v1+cell": {
     "cellMetadata": {},
     "inputWidgets": {},
     "nuid": "4ad2b94a-f1d0-4e1b-ba11-ce895615af2e",
     "showTitle": false,
     "title": ""
    },
    "colab_type": "text",
    "id": "-MlSHN16Bg8-"
   },
   "source": [
    "# Introducción al lenguaje Python\n",
    "\n",
    "*Universidad Externado de Colombia*\n",
    "\n",
    "*Carlos Isaac Zainea Maya*"
   ]
  },
  {
   "cell_type": "markdown",
   "metadata": {
    "application/vnd.databricks.v1+cell": {
     "cellMetadata": {},
     "inputWidgets": {},
     "nuid": "df06427d-8051-4928-9a02-80e60f9796d9",
     "showTitle": false,
     "title": ""
    },
    "colab_type": "text",
    "id": "scclT03UHVrm"
   },
   "source": [
    "## Hello World!"
   ]
  },
  {
   "cell_type": "markdown",
   "metadata": {
    "application/vnd.databricks.v1+cell": {
     "cellMetadata": {},
     "inputWidgets": {},
     "nuid": "38604820-8c0b-4e36-a7b4-ab17b59ecf1b",
     "showTitle": false,
     "title": ""
    },
    "colab_type": "text",
    "id": "c3ntgbdgHbS-"
   },
   "source": [
    "El primer ejemplo clásico de programación es saludar, o sea, decirle al computador que muestre un saludo.\n",
    "\n",
    "Para esto, se usa la función de Python llamada **print**.\n",
    "\n",
    "Para colocar un saludo (o un **texto cualquiera**), se debe colocar entre **comillas (dobles o simples)** dentro del comando print.\n",
    "\n",
    "Entonces, para que el computador muestre un saludo, por ejemplo **Hello, World!**, debemos escribir en ambiente de código\n",
    "\n",
    "*print(\"Hello World!\");*"
   ]
  },
  {
   "cell_type": "code",
   "execution_count": 0,
   "metadata": {
    "application/vnd.databricks.v1+cell": {
     "cellMetadata": {},
     "inputWidgets": {},
     "nuid": "a70baac5-57de-47c5-9cba-17da8aa2757d",
     "showTitle": false,
     "title": ""
    },
    "colab": {
     "base_uri": "https://localhost:8080/",
     "height": 34
    },
    "colab_type": "code",
    "executionInfo": {
     "elapsed": 1364,
     "status": "ok",
     "timestamp": 1568681643919,
     "user": {
      "displayName": "Daniel Montenegro",
      "photoUrl": "",
      "userId": "07275166318289302366"
     },
     "user_tz": 300
    },
    "id": "8i6cS6oYA-Lv",
    "outputId": "4e5ed3b9-4c83-45c9-dbc1-5b7113f4418f"
   },
   "outputs": [],
   "source": [
    "print(\"Hello, World!\");"
   ]
  },
  {
   "cell_type": "markdown",
   "metadata": {
    "application/vnd.databricks.v1+cell": {
     "cellMetadata": {},
     "inputWidgets": {},
     "nuid": "c88e7784-c447-4d2e-a6e7-68cba3f5be45",
     "showTitle": false,
     "title": ""
    },
    "colab_type": "text",
    "id": "aM1gxggOCDGO"
   },
   "source": [
    "Note que el resultado se muestra sin las comillas dobles. Estas comillas dobles se usan para decirle al computador que vamos a ingresar texto.\n",
    "\n",
    "Si quisieramos escribir con un salto de linea escribimos \"\\n\" así al escribir `print(\"hola\\nmundo\")` tenemos:\n",
    "\n",
    "`hola\n",
    "mundo`"
   ]
  },
  {
   "cell_type": "code",
   "execution_count": 0,
   "metadata": {
    "application/vnd.databricks.v1+cell": {
     "cellMetadata": {},
     "inputWidgets": {},
     "nuid": "c3e2c5dc-f022-48db-b691-2ea694b7988d",
     "showTitle": false,
     "title": ""
    }
   },
   "outputs": [],
   "source": [
    "print(\"hola\\nmundo\")"
   ]
  },
  {
   "cell_type": "markdown",
   "metadata": {
    "application/vnd.databricks.v1+cell": {
     "cellMetadata": {},
     "inputWidgets": {},
     "nuid": "c13161a6-81e5-4756-b857-660251e87a43",
     "showTitle": false,
     "title": ""
    },
    "colab_type": "text",
    "id": "gGbUqKOAJc_C",
    "solution2": "hidden",
    "solution2_first": true
   },
   "source": [
    "### Ejercicio 1\n",
    "\n",
    "Hacer un código que le diga al computador que devuelva el texto:\n",
    "*****\n",
    ">*Sólo sé ...*  \n",
    "*... que nada sé.*\n",
    " ***"
   ]
  },
  {
   "cell_type": "code",
   "execution_count": 0,
   "metadata": {
    "application/vnd.databricks.v1+cell": {
     "cellMetadata": {},
     "inputWidgets": {},
     "nuid": "5fc79687-9a37-4560-b503-ed100d180f4c",
     "showTitle": false,
     "title": ""
    },
    "colab": {},
    "colab_type": "code",
    "id": "CVnwiYj8JZY-",
    "scrolled": true,
    "solution2": "hidden"
   },
   "outputs": [],
   "source": [
    "print(\"Sólo sé ... \\n...que nada sé\")"
   ]
  },
  {
   "cell_type": "markdown",
   "metadata": {
    "application/vnd.databricks.v1+cell": {
     "cellMetadata": {},
     "inputWidgets": {},
     "nuid": "717692fc-58da-4be5-8383-1af80abad7b4",
     "showTitle": false,
     "title": ""
    },
    "colab_type": "text",
    "id": "qAqnr4i70sLy"
   },
   "source": [
    "## Indentación en Python y un ejemplo básico de programación estructurada: *el condicional*"
   ]
  },
  {
   "cell_type": "markdown",
   "metadata": {
    "application/vnd.databricks.v1+cell": {
     "cellMetadata": {},
     "inputWidgets": {},
     "nuid": "373d0e96-8afd-4fe2-9796-f0716f44b45a",
     "showTitle": false,
     "title": ""
    },
    "colab_type": "text",
    "id": "oMyFFHSjlj9J"
   },
   "source": [
    "En este pequeño módulo explicaremos el funcionamiento de un condicional `si *** entonces ***` y la importancia de la identación en **Python**.\n",
    "\n",
    "### Condicionales\n",
    "\n",
    "Un condicional es una sentencia lógica que retorna un valor deacuerdo al valor preliminar obtenido de una regla o condición. El ejemplo más sencillo corresponde a las expresiones de la forma `si *** entonces ***` que definen una regla que retornará su valor según la condición después del si, por ejemplo:\n",
    "\n",
    "**Si** *me saco más de 3.0* **entonces** *paso la materia*. \n",
    "\n",
    "> En este caso, si saco 2.5 pierdo; pero si saco 3.3 paso.\n",
    " El resultado según este condicional depende de la nota obtenida.\n",
    "\n",
    "Un diagrama que expresa el funcionamiento de esta regla lógica es: \n",
    "\n",
    "![diagramadeflujo-condicional](https://desarrolloweb.com/articulos/images/algoritmos/ordinograma_si_doble.gif)\n",
    "\n",
    "*Tomado de: [Desarrollo Web - Estructuras condicionales (https://desarrolloweb.com/articulos/2225.php)](https://desarrolloweb.com/articulos/2225.php)\n",
    "\n",
    "### Identación \n",
    "Indentar significa **mover un bloque de texto hacia la derecha**, dejando una serie de espacios o un tabulador para distinguirlo del texto alineado a la izquierda. **Indentar** es un anglicismo, realmente se debería decir **sangrado** o aplicar **sangría**.\n",
    "\n",
    "Por ejemplo:\n",
    "\n",
    "> Este texto está indentado (sangrado).\n",
    "\n",
    "En **Python**, la identación es muy importante, pues indica un **Bloque de código** bajo un operador lógico.\n",
    "\n"
   ]
  },
  {
   "cell_type": "markdown",
   "metadata": {
    "application/vnd.databricks.v1+cell": {
     "cellMetadata": {},
     "inputWidgets": {},
     "nuid": "18727d5d-aacb-4488-8a74-8563e4996c38",
     "showTitle": false,
     "title": ""
    },
    "colab_type": "text",
    "id": "OqFH478Xza5l"
   },
   "source": [
    "### Ejemplo: Condicionales en Python\n",
    "\n",
    "Para escribir un condicional en Python usamos la siguiente estructura, debemos tener cuidado con los dos putnos y los espacios que usamos para indentar:\n",
    "\n",
    "```\n",
    "if **(la condición a validar)**:\n",
    "   (al menos un espacio) **El resultado si la condición es verdadera**  \n",
    "```\n",
    "Por ejemplo:"
   ]
  },
  {
   "cell_type": "code",
   "execution_count": 0,
   "metadata": {
    "application/vnd.databricks.v1+cell": {
     "cellMetadata": {},
     "inputWidgets": {},
     "nuid": "70b847f8-d4c8-4ca0-9c6e-7ac366937aed",
     "showTitle": false,
     "title": ""
    },
    "colab": {
     "base_uri": "https://localhost:8080/",
     "height": 34
    },
    "colab_type": "code",
    "executionInfo": {
     "elapsed": 512,
     "status": "ok",
     "timestamp": 1566879211321,
     "user": {
      "displayName": "Daniel Montenegro",
      "photoUrl": "",
      "userId": "07275166318289302366"
     },
     "user_tz": 300
    },
    "id": "ie3nUgSszhve",
    "outputId": "6eaf1553-81bc-4f9d-c9ae-cb40fbce727d"
   },
   "outputs": [],
   "source": [
    "if 3+2>3:\n",
    "  print(\"Five is greater than Three\");"
   ]
  },
  {
   "cell_type": "markdown",
   "metadata": {
    "application/vnd.databricks.v1+cell": {
     "cellMetadata": {},
     "inputWidgets": {},
     "nuid": "181b250f-8e72-4eca-b449-359848729ede",
     "showTitle": false,
     "title": ""
    },
    "colab_type": "text",
    "id": "Xvt2xJKPzudT"
   },
   "source": [
    "**Sin la indentación**, el código produce un **error**:"
   ]
  },
  {
   "cell_type": "code",
   "execution_count": 0,
   "metadata": {
    "application/vnd.databricks.v1+cell": {
     "cellMetadata": {},
     "inputWidgets": {},
     "nuid": "04d88951-2b93-4a31-8f5a-3900d320fa17",
     "showTitle": false,
     "title": ""
    },
    "colab": {
     "base_uri": "https://localhost:8080/",
     "height": 150
    },
    "colab_type": "code",
    "executionInfo": {
     "elapsed": 534,
     "status": "error",
     "timestamp": 1566879215541,
     "user": {
      "displayName": "Daniel Montenegro",
      "photoUrl": "",
      "userId": "07275166318289302366"
     },
     "user_tz": 300
    },
    "id": "Q6UM2ujoztla",
    "outputId": "a783c474-6221-49e2-9c30-bf0143184a5e"
   },
   "outputs": [],
   "source": [
    "if 5>3:\n",
    "print(\"Five is greater than Three\");"
   ]
  },
  {
   "cell_type": "markdown",
   "metadata": {
    "application/vnd.databricks.v1+cell": {
     "cellMetadata": {},
     "inputWidgets": {},
     "nuid": "343dc3e2-6cd2-49a6-9788-c8e7d6d3e254",
     "showTitle": false,
     "title": ""
    },
    "colab_type": "text",
    "id": "h_FUae2V1Dfu"
   },
   "source": [
    "No importa cuántos espacios en blanco se dejen, siempre y cuando sea **al menos uno**:"
   ]
  },
  {
   "cell_type": "code",
   "execution_count": 0,
   "metadata": {
    "application/vnd.databricks.v1+cell": {
     "cellMetadata": {},
     "inputWidgets": {},
     "nuid": "53b288e3-ff0a-47fa-87f6-93da42338333",
     "showTitle": false,
     "title": ""
    },
    "colab": {
     "base_uri": "https://localhost:8080/",
     "height": 51
    },
    "colab_type": "code",
    "executionInfo": {
     "elapsed": 551,
     "status": "ok",
     "timestamp": 1566879221584,
     "user": {
      "displayName": "Daniel Montenegro",
      "photoUrl": "",
      "userId": "07275166318289302366"
     },
     "user_tz": 300
    },
    "id": "8shIg71S1KOI",
    "outputId": "69eea6a9-9579-4866-fb22-cd0c4e47e577"
   },
   "outputs": [],
   "source": [
    "if 5 > 3:\n",
    " print(\"Five is greater than Three\")  \n",
    "if 5 > 3:\n",
    "        print(\"Five is greater than Three\")"
   ]
  },
  {
   "cell_type": "markdown",
   "metadata": {
    "application/vnd.databricks.v1+cell": {
     "cellMetadata": {},
     "inputWidgets": {},
     "nuid": "ab03eec3-5588-421e-97a7-cef3207cab44",
     "showTitle": false,
     "title": ""
    }
   },
   "source": [
    "Si la condición no se satisface entonces no se hace nada:"
   ]
  },
  {
   "cell_type": "code",
   "execution_count": 0,
   "metadata": {
    "application/vnd.databricks.v1+cell": {
     "cellMetadata": {},
     "inputWidgets": {},
     "nuid": "f4110879-e7d3-4ec3-a306-9717f8ec9272",
     "showTitle": false,
     "title": ""
    }
   },
   "outputs": [],
   "source": [
    "if 2 > 3:\n",
    "        print(\"Two is greater than Three\")"
   ]
  },
  {
   "cell_type": "markdown",
   "metadata": {
    "application/vnd.databricks.v1+cell": {
     "cellMetadata": {},
     "inputWidgets": {},
     "nuid": "bc7c2c17-a35f-48a7-91bc-e4184abaa38b",
     "showTitle": false,
     "title": ""
    }
   },
   "source": [
    "A no ser que definamos un resultado para cuando no se satisfaga la condición, usamos `else`, nuevamente observe el uso de los dos puntos y el nivel de identación de `if` y `else`:\n",
    "\n",
    "```\n",
    "if **(la condición a validar)**:\n",
    "   (al menos un espacio) **El resultado si la condición es verdadera**  \n",
    "else:\n",
    "    (al menos un espacio) **El resultado si la condición es falsa**  \n",
    "```\n",
    "\n",
    "**Ejemplo:**"
   ]
  },
  {
   "cell_type": "code",
   "execution_count": 0,
   "metadata": {
    "application/vnd.databricks.v1+cell": {
     "cellMetadata": {},
     "inputWidgets": {},
     "nuid": "6033e5d0-0711-4bdf-b7b0-4c3c72f66466",
     "showTitle": false,
     "title": ""
    }
   },
   "outputs": [],
   "source": [
    "if 2 > 3:\n",
    "    print(\"Two is greater than Three\")\n",
    "else:\n",
    "    print(\"Two is smaller than Three\")"
   ]
  },
  {
   "cell_type": "markdown",
   "metadata": {
    "application/vnd.databricks.v1+cell": {
     "cellMetadata": {},
     "inputWidgets": {},
     "nuid": "b01d0e5a-b80d-47c6-a054-d77b4ed9b619",
     "showTitle": false,
     "title": ""
    },
    "colab_type": "text",
    "id": "IUFSujLR2-Rl"
   },
   "source": [
    "# Variables en Python"
   ]
  },
  {
   "cell_type": "markdown",
   "metadata": {
    "application/vnd.databricks.v1+cell": {
     "cellMetadata": {},
     "inputWidgets": {},
     "nuid": "520d6633-1b75-448e-b49c-7833d933b3b2",
     "showTitle": false,
     "title": ""
    },
    "colab_type": "text",
    "id": "ivDxEY5J3EXW"
   },
   "source": [
    "## Variables Locales:\n",
    "\n",
    "Una variable sirve para **guardar un valor específico**, ya sea **numérico**, **texto** u otro [**Tipo de Dato**](https://www.w3schools.com/python/python_datatypes.asp) con el nombre con la que se nombre dicha variable:"
   ]
  },
  {
   "cell_type": "code",
   "execution_count": 0,
   "metadata": {
    "application/vnd.databricks.v1+cell": {
     "cellMetadata": {},
     "inputWidgets": {},
     "nuid": "bec2c150-7dbc-45cd-9c4c-a5d8e154ba4c",
     "showTitle": false,
     "title": ""
    },
    "colab": {
     "base_uri": "https://localhost:8080/",
     "height": 71
    },
    "colab_type": "code",
    "executionInfo": {
     "elapsed": 543,
     "status": "ok",
     "timestamp": 1566879286697,
     "user": {
      "displayName": "Daniel Montenegro",
      "photoUrl": "",
      "userId": "07275166318289302366"
     },
     "user_tz": 300
    },
    "id": "XlBRuUAD3ud4",
    "outputId": "01f6e84c-790b-4e3a-c26f-c7fd9be950b6"
   },
   "outputs": [],
   "source": [
    "# Asignamos 1 a la variable x\n",
    "\n",
    "x=1;\n",
    "\n",
    "print(\"El valor de la variable x es \",x);\n",
    "\n",
    "# Asignamos \"I'm ready to code!\" a la variable y\n",
    "\n",
    "y=\"I'm ready to code!\";\n",
    "\n",
    "print(\"El valor de la variable y es\",y);"
   ]
  },
  {
   "cell_type": "markdown",
   "metadata": {
    "application/vnd.databricks.v1+cell": {
     "cellMetadata": {},
     "inputWidgets": {},
     "nuid": "5fdf8088-385e-4684-adfc-77f86712ec37",
     "showTitle": false,
     "title": ""
    },
    "colab_type": "text",
    "id": "6YvlIG-G6o2Z"
   },
   "source": [
    "## Reglas de Creación de Variables:\n",
    "\n",
    "* El nombre de una variable **debe comenzar** con una letra ó con _ .\n",
    "\n",
    "* El nombre de una variable **no puede comenzar** con un número.\n",
    "\n",
    "* El nombre de una variable **sólo puede contener** carácteres alfa-numéricos.\n",
    "\n",
    "* El nombre de una variable tiene **sensibilidad** a **mayúsculas** y **minúsculas** (x es diferente de X)."
   ]
  },
  {
   "cell_type": "markdown",
   "metadata": {
    "application/vnd.databricks.v1+cell": {
     "cellMetadata": {},
     "inputWidgets": {},
     "nuid": "3a32d2da-7d5e-48b4-a2c2-c93741f20f1b",
     "showTitle": false,
     "title": ""
    },
    "colab_type": "text",
    "id": "g0XQW90S5bCj",
    "solution2": "hidden",
    "solution2_first": true
   },
   "source": [
    "### Ejercicio 2\n",
    "\n",
    "Hacer un código que le diga al computador que devuelva los textos **Tengo** *my_age* **años**, donde *my_age* es una variable que tenga asignada su edad.\n",
    "\n"
   ]
  },
  {
   "cell_type": "code",
   "execution_count": 0,
   "metadata": {
    "application/vnd.databricks.v1+cell": {
     "cellMetadata": {},
     "inputWidgets": {},
     "nuid": "3c0787b5-ce93-4974-b033-01819acf96db",
     "showTitle": false,
     "title": ""
    },
    "colab": {},
    "colab_type": "code",
    "id": "yFtzd3Ok57ul",
    "solution2": "hidden"
   },
   "outputs": [],
   "source": [
    "my_age=25\n",
    "print(\"Tengo\",my_age, \"años\")"
   ]
  },
  {
   "cell_type": "markdown",
   "metadata": {
    "application/vnd.databricks.v1+cell": {
     "cellMetadata": {},
     "inputWidgets": {},
     "nuid": "c88805d8-8804-4adc-8237-f293b1e283da",
     "showTitle": false,
     "title": ""
    }
   },
   "source": [
    "### Ejemplo\n",
    "\n",
    "El siguiente código calcula la longitud del nombre y escribe una frase acorde a la longitud. Observe que en el comando `print()` , `sep=` es un parámetro que separa los valores ingresados dentro de la función print. Como vemos, escribimos `N='Su_nombre'` eso asigna a la letra N el texto *Tu_nombre*. Cambie  `Su_nombre` por su verdadero nombre y explique  como funciona el código."
   ]
  },
  {
   "cell_type": "code",
   "execution_count": 0,
   "metadata": {
    "application/vnd.databricks.v1+cell": {
     "cellMetadata": {},
     "inputWidgets": {},
     "nuid": "5c71cf40-a39e-4b4e-9825-94734d7f1efd",
     "showTitle": false,
     "title": ""
    }
   },
   "outputs": [],
   "source": [
    "N='Su_nombre'# cambiar 'Su_nombre' por su verdadero nombre\n",
    "if len(N)>10:\n",
    "    A=\"es un nombre muy largo\"\n",
    "else:\n",
    "    A=\"es un nombre muy corto\"\n",
    "\n",
    "print(N,A,sep=\" \")\n"
   ]
  },
  {
   "cell_type": "markdown",
   "metadata": {
    "application/vnd.databricks.v1+cell": {
     "cellMetadata": {},
     "inputWidgets": {},
     "nuid": "be42e249-838f-4a4e-a770-9a4639003402",
     "showTitle": false,
     "title": ""
    }
   },
   "source": [
    "Permitamos que el usuario ingrese el nombre con el comando `input()`"
   ]
  },
  {
   "cell_type": "code",
   "execution_count": 0,
   "metadata": {
    "application/vnd.databricks.v1+cell": {
     "cellMetadata": {},
     "inputWidgets": {},
     "nuid": "bd1608b3-ee9a-4a00-97b5-5313f65a1238",
     "showTitle": false,
     "title": ""
    }
   },
   "outputs": [],
   "source": [
    "N=input('Su_nombre_completo: ') \n",
    "if len(N)>10:\n",
    "    A=\"es un nombre muy largo\"\n",
    "else:\n",
    "    A=\"es un nombre muy corto\"\n",
    "\n",
    "print(N,A,sep=\"/\")"
   ]
  },
  {
   "cell_type": "code",
   "execution_count": 0,
   "metadata": {
    "application/vnd.databricks.v1+cell": {
     "cellMetadata": {},
     "inputWidgets": {},
     "nuid": "afadbd84-a8b2-4627-b9fb-5bd48c607056",
     "showTitle": false,
     "title": ""
    }
   },
   "outputs": [],
   "source": [
    "N=input('Su_nombre_completo: ') \n",
    "if len(N)>10:\n",
    "    A=\"es un nombre muy largo\"\n",
    "else:\n",
    "    A=\"es un nombre muy corto\"\n",
    "\n",
    "print(N,A,sep=\"         \")"
   ]
  },
  {
   "cell_type": "markdown",
   "metadata": {
    "application/vnd.databricks.v1+cell": {
     "cellMetadata": {},
     "inputWidgets": {},
     "nuid": "8bca7ed4-7ffc-4773-800f-aa5c7badd096",
     "showTitle": false,
     "title": ""
    },
    "colab_type": "text",
    "id": "jsYP__7Q7y6j"
   },
   "source": [
    "## Múltiples Asignaciones:\n",
    "\n",
    "Es posible asignar valores a diferentes variables en una línea de código:"
   ]
  },
  {
   "cell_type": "code",
   "execution_count": 0,
   "metadata": {
    "application/vnd.databricks.v1+cell": {
     "cellMetadata": {},
     "inputWidgets": {},
     "nuid": "622b86d5-83b3-4646-99ad-7154263a57b8",
     "showTitle": false,
     "title": ""
    },
    "colab": {
     "base_uri": "https://localhost:8080/",
     "height": 102
    },
    "colab_type": "code",
    "executionInfo": {
     "elapsed": 562,
     "status": "ok",
     "timestamp": 1566879321018,
     "user": {
      "displayName": "Daniel Montenegro",
      "photoUrl": "",
      "userId": "07275166318289302366"
     },
     "user_tz": 300
    },
    "id": "dgS8D9paFG3g",
    "outputId": "af6a422e-fde8-4391-ddec-e9cac420b3cc"
   },
   "outputs": [],
   "source": [
    "# Asignación múltiple\n",
    "\n",
    "w, x, y, z = \"Apple\", \"Watermelon\", \"Grape\", 28;\n",
    "\n",
    "print(w);\n",
    "print(x);\n",
    "print(y);\n",
    "print(z);\n",
    "print(w,x,y,z,sep=\", \");"
   ]
  },
  {
   "cell_type": "markdown",
   "metadata": {
    "application/vnd.databricks.v1+cell": {
     "cellMetadata": {},
     "inputWidgets": {},
     "nuid": "6585e404-0187-4534-94ba-01e771de2a38",
     "showTitle": false,
     "title": ""
    },
    "colab_type": "text",
    "id": "pgpUA2p5GXf2"
   },
   "source": [
    "También es posible asignar un **mismo valor** a diferentes variables:"
   ]
  },
  {
   "cell_type": "code",
   "execution_count": 0,
   "metadata": {
    "application/vnd.databricks.v1+cell": {
     "cellMetadata": {},
     "inputWidgets": {},
     "nuid": "a4131fc2-cda2-4da7-bf86-af921b5c3b8c",
     "showTitle": false,
     "title": ""
    },
    "colab": {
     "base_uri": "https://localhost:8080/",
     "height": 68
    },
    "colab_type": "code",
    "executionInfo": {
     "elapsed": 545,
     "status": "ok",
     "timestamp": 1566879335814,
     "user": {
      "displayName": "Daniel Montenegro",
      "photoUrl": "",
      "userId": "07275166318289302366"
     },
     "user_tz": 300
    },
    "id": "uLVD53UgGXEr",
    "outputId": "2bca046b-b077-41c0-a5a6-eb6b74a00e74"
   },
   "outputs": [],
   "source": [
    "# Asignación múltiple del mismo valor\n",
    "\n",
    "x1 = x2 = x3 = 0.5;\n",
    "print('x1 =',x1);\n",
    "print('x2 =',x2);\n",
    "print('x3 =',x3);"
   ]
  },
  {
   "cell_type": "markdown",
   "metadata": {
    "application/vnd.databricks.v1+cell": {
     "cellMetadata": {},
     "inputWidgets": {},
     "nuid": "3e1e83b7-9728-4a31-a564-a03b860bff2a",
     "showTitle": false,
     "title": ""
    }
   },
   "source": [
    "Cuidado con las variables no asignadas. Generan error:"
   ]
  },
  {
   "cell_type": "code",
   "execution_count": 0,
   "metadata": {
    "application/vnd.databricks.v1+cell": {
     "cellMetadata": {},
     "inputWidgets": {},
     "nuid": "81cc3519-2aa5-41ab-a4a2-cbac89ddbd51",
     "showTitle": false,
     "title": ""
    }
   },
   "outputs": [],
   "source": [
    "n # Variable sin asignar"
   ]
  },
  {
   "cell_type": "markdown",
   "metadata": {
    "application/vnd.databricks.v1+cell": {
     "cellMetadata": {},
     "inputWidgets": {},
     "nuid": "b4570fdc-e042-4e7e-adb4-8b9651b743d4",
     "showTitle": false,
     "title": ""
    },
    "colab_type": "text",
    "id": "4y3X0kbfHXzW"
   },
   "source": [
    "## Suma de Variables\n",
    "\n",
    "Python es tan sencillo e intutivo, que es posible sumar diferentes variables y sumarlas con el símbolo **+**. Cuando las variables son numéricas, se **suman matemáticamente** y cuando es texto se **concatenan**."
   ]
  },
  {
   "cell_type": "code",
   "execution_count": 0,
   "metadata": {
    "application/vnd.databricks.v1+cell": {
     "cellMetadata": {},
     "inputWidgets": {},
     "nuid": "7153675c-ea28-4826-9536-39729fec633b",
     "showTitle": false,
     "title": ""
    },
    "colab": {
     "base_uri": "https://localhost:8080/",
     "height": 68
    },
    "colab_type": "code",
    "executionInfo": {
     "elapsed": 533,
     "status": "ok",
     "timestamp": 1566879353852,
     "user": {
      "displayName": "Daniel Montenegro",
      "photoUrl": "",
      "userId": "07275166318289302366"
     },
     "user_tz": 300
    },
    "id": "nMPQKB2jHxuk",
    "outputId": "0e31e345-8858-4df2-a144-434d2fe0d2c2"
   },
   "outputs": [],
   "source": [
    "# Sumar dos textos\n",
    "\n",
    "x = \"Python is \";\n",
    "y = \"awesome\";\n",
    "z =  x + y;\n",
    "print(z);\n",
    "\n",
    "# Sumar dos números\n",
    "\n",
    "n1 = 1;\n",
    "n2 = 5;\n",
    "suma = n1 +n2;\n",
    "print(suma);\n",
    "\n",
    "# Escribir texto y números\n",
    "\n",
    "print(x+\"the number\",n1);"
   ]
  },
  {
   "cell_type": "markdown",
   "metadata": {
    "application/vnd.databricks.v1+cell": {
     "cellMetadata": {},
     "inputWidgets": {},
     "nuid": "fff95f82-37b5-462b-9c7c-61dadb2c86a1",
     "showTitle": false,
     "title": ""
    }
   },
   "source": [
    "En el apartado anterior es claro que usamos dos tipos de variables unas textuales y otras numéricas, profundicemos en estos temas.\n",
    "\n",
    "# Numeros\n",
    "\n",
    "Respecto a los números en Python tenemos tres tipos de datos: los enteros (*int*), los números con parte fraccionaria (*float*) y los complejos (*complex*). La fortuna de que Python reconozca variables numéricas nos permite usarla como una calculadora simple, podemos ejecutar operaciones muy sencillas teniendo en cuenta la siguiente tabla:\n",
    "\n",
    "| **Operador** | **Descripción** |\n",
    "| :---: | :---: |\n",
    "|`+`|Suma|\n",
    "|`-`|Resta|\n",
    "|`*`|Multiplicación|\n",
    "|`/`|División|\n",
    "|`**`|Potencia|\n"
   ]
  },
  {
   "cell_type": "markdown",
   "metadata": {
    "application/vnd.databricks.v1+cell": {
     "cellMetadata": {},
     "inputWidgets": {},
     "nuid": "125f55f3-5f0a-491c-8f43-17bee00f7614",
     "showTitle": false,
     "title": ""
    }
   },
   "source": [
    "### Ejemplo 2\n",
    " Si queremos operar:\n",
    " \n",
    " $$ 5\\times(3-5)^2-\\cfrac{6}{(9)^{1/2}}$$\n",
    " \n",
    " tenemos que escribir:"
   ]
  },
  {
   "cell_type": "code",
   "execution_count": 0,
   "metadata": {
    "application/vnd.databricks.v1+cell": {
     "cellMetadata": {},
     "inputWidgets": {},
     "nuid": "171cb78b-850b-428a-af44-3941995abfc5",
     "showTitle": false,
     "title": ""
    }
   },
   "outputs": [],
   "source": [
    "5*(3-5)**2-(6)/(9**(1/2))"
   ]
  },
  {
   "cell_type": "markdown",
   "metadata": {
    "application/vnd.databricks.v1+cell": {
     "cellMetadata": {},
     "inputWidgets": {},
     "nuid": "7c0bd325-0bee-4574-92c2-71fe1ee31c88",
     "showTitle": false,
     "title": ""
    }
   },
   "source": [
    "*Recuerde oprimir [Shift]+[Enter]* "
   ]
  },
  {
   "cell_type": "markdown",
   "metadata": {
    "application/vnd.databricks.v1+cell": {
     "cellMetadata": {},
     "inputWidgets": {},
     "nuid": "dc84a5a7-8221-4476-9bda-b6085a29ded6",
     "showTitle": false,
     "title": ""
    }
   },
   "source": [
    "### Ejercicio 4\n",
    "Es muy importante usar bien los paréntesis, el uso o desuso puede generar problemas graves en las cuentas, encuentre el error y describa lo que hizo la máquina en los siguientes casos respecto a la operación anterior:"
   ]
  },
  {
   "cell_type": "code",
   "execution_count": 0,
   "metadata": {
    "application/vnd.databricks.v1+cell": {
     "cellMetadata": {},
     "inputWidgets": {},
     "nuid": "90f36891-80f1-4764-bf8a-6194e0d9c831",
     "showTitle": false,
     "title": ""
    }
   },
   "outputs": [],
   "source": [
    "5*3-5**2-(6)/(9**(1/2))"
   ]
  },
  {
   "cell_type": "code",
   "execution_count": 0,
   "metadata": {
    "application/vnd.databricks.v1+cell": {
     "cellMetadata": {},
     "inputWidgets": {},
     "nuid": "659f78a4-5838-4c09-8699-5c3b55e6ce5b",
     "showTitle": false,
     "title": ""
    }
   },
   "outputs": [],
   "source": [
    "5*(3-5)**2-6/(9**1/2)"
   ]
  },
  {
   "cell_type": "code",
   "execution_count": 0,
   "metadata": {
    "application/vnd.databricks.v1+cell": {
     "cellMetadata": {},
     "inputWidgets": {},
     "nuid": "650b8e46-a1ff-42dd-9020-c575cfe59e56",
     "showTitle": false,
     "title": ""
    }
   },
   "outputs": [],
   "source": [
    "5*(3-5)**2-6/9**1/2"
   ]
  },
  {
   "cell_type": "code",
   "execution_count": 0,
   "metadata": {
    "application/vnd.databricks.v1+cell": {
     "cellMetadata": {},
     "inputWidgets": {},
     "nuid": "4a0e73e3-18a4-4101-a335-04985161b558",
     "showTitle": false,
     "title": ""
    }
   },
   "outputs": [],
   "source": [
    "5*3-5**2-6/9**1/2"
   ]
  },
  {
   "cell_type": "markdown",
   "metadata": {
    "application/vnd.databricks.v1+cell": {
     "cellMetadata": {},
     "inputWidgets": {},
     "nuid": "b4092e38-c32d-4e7a-8e0c-c6f51d299ae1",
     "showTitle": false,
     "title": ""
    }
   },
   "source": [
    "La división es una operación bien especial pues la mayoría de ocasiones produce un número con parte fraccionaria. Sin embargo, cuando estabamos pequeños nos enseñaron a dividir enteros dando como respuesta un entero llamado cociente y lo que hacia falta para completar la división, un número llamado residuo. En Python podemos calcular esos valores con `\\\\` para el cociente y `%`para el residuo. Por ejemplo, sabemos que:\n",
    "\n",
    "$$ 20 \\div 3 = 6 \\ \\ \\ \\text{ con residuo } 2$$\n",
    "tenemos:"
   ]
  },
  {
   "cell_type": "code",
   "execution_count": 0,
   "metadata": {
    "application/vnd.databricks.v1+cell": {
     "cellMetadata": {},
     "inputWidgets": {},
     "nuid": "bd0c169a-4046-4250-8644-e03b1442af27",
     "showTitle": false,
     "title": ""
    }
   },
   "outputs": [],
   "source": [
    "20//3"
   ]
  },
  {
   "cell_type": "code",
   "execution_count": 0,
   "metadata": {
    "application/vnd.databricks.v1+cell": {
     "cellMetadata": {},
     "inputWidgets": {},
     "nuid": "2151bc03-f33b-4426-8882-b375dbc799a5",
     "showTitle": false,
     "title": ""
    }
   },
   "outputs": [],
   "source": [
    "20%3"
   ]
  },
  {
   "cell_type": "markdown",
   "metadata": {
    "application/vnd.databricks.v1+cell": {
     "cellMetadata": {},
     "inputWidgets": {},
     "nuid": "795a9852-a04a-425f-b886-08cb4e492162",
     "showTitle": false,
     "title": ""
    }
   },
   "source": [
    "Python Tambien reconoce los números complejos. El valor imaginario se lo asigna a la letra `j`"
   ]
  },
  {
   "cell_type": "code",
   "execution_count": 0,
   "metadata": {
    "application/vnd.databricks.v1+cell": {
     "cellMetadata": {},
     "inputWidgets": {},
     "nuid": "4c39a965-0a8e-48de-983c-71b466ed8fdf",
     "showTitle": false,
     "title": ""
    }
   },
   "outputs": [],
   "source": [
    "3+(-4)**(1/2) # Recordemos un poquito de nuestras matemáticas"
   ]
  },
  {
   "cell_type": "markdown",
   "metadata": {
    "application/vnd.databricks.v1+cell": {
     "cellMetadata": {},
     "inputWidgets": {},
     "nuid": "eedfe54b-84c1-45bb-93e6-c6d4b1a7bc07",
     "showTitle": false,
     "title": ""
    }
   },
   "source": [
    "Finalmente, una función elemental y util para el tratamiento de números decimales es `round`. Lo usamos para redodendear los valores a uno con el decimal que escojamos. Tenemos:"
   ]
  },
  {
   "cell_type": "code",
   "execution_count": 0,
   "metadata": {
    "application/vnd.databricks.v1+cell": {
     "cellMetadata": {},
     "inputWidgets": {},
     "nuid": "8946f0af-c283-4a4d-a2c0-ec66d6818998",
     "showTitle": false,
     "title": ""
    }
   },
   "outputs": [],
   "source": [
    "n1=47/3\n",
    "n1"
   ]
  },
  {
   "cell_type": "code",
   "execution_count": 0,
   "metadata": {
    "application/vnd.databricks.v1+cell": {
     "cellMetadata": {},
     "inputWidgets": {},
     "nuid": "50876d80-a8ed-45df-86fa-590aae11a9d2",
     "showTitle": false,
     "title": ""
    }
   },
   "outputs": [],
   "source": [
    "n2=round(n1)\n",
    "n2"
   ]
  },
  {
   "cell_type": "code",
   "execution_count": 0,
   "metadata": {
    "application/vnd.databricks.v1+cell": {
     "cellMetadata": {},
     "inputWidgets": {},
     "nuid": "34196dda-df73-4a14-a931-f29aab7b22aa",
     "showTitle": false,
     "title": ""
    }
   },
   "outputs": [],
   "source": [
    "n3=round(n1,3)\n",
    "n3"
   ]
  },
  {
   "cell_type": "markdown",
   "metadata": {
    "application/vnd.databricks.v1+cell": {
     "cellMetadata": {},
     "inputWidgets": {},
     "nuid": "ba503bda-a0a3-4641-a0a7-20e64933c7ac",
     "showTitle": false,
     "title": ""
    }
   },
   "source": [
    "## Textos\n",
    "\n",
    "Los textos son expresiones que representan una cadena de caracteres, utiles para escribir mensajes y combinarlos con valores que generemos en nuestros procesamientos. Para escribi un texto en Python usamos comillas simples: `'...'` o comillas dobles: `\"...\"`. Combinamos comillas para poner comillas adentro:"
   ]
  },
  {
   "cell_type": "code",
   "execution_count": 0,
   "metadata": {
    "application/vnd.databricks.v1+cell": {
     "cellMetadata": {},
     "inputWidgets": {},
     "nuid": "dbe00ab8-902d-42e1-b4d6-14c36ca9a6af",
     "showTitle": false,
     "title": ""
    }
   },
   "outputs": [],
   "source": [
    "a='Texto simple escrito entre comillas simples'\n",
    "print(a)\n",
    "a"
   ]
  },
  {
   "cell_type": "code",
   "execution_count": 0,
   "metadata": {
    "application/vnd.databricks.v1+cell": {
     "cellMetadata": {},
     "inputWidgets": {},
     "nuid": "724405bf-fa9a-46bd-ab61-22318cc893fd",
     "showTitle": false,
     "title": ""
    }
   },
   "outputs": [],
   "source": [
    "b='Texto simple escrito entre comillas dobles'\n",
    "print(b)\n",
    "b"
   ]
  },
  {
   "cell_type": "code",
   "execution_count": 0,
   "metadata": {
    "application/vnd.databricks.v1+cell": {
     "cellMetadata": {},
     "inputWidgets": {},
     "nuid": "6c9ea3e2-182b-45c3-affa-b3de84b42ba0",
     "showTitle": false,
     "title": ""
    }
   },
   "outputs": [],
   "source": [
    "c='Texto simple escrito entre comillas simples que necesita \"adentrico\" comillas dobles'\n",
    "print(c)\n",
    "c"
   ]
  },
  {
   "cell_type": "code",
   "execution_count": 0,
   "metadata": {
    "application/vnd.databricks.v1+cell": {
     "cellMetadata": {},
     "inputWidgets": {},
     "nuid": "913879c1-2855-450a-a8a6-c432c7c63037",
     "showTitle": false,
     "title": ""
    }
   },
   "outputs": [],
   "source": [
    "d=\"Texto simple escrito entre comillas dobles que necesita 'adentrico' comillas simples\"\n",
    "print(d)\n",
    "d"
   ]
  },
  {
   "cell_type": "markdown",
   "metadata": {
    "application/vnd.databricks.v1+cell": {
     "cellMetadata": {},
     "inputWidgets": {},
     "nuid": "063cf531-30e3-4c64-a314-c12bde7ee6fa",
     "showTitle": false,
     "title": ""
    }
   },
   "source": [
    "Como vimos, la función print es la que nos permite imprimir estos mensajes. El texto \\n indica una nueva linea en el texto:"
   ]
  },
  {
   "cell_type": "code",
   "execution_count": 0,
   "metadata": {
    "application/vnd.databricks.v1+cell": {
     "cellMetadata": {},
     "inputWidgets": {},
     "nuid": "530f4397-d641-4fe2-b9d9-d9eadac2521d",
     "showTitle": false,
     "title": ""
    }
   },
   "outputs": [],
   "source": [
    "print(\"Una línea\\notra línea\")"
   ]
  },
  {
   "cell_type": "markdown",
   "metadata": {
    "application/vnd.databricks.v1+cell": {
     "cellMetadata": {},
     "inputWidgets": {},
     "nuid": "d31f5a82-1cf2-412b-ac35-3dda5d244a72",
     "showTitle": false,
     "title": ""
    }
   },
   "source": [
    "No obstante, a veces necesitamos escribir  \\n en un mensaje:"
   ]
  },
  {
   "cell_type": "code",
   "execution_count": 0,
   "metadata": {
    "application/vnd.databricks.v1+cell": {
     "cellMetadata": {},
     "inputWidgets": {},
     "nuid": "77a277b8-3d5c-49ce-a9f9-9ddd1ac640fa",
     "showTitle": false,
     "title": ""
    }
   },
   "outputs": [],
   "source": [
    "print('La ruta del archivo es C:\\nombres\\archivo.ipynb')"
   ]
  },
  {
   "cell_type": "markdown",
   "metadata": {
    "application/vnd.databricks.v1+cell": {
     "cellMetadata": {},
     "inputWidgets": {},
     "nuid": "acfd957d-ddba-4613-b106-cf8dc204699f",
     "showTitle": false,
     "title": ""
    }
   },
   "source": [
    "En este caso la aparición de \\ daño el mensaje, para resolver el problema escribimos r antes:"
   ]
  },
  {
   "cell_type": "code",
   "execution_count": 0,
   "metadata": {
    "application/vnd.databricks.v1+cell": {
     "cellMetadata": {},
     "inputWidgets": {},
     "nuid": "e8114371-a0ae-4312-9fd0-a8aa799575a0",
     "showTitle": false,
     "title": ""
    }
   },
   "outputs": [],
   "source": [
    "print(r'La ruta del archivo es C:\\nombres\\archivo.ipynb')"
   ]
  },
  {
   "cell_type": "markdown",
   "metadata": {
    "application/vnd.databricks.v1+cell": {
     "cellMetadata": {},
     "inputWidgets": {},
     "nuid": "07375af5-bc26-4279-ab29-ae2c9940dc5f",
     "showTitle": false,
     "title": ""
    }
   },
   "source": [
    "Finalmente, podemos recorrer los valores de la cadena de texto de la siguiente forma:"
   ]
  },
  {
   "cell_type": "code",
   "execution_count": 0,
   "metadata": {
    "application/vnd.databricks.v1+cell": {
     "cellMetadata": {},
     "inputWidgets": {},
     "nuid": "2a764b9d-32e7-4ddb-bce2-5d642413cd7e",
     "showTitle": false,
     "title": ""
    }
   },
   "outputs": [],
   "source": [
    "texto=\"cuidado_con_el_orden\""
   ]
  },
  {
   "cell_type": "code",
   "execution_count": 0,
   "metadata": {
    "application/vnd.databricks.v1+cell": {
     "cellMetadata": {},
     "inputWidgets": {},
     "nuid": "328241a7-e1ad-4669-9735-e91186e246d3",
     "showTitle": false,
     "title": ""
    }
   },
   "outputs": [],
   "source": [
    "texto[0]"
   ]
  },
  {
   "cell_type": "code",
   "execution_count": 0,
   "metadata": {
    "application/vnd.databricks.v1+cell": {
     "cellMetadata": {},
     "inputWidgets": {},
     "nuid": "ed9fd3bf-2ae7-4b2e-baad-67daffa3d5c8",
     "showTitle": false,
     "title": ""
    }
   },
   "outputs": [],
   "source": [
    "texto[1]"
   ]
  },
  {
   "cell_type": "code",
   "execution_count": 0,
   "metadata": {
    "application/vnd.databricks.v1+cell": {
     "cellMetadata": {},
     "inputWidgets": {},
     "nuid": "87f7b37f-a9ea-4355-9ab5-825ea2ceb96d",
     "showTitle": false,
     "title": ""
    }
   },
   "outputs": [],
   "source": [
    "texto[0:5]"
   ]
  },
  {
   "cell_type": "code",
   "execution_count": 0,
   "metadata": {
    "application/vnd.databricks.v1+cell": {
     "cellMetadata": {},
     "inputWidgets": {},
     "nuid": "3da9cd2d-fb8f-49f0-81d4-d371e8bbd3a0",
     "showTitle": false,
     "title": ""
    }
   },
   "outputs": [],
   "source": [
    "texto[5:9]"
   ]
  },
  {
   "cell_type": "markdown",
   "metadata": {
    "application/vnd.databricks.v1+cell": {
     "cellMetadata": {},
     "inputWidgets": {},
     "nuid": "a3d4051e-7f48-42a1-987c-6f549fbf314b",
     "showTitle": false,
     "title": ""
    }
   },
   "source": [
    "## Listas \n",
    "\n",
    "Tambien podemos crear listas y arreglos en Python usando `[ ... ]`, los elementos de la lista se separan por comas.  "
   ]
  },
  {
   "cell_type": "code",
   "execution_count": 0,
   "metadata": {
    "application/vnd.databricks.v1+cell": {
     "cellMetadata": {},
     "inputWidgets": {},
     "nuid": "448ad682-098b-4ff3-aa1a-fb97b8d48013",
     "showTitle": false,
     "title": ""
    }
   },
   "outputs": [],
   "source": [
    "primos=[2,3,5,7,11,13,17,19]"
   ]
  },
  {
   "cell_type": "code",
   "execution_count": 0,
   "metadata": {
    "application/vnd.databricks.v1+cell": {
     "cellMetadata": {},
     "inputWidgets": {},
     "nuid": "21dca37d-20af-4f79-801a-be9df3f186ae",
     "showTitle": false,
     "title": ""
    }
   },
   "outputs": [],
   "source": [
    "len(primos)"
   ]
  },
  {
   "cell_type": "markdown",
   "metadata": {
    "application/vnd.databricks.v1+cell": {
     "cellMetadata": {},
     "inputWidgets": {},
     "nuid": "21a4246d-c483-4fd6-8f66-cb02ac96ef7c",
     "showTitle": false,
     "title": ""
    }
   },
   "source": [
    "Igual que las cadenas de texto se pueden explorar los elementos usando `nombredelalista[pos] `, donde pos es la posición del elemento. "
   ]
  },
  {
   "cell_type": "code",
   "execution_count": 0,
   "metadata": {
    "application/vnd.databricks.v1+cell": {
     "cellMetadata": {},
     "inputWidgets": {},
     "nuid": "47cae398-0df0-47f2-bf89-9688705d8834",
     "showTitle": false,
     "title": ""
    }
   },
   "outputs": [],
   "source": [
    "primos[0] #0 siempre denota al primer elemento"
   ]
  },
  {
   "cell_type": "code",
   "execution_count": 0,
   "metadata": {
    "application/vnd.databricks.v1+cell": {
     "cellMetadata": {},
     "inputWidgets": {},
     "nuid": "65650953-c6bf-41a9-8430-3dd0dc56c748",
     "showTitle": false,
     "title": ""
    }
   },
   "outputs": [],
   "source": [
    "primos [-6]"
   ]
  },
  {
   "cell_type": "markdown",
   "metadata": {
    "application/vnd.databricks.v1+cell": {
     "cellMetadata": {},
     "inputWidgets": {},
     "nuid": "7f6292ed-7423-4a09-aadf-66e3c6dd300a",
     "showTitle": false,
     "title": ""
    }
   },
   "source": [
    "se pueden adicionar elementos a la lista con la función `nombredelalista.append() `"
   ]
  },
  {
   "cell_type": "code",
   "execution_count": 0,
   "metadata": {
    "application/vnd.databricks.v1+cell": {
     "cellMetadata": {},
     "inputWidgets": {},
     "nuid": "f3dff474-0e5a-4a0b-a577-f2b0f2c5b449",
     "showTitle": false,
     "title": ""
    }
   },
   "outputs": [],
   "source": [
    "print(\"Antes: \", primos)\n",
    "primos.append(23)\n",
    "print(\"Después: \", primos)"
   ]
  },
  {
   "cell_type": "markdown",
   "metadata": {
    "application/vnd.databricks.v1+cell": {
     "cellMetadata": {},
     "inputWidgets": {},
     "nuid": "b11db3cf-243d-4179-922a-f1682b55a5ac",
     "showTitle": false,
     "title": ""
    }
   },
   "source": [
    "Así mismo, los elemento se pueden modificar:\n"
   ]
  },
  {
   "cell_type": "code",
   "execution_count": 0,
   "metadata": {
    "application/vnd.databricks.v1+cell": {
     "cellMetadata": {},
     "inputWidgets": {},
     "nuid": "8d03ea18-91ad-49c9-afaa-0241da28dc63",
     "showTitle": false,
     "title": ""
    }
   },
   "outputs": [],
   "source": [
    "print(\"Antes: \",primos)\n",
    "primos[0]=1\n",
    "print(\"Después: \",primos)"
   ]
  },
  {
   "cell_type": "markdown",
   "metadata": {
    "application/vnd.databricks.v1+cell": {
     "cellMetadata": {},
     "inputWidgets": {},
     "nuid": "07a8208f-6d77-4f0b-b002-3f64763fce36",
     "showTitle": false,
     "title": ""
    }
   },
   "source": [
    "o eliminar:"
   ]
  },
  {
   "cell_type": "code",
   "execution_count": 0,
   "metadata": {
    "application/vnd.databricks.v1+cell": {
     "cellMetadata": {},
     "inputWidgets": {},
     "nuid": "9387f26e-68ed-4e96-816d-662d617f779b",
     "showTitle": false,
     "title": ""
    }
   },
   "outputs": [],
   "source": [
    "print(\"Antes: \",primos)\n",
    "primos[0:5]=[]\n",
    "print(\"Después: \",primos)"
   ]
  },
  {
   "cell_type": "markdown",
   "metadata": {
    "application/vnd.databricks.v1+cell": {
     "cellMetadata": {},
     "inputWidgets": {},
     "nuid": "97fd3b42-d3f0-4eca-a208-74e878f68ae3",
     "showTitle": false,
     "title": ""
    }
   },
   "source": [
    "También se hacen listas de listas, se conocen como arreglos y si todas las listas tienen la misma cantidad de elementos las llamamos matrices:"
   ]
  },
  {
   "cell_type": "code",
   "execution_count": 0,
   "metadata": {
    "application/vnd.databricks.v1+cell": {
     "cellMetadata": {},
     "inputWidgets": {},
     "nuid": "92d6f5df-53ce-4d90-a658-3a8d4b63cec0",
     "showTitle": false,
     "title": ""
    }
   },
   "outputs": [],
   "source": [
    "Cel=[[7,8,9],[4,5,6],[1,2,3]]"
   ]
  },
  {
   "cell_type": "code",
   "execution_count": 0,
   "metadata": {
    "application/vnd.databricks.v1+cell": {
     "cellMetadata": {},
     "inputWidgets": {},
     "nuid": "e8b3cb36-bfad-48d1-bc3b-9558a35ccdfd",
     "showTitle": false,
     "title": ""
    }
   },
   "outputs": [],
   "source": [
    "print(Cel)"
   ]
  },
  {
   "cell_type": "code",
   "execution_count": 0,
   "metadata": {
    "application/vnd.databricks.v1+cell": {
     "cellMetadata": {},
     "inputWidgets": {},
     "nuid": "6950b395-721f-4547-8c9e-fab828ba9053",
     "showTitle": false,
     "title": ""
    }
   },
   "outputs": [],
   "source": [
    "Cel[0]"
   ]
  },
  {
   "cell_type": "code",
   "execution_count": 0,
   "metadata": {
    "application/vnd.databricks.v1+cell": {
     "cellMetadata": {},
     "inputWidgets": {},
     "nuid": "3a597497-5a44-4330-abf1-61864db9d5e9",
     "showTitle": false,
     "title": ""
    }
   },
   "outputs": [],
   "source": [
    "Cel[0][0]"
   ]
  }
 ],
 "metadata": {
  "application/vnd.databricks.v1+notebook": {
   "dashboards": [],
   "language": "python",
   "notebookMetadata": {},
   "notebookName": "Introducción al lenguaje Python-checkpoint",
   "widgets": {}
  },
  "colab": {
   "collapsed_sections": [
    "-MlSHN16Bg8-",
    "scclT03UHVrm",
    "qAqnr4i70sLy",
    "OqFH478Xza5l",
    "ivDxEY5J3EXW",
    "wspqLphleQ07",
    "jsYP__7Q7y6j",
    "4y3X0kbfHXzW"
   ],
   "name": "1. Introducción a Python.ipynb",
   "provenance": [],
   "version": "0.3.2"
  },
  "kernelspec": {
   "display_name": "Python 3",
   "language": "python",
   "name": "python3"
  },
  "language_info": {
   "codemirror_mode": {
    "name": "ipython",
    "version": 3
   },
   "file_extension": ".py",
   "mimetype": "text/x-python",
   "name": "python",
   "nbconvert_exporter": "python",
   "pygments_lexer": "ipython3",
   "version": "3.7.6"
  },
  "toc": {
   "base_numbering": 1,
   "nav_menu": {},
   "number_sections": false,
   "sideBar": true,
   "skip_h1_title": false,
   "title_cell": "Table of Contents",
   "title_sidebar": "Contents",
   "toc_cell": false,
   "toc_position": {},
   "toc_section_display": true,
   "toc_window_display": false
  }
 },
 "nbformat": 4,
 "nbformat_minor": 0
}
