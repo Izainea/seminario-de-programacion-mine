{
 "cells": [
  {
   "cell_type": "markdown",
   "metadata": {
    "application/vnd.databricks.v1+cell": {
     "cellMetadata": {},
     "inputWidgets": {},
     "nuid": "cced6eb6-998c-46f6-b1c0-c8376d1c5526",
     "showTitle": false,
     "title": ""
    }
   },
   "source": [
    "# La programación orientada a objetos\n",
    "\n",
    "Una de las características principales de Python es que es un lenguaje multiparadigma, sin embargo, hasta el momento hemos trabajado con las características de programación estructurada *(estructuras de datos y estructuras de control)*. No obstante, también se menciono que Python como lenguaje admite la programación orientada a objetos, y con las **clases** materializamos este paradigma de programación, entendiendolas como *plantillas*  para la creación de objetos.\n",
    "\n",
    "Un **objeto**, encapsulará atributos y funciones (o métodos) en una sola entidad. \n"
   ]
  },
  {
   "cell_type": "markdown",
   "metadata": {
    "application/vnd.databricks.v1+cell": {
     "cellMetadata": {},
     "inputWidgets": {},
     "nuid": "e3c5ef5b-a4e7-4b2c-b779-65ee56a33358",
     "showTitle": false,
     "title": ""
    }
   },
   "source": [
    "## Clases\n",
    "\n",
    "Una clase es un modelo para crear a partir de ella ciertos Objetos. Contendrá las características y capacidades que tendrá el objeto que sea cree a partir de ella.\n",
    "\n",
    "Así a su vez los objetos creados a partir de una clase estarán agrupados en esa misma entidad. Veamos un ejemplo:\n",
    "\n",
    "**Clase Fracción**\n",
    "\n",
    "Hagamos en python una estructura de datos que luzca como las fracciones. Para ello crearemos una clase que inicialice con los dos componentes que conforman a la fracción el numerador y el denominador.\n",
    "\n"
   ]
  },
  {
   "cell_type": "code",
   "execution_count": 0,
   "metadata": {
    "application/vnd.databricks.v1+cell": {
     "cellMetadata": {},
     "inputWidgets": {},
     "nuid": "3bcb4962-74d1-4e38-bfd8-5b43a059eee9",
     "showTitle": false,
     "title": ""
    }
   },
   "outputs": [],
   "source": [
    "3/5"
   ]
  },
  {
   "cell_type": "code",
   "execution_count": 0,
   "metadata": {
    "application/vnd.databricks.v1+cell": {
     "cellMetadata": {},
     "inputWidgets": {},
     "nuid": "aec7f3a9-aa35-40a3-b910-dddc520ca093",
     "showTitle": false,
     "title": ""
    }
   },
   "outputs": [],
   "source": [
    "class Fraccion:\n",
    "    def __init__(self,numerador,denominador):\n",
    "        self.num = numerador\n",
    "        self.den = denominador"
   ]
  },
  {
   "cell_type": "markdown",
   "metadata": {
    "application/vnd.databricks.v1+cell": {
     "cellMetadata": {},
     "inputWidgets": {},
     "nuid": "9a76e385-55a6-4c58-98b0-46edc45a791d",
     "showTitle": false,
     "title": ""
    }
   },
   "source": [
    "Observe que la clase se inicializa con tres elementos (self, arriba, abajo). self es un parámetro especial que hace referencia al objeto mismo y siempre se pone como el primer parámetro formal. Sin embargo, nunca tendrá un valor real en la ejecución de la clase.\n",
    "\n",
    "La notación self.num en el constructor define que el objeto fraccion tenga un objeto de datos interno llamado num como parte de su estado. Del mismo modo, self.den crea el denominador.\n",
    "\n",
    "Todas las instancias (objetos construidos a partir de la clase) se definirán con esos dos parámetros formales."
   ]
  },
  {
   "cell_type": "code",
   "execution_count": 0,
   "metadata": {
    "application/vnd.databricks.v1+cell": {
     "cellMetadata": {},
     "inputWidgets": {},
     "nuid": "2aeabc22-ca29-4fc2-b831-52744879e562",
     "showTitle": false,
     "title": ""
    }
   },
   "outputs": [],
   "source": [
    "PrimerFraccion = Fraccion(3,5)"
   ]
  },
  {
   "cell_type": "code",
   "execution_count": 0,
   "metadata": {
    "application/vnd.databricks.v1+cell": {
     "cellMetadata": {},
     "inputWidgets": {},
     "nuid": "b5e6a4f8-dd5b-4e6e-8484-24fdcb73d5fe",
     "showTitle": false,
     "title": ""
    }
   },
   "outputs": [],
   "source": [
    "print(PrimerFraccion)"
   ]
  },
  {
   "cell_type": "markdown",
   "metadata": {
    "application/vnd.databricks.v1+cell": {
     "cellMetadata": {},
     "inputWidgets": {},
     "nuid": "f9b494d1-56bb-4e81-bef9-c08926644780",
     "showTitle": false,
     "title": ""
    }
   },
   "source": [
    "El objeto fraccion cuando se muestra imprime la referencia real que se almacena en la variable (la dirección en sí misma). Esto no es lo que queremos. Buscamos una cadena (incluso textual) para identificar la fracción tal y como la conocemos. \n",
    "\n",
    "Entonces podemos definir una función para visualizar la fracción, modificamos la clase incluyendo un método o función nueva:"
   ]
  },
  {
   "cell_type": "code",
   "execution_count": 0,
   "metadata": {
    "application/vnd.databricks.v1+cell": {
     "cellMetadata": {},
     "inputWidgets": {},
     "nuid": "90aabd30-f044-4b5b-8064-3ffb37043521",
     "showTitle": false,
     "title": ""
    }
   },
   "outputs": [],
   "source": [
    "class Fraccion:\n",
    "    def __init__(self,numerador,denominador):\n",
    "\n",
    "        self.num = numerador\n",
    "        self.den = denominador\n",
    "        \n",
    "    def ver(self):\n",
    "        print(self.num,\"/\",self.den)"
   ]
  },
  {
   "cell_type": "code",
   "execution_count": 0,
   "metadata": {
    "application/vnd.databricks.v1+cell": {
     "cellMetadata": {},
     "inputWidgets": {},
     "nuid": "d1c0d69e-9976-40db-8c1d-019dfc6d4b3e",
     "showTitle": false,
     "title": ""
    }
   },
   "outputs": [],
   "source": [
    "PrimerFraccion = Fraccion(6,8)\n",
    "PrimerFraccion.ver()"
   ]
  },
  {
   "cell_type": "markdown",
   "metadata": {
    "application/vnd.databricks.v1+cell": {
     "cellMetadata": {},
     "inputWidgets": {},
     "nuid": "a6b0f23c-6b3a-4816-9cc6-13090e344db6",
     "showTitle": false,
     "title": ""
    }
   },
   "source": [
    "También podemos verla, a partir de un print, definiendolo de una manera directa utilizando un método de nombre `__str__` convierte al objeto en una cadena."
   ]
  },
  {
   "cell_type": "code",
   "execution_count": 0,
   "metadata": {
    "application/vnd.databricks.v1+cell": {
     "cellMetadata": {},
     "inputWidgets": {},
     "nuid": "7c9a8dbb-f029-4ff3-9bde-19d4eff61700",
     "showTitle": false,
     "title": ""
    }
   },
   "outputs": [],
   "source": [
    "class Fraccion:\n",
    "    def __init__(self,numerador,denominador):\n",
    "\n",
    "        self.num = numerador\n",
    "        self.den = denominador\n",
    "        \n",
    "    def ver(self):\n",
    "        print(self.num,\"/\",self.den)\n",
    "        \n",
    "    def __str__(self):\n",
    "        return str(self.num)+\"/\"+str(self.den)\n",
    "    "
   ]
  },
  {
   "cell_type": "code",
   "execution_count": 0,
   "metadata": {
    "application/vnd.databricks.v1+cell": {
     "cellMetadata": {},
     "inputWidgets": {},
     "nuid": "2c1c1feb-32ea-45e0-872f-a14cbe62c763",
     "showTitle": false,
     "title": ""
    }
   },
   "outputs": [],
   "source": [
    "print(Fraccion(1,5))"
   ]
  },
  {
   "cell_type": "code",
   "execution_count": 0,
   "metadata": {
    "application/vnd.databricks.v1+cell": {
     "cellMetadata": {},
     "inputWidgets": {},
     "nuid": "0001a6f5-4fd2-424c-bfa9-2c8bd2ffc542",
     "showTitle": false,
     "title": ""
    }
   },
   "outputs": [],
   "source": [
    "PrimerFraccion = Fraccion(3,5)\n",
    "print(PrimerFraccion)"
   ]
  },
  {
   "cell_type": "markdown",
   "metadata": {
    "application/vnd.databricks.v1+cell": {
     "cellMetadata": {},
     "inputWidgets": {},
     "nuid": "7b792ddd-2ff8-47d3-92c3-c69e8122df79",
     "showTitle": false,
     "title": ""
    }
   },
   "source": [
    "Hay varios métodos que hacen referencia a esas notaciones estándar, por ejemplo pensemos en la suma (+), veamos que ocurre si intento sumar fracciones: "
   ]
  },
  {
   "cell_type": "code",
   "execution_count": 0,
   "metadata": {
    "application/vnd.databricks.v1+cell": {
     "cellMetadata": {},
     "inputWidgets": {},
     "nuid": "ea9cac56-0f86-46d5-a895-d3f490032695",
     "showTitle": false,
     "title": ""
    }
   },
   "outputs": [],
   "source": [
    "f1=Fraccion(2,5)\n",
    "f2=Fraccion(1,4)"
   ]
  },
  {
   "cell_type": "code",
   "execution_count": 0,
   "metadata": {
    "application/vnd.databricks.v1+cell": {
     "cellMetadata": {},
     "inputWidgets": {},
     "nuid": "0dd4345e-6736-4c83-bdd4-1864ec0aa83d",
     "showTitle": false,
     "title": ""
    }
   },
   "outputs": [],
   "source": [
    "f1+f2"
   ]
  },
  {
   "cell_type": "code",
   "execution_count": 0,
   "metadata": {
    "application/vnd.databricks.v1+cell": {
     "cellMetadata": {},
     "inputWidgets": {},
     "nuid": "35114628-8ebe-4eeb-96d7-a7946ced27dd",
     "showTitle": false,
     "title": ""
    }
   },
   "outputs": [],
   "source": [
    "class Fraccion:\n",
    "    def __init__(self,numerador,denominador):\n",
    "\n",
    "        self.num = numerador\n",
    "        self.den = denominador\n",
    "        \n",
    "    def ver(self):\n",
    "        print(self.num,\"/\",self.den)\n",
    "        \n",
    "    def __str__(self):\n",
    "        return str(self.num)+\"/\"+str(self.den)\n",
    "    \n",
    "    def sumar(self,fraccion2):\n",
    "        sumnum=self.num*fraccion2.den+self.den*fraccion2.num\n",
    "        sumden=self.den*fraccion2.den\n",
    "        return  Fraccion(sumnum,sumden)"
   ]
  },
  {
   "cell_type": "code",
   "execution_count": 0,
   "metadata": {
    "application/vnd.databricks.v1+cell": {
     "cellMetadata": {},
     "inputWidgets": {},
     "nuid": "2e808185-c4bb-4a01-bd6f-8452ace619c1",
     "showTitle": false,
     "title": ""
    }
   },
   "outputs": [],
   "source": [
    "f1=Fraccion(2,5)\n",
    "f2=Fraccion(1,4)"
   ]
  },
  {
   "cell_type": "code",
   "execution_count": 0,
   "metadata": {
    "application/vnd.databricks.v1+cell": {
     "cellMetadata": {},
     "inputWidgets": {},
     "nuid": "d66b26dc-ae3f-4699-b818-6ad79c288b0f",
     "showTitle": false,
     "title": ""
    }
   },
   "outputs": [],
   "source": [
    "f3=f1.sumar(f2)\n",
    "print(f3)"
   ]
  },
  {
   "cell_type": "code",
   "execution_count": 0,
   "metadata": {
    "application/vnd.databricks.v1+cell": {
     "cellMetadata": {},
     "inputWidgets": {},
     "nuid": "03e560d2-6b99-4b1f-91cd-61b5373529d8",
     "showTitle": false,
     "title": ""
    },
    "scrolled": true
   },
   "outputs": [],
   "source": [
    "f1+f2"
   ]
  },
  {
   "cell_type": "markdown",
   "metadata": {
    "application/vnd.databricks.v1+cell": {
     "cellMetadata": {},
     "inputWidgets": {},
     "nuid": "ae01e0f2-0722-4812-98d9-d28e5c2f416d",
     "showTitle": false,
     "title": ""
    }
   },
   "source": [
    "Resulta ser una operación no soprtada, la puedo definir usando  el método `__add__`:"
   ]
  },
  {
   "cell_type": "code",
   "execution_count": 0,
   "metadata": {
    "application/vnd.databricks.v1+cell": {
     "cellMetadata": {},
     "inputWidgets": {},
     "nuid": "566216ce-9185-448f-983d-b2848a2d96b7",
     "showTitle": false,
     "title": ""
    }
   },
   "outputs": [],
   "source": [
    "class Fraccion:\n",
    "    def __init__(self,numerador,denominador):\n",
    "\n",
    "        self.num = numerador\n",
    "        self.den = denominador\n",
    "        \n",
    "    def ver(self):\n",
    "        print(self.num,\"/\",self.den)\n",
    "        \n",
    "    def __str__(self):\n",
    "        return str(self.num)+\"/\"+str(self.den)\n",
    "    \n",
    "    def __add__(self,self2):\n",
    "        sumanum = self.num*self2.den + self.den*self2.num\n",
    "        sumaden = self.den * self2.den\n",
    "        return Fraccion(sumanum,sumaden)"
   ]
  },
  {
   "cell_type": "code",
   "execution_count": 0,
   "metadata": {
    "application/vnd.databricks.v1+cell": {
     "cellMetadata": {},
     "inputWidgets": {},
     "nuid": "f991f818-2773-4592-88df-100dfd89a05d",
     "showTitle": false,
     "title": ""
    }
   },
   "outputs": [],
   "source": [
    "f1=Fraccion(2,5)\n",
    "f2=Fraccion(1,4)\n",
    "print(f1+f2)\n"
   ]
  },
  {
   "cell_type": "markdown",
   "metadata": {
    "application/vnd.databricks.v1+cell": {
     "cellMetadata": {},
     "inputWidgets": {},
     "nuid": "ae9e6db9-9091-4688-9fca-bf4c896f8869",
     "showTitle": false,
     "title": ""
    }
   },
   "source": [
    "Para buscar los operadores definibles en una clase podemos hacer referencia a los deiferentes métodos que emulan los operadores numéricos ver [Referencia Python *(Emulating numeric types)*](https://docs.python.org/3/reference/datamodel.html?highlight=method%20__add__#object.__add__)\n",
    "\n",
    "Para ver más métodos especiales ver [Referencia Python *(Special method names )*](https://docs.python.org/3/reference/datamodel.html?highlight=method%20__add__#special-method-names)"
   ]
  },
  {
   "cell_type": "code",
   "execution_count": 0,
   "metadata": {
    "application/vnd.databricks.v1+cell": {
     "cellMetadata": {},
     "inputWidgets": {},
     "nuid": "7b4e2876-db0e-4c6c-846b-0dd6d0a1521c",
     "showTitle": false,
     "title": ""
    }
   },
   "outputs": [],
   "source": [
    "def mcd(a,b):\n",
    "    mcd=1\n",
    "    c=min(a,b)\n",
    "    d=max(a,b)\n",
    "    for i in range(1,c+1):\n",
    "        if c%i==0:\n",
    "            if d%i==0:\n",
    "                mcd=i\n",
    "    return mcd\n",
    "\n",
    "class Fraccion:\n",
    "    def __init__(self,numerador,denominador):\n",
    "\n",
    "        self.num = numerador\n",
    "        self.den = denominador\n",
    "        \n",
    "        \n",
    "    def __str__(self):\n",
    "        M=mcd(self.num,self.den)        \n",
    "        return str(self.num//M)+\"/\"+str(self.den//M)\n",
    "    \n",
    "    def __add__(self,fraccion2):\n",
    "        sumanum = self.num*fraccion2.den + self.den*fraccion2.num\n",
    "        sumaden = self.den * fraccion2.den\n",
    "        return Fraccion(sumanum,sumaden)\n",
    "    \n",
    "    def __sub__(self,fraccion2):\n",
    "        sumanum = self.num*fraccion2.den - self.den*fraccion2.num\n",
    "        sumaden = self.den * fraccion2.den\n",
    "        return Fraccion(sumanum,sumaden)\n",
    "    \n",
    "    \n",
    "    ##Multiplicación     \n",
    "    def __mul__(self,fraccion2):\n",
    "        multnum = self.num*fraccion2.num\n",
    "        multden = self.den * fraccion2.den\n",
    "        return Fraccion(multnum,multden)\n",
    "    ## Dividir\n",
    "    \n",
    "    def __truediv__(self,fraccion2):\n",
    "        divnum = self.num * fraccion2.den\n",
    "        divden = self.den * fraccion2.num\n",
    "        return Fraccion(divnum,divden)\n",
    "    \n",
    "    \n",
    "    ##Negativos \n",
    "    \n",
    "    def __neg__(self):\n",
    "        negnum=-self.num\n",
    "        return Fraccion(negnum,self.den)\n",
    "    \n",
    "    \n",
    "    ## Potencias enteras positivas \n",
    "    def __pow__(self,intn): \n",
    "        if intn > 0:\n",
    "            potnum=int((self.num)**intn )\n",
    "            potden=int((self.den)**intn )\n",
    "            return Fraccion(potnum,potden) \n",
    "        elif intn <0:            \n",
    "            numeradorPEN=int(self.den**abs(intn))\n",
    "            denominadorPEN=int(self.num**abs(intn))\n",
    "            return Fraccion(numeradorPEN,denominadorPEN)\n",
    "        else:\n",
    "            return Fraccion(1,1)\n",
    "    \n"
   ]
  },
  {
   "cell_type": "code",
   "execution_count": 0,
   "metadata": {
    "application/vnd.databricks.v1+cell": {
     "cellMetadata": {},
     "inputWidgets": {},
     "nuid": "d777dda5-28b5-445a-85b1-754e5b44d74b",
     "showTitle": false,
     "title": ""
    }
   },
   "outputs": [],
   "source": [
    "f1=Fraccion(2,5)\n",
    "f2=Fraccion(4,8)"
   ]
  },
  {
   "cell_type": "code",
   "execution_count": 0,
   "metadata": {
    "application/vnd.databricks.v1+cell": {
     "cellMetadata": {},
     "inputWidgets": {},
     "nuid": "859489a2-916b-4e13-acb3-fc708f3b16d0",
     "showTitle": false,
     "title": ""
    }
   },
   "outputs": [],
   "source": [
    "print(f1*f2)"
   ]
  },
  {
   "cell_type": "code",
   "execution_count": 0,
   "metadata": {
    "application/vnd.databricks.v1+cell": {
     "cellMetadata": {},
     "inputWidgets": {},
     "nuid": "8564c790-fb74-4bc6-bb8f-152e085532f5",
     "showTitle": false,
     "title": ""
    }
   },
   "outputs": [],
   "source": [
    "print(f1/f2)"
   ]
  },
  {
   "cell_type": "code",
   "execution_count": 0,
   "metadata": {
    "application/vnd.databricks.v1+cell": {
     "cellMetadata": {},
     "inputWidgets": {},
     "nuid": "97d133d3-4c87-4009-b09f-c3fbf31335ae",
     "showTitle": false,
     "title": ""
    }
   },
   "outputs": [],
   "source": [
    "print(-f1)"
   ]
  },
  {
   "cell_type": "code",
   "execution_count": 0,
   "metadata": {
    "application/vnd.databricks.v1+cell": {
     "cellMetadata": {},
     "inputWidgets": {},
     "nuid": "1afee382-72e4-4c56-89d3-c091ee8ab259",
     "showTitle": false,
     "title": ""
    }
   },
   "outputs": [],
   "source": [
    "print(f1**(0))"
   ]
  },
  {
   "cell_type": "code",
   "execution_count": 0,
   "metadata": {
    "application/vnd.databricks.v1+cell": {
     "cellMetadata": {},
     "inputWidgets": {},
     "nuid": "b8c34711-80bf-4621-8989-e7fa548e0dcf",
     "showTitle": false,
     "title": ""
    }
   },
   "outputs": [],
   "source": [
    "f4=Fraccion(4,8)\n",
    "print(f4)"
   ]
  },
  {
   "cell_type": "code",
   "execution_count": 0,
   "metadata": {
    "application/vnd.databricks.v1+cell": {
     "cellMetadata": {},
     "inputWidgets": {},
     "nuid": "fe75e67c-4220-4e38-bf2f-ddd7270a9c2f",
     "showTitle": false,
     "title": ""
    }
   },
   "outputs": [],
   "source": [
    "f1=Fraccion(2,5)"
   ]
  },
  {
   "cell_type": "code",
   "execution_count": 0,
   "metadata": {
    "application/vnd.databricks.v1+cell": {
     "cellMetadata": {},
     "inputWidgets": {},
     "nuid": "b531a402-40d4-4940-a2f4-d6a9e3463dd3",
     "showTitle": false,
     "title": ""
    }
   },
   "outputs": [],
   "source": [
    "print(f1/f4)"
   ]
  },
  {
   "cell_type": "code",
   "execution_count": 0,
   "metadata": {
    "application/vnd.databricks.v1+cell": {
     "cellMetadata": {},
     "inputWidgets": {},
     "nuid": "92043f85-94fd-422e-9228-2ebc53f61992",
     "showTitle": false,
     "title": ""
    }
   },
   "outputs": [],
   "source": [
    "mcd(36,24)"
   ]
  },
  {
   "cell_type": "code",
   "execution_count": 0,
   "metadata": {
    "application/vnd.databricks.v1+cell": {
     "cellMetadata": {},
     "inputWidgets": {},
     "nuid": "3e986afa-03ec-4711-b614-1e277c62cddf",
     "showTitle": false,
     "title": ""
    }
   },
   "outputs": [],
   "source": [
    "f1=Fraccion(2,5)\n",
    "f2=Fraccion(1,4)\n",
    "print(f2-f1)"
   ]
  },
  {
   "cell_type": "code",
   "execution_count": 0,
   "metadata": {
    "application/vnd.databricks.v1+cell": {
     "cellMetadata": {},
     "inputWidgets": {},
     "nuid": "f7e91a92-1b3f-4699-9728-7e9c87dab263",
     "showTitle": false,
     "title": ""
    }
   },
   "outputs": [],
   "source": [
    "import Fraccion as f"
   ]
  },
  {
   "cell_type": "code",
   "execution_count": 0,
   "metadata": {
    "application/vnd.databricks.v1+cell": {
     "cellMetadata": {},
     "inputWidgets": {},
     "nuid": "31660606-95bf-41cd-960c-fb00d5e99d77",
     "showTitle": false,
     "title": ""
    }
   },
   "outputs": [],
   "source": [
    "f.division(3,5)"
   ]
  },
  {
   "cell_type": "markdown",
   "metadata": {
    "application/vnd.databricks.v1+cell": {
     "cellMetadata": {},
     "inputWidgets": {},
     "nuid": "e8f77561-91be-4dfe-89dd-528dc72b7567",
     "showTitle": false,
     "title": ""
    }
   },
   "source": [
    "## Otro ejemplo\n",
    "\n",
    "Recordemos entonces que el objeto, definido por las clases, almacena información de atributos y métodos (funciones) para hacer algunas tareas, una visualización gráfica de las clases es la siguiente:\n",
    "\n",
    "![Clases](https://pythones.net/wp-content/uploads/2019/01/Clases-y-Objetos-min-577x1024-min.png)\n",
    "\n",
    "*Tomada de [https://pythones.net/clases-y-metodos-python-oop/](https://pythones.net/clases-y-metodos-python-oop/)*\n",
    "\n",
    "Aquí la clase humano tiene como  **atributos:** Fecha de nacimiento; edad; Padres; Genero...\n",
    "\n",
    "como **métodos:** Correr; Caminar y Hablar.\n",
    "\n",
    "Los objetos Marcos y Elisa pertenecen a la misma Clase; pero tienen diferentes valores para los atributos y sus métodos quizás obtengan diferentes argumentos (valores para sus parámetros).\n",
    "\n",
    "Recuerde que la definición de atributos se hace al definir la función `__init__`."
   ]
  },
  {
   "cell_type": "markdown",
   "metadata": {
    "application/vnd.databricks.v1+cell": {
     "cellMetadata": {},
     "inputWidgets": {},
     "nuid": "608ed0cc-4549-41b1-b203-852f84dca648",
     "showTitle": false,
     "title": ""
    }
   },
   "source": [
    "Veamos un ejemplo:"
   ]
  },
  {
   "cell_type": "code",
   "execution_count": 0,
   "metadata": {
    "application/vnd.databricks.v1+cell": {
     "cellMetadata": {},
     "inputWidgets": {},
     "nuid": "c43affe9-5196-4855-b31c-6ea24ea34481",
     "showTitle": false,
     "title": ""
    }
   },
   "outputs": [],
   "source": [
    "\n",
    "class Humano(): #Creamos la clase Humano\n",
    "    def __init__(self, edad, nombre, ocupacion,horas_laboradas): #Definimos el parámetro edad , nombre y ocupación\n",
    "        self.edad = edad # Definimos que el atributo edad, sera la edad asignada\n",
    "        self.nombre = nombre # Definimos que el atributo nombre, sera el nombre asig\n",
    "        self.ocupacion = ocupacion #DEFINIMOS EL ATRIBUTO DE INSTANCIA OCUPACIÓN\n",
    "        self.horas=horas_laboradas\n",
    "        self.dia=0 #Iniciamos en el día 0\n",
    "        \n",
    "        \n",
    "        #Creación de un nuevo método\n",
    "    def presentar(self):\n",
    "        presentacion = (\"Hola soy {name}, mi edad es {age} y mi ocupación es {ocu}\") #Mensaje\n",
    "        print(presentacion.format(name=self.nombre, age=self.edad, ocu=self.ocupacion)) #Usamos FORMAT\n",
    "        \n",
    "    def dias_transcurridos(self,n):\n",
    "        if self.ocupacion!= 'Desocupado':\n",
    "            self.dia=self.dia+n\n",
    "            self.horas=self.horas+n*8\n",
    "            print('Has trabajado',self.horas,'horas')\n",
    "        else:\n",
    "            self.dia=self.dia+n\n",
    "            print('Desde el día 0, han transcurrido',self.dia,'días' )\n",
    "        \n",
    "        #Creamos un nuevo método para cambiar la ocupación:\n",
    "        #En caso que esta persona sea contratada\n",
    "        \n",
    "    def contratar(self, puesto): #añadimos un nuevo parámetro en el método\n",
    "        self.puesto = puesto\n",
    "        print (\"{name} ha sido contratado como {vac}\".format(name=self.nombre, vac=self.puesto))\n",
    "        self.ocupacion = puesto#Ahora cambiamos el atributo ocupación\n",
    "    \n",
    "    def cumplio_anios(self):\n",
    "        self.edad=self.edad+1\n",
    "        print(\"Feliz cumpleaños te deseamos a ti, {name}\".format(name=self.nombre))\n"
   ]
  },
  {
   "cell_type": "code",
   "execution_count": 0,
   "metadata": {
    "application/vnd.databricks.v1+cell": {
     "cellMetadata": {},
     "inputWidgets": {},
     "nuid": "a2b0d939-a9ef-4f67-8928-283f0b77ef35",
     "showTitle": false,
     "title": ""
    }
   },
   "outputs": [],
   "source": [
    "Persona1 = Humano(31, \"Pedro\", \"Desocupado\",400) #Instancia\n",
    "\n",
    "#Llamamos al método\n",
    "\n",
    "Persona1.presentar() "
   ]
  },
  {
   "cell_type": "code",
   "execution_count": 0,
   "metadata": {
    "application/vnd.databricks.v1+cell": {
     "cellMetadata": {},
     "inputWidgets": {},
     "nuid": "32df6b7b-03b1-4c6d-a4e6-6b537fd75448",
     "showTitle": false,
     "title": ""
    }
   },
   "outputs": [],
   "source": [
    "Persona1.dias_transcurridos(20)"
   ]
  },
  {
   "cell_type": "code",
   "execution_count": 0,
   "metadata": {
    "application/vnd.databricks.v1+cell": {
     "cellMetadata": {},
     "inputWidgets": {},
     "nuid": "8cf1daeb-fa4e-45ba-ba95-011591bd601e",
     "showTitle": false,
     "title": ""
    }
   },
   "outputs": [],
   "source": [
    "Persona1.contratar(\"Obrero\")"
   ]
  },
  {
   "cell_type": "code",
   "execution_count": 0,
   "metadata": {
    "application/vnd.databricks.v1+cell": {
     "cellMetadata": {},
     "inputWidgets": {},
     "nuid": "826b24d0-673c-48ce-8e38-a4792d432287",
     "showTitle": false,
     "title": ""
    }
   },
   "outputs": [],
   "source": [
    "Persona1.presentar()"
   ]
  },
  {
   "cell_type": "code",
   "execution_count": 0,
   "metadata": {
    "application/vnd.databricks.v1+cell": {
     "cellMetadata": {},
     "inputWidgets": {},
     "nuid": "aa6937b2-ee14-47ff-bb31-0d0ec774e90a",
     "showTitle": false,
     "title": ""
    }
   },
   "outputs": [],
   "source": [
    "Persona1.contratar('Contador')"
   ]
  },
  {
   "cell_type": "code",
   "execution_count": 0,
   "metadata": {
    "application/vnd.databricks.v1+cell": {
     "cellMetadata": {},
     "inputWidgets": {},
     "nuid": "d34d52a0-09f4-4a69-b4b9-1dd94a385476",
     "showTitle": false,
     "title": ""
    }
   },
   "outputs": [],
   "source": [
    "Persona1.dias_transcurridos(20)"
   ]
  },
  {
   "cell_type": "code",
   "execution_count": 0,
   "metadata": {
    "application/vnd.databricks.v1+cell": {
     "cellMetadata": {},
     "inputWidgets": {},
     "nuid": "9356889d-1383-4ef3-a680-ee105084cf08",
     "showTitle": false,
     "title": ""
    }
   },
   "outputs": [],
   "source": [
    "Persona1.presentar()"
   ]
  },
  {
   "cell_type": "code",
   "execution_count": 0,
   "metadata": {
    "application/vnd.databricks.v1+cell": {
     "cellMetadata": {},
     "inputWidgets": {},
     "nuid": "6b471cb0-8c6b-4f1f-8e5b-c30cc8f0fddd",
     "showTitle": false,
     "title": ""
    }
   },
   "outputs": [],
   "source": [
    "Persona1.cumplio_anios()"
   ]
  },
  {
   "cell_type": "code",
   "execution_count": 0,
   "metadata": {
    "application/vnd.databricks.v1+cell": {
     "cellMetadata": {},
     "inputWidgets": {},
     "nuid": "7296fbf8-886c-4dc5-a670-75b152a39d41",
     "showTitle": false,
     "title": ""
    }
   },
   "outputs": [],
   "source": [
    "Persona1.presentar()"
   ]
  },
  {
   "cell_type": "code",
   "execution_count": 0,
   "metadata": {
    "application/vnd.databricks.v1+cell": {
     "cellMetadata": {},
     "inputWidgets": {},
     "nuid": "8dad1cc5-7547-4b4d-bb63-28fdc495e451",
     "showTitle": false,
     "title": ""
    }
   },
   "outputs": [],
   "source": [
    "from ipywidgets import interact\n",
    "\n",
    "interact(Persona1.dias_transcurridos,n=10)"
   ]
  },
  {
   "cell_type": "markdown",
   "metadata": {
    "application/vnd.databricks.v1+cell": {
     "cellMetadata": {},
     "inputWidgets": {},
     "nuid": "63cb7559-e815-4cde-8b92-54e378b4f3b1",
     "showTitle": false,
     "title": ""
    }
   },
   "source": [
    "## Módulos\n",
    "\n",
    "Como ven, en algunas ocasiones, veamos el ejemplo Fracción, la cantidad de código puede ser inmanejable. Además, con una reinicialización del nucleo o un bloqueo se pueden perder las definiciones previas. Para evitar este problema creamos módulos, archivos externos con extensión .py que podemos importar a nuestros cuadernos.\n",
    "\n",
    "Para este ejercicio usaremos el archivo fibo.py y usaremos las funciones alojadas en él, para importar sin problemas el archivo fibo.py debe estar en la misma carpeta del cuaderno:\n",
    "\n"
   ]
  },
  {
   "cell_type": "code",
   "execution_count": 0,
   "metadata": {
    "application/vnd.databricks.v1+cell": {
     "cellMetadata": {},
     "inputWidgets": {},
     "nuid": "3c06430f-46f8-4fe2-ab6e-b4ded66b7fe2",
     "showTitle": false,
     "title": ""
    }
   },
   "outputs": [],
   "source": [
    "import fibo"
   ]
  },
  {
   "cell_type": "code",
   "execution_count": 0,
   "metadata": {
    "application/vnd.databricks.v1+cell": {
     "cellMetadata": {},
     "inputWidgets": {},
     "nuid": "1ccc4ce8-8743-4179-a42c-98cd1f8d581e",
     "showTitle": false,
     "title": ""
    }
   },
   "outputs": [],
   "source": [
    "print(fibo.fib(1000))"
   ]
  },
  {
   "cell_type": "code",
   "execution_count": 0,
   "metadata": {
    "application/vnd.databricks.v1+cell": {
     "cellMetadata": {},
     "inputWidgets": {},
     "nuid": "11171bea-93c0-4e9b-9eab-e00fcc2d0308",
     "showTitle": false,
     "title": ""
    }
   },
   "outputs": [],
   "source": [
    "fibo.fib2(100)"
   ]
  },
  {
   "cell_type": "code",
   "execution_count": 0,
   "metadata": {
    "application/vnd.databricks.v1+cell": {
     "cellMetadata": {},
     "inputWidgets": {},
     "nuid": "4051d27a-ce6a-487a-9c73-43a03089520a",
     "showTitle": false,
     "title": ""
    }
   },
   "outputs": [],
   "source": [
    "fibo.constante"
   ]
  },
  {
   "cell_type": "code",
   "execution_count": 0,
   "metadata": {
    "application/vnd.databricks.v1+cell": {
     "cellMetadata": {},
     "inputWidgets": {},
     "nuid": "64257990-0786-4559-804a-ea3000c66c4e",
     "showTitle": false,
     "title": ""
    }
   },
   "outputs": [],
   "source": [
    "dir(fibo)"
   ]
  },
  {
   "cell_type": "code",
   "execution_count": 0,
   "metadata": {
    "application/vnd.databricks.v1+cell": {
     "cellMetadata": {},
     "inputWidgets": {},
     "nuid": "dbf58c94-598c-4965-b1e8-be53af1eb7e4",
     "showTitle": false,
     "title": ""
    }
   },
   "outputs": [],
   "source": [
    "?fibo.constante"
   ]
  }
 ],
 "metadata": {
  "application/vnd.databricks.v1+notebook": {
   "dashboards": [],
   "language": "python",
   "notebookMetadata": {},
   "notebookName": "Clases y Módulos-checkpoint",
   "widgets": {}
  },
  "kernelspec": {
   "display_name": "Python 3",
   "language": "python",
   "name": "python3"
  },
  "language_info": {
   "codemirror_mode": {
    "name": "ipython",
    "version": 3
   },
   "file_extension": ".py",
   "mimetype": "text/x-python",
   "name": "python",
   "nbconvert_exporter": "python",
   "pygments_lexer": "ipython3",
   "version": "3.8.5"
  },
  "toc": {
   "base_numbering": 1,
   "nav_menu": {},
   "number_sections": false,
   "sideBar": true,
   "skip_h1_title": false,
   "title_cell": "Table of Contents",
   "title_sidebar": "Contents",
   "toc_cell": false,
   "toc_position": {},
   "toc_section_display": true,
   "toc_window_display": false
  }
 },
 "nbformat": 4,
 "nbformat_minor": 0
}
