{
 "cells": [
  {
   "cell_type": "markdown",
   "metadata": {
    "application/vnd.databricks.v1+cell": {
     "cellMetadata": {},
     "inputWidgets": {},
     "nuid": "b114ef78-92fd-464b-8037-cdf1743da460",
     "showTitle": false,
     "title": ""
    }
   },
   "source": [
    "# Funciones y paquetes\n",
    "\n",
    "*Carlos Isaac Zainea Maya*\n",
    "\n",
    "Python cuenta con una cantidad innumerable de aportes de toda la comunidad dispuestos en archivos (modulos) guardados en algunas carpetas (paquetes). Un elemento importante de estos aportes son las funciones y las clases, de hecho, en una cantidad significativa de ejemplos los desarrolladores buscan una función o clases para apoyar sus creaciones.\n",
    "\n",
    "En este cuaderno estudiaremos ese componente fundamental de varios bloques de código, *las funciones* y conversaremos acerca de la instalación, inspección y carga de paquetes."
   ]
  },
  {
   "cell_type": "markdown",
   "metadata": {
    "application/vnd.databricks.v1+cell": {
     "cellMetadata": {},
     "inputWidgets": {},
     "nuid": "9fc89ba5-6f15-4b00-b4b5-1bd57cf63f83",
     "showTitle": false,
     "title": ""
    }
   },
   "source": [
    "## Funciones\n",
    "\n",
    "Las funciones son bloques de código en la cuál la máquina espera uno o varios argumentos de entrada. De acuerdo con lo que recibe, se ejecutan unos pasos y finalmente se produce un argumento de salida.\n",
    "\n",
    "La estructura para definirlas es la siguiente:\n",
    "\n",
    ">def nombre_de_la_funcion(ENTRADA):\n",
    "\n",
    ">    Pasos a realizar\n",
    "\n",
    ">    return SALIDA\n"
   ]
  },
  {
   "cell_type": "markdown",
   "metadata": {
    "application/vnd.databricks.v1+cell": {
     "cellMetadata": {},
     "inputWidgets": {},
     "nuid": "b2792abb-2bf8-4614-b158-1b7506f0b376",
     "showTitle": false,
     "title": ""
    }
   },
   "source": [
    "Hay una lista de funciones construidas en Python. En este [link](https://docs.python.org/3/library/functions.html), se encuentra un manual de todas las funciones básicas de Python.\n",
    "\n",
    "Veamos algunas de ellas:\n"
   ]
  },
  {
   "cell_type": "markdown",
   "metadata": {
    "application/vnd.databricks.v1+cell": {
     "cellMetadata": {},
     "inputWidgets": {},
     "nuid": "974a8a09-4d8a-471a-82b0-cc24c82484c6",
     "showTitle": false,
     "title": ""
    }
   },
   "source": [
    "**Ejemplo 1** Funciones predefinidas en Python."
   ]
  },
  {
   "cell_type": "markdown",
   "metadata": {
    "application/vnd.databricks.v1+cell": {
     "cellMetadata": {},
     "inputWidgets": {},
     "nuid": "55909416-3746-4e62-b98c-6aa86c2fc4a2",
     "showTitle": false,
     "title": ""
    }
   },
   "source": [
    "`all()` y `any()` "
   ]
  },
  {
   "cell_type": "code",
   "execution_count": 0,
   "metadata": {
    "application/vnd.databricks.v1+cell": {
     "cellMetadata": {},
     "inputWidgets": {},
     "nuid": "0b81fb6b-b8fb-483a-9488-450097c22d38",
     "showTitle": false,
     "title": ""
    }
   },
   "outputs": [],
   "source": [
    "y=[4<1,5<6,6<7]\n",
    "all(y)"
   ]
  },
  {
   "cell_type": "code",
   "execution_count": 0,
   "metadata": {
    "application/vnd.databricks.v1+cell": {
     "cellMetadata": {},
     "inputWidgets": {},
     "nuid": "2a83308d-c66c-4199-878f-804420f2094b",
     "showTitle": false,
     "title": ""
    }
   },
   "outputs": [],
   "source": [
    "y=[4>1,5<6,6<7]\n",
    "all(y)"
   ]
  },
  {
   "cell_type": "code",
   "execution_count": 0,
   "metadata": {
    "application/vnd.databricks.v1+cell": {
     "cellMetadata": {},
     "inputWidgets": {},
     "nuid": "3711391f-7773-45bc-99a5-9f3db3233a5d",
     "showTitle": false,
     "title": ""
    }
   },
   "outputs": [],
   "source": [
    "y=[4<1,5<6,6<7]\n",
    "any(y)"
   ]
  },
  {
   "cell_type": "code",
   "execution_count": 0,
   "metadata": {
    "application/vnd.databricks.v1+cell": {
     "cellMetadata": {},
     "inputWidgets": {},
     "nuid": "77706b44-624f-4f54-96f5-fa3390549692",
     "showTitle": false,
     "title": ""
    }
   },
   "outputs": [],
   "source": [
    "y=[4<1,8<6,9<7]\n",
    "any(y)"
   ]
  },
  {
   "cell_type": "code",
   "execution_count": 0,
   "metadata": {
    "application/vnd.databricks.v1+cell": {
     "cellMetadata": {},
     "inputWidgets": {},
     "nuid": "22d45cde-636b-40e7-a345-4d013c970464",
     "showTitle": false,
     "title": ""
    }
   },
   "outputs": [],
   "source": [
    "all((1,1,1))"
   ]
  },
  {
   "cell_type": "code",
   "execution_count": 0,
   "metadata": {
    "application/vnd.databricks.v1+cell": {
     "cellMetadata": {},
     "inputWidgets": {},
     "nuid": "d1398085-0d6a-4da5-84ac-4e73d872cc06",
     "showTitle": false,
     "title": ""
    }
   },
   "outputs": [],
   "source": [
    "mydict = { 1 : \"Orange\"}\n",
    "all(mydict)"
   ]
  },
  {
   "cell_type": "markdown",
   "metadata": {
    "application/vnd.databricks.v1+cell": {
     "cellMetadata": {},
     "inputWidgets": {},
     "nuid": "e88f12e1-5cb8-4fc9-90cb-265ffcf28d50",
     "showTitle": false,
     "title": ""
    }
   },
   "source": [
    "`dict()`"
   ]
  },
  {
   "cell_type": "code",
   "execution_count": 0,
   "metadata": {
    "application/vnd.databricks.v1+cell": {
     "cellMetadata": {},
     "inputWidgets": {},
     "nuid": "570c7568-5dd3-4733-8051-d45bb928e374",
     "showTitle": false,
     "title": ""
    }
   },
   "outputs": [],
   "source": [
    "dict(nombre='Isaac',intereses=['Academicos','Profesionales'])"
   ]
  },
  {
   "cell_type": "code",
   "execution_count": 0,
   "metadata": {
    "application/vnd.databricks.v1+cell": {
     "cellMetadata": {},
     "inputWidgets": {},
     "nuid": "89e49d02-c143-4c3a-968b-78c37bc9979d",
     "showTitle": false,
     "title": ""
    }
   },
   "outputs": [],
   "source": [
    "a = dict(one=1, two=2, three=3)\n",
    "b = {'one': 1, 'two': 2, 'three': 3}\n",
    "c = dict(zip(['one', 'two', 'three'], [1, 2, 3]))\n",
    "d = dict([('two', 2), ('one', 1), ('three', 3)])\n",
    "e = {'three': 3, 'one': 1, 'two': 2}\n",
    "print(a == b == c == d == e)\n",
    "print(e)"
   ]
  },
  {
   "cell_type": "code",
   "execution_count": 0,
   "metadata": {
    "application/vnd.databricks.v1+cell": {
     "cellMetadata": {},
     "inputWidgets": {},
     "nuid": "ab6d211c-e798-4cb8-a37c-8f2c01ca7383",
     "showTitle": false,
     "title": ""
    }
   },
   "outputs": [],
   "source": [
    "list(zip(['one', 'two', 'three'], [1, 2, 3]))"
   ]
  },
  {
   "cell_type": "code",
   "execution_count": 0,
   "metadata": {
    "application/vnd.databricks.v1+cell": {
     "cellMetadata": {},
     "inputWidgets": {},
     "nuid": "679d99a0-94d0-49f3-812a-f31b61a550ec",
     "showTitle": false,
     "title": ""
    }
   },
   "outputs": [],
   "source": [
    "a = dict(one={1}, two={2,2}, three={3,3,3})\n",
    "a"
   ]
  },
  {
   "cell_type": "markdown",
   "metadata": {
    "application/vnd.databricks.v1+cell": {
     "cellMetadata": {},
     "inputWidgets": {},
     "nuid": "fe2d8590-5887-4849-8883-52fce30119a4",
     "showTitle": false,
     "title": ""
    }
   },
   "source": [
    "`abs()`"
   ]
  },
  {
   "cell_type": "code",
   "execution_count": 0,
   "metadata": {
    "application/vnd.databricks.v1+cell": {
     "cellMetadata": {},
     "inputWidgets": {},
     "nuid": "857531ef-a1ff-479c-9015-cbf6f4034759",
     "showTitle": false,
     "title": ""
    }
   },
   "outputs": [],
   "source": [
    "print(abs(10))\n",
    "abs(10)==abs(-10)"
   ]
  },
  {
   "cell_type": "markdown",
   "metadata": {
    "application/vnd.databricks.v1+cell": {
     "cellMetadata": {},
     "inputWidgets": {},
     "nuid": "d13f28a9-3884-440f-b8e2-919d8bd33aee",
     "showTitle": false,
     "title": ""
    }
   },
   "source": [
    "`eval()`"
   ]
  },
  {
   "cell_type": "code",
   "execution_count": 0,
   "metadata": {
    "application/vnd.databricks.v1+cell": {
     "cellMetadata": {},
     "inputWidgets": {},
     "nuid": "055b5ca4-0078-46ca-ac92-bb16a9f46311",
     "showTitle": false,
     "title": ""
    }
   },
   "outputs": [],
   "source": [
    "x = 6\n",
    "eval('x**2')"
   ]
  },
  {
   "cell_type": "markdown",
   "metadata": {
    "application/vnd.databricks.v1+cell": {
     "cellMetadata": {},
     "inputWidgets": {},
     "nuid": "e8fcc4da-8937-4fbe-9b17-7ce35d4d37fb",
     "showTitle": false,
     "title": ""
    }
   },
   "source": [
    "`map()`"
   ]
  },
  {
   "cell_type": "code",
   "execution_count": 0,
   "metadata": {
    "application/vnd.databricks.v1+cell": {
     "cellMetadata": {},
     "inputWidgets": {},
     "nuid": "e63ba433-88e8-4c64-a182-e3298695538e",
     "showTitle": false,
     "title": ""
    }
   },
   "outputs": [],
   "source": [
    "x=map(len, {'apple', 'blueberry', 'cherry'}) \n",
    "list(x)"
   ]
  },
  {
   "cell_type": "markdown",
   "metadata": {
    "application/vnd.databricks.v1+cell": {
     "cellMetadata": {},
     "inputWidgets": {},
     "nuid": "d25ed685-c46e-401a-9f09-7e4e5d39149e",
     "showTitle": false,
     "title": ""
    }
   },
   "source": [
    "`reversed`"
   ]
  },
  {
   "cell_type": "code",
   "execution_count": 0,
   "metadata": {
    "application/vnd.databricks.v1+cell": {
     "cellMetadata": {},
     "inputWidgets": {},
     "nuid": "3c91c64f-62e7-46f4-90d0-cbe33e27a12d",
     "showTitle": false,
     "title": ""
    }
   },
   "outputs": [],
   "source": [
    "x=[1,2,3]\n",
    "y=reversed(x)\n",
    "list(y)"
   ]
  },
  {
   "cell_type": "code",
   "execution_count": 0,
   "metadata": {
    "application/vnd.databricks.v1+cell": {
     "cellMetadata": {},
     "inputWidgets": {},
     "nuid": "0f590c7c-f171-4f57-b391-96e727481b68",
     "showTitle": false,
     "title": ""
    }
   },
   "outputs": [],
   "source": [
    "x=\"CursoPython\"\n",
    "y=reversed(x)\n",
    "z=list(y)\n",
    "print(z)"
   ]
  },
  {
   "cell_type": "code",
   "execution_count": 0,
   "metadata": {
    "application/vnd.databricks.v1+cell": {
     "cellMetadata": {},
     "inputWidgets": {},
     "nuid": "d68a3a36-9ee6-40c6-9265-7193100e7c46",
     "showTitle": false,
     "title": ""
    }
   },
   "outputs": [],
   "source": [
    "y=\"\".join(z)\n",
    "x=reversed(y)\n",
    "z=list(x)\n",
    "z=\"\".join(z)\n",
    "print(z)"
   ]
  },
  {
   "cell_type": "code",
   "execution_count": 0,
   "metadata": {
    "application/vnd.databricks.v1+cell": {
     "cellMetadata": {},
     "inputWidgets": {},
     "nuid": "9cbb15a9-a79b-43fb-8cc4-ae3e17199c6b",
     "showTitle": false,
     "title": ""
    }
   },
   "outputs": [],
   "source": [
    "\"Cuaderno Python\".count(\"n\")"
   ]
  },
  {
   "cell_type": "code",
   "execution_count": 0,
   "metadata": {
    "application/vnd.databricks.v1+cell": {
     "cellMetadata": {},
     "inputWidgets": {},
     "nuid": "336c1452-f8d0-4707-9f9c-4b86e378037d",
     "showTitle": false,
     "title": ""
    }
   },
   "outputs": [],
   "source": [
    "\"Cuaderno Python\".index(\"a\")"
   ]
  },
  {
   "cell_type": "code",
   "execution_count": 0,
   "metadata": {
    "application/vnd.databricks.v1+cell": {
     "cellMetadata": {},
     "inputWidgets": {},
     "nuid": "07331e8a-b559-4a5e-92a2-a05219bf6acc",
     "showTitle": false,
     "title": ""
    }
   },
   "outputs": [],
   "source": [
    "Z=\"Cuaderno de Python hecho en jupyter\".split()\n",
    "Z"
   ]
  },
  {
   "cell_type": "code",
   "execution_count": 0,
   "metadata": {
    "application/vnd.databricks.v1+cell": {
     "cellMetadata": {},
     "inputWidgets": {},
     "nuid": "8aa3aed9-fe79-4334-9cf9-b94fda763060",
     "showTitle": false,
     "title": ""
    }
   },
   "outputs": [],
   "source": [
    "\"20%\".join(Z)"
   ]
  },
  {
   "cell_type": "code",
   "execution_count": 0,
   "metadata": {
    "application/vnd.databricks.v1+cell": {
     "cellMetadata": {},
     "inputWidgets": {},
     "nuid": "c0ff82db-352e-426f-9a0d-5aa1a6cd7c81",
     "showTitle": false,
     "title": ""
    }
   },
   "outputs": [],
   "source": [
    "\"Carta\".replace(\"a\",\"o\")"
   ]
  },
  {
   "cell_type": "code",
   "execution_count": 0,
   "metadata": {
    "application/vnd.databricks.v1+cell": {
     "cellMetadata": {},
     "inputWidgets": {},
     "nuid": "3b0df57f-7fa4-4bfa-a026-797734724204",
     "showTitle": false,
     "title": ""
    }
   },
   "outputs": [],
   "source": [
    "\"Canción\".replace(\"ó\",\"o\")"
   ]
  },
  {
   "cell_type": "markdown",
   "metadata": {
    "application/vnd.databricks.v1+cell": {
     "cellMetadata": {},
     "inputWidgets": {},
     "nuid": "52a61d8e-5aaa-4806-8fc5-6677722789c5",
     "showTitle": false,
     "title": ""
    }
   },
   "source": [
    "`print()` y `format`"
   ]
  },
  {
   "cell_type": "code",
   "execution_count": 0,
   "metadata": {
    "application/vnd.databricks.v1+cell": {
     "cellMetadata": {},
     "inputWidgets": {},
     "nuid": "f931284b-3f9f-4304-9745-3cf0ae45882c",
     "showTitle": false,
     "title": ""
    }
   },
   "outputs": [],
   "source": [
    "\"Hola {0}, tu saldo es {1:.3f}\".format(\"Juan\",321.43212)"
   ]
  },
  {
   "cell_type": "code",
   "execution_count": 0,
   "metadata": {
    "application/vnd.databricks.v1+cell": {
     "cellMetadata": {},
     "inputWidgets": {},
     "nuid": "f2491d7e-d2d5-43b0-a4cf-4d387c42044c",
     "showTitle": false,
     "title": ""
    }
   },
   "outputs": [],
   "source": []
  },
  {
   "cell_type": "code",
   "execution_count": 0,
   "metadata": {
    "application/vnd.databricks.v1+cell": {
     "cellMetadata": {},
     "inputWidgets": {},
     "nuid": "a2d22eb7-24c4-48b6-8fdd-505dd65d4b84",
     "showTitle": false,
     "title": ""
    }
   },
   "outputs": [],
   "source": [
    "N=input(\"Tu nombre\")\n",
    "S=input(\"Tu saldo\")\n",
    "S=float(S)\n",
    "if S>200000:\n",
    "    print(\"Hola {name}, tu saldo es {saldo:.2f}, afortunadamente {name} viviras otra semana y se te dará un premio.\".format(name=N,saldo=S))\n",
    "else:\n",
    "    print(\"Hola {name}, tu saldo es {saldo:.2f}, recuerda {name} que hay que ahorrar.\".format(name=N,saldo=S))"
   ]
  },
  {
   "cell_type": "code",
   "execution_count": 0,
   "metadata": {
    "application/vnd.databricks.v1+cell": {
     "cellMetadata": {},
     "inputWidgets": {},
     "nuid": "ae410f24-c330-48ad-bfa7-1f70ab872573",
     "showTitle": false,
     "title": ""
    }
   },
   "outputs": [],
   "source": [
    "print(\"Hola {0}, tu saldo es {1:9.3f}\".format(\"Pedro\",320000.2))"
   ]
  },
  {
   "cell_type": "code",
   "execution_count": 0,
   "metadata": {
    "application/vnd.databricks.v1+cell": {
     "cellMetadata": {},
     "inputWidgets": {},
     "nuid": "c33546bd-bb12-4730-a5a2-7f1ec5cd432d",
     "showTitle": false,
     "title": ""
    }
   },
   "outputs": [],
   "source": [
    "# integer arguments\n",
    "print(\"El número es:{:d}\".format(123))\n",
    "\n",
    "# float arguments\n",
    "print(\"El número con dos decimales:{:.2f}\".format(123.4567898))\n",
    "\n",
    "# octal, binary and hexadecimal format\n",
    "print(\"bin: {0:b}, oct: {0:o}, hex: {0:x}\".format(12))\n",
    "\n",
    "#exp notation, % notation\n",
    "print(\"Exp Notation: {0:.2e},% Notation: {0:.1%}\".format(0.12))"
   ]
  },
  {
   "cell_type": "code",
   "execution_count": 0,
   "metadata": {
    "application/vnd.databricks.v1+cell": {
     "cellMetadata": {},
     "inputWidgets": {},
     "nuid": "59707dab-687f-4c13-ba94-eff3ab32b4d1",
     "showTitle": false,
     "title": ""
    }
   },
   "outputs": [],
   "source": [
    "\n",
    "txt = \"The universe is {:,} years old.\"\n",
    "\n",
    "print(txt.format(13800000000))\n"
   ]
  },
  {
   "cell_type": "code",
   "execution_count": 0,
   "metadata": {
    "application/vnd.databricks.v1+cell": {
     "cellMetadata": {},
     "inputWidgets": {},
     "nuid": "1bda5fa2-7e8e-4fa0-bfac-2d10103ac1b3",
     "showTitle": false,
     "title": ""
    }
   },
   "outputs": [],
   "source": [
    "Nombres=[\"Juan\",\"Pedro\",\"Carlos\"]\n",
    "Saldos=[100,200,300]\n",
    "\n",
    "N=input(\"Nombre\")\n",
    "ind=Nombres.index(N)\n",
    "\n",
    "print(\"Hola {name}, tu saldo es {saldo:.2f}.\".format(name=Nombres[ind],saldo=Saldos[ind]))"
   ]
  },
  {
   "cell_type": "markdown",
   "metadata": {
    "application/vnd.databricks.v1+cell": {
     "cellMetadata": {},
     "inputWidgets": {},
     "nuid": "8c8ec4ad-2056-41c8-be4f-8205198317a7",
     "showTitle": false,
     "title": ""
    }
   },
   "source": [
    "`min(), max(), sum() `"
   ]
  },
  {
   "cell_type": "code",
   "execution_count": 0,
   "metadata": {
    "application/vnd.databricks.v1+cell": {
     "cellMetadata": {},
     "inputWidgets": {},
     "nuid": "42cb9772-f69b-4d77-8596-c1244697ab3c",
     "showTitle": false,
     "title": ""
    }
   },
   "outputs": [],
   "source": [
    "print(min(range(10)))\n",
    "print(max(range(10)))\n",
    "print(sum(range(10)))"
   ]
  },
  {
   "cell_type": "markdown",
   "metadata": {
    "application/vnd.databricks.v1+cell": {
     "cellMetadata": {},
     "inputWidgets": {},
     "nuid": "25e6e105-1078-4a2e-ba25-c4ef0129c384",
     "showTitle": false,
     "title": ""
    }
   },
   "source": [
    "\n",
    "**Ejemplo 2** También podemos  crear funciones, el siguiente código define una función que recibe un texto y en su parte final pone lo que mide:"
   ]
  },
  {
   "cell_type": "code",
   "execution_count": 0,
   "metadata": {
    "application/vnd.databricks.v1+cell": {
     "cellMetadata": {},
     "inputWidgets": {},
     "nuid": "7bd013fc-780e-4c6b-adf9-23c5c8eb4a6b",
     "showTitle": false,
     "title": ""
    }
   },
   "outputs": [],
   "source": [
    "def cuantomide(texto):\n",
    "    n=len(texto)\n",
    "    print(texto, \"tiene\",n,\"caracteres\")\n",
    "    return n"
   ]
  },
  {
   "cell_type": "code",
   "execution_count": 0,
   "metadata": {
    "application/vnd.databricks.v1+cell": {
     "cellMetadata": {},
     "inputWidgets": {},
     "nuid": "1886f53e-76e1-4710-a0b0-3b5a09815a41",
     "showTitle": false,
     "title": ""
    }
   },
   "outputs": [],
   "source": [
    "cuantomide(\"Universidad Externado\")"
   ]
  },
  {
   "cell_type": "markdown",
   "metadata": {
    "application/vnd.databricks.v1+cell": {
     "cellMetadata": {},
     "inputWidgets": {},
     "nuid": "6fe0e38c-a438-46d1-8138-89c8a8dc1f46",
     "showTitle": false,
     "title": ""
    }
   },
   "source": [
    "Veamos que dice acerca de la frase \"Curso de Python Básico\":\n"
   ]
  },
  {
   "cell_type": "code",
   "execution_count": 0,
   "metadata": {
    "application/vnd.databricks.v1+cell": {
     "cellMetadata": {},
     "inputWidgets": {},
     "nuid": "6de4eb41-7bc9-4477-b401-12e3d3bd85c5",
     "showTitle": false,
     "title": ""
    }
   },
   "outputs": [],
   "source": [
    "cuantomide(\"Curso de Python Básico\")"
   ]
  },
  {
   "cell_type": "markdown",
   "metadata": {
    "application/vnd.databricks.v1+cell": {
     "cellMetadata": {},
     "inputWidgets": {},
     "nuid": "d4e387bd-8f21-4332-bb95-6d6b1bfd5ef2",
     "showTitle": false,
     "title": ""
    }
   },
   "source": [
    "Observe que la salida de la función corresponde a la cantidad de caracteres, la frase hace parte de lo que ejecuta la función (en este caso `print`) sin embargo no aporta al resultado."
   ]
  },
  {
   "cell_type": "markdown",
   "metadata": {
    "application/vnd.databricks.v1+cell": {
     "cellMetadata": {},
     "inputWidgets": {},
     "nuid": "2fdd50c0-fa6a-4ce2-a06e-e55f7531d988",
     "showTitle": false,
     "title": ""
    }
   },
   "source": [
    "Algunas funciones útiles:"
   ]
  },
  {
   "cell_type": "code",
   "execution_count": 0,
   "metadata": {
    "application/vnd.databricks.v1+cell": {
     "cellMetadata": {},
     "inputWidgets": {},
     "nuid": "72667c51-310c-448f-93ef-3718883aac05",
     "showTitle": false,
     "title": ""
    }
   },
   "outputs": [],
   "source": [
    "def soyadulto(x):\n",
    "  if x < 18:\n",
    "    return False\n",
    "  else:\n",
    "    return True"
   ]
  },
  {
   "cell_type": "code",
   "execution_count": 0,
   "metadata": {
    "application/vnd.databricks.v1+cell": {
     "cellMetadata": {},
     "inputWidgets": {},
     "nuid": "82c3a8b7-7137-45d9-95d1-98b47e4f906c",
     "showTitle": false,
     "title": ""
    }
   },
   "outputs": [],
   "source": [
    "soyadulto(15)"
   ]
  },
  {
   "cell_type": "code",
   "execution_count": 0,
   "metadata": {
    "application/vnd.databricks.v1+cell": {
     "cellMetadata": {},
     "inputWidgets": {},
     "nuid": "794664e7-9fd8-4a58-825e-8869e869a845",
     "showTitle": false,
     "title": ""
    }
   },
   "outputs": [],
   "source": [
    "edades = [5, 12, 17, 18, 24, 32]\n",
    "\n",
    "def soyadulto(x):\n",
    "  if x < 18:\n",
    "    return False\n",
    "  else:\n",
    "    return True\n",
    "\n",
    "adultos = filter(soyadulto, edades)\n",
    "\n",
    "for x in adultos:\n",
    "  print(x) "
   ]
  },
  {
   "cell_type": "code",
   "execution_count": 0,
   "metadata": {
    "application/vnd.databricks.v1+cell": {
     "cellMetadata": {},
     "inputWidgets": {},
     "nuid": "3ae13c4f-c331-44d1-b462-82b7bf486abd",
     "showTitle": false,
     "title": ""
    }
   },
   "outputs": [],
   "source": [
    "def sumar5ydividirpor10(x):\n",
    "    y=(x+5)/10\n",
    "    return y"
   ]
  },
  {
   "cell_type": "code",
   "execution_count": 0,
   "metadata": {
    "application/vnd.databricks.v1+cell": {
     "cellMetadata": {},
     "inputWidgets": {},
     "nuid": "73cd338c-e626-4405-908e-3b5e48165514",
     "showTitle": false,
     "title": ""
    }
   },
   "outputs": [],
   "source": [
    "sumar5ydividirpor10(15)"
   ]
  },
  {
   "cell_type": "markdown",
   "metadata": {
    "application/vnd.databricks.v1+cell": {
     "cellMetadata": {},
     "inputWidgets": {},
     "nuid": "96a08f82-a19a-4efe-9ed8-2be11843fcb1",
     "showTitle": false,
     "title": ""
    }
   },
   "source": [
    "# Inspección, Instalación y Carga de Módulos y Paquetes\n",
    "\n",
    "\n",
    "\n",
    "Los módulos y paquetes de Python son funciones útiles que ya han sido creadas y están a nuestra disposición en la nube. Dependiendo del ambiente de trabajo usado, tenemos diferente cantidad de **paquetes** instalados. \n",
    "\n",
    "En la primera instalación de Anaconda y jupyter se instalaron varios paquetes, para verlos usamos la siguiente linea de código:"
   ]
  },
  {
   "cell_type": "code",
   "execution_count": 0,
   "metadata": {
    "application/vnd.databricks.v1+cell": {
     "cellMetadata": {},
     "inputWidgets": {},
     "nuid": "98c9fa29-2f49-4d8a-8782-c20625274db1",
     "showTitle": false,
     "title": ""
    }
   },
   "outputs": [],
   "source": [
    "# Recuerda que # es para usar comentarios\n",
    "# Versión Actual de Python siendo usada\n",
    "!python --version\n",
    "# Función print para dar un salto de línea\n",
    "#!conda list"
   ]
  },
  {
   "cell_type": "markdown",
   "metadata": {
    "application/vnd.databricks.v1+cell": {
     "cellMetadata": {},
     "inputWidgets": {},
     "nuid": "a160bc79-ea86-4933-9a88-3465d5bee5de",
     "showTitle": false,
     "title": ""
    }
   },
   "source": [
    "¡Aparecen un montón! entre los más importantes están:\n",
    "\n",
    "* Numpy\n",
    "* Scipy\n",
    "* Pandas\n",
    "* Sympy\n",
    "* Matplotlib\n",
    "\n",
    "Dentro de cada uno de estos paquetes se encuentran **modulos**, que juntos forman la librería de módulos disponibles en el ambiente de trabajo. \n",
    "\n",
    "Si alguno de los anteriores paquetes no aparece en la lista se puenden instalar escribiendo en una celda de código:\n",
    "\n",
    "`!pip install <nombre_paquete>`\n",
    "\n",
    "o\n",
    "\n",
    "`!conda install <nombre_paquete>`\n",
    "\n",
    "Uno que siempre falta es sympy, lo instalamos entonces:"
   ]
  },
  {
   "cell_type": "code",
   "execution_count": 0,
   "metadata": {
    "application/vnd.databricks.v1+cell": {
     "cellMetadata": {},
     "inputWidgets": {},
     "nuid": "581e849c-fa95-4a14-abb1-2834b4810c2a",
     "showTitle": false,
     "title": ""
    }
   },
   "outputs": [],
   "source": [
    "!pip install vyper"
   ]
  },
  {
   "cell_type": "markdown",
   "metadata": {
    "application/vnd.databricks.v1+cell": {
     "cellMetadata": {},
     "inputWidgets": {},
     "nuid": "16a0d65d-1d10-4afc-9153-170be3f523e5",
     "showTitle": false,
     "title": ""
    }
   },
   "source": [
    "\n",
    "## Qué es un módulo y como se usa:\n",
    "\n",
    "Un módulo es un archivo que tiene extensión *.py*, es decir, un archivo de texto que contiene código de python que se puede ejecutar. Un módulo puede definir funciones, clases y variables.\n",
    "\n",
    "Cabe resaltar lo siguiente: **Python es un lenguaje de programación orientado a objetos**.\n",
    "\n",
    "Para términos de visualización, imagínese una caja que tiene muchas cajas por dentro y dentro de cada caja existen herramientas de trabajo distintas.\n",
    "\n",
    "**Ejemplo:**\n",
    "\n",
    "Mi maleta. Mi maleta tiene dentro lo siguiente:\n",
    "\n",
    "- Una cartuchera.\n",
    "- Un computador.\n",
    "- Un cuaderno.\n",
    "\n",
    "Los roles serían los siguientes:\n",
    "\n",
    "- Maleta     $\\rightarrow$ Paquete\n",
    "- Cartuchera $\\rightarrow$ Módulo\n",
    "- Cuaderno   $\\rightarrow$ Módulo\n",
    "\n",
    "Entonces, si queremos usar la cartuchera, debemos primero abrir la maleta y tomarla.\n",
    "\n",
    "**O sea, del paquete, vamos a usar un módulo**.\n",
    "\n",
    "Dentro de la cartuchera tengo marcadores, lápices, y borrador.\n",
    "\n",
    "Estos toman el rol de **atributos**, objetos que hacen tareas específicas.\n",
    "\n",
    "Por tanto, si quiero usar un borrador, debería hacer lo siguiente\n",
    "\n",
    "Abrir maleta $\\rightarrow$ Tomar cartuchera $\\rightarrow$ Abrir Cartuchera $\\rightarrow$ Tomar Borrador\n",
    "\n",
    "En Python, estas acciones se pueden **traducir** a lo siguiente:\n",
    "\n",
    "```import Maleta as mt```\n",
    "\n",
    "```mt.Cartuchera.Borrador()```\n",
    "\n"
   ]
  },
  {
   "cell_type": "markdown",
   "metadata": {
    "application/vnd.databricks.v1+cell": {
     "cellMetadata": {},
     "inputWidgets": {},
     "nuid": "88d5c0d1-4499-4857-8f87-201fb7e1ab58",
     "showTitle": false,
     "title": ""
    }
   },
   "source": [
    "### Paquete random\n",
    "\n",
    "Veamos alguna documentación de alguno de los módulos y sus atributos.\n",
    "\n",
    "Por ejemplo random."
   ]
  },
  {
   "cell_type": "code",
   "execution_count": 0,
   "metadata": {
    "application/vnd.databricks.v1+cell": {
     "cellMetadata": {},
     "inputWidgets": {},
     "nuid": "e6ff60f3-0b01-44fd-8e9e-30f7facb4332",
     "showTitle": false,
     "title": ""
    }
   },
   "outputs": [],
   "source": [
    "#help(\"random\") # Muestra toda la documentación\n",
    "\n",
    "import random\n",
    "\n",
    "?random # Muestra una pequeña documentación"
   ]
  },
  {
   "cell_type": "code",
   "execution_count": 0,
   "metadata": {
    "application/vnd.databricks.v1+cell": {
     "cellMetadata": {},
     "inputWidgets": {},
     "nuid": "3f3cdb3e-724f-46bc-a869-69ceea8899be",
     "showTitle": false,
     "title": ""
    }
   },
   "outputs": [],
   "source": [
    "random.randint(3,15)"
   ]
  },
  {
   "cell_type": "code",
   "execution_count": 0,
   "metadata": {
    "application/vnd.databricks.v1+cell": {
     "cellMetadata": {},
     "inputWidgets": {},
     "nuid": "83ca1ad5-3132-456e-918b-e61c869b5cd1",
     "showTitle": false,
     "title": ""
    }
   },
   "outputs": [],
   "source": [
    "random.sample([\"Pedro\",\"Juan\",\"Carlos\"],2)"
   ]
  },
  {
   "cell_type": "code",
   "execution_count": 0,
   "metadata": {
    "application/vnd.databricks.v1+cell": {
     "cellMetadata": {},
     "inputWidgets": {},
     "nuid": "adb1193c-1cfb-4681-bae9-bc79487484a3",
     "showTitle": false,
     "title": ""
    }
   },
   "outputs": [],
   "source": [
    "dir(random)"
   ]
  },
  {
   "cell_type": "code",
   "execution_count": 0,
   "metadata": {
    "application/vnd.databricks.v1+cell": {
     "cellMetadata": {},
     "inputWidgets": {},
     "nuid": "06f88862-a379-4e1f-ae0b-1551745fc49b",
     "showTitle": false,
     "title": ""
    }
   },
   "outputs": [],
   "source": [
    "random.sample(dir(random),5)"
   ]
  },
  {
   "cell_type": "markdown",
   "metadata": {
    "application/vnd.databricks.v1+cell": {
     "cellMetadata": {},
     "inputWidgets": {},
     "nuid": "e75fef4d-9acf-41c5-823e-630fdc8a4527",
     "showTitle": false,
     "title": ""
    }
   },
   "source": [
    "El comando `dir(random)` nos permite ver los módulos que podemos usar, observe que aparece la función random, tengo que poner primero el nombre del paquete y luego el nombre de la función:"
   ]
  },
  {
   "cell_type": "code",
   "execution_count": 0,
   "metadata": {
    "application/vnd.databricks.v1+cell": {
     "cellMetadata": {},
     "inputWidgets": {},
     "nuid": "4684c5bd-fc84-42f5-ab53-10ad3f72b4ce",
     "showTitle": false,
     "title": ""
    }
   },
   "outputs": [],
   "source": [
    "x = random.random()\n",
    "print(\"Número aleatorio en [0,1]: \",x)"
   ]
  },
  {
   "cell_type": "markdown",
   "metadata": {
    "application/vnd.databricks.v1+cell": {
     "cellMetadata": {},
     "inputWidgets": {},
     "nuid": "45e77926-4b44-45fb-9df4-8ac6d8b29203",
     "showTitle": false,
     "title": ""
    }
   },
   "source": [
    "Otra función en random es `randint`"
   ]
  },
  {
   "cell_type": "code",
   "execution_count": 0,
   "metadata": {
    "application/vnd.databricks.v1+cell": {
     "cellMetadata": {},
     "inputWidgets": {},
     "nuid": "cc69ad46-e7e4-4455-bcc9-95205ddde321",
     "showTitle": false,
     "title": ""
    }
   },
   "outputs": [],
   "source": [
    "?random.randint"
   ]
  },
  {
   "cell_type": "code",
   "execution_count": 0,
   "metadata": {
    "application/vnd.databricks.v1+cell": {
     "cellMetadata": {},
     "inputWidgets": {},
     "nuid": "94578959-d8ba-49fe-9986-be40465c6325",
     "showTitle": false,
     "title": ""
    }
   },
   "outputs": [],
   "source": [
    "y=random.randint(3,6)\n",
    "print(\"Número entero aleatorio entre 3 y 6: \",y)"
   ]
  },
  {
   "cell_type": "markdown",
   "metadata": {
    "application/vnd.databricks.v1+cell": {
     "cellMetadata": {},
     "inputWidgets": {},
     "nuid": "368301e5-7601-4c5d-8411-9cab99d8a5bb",
     "showTitle": false,
     "title": ""
    }
   },
   "source": [
    "## Alias para módulos\n",
    "\n",
    "Otra propiedad genial de Python es su capacidad para reducir la cantidad de código escrito usando unos secretos milenarios: aliases.\n",
    "\n",
    "Por ejemplo, si me llamo Daniel, mi **alias** puede ser Dani.\n",
    "\n",
    "Entonces, acada vez que me digan Dani, yo miraré en respuesta.\n",
    "\n",
    "Traducir a Python luce así:\n",
    "\n",
    "```import modulo as alias```\n",
    "\n",
    "**Ejemplo:**"
   ]
  },
  {
   "cell_type": "code",
   "execution_count": 0,
   "metadata": {
    "application/vnd.databricks.v1+cell": {
     "cellMetadata": {},
     "inputWidgets": {},
     "nuid": "aba66ac4-8089-41f0-937d-af8db72aebbb",
     "showTitle": false,
     "title": ""
    }
   },
   "outputs": [],
   "source": [
    "import math as m\n",
    "\n",
    "# Una vez nombrado el alias, siempre se debe referir a ese alias y no al nombre principal\n",
    "\n",
    "#dir(math) genera error\n",
    "#dir(m)"
   ]
  },
  {
   "cell_type": "code",
   "execution_count": 0,
   "metadata": {
    "application/vnd.databricks.v1+cell": {
     "cellMetadata": {},
     "inputWidgets": {},
     "nuid": "8f9ac50c-c7ae-418f-a1fb-a23d19a3e373",
     "showTitle": false,
     "title": ""
    }
   },
   "outputs": [],
   "source": [
    "dir(m)"
   ]
  },
  {
   "cell_type": "markdown",
   "metadata": {
    "application/vnd.databricks.v1+cell": {
     "cellMetadata": {},
     "inputWidgets": {},
     "nuid": "326701b8-3740-4c11-94c5-c9ad0a86aa24",
     "showTitle": false,
     "title": ""
    }
   },
   "source": [
    "### Aplicación:\n",
    "\n",
    "Una pequeña aplicación de Matemáticas:\n",
    "\n",
    "**Área de una circunferencia de radio r:**\n",
    "\n",
    "$A = \\pi r²$"
   ]
  },
  {
   "cell_type": "code",
   "execution_count": 0,
   "metadata": {
    "application/vnd.databricks.v1+cell": {
     "cellMetadata": {},
     "inputWidgets": {},
     "nuid": "48c0c0c3-6649-4d2c-92b9-f3359c9a1471",
     "showTitle": false,
     "title": ""
    }
   },
   "outputs": [],
   "source": [
    "m.pi"
   ]
  },
  {
   "cell_type": "code",
   "execution_count": 0,
   "metadata": {
    "application/vnd.databricks.v1+cell": {
     "cellMetadata": {},
     "inputWidgets": {},
     "nuid": "49a9739d-e6b7-4820-b297-611fb40d46ba",
     "showTitle": false,
     "title": ""
    }
   },
   "outputs": [],
   "source": [
    "# Aplicación: Área de un círculo de radio 10 cm \n",
    "\n",
    "r = 10;          # Declarar el radio\n",
    "z = m.pi*(r**2)  # Escribir la fórmula matemática\n",
    "print(\"El Área del círculo es: \",z,\"cm²\")"
   ]
  },
  {
   "cell_type": "markdown",
   "metadata": {
    "application/vnd.databricks.v1+cell": {
     "cellMetadata": {},
     "inputWidgets": {},
     "nuid": "2b0d1e80-bf33-4b28-979e-da814dd46455",
     "showTitle": false,
     "title": ""
    }
   },
   "source": [
    "Como pueden observar, los módulos son el **alma de Python**.\n",
    "\n"
   ]
  },
  {
   "cell_type": "code",
   "execution_count": 0,
   "metadata": {
    "application/vnd.databricks.v1+cell": {
     "cellMetadata": {},
     "inputWidgets": {},
     "nuid": "19e7e853-a379-4df3-abfa-cdebd9120c27",
     "showTitle": false,
     "title": ""
    }
   },
   "outputs": [],
   "source": [
    "from math import pi\n",
    "r=2\n",
    "A = pi*r**2\n",
    "\n",
    "print(A)"
   ]
  },
  {
   "cell_type": "code",
   "execution_count": 0,
   "metadata": {
    "application/vnd.databricks.v1+cell": {
     "cellMetadata": {},
     "inputWidgets": {},
     "nuid": "0a463f55-76f7-44ed-982b-4bf0458adb00",
     "showTitle": false,
     "title": ""
    }
   },
   "outputs": [],
   "source": [
    "m.pi"
   ]
  },
  {
   "cell_type": "code",
   "execution_count": 0,
   "metadata": {
    "application/vnd.databricks.v1+cell": {
     "cellMetadata": {},
     "inputWidgets": {},
     "nuid": "deb2646f-cd40-4440-81fd-962dc4a2e757",
     "showTitle": false,
     "title": ""
    }
   },
   "outputs": [],
   "source": [
    "pi"
   ]
  },
  {
   "cell_type": "code",
   "execution_count": 0,
   "metadata": {
    "application/vnd.databricks.v1+cell": {
     "cellMetadata": {},
     "inputWidgets": {},
     "nuid": "dcdc6568-15a5-4e52-9074-3e645731ccf3",
     "showTitle": false,
     "title": ""
    }
   },
   "outputs": [],
   "source": [
    "import math\n",
    "dir(math)"
   ]
  },
  {
   "cell_type": "code",
   "execution_count": 0,
   "metadata": {
    "application/vnd.databricks.v1+cell": {
     "cellMetadata": {},
     "inputWidgets": {},
     "nuid": "f283271c-14d0-48a2-ad39-40a3ef662691",
     "showTitle": false,
     "title": ""
    }
   },
   "outputs": [],
   "source": [
    "??math.pi"
   ]
  },
  {
   "cell_type": "code",
   "execution_count": 0,
   "metadata": {
    "application/vnd.databricks.v1+cell": {
     "cellMetadata": {},
     "inputWidgets": {},
     "nuid": "edfea809-a0c0-48f9-b3d0-0415fd29783c",
     "showTitle": false,
     "title": ""
    }
   },
   "outputs": [],
   "source": [
    "??m.lgamma"
   ]
  },
  {
   "cell_type": "markdown",
   "metadata": {
    "application/vnd.databricks.v1+cell": {
     "cellMetadata": {},
     "inputWidgets": {},
     "nuid": "ca025069-3585-497f-990d-c53839b53391",
     "showTitle": false,
     "title": ""
    }
   },
   "source": [
    "## Paquete numpy\n",
    "\n",
    "NumPy es un paquete de Python para hacer cálculos numéricos, su nombre proviene de la abreviación de “Numerical Python”, es la librería principal para la computación científica y contiene las funciones matemáticas más famosas, tambien algunas constantes de interes: \n"
   ]
  },
  {
   "cell_type": "code",
   "execution_count": 0,
   "metadata": {
    "application/vnd.databricks.v1+cell": {
     "cellMetadata": {},
     "inputWidgets": {},
     "nuid": "e96031fd-1069-40c4-968e-b5c1bd9d8edc",
     "showTitle": false,
     "title": ""
    }
   },
   "outputs": [],
   "source": [
    "import numpy as np #np es el alias más conocido de numpy"
   ]
  },
  {
   "cell_type": "markdown",
   "metadata": {
    "application/vnd.databricks.v1+cell": {
     "cellMetadata": {},
     "inputWidgets": {},
     "nuid": "cd34c007-4e22-4dbc-9e04-2e640f8b475a",
     "showTitle": false,
     "title": ""
    }
   },
   "source": [
    "Para usar cualquier función de numpy tenemos que escribir\n",
    "\n",
    "`np.<función>`\n",
    "\n",
    "A continuación calculamos:\n",
    "\n",
    "* $\\pi=3.14159\\cdots$\n",
    "\n",
    "* $|-10|=10$\n",
    "\n",
    "* $e^1$\n"
   ]
  },
  {
   "cell_type": "code",
   "execution_count": 0,
   "metadata": {
    "application/vnd.databricks.v1+cell": {
     "cellMetadata": {},
     "inputWidgets": {},
     "nuid": "c69e71cd-8acb-4f2a-a150-431daa5e0c62",
     "showTitle": false,
     "title": ""
    }
   },
   "outputs": [],
   "source": [
    "np.pi"
   ]
  },
  {
   "cell_type": "code",
   "execution_count": 0,
   "metadata": {
    "application/vnd.databricks.v1+cell": {
     "cellMetadata": {},
     "inputWidgets": {},
     "nuid": "55c464ec-d8bf-468c-8ba6-5efeb7bf06dd",
     "showTitle": false,
     "title": ""
    }
   },
   "outputs": [],
   "source": [
    "np.abs(-10)"
   ]
  },
  {
   "cell_type": "code",
   "execution_count": 0,
   "metadata": {
    "application/vnd.databricks.v1+cell": {
     "cellMetadata": {},
     "inputWidgets": {},
     "nuid": "826fe433-e046-46f4-a5d8-622c3b50b69f",
     "showTitle": false,
     "title": ""
    }
   },
   "outputs": [],
   "source": [
    "np.exp(1)"
   ]
  },
  {
   "cell_type": "code",
   "execution_count": 0,
   "metadata": {
    "application/vnd.databricks.v1+cell": {
     "cellMetadata": {},
     "inputWidgets": {},
     "nuid": "d3fdea49-ca0a-4a78-80fd-d8c2cf22d6aa",
     "showTitle": false,
     "title": ""
    }
   },
   "outputs": [],
   "source": [
    "dir(np)"
   ]
  },
  {
   "cell_type": "code",
   "execution_count": 0,
   "metadata": {
    "application/vnd.databricks.v1+cell": {
     "cellMetadata": {},
     "inputWidgets": {},
     "nuid": "70b19cd1-d96f-46da-9a9a-1395f81d5025",
     "showTitle": false,
     "title": ""
    }
   },
   "outputs": [],
   "source": [
    "np.mean([1,2,3])"
   ]
  },
  {
   "cell_type": "code",
   "execution_count": 0,
   "metadata": {
    "application/vnd.databricks.v1+cell": {
     "cellMetadata": {},
     "inputWidgets": {},
     "nuid": "d526031b-6688-43c5-9e61-63e38bc2d3a6",
     "showTitle": false,
     "title": ""
    }
   },
   "outputs": [],
   "source": [
    "dir(np.linalg)"
   ]
  },
  {
   "cell_type": "code",
   "execution_count": 0,
   "metadata": {
    "application/vnd.databricks.v1+cell": {
     "cellMetadata": {},
     "inputWidgets": {},
     "nuid": "b9d4f049-75a3-4123-9598-59a3bcd2cee8",
     "showTitle": false,
     "title": ""
    }
   },
   "outputs": [],
   "source": [
    "np.linalg.svd(np.array([[2,4],[1,2]]))"
   ]
  },
  {
   "cell_type": "code",
   "execution_count": 0,
   "metadata": {
    "application/vnd.databricks.v1+cell": {
     "cellMetadata": {},
     "inputWidgets": {},
     "nuid": "73bfbd5b-12ae-4ab9-be43-9c67795b9794",
     "showTitle": false,
     "title": ""
    }
   },
   "outputs": [],
   "source": [
    "np.sin(32)"
   ]
  },
  {
   "cell_type": "code",
   "execution_count": 0,
   "metadata": {
    "application/vnd.databricks.v1+cell": {
     "cellMetadata": {},
     "inputWidgets": {},
     "nuid": "a075b90c-0c5c-4b46-9c0b-8e861e7254bb",
     "showTitle": false,
     "title": ""
    }
   },
   "outputs": [],
   "source": [
    "V1=np.array([1,2])"
   ]
  },
  {
   "cell_type": "code",
   "execution_count": 0,
   "metadata": {
    "application/vnd.databricks.v1+cell": {
     "cellMetadata": {},
     "inputWidgets": {},
     "nuid": "4826f8aa-502a-4e1c-8467-a92b5dce2f8b",
     "showTitle": false,
     "title": ""
    }
   },
   "outputs": [],
   "source": [
    "V2=np.array([2,3])"
   ]
  },
  {
   "cell_type": "code",
   "execution_count": 0,
   "metadata": {
    "application/vnd.databricks.v1+cell": {
     "cellMetadata": {},
     "inputWidgets": {},
     "nuid": "7ea278db-b625-4161-956e-331cd18e8875",
     "showTitle": false,
     "title": ""
    }
   },
   "outputs": [],
   "source": [
    "V1+V2"
   ]
  },
  {
   "cell_type": "code",
   "execution_count": 0,
   "metadata": {
    "application/vnd.databricks.v1+cell": {
     "cellMetadata": {},
     "inputWidgets": {},
     "nuid": "cc479c5d-fcd0-47e5-9f10-8223ad045f9b",
     "showTitle": false,
     "title": ""
    }
   },
   "outputs": [],
   "source": [
    "M=np.array([[1,2],[2,3]])"
   ]
  },
  {
   "cell_type": "code",
   "execution_count": 0,
   "metadata": {
    "application/vnd.databricks.v1+cell": {
     "cellMetadata": {},
     "inputWidgets": {},
     "nuid": "ed76d5c1-3abc-4adc-b3c6-807cd79cbe71",
     "showTitle": false,
     "title": ""
    }
   },
   "outputs": [],
   "source": [
    "np.linalg.eig(M)"
   ]
  },
  {
   "cell_type": "code",
   "execution_count": 0,
   "metadata": {
    "application/vnd.databricks.v1+cell": {
     "cellMetadata": {},
     "inputWidgets": {},
     "nuid": "c7426736-2ea7-47cf-9a05-a6124fe7b114",
     "showTitle": false,
     "title": ""
    }
   },
   "outputs": [],
   "source": [
    "?np.linalg.eig"
   ]
  },
  {
   "cell_type": "markdown",
   "metadata": {
    "application/vnd.databricks.v1+cell": {
     "cellMetadata": {},
     "inputWidgets": {},
     "nuid": "aba384d4-3c2b-4c74-b34b-b455d6daf192",
     "showTitle": false,
     "title": ""
    }
   },
   "source": [
    "A lo largo del curso usaremos varias funciones alojadas en paquetes. Cada vez que sea necesario encontraran una pequeña ayuda para usar dicha función."
   ]
  }
 ],
 "metadata": {
  "application/vnd.databricks.v1+notebook": {
   "dashboards": [],
   "language": "python",
   "notebookMetadata": {},
   "notebookName": "Funciones y paquetes",
   "widgets": {}
  },
  "kernelspec": {
   "display_name": "Python 3",
   "language": "python",
   "name": "python3"
  },
  "language_info": {
   "codemirror_mode": {
    "name": "ipython",
    "version": 3
   },
   "file_extension": ".py",
   "mimetype": "text/x-python",
   "name": "python",
   "nbconvert_exporter": "python",
   "pygments_lexer": "ipython3",
   "version": "3.8.5"
  },
  "toc": {
   "base_numbering": 1,
   "nav_menu": {},
   "number_sections": false,
   "sideBar": true,
   "skip_h1_title": false,
   "title_cell": "Table of Contents",
   "title_sidebar": "Contents",
   "toc_cell": false,
   "toc_position": {},
   "toc_section_display": true,
   "toc_window_display": false
  }
 },
 "nbformat": 4,
 "nbformat_minor": 0
}
