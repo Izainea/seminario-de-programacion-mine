{
 "cells": [
  {
   "cell_type": "markdown",
   "metadata": {
    "application/vnd.databricks.v1+cell": {
     "cellMetadata": {},
     "inputWidgets": {},
     "nuid": "cf54418f-58ec-40f3-8c93-d59631e14622",
     "showTitle": false,
     "title": ""
    },
    "colab_type": "text",
    "id": "-MlSHN16Bg8-"
   },
   "source": [
    "# Introducción al lenguaje Python\n",
    "\n",
    "*Universidad Externado de Colombia*\n",
    "\n",
    "*Carlos Isaac Zainea Maya*"
   ]
  },
  {
   "cell_type": "markdown",
   "metadata": {
    "application/vnd.databricks.v1+cell": {
     "cellMetadata": {},
     "inputWidgets": {},
     "nuid": "ee86340c-9da6-4774-a660-e3da14aed2aa",
     "showTitle": false,
     "title": ""
    },
    "colab_type": "text",
    "id": "scclT03UHVrm"
   },
   "source": [
    "## Hello World!"
   ]
  },
  {
   "cell_type": "markdown",
   "metadata": {
    "application/vnd.databricks.v1+cell": {
     "cellMetadata": {},
     "inputWidgets": {},
     "nuid": "710d161b-d85b-4a82-874f-b08df9fa62fd",
     "showTitle": false,
     "title": ""
    },
    "colab_type": "text",
    "id": "c3ntgbdgHbS-"
   },
   "source": [
    "El primer ejemplo clásico de programación es saludar, o sea, decirle al computador que muestre un saludo.\n",
    "\n",
    "Para esto, se usa la función de Python llamada **print**.\n",
    "\n",
    "Para colocar un saludo (o un **texto cualquiera**), se debe colocar entre **comillas (dobles o simples)** dentro del comando print.\n",
    "\n",
    "Entonces, para que el computador muestre un saludo, por ejemplo **Hello, World!**, debemos escribir en ambiente de código\n",
    "\n",
    "*print(\"Hello World!\");*"
   ]
  },
  {
   "cell_type": "code",
   "execution_count": 0,
   "metadata": {
    "application/vnd.databricks.v1+cell": {
     "cellMetadata": {},
     "inputWidgets": {},
     "nuid": "ac5a6bac-8152-4cce-ad3f-c3977e7af752",
     "showTitle": false,
     "title": ""
    },
    "colab": {
     "base_uri": "https://localhost:8080/",
     "height": 34
    },
    "colab_type": "code",
    "executionInfo": {
     "elapsed": 1364,
     "status": "ok",
     "timestamp": 1568681643919,
     "user": {
      "displayName": "Daniel Montenegro",
      "photoUrl": "",
      "userId": "07275166318289302366"
     },
     "user_tz": 300
    },
    "id": "8i6cS6oYA-Lv",
    "outputId": "4e5ed3b9-4c83-45c9-dbc1-5b7113f4418f"
   },
   "outputs": [],
   "source": [
    "print(\"Hello, World!\");"
   ]
  },
  {
   "cell_type": "markdown",
   "metadata": {
    "application/vnd.databricks.v1+cell": {
     "cellMetadata": {},
     "inputWidgets": {},
     "nuid": "694db4ff-afff-4a48-be50-07a8a546bcae",
     "showTitle": false,
     "title": ""
    },
    "colab_type": "text",
    "id": "aM1gxggOCDGO"
   },
   "source": [
    "Note que el resultado se muestra sin las comillas dobles. Estas comillas dobles se usan para decirle al computador que vamos a ingresar texto.\n",
    "\n",
    "Si quisieramos escribir con un salto de linea escribimos \"\\n\" así al escribir `print(\"hola\\nmundo\")` tenemos:\n",
    "\n",
    "`hola\n",
    "mundo`"
   ]
  },
  {
   "cell_type": "code",
   "execution_count": 0,
   "metadata": {
    "application/vnd.databricks.v1+cell": {
     "cellMetadata": {},
     "inputWidgets": {},
     "nuid": "a4de6325-95b8-47d0-a4aa-8b19c96878da",
     "showTitle": false,
     "title": ""
    }
   },
   "outputs": [],
   "source": [
    "print(\"hola\\nmundo\")"
   ]
  },
  {
   "cell_type": "markdown",
   "metadata": {
    "application/vnd.databricks.v1+cell": {
     "cellMetadata": {},
     "inputWidgets": {},
     "nuid": "e4588529-b43a-4896-9154-718768d96417",
     "showTitle": false,
     "title": ""
    },
    "colab_type": "text",
    "id": "gGbUqKOAJc_C",
    "solution2": "hidden",
    "solution2_first": true
   },
   "source": [
    "### Ejercicio 1\n",
    "\n",
    "Hacer un código que le diga al computador que devuelva el texto:\n",
    "*****\n",
    ">*Sólo sé ...*  \n",
    "*... que nada sé.*\n",
    " ***"
   ]
  },
  {
   "cell_type": "code",
   "execution_count": 0,
   "metadata": {
    "application/vnd.databricks.v1+cell": {
     "cellMetadata": {},
     "inputWidgets": {},
     "nuid": "f85e7bcc-d6e3-41ad-8c56-3c407b4dd4db",
     "showTitle": false,
     "title": ""
    },
    "colab": {},
    "colab_type": "code",
    "id": "CVnwiYj8JZY-",
    "scrolled": true,
    "solution2": "hidden"
   },
   "outputs": [],
   "source": [
    "print(\"Sólo sé ... \\n...que nada sé\")"
   ]
  },
  {
   "cell_type": "markdown",
   "metadata": {
    "application/vnd.databricks.v1+cell": {
     "cellMetadata": {},
     "inputWidgets": {},
     "nuid": "0353643d-d41f-494d-ac02-7ed09b67061d",
     "showTitle": false,
     "title": ""
    },
    "colab_type": "text",
    "id": "qAqnr4i70sLy"
   },
   "source": [
    "## Indentación en Python y un ejemplo básico de programación estructurada: *el condicional*"
   ]
  },
  {
   "cell_type": "markdown",
   "metadata": {
    "application/vnd.databricks.v1+cell": {
     "cellMetadata": {},
     "inputWidgets": {},
     "nuid": "85e8b604-38e1-4f31-beee-5ee9326b4f37",
     "showTitle": false,
     "title": ""
    },
    "colab_type": "text",
    "id": "oMyFFHSjlj9J"
   },
   "source": [
    "En este pequeño módulo explicaremos el funcionamiento de un condicional `si *** entonces ***` y la importancia de la identación en **Python**.\n",
    "\n",
    "### Condicionales\n",
    "\n",
    "Un condicional es una sentencia lógica que retorna un valor deacuerdo al valor preliminar obtenido de una regla o condición. El ejemplo más sencillo corresponde a las expresiones de la forma `si *** entonces ***` que definen una regla que retornará su valor según la condición después del si, por ejemplo:\n",
    "\n",
    "**Si** *me saco más de 3.0* **entonces** *paso la materia*. \n",
    "\n",
    "> En este caso, si saco 2.5 pierdo; pero si saco 3.3 paso.\n",
    " El resultado según este condicional depende de la nota obtenida.\n",
    "\n",
    "Un diagrama que expresa el funcionamiento de esta regla lógica es: \n",
    "\n",
    "![diagramadeflujo-condicional](https://desarrolloweb.com/articulos/images/algoritmos/ordinograma_si_doble.gif)\n",
    "\n",
    "*Tomado de: [Desarrollo Web - Estructuras condicionales (https://desarrolloweb.com/articulos/2225.php)](https://desarrolloweb.com/articulos/2225.php)\n",
    "\n",
    "### Identación \n",
    "Indentar significa **mover un bloque de texto hacia la derecha**, dejando una serie de espacios o un tabulador para distinguirlo del texto alineado a la izquierda. **Indentar** es un anglicismo, realmente se debería decir **sangrado** o aplicar **sangría**.\n",
    "\n",
    "Por ejemplo:\n",
    "\n",
    "> Este texto está indentado (sangrado).\n",
    "\n",
    "En **Python**, la identación es muy importante, pues indica un **Bloque de código** bajo un operador lógico.\n",
    "\n"
   ]
  },
  {
   "cell_type": "markdown",
   "metadata": {
    "application/vnd.databricks.v1+cell": {
     "cellMetadata": {},
     "inputWidgets": {},
     "nuid": "66021448-5c57-418d-8a2c-b5734c1124ae",
     "showTitle": false,
     "title": ""
    },
    "colab_type": "text",
    "id": "OqFH478Xza5l"
   },
   "source": [
    "### Ejemplo: Condicionales en Python\n",
    "\n",
    "Para escribir un condicional en Python usamos la siguiente estructura, debemos tener cuidado con los dos putnos y los espacios que usamos para indentar:\n",
    "\n",
    "```\n",
    "if **(la condición a validar)**:\n",
    "   (al menos un espacio) **El resultado si la condición es verdadera**  \n",
    "```\n",
    "Por ejemplo:"
   ]
  },
  {
   "cell_type": "code",
   "execution_count": 0,
   "metadata": {
    "application/vnd.databricks.v1+cell": {
     "cellMetadata": {},
     "inputWidgets": {},
     "nuid": "2ef83fc6-9acb-4b6f-8993-74c0b4dd4433",
     "showTitle": false,
     "title": ""
    },
    "colab": {
     "base_uri": "https://localhost:8080/",
     "height": 34
    },
    "colab_type": "code",
    "executionInfo": {
     "elapsed": 512,
     "status": "ok",
     "timestamp": 1566879211321,
     "user": {
      "displayName": "Daniel Montenegro",
      "photoUrl": "",
      "userId": "07275166318289302366"
     },
     "user_tz": 300
    },
    "id": "ie3nUgSszhve",
    "outputId": "6eaf1553-81bc-4f9d-c9ae-cb40fbce727d"
   },
   "outputs": [],
   "source": [
    "if 3+2>3:\n",
    "  print(\"Five is greater than Three\");"
   ]
  },
  {
   "cell_type": "markdown",
   "metadata": {
    "application/vnd.databricks.v1+cell": {
     "cellMetadata": {},
     "inputWidgets": {},
     "nuid": "99318910-9a51-4410-b8d1-e13e9bae0740",
     "showTitle": false,
     "title": ""
    },
    "colab_type": "text",
    "id": "Xvt2xJKPzudT"
   },
   "source": [
    "**Sin la indentación**, el código produce un **error**:"
   ]
  },
  {
   "cell_type": "code",
   "execution_count": 0,
   "metadata": {
    "application/vnd.databricks.v1+cell": {
     "cellMetadata": {},
     "inputWidgets": {},
     "nuid": "7e966914-cd72-457b-95ab-930034874d22",
     "showTitle": false,
     "title": ""
    },
    "colab": {
     "base_uri": "https://localhost:8080/",
     "height": 150
    },
    "colab_type": "code",
    "executionInfo": {
     "elapsed": 534,
     "status": "error",
     "timestamp": 1566879215541,
     "user": {
      "displayName": "Daniel Montenegro",
      "photoUrl": "",
      "userId": "07275166318289302366"
     },
     "user_tz": 300
    },
    "id": "Q6UM2ujoztla",
    "outputId": "a783c474-6221-49e2-9c30-bf0143184a5e"
   },
   "outputs": [],
   "source": [
    "if 5>3:\n",
    "print(\"Five is greater than Three\");"
   ]
  },
  {
   "cell_type": "markdown",
   "metadata": {
    "application/vnd.databricks.v1+cell": {
     "cellMetadata": {},
     "inputWidgets": {},
     "nuid": "322dea5d-9f1b-46b9-80d5-fc5f8d5ffd7f",
     "showTitle": false,
     "title": ""
    },
    "colab_type": "text",
    "id": "h_FUae2V1Dfu"
   },
   "source": [
    "No importa cuántos espacios en blanco se dejen, siempre y cuando sea **al menos uno**:"
   ]
  },
  {
   "cell_type": "code",
   "execution_count": 0,
   "metadata": {
    "application/vnd.databricks.v1+cell": {
     "cellMetadata": {},
     "inputWidgets": {},
     "nuid": "b987520b-ea76-492c-9335-648a9a4ffe32",
     "showTitle": false,
     "title": ""
    },
    "colab": {
     "base_uri": "https://localhost:8080/",
     "height": 51
    },
    "colab_type": "code",
    "executionInfo": {
     "elapsed": 551,
     "status": "ok",
     "timestamp": 1566879221584,
     "user": {
      "displayName": "Daniel Montenegro",
      "photoUrl": "",
      "userId": "07275166318289302366"
     },
     "user_tz": 300
    },
    "id": "8shIg71S1KOI",
    "outputId": "69eea6a9-9579-4866-fb22-cd0c4e47e577"
   },
   "outputs": [],
   "source": [
    "if 5 > 3:\n",
    " print(\"Five is greater than Three\")  \n",
    "if 5 > 3:\n",
    "        print(\"Five is greater than Three\")"
   ]
  },
  {
   "cell_type": "markdown",
   "metadata": {
    "application/vnd.databricks.v1+cell": {
     "cellMetadata": {},
     "inputWidgets": {},
     "nuid": "5bd588e7-ceee-430a-b4a6-694adc50b9b3",
     "showTitle": false,
     "title": ""
    }
   },
   "source": [
    "Si la condición no se satisface entonces no se hace nada:"
   ]
  },
  {
   "cell_type": "code",
   "execution_count": 0,
   "metadata": {
    "application/vnd.databricks.v1+cell": {
     "cellMetadata": {},
     "inputWidgets": {},
     "nuid": "b0ea0ac9-531b-402b-ad35-ddb4d90e931e",
     "showTitle": false,
     "title": ""
    }
   },
   "outputs": [],
   "source": [
    "if 2 > 3:\n",
    "        print(\"Two is greater than Three\")"
   ]
  },
  {
   "cell_type": "markdown",
   "metadata": {
    "application/vnd.databricks.v1+cell": {
     "cellMetadata": {},
     "inputWidgets": {},
     "nuid": "e6d6c0f0-a447-4a3c-a50a-91e0c7bd5edb",
     "showTitle": false,
     "title": ""
    }
   },
   "source": [
    "A no ser que definamos un resultado para cuando no se satisfaga la condición, usamos `else`, nuevamente observe el uso de los dos puntos y el nivel de identación de `if` y `else`:\n",
    "\n",
    "```\n",
    "if **(la condición a validar)**:\n",
    "   (al menos un espacio) **El resultado si la condición es verdadera**  \n",
    "else:\n",
    "    (al menos un espacio) **El resultado si la condición es falsa**  \n",
    "```\n",
    "\n",
    "**Ejemplo:**"
   ]
  },
  {
   "cell_type": "code",
   "execution_count": 0,
   "metadata": {
    "application/vnd.databricks.v1+cell": {
     "cellMetadata": {},
     "inputWidgets": {},
     "nuid": "d48e3988-706f-4d42-bad3-24b5ef9bc350",
     "showTitle": false,
     "title": ""
    }
   },
   "outputs": [],
   "source": [
    "if 2 > 3:\n",
    "    print(\"Two is greater than Three\")\n",
    "else:\n",
    "    print(\"Two is smaller than Three\")"
   ]
  },
  {
   "cell_type": "markdown",
   "metadata": {
    "application/vnd.databricks.v1+cell": {
     "cellMetadata": {},
     "inputWidgets": {},
     "nuid": "66000944-7225-4f59-9d4c-06ef01db82e1",
     "showTitle": false,
     "title": ""
    },
    "colab_type": "text",
    "id": "IUFSujLR2-Rl"
   },
   "source": [
    "# Variables en Python"
   ]
  },
  {
   "cell_type": "markdown",
   "metadata": {
    "application/vnd.databricks.v1+cell": {
     "cellMetadata": {},
     "inputWidgets": {},
     "nuid": "45936ab6-7420-4a37-93ed-4bf56619c2c0",
     "showTitle": false,
     "title": ""
    },
    "colab_type": "text",
    "id": "ivDxEY5J3EXW"
   },
   "source": [
    "## Variables Locales:\n",
    "\n",
    "Una variable sirve para **guardar un valor específico**, ya sea **numérico**, **texto** u otro [**Tipo de Dato**](https://www.w3schools.com/python/python_datatypes.asp) con el nombre con la que se nombre dicha variable:"
   ]
  },
  {
   "cell_type": "code",
   "execution_count": 0,
   "metadata": {
    "application/vnd.databricks.v1+cell": {
     "cellMetadata": {},
     "inputWidgets": {},
     "nuid": "d6fe8787-b5fc-4557-afbf-0853505fce2d",
     "showTitle": false,
     "title": ""
    },
    "colab": {
     "base_uri": "https://localhost:8080/",
     "height": 71
    },
    "colab_type": "code",
    "executionInfo": {
     "elapsed": 543,
     "status": "ok",
     "timestamp": 1566879286697,
     "user": {
      "displayName": "Daniel Montenegro",
      "photoUrl": "",
      "userId": "07275166318289302366"
     },
     "user_tz": 300
    },
    "id": "XlBRuUAD3ud4",
    "outputId": "01f6e84c-790b-4e3a-c26f-c7fd9be950b6"
   },
   "outputs": [],
   "source": [
    "# Asignamos 1 a la variable x\n",
    "\n",
    "x=1;\n",
    "\n",
    "print(\"El valor de la variable x es \",x);\n",
    "\n",
    "# Asignamos \"I'm ready to code!\" a la variable y\n",
    "\n",
    "y=\"I'm ready to code!\";\n",
    "\n",
    "print(\"El valor de la variable y es\",y);"
   ]
  },
  {
   "cell_type": "markdown",
   "metadata": {
    "application/vnd.databricks.v1+cell": {
     "cellMetadata": {},
     "inputWidgets": {},
     "nuid": "ee394034-9932-4daf-b018-dee9ad8b675a",
     "showTitle": false,
     "title": ""
    },
    "colab_type": "text",
    "id": "6YvlIG-G6o2Z"
   },
   "source": [
    "## Reglas de Creación de Variables:\n",
    "\n",
    "* El nombre de una variable **debe comenzar** con una letra ó con _ .\n",
    "\n",
    "* El nombre de una variable **no puede comenzar** con un número.\n",
    "\n",
    "* El nombre de una variable **sólo puede contener** carácteres alfa-numéricos.\n",
    "\n",
    "* El nombre de una variable tiene **sensibilidad** a **mayúsculas** y **minúsculas** (x es diferente de X)."
   ]
  },
  {
   "cell_type": "markdown",
   "metadata": {
    "application/vnd.databricks.v1+cell": {
     "cellMetadata": {},
     "inputWidgets": {},
     "nuid": "a65a009d-a0cd-4d1e-9f8e-910b7b446166",
     "showTitle": false,
     "title": ""
    },
    "colab_type": "text",
    "id": "g0XQW90S5bCj",
    "solution2": "hidden",
    "solution2_first": true
   },
   "source": [
    "### Ejercicio 2\n",
    "\n",
    "Hacer un código que le diga al computador que devuelva los textos **Tengo** *my_age* **años**, donde *my_age* es una variable que tenga asignada su edad.\n",
    "\n"
   ]
  },
  {
   "cell_type": "code",
   "execution_count": 0,
   "metadata": {
    "application/vnd.databricks.v1+cell": {
     "cellMetadata": {},
     "inputWidgets": {},
     "nuid": "9d428ef4-8272-4656-a326-7a9b4252cb42",
     "showTitle": false,
     "title": ""
    },
    "colab": {},
    "colab_type": "code",
    "id": "yFtzd3Ok57ul",
    "solution2": "hidden"
   },
   "outputs": [],
   "source": [
    "my_age=25\n",
    "print(\"Tengo\",my_age, \"años\")"
   ]
  },
  {
   "cell_type": "markdown",
   "metadata": {
    "application/vnd.databricks.v1+cell": {
     "cellMetadata": {},
     "inputWidgets": {},
     "nuid": "f9b55fa2-c608-4ed3-8fa6-a22a9eb18a9c",
     "showTitle": false,
     "title": ""
    }
   },
   "source": [
    "### Ejemplo\n",
    "\n",
    "El siguiente código calcula la longitud del nombre y escribe una frase acorde a la longitud. Observe que en el comando `print()` , `sep=` es un parámetro que separa los valores ingresados dentro de la función print. Como vemos, escribimos `N='Su_nombre'` eso asigna a la letra N el texto *Tu_nombre*. Cambie  `Su_nombre` por su verdadero nombre y explique  como funciona el código."
   ]
  },
  {
   "cell_type": "code",
   "execution_count": 0,
   "metadata": {
    "application/vnd.databricks.v1+cell": {
     "cellMetadata": {},
     "inputWidgets": {},
     "nuid": "4f341ab1-932c-41cb-bfee-980e1c5db30a",
     "showTitle": false,
     "title": ""
    }
   },
   "outputs": [],
   "source": [
    "N='Su_nombre'# cambiar 'Su_nombre' por su verdadero nombre\n",
    "if len(N)>10:\n",
    "    A=\"es un nombre muy largo\"\n",
    "else:\n",
    "    A=\"es un nombre muy corto\"\n",
    "\n",
    "print(N,A,sep=\" \")\n"
   ]
  },
  {
   "cell_type": "markdown",
   "metadata": {
    "application/vnd.databricks.v1+cell": {
     "cellMetadata": {},
     "inputWidgets": {},
     "nuid": "d2485f09-7de1-4e9b-b6af-e7425b262ce5",
     "showTitle": false,
     "title": ""
    }
   },
   "source": [
    "Permitamos que el usuario ingrese el nombre con el comando `input()`"
   ]
  },
  {
   "cell_type": "code",
   "execution_count": 0,
   "metadata": {
    "application/vnd.databricks.v1+cell": {
     "cellMetadata": {},
     "inputWidgets": {},
     "nuid": "ccc1ea6a-4715-46e4-8413-b4a4db74473d",
     "showTitle": false,
     "title": ""
    }
   },
   "outputs": [],
   "source": [
    "N=input('Su_nombre_completo: ') \n",
    "if len(N)>10:\n",
    "    A=\"es un nombre muy largo\"\n",
    "else:\n",
    "    A=\"es un nombre muy corto\"\n",
    "\n",
    "print(N,A,sep=\"/\")"
   ]
  },
  {
   "cell_type": "code",
   "execution_count": 0,
   "metadata": {
    "application/vnd.databricks.v1+cell": {
     "cellMetadata": {},
     "inputWidgets": {},
     "nuid": "bff3eba2-c427-43c8-8d70-1ea00803fb98",
     "showTitle": false,
     "title": ""
    }
   },
   "outputs": [],
   "source": [
    "N=input('Su_nombre_completo: ') \n",
    "if len(N)>10:\n",
    "    A=\"es un nombre muy largo\"\n",
    "else:\n",
    "    A=\"es un nombre muy corto\"\n",
    "\n",
    "print(N,A,sep=\"         \")"
   ]
  },
  {
   "cell_type": "markdown",
   "metadata": {
    "application/vnd.databricks.v1+cell": {
     "cellMetadata": {},
     "inputWidgets": {},
     "nuid": "15f27828-3607-4990-a86c-2f867888d9ab",
     "showTitle": false,
     "title": ""
    },
    "colab_type": "text",
    "id": "jsYP__7Q7y6j"
   },
   "source": [
    "## Múltiples Asignaciones:\n",
    "\n",
    "Es posible asignar valores a diferentes variables en una línea de código:"
   ]
  },
  {
   "cell_type": "code",
   "execution_count": 0,
   "metadata": {
    "application/vnd.databricks.v1+cell": {
     "cellMetadata": {},
     "inputWidgets": {},
     "nuid": "dc304020-ff80-4885-b169-0271c1cba472",
     "showTitle": false,
     "title": ""
    },
    "colab": {
     "base_uri": "https://localhost:8080/",
     "height": 102
    },
    "colab_type": "code",
    "executionInfo": {
     "elapsed": 562,
     "status": "ok",
     "timestamp": 1566879321018,
     "user": {
      "displayName": "Daniel Montenegro",
      "photoUrl": "",
      "userId": "07275166318289302366"
     },
     "user_tz": 300
    },
    "id": "dgS8D9paFG3g",
    "outputId": "af6a422e-fde8-4391-ddec-e9cac420b3cc"
   },
   "outputs": [],
   "source": [
    "# Asignación múltiple\n",
    "\n",
    "w, x, y, z = \"Apple\", \"Watermelon\", \"Grape\", 28;\n",
    "\n",
    "print(w);\n",
    "print(x);\n",
    "print(y);\n",
    "print(z);\n",
    "print(w,x,y,z,sep=\", \");"
   ]
  },
  {
   "cell_type": "markdown",
   "metadata": {
    "application/vnd.databricks.v1+cell": {
     "cellMetadata": {},
     "inputWidgets": {},
     "nuid": "ba6c6845-972e-4d0e-9f8b-08088994c989",
     "showTitle": false,
     "title": ""
    },
    "colab_type": "text",
    "id": "pgpUA2p5GXf2"
   },
   "source": [
    "También es posible asignar un **mismo valor** a diferentes variables:"
   ]
  },
  {
   "cell_type": "code",
   "execution_count": 0,
   "metadata": {
    "application/vnd.databricks.v1+cell": {
     "cellMetadata": {},
     "inputWidgets": {},
     "nuid": "36fa7ddf-1e26-4434-b8e7-5172cb8c9ef3",
     "showTitle": false,
     "title": ""
    },
    "colab": {
     "base_uri": "https://localhost:8080/",
     "height": 68
    },
    "colab_type": "code",
    "executionInfo": {
     "elapsed": 545,
     "status": "ok",
     "timestamp": 1566879335814,
     "user": {
      "displayName": "Daniel Montenegro",
      "photoUrl": "",
      "userId": "07275166318289302366"
     },
     "user_tz": 300
    },
    "id": "uLVD53UgGXEr",
    "outputId": "2bca046b-b077-41c0-a5a6-eb6b74a00e74"
   },
   "outputs": [],
   "source": [
    "# Asignación múltiple del mismo valor\n",
    "\n",
    "x1 = x2 = x3 = 0.5;\n",
    "print('x1 =',x1);\n",
    "print('x2 =',x2);\n",
    "print('x3 =',x3);"
   ]
  },
  {
   "cell_type": "markdown",
   "metadata": {
    "application/vnd.databricks.v1+cell": {
     "cellMetadata": {},
     "inputWidgets": {},
     "nuid": "10486bd7-ed79-4171-8478-79f43ed8be7e",
     "showTitle": false,
     "title": ""
    }
   },
   "source": [
    "Cuidado con las variables no asignadas. Generan error:"
   ]
  },
  {
   "cell_type": "code",
   "execution_count": 0,
   "metadata": {
    "application/vnd.databricks.v1+cell": {
     "cellMetadata": {},
     "inputWidgets": {},
     "nuid": "290974c7-96e7-4978-96e2-2504d114d94f",
     "showTitle": false,
     "title": ""
    }
   },
   "outputs": [],
   "source": [
    "n # Variable sin asignar"
   ]
  },
  {
   "cell_type": "markdown",
   "metadata": {
    "application/vnd.databricks.v1+cell": {
     "cellMetadata": {},
     "inputWidgets": {},
     "nuid": "92604102-096a-441d-ad9b-b748d169211d",
     "showTitle": false,
     "title": ""
    },
    "colab_type": "text",
    "id": "4y3X0kbfHXzW"
   },
   "source": [
    "## Suma de Variables\n",
    "\n",
    "Python es tan sencillo e intutivo, que es posible sumar diferentes variables y sumarlas con el símbolo **+**. Cuando las variables son numéricas, se **suman matemáticamente** y cuando es texto se **concatenan**."
   ]
  },
  {
   "cell_type": "code",
   "execution_count": 0,
   "metadata": {
    "application/vnd.databricks.v1+cell": {
     "cellMetadata": {},
     "inputWidgets": {},
     "nuid": "37fe4e62-744a-4b9e-8217-cb0894856ac1",
     "showTitle": false,
     "title": ""
    },
    "colab": {
     "base_uri": "https://localhost:8080/",
     "height": 68
    },
    "colab_type": "code",
    "executionInfo": {
     "elapsed": 533,
     "status": "ok",
     "timestamp": 1566879353852,
     "user": {
      "displayName": "Daniel Montenegro",
      "photoUrl": "",
      "userId": "07275166318289302366"
     },
     "user_tz": 300
    },
    "id": "nMPQKB2jHxuk",
    "outputId": "0e31e345-8858-4df2-a144-434d2fe0d2c2"
   },
   "outputs": [],
   "source": [
    "# Sumar dos textos\n",
    "\n",
    "x = \"Python is \";\n",
    "y = \"awesome\";\n",
    "z =  x + y;\n",
    "print(z);\n",
    "\n",
    "# Sumar dos números\n",
    "\n",
    "n1 = 1;\n",
    "n2 = 5;\n",
    "suma = n1 +n2;\n",
    "print(suma);\n",
    "\n",
    "# Escribir texto y números\n",
    "\n",
    "print(x+\"the number\",n1);"
   ]
  },
  {
   "cell_type": "markdown",
   "metadata": {
    "application/vnd.databricks.v1+cell": {
     "cellMetadata": {},
     "inputWidgets": {},
     "nuid": "d4779569-465e-4c77-87f8-36cef026ec29",
     "showTitle": false,
     "title": ""
    }
   },
   "source": [
    "En el apartado anterior es claro que usamos dos tipos de variables unas textuales y otras numéricas, profundicemos en estos temas.\n",
    "\n",
    "# Numeros\n",
    "\n",
    "Respecto a los números en Python tenemos tres tipos de datos: los enteros (*int*), los números con parte fraccionaria (*float*) y los complejos (*complex*). La fortuna de que Python reconozca variables numéricas nos permite usarla como una calculadora simple, podemos ejecutar operaciones muy sencillas teniendo en cuenta la siguiente tabla:\n",
    "\n",
    "| **Operador** | **Descripción** |\n",
    "| :---: | :---: |\n",
    "|`+`|Suma|\n",
    "|`-`|Resta|\n",
    "|`*`|Multiplicación|\n",
    "|`/`|División|\n",
    "|`**`|Potencia|\n"
   ]
  },
  {
   "cell_type": "markdown",
   "metadata": {
    "application/vnd.databricks.v1+cell": {
     "cellMetadata": {},
     "inputWidgets": {},
     "nuid": "f6f7a406-75ca-4bdf-99d2-0b8985c5c73c",
     "showTitle": false,
     "title": ""
    }
   },
   "source": [
    "### Ejemplo 2\n",
    " Si queremos operar:\n",
    " \n",
    " $$ 5\\times(3-5)^2-\\cfrac{6}{(9)^{1/2}}$$\n",
    " \n",
    " tenemos que escribir:"
   ]
  },
  {
   "cell_type": "code",
   "execution_count": 0,
   "metadata": {
    "application/vnd.databricks.v1+cell": {
     "cellMetadata": {},
     "inputWidgets": {},
     "nuid": "9be0ad03-6d61-41d5-aa04-11e1348eaff5",
     "showTitle": false,
     "title": ""
    }
   },
   "outputs": [],
   "source": [
    "5*(3-5)**2-(6)/(9**(1/2))"
   ]
  },
  {
   "cell_type": "markdown",
   "metadata": {
    "application/vnd.databricks.v1+cell": {
     "cellMetadata": {},
     "inputWidgets": {},
     "nuid": "143823b0-08f4-4c74-9373-06da85f40b11",
     "showTitle": false,
     "title": ""
    }
   },
   "source": [
    "*Recuerde oprimir [Shift]+[Enter]* "
   ]
  },
  {
   "cell_type": "markdown",
   "metadata": {
    "application/vnd.databricks.v1+cell": {
     "cellMetadata": {},
     "inputWidgets": {},
     "nuid": "dbab3309-1946-49f0-a8b9-f6dcdd97e798",
     "showTitle": false,
     "title": ""
    }
   },
   "source": [
    "### Ejercicio 4\n",
    "Es muy importante usar bien los paréntesis, el uso o desuso puede generar problemas graves en las cuentas, encuentre el error y describa lo que hizo la máquina en los siguientes casos respecto a la operación anterior:"
   ]
  },
  {
   "cell_type": "code",
   "execution_count": 0,
   "metadata": {
    "application/vnd.databricks.v1+cell": {
     "cellMetadata": {},
     "inputWidgets": {},
     "nuid": "80317a38-6a9b-4218-b19f-e7eeaca113eb",
     "showTitle": false,
     "title": ""
    }
   },
   "outputs": [],
   "source": [
    "5*3-5**2-(6)/(9**(1/2))"
   ]
  },
  {
   "cell_type": "code",
   "execution_count": 0,
   "metadata": {
    "application/vnd.databricks.v1+cell": {
     "cellMetadata": {},
     "inputWidgets": {},
     "nuid": "f0d762d2-4159-475c-bd39-db80b7abc70d",
     "showTitle": false,
     "title": ""
    }
   },
   "outputs": [],
   "source": [
    "5*(3-5)**2-6/(9**1/2)"
   ]
  },
  {
   "cell_type": "code",
   "execution_count": 0,
   "metadata": {
    "application/vnd.databricks.v1+cell": {
     "cellMetadata": {},
     "inputWidgets": {},
     "nuid": "13217690-021f-451a-ada9-b90bfb54985c",
     "showTitle": false,
     "title": ""
    }
   },
   "outputs": [],
   "source": [
    "5*(3-5)**2-6/9**1/2"
   ]
  },
  {
   "cell_type": "code",
   "execution_count": 0,
   "metadata": {
    "application/vnd.databricks.v1+cell": {
     "cellMetadata": {},
     "inputWidgets": {},
     "nuid": "986ad655-68ce-4e37-8e44-4f54b9e0e638",
     "showTitle": false,
     "title": ""
    }
   },
   "outputs": [],
   "source": [
    "5*3-5**2-6/9**1/2"
   ]
  },
  {
   "cell_type": "markdown",
   "metadata": {
    "application/vnd.databricks.v1+cell": {
     "cellMetadata": {},
     "inputWidgets": {},
     "nuid": "90adb690-c2fd-4937-b644-cc46b60dc12a",
     "showTitle": false,
     "title": ""
    }
   },
   "source": [
    "La división es una operación bien especial pues la mayoría de ocasiones produce un número con parte fraccionaria. Sin embargo, cuando estabamos pequeños nos enseñaron a dividir enteros dando como respuesta un entero llamado cociente y lo que hacia falta para completar la división, un número llamado residuo. En Python podemos calcular esos valores con `\\\\` para el cociente y `%`para el residuo. Por ejemplo, sabemos que:\n",
    "\n",
    "$$ 20 \\div 3 = 6 \\ \\ \\ \\text{ con residuo } 2$$\n",
    "tenemos:"
   ]
  },
  {
   "cell_type": "code",
   "execution_count": 0,
   "metadata": {
    "application/vnd.databricks.v1+cell": {
     "cellMetadata": {},
     "inputWidgets": {},
     "nuid": "b0556a7a-b90b-4f50-acc7-0943efff6fff",
     "showTitle": false,
     "title": ""
    }
   },
   "outputs": [],
   "source": [
    "20//3"
   ]
  },
  {
   "cell_type": "code",
   "execution_count": 0,
   "metadata": {
    "application/vnd.databricks.v1+cell": {
     "cellMetadata": {},
     "inputWidgets": {},
     "nuid": "37260215-c27e-45e2-891a-b81f078060a8",
     "showTitle": false,
     "title": ""
    }
   },
   "outputs": [],
   "source": [
    "20%3"
   ]
  },
  {
   "cell_type": "markdown",
   "metadata": {
    "application/vnd.databricks.v1+cell": {
     "cellMetadata": {},
     "inputWidgets": {},
     "nuid": "8009f108-5158-4ad7-8b3f-393bdcb07164",
     "showTitle": false,
     "title": ""
    }
   },
   "source": [
    "Python Tambien reconoce los números complejos. El valor imaginario se lo asigna a la letra `j`"
   ]
  },
  {
   "cell_type": "code",
   "execution_count": 0,
   "metadata": {
    "application/vnd.databricks.v1+cell": {
     "cellMetadata": {},
     "inputWidgets": {},
     "nuid": "92b8fde4-5d73-4bce-82a3-c860a5c71031",
     "showTitle": false,
     "title": ""
    }
   },
   "outputs": [],
   "source": [
    "3+(-4)**(1/2) # Recordemos un poquito de nuestras matemáticas"
   ]
  },
  {
   "cell_type": "markdown",
   "metadata": {
    "application/vnd.databricks.v1+cell": {
     "cellMetadata": {},
     "inputWidgets": {},
     "nuid": "b5eaebbd-a9b5-4b3c-8aa3-8541932dc126",
     "showTitle": false,
     "title": ""
    }
   },
   "source": [
    "Finalmente, una función elemental y util para el tratamiento de números decimales es `round`. Lo usamos para redodendear los valores a uno con el decimal que escojamos. Tenemos:"
   ]
  },
  {
   "cell_type": "code",
   "execution_count": 0,
   "metadata": {
    "application/vnd.databricks.v1+cell": {
     "cellMetadata": {},
     "inputWidgets": {},
     "nuid": "dd7d7b48-c401-4a2f-885e-fb1685b4aac5",
     "showTitle": false,
     "title": ""
    }
   },
   "outputs": [],
   "source": [
    "n1=47/3\n",
    "n1"
   ]
  },
  {
   "cell_type": "code",
   "execution_count": 0,
   "metadata": {
    "application/vnd.databricks.v1+cell": {
     "cellMetadata": {},
     "inputWidgets": {},
     "nuid": "e42bb741-8678-4196-a84b-072859ad95f5",
     "showTitle": false,
     "title": ""
    }
   },
   "outputs": [],
   "source": [
    "n2=round(n1)\n",
    "n2"
   ]
  },
  {
   "cell_type": "code",
   "execution_count": 0,
   "metadata": {
    "application/vnd.databricks.v1+cell": {
     "cellMetadata": {},
     "inputWidgets": {},
     "nuid": "59d10459-d1cb-43de-be4d-61ff37112389",
     "showTitle": false,
     "title": ""
    }
   },
   "outputs": [],
   "source": [
    "n3=round(n1,3)\n",
    "n3"
   ]
  },
  {
   "cell_type": "markdown",
   "metadata": {
    "application/vnd.databricks.v1+cell": {
     "cellMetadata": {},
     "inputWidgets": {},
     "nuid": "8876b5d3-3090-44f2-b0c4-412b33e82637",
     "showTitle": false,
     "title": ""
    }
   },
   "source": [
    "## Textos\n",
    "\n",
    "Los textos son expresiones que representan una cadena de caracteres, utiles para escribir mensajes y combinarlos con valores que generemos en nuestros procesamientos. Para escribi un texto en Python usamos comillas simples: `'...'` o comillas dobles: `\"...\"`. Combinamos comillas para poner comillas adentro:"
   ]
  },
  {
   "cell_type": "code",
   "execution_count": 0,
   "metadata": {
    "application/vnd.databricks.v1+cell": {
     "cellMetadata": {},
     "inputWidgets": {},
     "nuid": "40519466-da4a-4d0a-941c-2dc2af4d2408",
     "showTitle": false,
     "title": ""
    }
   },
   "outputs": [],
   "source": [
    "a='Texto simple escrito entre comillas simples'\n",
    "print(a)\n",
    "a"
   ]
  },
  {
   "cell_type": "code",
   "execution_count": 0,
   "metadata": {
    "application/vnd.databricks.v1+cell": {
     "cellMetadata": {},
     "inputWidgets": {},
     "nuid": "757f430a-bc62-4b14-940e-6d587416718e",
     "showTitle": false,
     "title": ""
    }
   },
   "outputs": [],
   "source": [
    "b='Texto simple escrito entre comillas dobles'\n",
    "print(b)\n",
    "b"
   ]
  },
  {
   "cell_type": "code",
   "execution_count": 0,
   "metadata": {
    "application/vnd.databricks.v1+cell": {
     "cellMetadata": {},
     "inputWidgets": {},
     "nuid": "ddc4611e-89d2-44fb-afbf-24c2bd3dd932",
     "showTitle": false,
     "title": ""
    }
   },
   "outputs": [],
   "source": [
    "c='Texto simple escrito entre comillas simples que necesita \"adentrico\" comillas dobles'\n",
    "print(c)\n",
    "c"
   ]
  },
  {
   "cell_type": "code",
   "execution_count": 0,
   "metadata": {
    "application/vnd.databricks.v1+cell": {
     "cellMetadata": {},
     "inputWidgets": {},
     "nuid": "37de6c8d-0c0c-480b-b07b-75645f6477f3",
     "showTitle": false,
     "title": ""
    }
   },
   "outputs": [],
   "source": [
    "d=\"Texto simple escrito entre comillas dobles que necesita 'adentrico' comillas simples\"\n",
    "print(d)\n",
    "d"
   ]
  },
  {
   "cell_type": "markdown",
   "metadata": {
    "application/vnd.databricks.v1+cell": {
     "cellMetadata": {},
     "inputWidgets": {},
     "nuid": "7a272bda-e067-4aea-9e8b-c4524b7cc738",
     "showTitle": false,
     "title": ""
    }
   },
   "source": [
    "Como vimos, la función print es la que nos permite imprimir estos mensajes. El texto \\n indica una nueva linea en el texto:"
   ]
  },
  {
   "cell_type": "code",
   "execution_count": 0,
   "metadata": {
    "application/vnd.databricks.v1+cell": {
     "cellMetadata": {},
     "inputWidgets": {},
     "nuid": "1742d0a4-aa5e-4618-af77-3c8d0f35d857",
     "showTitle": false,
     "title": ""
    }
   },
   "outputs": [],
   "source": [
    "print(\"Una línea\\notra línea\")"
   ]
  },
  {
   "cell_type": "markdown",
   "metadata": {
    "application/vnd.databricks.v1+cell": {
     "cellMetadata": {},
     "inputWidgets": {},
     "nuid": "3b57e974-d418-4d5d-b5d1-acda3929661e",
     "showTitle": false,
     "title": ""
    }
   },
   "source": [
    "No obstante, a veces necesitamos escribir  \\n en un mensaje:"
   ]
  },
  {
   "cell_type": "code",
   "execution_count": 0,
   "metadata": {
    "application/vnd.databricks.v1+cell": {
     "cellMetadata": {},
     "inputWidgets": {},
     "nuid": "96651260-c647-458d-bfce-7c200bffa0a2",
     "showTitle": false,
     "title": ""
    }
   },
   "outputs": [],
   "source": [
    "print('La ruta del archivo es C:\\nombres\\archivo.ipynb')"
   ]
  },
  {
   "cell_type": "markdown",
   "metadata": {
    "application/vnd.databricks.v1+cell": {
     "cellMetadata": {},
     "inputWidgets": {},
     "nuid": "5ffd77bf-cd8a-4271-a9ef-01396b804ca2",
     "showTitle": false,
     "title": ""
    }
   },
   "source": [
    "En este caso la aparición de \\ daño el mensaje, para resolver el problema escribimos r antes:"
   ]
  },
  {
   "cell_type": "code",
   "execution_count": 0,
   "metadata": {
    "application/vnd.databricks.v1+cell": {
     "cellMetadata": {},
     "inputWidgets": {},
     "nuid": "1d370f39-3fb7-4406-8976-e02e6ad431ac",
     "showTitle": false,
     "title": ""
    }
   },
   "outputs": [],
   "source": [
    "print(r'La ruta del archivo es C:\\nombres\\archivo.ipynb')"
   ]
  },
  {
   "cell_type": "markdown",
   "metadata": {
    "application/vnd.databricks.v1+cell": {
     "cellMetadata": {},
     "inputWidgets": {},
     "nuid": "e6f5efd5-433d-419b-a5ef-51a5c41d6693",
     "showTitle": false,
     "title": ""
    }
   },
   "source": [
    "Finalmente, podemos recorrer los valores de la cadena de texto de la siguiente forma:"
   ]
  },
  {
   "cell_type": "code",
   "execution_count": 0,
   "metadata": {
    "application/vnd.databricks.v1+cell": {
     "cellMetadata": {},
     "inputWidgets": {},
     "nuid": "b9d01e01-7b8a-45ba-89b2-d18d55c6d8fd",
     "showTitle": false,
     "title": ""
    }
   },
   "outputs": [],
   "source": [
    "texto=\"cuidado_con_el_orden\""
   ]
  },
  {
   "cell_type": "code",
   "execution_count": 0,
   "metadata": {
    "application/vnd.databricks.v1+cell": {
     "cellMetadata": {},
     "inputWidgets": {},
     "nuid": "fbe50f70-1274-4014-8f87-c629cd605420",
     "showTitle": false,
     "title": ""
    }
   },
   "outputs": [],
   "source": [
    "texto[0]"
   ]
  },
  {
   "cell_type": "code",
   "execution_count": 0,
   "metadata": {
    "application/vnd.databricks.v1+cell": {
     "cellMetadata": {},
     "inputWidgets": {},
     "nuid": "89f58d32-1489-4a26-a8e9-52a595a285b1",
     "showTitle": false,
     "title": ""
    }
   },
   "outputs": [],
   "source": [
    "texto[1]"
   ]
  },
  {
   "cell_type": "code",
   "execution_count": 0,
   "metadata": {
    "application/vnd.databricks.v1+cell": {
     "cellMetadata": {},
     "inputWidgets": {},
     "nuid": "1a4e4593-88bf-415c-aa56-be5d2a9fd9be",
     "showTitle": false,
     "title": ""
    }
   },
   "outputs": [],
   "source": [
    "texto[0:5]"
   ]
  },
  {
   "cell_type": "code",
   "execution_count": 0,
   "metadata": {
    "application/vnd.databricks.v1+cell": {
     "cellMetadata": {},
     "inputWidgets": {},
     "nuid": "04338abf-ea01-47bd-a23d-0a6088593138",
     "showTitle": false,
     "title": ""
    }
   },
   "outputs": [],
   "source": [
    "texto[5:9]"
   ]
  },
  {
   "cell_type": "markdown",
   "metadata": {
    "application/vnd.databricks.v1+cell": {
     "cellMetadata": {},
     "inputWidgets": {},
     "nuid": "c1a84adb-7205-42dd-9318-13f3970af86a",
     "showTitle": false,
     "title": ""
    }
   },
   "source": [
    "## Listas \n",
    "\n",
    "Tambien podemos crear listas y arreglos en Python usando `[ ... ]`, los elementos de la lista se separan por comas.  "
   ]
  },
  {
   "cell_type": "code",
   "execution_count": 0,
   "metadata": {
    "application/vnd.databricks.v1+cell": {
     "cellMetadata": {},
     "inputWidgets": {},
     "nuid": "53cd0dbf-9109-4ec3-aa19-3baefdf34107",
     "showTitle": false,
     "title": ""
    }
   },
   "outputs": [],
   "source": [
    "primos=[2,3,5,7,11,13,17,19]"
   ]
  },
  {
   "cell_type": "code",
   "execution_count": 0,
   "metadata": {
    "application/vnd.databricks.v1+cell": {
     "cellMetadata": {},
     "inputWidgets": {},
     "nuid": "8333e064-2073-413d-bec4-7bbb37d859ac",
     "showTitle": false,
     "title": ""
    }
   },
   "outputs": [],
   "source": [
    "len(primos)"
   ]
  },
  {
   "cell_type": "markdown",
   "metadata": {
    "application/vnd.databricks.v1+cell": {
     "cellMetadata": {},
     "inputWidgets": {},
     "nuid": "1f9cea7b-2f67-4e48-abff-a239ac5d7d4f",
     "showTitle": false,
     "title": ""
    }
   },
   "source": [
    "Igual que las cadenas de texto se pueden explorar los elementos usando `nombredelalista[pos] `, donde pos es la posición del elemento. "
   ]
  },
  {
   "cell_type": "code",
   "execution_count": 0,
   "metadata": {
    "application/vnd.databricks.v1+cell": {
     "cellMetadata": {},
     "inputWidgets": {},
     "nuid": "3c59cf61-4ccd-46fa-ac9e-6c018cff7b78",
     "showTitle": false,
     "title": ""
    }
   },
   "outputs": [],
   "source": [
    "primos[0] #0 siempre denota al primer elemento"
   ]
  },
  {
   "cell_type": "code",
   "execution_count": 0,
   "metadata": {
    "application/vnd.databricks.v1+cell": {
     "cellMetadata": {},
     "inputWidgets": {},
     "nuid": "7d713023-4d1d-4110-96db-33b8703d13c9",
     "showTitle": false,
     "title": ""
    }
   },
   "outputs": [],
   "source": [
    "primos [-6]"
   ]
  },
  {
   "cell_type": "markdown",
   "metadata": {
    "application/vnd.databricks.v1+cell": {
     "cellMetadata": {},
     "inputWidgets": {},
     "nuid": "1bb2490a-24af-43a5-96b9-14346a4ff24c",
     "showTitle": false,
     "title": ""
    }
   },
   "source": [
    "se pueden adicionar elementos a la lista con la función `nombredelalista.append() `"
   ]
  },
  {
   "cell_type": "code",
   "execution_count": 0,
   "metadata": {
    "application/vnd.databricks.v1+cell": {
     "cellMetadata": {},
     "inputWidgets": {},
     "nuid": "cac34085-e2d0-4356-82c7-dab0dbc688bc",
     "showTitle": false,
     "title": ""
    }
   },
   "outputs": [],
   "source": [
    "print(\"Antes: \", primos)\n",
    "primos.append(23)\n",
    "print(\"Después: \", primos)"
   ]
  },
  {
   "cell_type": "markdown",
   "metadata": {
    "application/vnd.databricks.v1+cell": {
     "cellMetadata": {},
     "inputWidgets": {},
     "nuid": "e8c82a8d-b034-416e-a3a5-709029076ee8",
     "showTitle": false,
     "title": ""
    }
   },
   "source": [
    "Así mismo, los elemento se pueden modificar:\n"
   ]
  },
  {
   "cell_type": "code",
   "execution_count": 0,
   "metadata": {
    "application/vnd.databricks.v1+cell": {
     "cellMetadata": {},
     "inputWidgets": {},
     "nuid": "85f274d6-1523-458b-9385-f23235b643a0",
     "showTitle": false,
     "title": ""
    }
   },
   "outputs": [],
   "source": [
    "print(\"Antes: \",primos)\n",
    "primos[0]=1\n",
    "print(\"Después: \",primos)"
   ]
  },
  {
   "cell_type": "markdown",
   "metadata": {
    "application/vnd.databricks.v1+cell": {
     "cellMetadata": {},
     "inputWidgets": {},
     "nuid": "10793096-eb82-405b-8e0b-4c0572581617",
     "showTitle": false,
     "title": ""
    }
   },
   "source": [
    "o eliminar:"
   ]
  },
  {
   "cell_type": "code",
   "execution_count": 0,
   "metadata": {
    "application/vnd.databricks.v1+cell": {
     "cellMetadata": {},
     "inputWidgets": {},
     "nuid": "a2dfc823-c861-48b8-a0dd-5d6072bb986d",
     "showTitle": false,
     "title": ""
    }
   },
   "outputs": [],
   "source": [
    "print(\"Antes: \",primos)\n",
    "primos[0:5]=[]\n",
    "print(\"Después: \",primos)"
   ]
  },
  {
   "cell_type": "markdown",
   "metadata": {
    "application/vnd.databricks.v1+cell": {
     "cellMetadata": {},
     "inputWidgets": {},
     "nuid": "208f03ed-beb8-4657-8342-92689a7b344f",
     "showTitle": false,
     "title": ""
    }
   },
   "source": [
    "También se hacen listas de listas, se conocen como arreglos y si todas las listas tienen la misma cantidad de elementos las llamamos matrices:"
   ]
  },
  {
   "cell_type": "code",
   "execution_count": 0,
   "metadata": {
    "application/vnd.databricks.v1+cell": {
     "cellMetadata": {},
     "inputWidgets": {},
     "nuid": "d8537857-79b8-405f-9cd9-5907c6d0ea1f",
     "showTitle": false,
     "title": ""
    }
   },
   "outputs": [],
   "source": [
    "Cel=[[7,8,9],[4,5,6],[1,2,3]]"
   ]
  },
  {
   "cell_type": "code",
   "execution_count": 0,
   "metadata": {
    "application/vnd.databricks.v1+cell": {
     "cellMetadata": {},
     "inputWidgets": {},
     "nuid": "386d1fd9-bdfb-4d6f-8ddf-d51c23565adb",
     "showTitle": false,
     "title": ""
    }
   },
   "outputs": [],
   "source": [
    "print(Cel)"
   ]
  },
  {
   "cell_type": "code",
   "execution_count": 0,
   "metadata": {
    "application/vnd.databricks.v1+cell": {
     "cellMetadata": {},
     "inputWidgets": {},
     "nuid": "827dd0a9-d07d-4554-a76d-4529e035afbf",
     "showTitle": false,
     "title": ""
    }
   },
   "outputs": [],
   "source": [
    "Cel[0]"
   ]
  },
  {
   "cell_type": "code",
   "execution_count": 0,
   "metadata": {
    "application/vnd.databricks.v1+cell": {
     "cellMetadata": {},
     "inputWidgets": {},
     "nuid": "c7d7d837-d3c7-49f8-aa7e-45127564f5ba",
     "showTitle": false,
     "title": ""
    }
   },
   "outputs": [],
   "source": [
    "Cel[0][0]"
   ]
  }
 ],
 "metadata": {
  "application/vnd.databricks.v1+notebook": {
   "dashboards": [],
   "language": "python",
   "notebookMetadata": {},
   "notebookName": "Introducción al lenguaje Python",
   "widgets": {}
  },
  "colab": {
   "collapsed_sections": [
    "-MlSHN16Bg8-",
    "scclT03UHVrm",
    "qAqnr4i70sLy",
    "OqFH478Xza5l",
    "ivDxEY5J3EXW",
    "wspqLphleQ07",
    "jsYP__7Q7y6j",
    "4y3X0kbfHXzW"
   ],
   "name": "1. Introducción a Python.ipynb",
   "provenance": [],
   "version": "0.3.2"
  },
  "kernelspec": {
   "display_name": "Python 3",
   "language": "python",
   "name": "python3"
  },
  "language_info": {
   "codemirror_mode": {
    "name": "ipython",
    "version": 3
   },
   "file_extension": ".py",
   "mimetype": "text/x-python",
   "name": "python",
   "nbconvert_exporter": "python",
   "pygments_lexer": "ipython3",
   "version": "3.8.5"
  },
  "toc": {
   "base_numbering": 1,
   "nav_menu": {},
   "number_sections": false,
   "sideBar": true,
   "skip_h1_title": false,
   "title_cell": "Table of Contents",
   "title_sidebar": "Contents",
   "toc_cell": false,
   "toc_position": {},
   "toc_section_display": true,
   "toc_window_display": false
  }
 },
 "nbformat": 4,
 "nbformat_minor": 0
}
