{
 "cells": [
  {
   "cell_type": "markdown",
   "metadata": {
    "application/vnd.databricks.v1+cell": {
     "cellMetadata": {},
     "inputWidgets": {},
     "nuid": "ba28ce09-9166-458a-8303-61fc21062a50",
     "showTitle": false,
     "title": ""
    }
   },
   "source": [
    "# La programación orientada a objetos\n",
    "\n",
    "Una de las características principales de Python es que es un lenguaje multiparadigma, sin embargo, hasta el momento hemos trabajado con las características de programación estructurada *(estructuras de datos y estructuras de control)*. No obstante, también se menciono que Python como lenguaje admite la programación orientada a objetos, y con las **clases** materializamos este paradigma de programación, entendiendolas como *plantillas*  para la creación de objetos.\n",
    "\n",
    "Un **objeto**, encapsulará atributos y funciones (o métodos) en una sola entidad. \n"
   ]
  },
  {
   "cell_type": "markdown",
   "metadata": {
    "application/vnd.databricks.v1+cell": {
     "cellMetadata": {},
     "inputWidgets": {},
     "nuid": "afd9268b-0db0-4b41-9841-5a008083c2fc",
     "showTitle": false,
     "title": ""
    }
   },
   "source": [
    "## Clases\n",
    "\n",
    "Una clase es un modelo para crear a partir de ella ciertos Objetos. Contendrá las características y capacidades que tendrá el objeto que sea cree a partir de ella.\n",
    "\n",
    "Así a su vez los objetos creados a partir de una clase estarán agrupados en esa misma entidad. Veamos un ejemplo:\n",
    "\n",
    "**Clase Fracción**\n",
    "\n",
    "Hagamos en python una estructura de datos que luzca como las fracciones. Para ello crearemos una clase que inicialice con los dos componentes que conforman a la fracción el numerador y el denominador.\n",
    "\n"
   ]
  },
  {
   "cell_type": "code",
   "execution_count": 0,
   "metadata": {
    "application/vnd.databricks.v1+cell": {
     "cellMetadata": {},
     "inputWidgets": {},
     "nuid": "3e11b37c-43bd-43ad-abff-5b93c02575fa",
     "showTitle": false,
     "title": ""
    }
   },
   "outputs": [],
   "source": [
    "3/5"
   ]
  },
  {
   "cell_type": "code",
   "execution_count": 0,
   "metadata": {
    "application/vnd.databricks.v1+cell": {
     "cellMetadata": {},
     "inputWidgets": {},
     "nuid": "43b1d3e0-35b5-4c8b-873d-99c680b16bf7",
     "showTitle": false,
     "title": ""
    }
   },
   "outputs": [],
   "source": [
    "class Fraccion:\n",
    "    def __init__(self,numerador,denominador):\n",
    "        self.num = numerador\n",
    "        self.den = denominador"
   ]
  },
  {
   "cell_type": "markdown",
   "metadata": {
    "application/vnd.databricks.v1+cell": {
     "cellMetadata": {},
     "inputWidgets": {},
     "nuid": "1345a911-6089-4eb3-9468-b1bacb793bd6",
     "showTitle": false,
     "title": ""
    }
   },
   "source": [
    "Observe que la clase se inicializa con tres elementos (self, arriba, abajo). self es un parámetro especial que hace referencia al objeto mismo y siempre se pone como el primer parámetro formal. Sin embargo, nunca tendrá un valor real en la ejecución de la clase.\n",
    "\n",
    "La notación self.num en el constructor define que el objeto fraccion tenga un objeto de datos interno llamado num como parte de su estado. Del mismo modo, self.den crea el denominador.\n",
    "\n",
    "Todas las instancias (objetos construidos a partir de la clase) se definirán con esos dos parámetros formales."
   ]
  },
  {
   "cell_type": "code",
   "execution_count": 0,
   "metadata": {
    "application/vnd.databricks.v1+cell": {
     "cellMetadata": {},
     "inputWidgets": {},
     "nuid": "7d15bce4-75d3-4bca-8c71-8c60edf6a399",
     "showTitle": false,
     "title": ""
    }
   },
   "outputs": [],
   "source": [
    "PrimerFraccion = Fraccion(3,5)"
   ]
  },
  {
   "cell_type": "code",
   "execution_count": 0,
   "metadata": {
    "application/vnd.databricks.v1+cell": {
     "cellMetadata": {},
     "inputWidgets": {},
     "nuid": "59ce1052-031e-42da-afb9-5385e38c3804",
     "showTitle": false,
     "title": ""
    }
   },
   "outputs": [],
   "source": [
    "print(PrimerFraccion)"
   ]
  },
  {
   "cell_type": "markdown",
   "metadata": {
    "application/vnd.databricks.v1+cell": {
     "cellMetadata": {},
     "inputWidgets": {},
     "nuid": "33f12496-f451-4c14-beab-b7d574640cf9",
     "showTitle": false,
     "title": ""
    }
   },
   "source": [
    "El objeto fraccion cuando se muestra imprime la referencia real que se almacena en la variable (la dirección en sí misma). Esto no es lo que queremos. Buscamos una cadena (incluso textual) para identificar la fracción tal y como la conocemos. \n",
    "\n",
    "Entonces podemos definir una función para visualizar la fracción, modificamos la clase incluyendo un método o función nueva:"
   ]
  },
  {
   "cell_type": "code",
   "execution_count": 0,
   "metadata": {
    "application/vnd.databricks.v1+cell": {
     "cellMetadata": {},
     "inputWidgets": {},
     "nuid": "6a5efdac-7d62-453a-b80f-67d717799981",
     "showTitle": false,
     "title": ""
    }
   },
   "outputs": [],
   "source": [
    "class Fraccion:\n",
    "    def __init__(self,numerador,denominador):\n",
    "\n",
    "        self.num = numerador\n",
    "        self.den = denominador\n",
    "        \n",
    "    def ver(self):\n",
    "        print(self.num,\"/\",self.den)"
   ]
  },
  {
   "cell_type": "code",
   "execution_count": 0,
   "metadata": {
    "application/vnd.databricks.v1+cell": {
     "cellMetadata": {},
     "inputWidgets": {},
     "nuid": "f1bad383-5615-487c-b87f-67a40e03a774",
     "showTitle": false,
     "title": ""
    }
   },
   "outputs": [],
   "source": [
    "PrimerFraccion = Fraccion(6,8)\n",
    "PrimerFraccion.ver()"
   ]
  },
  {
   "cell_type": "markdown",
   "metadata": {
    "application/vnd.databricks.v1+cell": {
     "cellMetadata": {},
     "inputWidgets": {},
     "nuid": "68a1b466-3e39-44fc-82f4-84b86eb8e403",
     "showTitle": false,
     "title": ""
    }
   },
   "source": [
    "También podemos verla, a partir de un print, definiendolo de una manera directa utilizando un método de nombre `__str__` convierte al objeto en una cadena."
   ]
  },
  {
   "cell_type": "code",
   "execution_count": 0,
   "metadata": {
    "application/vnd.databricks.v1+cell": {
     "cellMetadata": {},
     "inputWidgets": {},
     "nuid": "50ca64a8-847a-4f19-8fdf-305eeb12aa2d",
     "showTitle": false,
     "title": ""
    }
   },
   "outputs": [],
   "source": [
    "class Fraccion:\n",
    "    def __init__(self,numerador,denominador):\n",
    "\n",
    "        self.num = numerador\n",
    "        self.den = denominador\n",
    "        \n",
    "    def ver(self):\n",
    "        print(self.num,\"/\",self.den)\n",
    "        \n",
    "    def __str__(self):\n",
    "        return str(self.num)+\"/\"+str(self.den)\n",
    "    "
   ]
  },
  {
   "cell_type": "code",
   "execution_count": 0,
   "metadata": {
    "application/vnd.databricks.v1+cell": {
     "cellMetadata": {},
     "inputWidgets": {},
     "nuid": "fd6aeae8-92ff-4593-aae4-ab3dcd7d7d5a",
     "showTitle": false,
     "title": ""
    }
   },
   "outputs": [],
   "source": [
    "print(Fraccion(1,5))"
   ]
  },
  {
   "cell_type": "code",
   "execution_count": 0,
   "metadata": {
    "application/vnd.databricks.v1+cell": {
     "cellMetadata": {},
     "inputWidgets": {},
     "nuid": "f40c5446-e0f2-4a5b-a4d2-c9ec7151dcb9",
     "showTitle": false,
     "title": ""
    }
   },
   "outputs": [],
   "source": [
    "PrimerFraccion = Fraccion(3,5)\n",
    "print(PrimerFraccion)"
   ]
  },
  {
   "cell_type": "markdown",
   "metadata": {
    "application/vnd.databricks.v1+cell": {
     "cellMetadata": {},
     "inputWidgets": {},
     "nuid": "7334b818-d56b-4729-a99f-4a892a2450c0",
     "showTitle": false,
     "title": ""
    }
   },
   "source": [
    "Hay varios métodos que hacen referencia a esas notaciones estándar, por ejemplo pensemos en la suma (+), veamos que ocurre si intento sumar fracciones: "
   ]
  },
  {
   "cell_type": "code",
   "execution_count": 0,
   "metadata": {
    "application/vnd.databricks.v1+cell": {
     "cellMetadata": {},
     "inputWidgets": {},
     "nuid": "4e0b4ad8-af92-40f2-8e92-e70042f5168c",
     "showTitle": false,
     "title": ""
    }
   },
   "outputs": [],
   "source": [
    "f1=Fraccion(2,5)\n",
    "f2=Fraccion(1,4)"
   ]
  },
  {
   "cell_type": "code",
   "execution_count": 0,
   "metadata": {
    "application/vnd.databricks.v1+cell": {
     "cellMetadata": {},
     "inputWidgets": {},
     "nuid": "d08bebb3-aae6-4f9e-b2b9-e5eb489f262b",
     "showTitle": false,
     "title": ""
    }
   },
   "outputs": [],
   "source": [
    "f1+f2"
   ]
  },
  {
   "cell_type": "code",
   "execution_count": 0,
   "metadata": {
    "application/vnd.databricks.v1+cell": {
     "cellMetadata": {},
     "inputWidgets": {},
     "nuid": "01986183-0ab6-4a99-ba3a-4ecfdda97dfe",
     "showTitle": false,
     "title": ""
    }
   },
   "outputs": [],
   "source": [
    "class Fraccion:\n",
    "    def __init__(self,numerador,denominador):\n",
    "\n",
    "        self.num = numerador\n",
    "        self.den = denominador\n",
    "        \n",
    "    def ver(self):\n",
    "        print(self.num,\"/\",self.den)\n",
    "        \n",
    "    def __str__(self):\n",
    "        return str(self.num)+\"/\"+str(self.den)\n",
    "    \n",
    "    def sumar(self,fraccion2):\n",
    "        sumnum=self.num*fraccion2.den+self.den*fraccion2.num\n",
    "        sumden=self.den*fraccion2.den\n",
    "        return  Fraccion(sumnum,sumden)"
   ]
  },
  {
   "cell_type": "code",
   "execution_count": 0,
   "metadata": {
    "application/vnd.databricks.v1+cell": {
     "cellMetadata": {},
     "inputWidgets": {},
     "nuid": "d5a3dc9c-38ce-4b0e-939c-de2bb125516d",
     "showTitle": false,
     "title": ""
    }
   },
   "outputs": [],
   "source": [
    "f1=Fraccion(2,5)\n",
    "f2=Fraccion(1,4)"
   ]
  },
  {
   "cell_type": "code",
   "execution_count": 0,
   "metadata": {
    "application/vnd.databricks.v1+cell": {
     "cellMetadata": {},
     "inputWidgets": {},
     "nuid": "df013b2d-cebc-4c13-b6d0-79aed1743dbf",
     "showTitle": false,
     "title": ""
    }
   },
   "outputs": [],
   "source": [
    "f3=f1.sumar(f2)\n",
    "print(f3)"
   ]
  },
  {
   "cell_type": "code",
   "execution_count": 0,
   "metadata": {
    "application/vnd.databricks.v1+cell": {
     "cellMetadata": {},
     "inputWidgets": {},
     "nuid": "1d2d690c-1c25-4857-9f6e-ee20e73f4535",
     "showTitle": false,
     "title": ""
    },
    "scrolled": true
   },
   "outputs": [],
   "source": [
    "f1+f2"
   ]
  },
  {
   "cell_type": "markdown",
   "metadata": {
    "application/vnd.databricks.v1+cell": {
     "cellMetadata": {},
     "inputWidgets": {},
     "nuid": "068a1502-3ee8-4651-a2ce-be3531a0a964",
     "showTitle": false,
     "title": ""
    }
   },
   "source": [
    "Resulta ser una operación no soprtada, la puedo definir usando  el método `__add__`:"
   ]
  },
  {
   "cell_type": "code",
   "execution_count": 0,
   "metadata": {
    "application/vnd.databricks.v1+cell": {
     "cellMetadata": {},
     "inputWidgets": {},
     "nuid": "bd4beb84-b922-4d5c-9854-62e43fde3c12",
     "showTitle": false,
     "title": ""
    }
   },
   "outputs": [],
   "source": [
    "class Fraccion:\n",
    "    def __init__(self,numerador,denominador):\n",
    "\n",
    "        self.num = numerador\n",
    "        self.den = denominador\n",
    "        \n",
    "    def ver(self):\n",
    "        print(self.num,\"/\",self.den)\n",
    "        \n",
    "    def __str__(self):\n",
    "        return str(self.num)+\"/\"+str(self.den)\n",
    "    \n",
    "    def __add__(self,self2):\n",
    "        sumanum = self.num*self2.den + self.den*self2.num\n",
    "        sumaden = self.den * self2.den\n",
    "        return Fraccion(sumanum,sumaden)"
   ]
  },
  {
   "cell_type": "code",
   "execution_count": 0,
   "metadata": {
    "application/vnd.databricks.v1+cell": {
     "cellMetadata": {},
     "inputWidgets": {},
     "nuid": "a329c069-bfd2-4a8b-90d8-19eb292a7b5d",
     "showTitle": false,
     "title": ""
    }
   },
   "outputs": [],
   "source": [
    "f1=Fraccion(2,5)\n",
    "f2=Fraccion(1,4)\n",
    "print(f1+f2)\n"
   ]
  },
  {
   "cell_type": "markdown",
   "metadata": {
    "application/vnd.databricks.v1+cell": {
     "cellMetadata": {},
     "inputWidgets": {},
     "nuid": "244fe9be-26cf-4d48-93ab-3234f711191c",
     "showTitle": false,
     "title": ""
    }
   },
   "source": [
    "Para buscar los operadores definibles en una clase podemos hacer referencia a los deiferentes métodos que emulan los operadores numéricos ver [Referencia Python *(Emulating numeric types)*](https://docs.python.org/3/reference/datamodel.html?highlight=method%20__add__#object.__add__)\n",
    "\n",
    "Para ver más métodos especiales ver [Referencia Python *(Special method names )*](https://docs.python.org/3/reference/datamodel.html?highlight=method%20__add__#special-method-names)"
   ]
  },
  {
   "cell_type": "code",
   "execution_count": 0,
   "metadata": {
    "application/vnd.databricks.v1+cell": {
     "cellMetadata": {},
     "inputWidgets": {},
     "nuid": "43f32801-195d-4cb6-a944-8a73f0cccc34",
     "showTitle": false,
     "title": ""
    }
   },
   "outputs": [],
   "source": [
    "def mcd(a,b):\n",
    "    mcd=1\n",
    "    c=min(a,b)\n",
    "    d=max(a,b)\n",
    "    for i in range(1,c+1):\n",
    "        if c%i==0:\n",
    "            if d%i==0:\n",
    "                mcd=i\n",
    "    return mcd\n",
    "\n",
    "class Fraccion:\n",
    "    def __init__(self,numerador,denominador):\n",
    "\n",
    "        self.num = numerador\n",
    "        self.den = denominador\n",
    "        \n",
    "        \n",
    "    def __str__(self):\n",
    "        M=mcd(self.num,self.den)        \n",
    "        return str(self.num//M)+\"/\"+str(self.den//M)\n",
    "    \n",
    "    def __add__(self,fraccion2):\n",
    "        sumanum = self.num*fraccion2.den + self.den*fraccion2.num\n",
    "        sumaden = self.den * fraccion2.den\n",
    "        return Fraccion(sumanum,sumaden)\n",
    "    \n",
    "    def __sub__(self,fraccion2):\n",
    "        sumanum = self.num*fraccion2.den - self.den*fraccion2.num\n",
    "        sumaden = self.den * fraccion2.den\n",
    "        return Fraccion(sumanum,sumaden)\n",
    "    \n",
    "    \n",
    "    ##Multiplicación     \n",
    "    def __mul__(self,fraccion2):\n",
    "        multnum = self.num*fraccion2.num\n",
    "        multden = self.den * fraccion2.den\n",
    "        return Fraccion(multnum,multden)\n",
    "    ## Dividir\n",
    "    \n",
    "    def __truediv__(self,fraccion2):\n",
    "        divnum = self.num * fraccion2.den\n",
    "        divden = self.den * fraccion2.num\n",
    "        return Fraccion(divnum,divden)\n",
    "    \n",
    "    \n",
    "    ##Negativos \n",
    "    \n",
    "    def __neg__(self):\n",
    "        negnum=-self.num\n",
    "        return Fraccion(negnum,self.den)\n",
    "    \n",
    "    \n",
    "    ## Potencias enteras positivas \n",
    "    def __pow__(self,intn): \n",
    "        if intn > 0:\n",
    "            potnum=int((self.num)**intn )\n",
    "            potden=int((self.den)**intn )\n",
    "            return Fraccion(potnum,potden) \n",
    "        elif intn <0:            \n",
    "            numeradorPEN=int(self.den**abs(intn))\n",
    "            denominadorPEN=int(self.num**abs(intn))\n",
    "            return Fraccion(numeradorPEN,denominadorPEN)\n",
    "        else:\n",
    "            return Fraccion(1,1)\n",
    "    \n"
   ]
  },
  {
   "cell_type": "code",
   "execution_count": 0,
   "metadata": {
    "application/vnd.databricks.v1+cell": {
     "cellMetadata": {},
     "inputWidgets": {},
     "nuid": "03b6f41f-539f-4cae-82f4-e8a292a83de0",
     "showTitle": false,
     "title": ""
    }
   },
   "outputs": [],
   "source": [
    "f1=Fraccion(2,5)\n",
    "f2=Fraccion(4,8)"
   ]
  },
  {
   "cell_type": "code",
   "execution_count": 0,
   "metadata": {
    "application/vnd.databricks.v1+cell": {
     "cellMetadata": {},
     "inputWidgets": {},
     "nuid": "4326aff3-39b0-41c9-a353-6d24ae664c4f",
     "showTitle": false,
     "title": ""
    }
   },
   "outputs": [],
   "source": [
    "print(f1*f2)"
   ]
  },
  {
   "cell_type": "code",
   "execution_count": 0,
   "metadata": {
    "application/vnd.databricks.v1+cell": {
     "cellMetadata": {},
     "inputWidgets": {},
     "nuid": "76826d70-e09d-4a3a-9694-1852da310f30",
     "showTitle": false,
     "title": ""
    }
   },
   "outputs": [],
   "source": [
    "print(f1/f2)"
   ]
  },
  {
   "cell_type": "code",
   "execution_count": 0,
   "metadata": {
    "application/vnd.databricks.v1+cell": {
     "cellMetadata": {},
     "inputWidgets": {},
     "nuid": "3852c043-09bb-42c7-8a90-723621f82477",
     "showTitle": false,
     "title": ""
    }
   },
   "outputs": [],
   "source": [
    "print(-f1)"
   ]
  },
  {
   "cell_type": "code",
   "execution_count": 0,
   "metadata": {
    "application/vnd.databricks.v1+cell": {
     "cellMetadata": {},
     "inputWidgets": {},
     "nuid": "263aea93-8585-4e85-b971-fd01b4173971",
     "showTitle": false,
     "title": ""
    }
   },
   "outputs": [],
   "source": [
    "print(f1**(0))"
   ]
  },
  {
   "cell_type": "code",
   "execution_count": 0,
   "metadata": {
    "application/vnd.databricks.v1+cell": {
     "cellMetadata": {},
     "inputWidgets": {},
     "nuid": "29ed5f9c-8595-441f-859b-55f138c3f389",
     "showTitle": false,
     "title": ""
    }
   },
   "outputs": [],
   "source": [
    "f4=Fraccion(4,8)\n",
    "print(f4)"
   ]
  },
  {
   "cell_type": "code",
   "execution_count": 0,
   "metadata": {
    "application/vnd.databricks.v1+cell": {
     "cellMetadata": {},
     "inputWidgets": {},
     "nuid": "b4dad5a0-90e5-472a-9be7-019fa75f013d",
     "showTitle": false,
     "title": ""
    }
   },
   "outputs": [],
   "source": [
    "f1=Fraccion(2,5)"
   ]
  },
  {
   "cell_type": "code",
   "execution_count": 0,
   "metadata": {
    "application/vnd.databricks.v1+cell": {
     "cellMetadata": {},
     "inputWidgets": {},
     "nuid": "c76b4b9b-29b1-4a58-9f4a-53adb8be34fc",
     "showTitle": false,
     "title": ""
    }
   },
   "outputs": [],
   "source": [
    "print(f1/f4)"
   ]
  },
  {
   "cell_type": "code",
   "execution_count": 0,
   "metadata": {
    "application/vnd.databricks.v1+cell": {
     "cellMetadata": {},
     "inputWidgets": {},
     "nuid": "4cdddf4d-5435-4056-af3b-42b78c7848cd",
     "showTitle": false,
     "title": ""
    }
   },
   "outputs": [],
   "source": [
    "mcd(36,24)"
   ]
  },
  {
   "cell_type": "code",
   "execution_count": 0,
   "metadata": {
    "application/vnd.databricks.v1+cell": {
     "cellMetadata": {},
     "inputWidgets": {},
     "nuid": "5502af63-ebfb-49eb-8afa-c3c2a1e82435",
     "showTitle": false,
     "title": ""
    }
   },
   "outputs": [],
   "source": [
    "f1=Fraccion(2,5)\n",
    "f2=Fraccion(1,4)\n",
    "print(f2-f1)"
   ]
  },
  {
   "cell_type": "code",
   "execution_count": 0,
   "metadata": {
    "application/vnd.databricks.v1+cell": {
     "cellMetadata": {},
     "inputWidgets": {},
     "nuid": "445d75fb-1cee-4f61-923d-1e96241a0564",
     "showTitle": false,
     "title": ""
    }
   },
   "outputs": [],
   "source": [
    "import Fraccion as f"
   ]
  },
  {
   "cell_type": "code",
   "execution_count": 0,
   "metadata": {
    "application/vnd.databricks.v1+cell": {
     "cellMetadata": {},
     "inputWidgets": {},
     "nuid": "42ab2aa0-8dc3-425b-9f13-66e09361618e",
     "showTitle": false,
     "title": ""
    }
   },
   "outputs": [],
   "source": [
    "f.division(3,5)"
   ]
  },
  {
   "cell_type": "markdown",
   "metadata": {
    "application/vnd.databricks.v1+cell": {
     "cellMetadata": {},
     "inputWidgets": {},
     "nuid": "1d214fa0-9393-4fad-9e30-57a1c8c4f096",
     "showTitle": false,
     "title": ""
    }
   },
   "source": [
    "## Otro ejemplo\n",
    "\n",
    "Recordemos entonces que el objeto, definido por las clases, almacena información de atributos y métodos (funciones) para hacer algunas tareas, una visualización gráfica de las clases es la siguiente:\n",
    "\n",
    "![Clases](https://pythones.net/wp-content/uploads/2019/01/Clases-y-Objetos-min-577x1024-min.png)\n",
    "\n",
    "*Tomada de [https://pythones.net/clases-y-metodos-python-oop/](https://pythones.net/clases-y-metodos-python-oop/)*\n",
    "\n",
    "Aquí la clase humano tiene como  **atributos:** Fecha de nacimiento; edad; Padres; Genero...\n",
    "\n",
    "como **métodos:** Correr; Caminar y Hablar.\n",
    "\n",
    "Los objetos Marcos y Elisa pertenecen a la misma Clase; pero tienen diferentes valores para los atributos y sus métodos quizás obtengan diferentes argumentos (valores para sus parámetros).\n",
    "\n",
    "Recuerde que la definición de atributos se hace al definir la función `__init__`."
   ]
  },
  {
   "cell_type": "markdown",
   "metadata": {
    "application/vnd.databricks.v1+cell": {
     "cellMetadata": {},
     "inputWidgets": {},
     "nuid": "c9019bb8-bf51-4dd6-b7fd-1d5406d613f4",
     "showTitle": false,
     "title": ""
    }
   },
   "source": [
    "Veamos un ejemplo:"
   ]
  },
  {
   "cell_type": "code",
   "execution_count": 0,
   "metadata": {
    "application/vnd.databricks.v1+cell": {
     "cellMetadata": {},
     "inputWidgets": {},
     "nuid": "99040c2e-24f2-444d-a988-4d2ece7c197a",
     "showTitle": false,
     "title": ""
    }
   },
   "outputs": [],
   "source": [
    "\n",
    "class Humano(): #Creamos la clase Humano\n",
    "    def __init__(self, edad, nombre, ocupacion,horas_laboradas): #Definimos el parámetro edad , nombre y ocupación\n",
    "        self.edad = edad # Definimos que el atributo edad, sera la edad asignada\n",
    "        self.nombre = nombre # Definimos que el atributo nombre, sera el nombre asig\n",
    "        self.ocupacion = ocupacion #DEFINIMOS EL ATRIBUTO DE INSTANCIA OCUPACIÓN\n",
    "        self.horas=horas_laboradas\n",
    "        self.dia=0 #Iniciamos en el día 0\n",
    "        \n",
    "        \n",
    "        #Creación de un nuevo método\n",
    "    def presentar(self):\n",
    "        presentacion = (\"Hola soy {name}, mi edad es {age} y mi ocupación es {ocu}\") #Mensaje\n",
    "        print(presentacion.format(name=self.nombre, age=self.edad, ocu=self.ocupacion)) #Usamos FORMAT\n",
    "        \n",
    "    def dias_transcurridos(self,n):\n",
    "        if self.ocupacion!= 'Desocupado':\n",
    "            self.dia=self.dia+n\n",
    "            self.horas=self.horas+n*8\n",
    "            print('Has trabajado',self.horas,'horas')\n",
    "        else:\n",
    "            self.dia=self.dia+n\n",
    "            print('Desde el día 0, han transcurrido',self.dia,'días' )\n",
    "        \n",
    "        #Creamos un nuevo método para cambiar la ocupación:\n",
    "        #En caso que esta persona sea contratada\n",
    "        \n",
    "    def contratar(self, puesto): #añadimos un nuevo parámetro en el método\n",
    "        self.puesto = puesto\n",
    "        print (\"{name} ha sido contratado como {vac}\".format(name=self.nombre, vac=self.puesto))\n",
    "        self.ocupacion = puesto#Ahora cambiamos el atributo ocupación\n",
    "    \n",
    "    def cumplio_anios(self):\n",
    "        self.edad=self.edad+1\n",
    "        print(\"Feliz cumpleaños te deseamos a ti, {name}\".format(name=self.nombre))\n"
   ]
  },
  {
   "cell_type": "code",
   "execution_count": 0,
   "metadata": {
    "application/vnd.databricks.v1+cell": {
     "cellMetadata": {},
     "inputWidgets": {},
     "nuid": "f6083a7f-c78f-467c-8b08-0aa96827e28a",
     "showTitle": false,
     "title": ""
    }
   },
   "outputs": [],
   "source": [
    "Persona1 = Humano(31, \"Pedro\", \"Desocupado\",400) #Instancia\n",
    "\n",
    "#Llamamos al método\n",
    "\n",
    "Persona1.presentar() "
   ]
  },
  {
   "cell_type": "code",
   "execution_count": 0,
   "metadata": {
    "application/vnd.databricks.v1+cell": {
     "cellMetadata": {},
     "inputWidgets": {},
     "nuid": "28e9e4b7-c0c9-47f0-9f87-89928d72d855",
     "showTitle": false,
     "title": ""
    }
   },
   "outputs": [],
   "source": [
    "Persona1.dias_transcurridos(20)"
   ]
  },
  {
   "cell_type": "code",
   "execution_count": 0,
   "metadata": {
    "application/vnd.databricks.v1+cell": {
     "cellMetadata": {},
     "inputWidgets": {},
     "nuid": "d4204f98-8217-4849-8dee-ffb026662a17",
     "showTitle": false,
     "title": ""
    }
   },
   "outputs": [],
   "source": [
    "Persona1.contratar(\"Obrero\")"
   ]
  },
  {
   "cell_type": "code",
   "execution_count": 0,
   "metadata": {
    "application/vnd.databricks.v1+cell": {
     "cellMetadata": {},
     "inputWidgets": {},
     "nuid": "8eca091d-8e66-4e44-890b-dc470398e27e",
     "showTitle": false,
     "title": ""
    }
   },
   "outputs": [],
   "source": [
    "Persona1.presentar()"
   ]
  },
  {
   "cell_type": "code",
   "execution_count": 0,
   "metadata": {
    "application/vnd.databricks.v1+cell": {
     "cellMetadata": {},
     "inputWidgets": {},
     "nuid": "094a24af-91e1-49a9-bcfd-e7915f04652e",
     "showTitle": false,
     "title": ""
    }
   },
   "outputs": [],
   "source": [
    "Persona1.contratar('Contador')"
   ]
  },
  {
   "cell_type": "code",
   "execution_count": 0,
   "metadata": {
    "application/vnd.databricks.v1+cell": {
     "cellMetadata": {},
     "inputWidgets": {},
     "nuid": "916f1cb9-021a-4e14-a0e3-ea0708f70e65",
     "showTitle": false,
     "title": ""
    }
   },
   "outputs": [],
   "source": [
    "Persona1.dias_transcurridos(20)"
   ]
  },
  {
   "cell_type": "code",
   "execution_count": 0,
   "metadata": {
    "application/vnd.databricks.v1+cell": {
     "cellMetadata": {},
     "inputWidgets": {},
     "nuid": "e9746716-cab4-4c29-b0cc-21107a382856",
     "showTitle": false,
     "title": ""
    }
   },
   "outputs": [],
   "source": [
    "Persona1.presentar()"
   ]
  },
  {
   "cell_type": "code",
   "execution_count": 0,
   "metadata": {
    "application/vnd.databricks.v1+cell": {
     "cellMetadata": {},
     "inputWidgets": {},
     "nuid": "d391c300-4445-4f83-b270-d64cc06f68d4",
     "showTitle": false,
     "title": ""
    }
   },
   "outputs": [],
   "source": [
    "Persona1.cumplio_anios()"
   ]
  },
  {
   "cell_type": "code",
   "execution_count": 0,
   "metadata": {
    "application/vnd.databricks.v1+cell": {
     "cellMetadata": {},
     "inputWidgets": {},
     "nuid": "12702d6d-d1cb-48b9-a7da-db45b77b65bb",
     "showTitle": false,
     "title": ""
    }
   },
   "outputs": [],
   "source": [
    "Persona1.presentar()"
   ]
  },
  {
   "cell_type": "code",
   "execution_count": 0,
   "metadata": {
    "application/vnd.databricks.v1+cell": {
     "cellMetadata": {},
     "inputWidgets": {},
     "nuid": "65277564-793d-4279-99f6-43e6559e5ebc",
     "showTitle": false,
     "title": ""
    }
   },
   "outputs": [],
   "source": [
    "from ipywidgets import interact\n",
    "\n",
    "interact(Persona1.dias_transcurridos,n=10)"
   ]
  },
  {
   "cell_type": "markdown",
   "metadata": {
    "application/vnd.databricks.v1+cell": {
     "cellMetadata": {},
     "inputWidgets": {},
     "nuid": "8b9226bd-3431-43a9-a8fa-e66fbdd7a38f",
     "showTitle": false,
     "title": ""
    }
   },
   "source": [
    "## Módulos\n",
    "\n",
    "Como ven, en algunas ocasiones, veamos el ejemplo Fracción, la cantidad de código puede ser inmanejable. Además, con una reinicialización del nucleo o un bloqueo se pueden perder las definiciones previas. Para evitar este problema creamos módulos, archivos externos con extensión .py que podemos importar a nuestros cuadernos.\n",
    "\n",
    "Para este ejercicio usaremos el archivo fibo.py y usaremos las funciones alojadas en él, para importar sin problemas el archivo fibo.py debe estar en la misma carpeta del cuaderno:\n",
    "\n"
   ]
  },
  {
   "cell_type": "code",
   "execution_count": 0,
   "metadata": {
    "application/vnd.databricks.v1+cell": {
     "cellMetadata": {},
     "inputWidgets": {},
     "nuid": "eacbf6b5-32b2-4b85-9793-a8b8e6a1b9a6",
     "showTitle": false,
     "title": ""
    }
   },
   "outputs": [],
   "source": [
    "import fibo"
   ]
  },
  {
   "cell_type": "code",
   "execution_count": 0,
   "metadata": {
    "application/vnd.databricks.v1+cell": {
     "cellMetadata": {},
     "inputWidgets": {},
     "nuid": "f147643a-8a59-427d-b12f-01e5c6f693cd",
     "showTitle": false,
     "title": ""
    }
   },
   "outputs": [],
   "source": [
    "print(fibo.fib(1000))"
   ]
  },
  {
   "cell_type": "code",
   "execution_count": 0,
   "metadata": {
    "application/vnd.databricks.v1+cell": {
     "cellMetadata": {},
     "inputWidgets": {},
     "nuid": "27407574-a4af-412a-9612-74107a41318a",
     "showTitle": false,
     "title": ""
    }
   },
   "outputs": [],
   "source": [
    "fibo.fib2(100)"
   ]
  },
  {
   "cell_type": "code",
   "execution_count": 0,
   "metadata": {
    "application/vnd.databricks.v1+cell": {
     "cellMetadata": {},
     "inputWidgets": {},
     "nuid": "c536aeb7-a569-4a5a-9273-fe9b53b7c41b",
     "showTitle": false,
     "title": ""
    }
   },
   "outputs": [],
   "source": [
    "fibo.constante"
   ]
  },
  {
   "cell_type": "code",
   "execution_count": 0,
   "metadata": {
    "application/vnd.databricks.v1+cell": {
     "cellMetadata": {},
     "inputWidgets": {},
     "nuid": "faa10a79-e9c0-4912-a82f-80093e1b9a72",
     "showTitle": false,
     "title": ""
    }
   },
   "outputs": [],
   "source": [
    "dir(fibo)"
   ]
  },
  {
   "cell_type": "code",
   "execution_count": 0,
   "metadata": {
    "application/vnd.databricks.v1+cell": {
     "cellMetadata": {},
     "inputWidgets": {},
     "nuid": "407eb894-4e1d-49ab-be22-59585264c9b0",
     "showTitle": false,
     "title": ""
    }
   },
   "outputs": [],
   "source": [
    "?fibo.constante"
   ]
  }
 ],
 "metadata": {
  "application/vnd.databricks.v1+notebook": {
   "dashboards": [],
   "language": "python",
   "notebookMetadata": {},
   "notebookName": "Clases y Módulos",
   "widgets": {}
  },
  "kernelspec": {
   "display_name": "Python 3",
   "language": "python",
   "name": "python3"
  },
  "language_info": {
   "codemirror_mode": {
    "name": "ipython",
    "version": 3
   },
   "file_extension": ".py",
   "mimetype": "text/x-python",
   "name": "python",
   "nbconvert_exporter": "python",
   "pygments_lexer": "ipython3",
   "version": "3.8.5"
  },
  "toc": {
   "base_numbering": 1,
   "nav_menu": {},
   "number_sections": false,
   "sideBar": true,
   "skip_h1_title": false,
   "title_cell": "Table of Contents",
   "title_sidebar": "Contents",
   "toc_cell": false,
   "toc_position": {},
   "toc_section_display": true,
   "toc_window_display": false
  }
 },
 "nbformat": 4,
 "nbformat_minor": 0
}
