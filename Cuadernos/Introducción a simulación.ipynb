{
 "cells": [
  {
   "cell_type": "markdown",
   "metadata": {},
   "source": [
    "<div style=\"padding: -5px;\n",
    "  text-align: center;\n",
    "  color: white;\n",
    "  font-size: 15px;\">\n",
    "   <img src=\"images/banner.jpg\" alt=\"MINE-Seminario de programación\" style=\"width:100%;\">\n",
    "  <h1 style=\"\n",
    "  position: absolute;\n",
    "  top: 5%;\n",
    "  left: 50%;\">Introducción a la simulación</h1>\n",
    "</div>"
   ]
  },
  {
   "cell_type": "markdown",
   "metadata": {},
   "source": [
    "\n",
    "La consecución de datos en ocasiones resulta ser una tarea titánica o improbable. Por ejemplo, si quisiéramos establecer la mejor estrategia de negocios para vender aguacates en el exterior nos vemos enfrentados a reconocer que la volatilidad del peso frente a las monedas extranjeras no permite que conozcamos un valor exacto de los ingresos, en este caso, los datos de proyección estarían condicionados al comportamiento de la moneda y es improbable que sepamos con exactitud como se vendería el aguacate así conozcamos de antemano las cantidades demandadas. Ahora bien, también se asumen riesgos de transporte y colocación del producto, seguramente una parte de la entrega no llegará en condiciones óptimas y habrá una pérdida según la negociación. En este caso es poco probable tener una idea de las pérdidas que se tendrán o la volatilidad del peso, entonces ¿Cómo aseguramos una proyección de ingreso?\n",
    "\n",
    "La probabilidad es la respuesta, dependemos de un tipo de modelos que no procuran una respuesta directa, sino que van asociados a una incertidumbre generada por varios tipos de errores o por el desconocimiento de todas las variables o simplemente, por si trabaja en física cuántica, por la aleatoriedad intrínseca en la naturaleza. En el caso de nuestro problema, no consideramos una sola solución o un único devenir de nuestro asunto, más bien consideramos muchos escenarios y a partir de distribuciones de probabilidad, escogidas de acuerdo con la situación que planteamos, establecemos un rango de posibilidades en el que estará nuestra solución.\n",
    "\n",
    "Este ojo de Agamotto fue presentado por primera vez en 1949 por el matemático prominente con un único defecto, John Von Neumman y el exponente polaco Stanislaw Ulam como la simulación de Montecarlo. Un método para aproximar soluciones a partir de la generación de números aleatorios. En este cuaderno veremos como generar esos números y algunos elementos conceptuales alrededor de las aplicaciones de estos métodos. Posteriormente veremos otro tipo de simulación un poco más sofisticada asociada a agentes."
   ]
  },
  {
   "cell_type": "code",
   "execution_count": 7,
   "metadata": {},
   "outputs": [],
   "source": [
    "# Paquetes\n",
    "import numpy as np\n",
    "import scipy.stats as ss\n",
    "import matplotlib.pyplot as plt\n",
    "%matplotlib inline"
   ]
  },
  {
   "cell_type": "markdown",
   "metadata": {
    "pycharm": {
     "name": "#%% md\n"
    }
   },
   "source": [
    "## Distribuciones de probabilidad\n",
    "\n",
    "Recordemos que una distribución de probabilidad es una función, que asigna a cada suceso que representa la variable la probabilidad de que éste ocurra.\n",
    "\n",
    "Las distribuciones de probabilidad se pueden agrupar según el tipo de variable que se está estudiando\n",
    "\n",
    "**Para variables aleatorias discretas**\n",
    "Tengamos presente que las variables aleatorias discretas son aquellas que representan una cantidad *contable* de sucesos.\n",
    "\n",
    "### Distribución binomial\n",
    "La distribución binomial se caracteriza por tener un experimento con dos posibles resultados, *éxito* con probabilidad de ocurrencia $p$, y *fracaso* con probabilidad $1-p$, el cual se repite $n$ veces de manera independiente.\n",
    "\n",
    "Para representar que una variable aleatoria $X$ sigue una distribución binomial de parámetros $n$ y $p$, se escribe:\n",
    "\n",
    "$${\\displaystyle X\\sim B(n,p)\\,}$$\n",
    "\n",
    "Su función de probabilidad es:\n",
    "$${\\displaystyle \\!f(x)={n \\choose x}p^{x}(1-p)^{n-x},\\,\\,\\,\\,0\\leq p\\leq 1}$$\n",
    "donde ${\\displaystyle x=\\{0,1,2,\\dots ,n\\},}$\n"
   ]
  },
  {
   "cell_type": "markdown",
   "metadata": {},
   "source": [
    "**Ejemplo**\n",
    "\n",
    "Supongamos que se lanza un dado equilibrado (de 6 caras) 60 veces y queremos conocer la probabilidad de que el número 2 salga 10 veces.\n",
    "\n",
    "Un ensayo de nuestro problema consiste en lanzar el dado una vez, si se considera como éxito obtener un 3 y fracaso si no sale 3. Definiendo $X:=$ el número de veces que se obtiene un 2 en 60 lanzamientos.\n",
    "\n",
    "De lo anterior se puede afirmar que $X \\sim B(60, 1/6)$ y la probabilidad a calcular es $P(X=10)$:\n",
    "\n",
    "$${\\displaystyle \\!P(X=10)={60\\choose 10}(1/6)^{10}(1-1/6)^{60-10}=0.0000744\\,\\!}\\approx0.137013.$$\n",
    "\n",
    "Para utilizar ésta y las demás distribuciones de probabilidad en Python debemos trener presente lo siguiente:\n",
    "\n",
    "Se trabajará con el paquete `scipy.stats`, principalmente con las funciones: \n",
    "\n",
    "`cdf(x)`: Función de distribución F(X)\n",
    "\n",
    "`sf(x)`: 1 - cdf(x)\n",
    "\n",
    "`pmf(x)`: Función de probabilidad f(x) (distribuciones discretas)\n",
    "\n",
    "`pdf(x)`: Función de densidad f(x) (distribuciones continuas)\n",
    "\n",
    "`ppf(x)`: Función inversa a cdf(x). Nos permite obtener el valor correspondiente a una probabilidad.\n",
    "\n",
    "Para resolver el problema anterior con el uso de Python debemos seguir los siguientes pasos:"
   ]
  },
  {
   "cell_type": "code",
   "execution_count": 2,
   "metadata": {},
   "outputs": [],
   "source": [
    "import scipy.stats as ss\n",
    "X = ss.binom(60,1/6)"
   ]
  },
  {
   "cell_type": "code",
   "execution_count": 4,
   "metadata": {},
   "outputs": [
    {
     "data": {
      "text/plain": [
       "10.0"
      ]
     },
     "execution_count": 4,
     "metadata": {},
     "output_type": "execute_result"
    }
   ],
   "source": [
    "X.mean()"
   ]
  },
  {
   "cell_type": "code",
   "execution_count": 5,
   "metadata": {},
   "outputs": [
    {
     "data": {
      "text/plain": [
       "0.13701311426747098"
      ]
     },
     "execution_count": 5,
     "metadata": {},
     "output_type": "execute_result"
    }
   ],
   "source": [
    "X.pmf(10)"
   ]
  },
  {
   "cell_type": "markdown",
   "metadata": {},
   "source": [
    "Es decir la probabilidad es del 13.70%"
   ]
  },
  {
   "cell_type": "markdown",
   "metadata": {},
   "source": [
    "#### Números aleatorios a partir de la binomial\n",
    "\n",
    "En este apartado usaremos numpy.random para generar una sucesión de 1000 números que se escogen según una distribución binomial. En este sentido, resolveremos el problema anterior a partir de esa escogencia.\n"
   ]
  },
  {
   "cell_type": "code",
   "execution_count": 8,
   "metadata": {},
   "outputs": [
    {
     "data": {
      "text/plain": [
       "array([11, 10, 10,  7,  8, 10, 10,  9, 10,  8, 12,  7,  6, 11, 10,  6, 10,\n",
       "        6, 11, 11, 12, 11,  7, 13, 10,  5, 13, 11,  8,  8, 11,  8, 10, 10,\n",
       "        3, 12, 10,  7,  6, 11,  9, 12, 10,  6,  3, 10,  4,  7, 10, 11, 11,\n",
       "        6,  6,  8,  7, 11, 11, 13,  5, 11, 12, 10,  8, 11, 13, 10, 12, 10,\n",
       "        6, 11,  6, 14, 11, 11,  9,  7,  5,  6, 11,  8, 11, 11, 13,  8,  7,\n",
       "       11, 10,  5, 14, 15,  9, 10,  8, 11, 10,  9, 17, 10, 10, 10, 10, 10,\n",
       "        8,  7, 10,  5, 12,  8, 12,  6, 11, 10, 13, 11,  9,  8, 10, 12, 10,\n",
       "        8,  8, 12, 14,  4, 13, 12,  9, 10, 13, 13,  6,  4, 11,  9,  6, 14,\n",
       "       11, 12,  9, 11,  7,  6,  7,  6, 13,  9, 10, 14,  8, 10, 10, 10, 11,\n",
       "        9, 10,  9, 12,  9, 12,  8, 10,  5,  6,  9,  9, 14,  8, 11,  7,  9,\n",
       "        6, 14, 15, 11, 14,  7, 10,  7,  5,  7, 18,  8, 13,  5, 11, 11,  7,\n",
       "        8, 11, 10,  7,  7, 11, 10, 14, 14,  8, 10,  9,  9, 10,  6, 10,  9,\n",
       "        9,  7,  9,  9, 13, 13,  8,  9, 10, 15, 12, 13, 10, 11, 13,  7,  8,\n",
       "        9,  7,  6,  7,  8, 11,  7, 10,  9, 10,  8, 12, 10, 10,  7, 14,  7,\n",
       "       17,  5, 10, 11,  8, 10,  9,  8,  8, 17,  9,  4, 10, 15,  7, 11, 11,\n",
       "       12, 11, 11,  8,  6, 10,  7,  6,  2,  7, 13,  7,  9,  9,  9,  8, 11,\n",
       "        7, 12,  7,  9,  8, 15,  9,  9, 15, 12,  7, 11, 13, 12,  5,  9,  9,\n",
       "        4,  8, 10, 11, 10,  6, 11,  8,  5, 12, 11, 11,  7, 12,  9,  9, 12,\n",
       "       13, 12, 10,  8,  9, 11,  9, 11, 12, 13, 11, 10,  8, 11, 12, 13,  7,\n",
       "       10, 13,  8,  9, 11, 10, 12, 12,  9, 16, 12,  6, 10,  9, 11,  7, 12,\n",
       "       11,  7, 10,  7, 10,  9,  7, 11, 10, 11,  9,  9, 15,  9, 13,  7, 10,\n",
       "       13,  9, 10, 11, 13, 12, 10, 14, 11, 10,  8, 10,  9, 13, 14,  6, 13,\n",
       "        7, 11,  8, 12, 13,  9,  9, 10, 11,  7, 11,  8,  8, 10, 10,  8,  9,\n",
       "       12, 10, 10, 15,  9, 10, 10,  7, 14,  9, 12, 11, 11, 11, 11, 10, 13,\n",
       "       13,  5,  8, 13,  9, 10,  8, 14, 10,  7,  3, 15,  9,  8,  7,  8, 12,\n",
       "        8, 17, 14, 12,  9, 10, 12,  8, 10, 11,  8, 10, 15,  6, 12,  6, 13,\n",
       "       11,  7,  6, 10, 11, 10, 12, 12, 14,  9,  9,  9, 11,  8, 12, 10, 12,\n",
       "       14, 12,  8, 11, 10,  4, 10, 11,  9, 11,  9,  3,  9,  9, 13,  9, 10,\n",
       "       12, 10,  7,  5, 11,  9, 10, 14,  8, 10, 10,  7, 12, 11, 14,  9,  7,\n",
       "        9,  9,  8, 20, 11,  5,  7,  8,  6, 10, 11,  8, 11,  7, 12, 14,  9,\n",
       "       12, 10,  9, 15,  7,  9,  9, 11,  7, 12, 13, 10,  9, 14, 12,  6, 14,\n",
       "       10,  5, 16, 13, 12, 10,  6, 11, 11, 13, 11, 13, 13, 10, 10,  7, 11,\n",
       "       14,  5, 12,  8, 16,  7, 10,  9,  9,  8,  9,  8,  8, 10,  6, 10, 16,\n",
       "        8, 11,  9, 10, 14,  5, 11, 10,  7, 11,  9, 12, 10, 11,  9, 10, 15,\n",
       "       10,  8,  6, 10,  8, 11, 10, 10, 11, 12, 14,  8, 11,  8, 11, 11,  9,\n",
       "       13,  9, 12, 12, 13, 10, 12,  7,  9,  9, 10,  7,  9, 12,  4,  8, 15,\n",
       "        9, 12,  9,  9,  9,  9,  7, 10,  8,  8,  8, 14,  5, 10, 11, 12,  8,\n",
       "        4, 13,  9, 13,  9, 12, 13, 12, 14,  8, 12, 11,  8,  8,  9, 11,  7,\n",
       "        8, 11, 12,  9, 10, 11, 14,  9, 17, 10,  7, 14, 11,  9, 11, 13, 11,\n",
       "        8, 10,  9, 11, 11, 16, 10,  9, 13,  8, 11,  8, 11,  8,  9,  9,  7,\n",
       "       11, 10,  8, 10,  9,  9, 11, 10, 11, 10,  9, 12, 14, 11, 10,  8, 13,\n",
       "       11, 10,  5,  9, 11, 10,  9,  7, 14, 10, 13,  5, 11,  7, 15, 15,  8,\n",
       "       10, 12,  9, 12, 12,  9,  5, 14,  7,  7,  5, 11,  7, 10, 12, 12,  8,\n",
       "       11, 11,  8,  8,  8, 10, 11, 14,  9,  8,  9, 12, 14,  9, 13,  6, 14,\n",
       "       10,  8, 11,  9,  4,  9, 14, 15, 11,  4, 11, 12,  7, 11, 11,  5,  7,\n",
       "       12,  6, 12,  9,  5, 13, 13, 10,  6, 12, 12, 11, 11,  9, 17, 12,  9,\n",
       "        7, 14, 11, 15, 14,  8,  8,  8, 10,  9, 10, 13, 10, 12, 14, 11,  7,\n",
       "       10, 12, 11, 12, 10, 10,  7, 13, 12,  5, 12, 12,  9,  8,  9, 14,  9,\n",
       "       13,  6,  9, 11,  5, 13,  6, 11,  7, 10, 12, 12, 13,  8, 10, 10,  8,\n",
       "       15, 10,  8,  6, 10, 14, 11, 10, 10, 10, 12, 14,  6,  5,  6,  7, 10,\n",
       "       13,  8, 10, 10, 11, 15,  8,  9, 13, 10, 10, 11, 19, 11, 10, 11,  6,\n",
       "       13,  6,  7,  7, 14, 11, 14, 11, 11, 11, 12, 13, 12, 13,  5, 10, 13,\n",
       "        8, 10,  7,  8,  9,  7, 12, 11, 11,  7, 10, 11,  8, 10, 11,  8, 12,\n",
       "        5,  7, 13, 14,  8,  6, 10, 13, 11, 12, 13, 10,  8,  8,  9, 11, 12,\n",
       "       11,  9, 14,  8, 13, 14, 11, 12,  6, 14, 11, 11,  5,  5,  6, 10, 12,\n",
       "       11, 14, 15, 16, 10,  8,  6, 10,  9, 12,  7,  7, 12,  9, 10, 11,  7,\n",
       "       13, 10,  7,  7, 14, 10, 11, 12, 11,  7, 15,  9, 16,  9, 10, 11, 11,\n",
       "        9, 17,  6, 10,  9, 12,  7, 14, 14,  7,  8, 13, 14,  9,  5,  8,  7,\n",
       "        8,  8, 15, 16,  5,  6,  8, 10,  6, 11,  7,  3, 11, 13])"
      ]
     },
     "execution_count": 8,
     "metadata": {},
     "output_type": "execute_result"
    }
   ],
   "source": [
    "bin_rand=np.random.binomial(60,1/6,size=1000)\n",
    "bin_rand"
   ]
  },
  {
   "cell_type": "code",
   "execution_count": 9,
   "metadata": {},
   "outputs": [
    {
     "data": {
      "text/plain": [
       "(array([  6.,  43., 138., 238., 164., 250., 121.,  30.,   8.,   2.]),\n",
       " array([ 2. ,  3.8,  5.6,  7.4,  9.2, 11. , 12.8, 14.6, 16.4, 18.2, 20. ]),\n",
       " <BarContainer object of 10 artists>)"
      ]
     },
     "execution_count": 9,
     "metadata": {},
     "output_type": "execute_result"
    },
    {
     "data": {
      "image/png": "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",
      "text/plain": [
       "<Figure size 432x288 with 1 Axes>"
      ]
     },
     "metadata": {
      "needs_background": "light"
     },
     "output_type": "display_data"
    }
   ],
   "source": [
    "plt.hist(bin_rand)"
   ]
  },
  {
   "cell_type": "markdown",
   "metadata": {},
   "source": [
    "**Ejercicio 1**\n",
    "\n",
    "Crear un programa para estudiar la distribución en el arreglo anterior. Un histograma es uti, sin embargo como la distribución es discreta es util calcular una tabla de frecuencias.\n",
    "\n",
    "```Python\n",
    "#recomendaciones\n",
    "\n",
    "np.count_nonzero()\n",
    "np.unique()\n",
    "np.sum()\n",
    "```"
   ]
  },
  {
   "cell_type": "code",
   "execution_count": null,
   "metadata": {},
   "outputs": [],
   "source": [
    "# Respuestas aquí"
   ]
  },
  {
   "cell_type": "markdown",
   "metadata": {},
   "source": [
    "**Ejercicio 2**\n",
    "\n",
    "Dar una respuesta aproximada del ejercicio anterior a partir del arreglo `bin_rand`."
   ]
  },
  {
   "cell_type": "code",
   "execution_count": null,
   "metadata": {},
   "outputs": [],
   "source": [
    "# Respuestas aquí"
   ]
  },
  {
   "cell_type": "markdown",
   "metadata": {},
   "source": [
    "### Distribución de Poisson\n",
    "Es una distribución de probabilidad discreta que a partir de una frecuencia de ocurrencia media, sirve para hallar la probabilidad de que ocurra un determinado número de eventos durante cierto período de tiempo.\n",
    "\n",
    "Para representar que una variable aleatoria $X$ sigue una distribución de Poisson con parámetro $\\lambda$, el cual representa el número de veces que se espera que ocurra el fenómeno durante un intervalo dado, usaremos la siguiente notación:\n",
    "\n",
    "$${\\displaystyle X\\sim Poi(\\lambda)},$$\n",
    "\n",
    "La función de masa de probabilidad de la distribución de Poisson es\n",
    "\n",
    "$${\\displaystyle f(k,\\lambda )={\\frac {e^{-\\lambda }\\lambda ^{k}}{k!}}}$$\n",
    "\n",
    "siendo $k$ el número de ocurrencias del evento. \n",
    "\n",
    "**Ejemplo**\n",
    "\n",
    "Si el 1% de los libros encuadernados tiene defectos, para obtener la probabilidad de que 10 de 800 libros encuadernados en este taller tengan encuadernaciones defectuosas usamos la distribución de Poisson.\n",
    "\n",
    "En tal caso $k=10$, $\\lambda=8$ ya que es el $1\\%$ de $800$\n",
    "por lo tanto\n",
    "$${\\displaystyle P(10;8)={\\frac {8^{10}e^{-8}}{10!}}\\approx0,0992615.}$$"
   ]
  },
  {
   "cell_type": "code",
   "execution_count": 12,
   "metadata": {},
   "outputs": [
    {
     "data": {
      "text/plain": [
       "0.09926153383153544"
      ]
     },
     "execution_count": 12,
     "metadata": {},
     "output_type": "execute_result"
    }
   ],
   "source": [
    "X = ss.poisson(8)\n",
    "X.pmf(10)"
   ]
  },
  {
   "cell_type": "code",
   "execution_count": 13,
   "metadata": {},
   "outputs": [
    {
     "name": "stdout",
     "output_type": "stream",
     "text": [
      "0.9002736316092603\n"
     ]
    }
   ],
   "source": [
    "## Calculamos la probabilidad de tener entre 5 y 20 libros dañados\n",
    "sum_prob=0\n",
    "for k in range(5,21):\n",
    "    sum_prob+=X.pmf(k)\n",
    "print(sum_prob)"
   ]
  },
  {
   "cell_type": "markdown",
   "metadata": {},
   "source": [
    "Es decir la probabilidad es del 9.92%"
   ]
  },
  {
   "cell_type": "markdown",
   "metadata": {},
   "source": [
    "### Números aleatorios a partir de Poisson\n",
    "Replicamos el ejercicio anterior pero con la distribución de Poisson. Pero aquí usaremos una semilla usando la función `np.random.seed()`"
   ]
  },
  {
   "cell_type": "code",
   "execution_count": 14,
   "metadata": {},
   "outputs": [],
   "source": [
    "# Iniciar semilla \n",
    "np.random.seed(123) "
   ]
  },
  {
   "cell_type": "markdown",
   "metadata": {},
   "source": [
    "Calculate the absolute difference between their mean and lambda using the `np.mean()` and `abs()`."
   ]
  },
  {
   "cell_type": "code",
   "execution_count": 24,
   "metadata": {},
   "outputs": [],
   "source": [
    "poi_ran=np.random.poisson(8,153286)"
   ]
  },
  {
   "cell_type": "code",
   "execution_count": 25,
   "metadata": {},
   "outputs": [
    {
     "data": {
      "text/html": [
       "<div>\n",
       "<style scoped>\n",
       "    .dataframe tbody tr th:only-of-type {\n",
       "        vertical-align: middle;\n",
       "    }\n",
       "\n",
       "    .dataframe tbody tr th {\n",
       "        vertical-align: top;\n",
       "    }\n",
       "\n",
       "    .dataframe thead th {\n",
       "        text-align: right;\n",
       "    }\n",
       "</style>\n",
       "<table border=\"1\" class=\"dataframe\">\n",
       "  <thead>\n",
       "    <tr style=\"text-align: right;\">\n",
       "      <th></th>\n",
       "      <th>Libros Defectuosos</th>\n",
       "    </tr>\n",
       "  </thead>\n",
       "  <tbody>\n",
       "    <tr>\n",
       "      <th>0</th>\n",
       "      <td>12</td>\n",
       "    </tr>\n",
       "    <tr>\n",
       "      <th>1</th>\n",
       "      <td>5</td>\n",
       "    </tr>\n",
       "    <tr>\n",
       "      <th>2</th>\n",
       "      <td>7</td>\n",
       "    </tr>\n",
       "    <tr>\n",
       "      <th>3</th>\n",
       "      <td>5</td>\n",
       "    </tr>\n",
       "    <tr>\n",
       "      <th>5</th>\n",
       "      <td>10</td>\n",
       "    </tr>\n",
       "    <tr>\n",
       "      <th>...</th>\n",
       "      <td>...</td>\n",
       "    </tr>\n",
       "    <tr>\n",
       "      <th>153281</th>\n",
       "      <td>6</td>\n",
       "    </tr>\n",
       "    <tr>\n",
       "      <th>153282</th>\n",
       "      <td>9</td>\n",
       "    </tr>\n",
       "    <tr>\n",
       "      <th>153283</th>\n",
       "      <td>7</td>\n",
       "    </tr>\n",
       "    <tr>\n",
       "      <th>153284</th>\n",
       "      <td>12</td>\n",
       "    </tr>\n",
       "    <tr>\n",
       "      <th>153285</th>\n",
       "      <td>10</td>\n",
       "    </tr>\n",
       "  </tbody>\n",
       "</table>\n",
       "<p>138139 rows × 1 columns</p>\n",
       "</div>"
      ],
      "text/plain": [
       "        Libros Defectuosos\n",
       "0                       12\n",
       "1                        5\n",
       "2                        7\n",
       "3                        5\n",
       "5                       10\n",
       "...                    ...\n",
       "153281                   6\n",
       "153282                   9\n",
       "153283                   7\n",
       "153284                  12\n",
       "153285                  10\n",
       "\n",
       "[138139 rows x 1 columns]"
      ]
     },
     "execution_count": 25,
     "metadata": {},
     "output_type": "execute_result"
    }
   ],
   "source": [
    " ## Calculemos la prporción de experimentos en la cual hubo entre 5 y 20 libros defectuosos\n",
    "import pandas as pd\n",
    "DF_poisson=pd.DataFrame(poi_ran)\n",
    "DF_poisson.columns=['Libros Defectuosos']\n",
    "DF_filtro=DF_poisson[DF_poisson['Libros Defectuosos']>=5]\n",
    "DF_filtro=DF_filtro[DF_filtro['Libros Defectuosos']<=20]\n",
    "DF_filtro"
   ]
  },
  {
   "cell_type": "code",
   "execution_count": 26,
   "metadata": {},
   "outputs": [
    {
     "data": {
      "text/plain": [
       "0.9011847135420065"
      ]
     },
     "execution_count": 26,
     "metadata": {},
     "output_type": "execute_result"
    }
   ],
   "source": [
    "Proporcion=DF_filtro.shape[0]/DF_poisson.shape[0]\n",
    "Proporcion"
   ]
  },
  {
   "cell_type": "markdown",
   "metadata": {},
   "source": [
    "**Ejercicio 3**\n",
    "\n",
    "Replique lo hecho en el ejercicio 2 para esta distribución y resolviendo el ejemplo propuesto."
   ]
  },
  {
   "cell_type": "code",
   "execution_count": null,
   "metadata": {},
   "outputs": [],
   "source": [
    "## Respuesta aquí"
   ]
  },
  {
   "cell_type": "markdown",
   "metadata": {
    "variables": {
     "8 \\choose 1}{20-8 \\choose 6-1": "<p><strong>SyntaxError</strong>: unexpected character after line continuation character (<ipython-input-4-e19f3d9873b4>, line 1)</p>\n",
     "d \\choose x}{N-d \\choose n-x": "<p><strong>SyntaxError</strong>: unexpected character after line continuation character (<ipython-input-4-772e2014b2dd>, line 1)</p>\n"
    }
   },
   "source": [
    "### Distribución hipergeométrica\n",
    "Ésta es una distribución discreta relacionada con muestreos aleatorios y sin reemplazo, es decir, si se tienen $N$ elementos de los cuales, $d$ pertenecen a la categoría $A$ y los demás, $N-d$, a la categoría $B$. La distribución hipergeométrica mide la probabilidad de obtener $x$ elementos de la categoría $A$, para $({\\displaystyle 0\\leq x\\leq d})$, en una muestra sin reemplazo de $n$ elementos de la población original.\n",
    "\n",
    "La función de probabilidad de una variable aleatoria con distribución hipergeométrica es igual a\n",
    "\n",
    "$${\\displaystyle P(X=x)={\\frac {{d \\choose x}{N-d \\choose n-x}}{N \\choose n}}.}$$\n",
    "\n",
    "**Ejemplo**\n",
    "\n",
    "Se formó un jurado de 6 personas de un grupo de 20 posibles miembros de los cuales 8 eran mujeres y 12 hombres. El jurado seelecionó aleatoriamente, ¿cuál es la probabilidad de que el jurado tenga exactamente una mujer?\n",
    "\n",
    "$$P(20,8,6;1)={\\frac {{8 \\choose 1}{20-8 \\choose 6-1}}{20 \\choose 6}}\\approx 0.16346$$"
   ]
  },
  {
   "cell_type": "code",
   "execution_count": null,
   "metadata": {},
   "outputs": [],
   "source": [
    "X = ss.hypergeom(20,6,8)\n",
    "X.pmf(1)"
   ]
  },
  {
   "cell_type": "markdown",
   "metadata": {},
   "source": [
    "Es decir la probabilidad es del 16.34%"
   ]
  },
  {
   "cell_type": "markdown",
   "metadata": {},
   "source": [
    "### Números aleatorios a partir de hipergeométrica\n",
    "\n",
    "**Ejercicio 4**\n",
    "\n",
    "Haga un arreglo de 1000 números escogido según una distribución hipergemétrica."
   ]
  },
  {
   "cell_type": "code",
   "execution_count": null,
   "metadata": {},
   "outputs": [],
   "source": [
    "??np.random.hypergeometric"
   ]
  },
  {
   "cell_type": "markdown",
   "metadata": {},
   "source": [
    "## Variables aleatorias continuas\n",
    "Por otro lado, las variables aleatorias continuas, son las que resultan generalmente de la medición y, pueden tomar cualquier valor dentro de un intervalo.\n",
    "\n",
    "### Distribución Normal\n",
    "Es la distribución que se aplica en la mayor cantidad de situaciones, en las que se trabaje con una variable aleatoria continua en un grupo o población dada. Ejemplos de tales situaciones son, las estaturas de hombre, mujeres, variaciones en la medición de diferentes cantidades, etc.\n",
    "\n",
    "Los parámetros que necesitamos definir para estudiar la distribución normal son $\\mu$ que es la media;  $\\sigma$ que representa la desviación típica, de modo que $\\sigma^2$ es la varianza. Si consideramos el caso especial de la función donde ${\\displaystyle \\mu =0}$ y ${\\displaystyle \\sigma =1}$, llamaremos a tal función como distribución normal estándar.\n",
    "    \n",
    "$$N(x;  μ,σ) = ∫_{-∞}^{x} f(u; μ,σ) du$$\n",
    "donde $f(u; μ,σ)$ es la función densidad de probabilidad:\n",
    "\n",
    "$$f(u; μ,σ) = \\frac{1}{σ\\sqrt{2π}} e^{\\frac{-(u-\\mu)^2}{2σ^2}}$$\n",
    "\n",
    "Muchas veces cuando no se posee un software, se hace necesario el uso de valores ya calculados que por lo general están consignados en tablas y son documentos de fácil acceso.\n",
    "\n",
    "**Ejemplo **\n",
    "\n",
    "Suponga que tiene un conjunto de datos aleatorios $X$ que siguen una distribución normal de media $10$ y desviación típica $2$. Se pide encontrar la probabilidad de que:\n",
    "\n",
    "1. La variable aleatoria $x$ sea menor o igual a 8.\n",
    "\n"
   ]
  },
  {
   "cell_type": "code",
   "execution_count": null,
   "metadata": {},
   "outputs": [],
   "source": [
    "X = ss.norm(10,2)"
   ]
  },
  {
   "cell_type": "code",
   "execution_count": null,
   "metadata": {},
   "outputs": [],
   "source": [
    "X.cdf(8) # La propabilidad es del 15.86%"
   ]
  },
  {
   "cell_type": "markdown",
   "metadata": {},
   "source": [
    "2. Sea menor o igual a 10."
   ]
  },
  {
   "cell_type": "code",
   "execution_count": null,
   "metadata": {},
   "outputs": [],
   "source": [
    "X.cdf(10) # La propabilidad es del 50%"
   ]
  },
  {
   "cell_type": "markdown",
   "metadata": {},
   "source": [
    "3.  Que la variable $x$ esté por debajo de 12.\n"
   ]
  },
  {
   "cell_type": "code",
   "execution_count": null,
   "metadata": {},
   "outputs": [],
   "source": [
    "X.cdf(12) # La propabilidad es del 84.13%"
   ]
  },
  {
   "cell_type": "markdown",
   "metadata": {},
   "source": [
    "4. La probabilidad que un valor $x$ esté entre 8 y 12."
   ]
  },
  {
   "cell_type": "code",
   "execution_count": null,
   "metadata": {},
   "outputs": [],
   "source": [
    "X.cdf(12)-X.cdf(8) # La propabilidad es del 68.26%"
   ]
  },
  {
   "cell_type": "markdown",
   "metadata": {},
   "source": [
    "**Ejercicio 5**\n",
    "\n",
    "Haga un arreglo de 1000 números escogidos según una distribución normal."
   ]
  },
  {
   "cell_type": "markdown",
   "metadata": {},
   "source": [
    "## Otras escogencias aleatorias - Barajar un juego de cartas\n",
    "Muchas veces estamos interesados en aleatorizar el orden de un conjunto de elementos. Usaremos `np.random.shuffle ()`, una función que permite mezclar aleatoriamente una secuencia de elementos cualesquiera.\n"
   ]
  },
  {
   "cell_type": "code",
   "execution_count": 27,
   "metadata": {},
   "outputs": [
    {
     "data": {
      "text/plain": [
       "[('Corazón', 1),\n",
       " ('Corazón', 2),\n",
       " ('Corazón', 3),\n",
       " ('Corazón', 4),\n",
       " ('Corazón', 5),\n",
       " ('Corazón', 6),\n",
       " ('Corazón', 7),\n",
       " ('Corazón', 8),\n",
       " ('Corazón', 9),\n",
       " ('Corazón', 10),\n",
       " ('Corazón', 11),\n",
       " ('Corazón', 12),\n",
       " ('Corazón', 13),\n",
       " ('Picas', 1),\n",
       " ('Picas', 2),\n",
       " ('Picas', 3),\n",
       " ('Picas', 4),\n",
       " ('Picas', 5),\n",
       " ('Picas', 6),\n",
       " ('Picas', 7),\n",
       " ('Picas', 8),\n",
       " ('Picas', 9),\n",
       " ('Picas', 10),\n",
       " ('Picas', 11),\n",
       " ('Picas', 12),\n",
       " ('Picas', 13),\n",
       " ('Diamantes', 1),\n",
       " ('Diamantes', 2),\n",
       " ('Diamantes', 3),\n",
       " ('Diamantes', 4),\n",
       " ('Diamantes', 5),\n",
       " ('Diamantes', 6),\n",
       " ('Diamantes', 7),\n",
       " ('Diamantes', 8),\n",
       " ('Diamantes', 9),\n",
       " ('Diamantes', 10),\n",
       " ('Diamantes', 11),\n",
       " ('Diamantes', 12),\n",
       " ('Diamantes', 13),\n",
       " ('Trébol', 1),\n",
       " ('Trébol', 2),\n",
       " ('Trébol', 3),\n",
       " ('Trébol', 4),\n",
       " ('Trébol', 5),\n",
       " ('Trébol', 6),\n",
       " ('Trébol', 7),\n",
       " ('Trébol', 8),\n",
       " ('Trébol', 9),\n",
       " ('Trébol', 10),\n",
       " ('Trébol', 11),\n",
       " ('Trébol', 12),\n",
       " ('Trébol', 13)]"
      ]
     },
     "execution_count": 27,
     "metadata": {},
     "output_type": "execute_result"
    }
   ],
   "source": [
    "Baraja = []\n",
    "for i in [\"Corazón\",\"Picas\",\"Diamantes\",\"Trébol\"]:\n",
    "    for j in range(13):\n",
    "        Baraja.append((i,j+1))\n",
    "Baraja"
   ]
  },
  {
   "cell_type": "code",
   "execution_count": 30,
   "metadata": {},
   "outputs": [
    {
     "data": {
      "text/plain": [
       "[('Corazón', 9),\n",
       " ('Picas', 4),\n",
       " ('Diamantes', 13),\n",
       " ('Diamantes', 11),\n",
       " ('Trébol', 4),\n",
       " ('Corazón', 7),\n",
       " ('Corazón', 1),\n",
       " ('Picas', 3),\n",
       " ('Picas', 7),\n",
       " ('Corazón', 11),\n",
       " ('Trébol', 1),\n",
       " ('Diamantes', 6),\n",
       " ('Corazón', 13),\n",
       " ('Trébol', 3),\n",
       " ('Corazón', 4),\n",
       " ('Corazón', 8),\n",
       " ('Trébol', 13),\n",
       " ('Trébol', 2),\n",
       " ('Trébol', 10),\n",
       " ('Picas', 10),\n",
       " ('Picas', 8),\n",
       " ('Diamantes', 8),\n",
       " ('Diamantes', 2),\n",
       " ('Diamantes', 10),\n",
       " ('Trébol', 6),\n",
       " ('Corazón', 10),\n",
       " ('Picas', 6),\n",
       " ('Picas', 13),\n",
       " ('Picas', 9),\n",
       " ('Picas', 11),\n",
       " ('Trébol', 11),\n",
       " ('Corazón', 5),\n",
       " ('Diamantes', 1),\n",
       " ('Diamantes', 12),\n",
       " ('Diamantes', 3),\n",
       " ('Picas', 12),\n",
       " ('Picas', 2),\n",
       " ('Diamantes', 5),\n",
       " ('Corazón', 12),\n",
       " ('Trébol', 7),\n",
       " ('Corazón', 6),\n",
       " ('Trébol', 12),\n",
       " ('Picas', 5),\n",
       " ('Picas', 1),\n",
       " ('Corazón', 2),\n",
       " ('Diamantes', 7),\n",
       " ('Trébol', 8),\n",
       " ('Diamantes', 9),\n",
       " ('Diamantes', 4),\n",
       " ('Corazón', 3),\n",
       " ('Trébol', 5),\n",
       " ('Trébol', 9)]"
      ]
     },
     "execution_count": 30,
     "metadata": {},
     "output_type": "execute_result"
    }
   ],
   "source": [
    "# Shuffle the deck\n",
    "np.random.shuffle(Baraja)\n",
    "\n",
    "Baraja"
   ]
  },
  {
   "cell_type": "code",
   "execution_count": 31,
   "metadata": {},
   "outputs": [
    {
     "name": "stdout",
     "output_type": "stream",
     "text": [
      "0 ('Corazón', 9)\n",
      "1 ('Picas', 4)\n",
      "2 ('Diamantes', 13)\n",
      "3 ('Diamantes', 11)\n",
      "4 ('Trébol', 4)\n",
      "5 ('Corazón', 7)\n",
      "6 ('Corazón', 1)\n",
      "7 ('Picas', 3)\n",
      "8 ('Picas', 7)\n",
      "9 ('Corazón', 11)\n",
      "10 ('Trébol', 1)\n",
      "11 ('Diamantes', 6)\n",
      "12 ('Corazón', 13)\n",
      "13 ('Trébol', 3)\n",
      "14 ('Corazón', 4)\n",
      "15 ('Corazón', 8)\n",
      "16 ('Trébol', 13)\n",
      "17 ('Trébol', 2)\n",
      "18 ('Trébol', 10)\n",
      "19 ('Picas', 10)\n",
      "20 ('Picas', 8)\n",
      "21 ('Diamantes', 8)\n",
      "22 ('Diamantes', 2)\n",
      "23 ('Diamantes', 10)\n",
      "24 ('Trébol', 6)\n",
      "25 ('Corazón', 10)\n",
      "26 ('Picas', 6)\n",
      "27 ('Picas', 13)\n",
      "28 ('Picas', 9)\n",
      "29 ('Picas', 11)\n",
      "30 ('Trébol', 11)\n",
      "31 ('Corazón', 5)\n",
      "32 ('Diamantes', 1)\n",
      "33 ('Diamantes', 12)\n",
      "34 ('Diamantes', 3)\n",
      "35 ('Picas', 12)\n",
      "36 ('Picas', 2)\n",
      "37 ('Diamantes', 5)\n",
      "38 ('Corazón', 12)\n",
      "39 ('Trébol', 7)\n",
      "40 ('Corazón', 6)\n",
      "41 ('Trébol', 12)\n",
      "42 ('Picas', 5)\n",
      "43 ('Picas', 1)\n",
      "44 ('Corazón', 2)\n",
      "45 ('Diamantes', 7)\n",
      "46 ('Trébol', 8)\n",
      "47 ('Diamantes', 9)\n",
      "48 ('Diamantes', 4)\n",
      "49 ('Corazón', 3)\n",
      "50 ('Trébol', 5)\n",
      "51 ('Trébol', 9)\n"
     ]
    }
   ],
   "source": [
    "for ind,carta in enumerate(Baraja):\n",
    "    print(ind,carta)"
   ]
  },
  {
   "cell_type": "code",
   "execution_count": 63,
   "metadata": {},
   "outputs": [],
   "source": [
    "def suma_cartas(cartas,as_choice=0):\n",
    "    sum_reporte=0\n",
    "    for carta in cartas:\n",
    "        valor_carta=carta[1]\n",
    "        if as_choice==1 and valor_carta==1:\n",
    "            valor_carta=11\n",
    "        elif valor_carta>10:\n",
    "            valor_carta=10\n",
    "        sum_reporte+=valor_carta\n",
    "    return sum_reporte"
   ]
  },
  {
   "cell_type": "code",
   "execution_count": 66,
   "metadata": {},
   "outputs": [
    {
     "data": {
      "text/html": [
       "<div>\n",
       "<style scoped>\n",
       "    .dataframe tbody tr th:only-of-type {\n",
       "        vertical-align: middle;\n",
       "    }\n",
       "\n",
       "    .dataframe tbody tr th {\n",
       "        vertical-align: top;\n",
       "    }\n",
       "\n",
       "    .dataframe thead th {\n",
       "        text-align: right;\n",
       "    }\n",
       "</style>\n",
       "<table border=\"1\" class=\"dataframe\">\n",
       "  <thead>\n",
       "    <tr style=\"text-align: right;\">\n",
       "      <th></th>\n",
       "      <th>Carta</th>\n",
       "      <th>Jugador</th>\n",
       "      <th>Partida</th>\n",
       "    </tr>\n",
       "  </thead>\n",
       "  <tbody>\n",
       "    <tr>\n",
       "      <th>0</th>\n",
       "      <td>(Corazón, 9)</td>\n",
       "      <td>1</td>\n",
       "      <td>1</td>\n",
       "    </tr>\n",
       "    <tr>\n",
       "      <th>1</th>\n",
       "      <td>(Picas, 4)</td>\n",
       "      <td>2</td>\n",
       "      <td>1</td>\n",
       "    </tr>\n",
       "    <tr>\n",
       "      <th>2</th>\n",
       "      <td>(Diamantes, 13)</td>\n",
       "      <td>1</td>\n",
       "      <td>1</td>\n",
       "    </tr>\n",
       "    <tr>\n",
       "      <th>3</th>\n",
       "      <td>(Diamantes, 11)</td>\n",
       "      <td>2</td>\n",
       "      <td>1</td>\n",
       "    </tr>\n",
       "  </tbody>\n",
       "</table>\n",
       "</div>"
      ],
      "text/plain": [
       "             Carta  Jugador  Partida\n",
       "0     (Corazón, 9)        1        1\n",
       "1       (Picas, 4)        2        1\n",
       "2  (Diamantes, 13)        1        1\n",
       "3  (Diamantes, 11)        2        1"
      ]
     },
     "execution_count": 66,
     "metadata": {},
     "output_type": "execute_result"
    }
   ],
   "source": [
    "DF_cartas=pd.DataFrame()\n",
    "DF_cartas['Carta']=Baraja[:4]\n",
    "DF_cartas['Jugador']=[1,2,1,2]\n",
    "DF_cartas['Partida']=1\n",
    "DF_cartas\n",
    "\n"
   ]
  },
  {
   "cell_type": "code",
   "execution_count": 75,
   "metadata": {},
   "outputs": [
    {
     "data": {
      "text/html": [
       "<div>\n",
       "<style scoped>\n",
       "    .dataframe tbody tr th:only-of-type {\n",
       "        vertical-align: middle;\n",
       "    }\n",
       "\n",
       "    .dataframe tbody tr th {\n",
       "        vertical-align: top;\n",
       "    }\n",
       "\n",
       "    .dataframe thead th {\n",
       "        text-align: right;\n",
       "    }\n",
       "</style>\n",
       "<table border=\"1\" class=\"dataframe\">\n",
       "  <thead>\n",
       "    <tr style=\"text-align: right;\">\n",
       "      <th></th>\n",
       "      <th>Carta</th>\n",
       "      <th>Jugador</th>\n",
       "      <th>Partida</th>\n",
       "    </tr>\n",
       "  </thead>\n",
       "  <tbody>\n",
       "    <tr>\n",
       "      <th>0</th>\n",
       "      <td>(Corazón, 9)</td>\n",
       "      <td>1</td>\n",
       "      <td>1</td>\n",
       "    </tr>\n",
       "    <tr>\n",
       "      <th>1</th>\n",
       "      <td>(Picas, 4)</td>\n",
       "      <td>2</td>\n",
       "      <td>1</td>\n",
       "    </tr>\n",
       "    <tr>\n",
       "      <th>2</th>\n",
       "      <td>(Diamantes, 13)</td>\n",
       "      <td>1</td>\n",
       "      <td>1</td>\n",
       "    </tr>\n",
       "    <tr>\n",
       "      <th>3</th>\n",
       "      <td>(Diamantes, 11)</td>\n",
       "      <td>2</td>\n",
       "      <td>1</td>\n",
       "    </tr>\n",
       "    <tr>\n",
       "      <th>0</th>\n",
       "      <td>(Trébol, 4)</td>\n",
       "      <td>2</td>\n",
       "      <td>1</td>\n",
       "    </tr>\n",
       "  </tbody>\n",
       "</table>\n",
       "</div>"
      ],
      "text/plain": [
       "             Carta  Jugador  Partida\n",
       "0     (Corazón, 9)        1        1\n",
       "1       (Picas, 4)        2        1\n",
       "2  (Diamantes, 13)        1        1\n",
       "3  (Diamantes, 11)        2        1\n",
       "0      (Trébol, 4)        2        1"
      ]
     },
     "execution_count": 75,
     "metadata": {},
     "output_type": "execute_result"
    }
   ],
   "source": [
    "partida=1\n",
    "Jug_1=DF_cartas[DF_cartas['Jugador']==1]\n",
    "Jug_2=DF_cartas[DF_cartas['Jugador']==2]\n",
    "nueva_carta=Baraja[4]\n",
    "total_1=suma_cartas(Jug_1[Jug_1['Partida']==partida]['Carta'])\n",
    "total_2=suma_cartas(Jug_2[Jug_2['Partida']==partida]['Carta'])\n",
    "if total_1<=15:\n",
    "    DF_nuevo=pd.DataFrame()\n",
    "    DF_nuevo['Partida']=[partida]\n",
    "    DF_nuevo['Jugador']=[1]\n",
    "    DF_nuevo['Carta']=nueva_carta\n",
    "elif total_2<=15:\n",
    "    DF_nuevo=pd.DataFrame()\n",
    "    DF_nuevo['Partida']=[partida]\n",
    "    DF_nuevo['Jugador']=[2]\n",
    "    DF_nuevo['Carta']=[nueva_carta]\n",
    "DF_cartas=pd.concat([DF_cartas,DF_nuevo])\n",
    "DF_cartas"
   ]
  },
  {
   "cell_type": "markdown",
   "metadata": {},
   "source": [
    "# Simulaciones - Casos prácticos\n",
    "*Tomados de [https://github.com/sukruc/statistical-simulation](https://github.com/sukruc/statistical-simulation)*\n",
    "\n",
    "## Esquema para modelar eventos reales a partir de procesos estocásticos\n",
    "\n",
    "- Caracterizado por muestreo aleatorio repetido.\n",
    "- Nos da una solución aproximada.\n",
    "- Puede ayudar a resolver problemas complejos.\n",
    "\n",
    "## Pasos de simulación:\n",
    "\n",
    "1. Definir posibles resultados para variables aleatorias\n",
    "2. Asignar posibilidades.\n",
    "3. Definir relaciones entre variables aleatorias.\n",
    "4. Obtenga múltiples resultados mediante muestreo repetido.\n",
    "5. Analice los resultados de la muestra."
   ]
  },
  {
   "cell_type": "markdown",
   "metadata": {},
   "source": [
    "### Sacar pares\n",
    "\n",
    "Jugar parqués propone un primer reto para todos los jugadores, sacar pares para poder salir de la carcel. Este inocente hecho lo retrataremos en un modelo de simulación, seguiremos los pasos descritos anteriormente para entender las probabilidades y posibilidades alrededor el juego. \n",
    "\n",
    "En primer lugar debemos entender que la base del proceso de simulación implica un muestreo aleatorio repetido. El primer paso que se refiere a crear una muestra aleatoria consiste en pensar en el lanzamiento de un dado:"
   ]
  },
  {
   "cell_type": "code",
   "execution_count": null,
   "metadata": {},
   "outputs": [],
   "source": [
    "p = 1/6\n",
    "dado, probabilidades, lanzamientos = [1,2,3,4,5,6], [p]*6, 1\n",
    "\n",
    "# Use np.random.choice to throw the die once and record the outcome\n",
    "outcome = np.random.choice(dado, size=lanzamientos, p=probabilidades)\n",
    "print(\"Salida del lanzamiento: {}\".format(outcome[0]))"
   ]
  },
  {
   "cell_type": "markdown",
   "metadata": {},
   "source": [
    "Observe que el vector de probabilidades se asignan valores justos en la salida del dado. En este sentido podemos manipular las probabilidades del ejercicio. Completamos entonces el paso 2. Ahora vamos a definir la relación entre variables aleatorias.\n",
    "\n",
    "Muchas veces, nuestra simulación involucrará no solo una, sino múltiples variables aleatorias. Considere un juego en el que le tira dos dados y gana si cada dado muestra el mismo número. Aquí tenemos dos variables aleatorias - los dos dados - y una relación entre cada una de ellas - ganamos si muestran el mismo número, perdemos si no. En realidad, la relación entre variables aleatorias puede ser mucho más compleja, no obstante resolveremos lo que nos propone el diagrama:\n",
    "\n",
    "\n",
    "\n",
    "![dice_sim](img/dice_sim.png)"
   ]
  },
  {
   "cell_type": "code",
   "execution_count": null,
   "metadata": {},
   "outputs": [],
   "source": [
    "dado, probabilidades, num_dados = [1,2,3,4,5,6], [1/6, 1/6, 1/6, 1/6, 1/6, 1/6], 2\n",
    "outcomes = np.random.choice(dado, size=num_dados, p=probabilidades) \n",
    "\n",
    "if outcomes[0] == outcomes[1]: \n",
    "    answer = '¡Pares!' \n",
    "else:\n",
    "    answer = 'Sigue intentando.'\n",
    "\n",
    "print(\"Los dados muestran {} y {}. {}\".format(outcomes[0], outcomes[1], answer))"
   ]
  },
  {
   "cell_type": "markdown",
   "metadata": {},
   "source": [
    "Si bien ya somos aptos para crear el juego de sacar pares aún hace falta simular varias opiciones para establecer probabilidades de ganar este juego.\n",
    "\n",
    "**Ejercicio 6**\n",
    "\n",
    "¿Cuál es la probabilidad de sacr pares?\n",
    "\n",
    "**Ejercicio 7**\n",
    "\n",
    "Simule varios juegos de pares y verifique que la probabilidad anterior es correcta."
   ]
  },
  {
   "cell_type": "markdown",
   "metadata": {},
   "source": [
    "# Usando la simulación en toma de decisiones\n",
    "\n",
    "Según lo anterior, el proceso de simulación se simplifica en el siguiente flujo:\n",
    "\n",
    "![simulation workflow](img/sim_workflow.png)"
   ]
  },
  {
   "cell_type": "markdown",
   "metadata": {},
   "source": [
    "Aquí:\n",
    "- Pasos 1 y 2: definir los resultados de las variables aleatorias y asignar las probabilidades.\n",
    "- Paso 3: Definir la relación entre los parámetros del modelo.\n",
    "- Paso 4: muestrear repetidamente las distribuciones A y B para generar resultados.\n",
    "- Paso 5: Analizar los resultados.\n",
    "\n",
    "Utilicemos algunas simulaciones para tomar decisiones."
   ]
  },
  {
   "cell_type": "markdown",
   "metadata": {},
   "source": [
    "**Simulando un sorteo de lotería**\n",
    "\n",
    "Ejecutaremos una simulación completa, tomaremos una decisión basada en nuestros resultados observados y aprenderemos a modificar las entradas al modelo de simulación.\n",
    "\n",
    "En este caso veremos si queremos o no comprar un boleto de lotería. Suponga que tiene la oportunidad de comprar un boleto de lotería que le da una oportunidad de ganar un gran premio de $\\$ $ 1 millón. Como hay 1000 boletos en total, su probabilidad de ganar es de 1 en 1000. Cada boleto cuesta  $\\$ $ 10. Usemos nuestra comprensión de las simulaciones básicas para simular primero un sorteo de la lotería."
   ]
  },
  {
   "cell_type": "markdown",
   "metadata": {},
   "source": [
    "**Ejercicio 8**\n",
    "\n",
    "Explique el siguiente código, indique lo que almacena\n",
    "\n",
    "- `gains`\n",
    "- `probability`\n",
    "- `outcome`\n"
   ]
  },
  {
   "cell_type": "code",
   "execution_count": null,
   "metadata": {
    "tags": []
   },
   "outputs": [],
   "source": [
    "lottery_ticket_cost, num_tickets, grand_prize = 10, 1000, 1000000\n",
    "\n",
    "# Probability of winning\n",
    "chance_of_winning = 1/num_tickets\n",
    "\n",
    "# Code to simulate a single drawing of the lottery\n",
    "gains = [-lottery_ticket_cost, grand_prize-lottery_ticket_cost]\n",
    "probability = [1-chance_of_winning, chance_of_winning]\n",
    "outcome = np.random.choice(a=gains, size=1, p=probability, replace=True)\n",
    "\n",
    "print(\"La ganancia de un juego de lotería es {}\".format(outcome))"
   ]
  },
  {
   "cell_type": "markdown",
   "metadata": {},
   "source": [
    "## ¿Deberíamos comprar?\n",
    "En el último ejercicio, simulamos el sorteo aleatorio del billete de lotería una vez. En este ejercicio, completamos el proceso de simulación repitiendo el proceso varias veces.\n",
    "\n",
    "Repetir el proceso nos da múltiples resultados. Podemos pensar en esto como múltiples universos donde ocurrió el mismo sorteo de lotería. Luego, podemos determinar las ganancias promedio en todos estos universos. Si las ganancias promedio son mayores de lo que pagamos por el boleto, entonces tiene sentido comprarlo, de lo contrario, es posible que no queramos comprar el boleto.\n",
    "\n",
    "Normalmente, así es como se utilizan las simulaciones para evaluar las inversiones comerciales. Después de completar este ejercicio, tendrá las herramientas básicas necesarias para utilizar simulaciones para la toma de decisiones."
   ]
  },
  {
   "cell_type": "code",
   "execution_count": null,
   "metadata": {},
   "outputs": [],
   "source": [
    "# Initialize size and simulate outcome\n",
    "lottery_ticket_cost, num_tickets, grand_prize = 10, 1000, 1000000\n",
    "chance_of_winning = 1/num_tickets\n",
    "size = 2000\n",
    "payoffs = [-lottery_ticket_cost, grand_prize-lottery_ticket_cost]\n",
    "probs = [1-chance_of_winning, chance_of_winning]\n",
    "\n",
    "outcomes = np.random.choice(a=payoffs, size=size, p=probs, replace=True)\n",
    "\n",
    "# Mean of outcomes.\n",
    "answer = np.mean(outcomes)\n",
    "print(\"Pago promedio de {} simulaciones = {}\".format(size, answer))"
   ]
  },
  {
   "cell_type": "markdown",
   "metadata": {},
   "source": [
    "**Ejercicio 9**\n",
    "\n",
    "¿Qué visualizaciones son adecuadas para indicar los resultados de esta simulación?"
   ]
  },
  {
   "cell_type": "markdown",
   "metadata": {},
   "source": [
    "## Calculando un precio de lotería de equilibrio\n",
    "Las simulaciones nos permiten hacer preguntas más matizadas que no necesariamente tienen una solución analítica fácil. En lugar de resolver una fórmula matemática compleja, obtenemos directamente múltiples resultados de muestra. Podemos realizar experimentos modificando las entradas y estudiando cómo esos cambios impactan en el sistema. Por ejemplo, una vez que tengamos un modelo moderadamente razonable de patrones climáticos globales, podríamos evaluar el impacto del aumento de las emisiones de gases de efecto invernadero.\n",
    "\n",
    "En el ejemplo de la lotería, es posible que deseemos saber qué tan caro debe ser el boleto para que no tenga sentido comprarlo. Para entender esto, necesitamos modificar el costo del boleto para ver cuándo la recompensa esperada es negativa."
   ]
  },
  {
   "cell_type": "code",
   "execution_count": null,
   "metadata": {},
   "outputs": [],
   "source": [
    "sims, lottery_ticket_cost = 10000, 0\n",
    "\n",
    "\n",
    "while 1:\n",
    "    outcomes = np.random.choice([-lottery_ticket_cost, grand_prize-lottery_ticket_cost],\n",
    "                 size=sims, p=[1-chance_of_winning, chance_of_winning], replace=True)\n",
    "    if outcomes.mean() < 0:\n",
    "        break\n",
    "    else:\n",
    "        lottery_ticket_cost += 1\n",
    "answer = lottery_ticket_cost - 1\n",
    "\n",
    "print(\"El precio más alto al que tiene sentido comprar el boleto es {}\".format(answer))"
   ]
  },
  {
   "cell_type": "markdown",
   "metadata": {},
   "source": [
    "**Ejercicio 10**\n",
    "\n",
    "¿Cómo innterpreta el rendimiento de las anteriores simulaciones? ¿Basta con esa cantidad? ¿Que pasa si se vuelve a corrr la celda anterior? ¿Se puede mejorar los resultados de este ejercicio?"
   ]
  }
 ],
 "metadata": {
  "kernelspec": {
   "display_name": "base",
   "language": "python",
   "name": "python3"
  },
  "language_info": {
   "codemirror_mode": {
    "name": "ipython",
    "version": 3
   },
   "file_extension": ".py",
   "mimetype": "text/x-python",
   "name": "python",
   "nbconvert_exporter": "python",
   "pygments_lexer": "ipython3",
<<<<<<< HEAD
   "version": "3.10.6 (main, Nov 14 2022, 16:10:14) [GCC 11.3.0]"
  },
  "vscode": {
   "interpreter": {
    "hash": "916dbcbb3f70747c44a77c7bcd40155683ae19c65e1c03b4aa3499c5328201f1"
=======
   "version": "3.9.12"
  },
  "vscode": {
   "interpreter": {
    "hash": "ad2bdc8ecc057115af97d19610ffacc2b4e99fae6737bb82f5d7fb13d2f2c186"
>>>>>>> 49c8fc8e3558e1aedd087f045b9e79cd1050a5fc
   }
  }
 },
 "nbformat": 4,
 "nbformat_minor": 4
}
