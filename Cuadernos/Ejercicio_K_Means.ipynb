{
 "cells": [
  {
   "cell_type": "markdown",
   "metadata": {
    "application/vnd.databricks.v1+cell": {
     "cellMetadata": {},
     "inputWidgets": {},
     "nuid": "f5969edd-4dab-4e64-b534-bd99a496d12c",
     "showTitle": false,
     "title": ""
    }
   },
   "source": [
    "<div style=\"padding: -5px;\n",
    "  text-align: center;\n",
    "  color: white;\n",
    "  font-size: 20px;\">\n",
    "   <img src=\"images/banner.jpg\" alt=\"MINE-Seminario de programación\" style=\"width:100%;\">\n",
    "  <h1 style=\"\n",
    "  position: absolute;\n",
    "  top: 5%;\n",
    "  left: 50%;\">Ejercicio - Clúster\n",
    "   </h1>\n",
    "</div>"
   ]
  },
  {
   "cell_type": "markdown",
   "metadata": {
    "application/vnd.databricks.v1+cell": {
     "cellMetadata": {},
     "inputWidgets": {},
     "nuid": "abdfd4f0-0fa0-457f-93d0-4e68e915af78",
     "showTitle": false,
     "title": ""
    },
    "toc": true
   },
   "source": [
    "<h1>Table of Contents<span class=\"tocSkip\"></span></h1>\n",
    "<div class=\"toc\"><ul class=\"toc-item\"><li><span><a href=\"#Casos-de-Uso-de-K-Means\" data-toc-modified-id=\"Casos-de-Uso-de-K-Means-1\"><span class=\"toc-item-num\">1&nbsp;&nbsp;</span>Casos de Uso de K-Means</a></span></li><li><span><a href=\"#Ejercicio-Python-de-K-means\" data-toc-modified-id=\"Ejercicio-Python-de-K-means-2\"><span class=\"toc-item-num\">2&nbsp;&nbsp;</span>Ejercicio Python de K-means</a></span></li><li><span><a href=\"#Cargamos-los-datos-de-entrada-del-archivo-csv\" data-toc-modified-id=\"Cargamos-los-datos-de-entrada-del-archivo-csv-3\"><span class=\"toc-item-num\">3&nbsp;&nbsp;</span>Cargamos los datos de entrada del archivo csv</a></span></li><li><span><a href=\"#Visualizamos-los-datos\" data-toc-modified-id=\"Visualizamos-los-datos-4\"><span class=\"toc-item-num\">4&nbsp;&nbsp;</span>Visualizamos los datos</a></span></li><li><span><a href=\"#Creamos-el-modelo\" data-toc-modified-id=\"Creamos-el-modelo-5\"><span class=\"toc-item-num\">5&nbsp;&nbsp;</span>Creamos el modelo</a></span></li></ul></div>"
   ]
  },
  {
   "cell_type": "markdown",
   "metadata": {
    "application/vnd.databricks.v1+cell": {
     "cellMetadata": {},
     "inputWidgets": {},
     "nuid": "f4773a86-e667-4422-a14e-a8257704551e",
     "showTitle": false,
     "title": ""
    }
   },
   "source": [
    "## Casos de Uso de K-Means\n",
    "\n",
    "*Tomado de: https://www.aprendemachinelearning.com/k-means-en-python-paso-a-paso/*\n",
    "\n",
    "El algoritmo de Clustering K-means es uno de los más usados para encontrar grupos ocultos, o sospechados en teoría sobre un conjunto de datos no etiquetado. Esto puede servir para confirmar -o desterrar- alguna teoría que teníamos asumida de nuestros datos. Y también puede ayudarnos a descubrir relaciones asombrosas entre conjuntos de datos, que de manera manual, no hubiéramos reconocido. Una vez que el algoritmo ha ejecutado y obtenido las etiquetas, será fácil clasificar nuevos valores o muestras entre los grupos obtenidos.\n",
    "\n",
    "Algunos casos de uso son:\n",
    "\n",
    "   * Segmentación por Comportamiento: relacionar el carrito de compras de un usuario, sus tiempos de acción e información del perfil.\n",
    "   * Categorización de Inventario: agrupar productos por actividad en sus ventas\n",
    "   * Detectar anomalías o actividades sospechosas: según el comportamiento en una web reconocer un troll -o un bot- de un usuario normal\n",
    "\n"
   ]
  },
  {
   "cell_type": "markdown",
   "metadata": {
    "application/vnd.databricks.v1+cell": {
     "cellMetadata": {},
     "inputWidgets": {},
     "nuid": "da1ee5e5-4acd-45a1-87c0-b55a0caa6a19",
     "showTitle": false,
     "title": ""
    }
   },
   "source": [
    "## Ejercicio Python de K-means\n",
    "Realizaremos un ejercicio de prueba para comprender como funciona este algoritmo"
   ]
  },
  {
   "cell_type": "code",
   "execution_count": 0,
   "metadata": {
    "application/vnd.databricks.v1+cell": {
     "cellMetadata": {
      "byteLimit": 2048000,
      "rowLimit": 10000
     },
     "inputWidgets": {},
     "nuid": "bc9ea56f-0c86-42a8-93dc-b4d75842da97",
     "showTitle": false,
     "title": ""
    }
   },
   "outputs": [],
   "source": [
    "import pandas as pd\n",
    "import numpy as np\n",
    "import matplotlib.pyplot as plt\n",
    "import seaborn as sb\n",
    "from sklearn.cluster import KMeans\n",
    "from sklearn.metrics import pairwise_distances_argmin_min\n",
    "\n",
    "%matplotlib inline\n",
    "from mpl_toolkits.mplot3d import Axes3D\n",
    "plt.rcParams['figure.figsize'] = (16, 9)\n",
    "plt.style.use('ggplot')"
   ]
  },
  {
   "cell_type": "markdown",
   "metadata": {
    "application/vnd.databricks.v1+cell": {
     "cellMetadata": {},
     "inputWidgets": {},
     "nuid": "ef7d446c-74a3-4de9-87d4-c5e02777e9ff",
     "showTitle": false,
     "title": ""
    }
   },
   "source": [
    "Como ejemplo utilizaremos de entradas un conjunto de datos que obtuvo el autor, en el que se analizaban rasgos de la personalidad de usuarios de Twitter. El [autor](https://www.aprendemachinelearning.com/sobre-mi/) ha  filtrado a 140 “famosos” del mundo en diferentes areas: deporte, cantantes, actores, etc. Basado en una metodología de psicología conocida como “Ocean: The Big Five” tendemos como características de entrada:\n",
    "\n",
    "* usuario (el nombre en Twitter)\n",
    "*    “op” = Openness to experience – grado de apertura mental a nuevas experiencias, curiosidad, arte\n",
    "*   “co” =Conscientiousness – grado de orden, prolijidad, organización\n",
    "*    “ex” = Extraversion – grado de timidez, solitario o participación ante el grupo social\n",
    "*    “ag” = Agreeableness – grado de empatía con los demás, temperamento\n",
    "*    “ne” = Neuroticism, – grado de neuroticismo, nervioso, irritabilidad, seguridad en sí mismo.\n",
    "\n",
    "*    Wordcount – Cantidad promedio de palabras usadas en sus tweets\n",
    "*    Categoria – Actividad laboral del usuario (actor, cantante, etc.)\n",
    "\n",
    "Utilizaremos el algoritmo K-means para que agrupe estos usuarios -no por su actividad laboral- si no, por sus similitudes en la personalidad. "
   ]
  },
  {
   "cell_type": "markdown",
   "metadata": {
    "application/vnd.databricks.v1+cell": {
     "cellMetadata": {},
     "inputWidgets": {},
     "nuid": "3c18d3f6-74a2-41c6-b63e-6d4a92990c04",
     "showTitle": false,
     "title": ""
    }
   },
   "source": [
    "En la siguiente base de datos las categoría que representan la actividad laborla de los famosos están codificados según el siguiente diccionario;\n",
    "```python\n",
    "{1:\"actores\", 2:\"cantantes\", 3:\"modelo\", 4:\"TV\", 5:\"radio\", 6:\"tecnología\", 7:\"deportes\", 8:\"politica\", 9:\"escritor\"}\n",
    "```"
   ]
  },
  {
   "cell_type": "markdown",
   "metadata": {
    "application/vnd.databricks.v1+cell": {
     "cellMetadata": {},
     "inputWidgets": {},
     "nuid": "b546e7fb-4fd4-494f-9ff7-74325ba3cc2d",
     "showTitle": false,
     "title": ""
    }
   },
   "source": [
    "## Cargamos los datos de entrada del archivo csv"
   ]
  },
  {
   "cell_type": "code",
   "execution_count": 0,
   "metadata": {
    "application/vnd.databricks.v1+cell": {
     "cellMetadata": {
      "byteLimit": 2048000,
      "implicitDf": true,
      "rowLimit": 10000
     },
     "inputWidgets": {},
     "nuid": "f4f16c17-f85a-4f83-b9d0-00af58efa6de",
     "showTitle": false,
     "title": ""
    }
   },
   "outputs": [],
   "source": [
    "%sql\n",
    "use catalog `hive_metastore`; select * from `default`.`analisis` limit 100;"
   ]
  },
  {
   "cell_type": "code",
   "execution_count": 0,
   "metadata": {
    "application/vnd.databricks.v1+cell": {
     "cellMetadata": {
      "byteLimit": 2048000,
      "rowLimit": 10000
     },
     "inputWidgets": {},
     "nuid": "3b764847-53e1-4c96-9124-037aa647e53b",
     "showTitle": false,
     "title": ""
    }
   },
   "outputs": [],
   "source": [
    "import pyspark.pandas as ps\n",
    "dataframe=ps.read_table('hive_metastore.default.analisis')"
   ]
  },
  {
   "cell_type": "code",
   "execution_count": 0,
   "metadata": {
    "application/vnd.databricks.v1+cell": {
     "cellMetadata": {
      "byteLimit": 2048000,
      "rowLimit": 10000
     },
     "inputWidgets": {},
     "nuid": "54bae6fe-8194-41fa-b5cf-76be6fd57028",
     "showTitle": false,
     "title": ""
    }
   },
   "outputs": [],
   "source": [
    "dataframe"
   ]
  },
  {
   "cell_type": "code",
   "execution_count": 0,
   "metadata": {
    "application/vnd.databricks.v1+cell": {
     "cellMetadata": {
      "byteLimit": 2048000,
      "rowLimit": 10000
     },
     "inputWidgets": {},
     "nuid": "0dea69e5-23bb-4c88-b1ef-7bcb1b9fe13b",
     "showTitle": false,
     "title": ""
    }
   },
   "outputs": [],
   "source": [
    "dataframe.columns=[\"usuario\",\"Apertura Mental\",\"Escrupulosidad\",\"Extraversión\",\"Empatia\",\"Neuroticismo\",\"Cantidad de palabras\",\"Categoría\"]"
   ]
  },
  {
   "cell_type": "code",
   "execution_count": 0,
   "metadata": {
    "application/vnd.databricks.v1+cell": {
     "cellMetadata": {
      "byteLimit": 2048000,
      "rowLimit": 10000
     },
     "inputWidgets": {},
     "nuid": "08f1ef04-f3eb-45e6-88fa-71733662fd82",
     "showTitle": false,
     "title": ""
    }
   },
   "outputs": [],
   "source": [
    "dataframe[\"Categoría\"]=dataframe[\"Categoría\"].replace({1:\"actores\", 2:\"cantantes\", 3:\"modelo\", 4:\"TV\", 5:\"radio\", 6:\"tecnología\", 7:\"deportes\", 8:\"politica\", 9:\"escritor\"})"
   ]
  },
  {
   "cell_type": "code",
   "execution_count": 0,
   "metadata": {
    "application/vnd.databricks.v1+cell": {
     "cellMetadata": {
      "byteLimit": 2048000,
      "rowLimit": 10000
     },
     "inputWidgets": {},
     "nuid": "37746d08-66ea-4fad-b727-3b614504c0bd",
     "showTitle": false,
     "title": ""
    }
   },
   "outputs": [],
   "source": [
    "dataframe"
   ]
  },
  {
   "cell_type": "code",
   "execution_count": 0,
   "metadata": {
    "application/vnd.databricks.v1+cell": {
     "cellMetadata": {
      "byteLimit": 2048000,
      "rowLimit": 10000
     },
     "inputWidgets": {},
     "nuid": "5e7221d2-32c6-4010-968c-08baed191882",
     "showTitle": false,
     "title": ""
    },
    "scrolled": true
   },
   "outputs": [],
   "source": [
    "dataframe.describe()"
   ]
  },
  {
   "cell_type": "code",
   "execution_count": 0,
   "metadata": {
    "application/vnd.databricks.v1+cell": {
     "cellMetadata": {
      "byteLimit": 2048000,
      "rowLimit": 10000
     },
     "inputWidgets": {},
     "nuid": "6d850674-8a6f-4802-b4b4-f404e1d2008e",
     "showTitle": false,
     "title": ""
    }
   },
   "outputs": [],
   "source": [
    "#vemos cuantos usuarios hay de cada categoria\n",
    "dataframe.groupby('Categoría').size()"
   ]
  },
  {
   "cell_type": "markdown",
   "metadata": {
    "application/vnd.databricks.v1+cell": {
     "cellMetadata": {},
     "inputWidgets": {},
     "nuid": "1d0a1557-38e6-4c91-ba19-ae20863dad90",
     "showTitle": false,
     "title": ""
    }
   },
   "source": [
    "## Visualizamos los datos"
   ]
  },
  {
   "cell_type": "markdown",
   "metadata": {
    "application/vnd.databricks.v1+cell": {
     "cellMetadata": {},
     "inputWidgets": {},
     "nuid": "09a78ec2-e452-4b9a-93f6-2d8786533db1",
     "showTitle": false,
     "title": ""
    }
   },
   "source": [
    "Visualizaremos la distribución de cada rasgo psicológico en esta población."
   ]
  },
  {
   "cell_type": "code",
   "execution_count": 0,
   "metadata": {
    "application/vnd.databricks.v1+cell": {
     "cellMetadata": {
      "byteLimit": 2048000,
      "rowLimit": 10000
     },
     "inputWidgets": {},
     "nuid": "72cbd5f2-57f5-4b6b-b60d-8f0673519b67",
     "showTitle": false,
     "title": ""
    }
   },
   "outputs": [],
   "source": [
    "dataframe=dataframe.to_pandas()\n",
    "#Pintamos un histograma para cada una de las variables cuantitativas\n",
    "dataframe.drop(['Categoría'],1).hist()\n",
    "plt.show()"
   ]
  },
  {
   "cell_type": "code",
   "execution_count": 0,
   "metadata": {
    "application/vnd.databricks.v1+cell": {
     "cellMetadata": {
      "byteLimit": 2048000,
      "rowLimit": 10000
     },
     "inputWidgets": {},
     "nuid": "d55b506f-0eec-46cf-92a4-ac14968a83c7",
     "showTitle": false,
     "title": ""
    }
   },
   "outputs": [],
   "source": [
    "dataframe.drop(['Categoría'],1).boxplot()\n",
    "plt.show()"
   ]
  },
  {
   "cell_type": "code",
   "execution_count": 0,
   "metadata": {
    "application/vnd.databricks.v1+cell": {
     "cellMetadata": {},
     "inputWidgets": {},
     "nuid": "882bfa5f-b01d-4e55-9fbe-f821c87cbeaf",
     "showTitle": false,
     "title": ""
    },
    "scrolled": true
   },
   "outputs": [],
   "source": [
    "sb.pairplot(dataframe.dropna(), hue='Categoría',height=4,vars=dataframe.columns[1:-1],kind='scatter')"
   ]
  },
  {
   "cell_type": "markdown",
   "metadata": {
    "application/vnd.databricks.v1+cell": {
     "cellMetadata": {},
     "inputWidgets": {},
     "nuid": "60137128-e802-4fb4-8e9d-b8aa031275db",
     "showTitle": false,
     "title": ""
    }
   },
   "source": [
    "Hagamos componentes principales para tratar de disminuir la dimensionalidad de estos datos.\n",
    "\n",
    "*Nota: Evidentemente el gráfico muestra poca correlación entre variables, es posible que el PCA no sea provechoso*"
   ]
  },
  {
   "cell_type": "code",
   "execution_count": 0,
   "metadata": {
    "application/vnd.databricks.v1+cell": {
     "cellMetadata": {
      "byteLimit": 2048000,
      "rowLimit": 10000
     },
     "inputWidgets": {},
     "nuid": "a5f9e1b6-b8d4-45ed-aaac-71ffc4cea975",
     "showTitle": false,
     "title": ""
    },
    "scrolled": true
   },
   "outputs": [],
   "source": [
    "fig, ax = plt.subplots()\n",
    "s=sb.heatmap(pd.DataFrame(data=dataframe[dataframe.columns[1:-1]]).corr(),cmap='coolwarm', center=0,\n",
    "             linewidths=.5, cbar_kws={\"shrink\": .5},annot=True) \n",
    "s.set_yticklabels(s.get_yticklabels(),rotation=30,fontsize=7)\n",
    "s.set_xticklabels(s.get_xticklabels(),rotation=30,fontsize=7)\n",
    "ax.set_xlim(0,6)\n",
    "ax.set_ylim(0,6)\n",
    "plt.show()"
   ]
  },
  {
   "cell_type": "code",
   "execution_count": 0,
   "metadata": {
    "application/vnd.databricks.v1+cell": {
     "cellMetadata": {
      "byteLimit": 2048000,
      "rowLimit": 10000
     },
     "inputWidgets": {},
     "nuid": "5a5e5a68-9492-468c-b341-26e3c85c0da2",
     "showTitle": false,
     "title": ""
    }
   },
   "outputs": [],
   "source": [
    "import prince\n",
    "pca = prince.PCA(\n",
    "     n_components=6,\n",
    "     n_iter=3,\n",
    "     rescale_with_mean=True,\n",
    "     rescale_with_std=True,\n",
    "     copy=True,\n",
    "     check_input=True,\n",
    "     engine='auto',\n",
    "     random_state=42\n",
    " )\n",
    "pca = pca.fit(dataframe[dataframe.columns[1:-1]])"
   ]
  },
  {
   "cell_type": "code",
   "execution_count": 0,
   "metadata": {
    "application/vnd.databricks.v1+cell": {
     "cellMetadata": {},
     "inputWidgets": {},
     "nuid": "4a8c42e5-bc83-4f3b-bc82-8f1441186533",
     "showTitle": false,
     "title": ""
    }
   },
   "outputs": [],
   "source": [
    "np.cumsum(pca.explained_inertia_)"
   ]
  },
  {
   "cell_type": "code",
   "execution_count": 0,
   "metadata": {
    "application/vnd.databricks.v1+cell": {
     "cellMetadata": {},
     "inputWidgets": {},
     "nuid": "d820a8e6-fd7d-4d19-943a-806b9046c6fa",
     "showTitle": false,
     "title": ""
    }
   },
   "outputs": [],
   "source": [
    " ax = pca.plot_row_coordinates(\n",
    "     dataframe[dataframe.columns[1:-1]],\n",
    "     ax=None,\n",
    "     figsize=(6, 6),\n",
    "     x_component=0,\n",
    "     y_component=1,\n",
    "     labels=None,\n",
    "     color_labels=dataframe['Categoría'],\n",
    "     ellipse_outline=False,\n",
    "     ellipse_fill=False,\n",
    "     show_points=True\n",
    " )"
   ]
  },
  {
   "cell_type": "markdown",
   "metadata": {
    "application/vnd.databricks.v1+cell": {
     "cellMetadata": {},
     "inputWidgets": {},
     "nuid": "e9c8969d-58e6-4587-828c-121e8c1da9b4",
     "showTitle": false,
     "title": ""
    }
   },
   "source": [
    "## Creamos el modelo"
   ]
  },
  {
   "cell_type": "code",
   "execution_count": 0,
   "metadata": {
    "application/vnd.databricks.v1+cell": {
     "cellMetadata": {},
     "inputWidgets": {},
     "nuid": "f2b62966-0e64-47fb-843b-2e469b9e80db",
     "showTitle": false,
     "title": ""
    }
   },
   "outputs": [],
   "source": [
    "X = np.array(dataframe[dataframe.columns[1:-1]])\n",
    "y = np.array(dataframe['Categoría'])\n",
    "yu=np.array(dataframe['Categoría'].unique())\n",
    "X.shape"
   ]
  },
  {
   "cell_type": "code",
   "execution_count": 0,
   "metadata": {
    "application/vnd.databricks.v1+cell": {
     "cellMetadata": {},
     "inputWidgets": {},
     "nuid": "4ea9cda3-455d-4916-9aa1-d3dc7ddcf686",
     "showTitle": false,
     "title": ""
    }
   },
   "outputs": [],
   "source": [
    "dicty={}\n",
    "for i in enumerate(yu):\n",
    "    dicty[i[1]]=i[0]\n",
    "dicty"
   ]
  },
  {
   "cell_type": "code",
   "execution_count": 0,
   "metadata": {
    "application/vnd.databricks.v1+cell": {
     "cellMetadata": {},
     "inputWidgets": {},
     "nuid": "c14bb2e5-8dd1-4638-bd13-68b92b297e34",
     "showTitle": false,
     "title": ""
    }
   },
   "outputs": [],
   "source": [
    "fig = plt.figure()\n",
    "ax = Axes3D(fig)\n",
    "colores=['blue','red','green','blue','cyan','yellow','orange','black','pink','brown','purple']\n",
    "#NOTA: asignamos la posición cero del array repetida pues las categorias comienzan en id 1. \n",
    "asignar=[]\n",
    "for row in y:\n",
    "    asignar.append(colores[dicty[row]])\n",
    "ax.scatter(X[:, 0], X[:, 1], X[:, 2], c=asignar,s=60)"
   ]
  },
  {
   "cell_type": "markdown",
   "metadata": {
    "application/vnd.databricks.v1+cell": {
     "cellMetadata": {},
     "inputWidgets": {},
     "nuid": "49e668c1-8c15-4adb-ae9e-da7601ec64c9",
     "showTitle": false,
     "title": ""
    }
   },
   "source": [
    "# Buscamos el valor K"
   ]
  },
  {
   "cell_type": "code",
   "execution_count": 0,
   "metadata": {
    "application/vnd.databricks.v1+cell": {
     "cellMetadata": {},
     "inputWidgets": {},
     "nuid": "73313ffb-0e1a-4064-8e40-2ca75df366ca",
     "showTitle": false,
     "title": ""
    },
    "scrolled": true
   },
   "outputs": [],
   "source": [
    "Nc = range(1, 20)\n",
    "kmeans = [KMeans(n_clusters=i) for i in Nc]\n",
    "kmeans\n",
    "score = [kmeans[i].fit(X).score(X) for i in range(len(kmeans))]\n",
    "score\n",
    "plt.plot(Nc,score)\n",
    "plt.xlabel('Number of Clusters')\n",
    "plt.ylabel('Score')\n",
    "plt.title('Elbow Curve')\n",
    "plt.show()"
   ]
  },
  {
   "cell_type": "code",
   "execution_count": 0,
   "metadata": {
    "application/vnd.databricks.v1+cell": {
     "cellMetadata": {},
     "inputWidgets": {},
     "nuid": "0cdbb087-8ef5-4cd8-8dc4-5b1af851a699",
     "showTitle": false,
     "title": ""
    }
   },
   "outputs": [],
   "source": [
    "# Para el ejercicio, elijo 3 como un buen valor de K. Pero podría ser otro.\n",
    "kmeans = KMeans(n_clusters=3).fit(X)\n",
    "centroids = kmeans.cluster_centers_\n",
    "print(centroids)"
   ]
  },
  {
   "cell_type": "code",
   "execution_count": 0,
   "metadata": {
    "application/vnd.databricks.v1+cell": {
     "cellMetadata": {},
     "inputWidgets": {},
     "nuid": "99870b80-b64d-4b01-98d2-76d927d8742b",
     "showTitle": false,
     "title": ""
    },
    "scrolled": true
   },
   "outputs": [],
   "source": [
    "# Obtenemos las etiquetas de cada punto de nuestros datos\n",
    "labels = kmeans.predict(X)\n",
    "# Obtenemos los centroids\n",
    "C = kmeans.cluster_centers_\n",
    "colores=['purple','red','blue']\n",
    "asignar=[]\n",
    "for row in labels:\n",
    "    asignar.append(colores[row])\n",
    "\n",
    "fig = plt.figure()\n",
    "ax = Axes3D(fig)\n",
    "ax.scatter(X[:, 0], X[:, 1], X[:, 5], c=asignar,s=60)\n",
    "ax.scatter(C[:, 0], C[:, 1], C[:, 5], marker='*', c=colores, s=1000)"
   ]
  },
  {
   "cell_type": "code",
   "execution_count": 0,
   "metadata": {
    "application/vnd.databricks.v1+cell": {
     "cellMetadata": {},
     "inputWidgets": {},
     "nuid": "d05def2a-4106-45ea-ad21-533631bbddc5",
     "showTitle": false,
     "title": ""
    }
   },
   "outputs": [],
   "source": [
    "C[:,5]"
   ]
  },
  {
   "cell_type": "code",
   "execution_count": 0,
   "metadata": {
    "application/vnd.databricks.v1+cell": {
     "cellMetadata": {},
     "inputWidgets": {},
     "nuid": "174bc4f0-ec74-49d8-b056-498d4d64fdbd",
     "showTitle": false,
     "title": ""
    }
   },
   "outputs": [],
   "source": [
    " ax = pca.plot_row_coordinates(\n",
    "     dataframe[dataframe.columns[1:-1]],\n",
    "     ax=None,\n",
    "     figsize=(6, 6),\n",
    "     x_component=0,\n",
    "     y_component=1,\n",
    "     labels=None,\n",
    "     color_labels=asignar,\n",
    "     ellipse_outline=False,\n",
    "     ellipse_fill=False,\n",
    "     show_points=True\n",
    " )"
   ]
  },
  {
   "cell_type": "code",
   "execution_count": 0,
   "metadata": {
    "application/vnd.databricks.v1+cell": {
     "cellMetadata": {},
     "inputWidgets": {},
     "nuid": "5fa98d24-2e07-47ba-8193-eb7df935c41b",
     "showTitle": false,
     "title": ""
    }
   },
   "outputs": [],
   "source": [
    "# Hacemos una proyección a 2D con los diversos ejes \n",
    "f1 = dataframe['Apertura Mental'].values\n",
    "f2 = dataframe['Extraversión'].values\n",
    "\n",
    "plt.scatter(f1, f2, c=asignar, s=70)\n",
    "plt.scatter(C[:, 0], C[:, 2], marker='*', c=colores, s=1000)\n",
    "plt.show()"
   ]
  },
  {
   "cell_type": "code",
   "execution_count": 0,
   "metadata": {
    "application/vnd.databricks.v1+cell": {
     "cellMetadata": {},
     "inputWidgets": {},
     "nuid": "e5daf32b-dfdd-4264-be0a-485a686b719e",
     "showTitle": false,
     "title": ""
    }
   },
   "outputs": [],
   "source": [
    "dataframe"
   ]
  },
  {
   "cell_type": "code",
   "execution_count": 0,
   "metadata": {
    "application/vnd.databricks.v1+cell": {
     "cellMetadata": {},
     "inputWidgets": {},
     "nuid": "ba645af3-4be3-4df8-a0a2-5c236d77ce0f",
     "showTitle": false,
     "title": ""
    }
   },
   "outputs": [],
   "source": [
    "# Hacemos una proyección a 2D con los diversos ejes \n",
    "f1 = dataframe['Apertura Mental'].values\n",
    "f2 = dataframe['Extraversión'].values\n",
    "\n",
    "plt.scatter(f1, f2, c=asignar, s=70)\n",
    "plt.scatter(C[:, 0], C[:, 2], marker='*', c=colores, s=1000)\n",
    "plt.show()"
   ]
  },
  {
   "cell_type": "code",
   "execution_count": 0,
   "metadata": {
    "application/vnd.databricks.v1+cell": {
     "cellMetadata": {},
     "inputWidgets": {},
     "nuid": "12947a2a-2ebe-4254-819e-e9a402b3b18a",
     "showTitle": false,
     "title": ""
    }
   },
   "outputs": [],
   "source": [
    "f1 = dataframe['Extraversión'].values\n",
    "f2 = dataframe['Empatia'].values\n",
    "\n",
    "'''\n",
    "# este codigo comentado agrega las categorias sobre cada punto\n",
    "for label, x, y in zip(dataframe['categoria'].values, f1, f2):\n",
    "    plt.annotate(\n",
    "        label,\n",
    "        xy=(x, y), xytext=(-10, 10),\n",
    "        textcoords='offset points', ha='right', va='bottom',\n",
    "        bbox=dict(boxstyle='round,pad=0.5', fc='yellow', alpha=0.5),\n",
    "        arrowprops=dict(arrowstyle = '->', connectionstyle='arc3,rad=0'))\n",
    "'''\n",
    "plt.scatter(f1, f2, c=asignar, s=70)\n",
    "plt.scatter(C[:, 2], C[:, 3], marker='*', c=colores, s=1000)\n",
    "plt.show()"
   ]
  },
  {
   "cell_type": "code",
   "execution_count": 0,
   "metadata": {
    "application/vnd.databricks.v1+cell": {
     "cellMetadata": {},
     "inputWidgets": {},
     "nuid": "71e34427-7f5f-4eb3-af54-0daf7dbcfca4",
     "showTitle": false,
     "title": ""
    }
   },
   "outputs": [],
   "source": [
    "# contamos cuantos usuarios hay en cada grupo\n",
    "copy =  pd.DataFrame()\n",
    "copy['usuario']=dataframe['usuario'].values\n",
    "copy['categoria']=dataframe['Categoría'].values\n",
    "copy['label'] = labels;\n",
    "cantidadGrupo =  pd.DataFrame()\n",
    "cantidadGrupo['color']=colores\n",
    "cantidadGrupo['cantidad']=copy.groupby('label').size()\n",
    "cantidadGrupo"
   ]
  },
  {
   "cell_type": "code",
   "execution_count": 0,
   "metadata": {
    "application/vnd.databricks.v1+cell": {
     "cellMetadata": {},
     "inputWidgets": {},
     "nuid": "bfdf8530-298f-4726-a344-2da87f20f73e",
     "showTitle": false,
     "title": ""
    }
   },
   "outputs": [],
   "source": [
    "!pip install tabulate"
   ]
  },
  {
   "cell_type": "code",
   "execution_count": 0,
   "metadata": {
    "application/vnd.databricks.v1+cell": {
     "cellMetadata": {},
     "inputWidgets": {},
     "nuid": "d461aa59-caca-4e3e-a3d7-4f03781021fc",
     "showTitle": false,
     "title": ""
    },
    "scrolled": true
   },
   "outputs": [],
   "source": [
    "from IPython.core.display import display,Markdown\n",
    "# Veamos cuantos usuarios en cada categoria\n",
    "for i in range(5):\n",
    "    group_referrer_index = copy['label'] ==i\n",
    "    group_referrals = copy[group_referrer_index]\n",
    "    diversidadGrupo =  pd.DataFrame()\n",
    "    diversidadGrupo['cantidad']=group_referrals.groupby('categoria').size()\n",
    "    display(Markdown(diversidadGrupo.to_markdown()))\n",
    "    print()"
   ]
  },
  {
   "cell_type": "code",
   "execution_count": 0,
   "metadata": {
    "application/vnd.databricks.v1+cell": {
     "cellMetadata": {},
     "inputWidgets": {},
     "nuid": "151fb79e-fd25-4596-8adf-c9da7503ddee",
     "showTitle": false,
     "title": ""
    }
   },
   "outputs": [],
   "source": [
    "#vemos el representante del grupo, el usuario cercano a su centroid\n",
    "closest, _ = pairwise_distances_argmin_min(kmeans.cluster_centers_, X)\n",
    "closest"
   ]
  },
  {
   "cell_type": "code",
   "execution_count": 0,
   "metadata": {
    "application/vnd.databricks.v1+cell": {
     "cellMetadata": {},
     "inputWidgets": {},
     "nuid": "ac87f2ea-6af8-486e-af18-bf52d0965a76",
     "showTitle": false,
     "title": ""
    }
   },
   "outputs": [],
   "source": [
    "#Los usuarios más cercanos al centroide\n",
    "users=dataframe['usuario'].values\n",
    "for row in closest:\n",
    "    print(users[row])"
   ]
  },
  {
   "cell_type": "code",
   "execution_count": 0,
   "metadata": {
    "application/vnd.databricks.v1+cell": {
     "cellMetadata": {},
     "inputWidgets": {},
     "nuid": "83ac2a7e-e56b-44aa-82f6-a736bb0b73c1",
     "showTitle": false,
     "title": ""
    }
   },
   "outputs": [],
   "source": [
    "from IPython.core.display import display, HTML"
   ]
  },
  {
   "cell_type": "code",
   "execution_count": 0,
   "metadata": {
    "application/vnd.databricks.v1+cell": {
     "cellMetadata": {},
     "inputWidgets": {},
     "nuid": "b27e290a-e23f-4302-bab8-a42f8bcae15e",
     "showTitle": false,
     "title": ""
    }
   },
   "outputs": [],
   "source": [
    "#miramos los usuarios de cada grupo\n",
    "text=\"<table><tr> <td> Grupo 0</td><td> Grupo 1</td><td> Grupo 2</td><td> Grupo 3</td><td> Grupo 4</td></tr><tr>\"\n",
    "for i in range(5):\n",
    "    text+=\"<td>\"\n",
    "    for index, row in copy.iterrows():\n",
    "        if row[\"label\"] == i:\n",
    "            text+=\"<p>\"+ row[\"usuario\"]+\" \" +row[\"categoria\"]+\"</p>\"\n",
    "    text+=\"</td>\"\n",
    "text+=\"</tr></table>\"\n",
    "display(HTML(text))\n",
    "\n",
    "        "
   ]
  },
  {
   "cell_type": "markdown",
   "metadata": {
    "application/vnd.databricks.v1+cell": {
     "cellMetadata": {},
     "inputWidgets": {},
     "nuid": "cf94f736-9611-4815-86c9-925f268a7744",
     "showTitle": false,
     "title": ""
    }
   },
   "source": [
    "# Clasificación de nuevos registros"
   ]
  },
  {
   "cell_type": "code",
   "execution_count": 0,
   "metadata": {
    "application/vnd.databricks.v1+cell": {
     "cellMetadata": {},
     "inputWidgets": {},
     "nuid": "43f62e10-53cc-4f93-baf4-d9bf58c9c441",
     "showTitle": false,
     "title": ""
    }
   },
   "outputs": [],
   "source": [
    "X_new = np.array([[45.92,57.74,15.66,12.11,97,89.9]]) #davidguetta personality traits\n",
    "new_labels = kmeans.predict(X_new)\n",
    "print(new_labels)\n",
    "\n",
    "#NOTA: en el array podemos poner más de un array para evaluar a varios usuarios nuevos a la vez"
   ]
  },
  {
   "cell_type": "markdown",
   "metadata": {
    "application/vnd.databricks.v1+cell": {
     "cellMetadata": {},
     "inputWidgets": {},
     "nuid": "f574e3ed-2e78-4aba-9f1d-f8c3c6537e13",
     "showTitle": false,
     "title": ""
    }
   },
   "source": [
    "NOTA FINAL: Los resultados obtenidos pueden varias de ejecución en ejecución pues al inicializar aleatoriamente los centroids, podemos obtener grupos distintos o los mismos pero en distinto orden y color"
   ]
  }
 ],
 "metadata": {
  "application/vnd.databricks.v1+notebook": {
   "dashboards": [],
   "language": "python",
   "notebookMetadata": {
    "mostRecentlyExecutedCommandWithImplicitDF": {
     "commandId": 2440697142134521,
     "dataframes": [
      "_sqldf"
     ]
    },
    "pythonIndentUnit": 4
   },
   "notebookName": "Ejercicio_K_Means",
   "widgets": {}
  },
  "kernelspec": {
   "display_name": "Python 3",
   "language": "python",
   "name": "python3"
  },
  "language_info": {
   "codemirror_mode": {
    "name": "ipython",
    "version": 3
   },
   "file_extension": ".py",
   "mimetype": "text/x-python",
   "name": "python",
   "nbconvert_exporter": "python",
   "pygments_lexer": "ipython3",
   "version": "3.8.8"
  },
  "toc": {
   "base_numbering": 1,
   "nav_menu": {},
   "number_sections": true,
   "sideBar": true,
   "skip_h1_title": true,
   "title_cell": "Table of Contents",
   "title_sidebar": "Contents",
   "toc_cell": true,
   "toc_position": {},
   "toc_section_display": true,
   "toc_window_display": false
  }
 },
 "nbformat": 4,
 "nbformat_minor": 0
}
