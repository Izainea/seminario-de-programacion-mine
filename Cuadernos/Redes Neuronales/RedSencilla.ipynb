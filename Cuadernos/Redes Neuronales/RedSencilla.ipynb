{
 "cells": [
  {
   "cell_type": "markdown",
   "metadata": {
    "application/vnd.databricks.v1+cell": {
     "cellMetadata": {},
     "inputWidgets": {},
     "nuid": "8d0d4e48-67eb-4495-ab3e-02b6b7e234a8",
     "showTitle": false,
     "title": ""
    },
    "toc": true
   },
   "source": [
    "<h1>Introducción al Perceptrón<span class=\"tocSkip\"></span></h1>\n",
    "<div class=\"toc\"><ul class=\"toc-item\"><li><span><a href=\"#Planteamiento-del-problema\" data-toc-modified-id=\"Planteamiento-del-problema-1\"><span class=\"toc-item-num\">1&nbsp;&nbsp;</span>Planteamiento del problema</a></span></li><li><span><a href=\"#¿Qué-es-un-perceptrón?\" data-toc-modified-id=\"¿Qué-es-un-perceptrón?-2\"><span class=\"toc-item-num\">2&nbsp;&nbsp;</span>¿Qué es un perceptrón?</a></span></li><li><span><a href=\"#Ahora-sin-trampa,-como-logramos-esos-pesos-deseados\" data-toc-modified-id=\"Ahora-sin-trampa,-como-logramos-esos-pesos-deseados-3\"><span class=\"toc-item-num\">3&nbsp;&nbsp;</span>Ahora sin trampa, como logramos esos pesos deseados</a></span></li></ul></div>"
   ]
  },
  {
   "cell_type": "markdown",
   "metadata": {
    "application/vnd.databricks.v1+cell": {
     "cellMetadata": {},
     "inputWidgets": {},
     "nuid": "566898dd-f085-499b-99d7-4f82c7dcafac",
     "showTitle": false,
     "title": ""
    }
   },
   "source": [
    "## Planteamiento del problema\n",
    "\n",
    "*Dinero, juventud o tiempo.*\n",
    "\n",
    "Un problema bastante interesante nos lleva a preguntarnos si preferiamos Juventud, tiempo o dinero. Evidentemete, en los juegos de niños y adolecentes escogemos una de las tres opciones. Vamos a hacerlo más complejo y permitiremos que uno pueda decidir en varios casos. En la tabla siguiente *Juliana* nos comenta con qué le gustaría vivir:\n",
    "\n",
    "|**Dinero**|**Juventud**|**Tiempo**|**Respuesta**|\n",
    "|:--:|:--:|:--:|:--:|\n",
    "|No|Sí|No|*Sí*|\n",
    "|No|No|Sí|*No*|\n",
    "|Sí|No|No|*No*|\n",
    "|Sí|Sí|No|*Sí*|\n",
    "|Sí|Sí|Sí|*Sí*|\n",
    "|No|Sí|Sí|*No*|\n",
    "|No|Sí|No|*Sí*|\n",
    "\n",
    "\n",
    "Nuestro objetivo ahora es crear un perceptrón que pueda simular la respuesta de Juliana para los casos que hacen falta.\n",
    "\n",
    "Iniciamos, guardando en dos matrices las respuestas de Juliana, 0 significa `No` y 1 significa `Sí`."
   ]
  },
  {
   "cell_type": "code",
   "execution_count": 0,
   "metadata": {
    "application/vnd.databricks.v1+cell": {
     "cellMetadata": {},
     "inputWidgets": {},
     "nuid": "7e8e1899-d07f-4bcc-8aa7-8cda8ec6211e",
     "showTitle": false,
     "title": ""
    }
   },
   "outputs": [],
   "source": [
    "import numpy as np\n",
    "#Entradas\n",
    "input_set = np.array([[0,1,0],\n",
    "                      [0,0,1],\n",
    "                      [1,0,0],\n",
    "                      [1,1,0],\n",
    "                      [1,1,1],\n",
    "                      [0,1,1],\n",
    "                      [0,1,0]])\n",
    "#Salida\n",
    "labels = np.array([[1,\n",
    "                    0,\n",
    "                    0,\n",
    "                    1,\n",
    "                    1,\n",
    "                    0,\n",
    "                    1]])\n",
    "labels = labels.reshape(7,1) "
   ]
  },
  {
   "cell_type": "markdown",
   "metadata": {
    "application/vnd.databricks.v1+cell": {
     "cellMetadata": {},
     "inputWidgets": {},
     "nuid": "a357f807-b91c-4f3d-9ece-22a2617123cb",
     "showTitle": false,
     "title": ""
    }
   },
   "source": [
    "Tabla anterior:\n",
    "\n",
    "|**Dinero**|**Juventud**|**Tiempo**|**Respuesta**|\n",
    "|:--:|:--:|:--:|:--:|\n",
    "|No|Sí|No|*Sí*|\n",
    "|No|No|Sí|*No*|\n",
    "|Sí|No|No|*No*|\n",
    "|Sí|Sí|No|*Sí*|\n",
    "|Sí|Sí|Sí|*Sí*|\n",
    "|No|Sí|Sí|*No*|\n",
    "|No|Sí|No|*Sí*|\n",
    "\n",
    "Ahora en numpy:"
   ]
  },
  {
   "cell_type": "code",
   "execution_count": 0,
   "metadata": {
    "application/vnd.databricks.v1+cell": {
     "cellMetadata": {},
     "inputWidgets": {},
     "nuid": "98cf080e-de66-4542-b552-00e2bf05b61d",
     "showTitle": false,
     "title": ""
    }
   },
   "outputs": [],
   "source": [
    "np.concatenate((input_set,labels),axis=1)"
   ]
  },
  {
   "cell_type": "markdown",
   "metadata": {
    "application/vnd.databricks.v1+cell": {
     "cellMetadata": {},
     "inputWidgets": {},
     "nuid": "903a5fc2-430c-4d9f-92b4-4dee823f5be1",
     "showTitle": false,
     "title": ""
    }
   },
   "source": [
    "## ¿Qué es un perceptrón?\n",
    "\n",
    "![Perceptron](https://upload.wikimedia.org/wikipedia/commons/thumb/b/b0/Perceptr%C3%B3n_5_unidades.svg/800px-Perceptr%C3%B3n_5_unidades.svg.png)\n",
    "\n",
    "*Tomada de [Wikipedia](https://es.wikipedia.org/wiki/Perceptr%C3%B3n)*\n",
    "\n",
    "El objetivo de un perceptrón es establecer unos pesos $w=(w_1,w_2,\\cdots,w_n)$ y un valor de sesgo $b$ que satisfaga lo siguiente:\n",
    "\n",
    "$$\\hat{y}=\\begin{cases} 1, \\text{ si } w\\cdot x=\\sum\\limits_{i=1}^{n}w_i\\cdot x_i>b\\\\\n",
    "0, \\text{ en otro caso.}\\end{cases}$$\n",
    "\n",
    "La activación del perceptron (tomar valores 0 o 1) puede depender tambien de una función de activación."
   ]
  },
  {
   "cell_type": "markdown",
   "metadata": {
    "application/vnd.databricks.v1+cell": {
     "cellMetadata": {},
     "inputWidgets": {},
     "nuid": "47d3126e-a289-4350-b55b-92562ab0b657",
     "showTitle": false,
     "title": ""
    }
   },
   "source": [
    "**Problema Inicial**\n",
    "\n",
    "En nuestro problema:\n",
    "\n",
    "$$w=(0.178,0.785,-0.321)$$\n",
    "$$b=0.5$$\n"
   ]
  },
  {
   "cell_type": "code",
   "execution_count": 0,
   "metadata": {
    "application/vnd.databricks.v1+cell": {
     "cellMetadata": {},
     "inputWidgets": {},
     "nuid": "00185bc8-a15e-477f-ab94-d2254671dd58",
     "showTitle": false,
     "title": ""
    }
   },
   "outputs": [],
   "source": [
    "np.concatenate((input_set,labels),axis=1)"
   ]
  },
  {
   "cell_type": "code",
   "execution_count": 0,
   "metadata": {
    "application/vnd.databricks.v1+cell": {
     "cellMetadata": {},
     "inputWidgets": {},
     "nuid": "fd51f11a-5f41-4d8f-ae9f-004b65246925",
     "showTitle": false,
     "title": ""
    }
   },
   "outputs": [],
   "source": [
    "w=np.array([0.17857143,0.78571429,-0.32142857])\n",
    "b=0.5"
   ]
  },
  {
   "cell_type": "code",
   "execution_count": 0,
   "metadata": {
    "application/vnd.databricks.v1+cell": {
     "cellMetadata": {},
     "inputWidgets": {},
     "nuid": "5d4d55a3-b467-4678-bb79-fd0709e7586a",
     "showTitle": false,
     "title": ""
    }
   },
   "outputs": [],
   "source": [
    "Respuestas=input_set@w"
   ]
  },
  {
   "cell_type": "code",
   "execution_count": 0,
   "metadata": {
    "application/vnd.databricks.v1+cell": {
     "cellMetadata": {},
     "inputWidgets": {},
     "nuid": "1f1d267d-40c6-415c-9ac0-d0d11872822d",
     "showTitle": false,
     "title": ""
    }
   },
   "outputs": [],
   "source": [
    "[1 if i> 0.5 else 0 for i in Respuestas]"
   ]
  },
  {
   "cell_type": "markdown",
   "metadata": {
    "application/vnd.databricks.v1+cell": {
     "cellMetadata": {},
     "inputWidgets": {},
     "nuid": "8263cbbd-a050-42d2-82cc-f89eb6c6eab5",
     "showTitle": false,
     "title": ""
    }
   },
   "source": [
    "**Definimos la función de activación de salto** que a partir de 0.5 tomara como valor de salida 1, y en otro caso 0.\n",
    "\n",
    "$$\\hat{y}=\\begin{cases} 1, \\text{ si } w\\cdot x=\\sum\\limits_{i=1}^{n}w_i\\cdot x_i>b\\\\\n",
    "0, \\text{ en otro caso.}\\end{cases}$$"
   ]
  },
  {
   "cell_type": "code",
   "execution_count": 0,
   "metadata": {
    "application/vnd.databricks.v1+cell": {
     "cellMetadata": {},
     "inputWidgets": {},
     "nuid": "bfbb872a-630c-4bff-a552-9f64016f4c62",
     "showTitle": false,
     "title": ""
    }
   },
   "outputs": [],
   "source": [
    "def funcion_activacion(w,x,b):\n",
    "    if w[0]*x[0]+w[1]*x[1]+w[2]*x[2]>b:\n",
    "        r=1\n",
    "    else:\n",
    "        r=0\n",
    "    return r"
   ]
  },
  {
   "cell_type": "code",
   "execution_count": 0,
   "metadata": {
    "application/vnd.databricks.v1+cell": {
     "cellMetadata": {},
     "inputWidgets": {},
     "nuid": "202c7eb2-032b-4969-9276-366d33c00474",
     "showTitle": false,
     "title": ""
    }
   },
   "outputs": [],
   "source": [
    "y1=[]\n",
    "for i in input_set:\n",
    "    y1.append(funcion_activacion(w,i,b))\n",
    "print(y1)\n",
    "print(labels.T[0])"
   ]
  },
  {
   "cell_type": "code",
   "execution_count": 0,
   "metadata": {
    "application/vnd.databricks.v1+cell": {
     "cellMetadata": {},
     "inputWidgets": {},
     "nuid": "9ef78e48-7716-4fca-8335-bb208fe479e2",
     "showTitle": false,
     "title": ""
    }
   },
   "outputs": [],
   "source": [
    "funcion_activacion(w,[1,0,1],b)"
   ]
  },
  {
   "cell_type": "markdown",
   "metadata": {
    "application/vnd.databricks.v1+cell": {
     "cellMetadata": {},
     "inputWidgets": {},
     "nuid": "26175440-3e19-4d37-9cf1-c55b7f17cc3e",
     "showTitle": false,
     "title": ""
    }
   },
   "source": [
    "## Ahora sin trampa, como logramos esos pesos deseados\n",
    "\n",
    "El ejercicio inicia con unos pesos aleatorios que irán mejorando de acuerdo a una función de error que busca un mínimo siguiendo la dirección de un vector en dirección de su gradiente negativo:"
   ]
  },
  {
   "cell_type": "markdown",
   "metadata": {
    "application/vnd.databricks.v1+cell": {
     "cellMetadata": {},
     "inputWidgets": {},
     "nuid": "8d93ff97-a1c8-4baa-92f1-4ea85fa1cf12",
     "showTitle": false,
     "title": ""
    }
   },
   "source": [
    "**Definimos pesos** \n",
    "\n",
    "*Totalmente aleatorio*"
   ]
  },
  {
   "cell_type": "code",
   "execution_count": 0,
   "metadata": {
    "application/vnd.databricks.v1+cell": {
     "cellMetadata": {},
     "inputWidgets": {},
     "nuid": "f845fafb-a8f9-432e-ad6d-842af61272a5",
     "showTitle": false,
     "title": ""
    }
   },
   "outputs": [],
   "source": [
    "weights = np.random.rand(3,1)\n",
    "weights"
   ]
  },
  {
   "cell_type": "markdown",
   "metadata": {
    "application/vnd.databricks.v1+cell": {
     "cellMetadata": {},
     "inputWidgets": {},
     "nuid": "9d415531-f8c6-4c62-b0f9-2848a0fc6d17",
     "showTitle": false,
     "title": ""
    }
   },
   "source": [
    "**Sesgo**\n",
    "\n",
    "*También aleatorio*"
   ]
  },
  {
   "cell_type": "code",
   "execution_count": 0,
   "metadata": {
    "application/vnd.databricks.v1+cell": {
     "cellMetadata": {},
     "inputWidgets": {},
     "nuid": "13b94d74-e47f-4f91-b071-04efd4837cfa",
     "showTitle": false,
     "title": ""
    }
   },
   "outputs": [],
   "source": [
    "bias = np.random.rand()\n",
    "bias"
   ]
  },
  {
   "cell_type": "code",
   "execution_count": 0,
   "metadata": {
    "application/vnd.databricks.v1+cell": {
     "cellMetadata": {},
     "inputWidgets": {},
     "nuid": "ca2a6e6e-fed3-4a34-938f-acb2e6acf5bd",
     "showTitle": false,
     "title": ""
    }
   },
   "outputs": [],
   "source": [
    "y1=[]\n",
    "for i in input_set:\n",
    "    y1.append(funcion_activacion(weights,i,bias))\n",
    "print(y1)\n",
    "print(labels.T[0])"
   ]
  },
  {
   "cell_type": "markdown",
   "metadata": {
    "application/vnd.databricks.v1+cell": {
     "cellMetadata": {},
     "inputWidgets": {},
     "nuid": "7cbce2e4-03e3-4206-8743-374cb659707e",
     "showTitle": false,
     "title": ""
    }
   },
   "source": [
    "**Tasa de aprendizaje**\n",
    "Que tan rápido buscaremos el mínimo, no puede ser tan grande.\n"
   ]
  },
  {
   "cell_type": "code",
   "execution_count": 0,
   "metadata": {
    "application/vnd.databricks.v1+cell": {
     "cellMetadata": {},
     "inputWidgets": {},
     "nuid": "befd29d9-0c4c-4e8e-ae15-d8867439e1e6",
     "showTitle": false,
     "title": ""
    }
   },
   "outputs": [],
   "source": [
    "lr = 0.05 "
   ]
  },
  {
   "cell_type": "markdown",
   "metadata": {
    "application/vnd.databricks.v1+cell": {
     "cellMetadata": {},
     "inputWidgets": {},
     "nuid": "1b3b2219-a15e-4568-b664-bde860ec4b7b",
     "showTitle": false,
     "title": ""
    }
   },
   "source": [
    "**Función de activación**\n",
    "\n",
    "Las derivadas de la función mencionada anteriormente pueden generar conflictos, no nos compliquemos, utilicemos la bella función sigmoide, una generalización de la función logística:"
   ]
  },
  {
   "cell_type": "code",
   "execution_count": 0,
   "metadata": {
    "application/vnd.databricks.v1+cell": {
     "cellMetadata": {},
     "inputWidgets": {},
     "nuid": "4603fe94-1b21-4507-9ea0-aa6c5b100e61",
     "showTitle": false,
     "title": ""
    }
   },
   "outputs": [],
   "source": [
    "def sigmoid(x):\n",
    "    return 1/(1+np.exp(-x))\n"
   ]
  },
  {
   "cell_type": "code",
   "execution_count": 0,
   "metadata": {
    "application/vnd.databricks.v1+cell": {
     "cellMetadata": {},
     "inputWidgets": {},
     "nuid": "aad01d60-6701-406a-8d5a-f627675519cf",
     "showTitle": false,
     "title": ""
    }
   },
   "outputs": [],
   "source": [
    "%matplotlib inline\n",
    "import matplotlib.pyplot as plt\n",
    "t = np.arange(-6., 6., 0.2)\n",
    "\n",
    "plt.plot(t, sigmoid(t), 'r')\n",
    "plt.show()"
   ]
  },
  {
   "cell_type": "markdown",
   "metadata": {
    "application/vnd.databricks.v1+cell": {
     "cellMetadata": {},
     "inputWidgets": {},
     "nuid": "05975680-5df2-4ffd-8bd2-03d3c037c89b",
     "showTitle": false,
     "title": ""
    }
   },
   "source": [
    "Usaremos la derivada de la función, veamos un gráfico:"
   ]
  },
  {
   "cell_type": "code",
   "execution_count": 0,
   "metadata": {
    "application/vnd.databricks.v1+cell": {
     "cellMetadata": {},
     "inputWidgets": {},
     "nuid": "3138f1b3-d19f-4e7b-84b5-ffc05832e975",
     "showTitle": false,
     "title": ""
    }
   },
   "outputs": [],
   "source": [
    "def sigmoid_derivative(x):\n",
    "    return sigmoid(x)*(1-sigmoid(x))"
   ]
  },
  {
   "cell_type": "code",
   "execution_count": 0,
   "metadata": {
    "application/vnd.databricks.v1+cell": {
     "cellMetadata": {},
     "inputWidgets": {},
     "nuid": "6fc2eda9-3e0a-4bb8-8b54-520adb245a0a",
     "showTitle": false,
     "title": ""
    }
   },
   "outputs": [],
   "source": [
    "t = np.arange(-6., 6., 0.2)\n",
    "\n",
    "# red dashes, blue squares and green triangles\n",
    "plt.plot(t, sigmoid_derivative(t), 'g--')\n",
    "plt.show()"
   ]
  },
  {
   "cell_type": "markdown",
   "metadata": {
    "application/vnd.databricks.v1+cell": {
     "cellMetadata": {},
     "inputWidgets": {},
     "nuid": "f75ba43b-23d8-47f4-89b0-ed37e0a6feb9",
     "showTitle": false,
     "title": ""
    }
   },
   "source": [
    "Ahora veamos las dos:"
   ]
  },
  {
   "cell_type": "code",
   "execution_count": 0,
   "metadata": {
    "application/vnd.databricks.v1+cell": {
     "cellMetadata": {},
     "inputWidgets": {},
     "nuid": "cb99dcfa-07fa-4b79-9f8b-f28f0e195caa",
     "showTitle": false,
     "title": ""
    }
   },
   "outputs": [],
   "source": [
    "t = np.arange(-6., 6., 0.2)\n",
    "\n",
    "plt.plot(t,sigmoid(t), 'r-', t,sigmoid_derivative(t), 'g--')\n",
    "plt.show()"
   ]
  },
  {
   "cell_type": "markdown",
   "metadata": {
    "application/vnd.databricks.v1+cell": {
     "cellMetadata": {},
     "inputWidgets": {},
     "nuid": "4e869b69-aed9-4d40-8c77-43a65a5912f0",
     "showTitle": false,
     "title": ""
    }
   },
   "source": [
    "Usando un poco de cálculo vectorial podemos determinar el gradiente de la función que expresa el error obtenido con los pesos que propusimos. Seguimos la dirección negativa del gradiente y buscamos el mínimo error, aquí vemos la actualización de pesos:"
   ]
  },
  {
   "cell_type": "code",
   "execution_count": 0,
   "metadata": {
    "application/vnd.databricks.v1+cell": {
     "cellMetadata": {},
     "inputWidgets": {},
     "nuid": "6db6b2b5-5bff-449d-9f54-b2f94d46999c",
     "showTitle": false,
     "title": ""
    }
   },
   "outputs": [],
   "source": [
    "for epoch in range(500):\n",
    "    inputs = input_set\n",
    "    XW = np.dot(inputs, weights)+ bias\n",
    "    z = sigmoid(XW)\n",
    "    error = z - labels\n",
    "    dcost = error\n",
    "    dpred = sigmoid_derivative(z)\n",
    "    z_del = dcost * dpred\n",
    "    inputs = input_set.T\n",
    "    weights = weights - lr*np.dot(inputs, z_del)\n",
    "    for num in z_del:\n",
    "        bias = bias - lr*num\n",
    "    #print('epoch '+str(i)+', new weights: '+str(weights))\n",
    "    print('epoch '+str(epoch)+' new labels', z)\n",
    "        \n",
    "print(labels.T[0])\n",
    "print(weights)\n",
    "print(bias)\n",
    "print(error.sum())"
   ]
  },
  {
   "cell_type": "markdown",
   "metadata": {
    "application/vnd.databricks.v1+cell": {
     "cellMetadata": {},
     "inputWidgets": {},
     "nuid": "d248f167-26bf-4a24-916b-7d7b241e526a",
     "showTitle": false,
     "title": ""
    }
   },
   "source": [
    "Con esos nuevos pesos determinamos los resultados de salida de nuestro perceptron con esos pesos:"
   ]
  },
  {
   "cell_type": "code",
   "execution_count": 0,
   "metadata": {
    "application/vnd.databricks.v1+cell": {
     "cellMetadata": {},
     "inputWidgets": {},
     "nuid": "b16e3db5-0521-42ea-a8f6-20472a7b68de",
     "showTitle": false,
     "title": ""
    }
   },
   "outputs": [],
   "source": [
    "inputs"
   ]
  },
  {
   "cell_type": "code",
   "execution_count": 0,
   "metadata": {
    "application/vnd.databricks.v1+cell": {
     "cellMetadata": {},
     "inputWidgets": {},
     "nuid": "166ce66c-b281-4370-96fc-7ead6bae5b0f",
     "showTitle": false,
     "title": ""
    }
   },
   "outputs": [],
   "source": [
    "input_set"
   ]
  },
  {
   "cell_type": "code",
   "execution_count": 0,
   "metadata": {
    "application/vnd.databricks.v1+cell": {
     "cellMetadata": {},
     "inputWidgets": {},
     "nuid": "cd23b43c-7835-41d7-ab68-a5e2c5720c83",
     "showTitle": false,
     "title": ""
    }
   },
   "outputs": [],
   "source": [
    "result=[]\n",
    "for i in range(7):\n",
    "    single_pt = input_set[i]\n",
    "    result.append(sigmoid(np.dot(single_pt, weights) + bias))\n",
    "print(result)\n",
    "\n",
    "def salida(x):\n",
    "    if x>0.5:\n",
    "        r=1\n",
    "    else:\n",
    "        r=0\n",
    "    return r\n",
    "[salida(i) for i in result]"
   ]
  },
  {
   "cell_type": "markdown",
   "metadata": {
    "application/vnd.databricks.v1+cell": {
     "cellMetadata": {},
     "inputWidgets": {},
     "nuid": "209a3682-ebc1-4877-91e5-5da51e37a524",
     "showTitle": false,
     "title": ""
    }
   },
   "source": [
    "Que efectivamente es igual a los resultados deseados:"
   ]
  },
  {
   "cell_type": "code",
   "execution_count": 0,
   "metadata": {
    "application/vnd.databricks.v1+cell": {
     "cellMetadata": {},
     "inputWidgets": {},
     "nuid": "dc85509e-2f45-4b20-a779-0f82c17a3ba3",
     "showTitle": false,
     "title": ""
    }
   },
   "outputs": [],
   "source": [
    "labels.T"
   ]
  },
  {
   "cell_type": "code",
   "execution_count": 0,
   "metadata": {
    "application/vnd.databricks.v1+cell": {
     "cellMetadata": {},
     "inputWidgets": {},
     "nuid": "0dd6d319-745b-4da8-b1b4-2a8f8f61249d",
     "showTitle": false,
     "title": ""
    }
   },
   "outputs": [],
   "source": [
    "salida(sigmoid(np.dot([0,0,0], weights) + bias))"
   ]
  },
  {
   "cell_type": "code",
   "execution_count": 0,
   "metadata": {
    "application/vnd.databricks.v1+cell": {
     "cellMetadata": {},
     "inputWidgets": {},
     "nuid": "20960b62-2c8c-47a2-bb33-cbee729f3870",
     "showTitle": false,
     "title": ""
    }
   },
   "outputs": [],
   "source": []
  }
 ],
 "metadata": {
  "application/vnd.databricks.v1+notebook": {
   "dashboards": [],
   "language": "python",
   "notebookMetadata": {},
   "notebookName": "RedSencilla",
   "widgets": {}
  },
  "kernelspec": {
   "display_name": "Python 3",
   "language": "python",
   "name": "python3"
  },
  "language_info": {
   "codemirror_mode": {
    "name": "ipython",
    "version": 3
   },
   "file_extension": ".py",
   "mimetype": "text/x-python",
   "name": "python",
   "nbconvert_exporter": "python",
   "pygments_lexer": "ipython3",
   "version": "3.8.5"
  },
  "toc": {
   "base_numbering": 1,
   "nav_menu": {},
   "number_sections": true,
   "sideBar": true,
   "skip_h1_title": true,
   "title_cell": "Introducción al Perceptrón",
   "title_sidebar": "Contents",
   "toc_cell": true,
   "toc_position": {},
   "toc_section_display": true,
   "toc_window_display": false
  }
 },
 "nbformat": 4,
 "nbformat_minor": 0
}
