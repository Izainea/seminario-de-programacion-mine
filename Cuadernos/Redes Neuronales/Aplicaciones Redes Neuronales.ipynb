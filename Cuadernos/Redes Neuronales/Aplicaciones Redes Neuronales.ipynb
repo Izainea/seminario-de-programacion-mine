{
 "cells": [
  {
   "cell_type": "markdown",
   "metadata": {
    "application/vnd.databricks.v1+cell": {
     "cellMetadata": {},
     "inputWidgets": {},
     "nuid": "fbad6fc5-b930-4796-a394-d1bc1c5f57a0",
     "showTitle": false,
     "title": ""
    },
    "toc": true
   },
   "source": [
    "<h1>Aplicaciones Redes Neuronales<span class=\"tocSkip\"></span></h1>\n",
    "<div class=\"toc\"><ul class=\"toc-item\"><li><span><a href=\"#Clasificación-Binaria\" data-toc-modified-id=\"Clasificación-Binaria-1\"><span class=\"toc-item-num\">1&nbsp;&nbsp;</span>Clasificación Binaria</a></span><ul class=\"toc-item\"><li><span><a href=\"#Preprocesamiento-de-datos\" data-toc-modified-id=\"Preprocesamiento-de-datos-1.1\"><span class=\"toc-item-num\">1.1&nbsp;&nbsp;</span>Preprocesamiento de datos</a></span></li><li><span><a href=\"#Modelo-de-clasificación-con-una-red-neuronal\" data-toc-modified-id=\"Modelo-de-clasificación-con-una-red-neuronal-1.2\"><span class=\"toc-item-num\">1.2&nbsp;&nbsp;</span>Modelo de clasificación con una red neuronal</a></span></li></ul></li><li><span><a href=\"#Clasificación-Multinomial\" data-toc-modified-id=\"Clasificación-Multinomial-2\"><span class=\"toc-item-num\">2&nbsp;&nbsp;</span>Clasificación Multinomial</a></span></li><li><span><a href=\"#Regresión-Lineal\" data-toc-modified-id=\"Regresión-Lineal-3\"><span class=\"toc-item-num\">3&nbsp;&nbsp;</span>Regresión Lineal</a></span></li><li><span><a href=\"#Conclusiones\" data-toc-modified-id=\"Conclusiones-4\"><span class=\"toc-item-num\">4&nbsp;&nbsp;</span>Conclusiones</a></span></li></ul></div>"
   ]
  },
  {
   "cell_type": "markdown",
   "metadata": {
    "application/vnd.databricks.v1+cell": {
     "cellMetadata": {},
     "inputWidgets": {},
     "nuid": "32e7d4f3-c63d-42c8-b0b0-d7b01133a612",
     "showTitle": false,
     "title": ""
    }
   },
   "source": [
    "Caso tomado de [Applied Deep Learning - Part 2: Real World Case Studies](https://towardsdatascience.com/applied-deep-learning-part-2-real-world-case-studies-1bb4b142a585#581e) de   https://towardsdatascience.com.\n"
   ]
  },
  {
   "cell_type": "markdown",
   "metadata": {
    "application/vnd.databricks.v1+cell": {
     "cellMetadata": {},
     "inputWidgets": {},
     "nuid": "fdf8b09a-794b-4f29-85ec-1df89f8ca859",
     "showTitle": false,
     "title": ""
    }
   },
   "source": [
    "# Ejemplos reales de aplicación de redes neuronales\n",
    "\n",
    "Para este módulo estudiaremos tres casos diferentes de aplicación de redes neuronales. El objetivo del ejercicio es que al final tengamos clara la forma en la cual se diseña una red neuronal para resolver un problema real, cada caso consiste en una situación distinta de aplicación que utilizan el mismo modelo. Iniciamos con una clasificación binaria, luego una clasificación multiclase y finalmente una regresión."
   ]
  },
  {
   "cell_type": "markdown",
   "metadata": {
    "application/vnd.databricks.v1+cell": {
     "cellMetadata": {},
     "inputWidgets": {},
     "nuid": "cd8518b3-09dd-4ee2-9cd4-3702e2c27670",
     "showTitle": false,
     "title": ""
    }
   },
   "source": [
    "## Clasificación Binaria\n",
    "\n",
    "Usaremos un conjunto de datos de Análisis de recursos humanos de Kaggle. La idea es predecir si un empleado dejará una compañía en función de diversas características, como la cantidad de proyectos en los que trabajó, el tiempo que pasó en la empresa, la última revisión de desempeño, el salario, entre otros. \n",
    "\n",
    "Contamos con un conjunto de datos de 15,000 registros y 9 variables, entre las que se destaca la variable \"left\" que será nuestra variable objetivo. Dicha variable admite valores 0 o 1 donde 1 significa que el empleado se ha ido.\n",
    "\n",
    "### Preprocesamiento de datos\n",
    "\n",
    "Siempre recuerde hacer un preprocesamiento de datos adecuado, la idea es responder las siguientes preguntas:\n",
    "\n",
    "* Qué tipo de características tenemos: valoradas reales, categóricas o ambas?\n",
    "* ¿Alguna de las funciones necesita normalización?\n",
    "* ¿Tenemos valores nulos?\n",
    "* ¿Cuál es la distribución de etiquetas? ¿Están las clases desequilibradas?\n",
    "* ¿Existe una correlación entre las características?\n",
    "\n",
    "Empecemos llamando las librerias importantes, creando algunas funciones útiles y finalmente cargando los datos:"
   ]
  },
  {
   "cell_type": "code",
   "execution_count": 0,
   "metadata": {
    "application/vnd.databricks.v1+cell": {
     "cellMetadata": {},
     "inputWidgets": {},
     "nuid": "7080c97c-9e06-41f2-8d72-cd5135817685",
     "showTitle": false,
     "title": ""
    }
   },
   "outputs": [],
   "source": [
    "#Paquetes\n",
    "import matplotlib.pyplot as plt\n",
    "import pandas as pd\n",
    "import numpy as np\n",
    "import seaborn as sns\n",
    "import warnings\n",
    "\n",
    "warnings.filterwarnings('ignore')\n",
    "pd.options.display.float_format = '{:,.2f}'.format\n",
    "pd.set_option('display.max_rows', 100)\n",
    "pd.set_option('display.max_columns', 200)\n",
    "\n",
    "from __future__ import print_function\n",
    "from datetime import datetime\n",
    "from matplotlib.colors import ListedColormap\n",
    "from sklearn.datasets import make_classification, make_moons, make_circles\n",
    "from sklearn.metrics import confusion_matrix, classification_report, mean_squared_error, mean_absolute_error, r2_score\n",
    "from sklearn.linear_model import LogisticRegression\n",
    "from sklearn.utils import shuffle\n",
    "from keras.models import Sequential\n",
    "from keras.layers import Dense, Dropout, BatchNormalization, Activation\n",
    "from keras.optimizers import Adam\n",
    "from keras.callbacks import EarlyStopping\n",
    "from keras.utils.np_utils import to_categorical\n",
    "from sklearn.preprocessing import StandardScaler, LabelEncoder, OneHotEncoder, MinMaxScaler\n",
    "from sklearn.model_selection import train_test_split, cross_val_score, StratifiedKFold, KFold\n",
    "import keras.backend as K\n",
    "from keras.wrappers.scikit_learn import KerasClassifier\n",
    "import pandas_profiling as pdp"
   ]
  },
  {
   "cell_type": "code",
   "execution_count": 0,
   "metadata": {
    "application/vnd.databricks.v1+cell": {
     "cellMetadata": {},
     "inputWidgets": {},
     "nuid": "8b663153-424b-4bcd-8624-44837c81d579",
     "showTitle": false,
     "title": ""
    }
   },
   "outputs": [],
   "source": [
    "#Funciones útiles\n",
    "def plot_decision_boundary(func, X, y, figsize=(9, 6)):\n",
    "    amin, bmin = X.min(axis=0) - 0.1\n",
    "    amax, bmax = X.max(axis=0) + 0.1\n",
    "    hticks = np.linspace(amin, amax, 101)\n",
    "    vticks = np.linspace(bmin, bmax, 101)\n",
    "    \n",
    "    aa, bb = np.meshgrid(hticks, vticks)\n",
    "    ab = np.c_[aa.ravel(), bb.ravel()]\n",
    "    c = func(ab)\n",
    "    cc = c.reshape(aa.shape)\n",
    "\n",
    "    cm = plt.cm.RdBu\n",
    "    cm_bright = ListedColormap(['#FF0000', '#0000FF'])\n",
    "    \n",
    "    fig, ax = plt.subplots(figsize=figsize)\n",
    "    contour = plt.contourf(aa, bb, cc, cmap=cm, alpha=0.8)\n",
    "    \n",
    "    ax_c = fig.colorbar(contour)\n",
    "    ax_c.set_label(\"$P(y = 1)$\")\n",
    "    ax_c.set_ticks([0, 0.25, 0.5, 0.75, 1])\n",
    "    \n",
    "    plt.scatter(X[:, 0], X[:, 1], c=y, cmap=cm_bright)\n",
    "    plt.xlim(amin, amax)\n",
    "    plt.ylim(bmin, bmax)\n",
    "\n",
    "def plot_multiclass_decision_boundary(model, X, y):\n",
    "    x_min, x_max = X[:, 0].min() - 0.1, X[:, 0].max() + 0.1\n",
    "    y_min, y_max = X[:, 1].min() - 0.1, X[:, 1].max() + 0.1\n",
    "    xx, yy = np.meshgrid(np.linspace(x_min, x_max, 101), np.linspace(y_min, y_max, 101))\n",
    "    cmap = ListedColormap(['#FF0000', '#00FF00', '#0000FF'])\n",
    "\n",
    "    Z = model.predict_classes(np.c_[xx.ravel(), yy.ravel()], verbose=0)\n",
    "    Z = Z.reshape(xx.shape)\n",
    "    fig = plt.figure(figsize=(8, 8))\n",
    "    plt.contourf(xx, yy, Z, cmap=plt.cm.Spectral, alpha=0.8)\n",
    "    plt.scatter(X[:, 0], X[:, 1], c=y, s=40, cmap=plt.cm.RdYlBu)\n",
    "    plt.xlim(xx.min(), xx.max())\n",
    "    plt.ylim(yy.min(), yy.max())\n",
    "    \n",
    "def plot_data(X, y, figsize=None):\n",
    "    if not figsize:\n",
    "        figsize = (8, 6)\n",
    "    plt.figure(figsize=figsize)\n",
    "    plt.plot(X[y==0, 0], X[y==0, 1], 'or', alpha=0.5, label=0)\n",
    "    plt.plot(X[y==1, 0], X[y==1, 1], 'ob', alpha=0.5, label=1)\n",
    "    plt.xlim((min(X[:, 0])-0.1, max(X[:, 0])+0.1))\n",
    "    plt.ylim((min(X[:, 1])-0.1, max(X[:, 1])+0.1))\n",
    "    plt.legend()\n",
    "\n",
    "def plot_loss_accuracy(history):\n",
    "    historydf = pd.DataFrame(history.history, index=history.epoch)\n",
    "    plt.figure(figsize=(8, 6))\n",
    "    historydf.plot(ylim=(0, max(1, historydf.values.max())))\n",
    "    loss = history.history['loss'][-1]\n",
    "    acc = history.history['accuracy'][-1]\n",
    "    plt.title('Loss: %.3f, Accuracy: %.3f' % (loss, acc))\n",
    "\n",
    "def plot_loss(history):\n",
    "    historydf = pd.DataFrame(history.history, index=history.epoch)\n",
    "    plt.figure(figsize=(8, 6))\n",
    "    historydf.plot(ylim=(0, historydf.values.max()))\n",
    "    plt.title('Loss: %.3f' % history.history['loss'][-1])\n",
    "    \n",
    "def plot_confusion_matrix(model, X, y):\n",
    "    y_pred = model.predict_classes(X, verbose=0)\n",
    "    plt.figure(figsize=(8, 6))\n",
    "    sns.heatmap(pd.DataFrame(confusion_matrix(y, y_pred)), annot=True, fmt='d', cmap='GnBu', alpha=0.8, vmin=0)\n",
    "\n",
    "def plot_compare_histories(history_list, name_list, plot_accuracy=True):\n",
    "    dflist = []\n",
    "    min_epoch = len(history_list[0].epoch)\n",
    "    losses = []\n",
    "    for history in history_list:\n",
    "        h = {key: val for key, val in history.history.items() if not key.startswith('val_')}\n",
    "        dflist.append(pd.DataFrame(h, index=history.epoch))\n",
    "        min_epoch = min(min_epoch, len(history.epoch))\n",
    "        losses.append(h['loss'][-1])\n",
    "\n",
    "    historydf = pd.concat(dflist, axis=1)\n",
    "\n",
    "    metrics = dflist[0].columns\n",
    "    idx = pd.MultiIndex.from_product([name_list, metrics], names=['model', 'metric'])\n",
    "    historydf.columns = idx\n",
    "    \n",
    "    plt.figure(figsize=(6, 8))\n",
    "\n",
    "    ax = plt.subplot(211)\n",
    "    historydf.xs('loss', axis=1, level='metric').plot(ylim=(0,1), ax=ax)\n",
    "    plt.title(\"Training Loss: \" + ' vs '.join([str(round(x, 3)) for x in losses]))\n",
    "    \n",
    "    if plot_accuracy:\n",
    "        ax = plt.subplot(212)\n",
    "        historydf.xs('acc', axis=1, level='metric').plot(ylim=(0,1), ax=ax)\n",
    "        plt.title(\"Accuracy\")\n",
    "        plt.xlabel(\"Epochs\")\n",
    "    \n",
    "    plt.xlim(0, min_epoch-1)\n",
    "    plt.tight_layout()\n",
    "    \n",
    "def make_sine_wave():\n",
    "    c = 3\n",
    "    num = 2400\n",
    "    step = num/(c*4)\n",
    "    np.random.seed(0)\n",
    "    x0 = np.linspace(-c*np.pi, c*np.pi, num)\n",
    "    x1 = np.sin(x0)\n",
    "    noise = np.random.normal(0, 0.1, num) + 0.1\n",
    "    noise = np.sign(x1) * np.abs(noise)\n",
    "    x1  = x1 + noise\n",
    "    x0 = x0 + (np.asarray(range(num)) / step) * 0.3\n",
    "    X = np.column_stack((x0, x1))\n",
    "    y = np.asarray([int((i/step)%2==1) for i in range(len(x0))])\n",
    "    return X, y\n",
    "\n",
    "def make_multiclass(N=500, D=2, K=3):\n",
    "    \"\"\"\n",
    "    N: number of points per class\n",
    "    D: dimensionality\n",
    "    K: number of classes\n",
    "    \"\"\"\n",
    "    np.random.seed(0)\n",
    "    X = np.zeros((N*K, D))\n",
    "    y = np.zeros(N*K)\n",
    "    for j in range(K):\n",
    "        ix = range(N*j, N*(j+1))\n",
    "        # radius\n",
    "        r = np.linspace(0.0,1,N)\n",
    "        # theta\n",
    "        t = np.linspace(j*4,(j+1)*4,N) + np.random.randn(N)*0.2\n",
    "        X[ix] = np.c_[r*np.sin(t), r*np.cos(t)]\n",
    "        y[ix] = j\n",
    "    fig = plt.figure(figsize=(6, 6))\n",
    "    plt.scatter(X[:, 0], X[:, 1], c=y, s=40, cmap=plt.cm.RdYlBu, alpha=0.8)\n",
    "    plt.xlim([-1,1])\n",
    "    plt.ylim([-1,1])\n",
    "    return X, y"
   ]
  },
  {
   "cell_type": "code",
   "execution_count": 0,
   "metadata": {
    "application/vnd.databricks.v1+cell": {
     "cellMetadata": {},
     "inputWidgets": {},
     "nuid": "5094b3ea-b07d-44d0-ab35-9c2b51c9d872",
     "showTitle": false,
     "title": ""
    }
   },
   "outputs": [],
   "source": [
    "#Datos\n",
    "DF=pd.read_csv('HR.csv')\n",
    "DF"
   ]
  },
  {
   "cell_type": "markdown",
   "metadata": {
    "application/vnd.databricks.v1+cell": {
     "cellMetadata": {},
     "inputWidgets": {},
     "nuid": "9002882f-0b00-41f0-9a10-bd3045faa38e",
     "showTitle": false,
     "title": ""
    }
   },
   "source": [
    "Respondamos la primera pregunta, tipo de datos y resumen:"
   ]
  },
  {
   "cell_type": "code",
   "execution_count": 0,
   "metadata": {
    "application/vnd.databricks.v1+cell": {
     "cellMetadata": {},
     "inputWidgets": {},
     "nuid": "cb6d0ab1-6d83-4ca5-88e8-cd3605ea8731",
     "showTitle": false,
     "title": ""
    }
   },
   "outputs": [],
   "source": [
    "DF.info()"
   ]
  },
  {
   "cell_type": "markdown",
   "metadata": {
    "application/vnd.databricks.v1+cell": {
     "cellMetadata": {},
     "inputWidgets": {},
     "nuid": "0cc7b885-2e77-4267-9182-f7ab6927ff98",
     "showTitle": false,
     "title": ""
    }
   },
   "source": [
    "Una inspección rápida para saber si debemos estandarizar los datos:"
   ]
  },
  {
   "cell_type": "code",
   "execution_count": 0,
   "metadata": {
    "application/vnd.databricks.v1+cell": {
     "cellMetadata": {},
     "inputWidgets": {},
     "nuid": "a6f16513-3779-4856-8f2c-445cdeb05c72",
     "showTitle": false,
     "title": ""
    }
   },
   "outputs": [],
   "source": [
    "DF.describe()"
   ]
  },
  {
   "cell_type": "markdown",
   "metadata": {
    "application/vnd.databricks.v1+cell": {
     "cellMetadata": {},
     "inputWidgets": {},
     "nuid": "45a89136-4f30-44ba-b5be-0823d2753de0",
     "showTitle": false,
     "title": ""
    }
   },
   "source": [
    "Veamos sus correlaciones:"
   ]
  },
  {
   "cell_type": "code",
   "execution_count": 0,
   "metadata": {
    "application/vnd.databricks.v1+cell": {
     "cellMetadata": {},
     "inputWidgets": {},
     "nuid": "d56ac67e-91b7-4616-987e-fd3abc7a4a7a",
     "showTitle": false,
     "title": ""
    }
   },
   "outputs": [],
   "source": [
    "plt.figure(figsize=(10, 8))\n",
    "sns.heatmap(DF.corr(), annot=True, square=True, vmin=-1, vmax=1)"
   ]
  },
  {
   "cell_type": "markdown",
   "metadata": {
    "application/vnd.databricks.v1+cell": {
     "cellMetadata": {},
     "inputWidgets": {},
     "nuid": "479eeaaf-f18c-4f09-844f-2833628c205d",
     "showTitle": false,
     "title": ""
    }
   },
   "source": [
    "Ahora veamos la distribución de cada una de las variables para ver cuáles necesitan estandarización. Selccionamos para ello \n",
    "\n",
    "* average_monthly_hours,\n",
    "* number_project y \n",
    "* time_spend_company. \n",
    "\n",
    "¿Por qué?"
   ]
  },
  {
   "cell_type": "code",
   "execution_count": 0,
   "metadata": {
    "application/vnd.databricks.v1+cell": {
     "cellMetadata": {},
     "inputWidgets": {},
     "nuid": "4e0e363e-b80f-4cb1-982e-07a7d6fd5583",
     "showTitle": false,
     "title": ""
    }
   },
   "outputs": [],
   "source": [
    "pdp.ProfileReport(DF)"
   ]
  },
  {
   "cell_type": "code",
   "execution_count": 0,
   "metadata": {
    "application/vnd.databricks.v1+cell": {
     "cellMetadata": {},
     "inputWidgets": {},
     "nuid": "7cc46288-9c22-4faa-8c97-6c25f07512f9",
     "showTitle": false,
     "title": ""
    }
   },
   "outputs": [],
   "source": [
    "df = DF.copy()\n",
    "\n",
    "ss = StandardScaler()\n",
    "scale_features = ['average_monthly_hours', 'number_project', 'time_spend_company']\n",
    "df[scale_features] = ss.fit_transform(df[scale_features])\n",
    "df\n"
   ]
  },
  {
   "cell_type": "markdown",
   "metadata": {
    "application/vnd.databricks.v1+cell": {
     "cellMetadata": {},
     "inputWidgets": {},
     "nuid": "be7c1e37-2bbd-4281-a618-ac911831c305",
     "showTitle": false,
     "title": ""
    }
   },
   "source": [
    "Ahora bien, estamos muy contentos con nuestra base estandarizada, sin embargo nos enfrentamos a otro problema, las variables categóricas. Recuerden que cuando se definió el perceptrón lo hicimos como un elemento matemático y como tal debe tener entradas numéricas, no obstante, como lo vimos en clases pasadas entendimos que una forma de volver numérica una variable categórica es usando variables dummies:"
   ]
  },
  {
   "cell_type": "code",
   "execution_count": 0,
   "metadata": {
    "application/vnd.databricks.v1+cell": {
     "cellMetadata": {},
     "inputWidgets": {},
     "nuid": "6e36c747-936e-497b-a145-3b9dea74fbec",
     "showTitle": false,
     "title": ""
    }
   },
   "outputs": [],
   "source": [
    "categorical_features = ['sales', 'salary']\n",
    "df_cat = pd.get_dummies(df[categorical_features])\n",
    "df = df.drop(categorical_features, axis=1)\n",
    "df = pd.concat([df, df_cat], axis=1)\n",
    "df.head()"
   ]
  },
  {
   "cell_type": "markdown",
   "metadata": {
    "application/vnd.databricks.v1+cell": {
     "cellMetadata": {},
     "inputWidgets": {},
     "nuid": "2e91c0da-a628-4072-832b-fd9f81d66afd",
     "showTitle": false,
     "title": ""
    }
   },
   "source": [
    "Los datos están listos pero falta la partición de la base en entrenamiento y testeo, como tenemos una base generosa utilizaremos el 30% de los registros para hacer testeo:"
   ]
  },
  {
   "cell_type": "code",
   "execution_count": 0,
   "metadata": {
    "application/vnd.databricks.v1+cell": {
     "cellMetadata": {},
     "inputWidgets": {},
     "nuid": "ef231991-58fe-4237-bae2-757f5b49fecb",
     "showTitle": false,
     "title": ""
    }
   },
   "outputs": [],
   "source": [
    "X = df.drop('left', axis=1).values\n",
    "y = df['left'].values\n",
    "X_train, X_test, y_train, y_test = train_test_split(X, y, test_size=0.3, random_state=0)\n",
    "print(X_train.shape, y_train.shape, X_test.shape, y_test.shape)"
   ]
  },
  {
   "cell_type": "markdown",
   "metadata": {
    "application/vnd.databricks.v1+cell": {
     "cellMetadata": {},
     "inputWidgets": {},
     "nuid": "57a73585-590e-47d6-9628-eecce231ec0e",
     "showTitle": false,
     "title": ""
    }
   },
   "source": [
    "### Modelo de clasificación con una red neuronal\n",
    "\n",
    "Ahora vamos a crear un modelo para predecir la variable left, aprovecharemois el desorden para jugar un poco con la tasa de aprendizaje:"
   ]
  },
  {
   "cell_type": "code",
   "execution_count": 0,
   "metadata": {
    "application/vnd.databricks.v1+cell": {
     "cellMetadata": {},
     "inputWidgets": {},
     "nuid": "9f7e0706-b4f5-4597-87ab-c0ff4b41f63e",
     "showTitle": false,
     "title": ""
    }
   },
   "outputs": [],
   "source": [
    "bin_clas = Sequential()\n",
    "bin_clas.add(Dense(64, input_shape=(X_train.shape[1],), activation='tanh'))\n",
    "bin_clas.add(Dense(16, activation='tanh'))\n",
    "bin_clas.add(Dense(1, activation='sigmoid'))\n",
    "\n",
    "bin_clas.compile(Adam(lr=0.1), 'binary_crossentropy', metrics=['accuracy'])\n",
    "\n",
    "bin_hist = bin_clas.fit(X_train, y_train, epochs=100)"
   ]
  },
  {
   "cell_type": "code",
   "execution_count": 0,
   "metadata": {
    "application/vnd.databricks.v1+cell": {
     "cellMetadata": {},
     "inputWidgets": {},
     "nuid": "981cced4-0e96-46cd-b060-385dd43e7edf",
     "showTitle": false,
     "title": ""
    }
   },
   "outputs": [],
   "source": [
    "plot_loss_accuracy(bin_hist)"
   ]
  },
  {
   "cell_type": "markdown",
   "metadata": {
    "application/vnd.databricks.v1+cell": {
     "cellMetadata": {},
     "inputWidgets": {},
     "nuid": "2cef4cc4-34a5-49eb-893c-330331159b44",
     "showTitle": false,
     "title": ""
    }
   },
   "source": [
    "Ahora con una tasa de aprendizaje no tan complicada:"
   ]
  },
  {
   "cell_type": "code",
   "execution_count": 0,
   "metadata": {
    "application/vnd.databricks.v1+cell": {
     "cellMetadata": {},
     "inputWidgets": {},
     "nuid": "c66d5eff-66f9-4fe2-814d-73b1a9086847",
     "showTitle": false,
     "title": ""
    }
   },
   "outputs": [],
   "source": [
    "bin_clas = Sequential()\n",
    "bin_clas.add(Dense(64, input_shape=(X_train.shape[1],), activation='tanh'))\n",
    "bin_clas.add(Dense(32, input_shape=(X_train.shape[1],), activation='tanh'))\n",
    "bin_clas.add(Dense(16, activation='tanh'))\n",
    "bin_clas.add(Dense(1, activation='sigmoid'))\n",
    "\n",
    "bin_clas.compile(Adam(lr=0.005), 'binary_crossentropy', metrics=['accuracy'])\n",
    "\n",
    "bin_hist = bin_clas.fit(X_train, y_train, epochs=100)"
   ]
  },
  {
   "cell_type": "code",
   "execution_count": 0,
   "metadata": {
    "application/vnd.databricks.v1+cell": {
     "cellMetadata": {},
     "inputWidgets": {},
     "nuid": "e0c517e1-fac9-4851-9039-483494230876",
     "showTitle": false,
     "title": ""
    }
   },
   "outputs": [],
   "source": [
    "plot_loss_accuracy(bin_hist)"
   ]
  },
  {
   "cell_type": "markdown",
   "metadata": {
    "application/vnd.databricks.v1+cell": {
     "cellMetadata": {},
     "inputWidgets": {},
     "nuid": "04d93798-9962-4d9a-8e04-756c5770cfbf",
     "showTitle": false,
     "title": ""
    }
   },
   "source": [
    "Buena aproximación, grafiquemos la matriz de confusión:"
   ]
  },
  {
   "cell_type": "code",
   "execution_count": 0,
   "metadata": {
    "application/vnd.databricks.v1+cell": {
     "cellMetadata": {},
     "inputWidgets": {},
     "nuid": "29a47d7f-7bbc-4eb6-8ed7-d98cfffc478b",
     "showTitle": false,
     "title": ""
    }
   },
   "outputs": [],
   "source": [
    "y_pred = bin_clas.predict_classes(X_test, verbose=0)\n",
    "print(classification_report(y_test, y_pred))\n",
    "plot_confusion_matrix(bin_clas, X_test, y_test)"
   ]
  },
  {
   "cell_type": "markdown",
   "metadata": {
    "application/vnd.databricks.v1+cell": {
     "cellMetadata": {},
     "inputWidgets": {},
     "nuid": "abc5c85c-87c1-45e7-8120-8d03516bc19f",
     "showTitle": false,
     "title": ""
    }
   },
   "source": [
    "Veamos como nos fue en la de entrenamiento:"
   ]
  },
  {
   "cell_type": "code",
   "execution_count": 0,
   "metadata": {
    "application/vnd.databricks.v1+cell": {
     "cellMetadata": {},
     "inputWidgets": {},
     "nuid": "4d7748f5-df50-41f6-a156-0eeac66daa5d",
     "showTitle": false,
     "title": ""
    }
   },
   "outputs": [],
   "source": [
    "y_pred = bin_clas.predict_classes(X_train, verbose=0)\n",
    "print(classification_report(y_train, y_pred))\n",
    "plot_confusion_matrix(bin_clas, X_train, y_train)"
   ]
  },
  {
   "cell_type": "markdown",
   "metadata": {
    "application/vnd.databricks.v1+cell": {
     "cellMetadata": {},
     "inputWidgets": {},
     "nuid": "e86603a6-3424-49a5-9dd6-d6fcdad5bccc",
     "showTitle": false,
     "title": ""
    }
   },
   "source": [
    "## Clasificación Multinomial\n",
    "\n",
    "Ahora trabajaremos con otra base [Car Evaluation DataBase](https://archive.ics.uci.edu/ml/datasets/Car+Evaluation) se derivó de un modelo de decisión jerárquico simple desarrollado originalmente para la demostración de DEX, M. Bohanec, V. Rajkovic: Sistema experto para la toma de decisiones. Sistemica 1 (1), págs. 145-157, 1990.). El modelo evalúa los coches de acuerdo con la siguiente estructura conceptual:\n",
    "\n",
    "Aceptabilidad del coche CAR\n",
    "* PRECIO precio total\n",
    "        buying : precio de compra\n",
    "        maint price: precio de mantenimiento\n",
    "* Características técnicas TECH\n",
    "* CONFORT:  comodidad\n",
    "        doors:  número de puertas\n",
    "        persons capacity:  personas para llevar\n",
    "        lug_boot: el tamaño del maletero\n",
    "        safety:  seguridad estimada del coche\n",
    "\n",
    "La base de datos relaciona directamente el automóvil con los seis atributos de entrada: compra, mantenimiento, puertas, personas, maletero, seguridad.\n",
    "\n",
    "Debido a la estructura de concepto subyacente conocida, esta base de datos puede ser particularmente útil para probar métodos de inducción constructiva y descubrimiento de estructuras.\n",
    "\n",
    "Información de atributos:\n",
    "\n",
    "Valores de clase:\n",
    "\n",
    "unacc, acc, good, vgood\n",
    "\n",
    "Atributos:\n",
    "\n",
    "* buying: vhigh, high, med, low.\n",
    "* maint: vhigh, high, med, low.\n",
    "* doors: 2, 3, 4, 5 or more.\n",
    "* persons: 2, 4, more.\n",
    "* lug_boot: small, med, big.\n",
    "* safety: low, med, high.\n",
    "\n"
   ]
  },
  {
   "cell_type": "code",
   "execution_count": 0,
   "metadata": {
    "application/vnd.databricks.v1+cell": {
     "cellMetadata": {},
     "inputWidgets": {},
     "nuid": "f9bf73cc-6ef6-4498-a3eb-fd310f8166ba",
     "showTitle": false,
     "title": ""
    }
   },
   "outputs": [],
   "source": [
    "DF2=pd.read_csv('car.data',header=None)\n",
    "DF2.columns=['buying','maint','doors','persons','lug_boot','safety','clas']\n",
    "DF2"
   ]
  },
  {
   "cell_type": "code",
   "execution_count": 0,
   "metadata": {
    "application/vnd.databricks.v1+cell": {
     "cellMetadata": {},
     "inputWidgets": {},
     "nuid": "c5e275bb-e23b-4db2-8965-2ead31fe8f8a",
     "showTitle": false,
     "title": ""
    }
   },
   "outputs": [],
   "source": [
    "df=DF2.copy()\n",
    "categorical_features=df.columns[:-1]\n",
    "df_cat = pd.get_dummies(df[categorical_features])\n",
    "df.drop(categorical_features, axis=1)\n",
    "df = pd.concat([ df_cat,df['clas']], axis=1)\n",
    "df"
   ]
  },
  {
   "cell_type": "markdown",
   "metadata": {
    "application/vnd.databricks.v1+cell": {
     "cellMetadata": {},
     "inputWidgets": {},
     "nuid": "559bd810-f682-42b2-8bdf-0c077937c741",
     "showTitle": false,
     "title": ""
    }
   },
   "source": [
    "Como las variables de entrada son categóricas no hacemos ninguna estandarización, iniciamos planteando el modelo, en primer lugar adecuamos la bases:"
   ]
  },
  {
   "cell_type": "code",
   "execution_count": 0,
   "metadata": {
    "application/vnd.databricks.v1+cell": {
     "cellMetadata": {},
     "inputWidgets": {},
     "nuid": "a49c4bfb-69f3-452c-a4dc-5efb2d383d64",
     "showTitle": false,
     "title": ""
    }
   },
   "outputs": [],
   "source": [
    "X = np.asarray(df.values[:, :-1]).astype('float32')\n",
    "y = np.asarray(pd.get_dummies(df['clas']).values).astype('float32')\n",
    "print(X.shape, y.shape)"
   ]
  },
  {
   "cell_type": "markdown",
   "metadata": {
    "application/vnd.databricks.v1+cell": {
     "cellMetadata": {},
     "inputWidgets": {},
     "nuid": "97e2d6bb-5edf-45db-93c2-c310e50c1037",
     "showTitle": false,
     "title": ""
    }
   },
   "source": [
    "Ahora definimos entrenamiento y testeo:"
   ]
  },
  {
   "cell_type": "code",
   "execution_count": 0,
   "metadata": {
    "application/vnd.databricks.v1+cell": {
     "cellMetadata": {},
     "inputWidgets": {},
     "nuid": "c225455a-860e-45c2-9b4b-385727e66358",
     "showTitle": false,
     "title": ""
    }
   },
   "outputs": [],
   "source": [
    "X_train, X_test, y_train, y_test = train_test_split(X, y, test_size=0.2)\n",
    "print(X_train.shape, y_train.shape,X_test.shape,y_test.shape)"
   ]
  },
  {
   "cell_type": "markdown",
   "metadata": {
    "application/vnd.databricks.v1+cell": {
     "cellMetadata": {},
     "inputWidgets": {},
     "nuid": "97e84d68-c1d1-4efa-9f04-62f87545f62e",
     "showTitle": false,
     "title": ""
    }
   },
   "source": [
    "Finalmente definimos un modelo:"
   ]
  },
  {
   "cell_type": "code",
   "execution_count": 0,
   "metadata": {
    "application/vnd.databricks.v1+cell": {
     "cellMetadata": {},
     "inputWidgets": {},
     "nuid": "01e5de7f-f561-4d33-8c5d-fed52a9cac80",
     "showTitle": false,
     "title": ""
    }
   },
   "outputs": [],
   "source": [
    "X_train"
   ]
  },
  {
   "cell_type": "code",
   "execution_count": 0,
   "metadata": {
    "application/vnd.databricks.v1+cell": {
     "cellMetadata": {},
     "inputWidgets": {},
     "nuid": "db3de621-f4dd-4af1-82cf-e7ebe040c9a1",
     "showTitle": false,
     "title": ""
    }
   },
   "outputs": [],
   "source": [
    "mul_clas = Sequential()\n",
    "mul_clas.add(Dense(32, input_shape=(X.shape[1],), activation='relu'))\n",
    "mul_clas.add(Dense(16, activation='relu'))\n",
    "mul_clas.add(Dense(8, activation='relu'))\n",
    "mul_clas.add(Dense(4, activation='softmax'))\n",
    "mul_clas.compile(Adam(lr=0.01), loss='categorical_crossentropy', metrics=['accuracy'])\n",
    "\n",
    "history = mul_clas.fit(X_train, y_train, epochs=16, verbose=0)\n",
    "plot_loss_accuracy(history)"
   ]
  },
  {
   "cell_type": "code",
   "execution_count": 0,
   "metadata": {
    "application/vnd.databricks.v1+cell": {
     "cellMetadata": {},
     "inputWidgets": {},
     "nuid": "96a4d42e-d26a-4ac5-bfb7-bfefdc22cb39",
     "showTitle": false,
     "title": ""
    }
   },
   "outputs": [],
   "source": [
    "y_pred_class = mul_clas.predict_classes(X_test, verbose=0)\n",
    "y_test_class = np.argmax(y_test, axis=1)\n",
    "print(classification_report(y_test_class, y_pred_class))\n",
    "plot_confusion_matrix(mul_clas, X_test, y_test_class)"
   ]
  },
  {
   "cell_type": "markdown",
   "metadata": {
    "application/vnd.databricks.v1+cell": {
     "cellMetadata": {},
     "inputWidgets": {},
     "nuid": "bf55a32d-eaa5-4ae5-8dab-b6d4212dc3a2",
     "showTitle": false,
     "title": ""
    }
   },
   "source": [
    "## Regresión Lineal\n",
    "\n",
    "Usando la sintáxis de las redes neuronales modelaremos una regresión lineal, utilizaremos los datos de Kaggle para el caso [House Sales in King County, USA](https://www.kaggle.com/harlfoxem/housesalesprediction).  "
   ]
  },
  {
   "cell_type": "code",
   "execution_count": 0,
   "metadata": {
    "application/vnd.databricks.v1+cell": {
     "cellMetadata": {},
     "inputWidgets": {},
     "nuid": "2aade346-083b-43a8-b848-852287a7c4ad",
     "showTitle": false,
     "title": ""
    }
   },
   "outputs": [],
   "source": [
    "DF3=pd.read_csv('houses_price.csv',index_col='id')\n",
    "DF3"
   ]
  },
  {
   "cell_type": "markdown",
   "metadata": {
    "application/vnd.databricks.v1+cell": {
     "cellMetadata": {},
     "inputWidgets": {},
     "nuid": "919822da-822b-4f70-92c9-8a6854db5280",
     "showTitle": false,
     "title": ""
    }
   },
   "source": [
    "Hagamos una rápida exploración:"
   ]
  },
  {
   "cell_type": "code",
   "execution_count": 0,
   "metadata": {
    "application/vnd.databricks.v1+cell": {
     "cellMetadata": {},
     "inputWidgets": {},
     "nuid": "fdb980a3-35a1-479e-9fcb-70eef49ae487",
     "showTitle": false,
     "title": ""
    }
   },
   "outputs": [],
   "source": [
    "pdp.ProfileReport(DF3)"
   ]
  },
  {
   "cell_type": "markdown",
   "metadata": {
    "application/vnd.databricks.v1+cell": {
     "cellMetadata": {},
     "inputWidgets": {},
     "nuid": "62b501a0-4238-4f86-952e-060c67e28ac1",
     "showTitle": false,
     "title": ""
    }
   },
   "source": [
    "Veamos la correlación entre variables:"
   ]
  },
  {
   "cell_type": "code",
   "execution_count": 0,
   "metadata": {
    "application/vnd.databricks.v1+cell": {
     "cellMetadata": {},
     "inputWidgets": {},
     "nuid": "a58d7680-11e3-454f-9855-2d93f1f39136",
     "showTitle": false,
     "title": ""
    }
   },
   "outputs": [],
   "source": [
    "plt.figure(figsize=(20, 24))\n",
    "sns.heatmap(DF3.corr(), annot=True, vmin=-1, vmax=1)"
   ]
  },
  {
   "cell_type": "markdown",
   "metadata": {
    "application/vnd.databricks.v1+cell": {
     "cellMetadata": {},
     "inputWidgets": {},
     "nuid": "2087acb0-7d08-4895-98ec-a169666d3669",
     "showTitle": false,
     "title": ""
    }
   },
   "source": [
    "Las características relacionadas con pies cuadrados definitivamente deben estandarizarse, ya que los valores varían en miles y las características como el código postal deben clasificarse.\n",
    "\n",
    "También tenemos un nuevo tipo de preprocesamiento que realizar, *bucketization*. Por ejemplo, la característica que contiene el año en que se construyó la casa (yr_built), varía de 1900 a 2015. Ciertamente podemos clasificarla con cada año perteneciente a una categoría distinta, pero entonces sería bastante escasa. Obtendríamos más señal si agrupamos esta función sin perder mucha información. Por ejemplo, si usamos cubos de 10 años, los años entre [1950, 1959] se colapsarían juntos. Probablemente sería suficiente saber que esta casa fue construida en la década de 1950 en lugar de en 1958 exactamente.\n",
    "\n",
    "Otras características que se beneficiarían de la *bucketization* son la latitud y la longitud de la casa. La coordenada exacta no importa tanto, podemos redondear la coordenada al kilómetro más cercano. De esta manera, los valores de las características serán más densos e informativos. No existe una regla fija y estricta sobre los rangos que se deben usar en la agrupación en segmentos, se deciden principalmente por prueba y error.\n",
    "\n",
    "Una última transformación que debemos hacer es el precio de la casa, actualmente su valor oscila entre $\\$ 75 K$ y $\\$ 7.7 M$. Un modelo que intenta predecir a una escala y variación tan grande sería muy inestable. Así que también normalizamos eso.\n"
   ]
  },
  {
   "cell_type": "code",
   "execution_count": 0,
   "metadata": {
    "application/vnd.databricks.v1+cell": {
     "cellMetadata": {},
     "inputWidgets": {},
     "nuid": "920705c1-8e56-416a-9cf8-c308667a2308",
     "showTitle": false,
     "title": ""
    }
   },
   "outputs": [],
   "source": [
    "df = DF3.copy()\n",
    "\n",
    "# Estandarizaciones\n",
    "ss = StandardScaler()\n",
    "scale_features = ['bathrooms', 'bedrooms', 'grade', 'sqft_above', \n",
    "                  'sqft_basement', 'sqft_living', 'sqft_living15', 'sqft_lot', 'sqft_lot15']\n",
    "df[scale_features] = ss.fit_transform(df[scale_features])\n",
    "\n",
    "# bucketization\n",
    "bucketized_features = ['yr_built', 'yr_renovated', 'lat', 'long']\n",
    "\n",
    "bins = range(1890, 2021, 10)\n",
    "df['yr_built'] = pd.cut(df.yr_built, bins, labels=bins[:-1])\n",
    "\n",
    "bins = list(range(1930, 2021, 10))\n",
    "bins = [-10] + bins\n",
    "df['yr_renovated'] = pd.cut(df.yr_renovated, bins, labels=bins[:-1])\n",
    "\n",
    "bins = np.arange(47.00, 47.90, 0.05)\n",
    "df['lat'] = pd.cut(df.lat, bins, labels=bins[:-1])\n",
    "\n",
    "bins = np.arange(-122.60, -121.10, 0.05)\n",
    "df['long'] = pd.cut(df.long, bins, labels=bins[:-1])\n",
    "\n",
    "# Variables categóricas\n",
    "df['date'] = [datetime.strptime(x, '%Y%m%dT000000').strftime('%Y-%m') for x in DF3['date'].values]\n",
    "df['zipcode'] = df['zipcode'].astype('str')\n",
    "categorical_features = ['zipcode', 'date']\n",
    "categorical_features.extend(bucketized_features)\n",
    "df_cat = pd.get_dummies(df[categorical_features])\n",
    "df = df.drop(categorical_features, axis=1)\n",
    "df = pd.concat([df, df_cat], axis=1)\n",
    "df"
   ]
  },
  {
   "cell_type": "markdown",
   "metadata": {
    "application/vnd.databricks.v1+cell": {
     "cellMetadata": {},
     "inputWidgets": {},
     "nuid": "b53807a4-af37-423e-92f5-4d39afcb2ec5",
     "showTitle": false,
     "title": ""
    }
   },
   "source": [
    "Nos preparamos para hacer el modelo:"
   ]
  },
  {
   "cell_type": "code",
   "execution_count": 0,
   "metadata": {
    "application/vnd.databricks.v1+cell": {
     "cellMetadata": {},
     "inputWidgets": {},
     "nuid": "a8dd662d-3c17-4829-8eb9-b3aacb30f467",
     "showTitle": false,
     "title": ""
    }
   },
   "outputs": [],
   "source": [
    "X = df.drop(['price'], axis=1).values\n",
    "y = df['price'].values\n",
    "\n",
    "X_train, X_test, y_train, y_test = train_test_split(X, y, test_size=0.2, random_state=0)\n",
    "print(X_train.shape, y_train.shape, X_test.shape, y_test.shape)\n",
    "\n",
    "# Arreglo de outliers\n",
    "factor = 5\n",
    "y_train[np.abs(y_train - y_train.mean()) > (factor * y_train.std())] = y_train.mean() + factor*y_train.std()\n",
    "\n",
    "# Estandarizar precio\n",
    "ss_price = StandardScaler()\n",
    "y_train = ss_price.fit_transform(y_train.reshape(-1, 1))\n",
    "y_test = ss_price.transform(y_test.reshape(-1, 1))"
   ]
  },
  {
   "cell_type": "markdown",
   "metadata": {
    "application/vnd.databricks.v1+cell": {
     "cellMetadata": {},
     "inputWidgets": {},
     "nuid": "226d78a5-5fdb-43ed-bc06-25264b671d4d",
     "showTitle": false,
     "title": ""
    }
   },
   "source": [
    "El modelo lineal no tendrá función de activación y la función de pérdida será el Error cuadrático medio:"
   ]
  },
  {
   "cell_type": "code",
   "execution_count": 0,
   "metadata": {
    "application/vnd.databricks.v1+cell": {
     "cellMetadata": {},
     "inputWidgets": {},
     "nuid": "54e2137f-38ba-4e96-92e7-a2b5cebd9d7d",
     "showTitle": false,
     "title": ""
    }
   },
   "outputs": [],
   "source": [
    "linr_model = Sequential()\n",
    "linr_model.add(Dense(1, input_shape=(X.shape[1],)))\n",
    "\n",
    "linr_model.compile('adam', 'mean_squared_error')\n",
    "\n",
    "linr_history = linr_model.fit(X_train, y_train, epochs=30, verbose=0, validation_split=0.2)\n",
    "plot_loss(linr_history)"
   ]
  },
  {
   "cell_type": "code",
   "execution_count": 0,
   "metadata": {
    "application/vnd.databricks.v1+cell": {
     "cellMetadata": {},
     "inputWidgets": {},
     "nuid": "73884293-8e7b-4008-8e12-17d1dff91b02",
     "showTitle": false,
     "title": ""
    }
   },
   "outputs": [],
   "source": [
    "linr_model.evaluate(X_test, y_test, verbose=0)"
   ]
  },
  {
   "cell_type": "code",
   "execution_count": 0,
   "metadata": {
    "application/vnd.databricks.v1+cell": {
     "cellMetadata": {},
     "inputWidgets": {},
     "nuid": "eb217b6e-8de7-47ed-9faf-be917bb16182",
     "showTitle": false,
     "title": ""
    }
   },
   "outputs": [],
   "source": [
    "# coeficientes\n",
    "linr_wdf = pd.DataFrame(linr_model.get_weights()[0].T, \n",
    "                      columns=df.drop(['price'], axis=1).columns).T.sort_values(0, ascending=False)\n",
    "linr_wdf.columns = ['feature_weight']\n",
    "linr_wdf\n"
   ]
  },
  {
   "cell_type": "markdown",
   "metadata": {
    "application/vnd.databricks.v1+cell": {
     "cellMetadata": {},
     "inputWidgets": {},
     "nuid": "3410270a-097e-433b-b427-4e1305f1c30f",
     "showTitle": false,
     "title": ""
    }
   },
   "source": [
    "Finalmente construimos una Red Neuronal para la regresión. En los ejemplos anteriores, pasar de un modelo lineal a un modelo profundo solo implicaba agregar nuevas capas con funciones de activación no lineales. Será lo mismo esta vez también.\n",
    "\n",
    "Agregamos nuevas capas con activación relu. La trama de pérdidas parece interesante ahora. La pérdida de error de entrenamiento todavía parece estar disminuyendo, pero el error de validación comienza a aumentar después de la quinta época. "
   ]
  },
  {
   "cell_type": "code",
   "execution_count": 0,
   "metadata": {
    "application/vnd.databricks.v1+cell": {
     "cellMetadata": {},
     "inputWidgets": {},
     "nuid": "0639370e-5b56-4e5f-a289-95cb746b5a16",
     "showTitle": false,
     "title": ""
    }
   },
   "outputs": [],
   "source": [
    "deep_model = Sequential()\n",
    "deep_model.add(Dense(32, input_shape=(X.shape[1],), activation='relu'))\n",
    "deep_model.add(Dense(16, activation='relu'))\n",
    "deep_model.add(Dense(8, activation='relu'))\n",
    "deep_model.add(Dense(1))\n",
    "\n",
    "deep_model.compile('adam', 'mean_squared_error')\n",
    "\n",
    "# early_stop = EarlyStopping(monitor='val_loss', patience=2, verbose=1)\n",
    "deep_history = deep_model.fit(X_train, y_train, epochs=30, verbose=0, validation_split=0.2)\n",
    "#                               callbacks=[early_stop])\n",
    "plot_loss(deep_history)"
   ]
  },
  {
   "cell_type": "markdown",
   "metadata": {
    "application/vnd.databricks.v1+cell": {
     "cellMetadata": {},
     "inputWidgets": {},
     "nuid": "9a890ff6-b0a5-4e7e-b6f0-493d38876abe",
     "showTitle": false,
     "title": ""
    }
   },
   "source": [
    "Claramente estamos sobreajustando. La ANN está memorizando los datos de entrenamiento y esto está reduciendo su capacidad de generalizar en el conjunto de validación.\n",
    "\n",
    "La regularización es un método creado para evitar el sobreajuste, sin embargo, podemos pensar en uno más simple, parar el procesamiento cuando se empiece a sentir el cambio entre la medida de las funciones de pérdida:"
   ]
  },
  {
   "cell_type": "code",
   "execution_count": 0,
   "metadata": {
    "application/vnd.databricks.v1+cell": {
     "cellMetadata": {},
     "inputWidgets": {},
     "nuid": "ab816213-266f-4b35-8d0f-cd6eb7772f74",
     "showTitle": false,
     "title": ""
    }
   },
   "outputs": [],
   "source": [
    "# con early stopping\n",
    "deep_model = Sequential()\n",
    "deep_model.add(Dense(32, input_shape=(X.shape[1],), activation='relu'))\n",
    "deep_model.add(Dense(16, activation='relu'))\n",
    "deep_model.add(Dense(8, activation='relu'))\n",
    "deep_model.add(Dense(1))\n",
    "\n",
    "deep_model.compile('adam', 'mean_squared_error')\n",
    "\n",
    "early_stop = EarlyStopping(monitor='val_loss', patience=2, verbose=1)\n",
    "deep_history = deep_model.fit(X_train, y_train, epochs=30, verbose=0, validation_split=0.2,\n",
    "                              callbacks=[early_stop])\n",
    "plot_loss(deep_history)"
   ]
  },
  {
   "cell_type": "code",
   "execution_count": 0,
   "metadata": {
    "application/vnd.databricks.v1+cell": {
     "cellMetadata": {},
     "inputWidgets": {},
     "nuid": "7728ed50-27a3-4ee9-93dc-8c12bed4278a",
     "showTitle": false,
     "title": ""
    }
   },
   "outputs": [],
   "source": [
    "plot_compare_histories([linr_history, deep_history], ['Linear Reg', 'Deep ANN'], plot_accuracy=False)"
   ]
  },
  {
   "cell_type": "code",
   "execution_count": 0,
   "metadata": {
    "application/vnd.databricks.v1+cell": {
     "cellMetadata": {},
     "inputWidgets": {},
     "nuid": "884ad950-8943-46e7-afae-307d56618348",
     "showTitle": false,
     "title": ""
    }
   },
   "outputs": [],
   "source": [
    "def output_dollars(num):\n",
    "    return '$'+str(\"{:,}\".format(int(num)))\n",
    "\n",
    "print('Average house price:', output_dollars(DF3['price'].mean()))\n",
    "\n",
    "real_prices = ss_price.inverse_transform(y_test)\n",
    "\n",
    "# print('Training set house price:', np.mean(ss_price.inverse_transform(y_train)))\n",
    "\n",
    "train_prices = ss_price.inverse_transform(y_train)\n",
    "dumb_prices = np.zeros(real_prices.shape)\n",
    "dumb_prices.fill(train_prices.mean())\n",
    "dumb_error = mean_absolute_error(real_prices, dumb_prices)\n",
    "print('Dumb model error:', output_dollars(dumb_error))\n",
    "\n",
    "linr_predictions = linr_model.predict(X_test).ravel()\n",
    "linr_prices = ss_price.inverse_transform(linr_predictions)\n",
    "linr_error = mean_absolute_error(real_prices, linr_prices)\n",
    "print('Linear model error:', output_dollars(linr_error))\n",
    "\n",
    "deep_predictions = deep_model.predict(X_test).ravel()\n",
    "deep_prices = ss_price.inverse_transform(deep_predictions)\n",
    "deep_error = mean_absolute_error(real_prices, deep_prices)\n",
    "print('Deep model error:', output_dollars(deep_error))\n",
    "\n",
    "tdf = pd.DataFrame([['Naive Model', output_dollars(dumb_error)], \n",
    "                    ['Linear Regression', output_dollars(linr_error)], \n",
    "                    ['Deep ANN', output_dollars(deep_error)]], \n",
    "                   columns=['Model', 'Price Error'])\n",
    "tdf"
   ]
  },
  {
   "cell_type": "markdown",
   "metadata": {
    "application/vnd.databricks.v1+cell": {
     "cellMetadata": {},
     "inputWidgets": {},
     "nuid": "fd76b14e-5040-49f5-bc16-a037fd43b952",
     "showTitle": false,
     "title": ""
    }
   },
   "source": [
    "## Conclusiones\n",
    "\n",
    "Usamos las redes neuronales para tres tipos de problemas típicos del Machine Learning, evidentemente el ajuste del modelo a los datos del entrenamiento produce potro gran lio, el sobreajuste, veremos como enfrentarlo en otro ejercicio. \n"
   ]
  }
 ],
 "metadata": {
  "application/vnd.databricks.v1+notebook": {
   "dashboards": [],
   "language": "python",
   "notebookMetadata": {},
   "notebookName": "Aplicaciones Redes Neuronales",
   "widgets": {}
  },
  "kernelspec": {
   "display_name": "Python 3",
   "language": "python",
   "name": "python3"
  },
  "language_info": {
   "codemirror_mode": {
    "name": "ipython",
    "version": 3
   },
   "file_extension": ".py",
   "mimetype": "text/x-python",
   "name": "python",
   "nbconvert_exporter": "python",
   "pygments_lexer": "ipython3",
   "version": "3.8.3"
  },
  "latex_envs": {
   "LaTeX_envs_menu_present": true,
   "autoclose": false,
   "autocomplete": true,
   "bibliofile": "biblio.bib",
   "cite_by": "apalike",
   "current_citInitial": 1,
   "eqLabelWithNumbers": true,
   "eqNumInitial": 1,
   "hotkeys": {
    "equation": "Ctrl-E",
    "itemize": "Ctrl-I"
   },
   "labels_anchors": false,
   "latex_user_defs": false,
   "report_style_numbering": false,
   "user_envs_cfg": false
  },
  "toc": {
   "base_numbering": 1,
   "nav_menu": {},
   "number_sections": true,
   "sideBar": true,
   "skip_h1_title": true,
   "title_cell": "Aplicaciones Redes Neuronales",
   "title_sidebar": "Contents",
   "toc_cell": true,
   "toc_position": {},
   "toc_section_display": true,
   "toc_window_display": false
  }
 },
 "nbformat": 4,
 "nbformat_minor": 0
}
