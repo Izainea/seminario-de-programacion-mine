{
 "cells": [
  {
   "cell_type": "markdown",
   "metadata": {
    "toc": true
   },
   "source": [
    "<div style=\"padding: 0x;\">\n",
    "   <img style='width:110%' src=\"images/banner.jpg\" alt=\"MINE-Seminario de programación\" style=\"width:100%;\">\n",
    "  <h1 style=\"\n",
    "  position: absolute;\n",
    "  top: 2%;\n",
    "  left: 70%;             \n",
    "  color: white;\">Introducción a Métodos Montecarlo</h1>\n",
    "\n",
    "</div>"
   ]
  },
  {
   "cell_type": "markdown",
   "metadata": {},
   "source": [
    "Un método de Monte Carlo es una técnica que utiliza números aleatorios y probabilidad para resolver problemas complejos. Entre sus ventajas más significativas se destaca la posibilidad de comprender el impacto del riesgo y la incertidumbre en diferentes sectores: financieros, gestión de proyectos, costos y modelos de pronóstico en <it>Machine Learning</it>. En esencia podemos concebir posibles resultados de nuestras decisiones para entender el riesgo que se les atañe."
   ]
  },
  {
   "cell_type": "markdown",
   "metadata": {},
   "source": [
    "## Prueba experimental simulada del lanzamiento de una moneda.\n",
    "\n",
    "Lanzaremos una moneda 10000 veces y analizaremos todos esos ejemplos interesantes que hacemos alrededor de este experimento:\n",
    "\n",
    "Empecemos con los paquetes iniciales:"
   ]
  },
  {
   "cell_type": "code",
   "execution_count": null,
   "metadata": {},
   "outputs": [],
   "source": [
    "import random\n",
    "import numpy as np\n",
    "import matplotlib.pyplot as plt\n",
    "%matplotlib inline\n",
    "plt.style.use('ggplot')"
   ]
  },
  {
   "cell_type": "markdown",
   "metadata": {},
   "source": [
    "Definamos el lanzamiento de una moneda:"
   ]
  },
  {
   "cell_type": "code",
   "execution_count": null,
   "metadata": {},
   "outputs": [],
   "source": [
    "def lanza():\n",
    "    n=np.random.randint(0,2)\n",
    "    if n==0:\n",
    "        res=\"cara\"\n",
    "    else:\n",
    "        res=\"sello\"\n",
    "    return  n,res"
   ]
  },
  {
   "cell_type": "markdown",
   "metadata": {},
   "source": [
    "Finalmente una simulación del experimento:"
   ]
  },
  {
   "cell_type": "code",
   "execution_count": null,
   "metadata": {},
   "outputs": [],
   "source": [
    "def monte_carlo(n):\n",
    "    resultados = 0\n",
    "    lista=[]\n",
    "    for i in range(n):\n",
    "        resultado = lanza()[0]\n",
    "        resultados = resultados + resultado\n",
    "        prob = resultados/(i+1)\n",
    "        lista.append(prob)\n",
    "       \n",
    "    return resultados/n,lista"
   ]
  },
  {
   "cell_type": "markdown",
   "metadata": {},
   "source": [
    "Ejecutemos 10000 lanzamientos de monedas con monte_carlo(10000)"
   ]
  },
  {
   "cell_type": "code",
   "execution_count": null,
   "metadata": {},
   "outputs": [],
   "source": [
    "MC=monte_carlo(10000)"
   ]
  },
  {
   "cell_type": "markdown",
   "metadata": {},
   "source": [
    "Pintemos el desarrollo del experimento:"
   ]
  },
  {
   "cell_type": "code",
   "execution_count": null,
   "metadata": {},
   "outputs": [],
   "source": [
    "plt.axhline(y=0.5, color='#ff5733', linestyle='-')\n",
    "plt.xlabel(\"Iteraciones\")\n",
    "plt.ylabel(\"Probabilidad sello\")\n",
    "plt.title(\"Proporcion final: \"+str(MC[0]) )\n",
    "plt.plot(MC[1],color=\"#33d3ff\")\n",
    "plt.show()"
   ]
  },
  {
   "cell_type": "code",
   "execution_count": null,
   "metadata": {},
   "outputs": [],
   "source": [
    "propfin=[]\n",
    "for i in range(10000):\n",
    "    propfin.append(monte_carlo(10)[0])\n",
    "\n",
    "prop=[propfin.count(round(0.1*i,1) )/10000 for i in range(11)]\n",
    "x=[0.1*i for i in range(11)]\n",
    "plt.bar(range(11),prop)\n",
    "plt.show()"
   ]
  },
  {
   "cell_type": "markdown",
   "metadata": {},
   "source": [
    "## Otro cálculo de $\\pi$\n",
    "\n",
    "*Geometría elemental:* Suponga que tenemos un circulo inscrito en un cuadrado de lado $2r$ ¿Cuál es la relación de áreas?\n",
    "\n",
    "$A_c=4r^2$\n",
    "$A_o= \\pi r ^2$\n",
    "\n",
    "$Rel=\\frac{\\pi}{4}$\n",
    "\n",
    "Conociendo ese dato ¿Cómo generar un proceso aleatorio cuya probabilidad me genere esa proporción?\n"
   ]
  },
  {
   "cell_type": "code",
   "execution_count": null,
   "metadata": {},
   "outputs": [],
   "source": [
    "import numpy as np\n",
    "import matplotlib.pyplot as plt\n",
    "from ipywidgets import interactive\n",
    "import ipywidgets as widgets\n",
    "%matplotlib inline\n",
    "\n",
    "\n",
    "\n",
    "def mc_pi(n):\n",
    "    try:\n",
    "        horiz = np.linspace(0,1,100)\n",
    "        y_1 = np.ones(100)\n",
    "        plt.plot(horiz , y_1, 'b')\n",
    "        vert = np.linspace(0,1,100)\n",
    "        x_1 = np.ones(100)\n",
    "        plt.plot(x_1 , vert, 'b')\n",
    "        inside = 0\n",
    "        i=1\n",
    "        while (i<=n):\n",
    "            x = np.random.uniform(0,1)\n",
    "            y = np.random.uniform(0,1)\n",
    "            if ((x**2)+(y**2))<=1:\n",
    "                inside+=1\n",
    "                plt.plot(x , y , 'go')\n",
    "            else:\n",
    "                plt.plot(x , y , 'ro')\n",
    "            i+=1\n",
    "            pi=(4*inside)/n\n",
    "        print (\"El valor de pi es:\")\n",
    "        print(pi)\n",
    "        display(widgets.HBox([slider]))\n",
    "        plt.show()\n",
    "    except:\n",
    "            pass\n",
    "    return\n",
    "play = widgets.Play(\n",
    "    value=1,\n",
    "    min=0,\n",
    "    max=100,\n",
    "    step=1,\n",
    "    interval=1000,\n",
    "    description=\"Press play\",\n",
    "    disabled=False\n",
    ")\n",
    "slider = widgets.IntSlider()\n",
    "widgets.jslink((play, 'value'), (slider, 'value'))\n",
    "W1=interact(mc_pi,n=play)\n",
    "\n",
    "display(W1)"
   ]
  },
  {
   "cell_type": "markdown",
   "metadata": {},
   "source": [
    "## Análisis del riesgo Proyecto PortaCom"
   ]
  },
  {
   "cell_type": "markdown",
   "metadata": {},
   "source": [
    "1. Este ejercicio requiere que simulemos tres valores:\n",
    "\n",
    "*  **Costo de mano de obra directo:**  PortaCom cree que el costo de la mano de obra directa oscilará desde 43 US hasta 47 US por unidad y está descrita por la distribución de probabilidad discreta mostrada en la siguiente tabla:\n",
    "|Costo|Prob|\n",
    "|:---:|:---:|\n",
    "|43 US\\$ |0.1|\n",
    "|44 US\\$ |0.2|\n",
    "|45 US\\$ |0.4|\n",
    "|46 US\\$ |0.2|\n",
    "|47 US\\$ |0.1|\n",
    "\n",
    "* **Costo de las piezas**: Este costo depende de la economía general, la demanda de las piezas y la política de fi jación de precios de los proveedores de piezas de PortaCom. Esta empresa cree que el costo de las piezas oscilará desde  80 US  hasta 100 US por unidad y está descrito por una distribución de probabilidad uniforme.\n",
    "\n",
    "* **Demanda durante el primer año:** PortaCom cree que la demanda durante el primer año está descrita por la distribución de probabilidad normal. El valor medio o esperado de la demanda durante el primer año es de 15.000 unidades. La desviación estándar, de 4500 unidades."
   ]
  },
  {
   "cell_type": "markdown",
   "metadata": {},
   "source": [
    "2. Con estos valores, la idea es calcular la utilidad del primer año, dicho cálculo se resume en el siguiente diagrama de flujo:\n",
    "\n",
    "![im1](https://raw.githubusercontent.com/MCG-Externado/MateBasicas-MCG1/master/imagenes/imSim.png)"
   ]
  },
  {
   "cell_type": "markdown",
   "metadata": {},
   "source": [
    "Fijemos los valores fijos:"
   ]
  },
  {
   "cell_type": "code",
   "execution_count": null,
   "metadata": {},
   "outputs": [],
   "source": [
    "import numpy as np\n",
    "import pandas as pd \n",
    "import matplotlib.pyplot as plt\n",
    "import seaborn as sns"
   ]
  },
  {
   "cell_type": "code",
   "execution_count": null,
   "metadata": {},
   "outputs": [],
   "source": [
    "precio_unitario=249\n",
    "costo_admin=400000\n",
    "costo_pub=600000"
   ]
  },
  {
   "cell_type": "markdown",
   "metadata": {},
   "source": [
    "Ahora, usando una simulación, calculemos el costo de mano de obra directa, para este ejercicio utilizamos la herramienta `np.random.uniform` para generar valores entre 0 y 1 de manera uniforme y  un programa que a partir de la distribución descrita determine los valores entre 43 y 47.\n",
    "\n"
   ]
  },
  {
   "cell_type": "code",
   "execution_count": null,
   "metadata": {},
   "outputs": [],
   "source": [
    "uniform_value=np.random.uniform(0,1)\n",
    "\n",
    "\n",
    "if uniform_value<0.1:\n",
    "    cmo=43\n",
    "elif uniform_value<0.3:\n",
    "    cmo=44\n",
    "elif uniform_value <0.7:\n",
    "    cmo=45\n",
    "elif uniform_value<0.9:\n",
    "    cmo=46\n",
    "else:\n",
    "    cmo=47\n",
    "    \n",
    "print('En esta ejecución el costo de mano de obra es ',cmo)"
   ]
  },
  {
   "cell_type": "markdown",
   "metadata": {},
   "source": [
    "Así mismo calculamos el costo de piezas, usamos `np.random.randint(low,high)`, una función que escoge aleatoriamente números enteros entre `low` y `high`usando una distribuciṕn uniforme :"
   ]
  },
  {
   "cell_type": "code",
   "execution_count": null,
   "metadata": {},
   "outputs": [],
   "source": [
    "cp=np.random.randint(80,100)"
   ]
  },
  {
   "cell_type": "markdown",
   "metadata": {},
   "source": [
    "Finalmente determnamos la demanda, usamos de manera similar la función `np.random.normal(mean,std)` con media `mean` y desviación estándar `std`, también `round` para tomar el número entero más cercano."
   ]
  },
  {
   "cell_type": "code",
   "execution_count": null,
   "metadata": {},
   "outputs": [],
   "source": [
    "dm=round(np.random.normal(15000,4500))"
   ]
  },
  {
   "cell_type": "markdown",
   "metadata": {},
   "source": [
    "Los valores simulados son:"
   ]
  },
  {
   "cell_type": "code",
   "execution_count": null,
   "metadata": {},
   "outputs": [],
   "source": [
    "print('Costo de mano de obra ',cmo)\n",
    "print('Costo de piezas ',cp)\n",
    "print('Demanda ',dm)"
   ]
  },
  {
   "cell_type": "markdown",
   "metadata": {},
   "source": [
    "Vamos a poner todos esos valores en una misma celda y calculamos la utilidad:"
   ]
  },
  {
   "cell_type": "code",
   "execution_count": null,
   "metadata": {},
   "outputs": [],
   "source": [
    "precio_unitario=249\n",
    "costo_admin=400000\n",
    "costo_pub=600000\n",
    "uniform_value=np.random.uniform(0,1)\n",
    "\n",
    "\n",
    "if uniform_value<0.1:\n",
    "    cmo=43\n",
    "elif uniform_value<0.3:\n",
    "    cmo=44\n",
    "elif uniform_value <0.7:\n",
    "    res=45\n",
    "elif uniform_value<0.9:\n",
    "    cmo=46\n",
    "else:\n",
    "    cmo=47\n",
    "cp=np.random.randint(80,100)\n",
    "dm=round(np.random.normal(15000,4500))\n",
    "\n",
    "#Usamos la fórmula de utilidad\n",
    "\n",
    "U=(precio_unitario-cmo-cp)*dm -costo_admin-costo_pub\n",
    "\n",
    "print('En este ejercicio con costos unitario de mano de obra',cmo,'$, con costo de piezas ',cp ,'$ y demanda ',dm,'\\nLa utilidad es de',U,'$') "
   ]
  },
  {
   "cell_type": "markdown",
   "metadata": {},
   "source": [
    "Si ejecuta nuevamente la celda anterior obtendrá una nueva utilidad.\n",
    "\n",
    "Guademos 100 simulaciones con un `for`: "
   ]
  },
  {
   "cell_type": "code",
   "execution_count": null,
   "metadata": {},
   "outputs": [],
   "source": [
    "#Lista de valores simulados\n",
    "cmo_list=[] #Lista de cmo\n",
    "cp_list=[] #Lista de cp\n",
    "dm_list=[] #Lista de dm\n",
    "U_list=[] #Lista de utilidades\n",
    "for i in range(100):\n",
    "    precio_unitario=249\n",
    "    costo_admin=400000\n",
    "    costo_pub=600000\n",
    "    \n",
    "    \n",
    "    uniform_value=np.random.uniform(0,1)\n",
    "    \n",
    "    #CMO\n",
    "    if uniform_value<0.1:\n",
    "        cmo=43\n",
    "    elif uniform_value<0.3:\n",
    "        cmo=44\n",
    "    elif uniform_value <0.7:\n",
    "        cmo=45\n",
    "    elif uniform_value<0.9:\n",
    "        cmo=46\n",
    "    else:\n",
    "        cmo=47\n",
    "    cmo_list.append(cmo) #Guardamos el cmo\n",
    "    #CP\n",
    "    cp=np.random.randint(80,100)\n",
    "    cp_list.append(cp) #Guardamos el cp\n",
    "    \n",
    "    #dm\n",
    "    dm=round(np.random.normal(15000,4500))\n",
    "    dm_list.append(dm)\n",
    "    \n",
    "    #Usamos la fórmula de utilidad\n",
    "    U=(precio_unitario-cmo-cp)*dm -costo_admin-costo_pub\n",
    "    U_list.append(U)\n",
    "    \n",
    "#Finalmente guardamos todo en una base:\n",
    "\n",
    "TODO=pd.DataFrame({'Costo Mano de Obra':cmo_list,'Costo Piezas':cp_list,'Demanda':dm_list,'Utilidades':U_list})\n",
    "TODO"
   ]
  },
  {
   "cell_type": "markdown",
   "metadata": {},
   "source": [
    "Algunos gráficos:"
   ]
  },
  {
   "cell_type": "code",
   "execution_count": null,
   "metadata": {},
   "outputs": [],
   "source": [
    "#CMO\n",
    "\n",
    "TODO['Costo Mano de Obra'].plot.hist()\n",
    "plt.xticks(rotation='90')\n",
    "plt.ticklabel_format(style='plain', axis='x',useOffset=False)\n",
    "plt.show()"
   ]
  },
  {
   "cell_type": "code",
   "execution_count": null,
   "metadata": {},
   "outputs": [],
   "source": [
    "#CP\n",
    "\n",
    "TODO['Costo Piezas'].plot.hist()\n",
    "plt.xticks(rotation='90')\n",
    "plt.ticklabel_format(style='plain', axis='x',useOffset=False)\n",
    "plt.show()"
   ]
  },
  {
   "cell_type": "code",
   "execution_count": null,
   "metadata": {},
   "outputs": [],
   "source": [
    "#Demanda\n",
    "\n",
    "TODO['Demanda'].plot.hist()\n",
    "plt.xticks(rotation='90')\n",
    "plt.ticklabel_format(style='plain', axis='x',useOffset=False)\n",
    "plt.show()"
   ]
  },
  {
   "cell_type": "code",
   "execution_count": null,
   "metadata": {},
   "outputs": [],
   "source": [
    "#Utilidades\n",
    "TODO['Utilidades'].plot.hist()\n",
    "plt.xticks(rotation='90')\n",
    "plt.ticklabel_format(style='plain', axis='x',useOffset=False)\n",
    "plt.show()"
   ]
  },
  {
   "cell_type": "code",
   "execution_count": null,
   "metadata": {},
   "outputs": [],
   "source": [
    "#Utilidades más bonito\n",
    "\n",
    "sns.histplot(data=TODO['Utilidades'])\n",
    "plt.xticks(rotation='90')\n",
    "plt.ticklabel_format(style='plain', axis='x',useOffset=False)"
   ]
  }
 ],
 "metadata": {
  "kernelspec": {
   "display_name": "Python 3",
   "language": "python",
   "name": "python3"
  },
  "language_info": {
   "codemirror_mode": {
    "name": "ipython",
    "version": 3
   },
   "file_extension": ".py",
   "mimetype": "text/x-python",
   "name": "python",
   "nbconvert_exporter": "python",
   "pygments_lexer": "ipython3",
   "version": "3.8.5"
  },
  "toc": {
   "base_numbering": 1,
   "nav_menu": {},
   "number_sections": true,
   "sideBar": true,
   "skip_h1_title": true,
   "title_cell": "Table of Contents",
   "title_sidebar": "Contents",
   "toc_cell": true,
   "toc_position": {},
   "toc_section_display": true,
   "toc_window_display": false
  }
 },
 "nbformat": 4,
 "nbformat_minor": 4
}
