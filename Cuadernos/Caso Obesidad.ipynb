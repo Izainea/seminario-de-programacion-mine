{
 "cells": [
  {
   "cell_type": "markdown",
   "metadata": {},
   "source": [
    "<div style=\"padding: -5px;\n",
    "  text-align: center;\n",
    "  color: white;\n",
    "  font-size: 15px;\">\n",
    "   <img src=\"images/banner.jpg\" alt=\"MINE-Seminario de programación\" style=\"width:100%;\">\n",
    "  <h1 style=\"\n",
    "  position: absolute;\n",
    "  top: 5%;\n",
    "  left: 50%;\">Caso de Estudio</h1>\n",
    "</div>"
   ]
  },
  {
   "cell_type": "markdown",
   "metadata": {
    "toc": true
   },
   "source": [
    "<h1>Table of Contents<span class=\"tocSkip\"></span></h1>\n",
    "<div class=\"toc\"><ul class=\"toc-item\"><li><span><a href=\"#Exploración-datos\" data-toc-modified-id=\"Exploración-datos-1\"><span class=\"toc-item-num\">1&nbsp;&nbsp;</span>Exploración datos</a></span></li><li><span><a href=\"#Nivel-de-obesidad\" data-toc-modified-id=\"Nivel-de-obesidad-2\"><span class=\"toc-item-num\">2&nbsp;&nbsp;</span>Nivel de obesidad</a></span></li><li><span><a href=\"#Exploración-Previa---Solo-cuantitativa\" data-toc-modified-id=\"Exploración-Previa---Solo-cuantitativa-3\"><span class=\"toc-item-num\">3&nbsp;&nbsp;</span>Exploración Previa - Solo cuantitativa</a></span></li><li><span><a href=\"#Exploración-Total\" data-toc-modified-id=\"Exploración-Total-4\"><span class=\"toc-item-num\">4&nbsp;&nbsp;</span>Exploración Total</a></span></li><li><span><a href=\"#Aprendizaje-Supervisado\" data-toc-modified-id=\"Aprendizaje-Supervisado-5\"><span class=\"toc-item-num\">5&nbsp;&nbsp;</span>Aprendizaje Supervisado</a></span></li><li><span><a href=\"#Infome-Final\" data-toc-modified-id=\"Infome-Final-6\"><span class=\"toc-item-num\">6&nbsp;&nbsp;</span>Infome Final</a></span></li></ul></div>"
   ]
  },
  {
   "cell_type": "markdown",
   "metadata": {},
   "source": [
    "#  Nivel de obesidad"
   ]
  },
  {
   "cell_type": "markdown",
   "metadata": {},
   "source": [
    "En el siguiente enlace encontrarán una base de datos que permiten estimarlos niveles de obesidad en individuos de los países de México, Perú y Colombia, con base en sus hábitos alimenticios y condición física. Los datos contienen 17 atributos y 2111 registros, además, hay una variable `NObesidad` (Nivel de obesidad), que permite clasificar los datos utilizando los valores de Peso Insuficiente, Peso Normal, Nivel de Sobrepeso I, Nivel de Sobrepeso II, Obesidad Tipo I , Obesidad tipo II y Obesidad tipo III. El 77% de los datos se generaron sintéticamente utilizando la herramienta Weka y el filtro SMOTE, el 23% de los datos se recopilaron directamente de los usuarios a través de una plataforma web, la información acerca de los datos y los paper relevantes que se han creado a partir de este ejercicio lo pueden encontrar en:\n",
    "\n",
    "[ Estimation of obesity levels based on eating habits and physical condition Data Set ](https://archive.ics.uci.edu/ml/datasets/Estimation+of+obesity+levels+based+on+eating+habits+and+physical+condition+)\n",
    "\n"
   ]
  },
  {
   "cell_type": "markdown",
   "metadata": {},
   "source": [
    "Este ejercicio guiado pretende que ustedes hagan una exploración completa a la base, identifiquen grupos en la población y desarrolen modelos que permitan determinar el nivel de obesidad para cualquier individuo.\n",
    "\n",
    "Después de descargar, cargamos la base:"
   ]
  },
  {
   "cell_type": "code",
   "execution_count": null,
   "metadata": {},
   "outputs": [],
   "source": [
    "import pandas as pd\n",
    "import matplotlib.pyplot as plt\n",
    "DataO=pd.read_csv('../data/ObesityDataSet_raw_and_data_sinthetic.csv')"
   ]
  },
  {
   "cell_type": "markdown",
   "metadata": {},
   "source": [
    "Hagan una exploración manual de la base, identifiquen las variables y los tipos de variables a las que nos enfretamos y, con su grupo, plantee unas hipótesis frente a las tareas planteadas. En lo que sigue se sugeriran algunos puntos a desarrollar en este trabajo."
   ]
  },
  {
   "cell_type": "markdown",
   "metadata": {},
   "source": [
    "## Exploración de datos\n",
    "\n",
    "La idea en esta sección es hacer un EDA sobre la base. Es muy importante identificar datos atípicos, nulos y relaciones entre variables (colinealidad, alta correlación, etc.)."
   ]
  },
  {
   "cell_type": "markdown",
   "metadata": {},
   "source": [
    "## Nivel de obesidad\n",
    "\n",
    "Es claro que la altura y el peso son determinantes en el Nivel de obesidad, como lo muestra el siguiente gráfico:"
   ]
  },
  {
   "cell_type": "code",
   "execution_count": null,
   "metadata": {},
   "outputs": [],
   "source": [
    "import seaborn as sns\n",
    "sns.scatterplot(data=DataO,x='Weight',y='Height',hue='NObeyesdad')"
   ]
  },
  {
   "cell_type": "markdown",
   "metadata": {},
   "source": [
    "Extraiga esas columnas de la base y haga los análisis a continuación sin tener en cuenta esas variables. Responda:\n",
    "\n",
    "**¿Tiene sentido haber extraido esas variables? ¿Cómo afectará a mi investigación no tenerlas en cuenta?**"
   ]
  },
  {
   "cell_type": "markdown",
   "metadata": {},
   "source": [
    "## Exploración Previa - Solo cuantitativa"
   ]
  },
  {
   "cell_type": "markdown",
   "metadata": {},
   "source": [
    "1. Tomen las variables cuantitativas y determinen agrupamientos en la base de datos. No olviden fijar una semilla para la revisión del trabajo. No duden en usar métodos que permitan determinar un valor adecuado de agrupamientos."
   ]
  },
  {
   "cell_type": "markdown",
   "metadata": {},
   "source": [
    "2. Es importante generar visualizaciones adecuadas de los datos luego tendrán que poner cada registro en un plano cartesiano. Usen reducciones de dimensionalidad."
   ]
  },
  {
   "cell_type": "markdown",
   "metadata": {},
   "source": [
    "3. Concluyan a partir de los resultados."
   ]
  },
  {
   "cell_type": "markdown",
   "metadata": {},
   "source": [
    "## Exploración Total\n",
    "\n",
    "1. Crearemos Clusters usando también las variables cualitativas, el ejercicio consiste en poder medir distancias incluso entre variables/componentes cualitativas. Lo haremos con la distancia de Gower (qué es y como se calcula en Python), con esta distancia se monta una matriz de distancias entre los datos. "
   ]
  },
  {
   "cell_type": "markdown",
   "metadata": {},
   "source": [
    "**Solución:**\n",
    "\n",
    "La distancia de Gower se puede utilizar para medir qué tan diferentes son dos registros. Los registros pueden contener una combinación de datos lógicos, categóricos, numéricos o de texto. La distancia es siempre un número entre 0 (idéntico) y 1 (máximamente diferente). \n",
    "\n",
    "Las métricas utilizadas para cada tipo de datos se describen a continuación:\n",
    "\n",
    "- Cuantitativo (intervalo): distancia de Manhattan normalizada por rango.\n",
    "\n",
    "- Ordinal: la variable se clasifica primero, luego la distancia de Manhattan se usa con un ajuste especial para los empates.\n",
    "\n",
    "- Nominal: las variables de k categorías se convierten primero en k columnas binarias y luego se usa el coeficiente de Dice.\n",
    "\n",
    "\n",
    "En esencia, la distancia de Gower es calculada como el promedio de disimilaridades parciales entre individuos. De manera general, este coeficiente se calcula como sigue:\n",
    "\n",
    "$$D_{Gow}(x_1,x_2)=1-\\frac{1}{p}\\sum\\limits_{j=1}^p s_j(x_1,x_2).$$\n",
    "\n",
    "Aquí $s_j(x_1,x_2)$ se conoce como la similaridad parcial de $j$-ésimo descriptor.\n",
    "\n"
   ]
  },
  {
   "cell_type": "markdown",
   "metadata": {},
   "source": [
    "Para descriptores cuantitativos tenemos:\n",
    "\n",
    "$$s_j(x_1,x_2)=1-\\cfrac{|y_{1j}-y_{2j}|}{R_j}$$\n",
    "\n",
    "Para descriptores cualitativos se usa el coeficiente de Sorensen-Dice, se calcula de la siguiente forma:\n",
    "\n",
    "$$s_j(x_1,x_2)=1-\\frac{NNEQ}{NTT+NNZ}$$\n",
    "\n",
    "donde (tomado de scikit-learn):\n",
    "\n",
    "***\n",
    "\n",
    "N : number of dimensions\n",
    "\n",
    "NTT : number of dims in which both values are True\n",
    "\n",
    "NTF : number of dims in which the first value is True, second is False\n",
    "\n",
    "NFT : number of dims in which the first value is False, second is True\n",
    "\n",
    "NFF : number of dims in which both values are False\n",
    "\n",
    "NNEQ : number of non-equal dimensions, NNEQ = NTF + NFT\n",
    "\n",
    "NNZ : number of nonzero dimensions, NNZ = NTF + NFT + NTT\n",
    "***\n",
    "\n"
   ]
  },
  {
   "cell_type": "markdown",
   "metadata": {},
   "source": [
    "|reg|Color|orientacion|\n",
    "|:--:|:--:|:--:|\n",
    "|1|Amarillo|izquierda|\n",
    "|2|Amarillo|derecha|\n",
    "\n",
    "|reg|Amarillo|Azul|Rojo|Derecha|izquierda|\n",
    "|:--:|:--:|:--:|:--:|:--:|:-:|\n",
    "|1|1|0|0|0|1|\n",
    "|2|1|0|0|1|0|\n"
   ]
  },
  {
   "cell_type": "markdown",
   "metadata": {},
   "source": [
    "Ahora calculemos la distancia de Gower:\n",
    "\n",
    "\n"
   ]
  },
  {
   "cell_type": "code",
   "execution_count": null,
   "metadata": {},
   "outputs": [],
   "source": [
    "#!pip install gower"
   ]
  },
  {
   "cell_type": "code",
   "execution_count": null,
   "metadata": {},
   "outputs": [],
   "source": [
    "columns=['Gender', 'Age', 'family_history_with_overweight', 'FAVC', 'FCVC',\n",
    "       'NCP', 'CAEC', 'SMOKE', 'CH2O', 'SCC', 'FAF', 'TUE', 'CALC', 'MTRANS']"
   ]
  },
  {
   "cell_type": "code",
   "execution_count": null,
   "metadata": {},
   "outputs": [],
   "source": [
    "DataO[columns]"
   ]
  },
  {
   "cell_type": "code",
   "execution_count": null,
   "metadata": {},
   "outputs": [],
   "source": [
    "import gower as gw\n",
    "distance_matrix=gw.gower_matrix(DataO[columns])\n",
    "distance_matrix"
   ]
  },
  {
   "cell_type": "markdown",
   "metadata": {},
   "source": [
    "2. Es importante generar visualizaciones adecuadas de los datos luego tendrán que poner cada registro en un plano cartesiano. Usar reducciones de dimensionalidad."
   ]
  },
  {
   "cell_type": "markdown",
   "metadata": {},
   "source": [
    "3. Concluyan a partir de los resultados."
   ]
  },
  {
   "cell_type": "markdown",
   "metadata": {},
   "source": [
    "## Aprendizaje Supervisado\n",
    "\n",
    "En esta sección crearemos modelos que permitan responder la pregunta inicial:"
   ]
  },
  {
   "cell_type": "markdown",
   "metadata": {},
   "source": [
    "1. Particionan la base en 2 (Entrenamiento y testeo) (80/20) de nuevo con semilla fija."
   ]
  },
  {
   "cell_type": "markdown",
   "metadata": {},
   "source": [
    "2. Usando la base de entrenamiento crearán algunos modelos de clasificación con los siguientes métodos:\n",
    "\n",
    "* Regresión Logística\n",
    "* Clasificador Naive Bayes \n",
    "* Arboles de decisión\n",
    "* Random Forest \n",
    "* SVM"
   ]
  },
  {
   "cell_type": "markdown",
   "metadata": {},
   "source": [
    "3. Usando la base de testeo validar cada modelo (Uso matrices de confusión, estadísticos apropiados, curvas ROC, AUC...)"
   ]
  },
  {
   "cell_type": "markdown",
   "metadata": {},
   "source": [
    "4. De acuerdo con los resultados identifico problemas como sobre ajuste y mal desempeño del modelo."
   ]
  },
  {
   "cell_type": "markdown",
   "metadata": {},
   "source": [
    "5. Si lo anterior resulta cierto aplico técnicas de regularización para estimar un modelo de clasificación adecuado."
   ]
  },
  {
   "cell_type": "markdown",
   "metadata": {},
   "source": [
    "6. Visualizamos el modelo (si es posible). "
   ]
  },
  {
   "cell_type": "markdown",
   "metadata": {},
   "source": [
    "\n",
    "## Infome Final\n",
    "\n",
    "Elaboramos un informe como cuaderno de jupyter que responda la pregunta planteada en esta investigación ¿Como afectan la condición física y los hábitos alimenticios a la obesidad? "
   ]
  }
 ],
 "metadata": {
  "kernelspec": {
   "display_name": "Python 3",
   "language": "python",
   "name": "python3"
  },
  "language_info": {
   "codemirror_mode": {
    "name": "ipython",
    "version": 3
   },
   "file_extension": ".py",
   "mimetype": "text/x-python",
   "name": "python",
   "nbconvert_exporter": "python",
   "pygments_lexer": "ipython3",
   "version": "3.8.8"
  },
  "latex_envs": {
   "LaTeX_envs_menu_present": true,
   "autoclose": false,
   "autocomplete": true,
   "bibliofile": "biblio.bib",
   "cite_by": "apalike",
   "current_citInitial": 1,
   "eqLabelWithNumbers": true,
   "eqNumInitial": 1,
   "hotkeys": {
    "equation": "Ctrl-E",
    "itemize": "Ctrl-I"
   },
   "labels_anchors": false,
   "latex_user_defs": false,
   "report_style_numbering": false,
   "user_envs_cfg": false
  },
  "toc": {
   "base_numbering": 1,
   "nav_menu": {},
   "number_sections": true,
   "sideBar": true,
   "skip_h1_title": true,
   "title_cell": "Table of Contents",
   "title_sidebar": "Contents",
   "toc_cell": true,
   "toc_position": {},
   "toc_section_display": true,
   "toc_window_display": false
  }
 },
 "nbformat": 4,
 "nbformat_minor": 4
}
