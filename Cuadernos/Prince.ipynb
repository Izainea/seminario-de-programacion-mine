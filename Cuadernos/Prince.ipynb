{
 "cells": [
  {
   "cell_type": "markdown",
   "metadata": {},
   "source": [
    "<div style=\"padding: -5px;\n",
    "  text-align: center;\n",
    "  color: white;\n",
    "  font-size: 15px;\">\n",
    "   <img src=\"images/banner.jpg\" alt=\"MINE-Seminario de programación\" style=\"width:100%;\">\n",
    "  <h1 style=\"\n",
    "  position: absolute;\n",
    "  top: 5%;\n",
    "  left: 50%;\">Paquete Prince</h1>\n",
    "</div>"
   ]
  },
  {
   "cell_type": "markdown",
   "metadata": {},
   "source": [
    "## Otro paquete: Prince\n",
    "\n",
    "Veremos algunas aplicaciones elementales del paquete prince. \n",
    "\n",
    "Prince es una biblioteca para hacer análisis factorial. Esto incluye una variedad de métodos, incluido el análisis de componentes principales (PCA) y el análisis de correspondencia (CA). El objetivo es proporcionar una implementación eficiente para cada algoritmo junto con una API scikit-learn.\n",
    "\n",
    "\n",
    "## Consideraciones\n",
    "\n",
    "Cada estimador proporcionado por prince amplía TransformerMixin de scikit-learn. Esto significa que cada estimador implementa un a función de ajuste y transformación que los hace utilizables en un proceso de transformación. La función de ajuste es en realidad un alias del método row_principal_components que devuelve los componentes principales de la fila. Sin embargo, también puede acceder a los componentes principales de la columna con column_principal_components.\n",
    "\n",
    "La programación de Prince usa una versión aleatoria de SVD. Esto es mucho más rápido que utilizar el enfoque completo más común. Sin embargo, los resultados pueden tener una pequeña aleatoriedad inherente. Para la mayoría de las aplicaciones, esto no importa y no debería tener que preocuparse por ello. Sin embargo, si desea resultados reproducibles, debe configurar el parámetro random_state.\n",
    "\n",
    "La versión aleatoria de SVD es un método iterativo. Debido a que cada uno de los algoritmos de Prince usa SVD, todos poseen un parámetro n_iter que controla el número de iteraciones utilizadas para calcular el SVD. Por un lado, cuanto mayor sea n_iter, más precisos serán los resultados. Por otro lado, aumentar n_iter aumenta el tiempo de cálculo. En general, el algoritmo converge muy rápidamente, por lo que se recomienda utilizar un n_iter bajo (que es el comportamiento predeterminado).\n",
    "\n",
    "Se supone que debe usar cada método según su situación:\n",
    "\n",
    "* Todas sus variables son numéricas: utilice el análisis de componentes principales (prince.PCA)\n",
    "* Tienes una tabla de contingencia: usa el análisis de correspondencia (prince.CA)\n",
    "*  Tiene más de 2 variables y todas son categóricas: use análisis de correspondencia múltiple (prince.MCA)\n",
    "* Tiene grupos de variables categóricas o numéricas: use análisis de factores múltiples (prince.MFA)\n",
    "* Tiene variables categóricas y numéricas: utilice el análisis factorial de datos mixtos (prince.FAMD)\n"
   ]
  },
  {
   "cell_type": "markdown",
   "metadata": {},
   "source": [
    "## Análisis de componentes principales\n",
    "\n",
    "Todas las variables numéricas"
   ]
  },
  {
   "cell_type": "code",
   "execution_count": null,
   "metadata": {},
   "outputs": [],
   "source": [
    "pip install prince"
   ]
  },
  {
   "cell_type": "code",
   "execution_count": null,
   "metadata": {},
   "outputs": [],
   "source": [
    "import pandas as pd\n",
    "import prince\n",
    "from sklearn import datasets\n",
    "\n",
    "X, y = datasets.load_iris(return_X_y=True)\n",
    "X = pd.DataFrame(data=X, columns=['Sepal length', 'Sepal width', 'Petal length', 'Petal width'])\n",
    "y = pd.Series(y).map({0: 'Setosa', 1: 'Versicolor', 2: 'Virginica'})"
   ]
  },
  {
   "cell_type": "code",
   "execution_count": null,
   "metadata": {},
   "outputs": [],
   "source": [
    "X"
   ]
  },
  {
   "cell_type": "code",
   "execution_count": null,
   "metadata": {},
   "outputs": [],
   "source": [
    "pca = prince.PCA(\n",
    "    n_components=2,\n",
    "     n_iter=3,\n",
    "     rescale_with_mean=True,\n",
    "     rescale_with_std=True,\n",
    "     copy=True,\n",
    "     check_input=True,\n",
    "     engine='auto',\n",
    "     random_state=42\n",
    " )\n",
    "pca = pca.fit(X)\n"
   ]
  },
  {
   "cell_type": "markdown",
   "metadata": {},
   "source": [
    "Los parámetros disponibles son:\n",
    "\n",
    "* n_components: el número de componentes que se calculan. Solo necesita dos si su intención es hacer un gráfico.\n",
    "* n_iter: el número de iteraciones utilizadas para calcular la SVD\n",
    "* rescale_with_mean: si restar la media de cada columna\n",
    "* rescale_with_std: si dividir cada columna por su desviación estándar\n",
    "* copy: si es False, los cálculos se realizarán en el lugar, lo que puede tener posibles efectos secundarios en los datos de entrada\n",
    "* engine: qué motor SVD usar (debe ser uno de ['auto', 'fbpca', 'sklearn'])\n",
    "* random_state: controla la aleatoriedad de los resultados de SVD.\n",
    "\n",
    "Una vez que se ha ajustado el PCA, se puede utilizar para extraer las coordenadas principales de la fila de la siguiente manera:"
   ]
  },
  {
   "cell_type": "code",
   "execution_count": null,
   "metadata": {},
   "outputs": [],
   "source": [
    "pca.transform(X)"
   ]
  },
  {
   "cell_type": "markdown",
   "metadata": {},
   "source": [
    "Cada columna representa un componente principal, mientras que cada fila representa una fila en el conjunto de datos original. Puede mostrar estas proyecciones con el comando plot_row_coordinates:"
   ]
  },
  {
   "cell_type": "code",
   "execution_count": null,
   "metadata": {},
   "outputs": [],
   "source": [
    "y"
   ]
  },
  {
   "cell_type": "code",
   "execution_count": null,
   "metadata": {},
   "outputs": [],
   "source": [
    "ax = pca.plot_row_coordinates(\n",
    "   X,\n",
    "     ax=None,\n",
    "     figsize=(6, 6),\n",
    "     x_component=0,\n",
    "     y_component=1,\n",
    "     color_labels=y,\n",
    "     ellipse_outline=False,\n",
    "     ellipse_fill=True,\n",
    "     show_points=True\n",
    " )"
   ]
  },
  {
   "cell_type": "markdown",
   "metadata": {},
   "source": [
    "Cada componente principal explica parte del subyacente de la distribución. Puede ver cuánto utilizando el acceso a la explained_inertia_ property:"
   ]
  },
  {
   "cell_type": "code",
   "execution_count": null,
   "metadata": {},
   "outputs": [],
   "source": [
    "pca.explained_inertia_ "
   ]
  },
  {
   "cell_type": "markdown",
   "metadata": {},
   "source": [
    "La inercia explicada representa el porcentaje de la inercia que aporta cada componente principal. Suma hasta 1 si la propiedad n_components es igual al número de columnas del conjunto de datos original. La inercia explicada se obtiene dividiendo los autovalores obtenidos con la SVD por la inercia total, ambos también accesibles."
   ]
  },
  {
   "cell_type": "code",
   "execution_count": null,
   "metadata": {},
   "outputs": [],
   "source": [
    "pca.eigenvalues_"
   ]
  },
  {
   "cell_type": "code",
   "execution_count": null,
   "metadata": {},
   "outputs": [],
   "source": [
    "pca.total_inertia_  "
   ]
  },
  {
   "cell_type": "code",
   "execution_count": null,
   "metadata": {},
   "outputs": [],
   "source": [
    "pca.explained_inertia_"
   ]
  },
  {
   "cell_type": "markdown",
   "metadata": {},
   "source": [
    "También puede obtener las correlaciones entre las variables originales y los componentes principales."
   ]
  },
  {
   "cell_type": "code",
   "execution_count": null,
   "metadata": {
    "scrolled": true
   },
   "outputs": [],
   "source": [
    "pca.column_correlations(X)"
   ]
  },
  {
   "cell_type": "markdown",
   "metadata": {},
   "source": [
    "También es posible saber cuánto contribuye cada observación a cada componente principal. Esto se puede hacer con el comando row_contributions."
   ]
  },
  {
   "cell_type": "code",
   "execution_count": null,
   "metadata": {},
   "outputs": [],
   "source": [
    "pca.row_contributions(X)"
   ]
  },
  {
   "cell_type": "markdown",
   "metadata": {},
   "source": [
    "También puede transformar las proyecciones de filas a su espacio original utilizando la función inverse_transform."
   ]
  },
  {
   "cell_type": "code",
   "execution_count": null,
   "metadata": {},
   "outputs": [],
   "source": [
    "pca.inverse_transform(pca.transform(X))"
   ]
  },
  {
   "cell_type": "markdown",
   "metadata": {},
   "source": [
    "## Análisis de correspondencias\n",
    "\n",
    "El análisis de correspondencia se utiliza cuando se desea analizar una tabla de contingencia. En otras palabras, buscamos analizar las dependencias entre dos variables categóricas."
   ]
  },
  {
   "cell_type": "code",
   "execution_count": null,
   "metadata": {},
   "outputs": [],
   "source": [
    "import pandas as pd\n",
    "\n",
    "pd.set_option('display.float_format', lambda x: '{:.6f}'.format(x))\n",
    "X = pd.DataFrame(\n",
    "   data=[\n",
    "       [426, 345, 0, 11, 3],\n",
    "       [54, 110, 45, 0, 4],\n",
    "       [31, 84, 409, 41, 26],\n",
    "       [12, 28, 40, 381, 5]],\n",
    "   columns=pd.Series(['Fair', 'Red', 'Medium', 'Dark', 'Black']),\n",
    "   index=pd.Series(['Blue', 'Light', 'Medium', 'Dark']))\n",
    "X\n"
   ]
  },
  {
   "cell_type": "code",
   "execution_count": null,
   "metadata": {},
   "outputs": [],
   "source": [
    "X1=X[[\"Fair\",\"Red\",\"Dark\",\"Black\"]]\n",
    "X1=X1.iloc[[0,1,3]]\n",
    "X1"
   ]
  },
  {
   "cell_type": "code",
   "execution_count": null,
   "metadata": {},
   "outputs": [],
   "source": [
    "import matplotlib.pyplot as plt \n",
    "import seaborn as sns\n",
    "fig, ax = plt.subplots()\n",
    "s=sns.heatmap(X,cmap='coolwarm') \n",
    "ax.set_xlim(0,5)\n",
    "ax.set_ylim(0,4)\n",
    "plt.show()\n",
    "\n"
   ]
  },
  {
   "cell_type": "code",
   "execution_count": null,
   "metadata": {},
   "outputs": [],
   "source": [
    "ca = prince.CA(\n",
    "    n_components=2,\n",
    "    n_iter=5,\n",
    "    copy=True,\n",
    "    check_input=True,\n",
    "    engine='auto',\n",
    "    random_state=42)"
   ]
  },
  {
   "cell_type": "code",
   "execution_count": null,
   "metadata": {},
   "outputs": [],
   "source": [
    "X.columns.rename('Hair color', inplace=True)\n",
    "X.index.rename('Eye color', inplace=True)\n",
    "X"
   ]
  },
  {
   "cell_type": "code",
   "execution_count": null,
   "metadata": {},
   "outputs": [],
   "source": [
    "ca = ca.fit(X)"
   ]
  },
  {
   "cell_type": "code",
   "execution_count": null,
   "metadata": {},
   "outputs": [],
   "source": [
    "ca.row_coordinates(X)"
   ]
  },
  {
   "cell_type": "code",
   "execution_count": null,
   "metadata": {},
   "outputs": [],
   "source": [
    "ca.column_coordinates(X)"
   ]
  },
  {
   "cell_type": "markdown",
   "metadata": {},
   "source": [
    "Puede trazar ambos conjuntos de coordenadas principales con el método plot_coordinates."
   ]
  },
  {
   "cell_type": "code",
   "execution_count": null,
   "metadata": {},
   "outputs": [],
   "source": [
    "ax = ca.plot_coordinates(\n",
    "    X=X,\n",
    "    ax=None,\n",
    "    figsize=(6, 6),\n",
    "    x_component=0,\n",
    "    y_component=1,\n",
    "    show_row_labels=True,\n",
    "    show_col_labels=True)"
   ]
  },
  {
   "cell_type": "code",
   "execution_count": null,
   "metadata": {},
   "outputs": [],
   "source": [
    "ca.eigenvalues_ "
   ]
  },
  {
   "cell_type": "code",
   "execution_count": null,
   "metadata": {},
   "outputs": [],
   "source": [
    "ca.total_inertia_"
   ]
  },
  {
   "cell_type": "code",
   "execution_count": null,
   "metadata": {},
   "outputs": [],
   "source": [
    "ca.explained_inertia_"
   ]
  },
  {
   "cell_type": "markdown",
   "metadata": {},
   "source": [
    "## Análisis de correspondencias multiples\n",
    "\n",
    "El análisis de correspondencia múltiple (ACM) es una extensión del análisis de correspondencia (AC). Debería utilizarse cuando tenga más de dos variables categóricas. La idea es simplemente calcular los one-hot-vector de un conjunto de datos y aplicar CA en él. Como ejemplo, usaremos el conjunto de datos de [globos](https://archive.ics.uci.edu/ml/machine-learning-databases/balloons/) tomados del sitio web de conjuntos de datos de UCI."
   ]
  },
  {
   "cell_type": "code",
   "execution_count": null,
   "metadata": {},
   "outputs": [],
   "source": [
    "X = pd.read_csv('https://archive.ics.uci.edu/ml/machine-learning-databases/balloons/adult+stretch.data')\n",
    "X.columns = ['Color', 'Size', 'Action', 'Age', 'Inflated']\n",
    "pd.get_dummies(X)"
   ]
  },
  {
   "cell_type": "code",
   "execution_count": null,
   "metadata": {},
   "outputs": [],
   "source": [
    "mca = prince.MCA(\n",
    "    n_components=4,\n",
    "    n_iter=3,\n",
    "    copy=True,\n",
    "    check_input=True,\n",
    "    engine='auto',\n",
    "    random_state=42)\n",
    "mca = mca.fit(X)\n"
   ]
  },
  {
   "cell_type": "markdown",
   "metadata": {},
   "source": [
    "Usamos nuevamente plot_coordinates"
   ]
  },
  {
   "cell_type": "code",
   "execution_count": null,
   "metadata": {},
   "outputs": [],
   "source": [
    "ax = mca.plot_coordinates(\n",
    "    X=X,\n",
    "    ax=None,\n",
    "    x_component=1,\n",
    "    y_component=3,\n",
    "    figsize=(10, 10),\n",
    "    show_row_points=False,\n",
    "    show_row_labels=False,\n",
    "    show_column_points=True,\n",
    "    column_points_size=50,\n",
    "    show_column_labels=True,\n",
    "    legend_n_cols=2)"
   ]
  },
  {
   "cell_type": "code",
   "execution_count": null,
   "metadata": {},
   "outputs": [],
   "source": [
    "mca.column_coordinates(X)"
   ]
  },
  {
   "cell_type": "markdown",
   "metadata": {},
   "source": [
    "### Análisis de factores múltiple\n",
    "\n",
    "El análisis de factores múltiples (MFA) está diseñado para usarse cuando tiene grupos de variables. En la práctica, construye un PCA en cada grupo, o un MCA, según los tipos de variables del grupo. Luego, construye un PCA global sobre los resultados de los llamados PCA parciales, o MCA.\n",
    "\n",
    "El conjunto de datos utilizado en los siguientes ejemplos proviene de este [documento](https://www.utdallas.edu/%7Eherve/Abdi-MFA2007-pretty.pdf). En el conjunto de datos, tres expertos dan su opinión sobre seis vinos diferentes. Cada opinión para cada vino se registra como una variable. Por lo tanto, queremos considerar las opiniones separadas de cada experto y al mismo tiempo tener una visión global de cada vino. MFA es el método perfecto para este tipo de situación.\n",
    "\n",
    "Primero que nada, copiemos los datos usados en el documento."
   ]
  },
  {
   "cell_type": "code",
   "execution_count": null,
   "metadata": {},
   "outputs": [],
   "source": [
    "X = pd.DataFrame(\n",
    "    data=[\n",
    "        [1, 6, 7, 2, 5, 7, 6, 3, 6, 7],\n",
    "        [5, 3, 2, 4, 4, 4, 2, 4, 4, 3],\n",
    "        [6, 1, 1, 5, 2, 1, 1, 7, 1, 1],\n",
    "        [7, 1, 2, 7, 2, 1, 2, 2, 2, 2],\n",
    "        [2, 5, 4, 3, 5, 6, 5, 2, 6, 6],\n",
    "        [3, 4, 4, 3, 5, 4, 5, 1, 7, 5]],\n",
    "    columns=['E1 fruity', 'E1 woody', 'E1 coffee',\n",
    "             'E2 red fruit', 'E2 roasted', 'E2 vanillin', 'E2 woody',\n",
    "             'E3 fruity', 'E3 butter', 'E3 woody'],\n",
    "    index=['Wine {}'.format(i+1) for i in range(6)])\n",
    "X['Oak type'] = [1, 2, 2, 2, 1, 1]\n",
    "X"
   ]
  },
  {
   "cell_type": "markdown",
   "metadata": {},
   "source": [
    "Los grupos se pasan como un diccionario a la clase MFA."
   ]
  },
  {
   "cell_type": "code",
   "execution_count": null,
   "metadata": {},
   "outputs": [],
   "source": [
    "groups = {\n",
    "   'Expert #{}'.format(no+1): [c for c in X.columns if c.startswith('E{}'.format(no+1))]\n",
    "   for no in range(3)\n",
    "}\n",
    "print(groups)"
   ]
  },
  {
   "cell_type": "markdown",
   "metadata": {},
   "source": [
    "Ajustamos un MFA"
   ]
  },
  {
   "cell_type": "code",
   "execution_count": null,
   "metadata": {},
   "outputs": [],
   "source": [
    "mfa = prince.MFA(\n",
    "    groups=groups,\n",
    "    n_components=2,\n",
    "    n_iter=3,\n",
    "    copy=True,\n",
    "    check_input=True,\n",
    "    random_state=42)\n",
    "mfa = mfa.fit(X)\n"
   ]
  },
  {
   "cell_type": "markdown",
   "metadata": {},
   "source": [
    "El MFA hereda de la clase PCA, lo que implica que tiene acceso a todos sus métodos y propiedades. El método row_coordinates devolverá las coordenadas globales de cada vino."
   ]
  },
  {
   "cell_type": "code",
   "execution_count": null,
   "metadata": {},
   "outputs": [],
   "source": [
    "mfa.row_coordinates(X)"
   ]
  },
  {
   "cell_type": "markdown",
   "metadata": {},
   "source": [
    "Al igual que para el PCA, puede trazar las coordenadas de la fila con el comando plot_row_coordinates."
   ]
  },
  {
   "cell_type": "code",
   "execution_count": null,
   "metadata": {},
   "outputs": [],
   "source": [
    "ax = mfa.plot_row_coordinates(\n",
    "    X,\n",
    "    ax=None,\n",
    "    figsize=(6, 6),\n",
    "    x_component=0,\n",
    "    y_component=1,\n",
    "    labels=X.index,\n",
    "    color_labels=['Oak type {}'.format(t) for t in X['Oak type']],\n",
    "    ellipse_outline=False,\n",
    "    ellipse_fill=True,\n",
    "    show_points=True)"
   ]
  },
  {
   "cell_type": "markdown",
   "metadata": {},
   "source": [
    "También puede obtener las coordenadas de las filas dentro de cada grupo. El método parcial_row_coordinates devuelve un pandas.DataFrame donde el conjunto de columnas es un pandas.MultiIndex. El primer nivel de indexación corresponde a cada grupo especificado, mientras que el nivel anidado indica las coordenadas dentro de cada grupo."
   ]
  },
  {
   "cell_type": "code",
   "execution_count": null,
   "metadata": {},
   "outputs": [],
   "source": [
    "mfa.partial_row_coordinates(X)"
   ]
  },
  {
   "cell_type": "markdown",
   "metadata": {},
   "source": [
    "plot_partial_row_coordinates permite visualizar la opinion de cada experto"
   ]
  },
  {
   "cell_type": "code",
   "execution_count": null,
   "metadata": {},
   "outputs": [],
   "source": [
    "?mfa.plot_partial_row_coordinates"
   ]
  },
  {
   "cell_type": "code",
   "execution_count": null,
   "metadata": {},
   "outputs": [],
   "source": [
    "ax = mfa.plot_partial_row_coordinates(\n",
    "    X,\n",
    "    ax=None,\n",
    "    figsize=(6, 6),\n",
    "    x_component=0,\n",
    "    y_component=1,\n",
    "    color_labels=['Oak type {}'.format(t) for t in X['Oak type']])"
   ]
  },
  {
   "cell_type": "code",
   "execution_count": null,
   "metadata": {},
   "outputs": [],
   "source": [
    "mfa.partial_row_coordinates(X)"
   ]
  },
  {
   "cell_type": "code",
   "execution_count": null,
   "metadata": {},
   "outputs": [],
   "source": [
    "mfa.eigenvalues_"
   ]
  },
  {
   "cell_type": "code",
   "execution_count": null,
   "metadata": {},
   "outputs": [],
   "source": [
    "mfa.total_inertia_"
   ]
  },
  {
   "cell_type": "code",
   "execution_count": null,
   "metadata": {},
   "outputs": [],
   "source": [
    "mfa.explained_inertia_"
   ]
  },
  {
   "cell_type": "code",
   "execution_count": null,
   "metadata": {},
   "outputs": [],
   "source": [
    "for name, fa in sorted(mfa.partial_factor_analysis_.items()): \n",
    "    print('{} inertia: {}'.format(name, fa.explained_inertia_))"
   ]
  }
 ],
 "metadata": {
  "kernelspec": {
   "display_name": "Python 3",
   "language": "python",
   "name": "python3"
  },
  "language_info": {
   "codemirror_mode": {
    "name": "ipython",
    "version": 3
   },
   "file_extension": ".py",
   "mimetype": "text/x-python",
   "name": "python",
   "nbconvert_exporter": "python",
   "pygments_lexer": "ipython3",
   "version": "3.8.8"
  }
 },
 "nbformat": 4,
 "nbformat_minor": 4
}
