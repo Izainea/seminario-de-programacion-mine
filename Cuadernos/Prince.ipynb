{
 "cells": [
  {
   "cell_type": "markdown",
   "metadata": {
    "application/vnd.databricks.v1+cell": {
     "cellMetadata": {},
     "inputWidgets": {},
     "nuid": "7c58c17b-59e5-4fd6-80e6-b3255bfb9747",
     "showTitle": false,
     "title": ""
    }
   },
   "source": [
    "<div style=\"padding: -5px;\n",
    "  text-align: center;\n",
    "  color: white;\n",
    "  font-size: 15px;\">\n",
    "   <img src=\"images/banner.jpg\" alt=\"MINE-Seminario de programación\" style=\"width:100%;\">\n",
    "  <h1 style=\"\n",
    "  position: absolute;\n",
    "  top: 5%;\n",
    "  left: 50%;\">Paquete Prince</h1>\n",
    "</div>"
   ]
  },
  {
   "cell_type": "markdown",
   "metadata": {
    "application/vnd.databricks.v1+cell": {
     "cellMetadata": {},
     "inputWidgets": {},
     "nuid": "be90f77b-a747-4d45-b561-7ccb891e2cac",
     "showTitle": false,
     "title": ""
    }
   },
   "source": [
    "## Otro paquete: Prince\n",
    "\n",
    "Veremos algunas aplicaciones elementales del paquete prince. \n",
    "\n",
    "Prince es una biblioteca para hacer análisis factorial. Esto incluye una variedad de métodos, incluido el análisis de componentes principales (PCA) y el análisis de correspondencia (CA). El objetivo es proporcionar una implementación eficiente para cada algoritmo junto con una API scikit-learn.\n",
    "\n",
    "\n",
    "## Consideraciones\n",
    "\n",
    "Cada estimador proporcionado por prince amplía TransformerMixin de scikit-learn. Esto significa que cada estimador implementa un a función de ajuste y transformación que los hace utilizables en un proceso de transformación. La función de ajuste es en realidad un alias del método row_principal_components que devuelve los componentes principales de la fila. Sin embargo, también puede acceder a los componentes principales de la columna con column_principal_components.\n",
    "\n",
    "La programación de Prince usa una versión aleatoria de SVD. Esto es mucho más rápido que utilizar el enfoque completo más común. Sin embargo, los resultados pueden tener una pequeña aleatoriedad inherente. Para la mayoría de las aplicaciones, esto no importa y no debería tener que preocuparse por ello. Sin embargo, si desea resultados reproducibles, debe configurar el parámetro random_state.\n",
    "\n",
    "La versión aleatoria de SVD es un método iterativo. Debido a que cada uno de los algoritmos de Prince usa SVD, todos poseen un parámetro n_iter que controla el número de iteraciones utilizadas para calcular el SVD. Por un lado, cuanto mayor sea n_iter, más precisos serán los resultados. Por otro lado, aumentar n_iter aumenta el tiempo de cálculo. En general, el algoritmo converge muy rápidamente, por lo que se recomienda utilizar un n_iter bajo (que es el comportamiento predeterminado).\n",
    "\n",
    "Se supone que debe usar cada método según su situación:\n",
    "\n",
    "* Todas sus variables son numéricas: utilice el análisis de componentes principales (prince.PCA)\n",
    "* Tienes una tabla de contingencia: usa el análisis de correspondencia (prince.CA)\n",
    "*  Tiene más de 2 variables y todas son categóricas: use análisis de correspondencia múltiple (prince.MCA)\n",
    "* Tiene grupos de variables categóricas o numéricas: use análisis de factores múltiples (prince.MFA)\n",
    "* Tiene variables categóricas y numéricas: utilice el análisis factorial de datos mixtos (prince.FAMD)\n"
   ]
  },
  {
   "cell_type": "markdown",
   "metadata": {
    "application/vnd.databricks.v1+cell": {
     "cellMetadata": {},
     "inputWidgets": {},
     "nuid": "86a32b77-640c-482e-ad71-ea3af6ccfd2d",
     "showTitle": false,
     "title": ""
    }
   },
   "source": [
    "## Análisis de componentes principales\n",
    "\n",
    "Todas las variables numéricas"
   ]
  },
  {
   "cell_type": "code",
   "execution_count": 0,
   "metadata": {
    "application/vnd.databricks.v1+cell": {
     "cellMetadata": {},
     "inputWidgets": {},
     "nuid": "0d9a3a93-f875-42c9-bfed-b8bd447e8de7",
     "showTitle": false,
     "title": ""
    }
   },
   "outputs": [],
   "source": [
    "pip install prince"
   ]
  },
  {
   "cell_type": "code",
   "execution_count": 0,
   "metadata": {
    "application/vnd.databricks.v1+cell": {
     "cellMetadata": {},
     "inputWidgets": {},
     "nuid": "439e8c3d-3736-4584-9d4c-9dc82915915f",
     "showTitle": false,
     "title": ""
    }
   },
   "outputs": [],
   "source": [
    "import pandas as pd\n",
    "import prince\n",
    "from sklearn import datasets\n",
    "\n",
    "X, y = datasets.load_iris(return_X_y=True)\n",
    "X = pd.DataFrame(data=X, columns=['Sepal length', 'Sepal width', 'Petal length', 'Petal width'])\n",
    "y = pd.Series(y).map({0: 'Setosa', 1: 'Versicolor', 2: 'Virginica'})"
   ]
  },
  {
   "cell_type": "code",
   "execution_count": 0,
   "metadata": {
    "application/vnd.databricks.v1+cell": {
     "cellMetadata": {},
     "inputWidgets": {},
     "nuid": "d2138f8f-a4f6-42bb-ac29-9c96673b2878",
     "showTitle": false,
     "title": ""
    }
   },
   "outputs": [],
   "source": [
    "X"
   ]
  },
  {
   "cell_type": "code",
   "execution_count": 0,
   "metadata": {
    "application/vnd.databricks.v1+cell": {
     "cellMetadata": {},
     "inputWidgets": {},
     "nuid": "722f7554-19b4-400e-83e7-7cc234812cbe",
     "showTitle": false,
     "title": ""
    }
   },
   "outputs": [],
   "source": [
    "pca = prince.PCA(\n",
    "    n_components=2,\n",
    "     n_iter=3,\n",
    "     rescale_with_mean=True,\n",
    "     rescale_with_std=True,\n",
    "     copy=True,\n",
    "     check_input=True,\n",
    "     engine='auto',\n",
    "     random_state=42\n",
    " )\n",
    "pca = pca.fit(X)\n"
   ]
  },
  {
   "cell_type": "markdown",
   "metadata": {
    "application/vnd.databricks.v1+cell": {
     "cellMetadata": {},
     "inputWidgets": {},
     "nuid": "bf0c06d9-3188-42de-9286-0e4e0c9d045f",
     "showTitle": false,
     "title": ""
    }
   },
   "source": [
    "Los parámetros disponibles son:\n",
    "\n",
    "* n_components: el número de componentes que se calculan. Solo necesita dos si su intención es hacer un gráfico.\n",
    "* n_iter: el número de iteraciones utilizadas para calcular la SVD\n",
    "* rescale_with_mean: si restar la media de cada columna\n",
    "* rescale_with_std: si dividir cada columna por su desviación estándar\n",
    "* copy: si es False, los cálculos se realizarán en el lugar, lo que puede tener posibles efectos secundarios en los datos de entrada\n",
    "* engine: qué motor SVD usar (debe ser uno de ['auto', 'fbpca', 'sklearn'])\n",
    "* random_state: controla la aleatoriedad de los resultados de SVD.\n",
    "\n",
    "Una vez que se ha ajustado el PCA, se puede utilizar para extraer las coordenadas principales de la fila de la siguiente manera:"
   ]
  },
  {
   "cell_type": "code",
   "execution_count": 0,
   "metadata": {
    "application/vnd.databricks.v1+cell": {
     "cellMetadata": {},
     "inputWidgets": {},
     "nuid": "01d58ecf-201a-4712-9d29-129c3fc744d4",
     "showTitle": false,
     "title": ""
    }
   },
   "outputs": [],
   "source": [
    "pca.transform(X)"
   ]
  },
  {
   "cell_type": "markdown",
   "metadata": {
    "application/vnd.databricks.v1+cell": {
     "cellMetadata": {},
     "inputWidgets": {},
     "nuid": "b24fb771-b922-4add-a14f-989248bc0fb3",
     "showTitle": false,
     "title": ""
    }
   },
   "source": [
    "Cada columna representa un componente principal, mientras que cada fila representa una fila en el conjunto de datos original. Puede mostrar estas proyecciones con el comando plot_row_coordinates:"
   ]
  },
  {
   "cell_type": "code",
   "execution_count": 0,
   "metadata": {
    "application/vnd.databricks.v1+cell": {
     "cellMetadata": {},
     "inputWidgets": {},
     "nuid": "41881cd0-5c61-4f8f-baf8-3c7c2963a35f",
     "showTitle": false,
     "title": ""
    }
   },
   "outputs": [],
   "source": [
    "y"
   ]
  },
  {
   "cell_type": "code",
   "execution_count": 0,
   "metadata": {
    "application/vnd.databricks.v1+cell": {
     "cellMetadata": {},
     "inputWidgets": {},
     "nuid": "6ce0c352-653e-4f44-89f2-16b66ec7c271",
     "showTitle": false,
     "title": ""
    }
   },
   "outputs": [],
   "source": [
    "ax = pca.plot_row_coordinates(\n",
    "   X,\n",
    "     ax=None,\n",
    "     figsize=(6, 6),\n",
    "     x_component=0,\n",
    "     y_component=1,\n",
    "     color_labels=y,\n",
    "     ellipse_outline=False,\n",
    "     ellipse_fill=True,\n",
    "     show_points=True\n",
    " )"
   ]
  },
  {
   "cell_type": "markdown",
   "metadata": {
    "application/vnd.databricks.v1+cell": {
     "cellMetadata": {},
     "inputWidgets": {},
     "nuid": "61580c7a-d051-4d82-b06c-67dd7ee14b09",
     "showTitle": false,
     "title": ""
    }
   },
   "source": [
    "Cada componente principal explica parte del subyacente de la distribución. Puede ver cuánto utilizando el acceso a la explained_inertia_ property:"
   ]
  },
  {
   "cell_type": "code",
   "execution_count": 0,
   "metadata": {
    "application/vnd.databricks.v1+cell": {
     "cellMetadata": {},
     "inputWidgets": {},
     "nuid": "44971142-e962-4b29-a83b-fa22a584f546",
     "showTitle": false,
     "title": ""
    }
   },
   "outputs": [],
   "source": [
    "pca.explained_inertia_ "
   ]
  },
  {
   "cell_type": "markdown",
   "metadata": {
    "application/vnd.databricks.v1+cell": {
     "cellMetadata": {},
     "inputWidgets": {},
     "nuid": "c52fcd4e-7176-4696-88a2-3bfaf91eb4a3",
     "showTitle": false,
     "title": ""
    }
   },
   "source": [
    "La inercia explicada representa el porcentaje de la inercia que aporta cada componente principal. Suma hasta 1 si la propiedad n_components es igual al número de columnas del conjunto de datos original. La inercia explicada se obtiene dividiendo los autovalores obtenidos con la SVD por la inercia total, ambos también accesibles."
   ]
  },
  {
   "cell_type": "code",
   "execution_count": 0,
   "metadata": {
    "application/vnd.databricks.v1+cell": {
     "cellMetadata": {},
     "inputWidgets": {},
     "nuid": "d77e3d16-5b41-4b66-9b7e-32d1eb994808",
     "showTitle": false,
     "title": ""
    }
   },
   "outputs": [],
   "source": [
    "pca.eigenvalues_"
   ]
  },
  {
   "cell_type": "code",
   "execution_count": 0,
   "metadata": {
    "application/vnd.databricks.v1+cell": {
     "cellMetadata": {},
     "inputWidgets": {},
     "nuid": "ddfb02fc-2ee9-4f66-b9b6-ac5a4b7f11af",
     "showTitle": false,
     "title": ""
    }
   },
   "outputs": [],
   "source": [
    "pca.total_inertia_  "
   ]
  },
  {
   "cell_type": "code",
   "execution_count": 0,
   "metadata": {
    "application/vnd.databricks.v1+cell": {
     "cellMetadata": {},
     "inputWidgets": {},
     "nuid": "cb09905c-4c16-433f-a287-c47bf1170ef0",
     "showTitle": false,
     "title": ""
    }
   },
   "outputs": [],
   "source": [
    "pca.explained_inertia_"
   ]
  },
  {
   "cell_type": "markdown",
   "metadata": {
    "application/vnd.databricks.v1+cell": {
     "cellMetadata": {},
     "inputWidgets": {},
     "nuid": "59e242a7-92a5-4900-a910-1c5a0fa5260a",
     "showTitle": false,
     "title": ""
    }
   },
   "source": [
    "También puede obtener las correlaciones entre las variables originales y los componentes principales."
   ]
  },
  {
   "cell_type": "code",
   "execution_count": 0,
   "metadata": {
    "application/vnd.databricks.v1+cell": {
     "cellMetadata": {},
     "inputWidgets": {},
     "nuid": "90685896-26dc-4e24-8a05-f69e29562bf0",
     "showTitle": false,
     "title": ""
    },
    "scrolled": true
   },
   "outputs": [],
   "source": [
    "pca.column_correlations(X)"
   ]
  },
  {
   "cell_type": "markdown",
   "metadata": {
    "application/vnd.databricks.v1+cell": {
     "cellMetadata": {},
     "inputWidgets": {},
     "nuid": "b2815aad-962a-47b4-83b7-ff45729fa17e",
     "showTitle": false,
     "title": ""
    }
   },
   "source": [
    "También es posible saber cuánto contribuye cada observación a cada componente principal. Esto se puede hacer con el comando row_contributions."
   ]
  },
  {
   "cell_type": "code",
   "execution_count": 0,
   "metadata": {
    "application/vnd.databricks.v1+cell": {
     "cellMetadata": {},
     "inputWidgets": {},
     "nuid": "5ff6b418-9bc2-419b-99c5-2b7cbc163915",
     "showTitle": false,
     "title": ""
    }
   },
   "outputs": [],
   "source": [
    "pca.row_contributions(X)"
   ]
  },
  {
   "cell_type": "markdown",
   "metadata": {
    "application/vnd.databricks.v1+cell": {
     "cellMetadata": {},
     "inputWidgets": {},
     "nuid": "f6024686-d104-4184-8b3a-e49bb36d840f",
     "showTitle": false,
     "title": ""
    }
   },
   "source": [
    "También puede transformar las proyecciones de filas a su espacio original utilizando la función inverse_transform."
   ]
  },
  {
   "cell_type": "code",
   "execution_count": 0,
   "metadata": {
    "application/vnd.databricks.v1+cell": {
     "cellMetadata": {},
     "inputWidgets": {},
     "nuid": "8af5ac06-6f32-49da-b416-b75e597cbd44",
     "showTitle": false,
     "title": ""
    }
   },
   "outputs": [],
   "source": [
    "pca.inverse_transform(pca.transform(X))"
   ]
  },
  {
   "cell_type": "markdown",
   "metadata": {
    "application/vnd.databricks.v1+cell": {
     "cellMetadata": {},
     "inputWidgets": {},
     "nuid": "4222fc9d-bf78-49c0-8be4-f20bab4cb24c",
     "showTitle": false,
     "title": ""
    }
   },
   "source": [
    "## Análisis de correspondencias\n",
    "\n",
    "El análisis de correspondencia se utiliza cuando se desea analizar una tabla de contingencia. En otras palabras, buscamos analizar las dependencias entre dos variables categóricas."
   ]
  },
  {
   "cell_type": "code",
   "execution_count": 0,
   "metadata": {
    "application/vnd.databricks.v1+cell": {
     "cellMetadata": {},
     "inputWidgets": {},
     "nuid": "86bf543c-5fa9-4e3d-8dc5-d86590bc5a19",
     "showTitle": false,
     "title": ""
    }
   },
   "outputs": [],
   "source": [
    "import pandas as pd\n",
    "\n",
    "pd.set_option('display.float_format', lambda x: '{:.6f}'.format(x))\n",
    "X = pd.DataFrame(\n",
    "   data=[\n",
    "       [426, 345, 0, 11, 3],\n",
    "       [54, 110, 45, 0, 4],\n",
    "       [31, 84, 409, 41, 26],\n",
    "       [12, 28, 40, 381, 5]],\n",
    "   columns=pd.Series(['Fair', 'Red', 'Medium', 'Dark', 'Black']),\n",
    "   index=pd.Series(['Blue', 'Light', 'Medium', 'Dark']))\n",
    "X\n"
   ]
  },
  {
   "cell_type": "code",
   "execution_count": 0,
   "metadata": {
    "application/vnd.databricks.v1+cell": {
     "cellMetadata": {},
     "inputWidgets": {},
     "nuid": "ccc57ead-a19c-4226-9cab-e5d088ca719c",
     "showTitle": false,
     "title": ""
    }
   },
   "outputs": [],
   "source": [
    "X1=X[[\"Fair\",\"Red\",\"Dark\",\"Black\"]]\n",
    "X1=X1.iloc[[0,1,3]]\n",
    "X1"
   ]
  },
  {
   "cell_type": "code",
   "execution_count": 0,
   "metadata": {
    "application/vnd.databricks.v1+cell": {
     "cellMetadata": {},
     "inputWidgets": {},
     "nuid": "1485d097-b999-433f-9d41-3ece04fff857",
     "showTitle": false,
     "title": ""
    }
   },
   "outputs": [],
   "source": [
    "import matplotlib.pyplot as plt \n",
    "import seaborn as sns\n",
    "fig, ax = plt.subplots()\n",
    "s=sns.heatmap(X,cmap='coolwarm') \n",
    "ax.set_xlim(0,5)\n",
    "ax.set_ylim(0,4)\n",
    "plt.show()\n",
    "\n"
   ]
  },
  {
   "cell_type": "code",
   "execution_count": 0,
   "metadata": {
    "application/vnd.databricks.v1+cell": {
     "cellMetadata": {},
     "inputWidgets": {},
     "nuid": "64cfa327-892c-4824-8674-f4dfae176cf5",
     "showTitle": false,
     "title": ""
    }
   },
   "outputs": [],
   "source": [
    "ca = prince.CA(\n",
    "    n_components=2,\n",
    "    n_iter=5,\n",
    "    copy=True,\n",
    "    check_input=True,\n",
    "    engine='auto',\n",
    "    random_state=42)"
   ]
  },
  {
   "cell_type": "code",
   "execution_count": 0,
   "metadata": {
    "application/vnd.databricks.v1+cell": {
     "cellMetadata": {},
     "inputWidgets": {},
     "nuid": "fb687814-5519-433e-9bf3-c8f8d95129a2",
     "showTitle": false,
     "title": ""
    }
   },
   "outputs": [],
   "source": [
    "X.columns.rename('Hair color', inplace=True)\n",
    "X.index.rename('Eye color', inplace=True)\n",
    "X"
   ]
  },
  {
   "cell_type": "code",
   "execution_count": 0,
   "metadata": {
    "application/vnd.databricks.v1+cell": {
     "cellMetadata": {},
     "inputWidgets": {},
     "nuid": "08e9532f-8426-4634-a4c5-90c640fb7b5b",
     "showTitle": false,
     "title": ""
    }
   },
   "outputs": [],
   "source": [
    "ca = ca.fit(X)"
   ]
  },
  {
   "cell_type": "code",
   "execution_count": 0,
   "metadata": {
    "application/vnd.databricks.v1+cell": {
     "cellMetadata": {},
     "inputWidgets": {},
     "nuid": "fe734729-c96a-42d1-ae37-e6530578b94e",
     "showTitle": false,
     "title": ""
    }
   },
   "outputs": [],
   "source": [
    "ca.row_coordinates(X)"
   ]
  },
  {
   "cell_type": "code",
   "execution_count": 0,
   "metadata": {
    "application/vnd.databricks.v1+cell": {
     "cellMetadata": {},
     "inputWidgets": {},
     "nuid": "fd56da94-9048-43b8-8bcc-3563038376a6",
     "showTitle": false,
     "title": ""
    }
   },
   "outputs": [],
   "source": [
    "ca.column_coordinates(X)"
   ]
  },
  {
   "cell_type": "markdown",
   "metadata": {
    "application/vnd.databricks.v1+cell": {
     "cellMetadata": {},
     "inputWidgets": {},
     "nuid": "8c8db0d6-98bf-48b2-8fab-9d2b4775d245",
     "showTitle": false,
     "title": ""
    }
   },
   "source": [
    "Puede trazar ambos conjuntos de coordenadas principales con el método plot_coordinates."
   ]
  },
  {
   "cell_type": "code",
   "execution_count": 0,
   "metadata": {
    "application/vnd.databricks.v1+cell": {
     "cellMetadata": {},
     "inputWidgets": {},
     "nuid": "e4f1b5be-5764-41ec-bf93-5511a69d4708",
     "showTitle": false,
     "title": ""
    }
   },
   "outputs": [],
   "source": [
    "ax = ca.plot_coordinates(\n",
    "    X=X,\n",
    "    ax=None,\n",
    "    figsize=(6, 6),\n",
    "    x_component=0,\n",
    "    y_component=1,\n",
    "    show_row_labels=True,\n",
    "    show_col_labels=True)"
   ]
  },
  {
   "cell_type": "code",
   "execution_count": 0,
   "metadata": {
    "application/vnd.databricks.v1+cell": {
     "cellMetadata": {},
     "inputWidgets": {},
     "nuid": "27b2bcb5-cd5f-4546-9a74-4b76fa09baab",
     "showTitle": false,
     "title": ""
    }
   },
   "outputs": [],
   "source": [
    "ca.eigenvalues_ "
   ]
  },
  {
   "cell_type": "code",
   "execution_count": 0,
   "metadata": {
    "application/vnd.databricks.v1+cell": {
     "cellMetadata": {},
     "inputWidgets": {},
     "nuid": "2831d09b-3914-4c84-9c40-38ac901cec07",
     "showTitle": false,
     "title": ""
    }
   },
   "outputs": [],
   "source": [
    "ca.total_inertia_"
   ]
  },
  {
   "cell_type": "code",
   "execution_count": 0,
   "metadata": {
    "application/vnd.databricks.v1+cell": {
     "cellMetadata": {},
     "inputWidgets": {},
     "nuid": "d9899463-10fd-405b-af72-822828c4396a",
     "showTitle": false,
     "title": ""
    }
   },
   "outputs": [],
   "source": [
    "ca.explained_inertia_"
   ]
  },
  {
   "cell_type": "markdown",
   "metadata": {
    "application/vnd.databricks.v1+cell": {
     "cellMetadata": {},
     "inputWidgets": {},
     "nuid": "7243fe1f-dd01-4078-8237-6e3500bcc4d6",
     "showTitle": false,
     "title": ""
    }
   },
   "source": [
    "## Análisis de correspondencias multiples\n",
    "\n",
    "El análisis de correspondencia múltiple (ACM) es una extensión del análisis de correspondencia (AC). Debería utilizarse cuando tenga más de dos variables categóricas. La idea es simplemente calcular los one-hot-vector de un conjunto de datos y aplicar CA en él. Como ejemplo, usaremos el conjunto de datos de [globos](https://archive.ics.uci.edu/ml/machine-learning-databases/balloons/) tomados del sitio web de conjuntos de datos de UCI."
   ]
  },
  {
   "cell_type": "code",
   "execution_count": 0,
   "metadata": {
    "application/vnd.databricks.v1+cell": {
     "cellMetadata": {},
     "inputWidgets": {},
     "nuid": "0530aa87-dc79-434a-b1ac-4d005be9b8c1",
     "showTitle": false,
     "title": ""
    }
   },
   "outputs": [],
   "source": [
    "X = pd.read_csv('https://archive.ics.uci.edu/ml/machine-learning-databases/balloons/adult+stretch.data')\n",
    "X.columns = ['Color', 'Size', 'Action', 'Age', 'Inflated']\n",
    "pd.get_dummies(X)"
   ]
  },
  {
   "cell_type": "code",
   "execution_count": 0,
   "metadata": {
    "application/vnd.databricks.v1+cell": {
     "cellMetadata": {},
     "inputWidgets": {},
     "nuid": "eb9068a7-61db-4ee9-9d3d-da719c6c244f",
     "showTitle": false,
     "title": ""
    }
   },
   "outputs": [],
   "source": [
    "mca = prince.MCA(\n",
    "    n_components=4,\n",
    "    n_iter=3,\n",
    "    copy=True,\n",
    "    check_input=True,\n",
    "    engine='auto',\n",
    "    random_state=42)\n",
    "mca = mca.fit(X)\n"
   ]
  },
  {
   "cell_type": "markdown",
   "metadata": {
    "application/vnd.databricks.v1+cell": {
     "cellMetadata": {},
     "inputWidgets": {},
     "nuid": "cdb611ae-d5c7-4706-8cd9-d20c2aad53cc",
     "showTitle": false,
     "title": ""
    }
   },
   "source": [
    "Usamos nuevamente plot_coordinates"
   ]
  },
  {
   "cell_type": "code",
   "execution_count": 0,
   "metadata": {
    "application/vnd.databricks.v1+cell": {
     "cellMetadata": {},
     "inputWidgets": {},
     "nuid": "a7a4914e-f9e0-44fc-a143-6ac904dacc5e",
     "showTitle": false,
     "title": ""
    }
   },
   "outputs": [],
   "source": [
    "ax = mca.plot_coordinates(\n",
    "    X=X,\n",
    "    ax=None,\n",
    "    x_component=1,\n",
    "    y_component=3,\n",
    "    figsize=(10, 10),\n",
    "    show_row_points=False,\n",
    "    show_row_labels=False,\n",
    "    show_column_points=True,\n",
    "    column_points_size=50,\n",
    "    show_column_labels=True,\n",
    "    legend_n_cols=2)"
   ]
  },
  {
   "cell_type": "code",
   "execution_count": 0,
   "metadata": {
    "application/vnd.databricks.v1+cell": {
     "cellMetadata": {},
     "inputWidgets": {},
     "nuid": "5ed62892-bc6f-41d1-9c24-20bc70e2e828",
     "showTitle": false,
     "title": ""
    }
   },
   "outputs": [],
   "source": [
    "mca.column_coordinates(X)"
   ]
  },
  {
   "cell_type": "markdown",
   "metadata": {
    "application/vnd.databricks.v1+cell": {
     "cellMetadata": {},
     "inputWidgets": {},
     "nuid": "8ce9e9ac-e13f-4d2c-b2a1-b54ca333d66e",
     "showTitle": false,
     "title": ""
    }
   },
   "source": [
    "### Análisis de factores múltiple\n",
    "\n",
    "El análisis de factores múltiples (MFA) está diseñado para usarse cuando tiene grupos de variables. En la práctica, construye un PCA en cada grupo, o un MCA, según los tipos de variables del grupo. Luego, construye un PCA global sobre los resultados de los llamados PCA parciales, o MCA.\n",
    "\n",
    "El conjunto de datos utilizado en los siguientes ejemplos proviene de este [documento](https://www.utdallas.edu/%7Eherve/Abdi-MFA2007-pretty.pdf). En el conjunto de datos, tres expertos dan su opinión sobre seis vinos diferentes. Cada opinión para cada vino se registra como una variable. Por lo tanto, queremos considerar las opiniones separadas de cada experto y al mismo tiempo tener una visión global de cada vino. MFA es el método perfecto para este tipo de situación.\n",
    "\n",
    "Primero que nada, copiemos los datos usados en el documento."
   ]
  },
  {
   "cell_type": "code",
   "execution_count": 0,
   "metadata": {
    "application/vnd.databricks.v1+cell": {
     "cellMetadata": {},
     "inputWidgets": {},
     "nuid": "c5385873-0728-4820-84a1-99c6d9fffcb8",
     "showTitle": false,
     "title": ""
    }
   },
   "outputs": [],
   "source": [
    "X = pd.DataFrame(\n",
    "    data=[\n",
    "        [1, 6, 7, 2, 5, 7, 6, 3, 6, 7],\n",
    "        [5, 3, 2, 4, 4, 4, 2, 4, 4, 3],\n",
    "        [6, 1, 1, 5, 2, 1, 1, 7, 1, 1],\n",
    "        [7, 1, 2, 7, 2, 1, 2, 2, 2, 2],\n",
    "        [2, 5, 4, 3, 5, 6, 5, 2, 6, 6],\n",
    "        [3, 4, 4, 3, 5, 4, 5, 1, 7, 5]],\n",
    "    columns=['E1 fruity', 'E1 woody', 'E1 coffee',\n",
    "             'E2 red fruit', 'E2 roasted', 'E2 vanillin', 'E2 woody',\n",
    "             'E3 fruity', 'E3 butter', 'E3 woody'],\n",
    "    index=['Wine {}'.format(i+1) for i in range(6)])\n",
    "X['Oak type'] = [1, 2, 2, 2, 1, 1]\n",
    "X"
   ]
  },
  {
   "cell_type": "markdown",
   "metadata": {
    "application/vnd.databricks.v1+cell": {
     "cellMetadata": {},
     "inputWidgets": {},
     "nuid": "8186a8af-c7e2-417b-8ed2-0db5c060557d",
     "showTitle": false,
     "title": ""
    }
   },
   "source": [
    "Los grupos se pasan como un diccionario a la clase MFA."
   ]
  },
  {
   "cell_type": "code",
   "execution_count": 0,
   "metadata": {
    "application/vnd.databricks.v1+cell": {
     "cellMetadata": {},
     "inputWidgets": {},
     "nuid": "46da383c-9900-40a4-bbe9-313bf2705a49",
     "showTitle": false,
     "title": ""
    }
   },
   "outputs": [],
   "source": [
    "groups = {\n",
    "   'Expert #{}'.format(no+1): [c for c in X.columns if c.startswith('E{}'.format(no+1))]\n",
    "   for no in range(3)\n",
    "}\n",
    "print(groups)"
   ]
  },
  {
   "cell_type": "markdown",
   "metadata": {
    "application/vnd.databricks.v1+cell": {
     "cellMetadata": {},
     "inputWidgets": {},
     "nuid": "1c32c26c-1fbd-4872-803f-3d50ee355bc0",
     "showTitle": false,
     "title": ""
    }
   },
   "source": [
    "Ajustamos un MFA"
   ]
  },
  {
   "cell_type": "code",
   "execution_count": 0,
   "metadata": {
    "application/vnd.databricks.v1+cell": {
     "cellMetadata": {},
     "inputWidgets": {},
     "nuid": "7806bd95-bc5e-4ec3-9787-7c5839c07ad4",
     "showTitle": false,
     "title": ""
    }
   },
   "outputs": [],
   "source": [
    "mfa = prince.MFA(\n",
    "    groups=groups,\n",
    "    n_components=2,\n",
    "    n_iter=3,\n",
    "    copy=True,\n",
    "    check_input=True,\n",
    "    random_state=42)\n",
    "mfa = mfa.fit(X)\n"
   ]
  },
  {
   "cell_type": "markdown",
   "metadata": {
    "application/vnd.databricks.v1+cell": {
     "cellMetadata": {},
     "inputWidgets": {},
     "nuid": "76ed3f4c-36fa-4260-95c6-819b6d131d4c",
     "showTitle": false,
     "title": ""
    }
   },
   "source": [
    "El MFA hereda de la clase PCA, lo que implica que tiene acceso a todos sus métodos y propiedades. El método row_coordinates devolverá las coordenadas globales de cada vino."
   ]
  },
  {
   "cell_type": "code",
   "execution_count": 0,
   "metadata": {
    "application/vnd.databricks.v1+cell": {
     "cellMetadata": {},
     "inputWidgets": {},
     "nuid": "cf7576de-e833-4fcf-9d46-59ae3ffd731c",
     "showTitle": false,
     "title": ""
    }
   },
   "outputs": [],
   "source": [
    "mfa.row_coordinates(X)"
   ]
  },
  {
   "cell_type": "markdown",
   "metadata": {
    "application/vnd.databricks.v1+cell": {
     "cellMetadata": {},
     "inputWidgets": {},
     "nuid": "fac33d7a-6c17-4793-98e2-18cd5569294c",
     "showTitle": false,
     "title": ""
    }
   },
   "source": [
    "Al igual que para el PCA, puede trazar las coordenadas de la fila con el comando plot_row_coordinates."
   ]
  },
  {
   "cell_type": "code",
   "execution_count": 0,
   "metadata": {
    "application/vnd.databricks.v1+cell": {
     "cellMetadata": {},
     "inputWidgets": {},
     "nuid": "b7665164-ec68-4c41-b9c2-be4dad9d1940",
     "showTitle": false,
     "title": ""
    }
   },
   "outputs": [],
   "source": [
    "ax = mfa.plot_row_coordinates(\n",
    "    X,\n",
    "    ax=None,\n",
    "    figsize=(6, 6),\n",
    "    x_component=0,\n",
    "    y_component=1,\n",
    "    labels=X.index,\n",
    "    color_labels=['Oak type {}'.format(t) for t in X['Oak type']],\n",
    "    ellipse_outline=False,\n",
    "    ellipse_fill=True,\n",
    "    show_points=True)"
   ]
  },
  {
   "cell_type": "markdown",
   "metadata": {
    "application/vnd.databricks.v1+cell": {
     "cellMetadata": {},
     "inputWidgets": {},
     "nuid": "00cf04ed-9468-4938-a62f-a881ba84443e",
     "showTitle": false,
     "title": ""
    }
   },
   "source": [
    "También puede obtener las coordenadas de las filas dentro de cada grupo. El método parcial_row_coordinates devuelve un pandas.DataFrame donde el conjunto de columnas es un pandas.MultiIndex. El primer nivel de indexación corresponde a cada grupo especificado, mientras que el nivel anidado indica las coordenadas dentro de cada grupo."
   ]
  },
  {
   "cell_type": "code",
   "execution_count": 0,
   "metadata": {
    "application/vnd.databricks.v1+cell": {
     "cellMetadata": {},
     "inputWidgets": {},
     "nuid": "ec691f88-ff7d-400c-ad11-2347706830de",
     "showTitle": false,
     "title": ""
    }
   },
   "outputs": [],
   "source": [
    "mfa.partial_row_coordinates(X)"
   ]
  },
  {
   "cell_type": "markdown",
   "metadata": {
    "application/vnd.databricks.v1+cell": {
     "cellMetadata": {},
     "inputWidgets": {},
     "nuid": "36bb2651-bd13-4a97-854d-7c5f9123095e",
     "showTitle": false,
     "title": ""
    }
   },
   "source": [
    "plot_partial_row_coordinates permite visualizar la opinion de cada experto"
   ]
  },
  {
   "cell_type": "code",
   "execution_count": 0,
   "metadata": {
    "application/vnd.databricks.v1+cell": {
     "cellMetadata": {},
     "inputWidgets": {},
     "nuid": "e859660b-30f8-4c92-af56-a665db441035",
     "showTitle": false,
     "title": ""
    }
   },
   "outputs": [],
   "source": [
    "?mfa.plot_partial_row_coordinates"
   ]
  },
  {
   "cell_type": "code",
   "execution_count": 0,
   "metadata": {
    "application/vnd.databricks.v1+cell": {
     "cellMetadata": {},
     "inputWidgets": {},
     "nuid": "9bc3f816-262e-4007-951a-e44e1c336fb5",
     "showTitle": false,
     "title": ""
    }
   },
   "outputs": [],
   "source": [
    "ax = mfa.plot_partial_row_coordinates(\n",
    "    X,\n",
    "    ax=None,\n",
    "    figsize=(6, 6),\n",
    "    x_component=0,\n",
    "    y_component=1,\n",
    "    color_labels=['Oak type {}'.format(t) for t in X['Oak type']])"
   ]
  },
  {
   "cell_type": "code",
   "execution_count": 0,
   "metadata": {
    "application/vnd.databricks.v1+cell": {
     "cellMetadata": {},
     "inputWidgets": {},
     "nuid": "b86e544f-a46e-4555-bf88-4f88bb5b4a43",
     "showTitle": false,
     "title": ""
    }
   },
   "outputs": [],
   "source": [
    "mfa.partial_row_coordinates(X)"
   ]
  },
  {
   "cell_type": "code",
   "execution_count": 0,
   "metadata": {
    "application/vnd.databricks.v1+cell": {
     "cellMetadata": {},
     "inputWidgets": {},
     "nuid": "084b21e1-2f58-4de8-ac48-6a7e1e00eea1",
     "showTitle": false,
     "title": ""
    }
   },
   "outputs": [],
   "source": [
    "mfa.eigenvalues_"
   ]
  },
  {
   "cell_type": "code",
   "execution_count": 0,
   "metadata": {
    "application/vnd.databricks.v1+cell": {
     "cellMetadata": {},
     "inputWidgets": {},
     "nuid": "965c282a-7ed0-484a-ad79-d273bd60ba08",
     "showTitle": false,
     "title": ""
    }
   },
   "outputs": [],
   "source": [
    "mfa.total_inertia_"
   ]
  },
  {
   "cell_type": "code",
   "execution_count": 0,
   "metadata": {
    "application/vnd.databricks.v1+cell": {
     "cellMetadata": {},
     "inputWidgets": {},
     "nuid": "236ffbee-2d3f-4622-a86c-868f37ff7de1",
     "showTitle": false,
     "title": ""
    }
   },
   "outputs": [],
   "source": [
    "mfa.explained_inertia_"
   ]
  },
  {
   "cell_type": "code",
   "execution_count": 0,
   "metadata": {
    "application/vnd.databricks.v1+cell": {
     "cellMetadata": {},
     "inputWidgets": {},
     "nuid": "ce155e25-a771-41c8-a5b3-4266dd9b6ced",
     "showTitle": false,
     "title": ""
    }
   },
   "outputs": [],
   "source": [
    "for name, fa in sorted(mfa.partial_factor_analysis_.items()): \n",
    "    print('{} inertia: {}'.format(name, fa.explained_inertia_))"
   ]
  }
 ],
 "metadata": {
  "application/vnd.databricks.v1+notebook": {
   "dashboards": [],
   "language": "python",
   "notebookMetadata": {},
   "notebookName": "Prince",
   "widgets": {}
  },
  "kernelspec": {
   "display_name": "Python 3",
   "language": "python",
   "name": "python3"
  },
  "language_info": {
   "codemirror_mode": {
    "name": "ipython",
    "version": 3
   },
   "file_extension": ".py",
   "mimetype": "text/x-python",
   "name": "python",
   "nbconvert_exporter": "python",
   "pygments_lexer": "ipython3",
   "version": "3.8.8"
  }
 },
 "nbformat": 4,
 "nbformat_minor": 0
}
