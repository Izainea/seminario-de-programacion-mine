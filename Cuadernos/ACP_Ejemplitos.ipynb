{
 "cells": [
  {
   "cell_type": "markdown",
   "metadata": {},
   "source": [
    "<div style=\"padding: -5px;\n",
    "  text-align: center;\n",
    "  color: white;\n",
    "  font-size: 15px;\">\n",
    "   <img src=\"images/banner.jpg\" alt=\"MINE-Seminario de programación\" style=\"width:100%;\">\n",
    "  <h1 style=\"\n",
    "  position: absolute;\n",
    "  top: 5%;\n",
    "  left: 50%;\">Más ejemplos ACP</h1>\n",
    "</div>"
   ]
  },
  {
   "cell_type": "markdown",
   "metadata": {
    "colab_type": "text",
    "id": "kiGshKKAiCn5"
   },
   "source": [
    "**EJEMPLO 1** \n",
    "\n",
    "Iniciaremos con un ejercicio sencillo para una base de dos variables. Simularemos datos:\n"
   ]
  },
  {
   "cell_type": "code",
   "execution_count": null,
   "metadata": {},
   "outputs": [],
   "source": [
    "pip install scikit-learn"
   ]
  },
  {
   "cell_type": "code",
   "execution_count": null,
   "metadata": {
    "colab": {},
    "colab_type": "code",
    "id": "k1wFshrmh0_f"
   },
   "outputs": [],
   "source": [
    "import numpy as np\n",
    "import pandas as pd\n",
    "\n",
    "from sklearn.decomposition import PCA\n",
    "from sklearn.preprocessing import StandardScaler\n"
   ]
  },
  {
   "cell_type": "code",
   "execution_count": null,
   "metadata": {
    "colab": {},
    "colab_type": "code",
    "id": "aGc90luSieC9"
   },
   "outputs": [],
   "source": [
    "x=100*np.random.random_sample(50)"
   ]
  },
  {
   "cell_type": "code",
   "execution_count": null,
   "metadata": {},
   "outputs": [],
   "source": [
    "x"
   ]
  },
  {
   "cell_type": "code",
   "execution_count": null,
   "metadata": {
    "colab": {},
    "colab_type": "code",
    "id": "vLrPNVXSizJ2"
   },
   "outputs": [],
   "source": [
    "y=-2*x+200 +30*np.random.random_sample(50)"
   ]
  },
  {
   "cell_type": "code",
   "execution_count": null,
   "metadata": {},
   "outputs": [],
   "source": [
    "x1=np.arange(0,100,0.1)"
   ]
  },
  {
   "cell_type": "code",
   "execution_count": null,
   "metadata": {},
   "outputs": [],
   "source": [
    "y1=-2*x1+200"
   ]
  },
  {
   "cell_type": "code",
   "execution_count": null,
   "metadata": {
    "colab": {},
    "colab_type": "code",
    "id": "wWCI2uvOjB_v"
   },
   "outputs": [],
   "source": [
    "import matplotlib.pyplot as plt"
   ]
  },
  {
   "cell_type": "code",
   "execution_count": null,
   "metadata": {
    "colab": {
     "base_uri": "https://localhost:8080/",
     "height": 295
    },
    "colab_type": "code",
    "id": "eoF5wRjYjKS9",
    "outputId": "534671e0-2a0f-4b4c-c846-afa8f9b94c5b"
   },
   "outputs": [],
   "source": [
    "plt.scatter(x, y, s=10, c='red', alpha=0.5)\n",
    "plt.plot(x1,y1)\n",
    "plt.title('Ejercicio 1')\n",
    "plt.xlabel('x')\n",
    "plt.ylabel('y')\n",
    "plt.show()\n"
   ]
  },
  {
   "cell_type": "code",
   "execution_count": null,
   "metadata": {
    "colab": {
     "base_uri": "https://localhost:8080/",
     "height": 295
    },
    "colab_type": "code",
    "id": "LRAKFj-cjPWl",
    "outputId": "6387b117-dcab-49d9-ebcb-5622f2dc8c5f"
   },
   "outputs": [],
   "source": [
    "DF=pd.DataFrame(np.transpose(np.array([x,y])),columns=['x','y'])\n",
    "DF.describe()"
   ]
  },
  {
   "cell_type": "code",
   "execution_count": null,
   "metadata": {
    "colab": {
     "base_uri": "https://localhost:8080/",
     "height": 86
    },
    "colab_type": "code",
    "id": "SfLom_p3kRNJ",
    "outputId": "d1483e9d-8ca1-42a2-ea05-286acf3707b6"
   },
   "outputs": [],
   "source": [
    "scaler = StandardScaler()\n",
    "DFT = scaler.fit_transform(DF)\n",
    "[DFT[:,0].mean(),DFT[:,1].mean(),DFT[:,0].std(),DFT[:,1].std()]"
   ]
  },
  {
   "cell_type": "code",
   "execution_count": null,
   "metadata": {},
   "outputs": [],
   "source": [
    "pd.DataFrame(data=DFT,columns=['x_std','y_std']).describe()"
   ]
  },
  {
   "cell_type": "code",
   "execution_count": null,
   "metadata": {},
   "outputs": [],
   "source": [
    "DFT"
   ]
  },
  {
   "cell_type": "code",
   "execution_count": null,
   "metadata": {},
   "outputs": [],
   "source": [
    "plt.scatter(DFT.T[0],DFT.T[1])"
   ]
  },
  {
   "cell_type": "code",
   "execution_count": null,
   "metadata": {
    "colab": {
     "base_uri": "https://localhost:8080/",
     "height": 295
    },
    "colab_type": "code",
    "id": "MNhjVhwKkass",
    "outputId": "a6822e6f-397b-4b16-d5de-233c6392aa9a"
   },
   "outputs": [],
   "source": [
    "pca = PCA(n_components=2)\n",
    "principal_components = pca.fit_transform(DFT)\n",
    "DFPC = pd.DataFrame(data = principal_components, columns = ['PC1', 'PC2'])\n",
    "DFPC['3']=0\n",
    "DFPC"
   ]
  },
  {
   "cell_type": "code",
   "execution_count": null,
   "metadata": {},
   "outputs": [],
   "source": [
    "DFPC.values.T[0]"
   ]
  },
  {
   "cell_type": "code",
   "execution_count": null,
   "metadata": {},
   "outputs": [],
   "source": [
    "plt.scatter(DFPC.values.T[0],DFPC.values.T[1])\n",
    "plt.axis('equal')"
   ]
  },
  {
   "cell_type": "code",
   "execution_count": null,
   "metadata": {},
   "outputs": [],
   "source": [
    "plt.scatter(DFPC.values.T[0],DFPC.values.T[2])\n",
    "plt.axis('equal')"
   ]
  },
  {
   "cell_type": "code",
   "execution_count": null,
   "metadata": {
    "colab": {
     "base_uri": "https://localhost:8080/",
     "height": 34
    },
    "colab_type": "code",
    "id": "n-IffBWew1L0",
    "outputId": "05635db2-4237-44a9-aad7-96fb36cace31"
   },
   "outputs": [],
   "source": [
    "per_var = np.round(pca.explained_variance_ratio_ * 100, decimals=1)\n",
    "per_var"
   ]
  },
  {
   "cell_type": "code",
   "execution_count": null,
   "metadata": {
    "colab": {
     "base_uri": "https://localhost:8080/",
     "height": 51
    },
    "colab_type": "code",
    "id": "D90zYQFSxESl",
    "outputId": "59ef28ff-79d4-4871-e9ba-d74f8498e77f"
   },
   "outputs": [],
   "source": [
    "COV=np.cov(np.transpose(DFT))\n",
    "COV"
   ]
  },
  {
   "cell_type": "code",
   "execution_count": null,
   "metadata": {
    "colab": {
     "base_uri": "https://localhost:8080/",
     "height": 51
    },
    "colab_type": "code",
    "id": "Rz1CMmtlxsVe",
    "outputId": "675de7fa-e522-46b1-ec2d-f176de49e2da"
   },
   "outputs": [],
   "source": [
    "np.linalg.eig(COV)"
   ]
  },
  {
   "cell_type": "code",
   "execution_count": null,
   "metadata": {
    "colab": {},
    "colab_type": "code",
    "id": "GeD-GtNPzOeK"
   },
   "outputs": [],
   "source": [
    "def draw_vector(v0, v1, ax=None):\n",
    "    ax = ax or plt.gca()\n",
    "    arrowprops=dict(arrowstyle='->',\n",
    "                    linewidth=2,\n",
    "                    shrinkA=0, shrinkB=0)\n",
    "    ax.annotate('', v1, v0, arrowprops=arrowprops)"
   ]
  },
  {
   "cell_type": "code",
   "execution_count": null,
   "metadata": {
    "colab": {
     "base_uri": "https://localhost:8080/",
     "height": 334
    },
    "colab_type": "code",
    "id": "It04dx4_zfTx",
    "outputId": "73463d64-48cd-4ed7-ae4b-7e272164a919"
   },
   "outputs": [],
   "source": [
    "plt.scatter(DFT[:,0],DFT[:,1], alpha=0.5)\n",
    "L2=[2,0.3]\n",
    "i=0\n",
    "for length, vector in zip(pca.explained_variance_, pca.components_):\n",
    "  print(vector)\n",
    "  print(length)\n",
    "  v = vector*L2[i]\n",
    "  i=+1\n",
    "  draw_vector(pca.mean_, pca.mean_ + v)\n",
    "plt.axis('equal')\n",
    "plt.show()"
   ]
  },
  {
   "cell_type": "code",
   "execution_count": null,
   "metadata": {
    "colab": {
     "base_uri": "https://localhost:8080/",
     "height": 334
    },
    "colab_type": "code",
    "id": "V1KhZunCYg9v",
    "outputId": "d3ac8342-7215-40a0-f0e0-e4f2e0ba296d"
   },
   "outputs": [],
   "source": [
    "DFPC.values\n",
    "plt.scatter(DFPC.values[:,0],DFPC.values[:,1], alpha=0.5)\n",
    "plt.axis(\"equal\")"
   ]
  },
  {
   "cell_type": "markdown",
   "metadata": {
    "colab_type": "text",
    "id": "J0g2YbLR46Lt"
   },
   "source": [
    "**EJEMPLO 2** \n",
    "\n",
    "Volvamos con IRIS"
   ]
  },
  {
   "cell_type": "code",
   "execution_count": null,
   "metadata": {
    "colab": {
     "base_uri": "https://localhost:8080/",
     "height": 291
    },
    "colab_type": "code",
    "id": "ChqP5FFizj-J",
    "outputId": "47da4907-a633-4661-e569-16cfb10ba4ff"
   },
   "outputs": [],
   "source": [
    "from sklearn import datasets\n",
    "\n",
    "iris = datasets.load_iris()\n",
    "X = iris.data\n",
    "y = iris.target\n",
    "#In general a good idea is to scale the data\n",
    "scaler = StandardScaler()\n",
    "scaler.fit(X)\n",
    "X=scaler.transform(X)    \n",
    "\n",
    "pca = PCA()\n",
    "x_new = pca.fit_transform(X)\n",
    "columnasiris=[\"sepal length\",\t\"sepal width\",\t\"petal length\",\t\"petal width\"]\n",
    "def biplot(score,coeff,labels=None):\n",
    "    xs = score[:,0]\n",
    "    ys = score[:,1]\n",
    "    n = coeff.shape[0]\n",
    "    scalex = 1.0/(xs.max() - xs.min())\n",
    "    scaley = 1.0/(ys.max() - ys.min())\n",
    "    plt.scatter(xs * scalex,ys * scaley, c = y)\n",
    "    for i in range(n):\n",
    "        plt.arrow(0, 0, coeff[i,0], coeff[i,1],color = 'r',alpha = 0.5)\n",
    "        if labels is None:\n",
    "            plt.text(coeff[i,0]* 1.15, coeff[i,1] * 1.15, columnasiris[i], color = 'g', ha = 'center', va = 'center')\n",
    "        else:\n",
    "            plt.text(coeff[i,0]* 1.15, coeff[i,1] * 1.15, labels[i], color = 'g', ha = 'center', va = 'center')\n",
    "plt.xlim(-1,1)\n",
    "plt.ylim(-1,1)\n",
    "plt.xlabel(\"PC{}\".format(1))\n",
    "plt.ylabel(\"PC{}\".format(2))\n",
    "plt.grid()\n",
    "\n",
    "#Call the function. Use only the 2 PCs.\n",
    "biplot(x_new[:,0:2],np.transpose(pca.components_[0:2, :]))\n",
    "plt.show()"
   ]
  },
  {
   "cell_type": "code",
   "execution_count": null,
   "metadata": {
    "colab": {
     "base_uri": "https://localhost:8080/",
     "height": 84
    },
    "colab_type": "code",
    "id": "a5jviLUg4oKT",
    "outputId": "50c2432a-fecf-4fb3-abce-35703b932450"
   },
   "outputs": [],
   "source": [
    "np.transpose(pca.components_[0:2, :])"
   ]
  }
 ],
 "metadata": {
  "colab": {
   "name": "ACP_Ejemplitos.ipynb",
   "provenance": []
  },
  "kernelspec": {
   "display_name": "Python 3",
   "language": "python",
   "name": "python3"
  },
  "language_info": {
   "codemirror_mode": {
    "name": "ipython",
    "version": 3
   },
   "file_extension": ".py",
   "mimetype": "text/x-python",
   "name": "python",
   "nbconvert_exporter": "python",
   "pygments_lexer": "ipython3",
   "version": "3.8.8"
  },
  "toc": {
   "base_numbering": 1,
   "nav_menu": {},
   "number_sections": false,
   "sideBar": true,
   "skip_h1_title": false,
   "title_cell": "Table of Contents",
   "title_sidebar": "Contents",
   "toc_cell": false,
   "toc_position": {},
   "toc_section_display": true,
   "toc_window_display": false
  }
 },
 "nbformat": 4,
 "nbformat_minor": 4
}
