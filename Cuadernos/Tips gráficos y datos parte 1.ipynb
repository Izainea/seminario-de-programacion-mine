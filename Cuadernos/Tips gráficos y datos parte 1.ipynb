{
 "cells": [
  {
   "cell_type": "markdown",
   "metadata": {
    "application/vnd.databricks.v1+cell": {
     "cellMetadata": {},
     "inputWidgets": {},
     "nuid": "f2095a1b-2d93-4f04-9a48-5424706c5437",
     "showTitle": false,
     "title": ""
    }
   },
   "source": [
    "# Herramientas de visualización - Algunos consejos útiles\n",
    "\n",
    "En este cuaderno hacemos una exploración por los diversos tipos de gráficos que tenemos a nuestra disposición. Evaluaremos diferentes situaciones y daremos algunos consejos de el tipo de gráfico que mejor se ajuste a los datos analizados. No vamos a establecer unas reglas, en muchas de estas situaciones se apremia la creatividad de la persona que conoce la información, sin embargo, estos tips suelen destrabar ese espiritu creativo."
   ]
  },
  {
   "cell_type": "code",
   "execution_count": 0,
   "metadata": {
    "application/vnd.databricks.v1+cell": {
     "cellMetadata": {},
     "inputWidgets": {},
     "nuid": "858d8179-dacf-43d4-bf66-c5baeee1f96a",
     "showTitle": false,
     "title": ""
    }
   },
   "outputs": [],
   "source": [
    "import numpy as np\n",
    "import pandas as pd\n",
    "#import dataprep.eda as dp\n",
    "import matplotlib.pyplot as plt\n",
    "import seaborn as sns\n",
    "import scipy.stats as ss\n",
    "import plotly.express as px\n",
    "import plotly.graph_objects as go\n",
    "from ipywidgets import interact, Layout\n",
    "import ipywidgets as widgets"
   ]
  },
  {
   "cell_type": "markdown",
   "metadata": {
    "application/vnd.databricks.v1+cell": {
     "cellMetadata": {},
     "inputWidgets": {},
     "nuid": "caf1e87e-826e-44f2-bddb-295c4b505fb2",
     "showTitle": false,
     "title": ""
    }
   },
   "source": [
    "## (Caso 1) AIRBNB en Bogotá\n",
    "\n",
    "Exploraremos una base de datos referente a la actividad de alojamientos ARBNB en Bogotá en el año 2018. No será una evaluación exhaustiva de la base dado que nuestro interés es establecer consejos útiles para situaciones determinadas, sin embargo, cuando terminems aquí lo invitamos a continuar en esta tarea para extraer la mayor cantidad de información. Usaremos solo tres variables de la base original que puede ser consultada en [datosabiertosbogota](https://datosabiertos.bogota.gov.co/dataset/barrios_airbnb-bogota-2015-2019-mensual)"
   ]
  },
  {
   "cell_type": "markdown",
   "metadata": {
    "application/vnd.databricks.v1+cell": {
     "cellMetadata": {},
     "inputWidgets": {},
     "nuid": "2016c03b-df61-4537-8f21-df1c53bc1a9d",
     "showTitle": false,
     "title": ""
    }
   },
   "source": [
    "### Diccionario de la base\n",
    "\n",
    "Ingreso_Hab_Dia (S)\tSuma por Sector Catastral (Barrio), de los ingresos diarios por habitación (en dólares estadounidenses)  \n",
    "\n",
    "ADR_USD(P)\tTarifa diaria promedio (ADR) de noches reservadas en USD. ADR = Ingresos totales / Noches reservadas\n",
    "\n",
    "Public_Noct_USD(P)\tPromedio de la tarifa nocturna predeterminada para una lista de alquileres de vacaciones en dólares estadounidenses\n",
    "\n",
    "Fotos(P)\tNúmero promedio de fotos publicadas por Sector Catastral (Barrio)\n",
    "\n",
    "Mascotas(M)\t(Moda estadística) del permiso o no de ingreso de animales de compañía\n",
    "\n"
   ]
  },
  {
   "cell_type": "markdown",
   "metadata": {
    "application/vnd.databricks.v1+cell": {
     "cellMetadata": {},
     "inputWidgets": {},
     "nuid": "b04d7919-fe29-4d15-bdfb-5e564fabf3b9",
     "showTitle": false,
     "title": ""
    }
   },
   "source": [
    "Cargamos la base de datos:"
   ]
  },
  {
   "cell_type": "code",
   "execution_count": 0,
   "metadata": {
    "application/vnd.databricks.v1+cell": {
     "cellMetadata": {},
     "inputWidgets": {},
     "nuid": "f2df81c7-09a5-45e0-8dab-b223dddf8473",
     "showTitle": false,
     "title": ""
    }
   },
   "outputs": [],
   "source": [
    "DF=pd.read_csv('https://raw.githubusercontent.com/madcentral/visualizacion/master/files/airbnb2018.csv')"
   ]
  },
  {
   "cell_type": "markdown",
   "metadata": {
    "application/vnd.databricks.v1+cell": {
     "cellMetadata": {},
     "inputWidgets": {},
     "nuid": "2930abe6-92cd-4e82-b222-fdfcb88bb0b7",
     "showTitle": false,
     "title": ""
    }
   },
   "source": [
    "Usaremos `dataprep` para una primera vista, no vamos a terminar el proceso de exploración con esta línea, no obstante, vale la pena revisar diferentes aspectos de las variablesque analizaremos."
   ]
  },
  {
   "cell_type": "code",
   "execution_count": 0,
   "metadata": {
    "application/vnd.databricks.v1+cell": {
     "cellMetadata": {},
     "inputWidgets": {},
     "nuid": "fa4a6677-68aa-4549-a537-881994c5eacf",
     "showTitle": false,
     "title": ""
    }
   },
   "outputs": [],
   "source": [
    "DF.describe(include='all')"
   ]
  },
  {
   "cell_type": "markdown",
   "metadata": {
    "application/vnd.databricks.v1+cell": {
     "cellMetadata": {},
     "inputWidgets": {},
     "nuid": "d1fd6357-ee4c-490b-9c2b-b5d59bb22050",
     "showTitle": false,
     "title": ""
    }
   },
   "source": [
    "Empezaremos analizando la variable `ADR_USD` que mide la tarifa diaria promedio (ADR) de noches reservadas en USD. \n",
    "\n",
    "$$ ADR = \\cfrac{\\text{Ingresos totales}}{\\text{Noches reservadas}} $$\n",
    "\n",
    "## Histograma\n",
    "\n",
    "La forma más común de representar una única variable numérica es con un histograma. Nos permite comprender su distribución, desde un punto de vista discreto.\n",
    "\n",
    "Cambiar el tamaño de los contenedores (bins), puede generar diferentes observaciones. No muestre la distribución de más de 5 variables. En su lugar, utilice un diagrama de violín o cresta (ridgeline). Evite llenar con paletas de colores."
   ]
  },
  {
   "cell_type": "code",
   "execution_count": 0,
   "metadata": {
    "application/vnd.databricks.v1+cell": {
     "cellMetadata": {},
     "inputWidgets": {},
     "nuid": "8d056c2d-0863-4c98-8fd5-596f3f60218e",
     "showTitle": false,
     "title": ""
    }
   },
   "outputs": [],
   "source": [
    "fig = px.histogram(DF, x='ADR_USD (P)',nbins=3)\n",
    "fig.show()"
   ]
  },
  {
   "cell_type": "markdown",
   "metadata": {
    "application/vnd.databricks.v1+cell": {
     "cellMetadata": {},
     "inputWidgets": {},
     "nuid": "57d9b494-69af-4739-bd4f-050273e11ea3",
     "showTitle": false,
     "title": ""
    }
   },
   "source": [
    "Juguemos con la cantidad de contenedores:"
   ]
  },
  {
   "cell_type": "code",
   "execution_count": 0,
   "metadata": {
    "application/vnd.databricks.v1+cell": {
     "cellMetadata": {},
     "inputWidgets": {},
     "nuid": "a97782db-d249-4187-b2a5-24c8595af039",
     "showTitle": false,
     "title": ""
    }
   },
   "outputs": [],
   "source": [
    "def histograma_ADR(n):\n",
    "    fig = px.histogram(DF, x='ADR_USD (P)', nbins=n)\n",
    "    fig.show()\n",
    "    return\n",
    "bins=widgets.IntSlider(value=20,\n",
    "                      min=1,\n",
    "                      max=200)\n",
    "\n",
    "interact(histograma_ADR,n=bins)"
   ]
  },
  {
   "cell_type": "markdown",
   "metadata": {
    "application/vnd.databricks.v1+cell": {
     "cellMetadata": {},
     "inputWidgets": {},
     "nuid": "c09183ca-c529-4afc-b071-d343dc36c4d9",
     "showTitle": false,
     "title": ""
    }
   },
   "source": [
    "### Escoger el tamaño de los contenedores\n",
    "\n",
    "El tamaño de los contenedores es un parámetro importante, y el uso del tamaño de contenedor incorrecto puede inducir a error al ocultar características importantes de los datos o al crear características aparentes a partir de la variabilidad aleatoria. De forma predeterminada, los diferentes paquetes gráficos eligen un tamaño de ubicación predeterminado en función de la varianza de los datos y el número de observaciones. Pero no debe depender demasiado de estos enfoques automáticos, ya que dependen de suposiciones particulares sobre la estructura de sus datos. Siempre es aconsejable verificar que sus impresiones de la distribución sean consistentes en diferentes tamaños de contenedores."
   ]
  },
  {
   "cell_type": "markdown",
   "metadata": {
    "application/vnd.databricks.v1+cell": {
     "cellMetadata": {},
     "inputWidgets": {},
     "nuid": "6c190f7e-04ba-4472-90ae-9b7944c4980a",
     "showTitle": false,
     "title": ""
    }
   },
   "source": [
    "## Gráfico de densidad\n",
    "\n",
    "Un histograma tiene como objetivo aproximar la función de densidad de probabilidad subyacente que generó los datos agrupando y contando observaciones. La estimación de la densidad de kernel (KDE) presenta una solución diferente al mismo problema. En lugar de utilizar bins discretos, un gráfico de KDE suaviza las observaciones con un kernel gaussiano, lo que produce una estimación de densidad continua. "
   ]
  },
  {
   "cell_type": "code",
   "execution_count": 0,
   "metadata": {
    "application/vnd.databricks.v1+cell": {
     "cellMetadata": {},
     "inputWidgets": {},
     "nuid": "a6c1d256-b2bf-4ffa-8540-57fae26cc0c9",
     "showTitle": false,
     "title": ""
    }
   },
   "outputs": [],
   "source": [
    "sns.kdeplot(DF['ADR_USD (P)'],shade=True)"
   ]
  },
  {
   "cell_type": "markdown",
   "metadata": {
    "application/vnd.databricks.v1+cell": {
     "cellMetadata": {},
     "inputWidgets": {},
     "nuid": "3f98d4a9-b806-453b-8809-fed5bb5394df",
     "showTitle": false,
     "title": ""
    }
   },
   "source": [
    "combinando con el histograma"
   ]
  },
  {
   "cell_type": "code",
   "execution_count": 0,
   "metadata": {
    "application/vnd.databricks.v1+cell": {
     "cellMetadata": {},
     "inputWidgets": {},
     "nuid": "cd15a85f-6c66-4928-8b89-2d1ef4826175",
     "showTitle": false,
     "title": ""
    }
   },
   "outputs": [],
   "source": [
    "sns.histplot(DF['ADR_USD (P)'],kde=True,color=\"olive\")"
   ]
  },
  {
   "cell_type": "markdown",
   "metadata": {
    "application/vnd.databricks.v1+cell": {
     "cellMetadata": {},
     "inputWidgets": {},
     "nuid": "1cd5452b-8208-479e-b983-a9360415c64d",
     "showTitle": false,
     "title": ""
    }
   },
   "source": [
    "### Elegir el ancho de banda de suavizado\n",
    "Al igual que con el tamaño del contenedor en el histograma, la capacidad de KDE para representar con precisión los datos depende de la elección del ancho de banda de suavizado. Una estimación demasiado suavizada puede borrar características significativas, pero una estimación poco suavizada puede ocultar la forma real dentro del ruido aleatorio. La forma más sencilla de comprobar la solidez de la estimación es ajustar el ancho de banda predeterminado:"
   ]
  },
  {
   "cell_type": "code",
   "execution_count": 0,
   "metadata": {
    "application/vnd.databricks.v1+cell": {
     "cellMetadata": {},
     "inputWidgets": {},
     "nuid": "5c4d7940-f6db-4c8a-9023-14ba3aac3586",
     "showTitle": false,
     "title": ""
    }
   },
   "outputs": [],
   "source": [
    "def kde_ADR(bw):\n",
    "    sns.kdeplot(DF['ADR_USD (P)'],shade=True,bw_method=bw)\n",
    "    return\n",
    "bw=widgets.FloatSlider(value=0.5,\n",
    "                      min=0.001,\n",
    "                       step=0.001,\n",
    "                      max=1)\n",
    "\n",
    "interact(kde_ADR,bw=bw)\n"
   ]
  },
  {
   "cell_type": "code",
   "execution_count": 0,
   "metadata": {
    "application/vnd.databricks.v1+cell": {
     "cellMetadata": {},
     "inputWidgets": {},
     "nuid": "2e4b8027-1241-4f15-bb74-c4b296859a1d",
     "showTitle": false,
     "title": ""
    }
   },
   "outputs": [],
   "source": [
    "#Ancho de banda corto\n",
    "sns.kdeplot(DF['ADR_USD (P)'],shade=True, bw_adjust=.2)"
   ]
  },
  {
   "cell_type": "markdown",
   "metadata": {
    "application/vnd.databricks.v1+cell": {
     "cellMetadata": {},
     "inputWidgets": {},
     "nuid": "cdd8b9fa-eca8-48ba-b801-6523fe856a53",
     "showTitle": false,
     "title": ""
    }
   },
   "source": [
    "## Como se relaciona el Promedio de la tarifa nocturna en la tarifa diaria promedio (ADR) de noches reservadas\n",
    "\n",
    "Vamos ahora a relacionar dos variables, el promedio de la tarifa nocturna con la tarifa diaria promedio (ADR). Claramente el diagrama de dispersión (scatterplot) es el predilecto para este ejercicio, sin embargo, corremos el riesgo de hacer *overplotting* (sobreimpresión) un error que se genera cuado varios puntos caen en una misma locación. Veremos diferentes alternativas para superar este problema. \n"
   ]
  },
  {
   "cell_type": "markdown",
   "metadata": {
    "application/vnd.databricks.v1+cell": {
     "cellMetadata": {},
     "inputWidgets": {},
     "nuid": "66ba6c78-ded3-4682-8665-4ceef5490cdd",
     "showTitle": false,
     "title": ""
    }
   },
   "source": [
    "### Diagrama de dispersión\n",
    "\n",
    "Representa la distribución conjunta de dos variables mediante una nube de puntos, donde cada punto representa una observación en el conjunto de datos. Esta descripción permite al ojo inferir una cantidad sustancial de información sobre si existe alguna relación significativa entre las variables.\n"
   ]
  },
  {
   "cell_type": "code",
   "execution_count": 0,
   "metadata": {
    "application/vnd.databricks.v1+cell": {
     "cellMetadata": {},
     "inputWidgets": {},
     "nuid": "89c19f72-f7ae-4635-b8d1-f52bb32625f5",
     "showTitle": false,
     "title": ""
    }
   },
   "outputs": [],
   "source": [
    "sns.relplot(x=\"ADR_USD (P)\", y=\"Public_Noct_USD (P)\", data=DF)"
   ]
  },
  {
   "cell_type": "markdown",
   "metadata": {
    "application/vnd.databricks.v1+cell": {
     "cellMetadata": {},
     "inputWidgets": {},
     "nuid": "fea86f7c-4282-4598-a25d-0acd0c016d7e",
     "showTitle": false,
     "title": ""
    }
   },
   "source": [
    "Si bien los puntos se representan en dos dimensiones, se puede agregar otra dimensión al gráfico coloreando los puntos según una tercera variable. Utilizaremos la variable Mascotas."
   ]
  },
  {
   "cell_type": "code",
   "execution_count": 0,
   "metadata": {
    "application/vnd.databricks.v1+cell": {
     "cellMetadata": {},
     "inputWidgets": {},
     "nuid": "8a858239-9cad-466f-b703-1901b5665ff2",
     "showTitle": false,
     "title": ""
    }
   },
   "outputs": [],
   "source": [
    "fig = px.scatter(DF, x=\"ADR_USD (P)\", y=\"Public_Noct_USD (P)\", color=\"Mascotas (M)\",hover_data=['Fotos (P)'])\n",
    "fig.update_layout(\n",
    "    autosize=False,\n",
    "    width=600,\n",
    "    height=600,\n",
    "    margin=dict(\n",
    "        l=50,\n",
    "        r=50,\n",
    "        b=100,\n",
    "        t=100,\n",
    "        pad=4\n",
    "    ),\n",
    "    paper_bgcolor=\"White\",\n",
    ")\n",
    "fig.show()"
   ]
  },
  {
   "cell_type": "markdown",
   "metadata": {
    "application/vnd.databricks.v1+cell": {
     "cellMetadata": {},
     "inputWidgets": {},
     "nuid": "f93f639b-ce0f-46b4-a239-6fa241cef5d5",
     "showTitle": false,
     "title": ""
    }
   },
   "source": [
    "### Luchando contra la sobreimpresión\n",
    "\n",
    "### Histograma 2D\n",
    "\n",
    "También conocido como mapa de calor de densidad, es la generalización bidimensional de un histograma que se asemeja a un mapa de calor, pero se calcula agrupando un conjunto de puntos especificados por sus coordenadas x e y en bins y aplicando una función de agregación como count o sum (si se proporciona z) para calcular el color del mosaico que representa el contenedor. Este tipo de visualización (y el contorno del histograma 2D relacionado, o el contorno de densidad) se utiliza a menudo para gestionar la sobreimpresión o situaciones en las que mostrar grandes conjuntos de datos como diagramas de dispersión daría lugar a puntos superpuestos entre sí y ocultando patrones. \n"
   ]
  },
  {
   "cell_type": "code",
   "execution_count": 0,
   "metadata": {
    "application/vnd.databricks.v1+cell": {
     "cellMetadata": {},
     "inputWidgets": {},
     "nuid": "cad226d1-4c16-4462-9ef1-68b2cc5bc4f6",
     "showTitle": false,
     "title": ""
    }
   },
   "outputs": [],
   "source": [
    "## Con seaborn\n",
    "sns.scatterplot(data=DF, x=\"ADR_USD (P)\", y=\"Public_Noct_USD (P)\")\n"
   ]
  },
  {
   "cell_type": "code",
   "execution_count": 0,
   "metadata": {
    "application/vnd.databricks.v1+cell": {
     "cellMetadata": {},
     "inputWidgets": {},
     "nuid": "b198ca31-902c-453b-979b-4d96e9e416a5",
     "showTitle": false,
     "title": ""
    }
   },
   "outputs": [],
   "source": [
    "# con plotly.express\n",
    "fig = px.density_heatmap(DF, x=\"ADR_USD (P)\", y=\"Public_Noct_USD (P)\",)\n",
    "fig.update_layout(\n",
    "    autosize=False,\n",
    "    width=600,\n",
    "    height=600,\n",
    "    margin=dict(\n",
    "        l=50,\n",
    "        r=50,\n",
    "        b=100,\n",
    "        t=100,\n",
    "        pad=4\n",
    "    ),\n",
    "    paper_bgcolor=\"White\",\n",
    ")\n",
    "fig.show()"
   ]
  },
  {
   "cell_type": "markdown",
   "metadata": {
    "application/vnd.databricks.v1+cell": {
     "cellMetadata": {},
     "inputWidgets": {},
     "nuid": "ef32ee9c-52f7-46dd-bcb6-20b82c3ce571",
     "showTitle": false,
     "title": ""
    }
   },
   "source": [
    "Podemos agregar distribuciones marginales: "
   ]
  },
  {
   "cell_type": "code",
   "execution_count": 0,
   "metadata": {
    "application/vnd.databricks.v1+cell": {
     "cellMetadata": {},
     "inputWidgets": {},
     "nuid": "49a12b6d-f88f-4cf3-a2f1-a9db6739e439",
     "showTitle": false,
     "title": ""
    }
   },
   "outputs": [],
   "source": [
    "# con plotly.express\n",
    "fig = px.density_heatmap(DF, x=\"ADR_USD (P)\", y=\"Public_Noct_USD (P)\",marginal_x=\"histogram\", marginal_y=\"box\")\n",
    "fig.update_layout(\n",
    "    autosize=False,\n",
    "    width=600,\n",
    "    height=600,\n",
    "    margin=dict(\n",
    "        l=50,\n",
    "        r=50,\n",
    "        b=100,\n",
    "        t=100,\n",
    "        pad=4\n",
    "    ),\n",
    "    paper_bgcolor=\"White\",\n",
    ")\n",
    "fig.show()"
   ]
  },
  {
   "cell_type": "markdown",
   "metadata": {
    "application/vnd.databricks.v1+cell": {
     "cellMetadata": {},
     "inputWidgets": {},
     "nuid": "9eebc0b7-0889-4203-ae71-271f34c164ca",
     "showTitle": false,
     "title": ""
    }
   },
   "source": [
    "Así como incluimos un histograma 2D también podemos utilizar un gráfico de densidad. Usaremos únicamente seaborn en esta parte, sin embargo en plotly.express muchos de estos gráficos se pueden hacer:"
   ]
  },
  {
   "cell_type": "code",
   "execution_count": 0,
   "metadata": {
    "application/vnd.databricks.v1+cell": {
     "cellMetadata": {},
     "inputWidgets": {},
     "nuid": "9da2f10e-77fa-401e-a78d-37f0ca6e6229",
     "showTitle": false,
     "title": ""
    }
   },
   "outputs": [],
   "source": [
    "sns.jointplot(data=DF, x=\"ADR_USD (P)\", y=\"Public_Noct_USD (P)\",  hue=\"Mascotas (M)\",kind='kde')\n"
   ]
  },
  {
   "cell_type": "markdown",
   "metadata": {
    "application/vnd.databricks.v1+cell": {
     "cellMetadata": {},
     "inputWidgets": {},
     "nuid": "a38ad6f5-30d5-4eff-b3ad-2e2012abc97d",
     "showTitle": false,
     "title": ""
    }
   },
   "source": [
    "Podemos incluir también una línea de tendencia:"
   ]
  },
  {
   "cell_type": "code",
   "execution_count": 0,
   "metadata": {
    "application/vnd.databricks.v1+cell": {
     "cellMetadata": {},
     "inputWidgets": {},
     "nuid": "6c8336f0-e1f0-4965-a9d0-09f1fd259f50",
     "showTitle": false,
     "title": ""
    }
   },
   "outputs": [],
   "source": [
    "sns.jointplot(data=DF, x=\"ADR_USD (P)\", y=\"Public_Noct_USD (P)\",kind='reg')\n"
   ]
  },
  {
   "cell_type": "markdown",
   "metadata": {
    "application/vnd.databricks.v1+cell": {
     "cellMetadata": {},
     "inputWidgets": {},
     "nuid": "ddc16ea8-0bfc-4e5b-ae8a-3c0f36567458",
     "showTitle": false,
     "title": ""
    }
   },
   "source": [
    "Y podemos evaluar la densidad con histogramas hexagonales:"
   ]
  },
  {
   "cell_type": "code",
   "execution_count": 0,
   "metadata": {
    "application/vnd.databricks.v1+cell": {
     "cellMetadata": {},
     "inputWidgets": {},
     "nuid": "d60cf687-a5dd-47fd-be2c-4b218e6349b3",
     "showTitle": false,
     "title": ""
    }
   },
   "outputs": [],
   "source": [
    "sns.jointplot(data=DF, x=\"ADR_USD (P)\", y=\"Public_Noct_USD (P)\",kind='hex')\n"
   ]
  },
  {
   "cell_type": "markdown",
   "metadata": {
    "application/vnd.databricks.v1+cell": {
     "cellMetadata": {},
     "inputWidgets": {},
     "nuid": "46dd61bb-3819-4347-ae7b-b19298dfd298",
     "showTitle": false,
     "title": ""
    }
   },
   "source": [
    "## (Caso 2) Evolución del precio del BitCoin"
   ]
  },
  {
   "cell_type": "markdown",
   "metadata": {
    "application/vnd.databricks.v1+cell": {
     "cellMetadata": {},
     "inputWidgets": {},
     "nuid": "c32d06e6-94e0-4428-b918-b73fa0be16c9",
     "showTitle": false,
     "title": ""
    }
   },
   "source": [
    "Este caso presenta sugerencias para analizar un conjunto de datos compuesto por dos variables numéricas ordenadas. Considera la evolución del precio de bitcoin entre abril de 2013 y abril de 2018.\n",
    "\n",
    "*Es tomado de [From data to viz](https://www.data-to-viz.com/)*"
   ]
  },
  {
   "cell_type": "code",
   "execution_count": 0,
   "metadata": {
    "application/vnd.databricks.v1+cell": {
     "cellMetadata": {},
     "inputWidgets": {},
     "nuid": "81a9b061-1bd9-4569-8234-635eebf983ab",
     "showTitle": false,
     "title": ""
    }
   },
   "outputs": [],
   "source": [
    "DFBitcoin=pd.read_table('https://raw.githubusercontent.com/holtzy/data_to_viz/master/Example_dataset/3_TwoNumOrdered.csv',sep=\" \")"
   ]
  },
  {
   "cell_type": "markdown",
   "metadata": {
    "application/vnd.databricks.v1+cell": {
     "cellMetadata": {},
     "inputWidgets": {},
     "nuid": "bf710b91-fc1d-42a8-b0c2-c7dd243c46e7",
     "showTitle": false,
     "title": ""
    }
   },
   "source": [
    "### Gráficos de línea\n",
    "\n",
    "La representación visual debe adaptarse a las características específicas del conjunto de datos y a la pregunta que está tratando de responder con la trama. Con los conjuntos de datos, cuya variable está en función del tiempo u otra variable continua similar requiere una gráfica lineal. "
   ]
  },
  {
   "cell_type": "code",
   "execution_count": 0,
   "metadata": {
    "application/vnd.databricks.v1+cell": {
     "cellMetadata": {},
     "inputWidgets": {},
     "nuid": "f319c394-6fe7-459d-b27c-a8532784c49a",
     "showTitle": false,
     "title": ""
    }
   },
   "outputs": [],
   "source": [
    "DFBitcoin['date']=pd.to_datetime(DFBitcoin['date'])"
   ]
  },
  {
   "cell_type": "markdown",
   "metadata": {
    "application/vnd.databricks.v1+cell": {
     "cellMetadata": {},
     "inputWidgets": {},
     "nuid": "5192de95-7104-4df2-ad8c-34b35cad0240",
     "showTitle": false,
     "title": ""
    }
   },
   "source": [
    "Recuerde tener el formato adecuado de los datos"
   ]
  },
  {
   "cell_type": "code",
   "execution_count": 0,
   "metadata": {
    "application/vnd.databricks.v1+cell": {
     "cellMetadata": {},
     "inputWidgets": {},
     "nuid": "bd332460-fc98-4f3f-bb95-69075dfffcba",
     "showTitle": false,
     "title": ""
    }
   },
   "outputs": [],
   "source": [
    "g=sns.relplot(x=\"date\", y=\"value\", kind=\"line\", data=DFBitcoin)\n",
    "g.fig.autofmt_xdate()"
   ]
  },
  {
   "cell_type": "markdown",
   "metadata": {
    "application/vnd.databricks.v1+cell": {
     "cellMetadata": {},
     "inputWidgets": {},
     "nuid": "e7a63c19-a5af-485e-94d8-9aa8c9dee0db",
     "showTitle": false,
     "title": ""
    }
   },
   "source": [
    "### Agregación y representación de la incertidumbre\n",
    "Los conjuntos de datos más complejos tendrán múltiples medidas para el mismo valor de la variable x. Para nuestra base de dtos calcularemos el mes correspondiente a cada fecha. En ese caso, tendremos los diferentes precios del Bitcoin medidos en diferentes meses:"
   ]
  },
  {
   "cell_type": "code",
   "execution_count": 0,
   "metadata": {
    "application/vnd.databricks.v1+cell": {
     "cellMetadata": {},
     "inputWidgets": {},
     "nuid": "e8207765-c270-4ff6-a32a-00cf18a67d1f",
     "showTitle": false,
     "title": ""
    }
   },
   "outputs": [],
   "source": [
    "DFBitcoin['Mes']=DFBitcoin['date'].dt.month"
   ]
  },
  {
   "cell_type": "code",
   "execution_count": 0,
   "metadata": {
    "application/vnd.databricks.v1+cell": {
     "cellMetadata": {},
     "inputWidgets": {},
     "nuid": "9fa35fa5-469e-4869-a733-b8e3164b0751",
     "showTitle": false,
     "title": ""
    }
   },
   "outputs": [],
   "source": [
    "DFBitcoin"
   ]
  },
  {
   "cell_type": "markdown",
   "metadata": {
    "application/vnd.databricks.v1+cell": {
     "cellMetadata": {},
     "inputWidgets": {},
     "nuid": "f8d4473e-eeb2-4159-8870-aade1316325b",
     "showTitle": false,
     "title": ""
    }
   },
   "source": [
    "Los intervalos de confianza se calculan por defecto, con un 95% de confianza:"
   ]
  },
  {
   "cell_type": "code",
   "execution_count": 0,
   "metadata": {
    "application/vnd.databricks.v1+cell": {
     "cellMetadata": {},
     "inputWidgets": {},
     "nuid": "d03c27ca-3716-4d54-addc-1cfb78d7ede5",
     "showTitle": false,
     "title": ""
    }
   },
   "outputs": [],
   "source": [
    "sns.relplot(x=\"Mes\", y=\"value\", kind=\"line\", data=DFBitcoin);"
   ]
  },
  {
   "cell_type": "markdown",
   "metadata": {
    "application/vnd.databricks.v1+cell": {
     "cellMetadata": {},
     "inputWidgets": {},
     "nuid": "36d769de-826c-4c3f-96aa-3da286112689",
     "showTitle": false,
     "title": ""
    }
   },
   "source": [
    "Como se calculan  mediante bootstrapping, que puede requerir mucho tiempo para conjuntos de datos más grandes. Es posible inhabilitarlos:"
   ]
  },
  {
   "cell_type": "code",
   "execution_count": 0,
   "metadata": {
    "application/vnd.databricks.v1+cell": {
     "cellMetadata": {},
     "inputWidgets": {},
     "nuid": "6d03d9dd-5382-416b-834e-71aae270a017",
     "showTitle": false,
     "title": ""
    }
   },
   "outputs": [],
   "source": [
    "sns.relplot(x=\"Mes\", y=\"value\", ci=None, kind=\"line\",data=DFBitcoin);"
   ]
  },
  {
   "cell_type": "markdown",
   "metadata": {
    "application/vnd.databricks.v1+cell": {
     "cellMetadata": {},
     "inputWidgets": {},
     "nuid": "e3f4490a-5147-4d85-ae9f-272540113140",
     "showTitle": false,
     "title": ""
    }
   },
   "source": [
    "o modificarlo"
   ]
  },
  {
   "cell_type": "code",
   "execution_count": 0,
   "metadata": {
    "application/vnd.databricks.v1+cell": {
     "cellMetadata": {},
     "inputWidgets": {},
     "nuid": "d08ec98b-17dd-440e-857e-7671ec0b3338",
     "showTitle": false,
     "title": ""
    }
   },
   "outputs": [],
   "source": [
    "sns.relplot(x=\"Mes\", y=\"value\", ci=99, kind=\"line\",data=DFBitcoin);"
   ]
  },
  {
   "cell_type": "markdown",
   "metadata": {
    "application/vnd.databricks.v1+cell": {
     "cellMetadata": {},
     "inputWidgets": {},
     "nuid": "b5add262-9ef3-4ee4-bdfe-7a0ea56e4e52",
     "showTitle": false,
     "title": ""
    }
   },
   "source": [
    "Si quisiera también puede usar la desviación estándar:"
   ]
  },
  {
   "cell_type": "code",
   "execution_count": 0,
   "metadata": {
    "application/vnd.databricks.v1+cell": {
     "cellMetadata": {},
     "inputWidgets": {},
     "nuid": "7644cade-8a3c-4de1-ac3c-b64fdd3ff5bb",
     "showTitle": false,
     "title": ""
    }
   },
   "outputs": [],
   "source": [
    "sns.relplot(x=\"Mes\", y=\"value\", ci='sd', kind=\"line\",data=DFBitcoin);"
   ]
  },
  {
   "cell_type": "markdown",
   "metadata": {
    "application/vnd.databricks.v1+cell": {
     "cellMetadata": {},
     "inputWidgets": {},
     "nuid": "26dd36ee-eef3-4d23-b688-c15092523753",
     "showTitle": false,
     "title": ""
    }
   },
   "source": [
    "## Gráfico de áreas\n",
    "Un gráfico de áreas es realmente similar a un gráfico de líneas, excepto que el área entre el eje x y la línea se rellena con color o sombreado. Representa la evolución de una variable numérica. Hace que la tendencia sea más obvia que usar un gráfico de líneas."
   ]
  },
  {
   "cell_type": "code",
   "execution_count": 0,
   "metadata": {
    "application/vnd.databricks.v1+cell": {
     "cellMetadata": {},
     "inputWidgets": {},
     "nuid": "4d80a59d-4b34-41c9-8d91-d8f5e66bc7bb",
     "showTitle": false,
     "title": ""
    }
   },
   "outputs": [],
   "source": [
    "fig = px.area(DFBitcoin, x=\"date\", y=\"value\")\n",
    "fig.show()"
   ]
  },
  {
   "cell_type": "markdown",
   "metadata": {
    "application/vnd.databricks.v1+cell": {
     "cellMetadata": {},
     "inputWidgets": {},
     "nuid": "b0ee1079-ea8f-40da-8b0a-64a26a78cd46",
     "showTitle": false,
     "title": ""
    }
   },
   "source": [
    "### En caso de evaluar pocos datos\n",
    "\n",
    "Veamos ahora algunas sugerencias para series que no toman el valor nulo:"
   ]
  },
  {
   "cell_type": "code",
   "execution_count": 0,
   "metadata": {
    "application/vnd.databricks.v1+cell": {
     "cellMetadata": {},
     "inputWidgets": {},
     "nuid": "0fea198d-70d1-48eb-9a3a-87a57fc329f9",
     "showTitle": false,
     "title": ""
    }
   },
   "outputs": [],
   "source": [
    "DFBitcoin_corta=DFBitcoin[DFBitcoin['date']>'04-2018']"
   ]
  },
  {
   "cell_type": "code",
   "execution_count": 0,
   "metadata": {
    "application/vnd.databricks.v1+cell": {
     "cellMetadata": {},
     "inputWidgets": {},
     "nuid": "ae8431ab-377b-4bb9-957d-57edfd361a6e",
     "showTitle": false,
     "title": ""
    }
   },
   "outputs": [],
   "source": [
    "fig = px.area(DFBitcoin_corta, x=\"date\", y=\"value\")\n",
    "fig.show()"
   ]
  },
  {
   "cell_type": "markdown",
   "metadata": {
    "application/vnd.databricks.v1+cell": {
     "cellMetadata": {},
     "inputWidgets": {},
     "nuid": "a0016877-38bc-43da-82b1-f67c189eea8e",
     "showTitle": false,
     "title": ""
    }
   },
   "source": [
    "El gráfico anterior puede resultar un poco frustrante. De hecho, es difícil estudiar la evolución del bitcoin en este gráfico ya que el precio oscila entre los 7.500 y los 9.500 dólares en este período, cuando el eje Y oscila entre 0 y 10.000. En este caso, es una buena práctica cortar el eje Y para ampliar la variación. "
   ]
  },
  {
   "cell_type": "code",
   "execution_count": 0,
   "metadata": {
    "application/vnd.databricks.v1+cell": {
     "cellMetadata": {},
     "inputWidgets": {},
     "nuid": "930b8f8d-0d72-4129-873f-5bd8edbf9b9d",
     "showTitle": false,
     "title": ""
    }
   },
   "outputs": [],
   "source": [
    "fig = px.area(DFBitcoin_corta, x=\"date\", y=\"value\",range_y=(6500,9500))\n",
    "fig.show()"
   ]
  },
  {
   "cell_type": "markdown",
   "metadata": {
    "application/vnd.databricks.v1+cell": {
     "cellMetadata": {},
     "inputWidgets": {},
     "nuid": "b4f08a1f-3856-49ba-af77-6d7f2baa404a",
     "showTitle": false,
     "title": ""
    }
   },
   "source": [
    "A veces, uno puede estar interesado en comparar el valor con un umbral específico. En este caso, puede llenar el área en función de este umbral, con 2 colores diferentes dependiendo de si el valor está por encima o por debajo del umbral:"
   ]
  },
  {
   "cell_type": "code",
   "execution_count": 0,
   "metadata": {
    "application/vnd.databricks.v1+cell": {
     "cellMetadata": {},
     "inputWidgets": {},
     "nuid": "deaa00d7-3edf-4be1-981d-4901884e8c92",
     "showTitle": false,
     "title": ""
    }
   },
   "outputs": [],
   "source": [
    "DFBitcoin_corta['Nivel']=8000"
   ]
  },
  {
   "cell_type": "code",
   "execution_count": 0,
   "metadata": {
    "application/vnd.databricks.v1+cell": {
     "cellMetadata": {},
     "inputWidgets": {},
     "nuid": "3231a32d-b1e9-4b8e-9781-e6c72f674124",
     "showTitle": false,
     "title": ""
    }
   },
   "outputs": [],
   "source": [
    "fig = go.Figure()\n",
    "fig.add_trace(go.Scatter(x=DFBitcoin_corta['date'], y=DFBitcoin_corta['value'],\n",
    "    fill=None,\n",
    "    mode='lines',\n",
    "    line_color='indigo',name='Precio'\n",
    "    ))\n",
    "fig.add_trace(go.Scatter(x=DFBitcoin_corta['date'], y=DFBitcoin_corta['Nivel'],\n",
    "    fill='tonexty', \n",
    "    mode='lines', line_color='blue',name='Constante'))\n",
    "\n",
    "fig.show()\n"
   ]
  },
  {
   "cell_type": "markdown",
   "metadata": {
    "application/vnd.databricks.v1+cell": {
     "cellMetadata": {},
     "inputWidgets": {},
     "nuid": "710a6927-08af-431d-9f20-783223932986",
     "showTitle": false,
     "title": ""
    }
   },
   "source": [
    "## (Caso 3) Quien vende más armas\n",
    "\n",
    "Es tomado de [From data to viz](https://www.data-to-viz.com/)\n",
    "\n",
    "Veremos algunas sugerencias para graficar datos compuestos por variables numéricas y categóricas. El conjunto de datos utilizado como ejemplo proporciona la cantidad de armas exportadas por los 50 principales exportadores más grandes en 2017. Este conjunto de datos se ha descargado en el sitio web del Instituto Internacional de Investigación para la Paz de Estocolmo y hay más información disponible [aquí.](http://www.sipri.org/databases/armstransfers/sources-and-methods/)"
   ]
  },
  {
   "cell_type": "code",
   "execution_count": 0,
   "metadata": {
    "application/vnd.databricks.v1+cell": {
     "cellMetadata": {},
     "inputWidgets": {},
     "nuid": "9f4cdcd1-5ad2-4d3f-9d2c-9c5a697a670b",
     "showTitle": false,
     "title": ""
    }
   },
   "outputs": [],
   "source": [
    "DFArmas=pd.read_csv('https://raw.githubusercontent.com/holtzy/data_to_viz/master/Example_dataset/7_OneCatOneNum.csv')"
   ]
  },
  {
   "cell_type": "code",
   "execution_count": 0,
   "metadata": {
    "application/vnd.databricks.v1+cell": {
     "cellMetadata": {},
     "inputWidgets": {},
     "nuid": "a2793b2a-2b42-4fb1-8547-753a063d0efa",
     "showTitle": false,
     "title": ""
    }
   },
   "outputs": [],
   "source": [
    "DFArmas = DFArmas.sort_values(by='Value')"
   ]
  },
  {
   "cell_type": "code",
   "execution_count": 0,
   "metadata": {
    "application/vnd.databricks.v1+cell": {
     "cellMetadata": {},
     "inputWidgets": {},
     "nuid": "6020c4de-f259-48ce-861c-81d372bb4df5",
     "showTitle": false,
     "title": ""
    }
   },
   "outputs": [],
   "source": [
    "DFArmas=DFArmas[~DFArmas.isnull().Value]"
   ]
  },
  {
   "cell_type": "markdown",
   "metadata": {
    "application/vnd.databricks.v1+cell": {
     "cellMetadata": {},
     "inputWidgets": {},
     "nuid": "2d4927d0-f3e6-428f-a0bd-c9431a3665c8",
     "showTitle": false,
     "title": ""
    }
   },
   "source": [
    "## Paletas\n",
    "\n",
    "La forma más común de representar este tipo de información es probablemente usando gráficos de barras, las paleticas pueden ser una buena alternativa, por su sencilles y ligereza. Básicamente es lo mismo, pero la barra se reemplaza por una línea y un punto al final. Permite que la figura esté menos apeñuscada.\n",
    "\n",
    "Las usamos horizontales."
   ]
  },
  {
   "cell_type": "code",
   "execution_count": 0,
   "metadata": {
    "application/vnd.databricks.v1+cell": {
     "cellMetadata": {},
     "inputWidgets": {},
     "nuid": "bfc57352-23f3-4d53-8af6-c9f348a4c248",
     "showTitle": false,
     "title": ""
    }
   },
   "outputs": [],
   "source": [
    "\n",
    "my_range=range(1,len(DFArmas.index)+1)\n",
    "fig,ax=plt.subplots(figsize=(12,10))\n",
    "# The vertcval plot is made using the hline function\n",
    "# I load the seaborn library only to benefit the nice looking feature\n",
    "ax.hlines(y=my_range, xmin=0, xmax=DFArmas['Value'],  alpha=0.4)\n",
    "ax.scatter(DFArmas['Value'], my_range, alpha=1)\n",
    " \n",
    "# Add title and exis names\n",
    "plt.yticks(my_range, DFArmas['Country'])\n",
    "plt.title(\"Los que más venden armas\", loc='left')\n",
    "plt.xlabel('Total')\n",
    "plt.ylabel('País')\n",
    "plt.grid()\n",
    "plt.show()"
   ]
  },
  {
   "cell_type": "markdown",
   "metadata": {
    "application/vnd.databricks.v1+cell": {
     "cellMetadata": {},
     "inputWidgets": {},
     "nuid": "669426f6-a326-4682-a34e-19e12e3c24ec",
     "showTitle": false,
     "title": ""
    }
   },
   "source": [
    "## Diagrama de barras\n",
    "\n"
   ]
  },
  {
   "cell_type": "markdown",
   "metadata": {
    "application/vnd.databricks.v1+cell": {
     "cellMetadata": {},
     "inputWidgets": {},
     "nuid": "751ad283-e225-426e-b856-9b324fad6dd8",
     "showTitle": false,
     "title": ""
    }
   },
   "source": [
    "Un diagrama de barras (o gráfico de barras) es uno de los tipos de gráficos más comunes. Muestra la relación entre una variable numérica y una categórica. Cada entidad de la variable categórica se representa como una barra. El tamaño de la barra representa su valor numérico."
   ]
  },
  {
   "cell_type": "code",
   "execution_count": 0,
   "metadata": {
    "application/vnd.databricks.v1+cell": {
     "cellMetadata": {},
     "inputWidgets": {},
     "nuid": "ee16674d-a52b-4ad6-84a1-7e6a717e3b49",
     "showTitle": false,
     "title": ""
    }
   },
   "outputs": [],
   "source": [
    "DFArmas = DFArmas.sort_values('Value',ascending=False)\n",
    "fig,ax=plt.subplots(figsize=(12,10))\n",
    "sns.barplot(data=DFArmas, x=\"Value\",y='Country')\n",
    "ax.set_xlabel(\"Qualitative\")"
   ]
  },
  {
   "cell_type": "markdown",
   "metadata": {
    "application/vnd.databricks.v1+cell": {
     "cellMetadata": {},
     "inputWidgets": {},
     "nuid": "d737aecf-f04e-48d8-b638-ff366bf6fa72",
     "showTitle": false,
     "title": ""
    }
   },
   "source": [
    "### Diagrama de barras circular\n",
    "\n",
    "La gráfica de barras circular es una alternativa a las gráficas de barras, donde cada barra se coloca alrededor de un círculo en lugar de a lo largo de una línea. El beneficio es que su figura se vuelve más llamativa y utiliza el espacio de manera más eficiente. Sin embargo, las diferencias entre grupos se vuelven más difíciles de leer. "
   ]
  },
  {
   "cell_type": "code",
   "execution_count": 0,
   "metadata": {
    "application/vnd.databricks.v1+cell": {
     "cellMetadata": {},
     "inputWidgets": {},
     "nuid": "66f92199-6fe9-41f9-bee0-4cd117fe9d8d",
     "showTitle": false,
     "title": ""
    }
   },
   "outputs": [],
   "source": [
    "from matplotlib import cm\n",
    "\n",
    "DFArmas_corta=DFArmas.head(4)\n",
    "labels = DFArmas_corta.Country\n",
    "data = DFArmas_corta.Value\n",
    "#number of data points\n",
    "n = len(data)\n",
    "#find max value for full ring\n",
    "k = 10 ** int(np.log10(max(data)))\n",
    "m = k * (1 + max(data) // k)\n",
    "\n",
    "#radius of donut chart\n",
    "r = 1.5\n",
    "#calculate width of each ring\n",
    "w = r / n \n",
    "\n",
    "\n",
    "colors = [cm.terrain(i / n) for i in range(n)]\n",
    "\n",
    "#create figure, axis\n",
    "fig, ax = plt.subplots()\n",
    "ax.axis(\"equal\")\n",
    "\n",
    "#create rings of donut chart\n",
    "for i in range(n):\n",
    "    #hide labels in segments with textprops: alpha = 0 - transparent, alpha = 1 - visible\n",
    "    innerring, _ = ax.pie([m - data[i], data[i]], radius = r - i * w, startangle = 90, labels = [\"\", labels[i]], labeldistance = 1 - 1 / (1.5 * (n - i)), textprops = {\"alpha\": 0}\n",
    "                          , colors = [\"white\", colors[i]])\n",
    "    plt.setp(innerring, width = w, edgecolor = \"white\")\n",
    "\n",
    "plt.legend()\n",
    "plt.show()"
   ]
  },
  {
   "cell_type": "markdown",
   "metadata": {
    "application/vnd.databricks.v1+cell": {
     "cellMetadata": {},
     "inputWidgets": {},
     "nuid": "e96971b3-1ce3-484c-81ab-5ffa7d47c680",
     "showTitle": false,
     "title": ""
    }
   },
   "source": [
    "## Mapa de árbol\n",
    "\n",
    "Un mapa de árbol representa cada entidad como un rectángulo, con un área que es proporcional a la variable numérica del conjunto de datos.\n",
    "Es una buena forma de mostrar una descripción general de la organización de los datos y probablemente sea más llamativa que la gráfica de barras anterior. Sin embargo, es menos preciso en el sentido de que es más difícil hacer comparaciones precisas entre grupos."
   ]
  },
  {
   "cell_type": "code",
   "execution_count": 0,
   "metadata": {
    "application/vnd.databricks.v1+cell": {
     "cellMetadata": {},
     "inputWidgets": {},
     "nuid": "74a9c471-06c5-4078-886c-fbb5e53c39ca",
     "showTitle": false,
     "title": ""
    }
   },
   "outputs": [],
   "source": [
    "fig = px.treemap(DFArmas, \n",
    "                 path= ['Country', 'Value'], \n",
    "                 values='Value',\n",
    "                )\n",
    "fig.show()"
   ]
  },
  {
   "cell_type": "markdown",
   "metadata": {
    "application/vnd.databricks.v1+cell": {
     "cellMetadata": {},
     "inputWidgets": {},
     "nuid": "6f7941e0-f968-4a72-b36e-e2a52fded026",
     "showTitle": false,
     "title": ""
    }
   },
   "source": [
    "## Intermesso -  Algunos gráficos interesantes\n",
    "\n",
    "### Diagrama de Gantt\n",
    "\n",
    "Un diagrama de Gantt es un tipo de diagrama de barras que ilustra el cronograma de un proyecto. El gráfico enumera las tareas a realizar en el eje vertical y los intervalos de tiempo en el eje horizontal. El ancho de las barras horizontales en el gráfico muestra la duración de cada actividad.\n",
    "\n"
   ]
  },
  {
   "cell_type": "code",
   "execution_count": 0,
   "metadata": {
    "application/vnd.databricks.v1+cell": {
     "cellMetadata": {},
     "inputWidgets": {},
     "nuid": "a8fbc507-fe85-41f6-9b2f-976ad0273f9c",
     "showTitle": false,
     "title": ""
    }
   },
   "outputs": [],
   "source": [
    "df = pd.DataFrame([\n",
    "    dict(Tarea=\"Pensar la tesis\", Start='2020-01-01', Finish='2020-02-28',Dolor='Medio'),\n",
    "    dict(Tarea=\"Llorar por la tesis\", Start='2020-01-05', Finish='2020-04-15',Dolor='Mucho'),\n",
    "    dict(Tarea=\"Olvidar por la tesis\", Start='2020-04-16', Finish='2020-05-20',Dolor='Poco'),\n",
    "    dict(Tarea=\"Hacer la tesis\", Start='2020-05-20', Finish='2020-05-30',Dolor='No registra')\n",
    "])\n",
    "\n",
    "fig = px.timeline(df, x_start=\"Start\", x_end=\"Finish\", y=\"Tarea\",color=\"Dolor\")\n",
    "fig.update_yaxes(autorange=\"reversed\") # otherwise tasks are listed from the bottom up\n",
    "fig.show()"
   ]
  },
  {
   "cell_type": "markdown",
   "metadata": {
    "application/vnd.databricks.v1+cell": {
     "cellMetadata": {},
     "inputWidgets": {},
     "nuid": "ccad3f4f-5b72-4cd7-ac7c-e1700fb0fc2c",
     "showTitle": false,
     "title": ""
    }
   },
   "source": [
    "### Embudos\n",
    "\n",
    "Los gráficos de embudo se utilizan a menudo para representar datos en diferentes etapas de un proceso empresarial. Es un mecanismo importante en Business Intelligence para identificar posibles áreas problemáticas de un proceso. Por ejemplo, se utiliza para observar los ingresos o las pérdidas en un proceso de ventas para cada etapa y muestra valores que disminuyen progresivamente. Cada etapa se ilustra como un porcentaje del total de todos los valores."
   ]
  },
  {
   "cell_type": "code",
   "execution_count": 0,
   "metadata": {
    "application/vnd.databricks.v1+cell": {
     "cellMetadata": {},
     "inputWidgets": {},
     "nuid": "ba30aee9-f131-456f-aeee-ad5203227538",
     "showTitle": false,
     "title": ""
    }
   },
   "outputs": [],
   "source": [
    "data = dict(\n",
    "    number=[39, 27.4, 20.6, 11, 2],\n",
    "    stage=[\"Website visit\", \"Downloads\", \"Potential customers\", \"Requested price\", \"invoice sent\"])\n",
    "fig = px.funnel(data, x='number', y='stage')\n",
    "fig.show()"
   ]
  },
  {
   "cell_type": "code",
   "execution_count": 0,
   "metadata": {
    "application/vnd.databricks.v1+cell": {
     "cellMetadata": {},
     "inputWidgets": {},
     "nuid": "9ea4dc80-9e21-461f-bac8-dfcd5bb24bfe",
     "showTitle": false,
     "title": ""
    }
   },
   "outputs": [],
   "source": [
    "stages = [\"Website visit\", \"Downloads\", \"Potential customers\", \"Requested price\", \"invoice sent\"]\n",
    "df_mtl = pd.DataFrame(dict(number=[39, 27.4, 20.6, 11, 3], stage=stages))\n",
    "df_mtl['office'] = 'Montreal'\n",
    "df_toronto = pd.DataFrame(dict(number=[52, 36, 18, 14, 5], stage=stages))\n",
    "df_toronto['office'] = 'Toronto'\n",
    "df = pd.concat([df_mtl, df_toronto], axis=0)\n",
    "df"
   ]
  },
  {
   "cell_type": "code",
   "execution_count": 0,
   "metadata": {
    "application/vnd.databricks.v1+cell": {
     "cellMetadata": {},
     "inputWidgets": {},
     "nuid": "a64d1c6b-8f58-41a5-baf2-e8c38535c383",
     "showTitle": false,
     "title": ""
    }
   },
   "outputs": [],
   "source": [
    "fig = px.funnel(df, x='number', y='stage', color='office')\n",
    "fig.show()"
   ]
  },
  {
   "cell_type": "markdown",
   "metadata": {
    "application/vnd.databricks.v1+cell": {
     "cellMetadata": {},
     "inputWidgets": {},
     "nuid": "1ba87707-d270-4057-9c57-43162e8b3acf",
     "showTitle": false,
     "title": ""
    }
   },
   "source": [
    "### Rayos de sol (Sunburst)\n",
    "\n",
    "Los gráficos de rayos de sol visualizan datos jerárquicos que se extienden radialmente hacia afuera desde la raíz hasta las hojas. La jerarquía del sector sunburst está determinada por las entradas en las etiquetas (nombres en px.sunburst) y en los padres. La raíz comienza desde el centro y se agregan a los anillos externos.\n",
    "\n",
    "Argumentos principales:\n",
    "\n",
    "**labels (nombres en px.sunburst ya que las etiquetas están reservadas para anular los nombres de las columnas)**: establece las etiquetas de los sectores de rayos solares.\n",
    "\n",
    "**parents:** establece los sectores padre de los sectores de rayos solares. Se utiliza una cadena vacía '' para el nodo raíz en la jerarquía. En este ejemplo, la raíz es \"Eva\".\n",
    "\n",
    "**values:** establece los valores asociados con los sectores de rayos solares, determinando su ancho (Consulte la sección de valores de rama a continuación para conocer los diferentes modos para establecer el ancho).\n",
    "\n"
   ]
  },
  {
   "cell_type": "code",
   "execution_count": 0,
   "metadata": {
    "application/vnd.databricks.v1+cell": {
     "cellMetadata": {},
     "inputWidgets": {},
     "nuid": "92a73436-ebe1-40c4-9c21-41c998a1d8cf",
     "showTitle": false,
     "title": ""
    }
   },
   "outputs": [],
   "source": [
    "data = dict(\n",
    "    character=[\"Eve\", \"Cain\", \"Seth\", \"Enos\", \"Noam\", \"Abel\", \"Awan\", \"Enoch\", \"Azura\"],\n",
    "    parent=[\"\", \"Eve\", \"Eve\", \"Seth\", \"Seth\", \"Eve\", \"Eve\", \"Awan\", \"Eve\" ],\n",
    "    value=[10, 14, 12, 10, 2, 6, 6, 4, 4])\n",
    "pd.DataFrame(data=data)"
   ]
  },
  {
   "cell_type": "code",
   "execution_count": 0,
   "metadata": {
    "application/vnd.databricks.v1+cell": {
     "cellMetadata": {},
     "inputWidgets": {},
     "nuid": "c30ac3e2-2f48-468c-8484-b78011848fc7",
     "showTitle": false,
     "title": ""
    }
   },
   "outputs": [],
   "source": [
    "fig =px.sunburst(\n",
    "    data,\n",
    "    names='character',\n",
    "    parents='parent',\n",
    "    values='value',\n",
    ")\n",
    "fig.show()"
   ]
  },
  {
   "cell_type": "markdown",
   "metadata": {
    "application/vnd.databricks.v1+cell": {
     "cellMetadata": {},
     "inputWidgets": {},
     "nuid": "9787eb0d-bdf5-4136-831c-94c1b9b2f7f8",
     "showTitle": false,
     "title": ""
    }
   },
   "source": [
    "Sunburst usado en DataFrame Rectángular, observe como se define el orden de los anillos:\n",
    "\n"
   ]
  },
  {
   "cell_type": "code",
   "execution_count": 0,
   "metadata": {
    "application/vnd.databricks.v1+cell": {
     "cellMetadata": {},
     "inputWidgets": {},
     "nuid": "718ae618-23d3-42af-b315-f43208d82ada",
     "showTitle": false,
     "title": ""
    }
   },
   "outputs": [],
   "source": [
    "df = px.data.tips()\n",
    "df"
   ]
  },
  {
   "cell_type": "code",
   "execution_count": 0,
   "metadata": {
    "application/vnd.databricks.v1+cell": {
     "cellMetadata": {},
     "inputWidgets": {},
     "nuid": "17449c85-b7ec-4da2-a8f8-9e99b63bab75",
     "showTitle": false,
     "title": ""
    }
   },
   "outputs": [],
   "source": [
    "fig = px.sunburst(df, path=['day', 'time', 'sex'], values='total_bill')\n",
    "fig.show()"
   ]
  },
  {
   "cell_type": "code",
   "execution_count": 0,
   "metadata": {
    "application/vnd.databricks.v1+cell": {
     "cellMetadata": {},
     "inputWidgets": {},
     "nuid": "984dcd4b-e487-408c-a78f-6c1a20007f88",
     "showTitle": false,
     "title": ""
    }
   },
   "outputs": [],
   "source": [
    "fig = px.sunburst(df, path=['sex', 'time', 'day'], values='total_bill')\n",
    "fig.show()"
   ]
  },
  {
   "cell_type": "markdown",
   "metadata": {
    "application/vnd.databricks.v1+cell": {
     "cellMetadata": {},
     "inputWidgets": {},
     "nuid": "ebe213f2-fa56-499e-8ca5-6a319012db1f",
     "showTitle": false,
     "title": ""
    }
   },
   "source": [
    "También se pueden incluir variables numéricas para modificar los pesos `weights`:"
   ]
  },
  {
   "cell_type": "code",
   "execution_count": 0,
   "metadata": {
    "application/vnd.databricks.v1+cell": {
     "cellMetadata": {},
     "inputWidgets": {},
     "nuid": "d5768a96-e7c9-4071-b50e-cceb22fc2af5",
     "showTitle": false,
     "title": ""
    }
   },
   "outputs": [],
   "source": [
    "df = px.data.gapminder().query(\"year == 2007\")\n",
    "fig = px.sunburst(df, path=['continent', 'country'], values='pop',\n",
    "                  color='lifeExp', hover_data=['iso_alpha'],\n",
    "                  color_continuous_scale='RdBu',\n",
    "                  color_continuous_midpoint=np.average(df['lifeExp'], weights=df['pop']))\n",
    "fig.show()"
   ]
  },
  {
   "cell_type": "markdown",
   "metadata": {
    "application/vnd.databricks.v1+cell": {
     "cellMetadata": {},
     "inputWidgets": {},
     "nuid": "33c011df-954b-40db-aee1-92aca1c27d1c",
     "showTitle": false,
     "title": ""
    }
   },
   "source": [
    "### Gráfico de Burbujas\n",
    "\n",
    "Aprovechamos esta base de datos para hablar de tres variables numéricas o más. La base anterior es la famosa base GAPMINDER que se hizo famosa a través de Hans Rosling Ted Talk. Proporciona la esperanza de vida media, el pib per cápita y el tamaño de la población de más de 100 países."
   ]
  },
  {
   "cell_type": "code",
   "execution_count": 0,
   "metadata": {
    "application/vnd.databricks.v1+cell": {
     "cellMetadata": {},
     "inputWidgets": {},
     "nuid": "167ec6f3-16f7-4498-b725-c50536dbb460",
     "showTitle": false,
     "title": ""
    }
   },
   "outputs": [],
   "source": [
    "df"
   ]
  },
  {
   "cell_type": "code",
   "execution_count": 0,
   "metadata": {
    "application/vnd.databricks.v1+cell": {
     "cellMetadata": {},
     "inputWidgets": {},
     "nuid": "1e91c101-6809-429a-82bc-e30bd9ed3d76",
     "showTitle": false,
     "title": ""
    }
   },
   "outputs": [],
   "source": [
    "px.scatter(df,x='gdpPercap',y='lifeExp',size='pop',size_max=70,color='continent',hover_name='country')"
   ]
  },
  {
   "cell_type": "markdown",
   "metadata": {
    "application/vnd.databricks.v1+cell": {
     "cellMetadata": {},
     "inputWidgets": {},
     "nuid": "a02b2239-0869-470c-b43e-5a62a9612568",
     "showTitle": false,
     "title": ""
    }
   },
   "source": [
    "El problema con el diagrama de burbujas es que la relación entre la variable de los ejes X e Y es mucho más obvia que la relación con la tercera variable. Por eso se debe priorizar las variables y estar seguro de lo que se quiere mostrar. Antes de hacer ese tipo de gráfico, creo que es una buena práctica probar otras combinaciones:"
   ]
  },
  {
   "cell_type": "code",
   "execution_count": 0,
   "metadata": {
    "application/vnd.databricks.v1+cell": {
     "cellMetadata": {},
     "inputWidgets": {},
     "nuid": "76583581-95d7-4cc2-b56f-5e2a2a58ce5a",
     "showTitle": false,
     "title": ""
    }
   },
   "outputs": [],
   "source": [
    "px.scatter(df,x='gdpPercap',size='lifeExp',y='pop',color='continent',hover_name='country')"
   ]
  },
  {
   "cell_type": "code",
   "execution_count": 0,
   "metadata": {
    "application/vnd.databricks.v1+cell": {
     "cellMetadata": {},
     "inputWidgets": {},
     "nuid": "88d122e4-59c1-4205-be68-8620366ca302",
     "showTitle": false,
     "title": ""
    }
   },
   "outputs": [],
   "source": [
    "px.scatter(df,x='lifeExp',size='gdpPercap',y='pop',color='continent',hover_name='country')"
   ]
  },
  {
   "cell_type": "markdown",
   "metadata": {
    "application/vnd.databricks.v1+cell": {
     "cellMetadata": {},
     "inputWidgets": {},
     "nuid": "a74787e5-c9df-47ad-8916-407468e03948",
     "showTitle": false,
     "title": ""
    }
   },
   "source": [
    "En este caso, no existe una relación obvia entre la población y otras métricas, por lo que tiene sentido utilizar la población para el tamaño de la burbuja.\n",
    "\n",
    "Si solo desea resaltar la relación entre el GBP per cápita y la esperanza de vida, probablemente ya haya hecho la mayor parte del trabajo. Sin embargo, es una buena práctica resaltar algunos puntos interesantes en este gráfico para dar más información sobre la trama:"
   ]
  },
  {
   "cell_type": "markdown",
   "metadata": {
    "application/vnd.databricks.v1+cell": {
     "cellMetadata": {},
     "inputWidgets": {},
     "nuid": "4086cddb-899d-4fd7-b266-c9ceffe48ae2",
     "showTitle": false,
     "title": ""
    }
   },
   "source": [
    "## (Caso 4)  Nombres de Bebe\n",
    "\n",
    "Este caso tiene como objetivo describir algunas visualizaciones de datos que se pueden aplicar a un conjunto de datos que contiene una variable numérica ordenada, una variable categórica y otra variable numérica. Como ejemplo, consideraremos la evolución de las frecuencias de nombres de bebés en los EE. UU. Entre 1880 y 2015."
   ]
  },
  {
   "cell_type": "code",
   "execution_count": 0,
   "metadata": {
    "application/vnd.databricks.v1+cell": {
     "cellMetadata": {},
     "inputWidgets": {},
     "nuid": "e868a36f-e98c-4feb-b0a4-312fb6313e90",
     "showTitle": false,
     "title": ""
    }
   },
   "outputs": [],
   "source": [
    "DfBebes=pd.read_csv('https://raw.githubusercontent.com/holtzy/data_to_viz/master/Example_dataset/5_OneCatSevNumOrdered.csv')"
   ]
  },
  {
   "cell_type": "code",
   "execution_count": 0,
   "metadata": {
    "application/vnd.databricks.v1+cell": {
     "cellMetadata": {},
     "inputWidgets": {},
     "nuid": "de045d07-b888-4b21-b798-1cf932b5bf54",
     "showTitle": false,
     "title": ""
    }
   },
   "outputs": [],
   "source": [
    "DfBebes"
   ]
  },
  {
   "cell_type": "markdown",
   "metadata": {
    "application/vnd.databricks.v1+cell": {
     "cellMetadata": {},
     "inputWidgets": {},
     "nuid": "47807802-9b8c-4397-8905-7a0fda267f50",
     "showTitle": false,
     "title": ""
    }
   },
   "source": [
    "La primera visualización obvia para representar este conjunto de datos es producir un gráfico de líneas. Cada nombre de bebé está representado por una línea. El eje X indica el año y el eje Y muestra el número de bebés."
   ]
  },
  {
   "cell_type": "code",
   "execution_count": 0,
   "metadata": {
    "application/vnd.databricks.v1+cell": {
     "cellMetadata": {},
     "inputWidgets": {},
     "nuid": "d7957343-13a2-4e29-881f-26d77df1d634",
     "showTitle": false,
     "title": ""
    }
   },
   "outputs": [],
   "source": [
    "fig = px.line(DfBebes, x=\"year\", y=\"n\", color='name')\n",
    "fig.show()"
   ]
  },
  {
   "cell_type": "markdown",
   "metadata": {
    "application/vnd.databricks.v1+cell": {
     "cellMetadata": {},
     "inputWidgets": {},
     "nuid": "eb340bab-96cc-4ce8-bcea-f1eedfb9d078",
     "showTitle": false,
     "title": ""
    }
   },
   "source": [
    "Los gráficos de líneas tienden a estar demasiado desordenados tan pronto como se muestran más de unos pocos grupos. Este es un error común en la visualización de datos, tan común que se le ha denominado gráfico de espaguetis. Por lo tanto, esta solución generalmente se aplica si desea resaltar un grupo específico de todo el conjunto de datos. Por ejemplo, resaltemos la evolución de Amanda en comparación con los otros nombres, basta con en el mismo gráfico hacer click sobre Amanda en el cuadro de la derecha: "
   ]
  },
  {
   "cell_type": "code",
   "execution_count": 0,
   "metadata": {
    "application/vnd.databricks.v1+cell": {
     "cellMetadata": {},
     "inputWidgets": {},
     "nuid": "d4568bc4-a0df-4889-aa2f-ea4f766a0bcb",
     "showTitle": false,
     "title": ""
    }
   },
   "outputs": [],
   "source": [
    "fig = px.line(DfBebes, x=\"year\", y=\"n\", color='name')\n",
    "fig.show()"
   ]
  }
 ],
 "metadata": {
  "application/vnd.databricks.v1+notebook": {
   "dashboards": [],
   "language": "python",
   "notebookMetadata": {},
   "notebookName": "Tips gráficos y datos parte 1",
   "widgets": {}
  },
  "kernelspec": {
   "display_name": "Python 3",
   "language": "python",
   "name": "python3"
  },
  "language_info": {
   "codemirror_mode": {
    "name": "ipython",
    "version": 3
   },
   "file_extension": ".py",
   "mimetype": "text/x-python",
   "name": "python",
   "nbconvert_exporter": "python",
   "pygments_lexer": "ipython3",
   "version": "3.11.3"
  }
 },
 "nbformat": 4,
 "nbformat_minor": 0
}
