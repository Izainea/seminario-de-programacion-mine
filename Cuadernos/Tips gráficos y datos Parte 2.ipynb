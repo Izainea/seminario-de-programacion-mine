{
 "cells": [
  {
   "cell_type": "markdown",
   "id": "7633a235",
   "metadata": {},
   "source": [
    "# Herramientas de visualización - Algunos consejos útiles (Parte 2)\n",
    "\n",
    "En este cuaderno hacemos una exploración por los diversos tipos de gráficos que tenemos a nuestra disposición. Evaluaremos diferentes situaciones y daremos algunos consejos de el tipo de gráfico que mejor se ajuste a los datos analizados. No vamos a establecer unas reglas, en muchas de estas situaciones se apremia la creatividad de la persona que conoce la información, sin embargo, estos tips suelen destrabar ese espiritu creativo."
   ]
  },
  {
   "cell_type": "code",
   "execution_count": null,
   "id": "fee1291b",
   "metadata": {},
   "outputs": [],
   "source": [
    "import numpy as np\n",
    "import pandas as pd\n",
    "import dataprep.eda as dp\n",
    "import matplotlib.pyplot as plt\n",
    "import seaborn as sns\n",
    "import scipy.stats as ss\n",
    "import plotly.express as px\n",
    "import plotly.graph_objects as go\n",
    "from ipywidgets import interact, Layout\n",
    "import ipywidgets as widgets\n",
    "from plotly.subplots import make_subplots\n"
   ]
  },
  {
   "cell_type": "markdown",
   "id": "78870649",
   "metadata": {},
   "source": [
    "## (Caso 5) Contratos en Colombia\n",
    "\n",
    "Este caso ofrece algunas sugerencias para analizar un conjunto de datos compuesto por una variable numérica medida en grupos y subgrupos.\n",
    "\n",
    "El conjunto de datos corresponde a una muestra de una base de datos que contiene información acerca de contratos adjudicados a nivel nacional.\n",
    "\n",
    "Los datos se han recopilado en el sitio web [datosabiertos.gov.co](https://www.datos.gov.co/Gastos-Gubernamentales/SECOP-II-Contratos-Electr-nicos-ACTIVOS/p8vk-huva) y la muestra de este ejemplo se puede encontrar en [github.com/madcentral/metodosestadisticos](https://github.com/madcentral/metodosestadisticos). "
   ]
  },
  {
   "cell_type": "code",
   "execution_count": null,
   "id": "16c51fcf",
   "metadata": {},
   "outputs": [],
   "source": [
    "pd.options.display.float_format = '{:}'.format\n",
    "df = pd.read_csv('Muestra Contratos.csv',index_col=0)"
   ]
  },
  {
   "cell_type": "code",
   "execution_count": null,
   "id": "9400fd77",
   "metadata": {},
   "outputs": [],
   "source": [
    "df"
   ]
  },
  {
   "cell_type": "code",
   "execution_count": null,
   "id": "1aff2f9f",
   "metadata": {},
   "outputs": [],
   "source": [
    "df.dtypes"
   ]
  },
  {
   "cell_type": "code",
   "execution_count": null,
   "id": "a0748050",
   "metadata": {},
   "outputs": [],
   "source": [
    "df.describe()"
   ]
  },
  {
   "cell_type": "code",
   "execution_count": null,
   "id": "77cb3849",
   "metadata": {},
   "outputs": [],
   "source": [
    "df.describe(include=\"object\")"
   ]
  },
  {
   "cell_type": "markdown",
   "id": "917b0f52",
   "metadata": {},
   "source": [
    "Es una base con muchas variables, el siguiente código dividira los diferentes tipos de variables y hara algunas conversiones necesarias. Luego describiremos algunos pasos a realizar, con el fin de responder a la pregunta planteada:"
   ]
  },
  {
   "cell_type": "code",
   "execution_count": null,
   "id": "a09531bd",
   "metadata": {},
   "outputs": [],
   "source": [
    "#Separamos cuali de cuanti\n",
    "cualicolumns=df.select_dtypes(exclude=['int64','float64']).columns\n",
    "cuanticolumns=df.select_dtypes(include=['int64','float64']).columns\n",
    "Fechas=[i for i in cualicolumns if i.count('Fecha')>0]\n",
    "cualicolumns=[i for i in cualicolumns if i.count('Fecha')<=0]"
   ]
  },
  {
   "cell_type": "code",
   "execution_count": null,
   "id": "3d6eab39",
   "metadata": {},
   "outputs": [],
   "source": [
    "# Cambiamos el tipo de dato para las fechas\n",
    "for i in Fechas:\n",
    "    df[i]=pd.to_datetime(df[i])\n",
    "df[Fechas].dtypes"
   ]
  },
  {
   "cell_type": "markdown",
   "id": "1d6a8853",
   "metadata": {},
   "source": [
    "**¿Cómo es el gasto público por regiones dependiendo del sector?**\n",
    "\n",
    "Para resolver este ejercicio podemos considerar el Valor de los contratos por sector en cada región del país."
   ]
  },
  {
   "cell_type": "markdown",
   "id": "64067b20",
   "metadata": {},
   "source": [
    "## Treemap interactivo\n",
    "\n",
    "Plotly nos permite revisar esta información de manera dinámica, usando un treemap:\n"
   ]
  },
  {
   "cell_type": "code",
   "execution_count": null,
   "id": "cd93bb93",
   "metadata": {},
   "outputs": [],
   "source": [
    "fig = px.treemap(df, \n",
    "                 path= ['Sector','Departamento'], \n",
    "                 values='Valor del Contrato',\n",
    "                 \n",
    "                )\n",
    "\n",
    "fig.data[0].textinfo= \"label+percent parent+percent entry+percent root\"\n",
    "fig.data[0].hovertemplate = '<b>%{label} </b> <br> Suma de Contratos: %{value:$,.0f}<br> '\n",
    "fig.show()"
   ]
  },
  {
   "cell_type": "markdown",
   "id": "9a79285f",
   "metadata": {},
   "source": [
    "### Boxplot\n",
    "Sin embargo, ante la cantidad considerable de departamentos puede ser una opción poco  saludable, un boxplot agrupado con una herramienta interactiva puede ser una buena alternativa:"
   ]
  },
  {
   "cell_type": "code",
   "execution_count": null,
   "id": "482c510a",
   "metadata": {},
   "outputs": [],
   "source": [
    "def sectorvsdepto(i):\n",
    "    fbase=df[df['Departamento']==i]\n",
    "    fig, axs = plt.subplots(figsize=(10,5))\n",
    "    axs=sns.boxplot(y=fbase['Valor del Contrato'].values,x=fbase['Sector'])\n",
    "    axs.set_xticklabels(axs.get_xticklabels(), rotation=90);\n",
    "    axs.grid()\n",
    "    axs.set_ylim(0,210000000)\n",
    "    plt.show()\n",
    "    return \n",
    "interact(sectorvsdepto,i=widgets.Dropdown(options=sorted(df['Departamento'].unique()),description=\"Dpto\"))"
   ]
  },
  {
   "cell_type": "markdown",
   "id": "18652f6e",
   "metadata": {},
   "source": [
    "Para cada sector podemos ver la evolución de contratos por departamento:"
   ]
  },
  {
   "cell_type": "code",
   "execution_count": null,
   "id": "9728eb5c",
   "metadata": {},
   "outputs": [],
   "source": [
    "df['Año']=pd.DatetimeIndex(df['Fecha de Inicio del Contrato']).year"
   ]
  },
  {
   "cell_type": "code",
   "execution_count": null,
   "id": "7cb163e3",
   "metadata": {},
   "outputs": [],
   "source": [
    "def sectorvsdeptovsanio(i,j):\n",
    "    print(j)\n",
    "    try:\n",
    "        df2=df[df['Departamento']==i]\n",
    "        fbase=df2[df2['Sector'].isin(j)]\n",
    "        fig=px.box(fbase,x=\"Año\", y=\"Valor del Contrato\", color='Sector',points='all');\n",
    "        fig.show()\n",
    "    except:\n",
    "        print(\"En este Departamento no invirtieron en ese sector\")\n",
    "        \n",
    "    return \n",
    "interact(sectorvsdeptovsanio,\n",
    "         i=widgets.ToggleButtons(options=sorted(df['Departamento'].unique()),\n",
    "                            description=\"Dpto:\",button_style='info'\n",
    "                        ),\n",
    "         j=widgets.SelectMultiple(\n",
    "             options=df['Sector'].unique(),\n",
    "             description='Sector:'))\n"
   ]
  },
  {
   "cell_type": "code",
   "execution_count": null,
   "id": "7cf01fca",
   "metadata": {},
   "outputs": [],
   "source": [
    "DF2=df.groupby(['Departamento','Sector','Año']).sum()\n",
    "DF2.reset_index(inplace=True)\n",
    "DF2"
   ]
  },
  {
   "cell_type": "code",
   "execution_count": null,
   "id": "63fc58c2",
   "metadata": {},
   "outputs": [],
   "source": [
    "def sectorvsdeptovsanio(i):\n",
    "    fbase=DF2[DF2['Departamento']==i]\n",
    "    fig = px.line(fbase, x=\"Año\", y=\"Valor del Contrato\", color='Sector')\n",
    "    fig.show()\n",
    "    return \n",
    "interact(sectorvsdeptovsanio,i=widgets.Dropdown(options=df['Departamento'].unique(),description=\"Dpto\"))"
   ]
  },
  {
   "cell_type": "markdown",
   "id": "0caa6b0c",
   "metadata": {},
   "source": [
    "### Gráficas Combinadas"
   ]
  },
  {
   "cell_type": "markdown",
   "id": "09744db8",
   "metadata": {},
   "source": [
    "Podriamos contrastar los valores del contrato con  la cantidad de contratos, como sigue:"
   ]
  },
  {
   "cell_type": "code",
   "execution_count": null,
   "id": "000b838e",
   "metadata": {},
   "outputs": [],
   "source": [
    "import matplotlib.gridspec as gridspec\n",
    "def sectorvsdeptovsanio(i,j):\n",
    "    try:\n",
    "        df2=df[df['Departamento']==i]\n",
    "        fbase=df2[df2['Sector'].isin(j)]        \n",
    "        fig = plt.figure(tight_layout=True,figsize=(12,5)) ;       \n",
    "        gs = gridspec.GridSpec(2, 2)\n",
    "        ax = fig.add_subplot(gs[:,0])\n",
    "        sns.boxplot(ax=ax,data=fbase,x='Año',y='Valor del Contrato',hue='Sector')\n",
    "        plt.grid()\n",
    "        ax1=fig.add_subplot(gs[0,1])\n",
    "        base2=fbase.groupby('Sector').size()\n",
    "        labels = base2.index\n",
    "        ax1.pie(x=base2.values, autopct=\"%.1f%%\", explode=[0.05]*len(base2.values), labels=labels, pctdistance=0.5)\n",
    "        plt.title(\"Proporción de # contratos\");\n",
    "        ax2=fig.add_subplot(gs[1,1])\n",
    "        base2=fbase.groupby('Sector').sum()['Valor del Contrato']\n",
    "        labels = base2.index\n",
    "        ax2.pie(x=base2.values, autopct=\"%.1f%%\", explode=[0.05]*len(base2.values), labels=labels, pctdistance=0.5)\n",
    "        plt.title(\"Proporción de Valor de contratos\");\n",
    "    except:\n",
    "        alignment = {'horizontalalignment': 'center', 'verticalalignment': 'center'}\n",
    "        plt.figtext(0.5, 0.7,'En este Departamento no invirtieron en ese sector',family='monospace',  size='xx-large', **alignment)\n",
    "        plt.axis(False)\n",
    "    return \n",
    "interact(sectorvsdeptovsanio,\n",
    "         i=widgets.ToggleButtons(options=df['Departamento'].unique(),\n",
    "                            description=\"Dpto:\",button_style='info'\n",
    "                        ),\n",
    "         j=widgets.SelectMultiple(\n",
    "             options=df['Sector'].unique(),\n",
    "             description='Sector:'))"
   ]
  },
  {
   "cell_type": "markdown",
   "id": "b5f569ae",
   "metadata": {},
   "source": [
    "## Caso(6)  Red de Investigadores y Flujos Migratorios\n",
    "\n",
    "Tomado de [*From Data to Viz*](https://www.data-to-viz.com/story/AdjacencyMatrix.html)\n",
    "La matriz de incidencia y adyacencia proporciona una relación entre varios nodos. La información que contienen puede tener diferente naturaleza, por lo que este documento considerará varios ejemplos:\n",
    "\n",
    "Las relaciones se pueden dirigir y ponderar. Como la cantidad de personas que migran de un país a otro. Los datos utilizados provienen de esta [publicación científica](https://onlinelibrary.wiley.com/doi/abs/10.1111/imre.12327) de [Gui J. Abel.](https://guyabel.com/)\n"
   ]
  },
  {
   "cell_type": "code",
   "execution_count": null,
   "id": "14d0e8d5",
   "metadata": {},
   "outputs": [],
   "source": [
    "DF=pd.read_csv(\"https://raw.githubusercontent.com/holtzy/data_to_viz/master/Example_dataset/13_AdjacencyDirectedWeighted.csv\",sep=\" \")\n",
    "DF"
   ]
  },
  {
   "cell_type": "markdown",
   "id": "15e2f873",
   "metadata": {},
   "source": [
    "Las relaciones pueden no estar dirigidas ni ponderadas. Considere a todos los coautores de un investigador y estudio que está conectado a través de una publicación común. La matriz de adyacencia con alrededor de 100 investigadores, llena de 1 si han publicado un artículo juntos, 0 en caso contrario:"
   ]
  },
  {
   "cell_type": "code",
   "execution_count": null,
   "id": "28947f3b",
   "metadata": {},
   "outputs": [],
   "source": [
    "DF2=pd.read_csv(\"https://raw.githubusercontent.com/holtzy/Google-Scholar-Network/master/DATA/ranwez_adj.csv\",sep=\" \",index_col=\"from\")\n",
    "DF2=DF2.fillna(0) \n",
    "DF2"
   ]
  },
  {
   "cell_type": "markdown",
   "id": "18fb96f3",
   "metadata": {},
   "source": [
    "### Diagrama Sankey\n",
    "\n",
    "Los diagramas de Sankey visualizan las contribuciones a un flujo definiendo la fuente para representar el nodo de origen, el objetivo para el nodo de destino, el valor para establecer el volumen de flujo y la etiqueta que muestra el nombre del nodo."
   ]
  },
  {
   "cell_type": "code",
   "execution_count": null,
   "id": "41136dbd",
   "metadata": {},
   "outputs": [],
   "source": [
    "DF['Africa']"
   ]
  },
  {
   "cell_type": "code",
   "execution_count": null,
   "id": "082dadf3",
   "metadata": {},
   "outputs": [],
   "source": [
    "sour_target=[]\n",
    "parallel=[]\n",
    "for i,name_i in enumerate(DF.index):\n",
    "    for j,name_j in enumerate(DF.columns):\n",
    "        sour_target.append([i,j,DF[name_j][name_i]])\n",
    "        parallel.extend([[name_i,name_j]]*int(DF[name_j][name_i]*1000) )\n",
    "DFSTV=pd.DataFrame(data=sour_target,columns=['Source','Target','Value'])\n",
    "DFP=pd.DataFrame(data=parallel,columns=['Source','Target'])"
   ]
  },
  {
   "cell_type": "code",
   "execution_count": null,
   "id": "ae18fb4c",
   "metadata": {},
   "outputs": [],
   "source": [
    "DFP"
   ]
  },
  {
   "cell_type": "code",
   "execution_count": null,
   "id": "89b9d2c1",
   "metadata": {},
   "outputs": [],
   "source": [
    "import plotly.graph_objects as go\n",
    "\n",
    "fig = go.Figure(data=[go.Sankey(\n",
    "    node = dict(\n",
    "      pad = 15,\n",
    "      thickness = 20,\n",
    "      line = dict(color = \"black\", width = 0.5),\n",
    "      label = DF.columns\n",
    "    ),\n",
    "    link = dict(\n",
    "      source = DFSTV['Source'], # indices correspond to labels, eg A1, A2, A1, B1, ...\n",
    "      target = DFSTV['Target'],\n",
    "      value = DFSTV['Value']\n",
    "  ))])\n",
    "\n",
    "fig.update_layout(title_text=\"Basic Sankey Diagram\", font_size=10)\n",
    "fig.show()"
   ]
  },
  {
   "cell_type": "code",
   "execution_count": null,
   "id": "98f1df8a",
   "metadata": {},
   "outputs": [],
   "source": [
    "fig = px.parallel_categories(DFP)\n",
    "fig.show()\n"
   ]
  },
  {
   "cell_type": "markdown",
   "id": "fcd00441",
   "metadata": {},
   "source": [
    "### Mapa de calor\n",
    "También resulta útil para determinar conexiones, elemental pero elegante:"
   ]
  },
  {
   "cell_type": "code",
   "execution_count": null,
   "id": "dec7000b",
   "metadata": {},
   "outputs": [],
   "source": [
    "sns.heatmap(DF,annot=True)"
   ]
  },
  {
   "cell_type": "code",
   "execution_count": null,
   "id": "fecdb0dc",
   "metadata": {},
   "outputs": [],
   "source": [
    "for i in set(DF2.index).difference(set(DF2.columns)):\n",
    "    DF2[i]=0\n",
    "for i in set(DF2.columns).difference(set(DF2.index)):\n",
    "    DF2.loc[i]=0\n",
    "    \n",
    "DF2"
   ]
  },
  {
   "cell_type": "markdown",
   "id": "feaeb836",
   "metadata": {},
   "source": [
    "## Gráfos\n",
    "\n",
    "Los grafos son naturales para expresar conexiones, algo complicado de pintar pero aquí dejamos un ejemplo:"
   ]
  },
  {
   "cell_type": "code",
   "execution_count": null,
   "id": "14a2f002",
   "metadata": {},
   "outputs": [],
   "source": [
    "import networkx as nx\n",
    "G = nx.from_pandas_adjacency(DF2)"
   ]
  },
  {
   "cell_type": "code",
   "execution_count": null,
   "id": "67d595b5",
   "metadata": {},
   "outputs": [],
   "source": [
    "G.edges;"
   ]
  },
  {
   "cell_type": "code",
   "execution_count": null,
   "id": "8eff6e2b",
   "metadata": {},
   "outputs": [],
   "source": [
    "from networkx import path_graph, random_layout\n",
    "pos = random_layout(G, seed=42) "
   ]
  },
  {
   "cell_type": "code",
   "execution_count": null,
   "id": "814c42bf",
   "metadata": {},
   "outputs": [],
   "source": [
    "edge_x = []\n",
    "edge_y = []\n",
    "for edge in G.edges():\n",
    "    x0, y0 = pos[edge[0]]\n",
    "    x1, y1 = pos[edge[1]]\n",
    "    edge_x.append(x0)\n",
    "    edge_x.append(x1)\n",
    "    edge_x.append(None)\n",
    "    edge_y.append(y0)\n",
    "    edge_y.append(y1)\n",
    "    edge_y.append(None)\n",
    "\n",
    "edge_trace = go.Scatter(\n",
    "    x=edge_x, y=edge_y,\n",
    "    line=dict(width=0.5, color='#888'),\n",
    "    hoverinfo='none',\n",
    "    mode='lines')\n",
    "\n",
    "node_x = []\n",
    "node_y = []\n",
    "for node in G.nodes():\n",
    "    x, y = pos[node]\n",
    "    node_x.append(x)\n",
    "    node_y.append(y)\n",
    "\n",
    "node_trace = go.Scatter(\n",
    "    x=node_x, y=node_y,\n",
    "    mode='markers',\n",
    "    hoverinfo='text',\n",
    "    marker=dict(\n",
    "        showscale=True,\n",
    "        # colorscale options\n",
    "        #'Greys' | 'YlGnBu' | 'Greens' | 'YlOrRd' | 'Bluered' | 'RdBu' |\n",
    "        #'Reds' | 'Blues' | 'Picnic' | 'Rainbow' | 'Portland' | 'Jet' |\n",
    "        #'Hot' | 'Blackbody' | 'Earth' | 'Electric' | 'Viridis' |\n",
    "        colorscale='Viridis',\n",
    "        reversescale=True,\n",
    "        color=[],\n",
    "        size=10,\n",
    "        colorbar=dict(\n",
    "            thickness=15,\n",
    "            title='Node Connections',\n",
    "            xanchor='left',\n",
    "            titleside='right'\n",
    "        ),\n",
    "        line_width=2))\n",
    "\n",
    "node_adjacencies = []\n",
    "node_text = []\n",
    "for node, adjacencies in enumerate(G.adjacency()):\n",
    "    node_adjacencies.append(len(adjacencies[1]))\n",
    "    node_text.append(str(adjacencies[0])+' Total connections: '+str(len(adjacencies[1])))\n",
    "\n",
    "node_trace.marker.color = node_adjacencies\n",
    "node_trace.text = node_text"
   ]
  },
  {
   "cell_type": "code",
   "execution_count": null,
   "id": "846f9a8a",
   "metadata": {},
   "outputs": [],
   "source": [
    "fig = go.Figure(data=[edge_trace, node_trace],\n",
    "             layout=go.Layout(\n",
    "                title='Grafo hecho en Python',\n",
    "                titlefont_size=16,\n",
    "                showlegend=False,\n",
    "                hovermode='closest',\n",
    "                margin=dict(b=20,l=5,r=5,t=40),\n",
    "                annotations=[ dict(\n",
    "                    text=\"Grafo de conecciones entre investigadores\",\n",
    "                    showarrow=False,\n",
    "                    xref=\"paper\", yref=\"paper\",\n",
    "                    x=0.005, y=-0.002 ) ],\n",
    "                xaxis=dict(showgrid=False, zeroline=False, showticklabels=False),\n",
    "                yaxis=dict(showgrid=False, zeroline=False, showticklabels=False))\n",
    "                )\n",
    "fig.show()"
   ]
  },
  {
   "cell_type": "markdown",
   "id": "347503b0",
   "metadata": {},
   "source": [
    "## Intermezzo Gráficos interesantes de plotly\n",
    "\n",
    "Veremos a continuación unalista de gráficos útiles de plotly.\n"
   ]
  },
  {
   "cell_type": "markdown",
   "id": "aad2b6f8",
   "metadata": {},
   "source": [
    "### Dispersion 3d\n",
    "\n",
    "En ocasiones resulta muy útil utilizar una dimensión adicional en nuestro gráficos. Veamos unos ejemplos:\n"
   ]
  },
  {
   "cell_type": "code",
   "execution_count": null,
   "id": "72fd93e6",
   "metadata": {},
   "outputs": [],
   "source": [
    "df = px.data.iris()\n",
    "fig = px.scatter_3d(df, x='sepal_length', y='sepal_width', z='petal_width',\n",
    "              color='species')\n",
    "fig.show()"
   ]
  },
  {
   "cell_type": "code",
   "execution_count": null,
   "id": "75b23630",
   "metadata": {},
   "outputs": [],
   "source": [
    "df = px.data.iris()\n",
    "fig = px.scatter_3d(df, x='sepal_length', y='sepal_width', z='petal_width',\n",
    "                    color='petal_length', symbol='species')\n",
    "fig.show()"
   ]
  },
  {
   "cell_type": "code",
   "execution_count": null,
   "id": "b1bcb280",
   "metadata": {},
   "outputs": [],
   "source": [
    "t = np.linspace(0, 10, 50)\n",
    "x, y, z = np.cos(t), np.sin(t), t\n",
    "\n",
    "fig = go.Figure(data=[go.Scatter3d(x=x, y=y, z=z,\n",
    "                                   mode='markers')])\n",
    "fig.show()"
   ]
  },
  {
   "cell_type": "markdown",
   "id": "7ff7faf3",
   "metadata": {},
   "source": [
    "### Los gráficos paralelos\n",
    "\n",
    "El diagrama de categorías paralelas (también conocido como conjuntos paralelos o diagrama aluvial) es una visualización de conjuntos de datos categóricos multidimensionales. Cada variable en el conjunto de datos está representada por una columna de rectángulos, donde cada rectángulo corresponde a un valor discreto tomado por esa variable. Las alturas relativas de los rectángulos reflejan la frecuencia relativa de aparición del valor correspondiente.\n",
    "\n",
    "Las combinaciones de rectángulos de categoría en todas las dimensiones están conectadas por cintas, donde la altura de la cinta corresponde a la frecuencia relativa de aparición de la combinación de categorías en el conjunto de datos.\n",
    "\n"
   ]
  },
  {
   "cell_type": "code",
   "execution_count": null,
   "id": "79535497",
   "metadata": {},
   "outputs": [],
   "source": [
    "df = px.data.tips()\n",
    "fig = px.parallel_categories(df)\n",
    "\n",
    "fig.show()"
   ]
  },
  {
   "cell_type": "markdown",
   "id": "2aa953e9",
   "metadata": {},
   "source": [
    "Con estilo:"
   ]
  },
  {
   "cell_type": "code",
   "execution_count": null,
   "id": "52eb267c",
   "metadata": {},
   "outputs": [],
   "source": [
    "\n",
    "fig = px.parallel_categories(df, dimensions=['sex', 'smoker', 'day'],\n",
    "                color=\"size\", color_continuous_scale=px.colors.sequential.Inferno,\n",
    "                labels={'sex':'Payer sex', 'smoker':'Smokers at the table', 'day':'Day of week'})\n",
    "fig.show()"
   ]
  },
  {
   "cell_type": "markdown",
   "id": "d8efca0d",
   "metadata": {},
   "source": [
    "Escogiendo colores:"
   ]
  },
  {
   "cell_type": "code",
   "execution_count": null,
   "id": "1d0a3f61",
   "metadata": {},
   "outputs": [],
   "source": [
    "titanic_df = pd.read_csv(\"https://raw.githubusercontent.com/plotly/datasets/master/titanic.csv\")\n",
    "\n",
    "# Create dimensions\n",
    "class_dim = go.parcats.Dimension(\n",
    "    values=titanic_df.Pclass,\n",
    "    categoryorder='category ascending', label=\"Class\"\n",
    ")\n",
    "\n",
    "gender_dim = go.parcats.Dimension(values=titanic_df.Sex, label=\"Gender\")\n",
    "\n",
    "survival_dim = go.parcats.Dimension(\n",
    "    values=titanic_df.Survived, label=\"Outcome\", categoryarray=[0, 1],\n",
    "    ticktext=['perished', 'survived']\n",
    ")\n",
    "\n",
    "# Create parcats trace\n",
    "color = titanic_df.Survived;\n",
    "colorscale = [[0, 'lightsteelblue'], [1, 'mediumseagreen']];\n",
    "\n",
    "fig = go.Figure(data = [go.Parcats(dimensions=[class_dim, gender_dim, survival_dim],\n",
    "        line={'color': color, 'colorscale': colorscale},\n",
    "        hoveron='color', hoverinfo='count+probability',\n",
    "        labelfont={'size': 18, 'family': 'Times'},\n",
    "        tickfont={'size': 16, 'family': 'Times'},\n",
    "        arrangement='freeform')])\n",
    "\n",
    "fig.show()"
   ]
  },
  {
   "cell_type": "markdown",
   "id": "68031e23",
   "metadata": {},
   "source": [
    "Un regalito de la documentación de plotly, para estudiarlo un poco más:"
   ]
  },
  {
   "cell_type": "code",
   "execution_count": null,
   "id": "d7e4d8c6",
   "metadata": {},
   "outputs": [],
   "source": [
    "cars_df = pd.read_csv('https://raw.githubusercontent.com/plotly/datasets/master/imports-85.csv')\n",
    "cars_df"
   ]
  },
  {
   "cell_type": "code",
   "execution_count": null,
   "id": "855e9e34",
   "metadata": {},
   "outputs": [],
   "source": [
    "# Build parcats dimensions\n",
    "categorical_dimensions = ['body-style', 'drive-wheels', 'fuel-type']\n",
    "\n",
    "dimensions = [dict(values=cars_df[label], label=label) for label in categorical_dimensions]\n",
    "\n",
    "# Build colorscale\n",
    "color = np.zeros(len(cars_df), dtype='uint8')\n",
    "colorscale = [[0, 'gray'], [0.33, 'gray'],\n",
    "              [0.33, 'firebrick'], [0.66, 'firebrick'],\n",
    "              [0.66, 'blue'], [1.0, 'blue']]\n",
    "cmin = -0.5\n",
    "cmax = 2.5\n",
    "\n",
    "# Build figure as FigureWidget\n",
    "fig = go.FigureWidget(\n",
    "    data=[go.Scatter(x=cars_df.horsepower, y=cars_df['highway-mpg'],\n",
    "                marker={'color': color, 'cmin': cmin, 'cmax': cmax,\n",
    "                        'colorscale': colorscale, 'showscale': True,\n",
    "                        'colorbar': {'tickvals': [0, 1, 2], 'ticktext': ['None', 'Red', 'Blue']}},\n",
    "                     mode='markers'),\n",
    "\n",
    "      go.Parcats(domain={'y': [0, 0.4]}, dimensions=dimensions,\n",
    "                   line={'colorscale': colorscale, 'cmin': cmin,\n",
    "                   'cmax': cmax, 'color': color, 'shape': 'hspline'})]\n",
    ")\n",
    "\n",
    "fig.update_layout(height=800, xaxis={'title': 'Horsepower'},\n",
    "                  yaxis={'title': 'MPG', 'domain': [0.6, 1]},\n",
    "                  dragmode='lasso', hovermode='closest')\n",
    "\n",
    "# Build color selection widget\n",
    "color_toggle = widgets.ToggleButtons(\n",
    "    options=['None', 'Red', 'Blue'],\n",
    "    index=1, description='Brush Color:', disabled=False)\n",
    "\n",
    "# Update color callback\n",
    "def update_color(trace, points, state):\n",
    "    # Compute new color array\n",
    "    new_color = np.array(fig.data[0].marker.color)\n",
    "    new_color[points.point_inds] = color_toggle.index\n",
    "\n",
    "    with fig.batch_update():\n",
    "        # Update scatter color\n",
    "        fig.data[0].marker.color = new_color\n",
    "\n",
    "        # Update parcats colors\n",
    "        fig.data[1].line.color = new_color\n",
    "\n",
    "# Register callback on scatter selection...\n",
    "fig.data[0].on_selection(update_color)\n",
    "# and parcats click\n",
    "fig.data[1].on_click(update_color)\n",
    "\n",
    "# Display figure\n",
    "widgets.VBox([color_toggle, fig])"
   ]
  },
  {
   "cell_type": "markdown",
   "id": "5f228b23",
   "metadata": {},
   "source": [
    "### Diagramas ternarios\n",
    "\n",
    "Una forma de combinar tres variables en un diagrama 2D"
   ]
  },
  {
   "cell_type": "code",
   "execution_count": null,
   "id": "c7295c12",
   "metadata": {},
   "outputs": [],
   "source": [
    "df = px.data.election()\n",
    "df"
   ]
  },
  {
   "cell_type": "code",
   "execution_count": null,
   "id": "5a64b317",
   "metadata": {},
   "outputs": [],
   "source": [
    "fig = px.scatter_ternary(df, a=\"Joly\", b=\"Coderre\", c=\"Bergeron\")\n",
    "fig.show()"
   ]
  },
  {
   "cell_type": "code",
   "execution_count": null,
   "id": "739b0237",
   "metadata": {},
   "outputs": [],
   "source": [
    "fig = px.scatter_ternary(df, a=\"Joly\", b=\"Coderre\", c=\"Bergeron\", hover_name=\"district\",\n",
    "    color=\"winner\", size=\"total\", size_max=15,\n",
    "    color_discrete_map = {\"Joly\": \"blue\", \"Bergeron\": \"green\", \"Coderre\":\"red\"} )\n",
    "fig.show()"
   ]
  }
 ],
 "metadata": {
  "kernelspec": {
   "display_name": "Python 3",
   "language": "python",
   "name": "python3"
  },
  "language_info": {
   "codemirror_mode": {
    "name": "ipython",
    "version": 3
   },
   "file_extension": ".py",
   "mimetype": "text/x-python",
   "name": "python",
   "nbconvert_exporter": "python",
   "pygments_lexer": "ipython3",
   "version": "3.8.5"
  },
  "latex_envs": {
   "LaTeX_envs_menu_present": true,
   "autoclose": false,
   "autocomplete": true,
   "bibliofile": "biblio.bib",
   "cite_by": "apalike",
   "current_citInitial": 1,
   "eqLabelWithNumbers": true,
   "eqNumInitial": 1,
   "hotkeys": {
    "equation": "Ctrl-E",
    "itemize": "Ctrl-I"
   },
   "labels_anchors": false,
   "latex_user_defs": false,
   "report_style_numbering": false,
   "user_envs_cfg": false
  },
  "toc": {
   "base_numbering": 1,
   "nav_menu": {},
   "number_sections": true,
   "sideBar": true,
   "skip_h1_title": false,
   "title_cell": "Table of Contents",
   "title_sidebar": "Contents",
   "toc_cell": false,
   "toc_position": {},
   "toc_section_display": true,
   "toc_window_display": false
  }
 },
 "nbformat": 4,
 "nbformat_minor": 5
}
