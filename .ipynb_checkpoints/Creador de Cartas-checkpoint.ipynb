{
 "cells": [
  {
   "cell_type": "markdown",
   "metadata": {
    "application/vnd.databricks.v1+cell": {
     "cellMetadata": {},
     "inputWidgets": {},
     "nuid": "2e7d6457-989d-47a4-bc1f-af5560f215b7",
     "showTitle": false,
     "title": ""
    }
   },
   "source": [
    "# Creador interactivo de cartas\n",
    "\n",
    "\n",
    "**Carlos Isaac Zainea**   \n",
    "*Codificación: Nivel Avanzado*   \n",
    "*Universidad Externado de Colombia*   \n",
    "2021-1"
   ]
  },
  {
   "cell_type": "markdown",
   "metadata": {
    "application/vnd.databricks.v1+cell": {
     "cellMetadata": {},
     "inputWidgets": {},
     "nuid": "d9d02e31-7747-4ae6-a161-9d320c5f58d5",
     "showTitle": false,
     "title": ""
    }
   },
   "source": [
    "El siguiente cuaderno tiene algunas instrucciones que le permitiran crear un módulo interactivo para escribir cartas, el objetivo es repasar lo leido en los cuadernos [*listas y arreglos* y *funciones, módulos y paquetes*](https://izainea.github.io/codificacionabogados/#photos). No se preocupe si no termina de realizar la actividad, verá que durante la clase responderemos todas las preguntas que surjan después de realizar este módulo. No olvide que tiene disponible el canal de telegram para que fijemos tutorías o sesiones adicionales.\n",
    "\n",
    "Recomiendo ver los siguientes tutoriales hermosos de python para resolver preguntas rápidas:\n",
    "\n",
    "1. [w3Schools](https://www.w3schools.com/python/)\n",
    "2. [Learn Python](https://www.learnpython.org/es/)\n",
    "\n",
    "Siga las siguientes instrucciones:"
   ]
  },
  {
   "cell_type": "markdown",
   "metadata": {
    "application/vnd.databricks.v1+cell": {
     "cellMetadata": {},
     "inputWidgets": {},
     "nuid": "c8ff3a88-81d5-464d-9047-1be6d230440e",
     "showTitle": false,
     "title": ""
    }
   },
   "source": [
    "1. Definiremos una función que permita crear una carta:\n",
    "\n",
    "    * Iniciamos con identificar la estructura de una carta, el siguiente dibujo puede ayudar:   \n",
    "    \n",
    "    <p><img src=\"img/carta.jpg\" style=\"width:350px\"></p>\n",
    "    \n",
    "    * El diagrama anterior nos permite tener una idea de la estructura de nuestra función, sobre los diferentes argumentos posibles, que son todos los mencionados en el dibujo,  permitiremos que el usuario tenga la posibilidad de escoger de una lista los siguientes:   \n",
    "        \n",
    "        > * Lugar (Solo permitiremos Bogotá D.C. o Medellín, Antioquia) \n",
    "        > * Tratamiento  \n",
    "        > * Saludo\n",
    "        > * Despedida\n",
    "        > * Firma (Asumimos que hay dos socios, el Ingeniero Pepito Perez y el Abogado Carlos Rodriguez)         \n",
    "     \n",
    "       Aquí para cada argumento debemos crear una lista o un diccionario con las diferentes opciones que el creador de la carta podrá escoger, las siguientes variables le pueden servir:"
   ]
  },
  {
   "cell_type": "code",
   "execution_count": 0,
   "metadata": {
    "application/vnd.databricks.v1+cell": {
     "cellMetadata": {},
     "inputWidgets": {},
     "nuid": "b10a7176-45de-4787-abd6-5bf7859b361a",
     "showTitle": false,
     "title": ""
    }
   },
   "outputs": [],
   "source": [
    "Lugar= [\"Bogotá D.C.\",\"Medellín, Antioquia\"]\n",
    "Tratamiento={\"Señor\":\"Sr.\",\"Señora\":\"Sra.\",\"Doctora\":\"Dra.\",\"Doctor\":\"Dr.\"}\n",
    "Saludo=[\"Distinguida Señora\", \"Estimado Señor\", \"Cordial Saludo\",\"Estimados Señores\" ]\n",
    "Despedida=[\"Atentamente,\", \"Cordialmente,\",\"Respetuosamente,\"]\n",
    "Firma={\"Ingeniero\":\"Pepito Perez \\nIngeniero\",\"Doctor\":\"Carlos Rodriguez \\nAbogado en Medicina\"}"
   ]
  },
  {
   "cell_type": "markdown",
   "metadata": {
    "application/vnd.databricks.v1+cell": {
     "cellMetadata": {},
     "inputWidgets": {},
     "nuid": "d4694328-8342-4d84-8523-d9ad9fe0a085",
     "showTitle": false,
     "title": ""
    }
   },
   "source": [
    "* Los demas textos serán proporcionados por el usuario, por lo tanto no los definiremos aún, en la siguiente celda definimos la función que crea la carta:"
   ]
  },
  {
   "cell_type": "code",
   "execution_count": 0,
   "metadata": {
    "application/vnd.databricks.v1+cell": {
     "cellMetadata": {},
     "inputWidgets": {},
     "nuid": "1d8e0d66-ce17-4711-b277-8c325ef98508",
     "showTitle": false,
     "title": ""
    }
   },
   "outputs": [],
   "source": [
    "def carta(lugar, fecha, tratamiento, destinatario, cargo, empresa, saludo, cuerpo, despedida, firma):\n",
    "    fecha=str(fecha)#cambiamos el tipo de dato de la fecha porque la necesitamos como cadena de texto.\n",
    "    print(\"\\n\\n\\n\")\n",
    "    print(lugar +\", \"+fecha)\n",
    "    print(\"\\n\\n\\n\")\n",
    "    print(tratamiento, destinatario)\n",
    "    print(cargo)\n",
    "    print(empresa)\n",
    "    print(\"\\n\\n\")\n",
    "    print(saludo)\n",
    "    print(\"\\n\")\n",
    "    print(cuerpo)\n",
    "    print(\"\\n\")\n",
    "    print(despedida)\n",
    "    print(\"\\n\\n\\n\")\n",
    "    print(firma)\n",
    "    return"
   ]
  },
  {
   "cell_type": "markdown",
   "metadata": {
    "application/vnd.databricks.v1+cell": {
     "cellMetadata": {},
     "inputWidgets": {},
     "nuid": "85682a41-d409-4708-932e-5ba537abbe69",
     "showTitle": false,
     "title": ""
    }
   },
   "source": [
    "Probemos la función:"
   ]
  },
  {
   "cell_type": "code",
   "execution_count": 0,
   "metadata": {
    "application/vnd.databricks.v1+cell": {
     "cellMetadata": {},
     "inputWidgets": {},
     "nuid": "470e8827-1327-4edf-a226-f2f647ccb548",
     "showTitle": false,
     "title": ""
    }
   },
   "outputs": [],
   "source": [
    "carta(Lugar[0],\"2 de Julio de 2020\",Tratamiento[\"Señor\"],\"Juan Perez\", \"Docente\",\"Universidad Externado de Colombia\",\n",
    "      Saludo[0],\"Le envío una carta corta\", Despedida[0],Firma[\"Ingeniero\"])"
   ]
  },
  {
   "cell_type": "markdown",
   "metadata": {
    "application/vnd.databricks.v1+cell": {
     "cellMetadata": {},
     "inputWidgets": {},
     "nuid": "cf9fd7dd-9650-4db8-bb37-41a28fcbe0d8",
     "showTitle": false,
     "title": ""
    }
   },
   "source": [
    "***Ejercicio.*** Responda:\n",
    "\n",
    "* ¿Que problemas tiene esta carta?\n",
    "* Describa que significa `Lugar[0]`, `Saludo[0]` y `Despedida[0]` ¿Puede arreglar la carta?¿Cómo?\n",
    "* El que debe firmar es el Abogado ¿Como arregla la línea anterior?\n",
    "* Cuál es el error en la siguiente línea:\n",
    "\n",
    "```Python\n",
    "carta(Lugar[0],\"2 de Julio de 2020\",Tratamiento[\"Señor\"],\"Juan Perez\", \"Docente\",\"Universidad Externado de Colombia\",Saludo[0],\"Le envío una carta corta\", Despedida[0])\n",
    "```"
   ]
  },
  {
   "cell_type": "markdown",
   "metadata": {
    "application/vnd.databricks.v1+cell": {
     "cellMetadata": {},
     "inputWidgets": {},
     "nuid": "d6348a5d-85d1-42d4-8e14-88d27741e1cd",
     "showTitle": false,
     "title": ""
    }
   },
   "source": [
    "El anterior ejercicio, aunque imprime una carta aceptable, hace que los argumentos sean difíciles de ingresar, usaremos el paquete [`ipywidgets`](https://ipywidgets.readthedocs.io/en/latest/index.html) para crear módulos interactivos. En este caso usaremos cuatro tipos de widgets:\n",
    "\n",
    "1. [`widgets.Dropdown`](https://ipywidgets.readthedocs.io/en/latest/examples/Widget%20List.html#Dropdown),\n",
    "2. [`widgets.Textarea`](https://ipywidgets.readthedocs.io/en/latest/examples/Widget%20List.html#Textarea),\n",
    "3. [`widgets.Text`](https://ipywidgets.readthedocs.io/en/latest/examples/Widget%20List.html#Text) y\n",
    "4. [`ẁidgets.DatePicker`](https://ipywidgets.readthedocs.io/en/latest/examples/Widget%20List.html#Date-picker)\n",
    "\n",
    "El siguiente código cargará las funciones necesarias para trabajar con estos widgets:"
   ]
  },
  {
   "cell_type": "code",
   "execution_count": 0,
   "metadata": {
    "application/vnd.databricks.v1+cell": {
     "cellMetadata": {},
     "inputWidgets": {},
     "nuid": "3a96ae34-d825-48a6-9b1c-d60944a91bdf",
     "showTitle": false,
     "title": ""
    }
   },
   "outputs": [],
   "source": [
    "import ipywidgets as widgets\n",
    "from ipywidgets import interact, Layout"
   ]
  },
  {
   "cell_type": "markdown",
   "metadata": {
    "application/vnd.databricks.v1+cell": {
     "cellMetadata": {},
     "inputWidgets": {},
     "nuid": "d3e9b87f-2a0c-40f5-92c3-c2a21f75d945",
     "showTitle": false,
     "title": ""
    }
   },
   "source": [
    "***Ejercicio.*** Trate de explicar el código de la celda anterior."
   ]
  },
  {
   "cell_type": "markdown",
   "metadata": {
    "application/vnd.databricks.v1+cell": {
     "cellMetadata": {},
     "inputWidgets": {},
     "nuid": "919ebc59-af1b-4214-bb51-de33d2dc0fdd",
     "showTitle": false,
     "title": ""
    }
   },
   "source": [
    "Con los paquetes cargados usaremos cada tipo de widget para hacer un módulo interactivo, iniciamos con el widget *Dropdown*.\n",
    "\n",
    "### widgets.Dropdown\n",
    "\n",
    "Se usa para crear listas desplegables, la sintáxis de esta función es:\n",
    "\n",
    "```Python\n",
    "widgets.Dropdown(\n",
    "    options=['1', '2', '3'], #Lista de opciones, puede ser un diccionario\n",
    "    value='2',# Valor escogido por defecto\n",
    "    description='Number:', #Texto que aparece al lado de la lista\n",
    ")\n",
    "```\n",
    "A continuación, por cada lista o diccionario armamos un widget:"
   ]
  },
  {
   "cell_type": "code",
   "execution_count": 0,
   "metadata": {
    "application/vnd.databricks.v1+cell": {
     "cellMetadata": {},
     "inputWidgets": {},
     "nuid": "e9adf8c0-d87d-4a11-aa97-a119cdb1cdb1",
     "showTitle": false,
     "title": ""
    }
   },
   "outputs": [],
   "source": [
    "## Lugar \n",
    "lugar=widgets.Dropdown(\n",
    "    options=Lugar, #Lista de opciones, puede ser un diccionario\n",
    "    description='Lugar:', #Texto que aparece al lado de la lista\n",
    ")\n",
    "lugar"
   ]
  },
  {
   "cell_type": "markdown",
   "metadata": {
    "application/vnd.databricks.v1+cell": {
     "cellMetadata": {},
     "inputWidgets": {},
     "nuid": "13040452-47f4-4cae-a60f-5a621924bf39",
     "showTitle": false,
     "title": ""
    }
   },
   "source": [
    "**Observación.** La línea 6 de la anterior celda hace referencia al llamado del widget que acabamos de crear, si no lo ponemos creamos el widget pero no lo podemos ver."
   ]
  },
  {
   "cell_type": "code",
   "execution_count": 0,
   "metadata": {
    "application/vnd.databricks.v1+cell": {
     "cellMetadata": {},
     "inputWidgets": {},
     "nuid": "59281a6b-71c9-4ad1-8048-33ca4fa5dd7d",
     "showTitle": false,
     "title": ""
    }
   },
   "outputs": [],
   "source": [
    "## Tratamiento \n",
    "tratamiento=widgets.Dropdown(\n",
    "    options=Tratamiento, #Lista de opciones, puede ser un diccionario\n",
    "    description='Tratamiento:', #Texto que aparece al lado de la lista\n",
    ")\n",
    "tratamiento"
   ]
  },
  {
   "cell_type": "code",
   "execution_count": 0,
   "metadata": {
    "application/vnd.databricks.v1+cell": {
     "cellMetadata": {},
     "inputWidgets": {},
     "nuid": "bb8d8d01-01d0-4de5-8846-9e660d08757d",
     "showTitle": false,
     "title": ""
    }
   },
   "outputs": [],
   "source": [
    "## Saludo \n",
    "saludo=widgets.Dropdown(\n",
    "    options=Saludo, #Lista de opciones, puede ser un diccionario\n",
    "    description='Saludo:', #Texto que aparece al lado de la lista\n",
    ")\n",
    "saludo"
   ]
  },
  {
   "cell_type": "code",
   "execution_count": 0,
   "metadata": {
    "application/vnd.databricks.v1+cell": {
     "cellMetadata": {},
     "inputWidgets": {},
     "nuid": "bca78b55-d1da-48c6-a088-a67b2ff484f5",
     "showTitle": false,
     "title": ""
    }
   },
   "outputs": [],
   "source": [
    "## Despedida \n",
    "despedida=widgets.Dropdown(\n",
    "    options=Despedida, #Lista de opciones, puede ser un diccionario\n",
    "    description='Despedida:', #Texto que aparece al lado de la lista\n",
    ")\n",
    "despedida"
   ]
  },
  {
   "cell_type": "code",
   "execution_count": 0,
   "metadata": {
    "application/vnd.databricks.v1+cell": {
     "cellMetadata": {},
     "inputWidgets": {},
     "nuid": "66772593-ce8b-4385-9daa-167c2535be6d",
     "showTitle": false,
     "title": ""
    }
   },
   "outputs": [],
   "source": [
    "## Firma \n",
    "firma=widgets.Dropdown(\n",
    "    options=Firma, #Lista de opciones, puede ser un diccionario\n",
    "    description='Firma:', #Texto que aparece al lado de la lista\n",
    ")\n",
    "firma"
   ]
  },
  {
   "cell_type": "markdown",
   "metadata": {
    "application/vnd.databricks.v1+cell": {
     "cellMetadata": {},
     "inputWidgets": {},
     "nuid": "fa4e24f2-b0a5-42ab-9657-f5a30b6a9974",
     "showTitle": false,
     "title": ""
    }
   },
   "source": [
    "**Ejercicio.** ¿Qué muestra el widget cuando las opciones son un diccionario?"
   ]
  },
  {
   "cell_type": "markdown",
   "metadata": {
    "application/vnd.databricks.v1+cell": {
     "cellMetadata": {},
     "inputWidgets": {},
     "nuid": "48d6066f-e134-4f24-be33-e961967f1c52",
     "showTitle": false,
     "title": ""
    }
   },
   "source": [
    "### widgets.Text\n",
    "\n",
    "Lo utilizaremos para hacer referencia a textos cortos, la sintáxis es la siguiente:\n",
    "```Python\n",
    "widgets.Text(\n",
    "    value='Hello World',#Valor por defecto\n",
    "    placeholder='Type something',#Valor si no hay nada escrito\n",
    "    description='String:', #Texto que nomra al widget\n",
    ")\n",
    "```\n",
    "Utilizaremos este widget para los textos cortos:\n",
    "\n",
    "* destinatario\n",
    "* cargo\n",
    "* empresa"
   ]
  },
  {
   "cell_type": "code",
   "execution_count": 0,
   "metadata": {
    "application/vnd.databricks.v1+cell": {
     "cellMetadata": {},
     "inputWidgets": {},
     "nuid": "c1144afe-6aee-4409-a6b1-ec61b6e8942a",
     "showTitle": false,
     "title": ""
    }
   },
   "outputs": [],
   "source": [
    "destinatario= widgets.Text(\n",
    "    value='',#Valor por defecto\n",
    "    placeholder='Destinatario',#Valor si no hay nada escrito\n",
    "    description='Dirigida a:', #Texto que nomra al widget\n",
    ")\n",
    "destinatario"
   ]
  },
  {
   "cell_type": "code",
   "execution_count": 0,
   "metadata": {
    "application/vnd.databricks.v1+cell": {
     "cellMetadata": {},
     "inputWidgets": {},
     "nuid": "52fb1933-e0d0-4002-ad0c-3586c469f3be",
     "showTitle": false,
     "title": ""
    }
   },
   "outputs": [],
   "source": [
    "cargo= widgets.Text(\n",
    "    value='',#Valor por defecto\n",
    "    placeholder='Escriba el cargo del destinatario',#Valor si no hay nada escrito\n",
    "    description='Cargo:', #Texto que nomra al widget\n",
    ")\n",
    "cargo"
   ]
  },
  {
   "cell_type": "code",
   "execution_count": 0,
   "metadata": {
    "application/vnd.databricks.v1+cell": {
     "cellMetadata": {},
     "inputWidgets": {},
     "nuid": "11ac9f2a-ec60-4e25-aae8-96acb007df9c",
     "showTitle": false,
     "title": ""
    }
   },
   "outputs": [],
   "source": [
    "empresa= widgets.Text(\n",
    "    value='',#Valor por defecto\n",
    "    placeholder='Escriba la empresa del destinatario',#Valor si no hay nada escrito\n",
    "    description='Empresa:', #Texto que nomra al widget\n",
    ")\n",
    "empresa"
   ]
  },
  {
   "cell_type": "markdown",
   "metadata": {
    "application/vnd.databricks.v1+cell": {
     "cellMetadata": {},
     "inputWidgets": {},
     "nuid": "0a58c9d5-8a0b-4670-92cc-54bece90e73a",
     "showTitle": false,
     "title": ""
    }
   },
   "source": [
    "### widgets.TextArea\n",
    "\n",
    "Se utiliza para crear texto Ancho, podemos modificar el ancho y largo del área para escribir, su sintáxis es:\n",
    "\n",
    "```Python\n",
    "widgets.Textarea(\n",
    "    value='Hello World',#Valor por defecto\n",
    "    placeholder='Type something',#Valor si no hay nada escrito\n",
    "    description='String:', #Texto que nomra al widget\n",
    "    layout=Layout(width='300px',height='100px')#Alto y ancho,\n",
    ")\n",
    "```\n",
    "\n",
    "Lo usaremos para el cuerpo."
   ]
  },
  {
   "cell_type": "code",
   "execution_count": 0,
   "metadata": {
    "application/vnd.databricks.v1+cell": {
     "cellMetadata": {},
     "inputWidgets": {},
     "nuid": "0faecaa6-1028-4abd-9418-5ea5c736692b",
     "showTitle": false,
     "title": ""
    }
   },
   "outputs": [],
   "source": [
    "## Cuerpo\n",
    "cuerpo=widgets.Textarea(\n",
    "    value='',#Valor por defecto\n",
    "    placeholder='Cuerpo del mensaje',#Valor si no hay nada escrito\n",
    "    description='Cuerpo:', #Texto que nomra al widget\n",
    "    layout=Layout(width='500px',height='300px')#Alto y ancho,\n",
    ")\n",
    "cuerpo"
   ]
  },
  {
   "cell_type": "markdown",
   "metadata": {
    "application/vnd.databricks.v1+cell": {
     "cellMetadata": {},
     "inputWidgets": {},
     "nuid": "17642f2c-ea36-4b24-a431-79f8f80e34d8",
     "showTitle": false,
     "title": ""
    }
   },
   "source": [
    "### widgets.DatePicker\n",
    "\n",
    "Lo usaremos para seleccionar la fecha del mensaje.\n",
    "\n",
    "```Python\n",
    "widgets.DatePicker(\n",
    "    description='Pick a Date',#Texto al lado del widget\n",
    "    disabled=False\n",
    ")\n",
    "```"
   ]
  },
  {
   "cell_type": "code",
   "execution_count": 0,
   "metadata": {
    "application/vnd.databricks.v1+cell": {
     "cellMetadata": {},
     "inputWidgets": {},
     "nuid": "c08cef14-1b04-4ba4-9b45-d3215e0d6cc6",
     "showTitle": false,
     "title": ""
    }
   },
   "outputs": [],
   "source": [
    "fecha=widgets.DatePicker(\n",
    "    description='Fecha:',\n",
    "    disabled=False\n",
    ")\n",
    "fecha"
   ]
  },
  {
   "cell_type": "markdown",
   "metadata": {
    "application/vnd.databricks.v1+cell": {
     "cellMetadata": {},
     "inputWidgets": {},
     "nuid": "6141a09d-76e4-47f7-8384-088cfbb7072d",
     "showTitle": false,
     "title": ""
    }
   },
   "source": [
    "## Módulo final\n",
    "\n",
    "Con cada widget creado, uso la función `interact` para crear mi módulo interactivo que crea cartas: "
   ]
  },
  {
   "cell_type": "code",
   "execution_count": 0,
   "metadata": {
    "application/vnd.databricks.v1+cell": {
     "cellMetadata": {},
     "inputWidgets": {},
     "nuid": "e03ca36d-3e4b-429d-afea-a7780f9c6fab",
     "showTitle": false,
     "title": ""
    }
   },
   "outputs": [],
   "source": [
    "interact(carta,lugar=lugar, fecha=fecha, tratamiento=tratamiento, destinatario=destinatario, cargo=cargo, \n",
    "         empresa=empresa, saludo=saludo, cuerpo=cuerpo, despedida=despedida, firma=firma)"
   ]
  },
  {
   "cell_type": "markdown",
   "metadata": {
    "application/vnd.databricks.v1+cell": {
     "cellMetadata": {},
     "inputWidgets": {},
     "nuid": "f091e75a-46c8-46bb-9d80-80640a76e380",
     "showTitle": false,
     "title": ""
    }
   },
   "source": [
    "Corrija este módulo interactivo y adaptelo a sus necesidades. Aproveche la fuerza de Python para hacer su vida más sencilla."
   ]
  }
 ],
 "metadata": {
  "application/vnd.databricks.v1+notebook": {
   "dashboards": [],
   "language": "python",
   "notebookMetadata": {},
   "notebookName": "Creador de Cartas-checkpoint",
   "widgets": {}
  },
  "kernelspec": {
   "display_name": "Python 3",
   "language": "python",
   "name": "python3"
  },
  "language_info": {
   "codemirror_mode": {
    "name": "ipython",
    "version": 3
   },
   "file_extension": ".py",
   "mimetype": "text/x-python",
   "name": "python",
   "nbconvert_exporter": "python",
   "pygments_lexer": "ipython3",
   "version": "3.8.5"
  }
 },
 "nbformat": 4,
 "nbformat_minor": 0
}
