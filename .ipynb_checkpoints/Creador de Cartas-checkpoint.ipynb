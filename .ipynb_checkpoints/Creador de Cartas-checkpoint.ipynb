{
 "cells": [
  {
   "cell_type": "markdown",
   "id": "victorian-password",
   "metadata": {},
   "source": [
    "# Creador interactivo de cartas\n",
    "\n",
    "\n",
    "**Carlos Isaac Zainea**   \n",
    "*Codificación: Nivel Avanzado*   \n",
    "*Universidad Externado de Colombia*   \n",
    "2021-1"
   ]
  },
  {
   "cell_type": "markdown",
   "id": "plain-manitoba",
   "metadata": {},
   "source": [
    "El siguiente cuaderno tiene algunas instrucciones que le permitiran crear un módulo interactivo para escribir cartas, el objetivo es repasar lo leido en los cuadernos [*listas y arreglos* y *funciones, módulos y paquetes*](https://izainea.github.io/codificacionabogados/#photos). No se preocupe si no termina de realizar la actividad, verá que durante la clase responderemos todas las preguntas que surjan después de realizar este módulo. No olvide que tiene disponible el canal de telegram para que fijemos tutorías o sesiones adicionales.\n",
    "\n",
    "Recomiendo ver los siguientes tutoriales hermosos de python para resolver preguntas rápidas:\n",
    "\n",
    "1. [w3Schools](https://www.w3schools.com/python/)\n",
    "2. [Learn Python](https://www.learnpython.org/es/)\n",
    "\n",
    "Siga las siguientes instrucciones:"
   ]
  },
  {
   "cell_type": "markdown",
   "id": "monthly-design",
   "metadata": {},
   "source": [
    "1. Definiremos una función que permita crear una carta:\n",
    "\n",
    "    * Iniciamos con identificar la estructura de una carta, el siguiente dibujo puede ayudar:   \n",
    "    \n",
    "    <p><img src=\"img/carta.jpg\" style=\"width:350px\"></p>\n",
    "    \n",
    "    * El diagrama anterior nos permite tener una idea de la estructura de nuestra función, sobre los diferentes argumentos posibles, que son todos los mencionados en el dibujo,  permitiremos que el usuario tenga la posibilidad de escoger de una lista los siguientes:   \n",
    "        \n",
    "        > * Lugar (Solo permitiremos Bogotá D.C. o Medellín, Antioquia) \n",
    "        > * Tratamiento  \n",
    "        > * Saludo\n",
    "        > * Despedida\n",
    "        > * Firma (Asumimos que hay dos socios, el Ingeniero Pepito Perez y el Abogado Carlos Rodriguez)         \n",
    "     \n",
    "       Aquí para cada argumento debemos crear una lista o un diccionario con las diferentes opciones que el creador de la carta podrá escoger, las siguientes variables le pueden servir:"
   ]
  },
  {
   "cell_type": "code",
   "execution_count": 3,
   "id": "noble-tactics",
   "metadata": {},
   "outputs": [],
   "source": [
    "Lugar= [\"Bogotá D.C.\",\"Medellín, Antioquia\"]\n",
    "Tratamiento={\"Señor\":\"Sr.\",\"Señora\":\"Sra.\",\"Doctora\":\"Dra.\",\"Doctor\":\"Dr.\"}\n",
    "Saludo=[\"Distinguida Señora\", \"Estimado Señor\", \"Cordial Saludo\",\"Estimados Señores\" ]\n",
    "Despedida=[\"Atentamente,\", \"Cordialmente,\",\"Respetuosamente,\"]\n",
    "Firma={\"Ingeniero\":\"Pepito Perez \\nIngeniero\",\"Doctor\":\"Carlos Rodriguez \\nAbogado en Medicina\"}"
   ]
  },
  {
   "cell_type": "markdown",
   "id": "closed-tragedy",
   "metadata": {},
   "source": [
    "* Los demas textos serán proporcionados por el usuario, por lo tanto no los definiremos aún, en la siguiente celda definimos la función que crea la carta:"
   ]
  },
  {
   "cell_type": "code",
   "execution_count": 47,
   "id": "scheduled-requirement",
   "metadata": {},
   "outputs": [],
   "source": [
    "def carta(lugar, fecha, tratamiento, destinatario, cargo, empresa, saludo, cuerpo, despedida, firma):\n",
    "    fecha=str(fecha)#cambiamos el tipo de dato de la fecha porque la necesitamos como cadena de texto.\n",
    "    print(\"\\n\\n\\n\")\n",
    "    print(lugar +\", \"+fecha)\n",
    "    print(\"\\n\\n\\n\")\n",
    "    print(tratamiento, destinatario)\n",
    "    print(cargo)\n",
    "    print(empresa)\n",
    "    print(\"\\n\\n\")\n",
    "    print(saludo)\n",
    "    print(\"\\n\")\n",
    "    print(cuerpo)\n",
    "    print(\"\\n\")\n",
    "    print(despedida)\n",
    "    print(\"\\n\\n\\n\")\n",
    "    print(firma)\n",
    "    return"
   ]
  },
  {
   "cell_type": "markdown",
   "id": "defensive-astronomy",
   "metadata": {},
   "source": [
    "Probemos la función:"
   ]
  },
  {
   "cell_type": "code",
   "execution_count": 15,
   "id": "provincial-cooper",
   "metadata": {},
   "outputs": [
    {
     "name": "stdout",
     "output_type": "stream",
     "text": [
      "Bogotá D.C., 2 de Julio de 2020\n",
      "\n",
      "\n",
      "\n",
      "\n",
      "Sr. Juan Perez\n",
      "Docente\n",
      "Universidad Externado de Colombia\n",
      "\n",
      "\n",
      "\n",
      "Distinguida Señora\n",
      "\n",
      "\n",
      "Le envío una carta corta\n",
      "\n",
      "\n",
      "Atentamente,\n",
      "\n",
      "\n",
      "\n",
      "\n",
      "Pepito Perez \n",
      "Ingeniero\n"
     ]
    }
   ],
   "source": [
    "carta(Lugar[0],\"2 de Julio de 2020\",Tratamiento[\"Señor\"],\"Juan Perez\", \"Docente\",\"Universidad Externado de Colombia\",\n",
    "      Saludo[0],\"Le envío una carta corta\", Despedida[0],Firma[\"Ingeniero\"])"
   ]
  },
  {
   "cell_type": "markdown",
   "id": "liked-electron",
   "metadata": {},
   "source": [
    "***Ejercicio.*** Responda:\n",
    "\n",
    "* ¿Que problemas tiene esta carta?\n",
    "* Describa que significa `Lugar[0]`, `Saludo[0]` y `Despedida[0]` ¿Puede arreglar la carta?¿Cómo?\n",
    "* El que debe firmar es el Abogado ¿Como arregla la línea anterior?\n",
    "* Cuál es el error en la siguiente línea:\n",
    "\n",
    "```Python\n",
    "carta(Lugar[0],\"2 de Julio de 2020\",Tratamiento[\"Señor\"],\"Juan Perez\", \"Docente\",\"Universidad Externado de Colombia\",Saludo[0],\"Le envío una carta corta\", Despedida[0])\n",
    "```"
   ]
  },
  {
   "cell_type": "markdown",
   "id": "considered-inspection",
   "metadata": {},
   "source": [
    "El anterior ejercicio, aunque imprime una carta aceptable, hace que los argumentos sean difíciles de ingresar, usaremos el paquete [`ipywidgets`](https://ipywidgets.readthedocs.io/en/latest/index.html) para crear módulos interactivos. En este caso usaremos cuatro tipos de widgets:\n",
    "\n",
    "1. [`widgets.Dropdown`](https://ipywidgets.readthedocs.io/en/latest/examples/Widget%20List.html#Dropdown),\n",
    "2. [`widgets.Textarea`](https://ipywidgets.readthedocs.io/en/latest/examples/Widget%20List.html#Textarea),\n",
    "3. [`widgets.Text`](https://ipywidgets.readthedocs.io/en/latest/examples/Widget%20List.html#Text) y\n",
    "4. [`ẁidgets.DatePicker`](https://ipywidgets.readthedocs.io/en/latest/examples/Widget%20List.html#Date-picker)\n",
    "\n",
    "El siguiente código cargará las funciones necesarias para trabajar con estos widgets:"
   ]
  },
  {
   "cell_type": "code",
   "execution_count": 30,
   "id": "weighted-neutral",
   "metadata": {},
   "outputs": [],
   "source": [
    "import ipywidgets as widgets\n",
    "from ipywidgets import interact, Layout"
   ]
  },
  {
   "cell_type": "markdown",
   "id": "sporting-atlas",
   "metadata": {},
   "source": [
    "***Ejercicio.*** Trate de explicar el código de la celda anterior."
   ]
  },
  {
   "cell_type": "markdown",
   "id": "guilty-oriental",
   "metadata": {},
   "source": [
    "Con los paquetes cargados usaremos cada tipo de widget para hacer un módulo interactivo, iniciamos con el widget *Dropdown*.\n",
    "\n",
    "### widgets.Dropdown\n",
    "\n",
    "Se usa para crear listas desplegables, la sintáxis de esta función es:\n",
    "\n",
    "```Python\n",
    "widgets.Dropdown(\n",
    "    options=['1', '2', '3'], #Lista de opciones, puede ser un diccionario\n",
    "    value='2',# Valor escogido por defecto\n",
    "    description='Number:', #Texto que aparece al lado de la lista\n",
    ")\n",
    "```\n",
    "A continuación, por cada lista o diccionario armamos un widget:"
   ]
  },
  {
   "cell_type": "code",
   "execution_count": 12,
   "id": "common-aircraft",
   "metadata": {},
   "outputs": [
    {
     "data": {
      "application/vnd.jupyter.widget-view+json": {
       "model_id": "d4bf8bffb26b49c7951f690b42bdf514",
       "version_major": 2,
       "version_minor": 0
      },
      "text/plain": [
       "Dropdown(description='Lugar:', options=('Bogotá D.C.', 'Medellín, Antioquia'), value='Bogotá D.C.')"
      ]
     },
     "metadata": {},
     "output_type": "display_data"
    }
   ],
   "source": [
    "## Lugar \n",
    "lugar=widgets.Dropdown(\n",
    "    options=Lugar, #Lista de opciones, puede ser un diccionario\n",
    "    description='Lugar:', #Texto que aparece al lado de la lista\n",
    ")\n",
    "lugar"
   ]
  },
  {
   "cell_type": "markdown",
   "id": "compliant-concord",
   "metadata": {},
   "source": [
    "**Observación.** La línea 6 de la anterior celda hace referencia al llamado del widget que acabamos de crear, si no lo ponemos creamos el widget pero no lo podemos ver."
   ]
  },
  {
   "cell_type": "code",
   "execution_count": 14,
   "id": "cardiac-transportation",
   "metadata": {},
   "outputs": [
    {
     "data": {
      "application/vnd.jupyter.widget-view+json": {
       "model_id": "63df66718d64435a8fbc05fd3db7ea1c",
       "version_major": 2,
       "version_minor": 0
      },
      "text/plain": [
       "Dropdown(description='Tratamiento:', options={'Señor': 'Sr.', 'Señora': 'Sra.', 'Doctora': 'Dra.', 'Doctor': '…"
      ]
     },
     "metadata": {},
     "output_type": "display_data"
    }
   ],
   "source": [
    "## Tratamiento \n",
    "tratamiento=widgets.Dropdown(\n",
    "    options=Tratamiento, #Lista de opciones, puede ser un diccionario\n",
    "    description='Tratamiento:', #Texto que aparece al lado de la lista\n",
    ")\n",
    "tratamiento"
   ]
  },
  {
   "cell_type": "code",
   "execution_count": 16,
   "id": "egyptian-entrance",
   "metadata": {},
   "outputs": [
    {
     "data": {
      "application/vnd.jupyter.widget-view+json": {
       "model_id": "29c0e7b40998444baba3f9a3db8768a8",
       "version_major": 2,
       "version_minor": 0
      },
      "text/plain": [
       "Dropdown(description='Saludo:', options=('Distinguida Señora', 'Estimado Señor', 'Cordial Saludo', 'Estimados …"
      ]
     },
     "metadata": {},
     "output_type": "display_data"
    }
   ],
   "source": [
    "## Saludo \n",
    "saludo=widgets.Dropdown(\n",
    "    options=Saludo, #Lista de opciones, puede ser un diccionario\n",
    "    description='Saludo:', #Texto que aparece al lado de la lista\n",
    ")\n",
    "saludo"
   ]
  },
  {
   "cell_type": "code",
   "execution_count": 17,
   "id": "appropriate-revision",
   "metadata": {},
   "outputs": [
    {
     "data": {
      "application/vnd.jupyter.widget-view+json": {
       "model_id": "3856fec94f9740129d83c9469a5ad9f6",
       "version_major": 2,
       "version_minor": 0
      },
      "text/plain": [
       "Dropdown(description='Despedida:', options=('Atentamente,', 'Cordialmente,', 'Respetuosamente,'), value='Atent…"
      ]
     },
     "metadata": {},
     "output_type": "display_data"
    }
   ],
   "source": [
    "## Despedida \n",
    "despedida=widgets.Dropdown(\n",
    "    options=Despedida, #Lista de opciones, puede ser un diccionario\n",
    "    description='Despedida:', #Texto que aparece al lado de la lista\n",
    ")\n",
    "despedida"
   ]
  },
  {
   "cell_type": "code",
   "execution_count": 18,
   "id": "transsexual-customs",
   "metadata": {},
   "outputs": [
    {
     "data": {
      "application/vnd.jupyter.widget-view+json": {
       "model_id": "08d12bd0e78b4db4b3abf10628fe4f82",
       "version_major": 2,
       "version_minor": 0
      },
      "text/plain": [
       "Dropdown(description='Firma:', options={'Ingeniero': 'Pepito Perez \\nIngeniero', 'Doctor': 'Carlos Rodriguez \\…"
      ]
     },
     "metadata": {},
     "output_type": "display_data"
    }
   ],
   "source": [
    "## Firma \n",
    "firma=widgets.Dropdown(\n",
    "    options=Firma, #Lista de opciones, puede ser un diccionario\n",
    "    description='Firma:', #Texto que aparece al lado de la lista\n",
    ")\n",
    "firma"
   ]
  },
  {
   "cell_type": "markdown",
   "id": "small-sarah",
   "metadata": {},
   "source": [
    "**Ejercicio.** ¿Qué muestra el widget cuando las opciones son un diccionario?"
   ]
  },
  {
   "cell_type": "markdown",
   "id": "vanilla-sellers",
   "metadata": {},
   "source": [
    "### widgets.Text\n",
    "\n",
    "Lo utilizaremos para hacer referencia a textos cortos, la sintáxis es la siguiente:\n",
    "```Python\n",
    "widgets.Text(\n",
    "    value='Hello World',#Valor por defecto\n",
    "    placeholder='Type something',#Valor si no hay nada escrito\n",
    "    description='String:', #Texto que nomra al widget\n",
    ")\n",
    "```\n",
    "Utilizaremos este widget para los textos cortos:\n",
    "\n",
    "* destinatario\n",
    "* cargo\n",
    "* empresa"
   ]
  },
  {
   "cell_type": "code",
   "execution_count": 19,
   "id": "quarterly-equipment",
   "metadata": {},
   "outputs": [
    {
     "data": {
      "application/vnd.jupyter.widget-view+json": {
       "model_id": "2af76ea535234fd1a0a7f06702af31a6",
       "version_major": 2,
       "version_minor": 0
      },
      "text/plain": [
       "Text(value='', description='Dirigida a:', placeholder='Destinatario')"
      ]
     },
     "metadata": {},
     "output_type": "display_data"
    }
   ],
   "source": [
    "destinatario= widgets.Text(\n",
    "    value='',#Valor por defecto\n",
    "    placeholder='Destinatario',#Valor si no hay nada escrito\n",
    "    description='Dirigida a:', #Texto que nomra al widget\n",
    ")\n",
    "destinatario"
   ]
  },
  {
   "cell_type": "code",
   "execution_count": 22,
   "id": "peaceful-friend",
   "metadata": {},
   "outputs": [
    {
     "data": {
      "application/vnd.jupyter.widget-view+json": {
       "model_id": "aa30975f43294e6f85fce156a757139b",
       "version_major": 2,
       "version_minor": 0
      },
      "text/plain": [
       "Text(value='', description='Cargo:', placeholder='Escriba el cargo del destinatario')"
      ]
     },
     "metadata": {},
     "output_type": "display_data"
    }
   ],
   "source": [
    "cargo= widgets.Text(\n",
    "    value='',#Valor por defecto\n",
    "    placeholder='Escriba el cargo del destinatario',#Valor si no hay nada escrito\n",
    "    description='Cargo:', #Texto que nomra al widget\n",
    ")\n",
    "cargo"
   ]
  },
  {
   "cell_type": "code",
   "execution_count": 23,
   "id": "resistant-search",
   "metadata": {},
   "outputs": [
    {
     "data": {
      "application/vnd.jupyter.widget-view+json": {
       "model_id": "8af06d340eee45568080ba9ef9b3333e",
       "version_major": 2,
       "version_minor": 0
      },
      "text/plain": [
       "Text(value='', description='Empresa:', placeholder='Escriba la empresa del destinatario')"
      ]
     },
     "metadata": {},
     "output_type": "display_data"
    }
   ],
   "source": [
    "empresa= widgets.Text(\n",
    "    value='',#Valor por defecto\n",
    "    placeholder='Escriba la empresa del destinatario',#Valor si no hay nada escrito\n",
    "    description='Empresa:', #Texto que nomra al widget\n",
    ")\n",
    "empresa"
   ]
  },
  {
   "cell_type": "markdown",
   "id": "mexican-documentary",
   "metadata": {},
   "source": [
    "### widgets.TextArea\n",
    "\n",
    "Se utiliza para crear texto Ancho, podemos modificar el ancho y largo del área para escribir, su sintáxis es:\n",
    "\n",
    "```Python\n",
    "widgets.Textarea(\n",
    "    value='Hello World',#Valor por defecto\n",
    "    placeholder='Type something',#Valor si no hay nada escrito\n",
    "    description='String:', #Texto que nomra al widget\n",
    "    layout=Layout(width='300px',height='100px')#Alto y ancho,\n",
    ")\n",
    "```\n",
    "\n",
    "Lo usaremos para el cuerpo."
   ]
  },
  {
   "cell_type": "code",
   "execution_count": 41,
   "id": "steady-insert",
   "metadata": {},
   "outputs": [
    {
     "data": {
      "application/vnd.jupyter.widget-view+json": {
       "model_id": "d2ef616417cf40d7afde654db2969329",
       "version_major": 2,
       "version_minor": 0
      },
      "text/plain": [
       "Textarea(value='', description='Cuerpo:', layout=Layout(height='300px', width='500px'), placeholder='Cuerpo de…"
      ]
     },
     "metadata": {},
     "output_type": "display_data"
    }
   ],
   "source": [
    "## Cuerpo\n",
    "cuerpo=widgets.Textarea(\n",
    "    value='',#Valor por defecto\n",
    "    placeholder='Cuerpo del mensaje',#Valor si no hay nada escrito\n",
    "    description='Cuerpo:', #Texto que nomra al widget\n",
    "    layout=Layout(width='500px',height='300px')#Alto y ancho,\n",
    ")\n",
    "cuerpo"
   ]
  },
  {
   "cell_type": "markdown",
   "id": "split-sharp",
   "metadata": {},
   "source": [
    "### widgets.DatePicker\n",
    "\n",
    "Lo usaremos para seleccionar la fecha del mensaje.\n",
    "\n",
    "```Python\n",
    "widgets.DatePicker(\n",
    "    description='Pick a Date',#Texto al lado del widget\n",
    "    disabled=False\n",
    ")\n",
    "```"
   ]
  },
  {
   "cell_type": "code",
   "execution_count": 43,
   "id": "unlimited-sleeping",
   "metadata": {},
   "outputs": [
    {
     "data": {
      "application/vnd.jupyter.widget-view+json": {
       "model_id": "dcc3d8f027ea447d99452ddc5b6d92b5",
       "version_major": 2,
       "version_minor": 0
      },
      "text/plain": [
       "DatePicker(value=None, description='Fecha:')"
      ]
     },
     "metadata": {},
     "output_type": "display_data"
    }
   ],
   "source": [
    "fecha=widgets.DatePicker(\n",
    "    description='Fecha:',\n",
    "    disabled=False\n",
    ")\n",
    "fecha"
   ]
  },
  {
   "cell_type": "markdown",
   "id": "brazilian-configuration",
   "metadata": {},
   "source": [
    "## Módulo final\n",
    "\n",
    "Con cada widget creado, uso la función `interact` para crear mi módulo interactivo que crea cartas: "
   ]
  },
  {
   "cell_type": "code",
   "execution_count": 48,
   "id": "timely-wiring",
   "metadata": {},
   "outputs": [
    {
     "data": {
      "application/vnd.jupyter.widget-view+json": {
       "model_id": "8432202e322e49fd86156b4e248475b9",
       "version_major": 2,
       "version_minor": 0
      },
      "text/plain": [
       "interactive(children=(Dropdown(description='Lugar:', options=('Bogotá D.C.', 'Medellín, Antioquia'), value='Bo…"
      ]
     },
     "metadata": {},
     "output_type": "display_data"
    },
    {
     "data": {
      "text/plain": [
       "<function __main__.carta(lugar, fecha, tratamiento, destinatario, cargo, empresa, saludo, cuerpo, despedida, firma)>"
      ]
     },
     "execution_count": 48,
     "metadata": {},
     "output_type": "execute_result"
    }
   ],
   "source": [
    "interact(carta,lugar=lugar, fecha=fecha, tratamiento=tratamiento, destinatario=destinatario, cargo=cargo, \n",
    "         empresa=empresa, saludo=saludo, cuerpo=cuerpo, despedida=despedida, firma=firma)"
   ]
  },
  {
   "cell_type": "markdown",
   "id": "twelve-florist",
   "metadata": {},
   "source": [
    "Corrija este módulo interactivo y adaptelo a sus necesidades. Aproveche la fuerza de Python para hacer su vida más sencilla."
   ]
  }
 ],
 "metadata": {
  "kernelspec": {
   "display_name": "Python 3",
   "language": "python",
   "name": "python3"
  },
  "language_info": {
   "codemirror_mode": {
    "name": "ipython",
    "version": 3
   },
   "file_extension": ".py",
   "mimetype": "text/x-python",
   "name": "python",
   "nbconvert_exporter": "python",
   "pygments_lexer": "ipython3",
   "version": "3.8.5"
  }
 },
 "nbformat": 4,
 "nbformat_minor": 5
}
